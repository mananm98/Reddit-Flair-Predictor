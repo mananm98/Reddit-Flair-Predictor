{
  "nbformat": 4,
  "nbformat_minor": 0,
  "metadata": {
    "colab": {
      "name": "Part - 3 Building Flair Detector.ipynb",
      "provenance": [],
      "collapsed_sections": [
        "QFdadyGWkMIV",
        "BVP8GKXskitI",
        "GDhrTvZjk5LJ",
        "ud9Dy7TcleC9",
        "IMnHcBs5lhFv",
        "AKuReBoHmUjc",
        "PnuAkOLinU3I",
        "koXHKZkEmWXV"
      ],
      "toc_visible": true
    },
    "kernelspec": {
      "name": "python3",
      "display_name": "Python 3"
    },
    "accelerator": "GPU"
  },
  "cells": [
    {
      "cell_type": "code",
      "metadata": {
        "id": "G7HrzWHv0Xns",
        "colab_type": "code",
        "colab": {}
      },
      "source": [
        "import numpy as np\n",
        "import matplotlib.pyplot as plt\n",
        "import pandas as pd\n",
        "import re\n",
        "import nltk\n",
        "import seaborn as sns\n",
        "from sklearn.preprocessing import LabelEncoder, OneHotEncoder\n",
        "from sklearn.model_selection import train_test_split\n",
        "from sklearn.pipeline import Pipeline\n",
        "from sklearn.feature_extraction.text import TfidfVectorizer, CountVectorizer\n",
        "from sklearn.svm import LinearSVC\n",
        "from sklearn.naive_bayes import MultinomialNB\n",
        "from sklearn.linear_model import LogisticRegression\n",
        "from sklearn.ensemble import RandomForestClassifier\n",
        "from sklearn.model_selection import GridSearchCV\n",
        "from keras.preprocessing.text import Tokenizer\n",
        "from keras.preprocessing.sequence import pad_sequences\n",
        "from keras.layers import *\n",
        "from keras.optimizers import Adam\n",
        "from keras.models import Model\n",
        "from keras import backend as K\n",
        "from keras.engine.topology import Layer\n",
        "from keras import initializers, regularizers, constraints, optimizers, layers"
      ],
      "execution_count": 0,
      "outputs": []
    },
    {
      "cell_type": "code",
      "metadata": {
        "id": "4DSVINrXsKf6",
        "colab_type": "code",
        "colab": {
          "base_uri": "https://localhost:8080/",
          "height": 34
        },
        "outputId": "dd2ad406-e0d9-466f-9e78-94824708e374"
      },
      "source": [
        "\n",
        "from IPython.display import HTML\n",
        "HTML('''<script>\n",
        "code_show_err=false; \n",
        "function code_toggle_err() {\n",
        " if (code_show_err){\n",
        " $('div.output_stderr').hide();\n",
        " } else {\n",
        " $('div.output_stderr').show();\n",
        " }\n",
        " code_show_err = !code_show_err\n",
        "} \n",
        "$( document ).ready(code_toggle_err);\n",
        "</script>\n",
        "To toggle on/off output_stderr, click <a href=\"javascript:code_toggle_err()\">here</a>.''')"
      ],
      "execution_count": 3,
      "outputs": [
        {
          "output_type": "execute_result",
          "data": {
            "text/html": [
              "<script>\n",
              "code_show_err=false; \n",
              "function code_toggle_err() {\n",
              " if (code_show_err){\n",
              " $('div.output_stderr').hide();\n",
              " } else {\n",
              " $('div.output_stderr').show();\n",
              " }\n",
              " code_show_err = !code_show_err\n",
              "} \n",
              "$( document ).ready(code_toggle_err);\n",
              "</script>\n",
              "To toggle on/off output_stderr, click <a href=\"javascript:code_toggle_err()\">here</a>."
            ],
            "text/plain": [
              "<IPython.core.display.HTML object>"
            ]
          },
          "metadata": {
            "tags": []
          },
          "execution_count": 3
        }
      ]
    },
    {
      "cell_type": "code",
      "metadata": {
        "id": "RLoiaK4U0ssB",
        "colab_type": "code",
        "colab": {}
      },
      "source": [
        "# load Data\n",
        "data = pd.read_csv('/content/drive/My Drive/reddit-data-cleaned.csv')"
      ],
      "execution_count": 0,
      "outputs": []
    },
    {
      "cell_type": "code",
      "metadata": {
        "id": "OEylSp_l2k6-",
        "colab_type": "code",
        "outputId": "00fb0b26-0e1d-427c-f5f3-4c10437eb6db",
        "colab": {
          "base_uri": "https://localhost:8080/",
          "height": 289
        }
      },
      "source": [
        "data.head()"
      ],
      "execution_count": 60,
      "outputs": [
        {
          "output_type": "execute_result",
          "data": {
            "text/html": [
              "<div>\n",
              "<style scoped>\n",
              "    .dataframe tbody tr th:only-of-type {\n",
              "        vertical-align: middle;\n",
              "    }\n",
              "\n",
              "    .dataframe tbody tr th {\n",
              "        vertical-align: top;\n",
              "    }\n",
              "\n",
              "    .dataframe thead th {\n",
              "        text-align: right;\n",
              "    }\n",
              "</style>\n",
              "<table border=\"1\" class=\"dataframe\">\n",
              "  <thead>\n",
              "    <tr style=\"text-align: right;\">\n",
              "      <th></th>\n",
              "      <th>title</th>\n",
              "      <th>score</th>\n",
              "      <th>body</th>\n",
              "      <th>url</th>\n",
              "      <th>num_comments</th>\n",
              "      <th>comments</th>\n",
              "      <th>flair</th>\n",
              "      <th>id</th>\n",
              "    </tr>\n",
              "  </thead>\n",
              "  <tbody>\n",
              "    <tr>\n",
              "      <th>0</th>\n",
              "      <td>delhi govt source names cm arvind kejriwal dep...</td>\n",
              "      <td>302</td>\n",
              "      <td>NaN</td>\n",
              "      <td>ani status</td>\n",
              "      <td>30</td>\n",
              "      <td>beyond petty inclusion delhi government school...</td>\n",
              "      <td>Scheduled</td>\n",
              "      <td>f7ogd8</td>\n",
              "    </tr>\n",
              "    <tr>\n",
              "      <th>1</th>\n",
              "      <td>delhi ap singh advocate delhi gang rape convic...</td>\n",
              "      <td>17</td>\n",
              "      <td>NaN</td>\n",
              "      <td>ani status</td>\n",
              "      <td>22</td>\n",
              "      <td>hunch guy try expose loophole legal system nev...</td>\n",
              "      <td>Scheduled</td>\n",
              "      <td>flgvah</td>\n",
              "    </tr>\n",
              "    <tr>\n",
              "      <th>2</th>\n",
              "      <td>supreme court verdict sc st quota create polit...</td>\n",
              "      <td>106</td>\n",
              "      <td>NaN</td>\n",
              "      <td>scroll article supreme courts verdict sc st qu...</td>\n",
              "      <td>47</td>\n",
              "      <td>muslim reservation two distraction use indian ...</td>\n",
              "      <td>Scheduled</td>\n",
              "      <td>f1o839</td>\n",
              "    </tr>\n",
              "    <tr>\n",
              "      <th>3</th>\n",
              "      <td>entrance exam schedule may</td>\n",
              "      <td>9</td>\n",
              "      <td>clat ailet neet jee postpone two week would ab...</td>\n",
              "      <td>india comments fvcvo entrance exams scheduled may</td>\n",
              "      <td>3</td>\n",
              "      <td>bachega india tabhi toh padhega india gand mar...</td>\n",
              "      <td>Scheduled</td>\n",
              "      <td>fvcvo1</td>\n",
              "    </tr>\n",
              "    <tr>\n",
              "      <th>4</th>\n",
              "      <td>advisory schedule international mercial passen...</td>\n",
              "      <td>36</td>\n",
              "      <td>NaN</td>\n",
              "      <td>pib india status</td>\n",
              "      <td>4</td>\n",
              "      <td>oh boy chalo bhaisahab sabji ka dukaan main da...</td>\n",
              "      <td>Scheduled</td>\n",
              "      <td>fl8zf5</td>\n",
              "    </tr>\n",
              "  </tbody>\n",
              "</table>\n",
              "</div>"
            ],
            "text/plain": [
              "                                               title  score  ...      flair      id\n",
              "0  delhi govt source names cm arvind kejriwal dep...    302  ...  Scheduled  f7ogd8\n",
              "1  delhi ap singh advocate delhi gang rape convic...     17  ...  Scheduled  flgvah\n",
              "2  supreme court verdict sc st quota create polit...    106  ...  Scheduled  f1o839\n",
              "3                         entrance exam schedule may      9  ...  Scheduled  fvcvo1\n",
              "4  advisory schedule international mercial passen...     36  ...  Scheduled  fl8zf5\n",
              "\n",
              "[5 rows x 8 columns]"
            ]
          },
          "metadata": {
            "tags": []
          },
          "execution_count": 60
        }
      ]
    },
    {
      "cell_type": "markdown",
      "metadata": {
        "id": "fsVoYfNSijYu",
        "colab_type": "text"
      },
      "source": [
        "## **1. Bag of words Model on conventional ML algorithms**\n",
        "---\n",
        "- We cannot input text directly to machine learning models. We need to convert the text to a vector of numbers, this step is called **Feature extraction**\n",
        "  \n",
        "    \n",
        "- For this we are going to use B.O.W (Bag of words) model, It focuses only on the occurence of words. The sentence structure, context, order of words is lost in B.O.W model.\n",
        "\n",
        "\n",
        "- First we will convert each document in corpus to TF-IDF vector\n",
        "\n",
        "  \n",
        "- We will input these vectors to Machine Learning models like Naive-Bayes, Support-Vector-Machine, Logistic-Regression, Random-Forest \n",
        "\n"
      ]
    },
    {
      "cell_type": "markdown",
      "metadata": {
        "id": "gosbLEJ-i03f",
        "colab_type": "text"
      },
      "source": [
        "### **Preparing data for model**\n",
        "---\n",
        "\n",
        "- It is possible that some features from the dataset may perform better than others. For instance, Only using **Title** for our model may give better accuracy than using only **url**, or maybe a combination of such features might result in a better accuracy. \n",
        "\n",
        "  \n",
        "- this is hard to guess at the moment, so I plan to try out different combinations of inputs from the dataset to get the best accuracy:- Title, url, comments, (Title + url + comments), (Title + url) , etc.\n",
        "\n",
        "  \n",
        "- lets see which performs the best, we will use those features in our final model.\n"
      ]
    },
    {
      "cell_type": "code",
      "metadata": {
        "id": "f_RFjrcViiwq",
        "colab_type": "code",
        "colab": {}
      },
      "source": [
        "def prepare_data(columns):\n",
        "    # Prepares Train and test sets for models\n",
        "        \n",
        "    if len(columns) > 2:\n",
        "        df = data[columns].fillna(\"\")\n",
        "        columns.remove('flair')\n",
        "        X = df[columns].apply(lambda x : ' '.join(x),axis = 1)                     \n",
        "       \n",
        "    else :\n",
        "        df = data[columns].dropna()\n",
        "        X = df[columns[0]]\n",
        "        \n",
        "    X = X.values          # X - input\n",
        "    \n",
        "    le = LabelEncoder()\n",
        "    Y = le.fit_transform(df['flair'])    # Y - target_labels\n",
        "    \n",
        "    X_train, X_test, y_train, y_test = train_test_split(X, Y, test_size=0.15, random_state=42)   # ( 85 : 15 )\n",
        "    return (X_train, X_test, y_train, y_test)"
      ],
      "execution_count": 0,
      "outputs": []
    },
    {
      "cell_type": "markdown",
      "metadata": {
        "id": "QFdadyGWkMIV",
        "colab_type": "text"
      },
      "source": [
        "### **1.1 Title**"
      ]
    },
    {
      "cell_type": "code",
      "metadata": {
        "id": "n-_gyjAAiito",
        "colab_type": "code",
        "outputId": "d8b1193b-1277-4a2c-aaf2-29dfbbb0ee4c",
        "colab": {
          "base_uri": "https://localhost:8080/",
          "height": 85
        }
      },
      "source": [
        "# Extracting 'Title' from dataset\n",
        "(X_train, X_test, y_train, y_test) = prepare_data(['title','flair'])\n",
        "print(\"X_train shape  = \",X_train.shape)\n",
        "print(\"y_train shape  = \",y_train.shape)\n",
        "print(\"X_test shape  = \",X_test.shape)\n",
        "print(\"y_test shape  = \",y_test.shape)"
      ],
      "execution_count": 0,
      "outputs": [
        {
          "output_type": "stream",
          "text": [
            "X_train shape  =  (1892,)\n",
            "y_train shape  =  (1892,)\n",
            "X_test shape  =  (335,)\n",
            "y_test shape  =  (335,)\n"
          ],
          "name": "stdout"
        }
      ]
    },
    {
      "cell_type": "markdown",
      "metadata": {
        "id": "BVP8GKXskitI",
        "colab_type": "text"
      },
      "source": [
        "### Data is ready now we'll apply it to different classifiers\n",
        "---\n",
        "1. Linear SVC\n",
        "2. Naive - Bayes\n",
        "3. Logistic Regression\n",
        "4. Random Forest classifier"
      ]
    },
    {
      "cell_type": "code",
      "metadata": {
        "id": "8fenFYNOiiiw",
        "colab_type": "code",
        "outputId": "5c387b22-fc2d-4b65-8ae2-a1017cf8d59c",
        "colab": {
          "base_uri": "https://localhost:8080/",
          "height": 153
        }
      },
      "source": [
        "classifiers = [ ('LinearSVC',LinearSVC(loss='hinge',C=0.2)) , ('Naive - Bayes',MultinomialNB() ),('LogisticRegression' ,LogisticRegression(C = 0.9)) ,('Random Forest Classifier' ,RandomForestClassifier(n_estimators=100,max_depth=100)) ]\n",
        "for clf in classifiers:\n",
        "    \n",
        "    text_clf = Pipeline([('tfidf',TfidfVectorizer(ngram_range=(1,2))),        # tf-idf vectorisation\n",
        "                    (clf[0],clf[1])                                            # estimator\n",
        "                   ])\n",
        "    \n",
        "    text_clf.fit(X_train,y_train)\n",
        "    predicted =  text_clf.predict(X_test)\n",
        "    accuracy = np.sum(predicted == y_test)/len(y_test)\n",
        "    print(clf[0],'  ----->  ',accuracy,end = '\\n\\n')"
      ],
      "execution_count": 0,
      "outputs": [
        {
          "output_type": "stream",
          "text": [
            "LinearSVC   ----->   0.7194029850746269\n",
            "\n",
            "Naive - Bayes   ----->   0.7074626865671642\n",
            "\n",
            "LogisticRegression   ----->   0.746268656716418\n",
            "\n",
            "Random Forest Classifier   ----->   0.7134328358208956\n",
            "\n"
          ],
          "name": "stdout"
        }
      ]
    },
    {
      "cell_type": "markdown",
      "metadata": {
        "id": "GDhrTvZjk5LJ",
        "colab_type": "text"
      },
      "source": [
        "### **1.2 URL** "
      ]
    },
    {
      "cell_type": "code",
      "metadata": {
        "id": "AqjUYJd3iiZb",
        "colab_type": "code",
        "outputId": "02951045-0347-43e0-bc41-7886a06de2cf",
        "colab": {
          "base_uri": "https://localhost:8080/",
          "height": 85
        }
      },
      "source": [
        "# Extracting url column from dataset\n",
        "(X_train, X_test, y_train, y_test) = prepare_data(['url','flair'])\n",
        "print(\"X_train shape  = \",X_train.shape)\n",
        "print(\"y_train shape  = \",y_train.shape)\n",
        "print(\"X_test shape  = \",X_test.shape)\n",
        "print(\"y_test shape  = \",y_test.shape)"
      ],
      "execution_count": 0,
      "outputs": [
        {
          "output_type": "stream",
          "text": [
            "X_train shape  =  (1890,)\n",
            "y_train shape  =  (1890,)\n",
            "X_test shape  =  (334,)\n",
            "y_test shape  =  (334,)\n"
          ],
          "name": "stdout"
        }
      ]
    },
    {
      "cell_type": "code",
      "metadata": {
        "id": "daogzFoPiiOA",
        "colab_type": "code",
        "outputId": "71317f51-8b4e-485c-f193-4a07225e75f4",
        "colab": {
          "base_uri": "https://localhost:8080/",
          "height": 187
        }
      },
      "source": [
        "classifiers = [ ('LinearSVC',LinearSVC(loss='hinge',C=0.7)) , ('Naive - Bayes',MultinomialNB() ),('LogisticRegression' ,LogisticRegression(C = 25,solver='saga',penalty='l1',multi_class='multinomial')) ,('Random Forest Classifier' ,RandomForestClassifier(n_estimators=100,max_depth=100)) ]\n",
        "for clf in classifiers:\n",
        "    \n",
        "    text_clf = Pipeline([('tfidf',TfidfVectorizer(ngram_range=(1,2))),        \n",
        "                    (clf[0],clf[1])                                            \n",
        "                   ])\n",
        "    \n",
        "    text_clf.fit(X_train,y_train)\n",
        "    predicted =  text_clf.predict(X_test)\n",
        "    accuracy = np.sum(predicted == y_test)/len(y_test)\n",
        "    print(clf[0],'  ----->  ',accuracy,end = '\\n\\n')"
      ],
      "execution_count": 0,
      "outputs": [
        {
          "output_type": "stream",
          "text": [
            "LinearSVC   ----->   0.5269461077844312\n",
            "\n",
            "Naive - Bayes   ----->   0.4431137724550898\n",
            "\n"
          ],
          "name": "stdout"
        },
        {
          "output_type": "stream",
          "text": [
            "/usr/local/lib/python3.6/dist-packages/sklearn/linear_model/_sag.py:330: ConvergenceWarning: The max_iter was reached which means the coef_ did not converge\n",
            "  \"the coef_ did not converge\", ConvergenceWarning)\n"
          ],
          "name": "stderr"
        },
        {
          "output_type": "stream",
          "text": [
            "LogisticRegression   ----->   0.5239520958083832\n",
            "\n",
            "Random Forest Classifier   ----->   0.5\n",
            "\n"
          ],
          "name": "stdout"
        }
      ]
    },
    {
      "cell_type": "markdown",
      "metadata": {
        "id": "ud9Dy7TcleC9",
        "colab_type": "text"
      },
      "source": [
        "### **1.3 Comments**"
      ]
    },
    {
      "cell_type": "code",
      "metadata": {
        "id": "lGUvrfmflgaV",
        "colab_type": "code",
        "outputId": "dac06099-7b23-4a4f-8546-ec0fbbf88513",
        "colab": {
          "base_uri": "https://localhost:8080/",
          "height": 85
        }
      },
      "source": [
        "(X_train, X_test, y_train, y_test) = prepare_data(['comments','flair'])\n",
        "print(\"X_train shape  = \",X_train.shape)\n",
        "print(\"y_train shape  = \",y_train.shape)\n",
        "print(\"X_test shape  = \",X_test.shape)\n",
        "print(\"y_test shape  = \",y_test.shape)"
      ],
      "execution_count": 0,
      "outputs": [
        {
          "output_type": "stream",
          "text": [
            "X_train shape  =  (1706,)\n",
            "y_train shape  =  (1706,)\n",
            "X_test shape  =  (302,)\n",
            "y_test shape  =  (302,)\n"
          ],
          "name": "stdout"
        }
      ]
    },
    {
      "cell_type": "code",
      "metadata": {
        "id": "GwCy8srNlgHS",
        "colab_type": "code",
        "outputId": "efe8703d-b2b4-4755-9e4d-56b5969672dc",
        "colab": {
          "base_uri": "https://localhost:8080/",
          "height": 289
        }
      },
      "source": [
        "classifiers = [ ('LinearSVC',LinearSVC(loss='hinge',C=1)) , ('Naive - Bayes',MultinomialNB() ),('LogisticRegression' ,LogisticRegression(C = 10)) ,('Random Forest Classifier' ,RandomForestClassifier(n_estimators=100)) ]\n",
        "for clf in classifiers:\n",
        "    \n",
        "    text_clf = Pipeline([('tfidf',TfidfVectorizer(ngram_range=(1,2))),        \n",
        "                    (clf[0],clf[1])                                            \n",
        "                   ])\n",
        "    \n",
        "    text_clf.fit(X_train,y_train)\n",
        "    predicted =  text_clf.predict(X_test)\n",
        "    accuracy = np.sum(predicted == y_test)/len(y_test)\n",
        "    print(clf[0],'  ----->  ',accuracy,end = '\\n\\n')"
      ],
      "execution_count": 0,
      "outputs": [
        {
          "output_type": "stream",
          "text": [
            "LinearSVC   ----->   0.5132450331125827\n",
            "\n",
            "Naive - Bayes   ----->   0.4105960264900662\n",
            "\n"
          ],
          "name": "stdout"
        },
        {
          "output_type": "stream",
          "text": [
            "/usr/local/lib/python3.6/dist-packages/sklearn/linear_model/_logistic.py:940: ConvergenceWarning: lbfgs failed to converge (status=1):\n",
            "STOP: TOTAL NO. of ITERATIONS REACHED LIMIT.\n",
            "\n",
            "Increase the number of iterations (max_iter) or scale the data as shown in:\n",
            "    https://scikit-learn.org/stable/modules/preprocessing.html\n",
            "Please also refer to the documentation for alternative solver options:\n",
            "    https://scikit-learn.org/stable/modules/linear_model.html#logistic-regression\n",
            "  extra_warning_msg=_LOGISTIC_SOLVER_CONVERGENCE_MSG)\n"
          ],
          "name": "stderr"
        },
        {
          "output_type": "stream",
          "text": [
            "LogisticRegression   ----->   0.49337748344370863\n",
            "\n",
            "Random Forest Classifier   ----->   0.423841059602649\n",
            "\n"
          ],
          "name": "stdout"
        }
      ]
    },
    {
      "cell_type": "markdown",
      "metadata": {
        "id": "IMnHcBs5lhFv",
        "colab_type": "text"
      },
      "source": [
        "### **1.4 Title + url**"
      ]
    },
    {
      "cell_type": "code",
      "metadata": {
        "id": "RjlMDQXBmTy7",
        "colab_type": "code",
        "outputId": "febffe9e-5518-4c27-b366-dee5e9b8c20c",
        "colab": {
          "base_uri": "https://localhost:8080/",
          "height": 85
        }
      },
      "source": [
        "(X_train, X_test, y_train, y_test) = prepare_data(['title','url','flair'])\n",
        "print(\"X_train shape  = \",X_train.shape)\n",
        "print(\"y_train shape  = \",y_train.shape)\n",
        "print(\"X_test shape  = \",X_test.shape)\n",
        "print(\"y_test shape  = \",y_test.shape)"
      ],
      "execution_count": 0,
      "outputs": [
        {
          "output_type": "stream",
          "text": [
            "X_train shape  =  (1892,)\n",
            "y_train shape  =  (1892,)\n",
            "X_test shape  =  (335,)\n",
            "y_test shape  =  (335,)\n"
          ],
          "name": "stdout"
        }
      ]
    },
    {
      "cell_type": "code",
      "metadata": {
        "id": "NFJ3In98mThE",
        "colab_type": "code",
        "outputId": "5e23c5aa-1fc9-4996-bcb2-4f0d74fc3fb5",
        "colab": {
          "base_uri": "https://localhost:8080/",
          "height": 153
        }
      },
      "source": [
        "classifiers = [ ('LinearSVC',LinearSVC(loss='hinge',C=0.7)) , ('Naive - Bayes',MultinomialNB() ),('LogisticRegression' ,LogisticRegression(C = 0.9)) ,('Random Forest Classifier' ,RandomForestClassifier(n_estimators=100)) ]\n",
        "for clf in classifiers:\n",
        "    \n",
        "    text_clf = Pipeline([('tfidf',TfidfVectorizer(ngram_range=(1,2))),        \n",
        "                    (clf[0],clf[1])                                            \n",
        "                   ])\n",
        "    \n",
        "    text_clf.fit(X_train,y_train)\n",
        "    predicted =  text_clf.predict(X_test)\n",
        "    accuracy = np.sum(predicted == y_test)/len(y_test)\n",
        "    print(clf[0],'  ----->  ',accuracy,end = '\\n\\n')"
      ],
      "execution_count": 0,
      "outputs": [
        {
          "output_type": "stream",
          "text": [
            "LinearSVC   ----->   0.7283582089552239\n",
            "\n",
            "Naive - Bayes   ----->   0.6925373134328359\n",
            "\n",
            "LogisticRegression   ----->   0.7283582089552239\n",
            "\n",
            "Random Forest Classifier   ----->   0.7074626865671642\n",
            "\n"
          ],
          "name": "stdout"
        }
      ]
    },
    {
      "cell_type": "markdown",
      "metadata": {
        "id": "AKuReBoHmUjc",
        "colab_type": "text"
      },
      "source": [
        "### **1.5 Title + comments**"
      ]
    },
    {
      "cell_type": "code",
      "metadata": {
        "id": "So5hT1sUmVe8",
        "colab_type": "code",
        "outputId": "2649ae2a-ad1f-4e91-841d-fbf6ceec0157",
        "colab": {
          "base_uri": "https://localhost:8080/",
          "height": 85
        }
      },
      "source": [
        "(X_train, X_test, y_train, y_test) = prepare_data(['title','comments','flair'])\n",
        "print(\"X_train shape  = \",X_train.shape)\n",
        "print(\"y_train shape  = \",y_train.shape)\n",
        "print(\"X_test shape  = \",X_test.shape)\n",
        "print(\"y_test shape  = \",y_test.shape)"
      ],
      "execution_count": 0,
      "outputs": [
        {
          "output_type": "stream",
          "text": [
            "X_train shape  =  (1892,)\n",
            "y_train shape  =  (1892,)\n",
            "X_test shape  =  (335,)\n",
            "y_test shape  =  (335,)\n"
          ],
          "name": "stdout"
        }
      ]
    },
    {
      "cell_type": "code",
      "metadata": {
        "id": "SMRlPaffmV15",
        "colab_type": "code",
        "outputId": "517e4d75-8588-40a5-daca-23ccab31d93f",
        "colab": {
          "base_uri": "https://localhost:8080/",
          "height": 153
        }
      },
      "source": [
        "classifiers = [ ('LinearSVC',LinearSVC(loss='hinge',C=0.6)) , ('Naive - Bayes',MultinomialNB() ),('LogisticRegression' ,LogisticRegression(C = 9,max_iter = 150)) ,('Random Forest Classifier' ,RandomForestClassifier(n_estimators=100)) ]\n",
        "for clf in classifiers:\n",
        "    \n",
        "    text_clf = Pipeline([('tfidf',TfidfVectorizer(ngram_range=(1,2))),        \n",
        "                    (clf[0],clf[1])                                            \n",
        "                   ])\n",
        "    \n",
        "    text_clf.fit(X_train,y_train)\n",
        "    predicted =  text_clf.predict(X_test)\n",
        "    accuracy = np.sum(predicted == y_test)/len(y_test)\n",
        "    print(clf[0],'  ----->  ',accuracy,end = '\\n\\n')"
      ],
      "execution_count": 0,
      "outputs": [
        {
          "output_type": "stream",
          "text": [
            "LinearSVC   ----->   0.7432835820895523\n",
            "\n",
            "Naive - Bayes   ----->   0.5671641791044776\n",
            "\n",
            "LogisticRegression   ----->   0.7194029850746269\n",
            "\n",
            "Random Forest Classifier   ----->   0.7134328358208956\n",
            "\n"
          ],
          "name": "stdout"
        }
      ]
    },
    {
      "cell_type": "markdown",
      "metadata": {
        "id": "PnuAkOLinU3I",
        "colab_type": "text"
      },
      "source": [
        "### **1.6 Title + body**"
      ]
    },
    {
      "cell_type": "code",
      "metadata": {
        "id": "pxvKsET6nVp-",
        "colab_type": "code",
        "outputId": "26182970-6726-4208-f92f-6c36107ce639",
        "colab": {
          "base_uri": "https://localhost:8080/",
          "height": 85
        }
      },
      "source": [
        "(X_train, X_test, y_train, y_test) = prepare_data(['title','body','flair'])\n",
        "print(\"X_train shape  = \",X_train.shape)\n",
        "print(\"y_train shape  = \",y_train.shape)\n",
        "print(\"X_test shape  = \",X_test.shape)\n",
        "print(\"y_test shape  = \",y_test.shape)"
      ],
      "execution_count": 0,
      "outputs": [
        {
          "output_type": "stream",
          "text": [
            "X_train shape  =  (1892,)\n",
            "y_train shape  =  (1892,)\n",
            "X_test shape  =  (335,)\n",
            "y_test shape  =  (335,)\n"
          ],
          "name": "stdout"
        }
      ]
    },
    {
      "cell_type": "code",
      "metadata": {
        "id": "IxUjKI29nWGU",
        "colab_type": "code",
        "outputId": "b25f2630-9c4a-4edc-88e8-2fad3ea6bb57",
        "colab": {
          "base_uri": "https://localhost:8080/",
          "height": 153
        }
      },
      "source": [
        "classifiers = [ ('LinearSVC',LinearSVC(loss='hinge',C=0.7)) , ('Naive - Bayes',MultinomialNB() ),('LogisticRegression' ,LogisticRegression(C = 9,max_iter = 200)) ,('Random Forest Classifier' ,RandomForestClassifier(n_estimators=100)) ]\n",
        "for clf in classifiers:\n",
        "    \n",
        "    text_clf = Pipeline([('tfidf',TfidfVectorizer(ngram_range=(1,2))),        \n",
        "                    (clf[0],clf[1])                                            \n",
        "                   ])\n",
        "    \n",
        "    text_clf.fit(X_train,y_train)\n",
        "    predicted =  text_clf.predict(X_test)\n",
        "    accuracy = np.sum(predicted == y_test)/len(y_test)\n",
        "    print(clf[0],'  ----->  ',accuracy,end = '\\n\\n')"
      ],
      "execution_count": 0,
      "outputs": [
        {
          "output_type": "stream",
          "text": [
            "LinearSVC   ----->   0.8238805970149253\n",
            "\n",
            "Naive - Bayes   ----->   0.6716417910447762\n",
            "\n",
            "LogisticRegression   ----->   0.7970149253731343\n",
            "\n",
            "Random Forest Classifier   ----->   0.7611940298507462\n",
            "\n"
          ],
          "name": "stdout"
        }
      ]
    },
    {
      "cell_type": "markdown",
      "metadata": {
        "id": "koXHKZkEmWXV",
        "colab_type": "text"
      },
      "source": [
        "### **1.7 Title + comments + url**\n"
      ]
    },
    {
      "cell_type": "code",
      "metadata": {
        "id": "tKrWvk4WnUWu",
        "colab_type": "code",
        "outputId": "d0decdbe-eadb-4bcf-f65c-af21bcc1c4d9",
        "colab": {
          "base_uri": "https://localhost:8080/",
          "height": 85
        }
      },
      "source": [
        "(X_train, X_test, y_train, y_test) = prepare_data(['title','url','comments','flair'])\n",
        "print(\"X_train shape  = \",X_train.shape)\n",
        "print(\"y_train shape  = \",y_train.shape)\n",
        "print(\"X_test shape  = \",X_test.shape)\n",
        "print(\"y_test shape  = \",y_test.shape)"
      ],
      "execution_count": 0,
      "outputs": [
        {
          "output_type": "stream",
          "text": [
            "X_train shape  =  (1892,)\n",
            "y_train shape  =  (1892,)\n",
            "X_test shape  =  (335,)\n",
            "y_test shape  =  (335,)\n"
          ],
          "name": "stdout"
        }
      ]
    },
    {
      "cell_type": "code",
      "metadata": {
        "id": "fNUcG1lVnUAC",
        "colab_type": "code",
        "outputId": "b056ef93-02a1-4896-8370-3a6272138f2e",
        "colab": {
          "base_uri": "https://localhost:8080/",
          "height": 289
        }
      },
      "source": [
        "classifiers = [ ('LinearSVC',LinearSVC(loss='hinge',C=3)) , ('Naive - Bayes',MultinomialNB() ),('LogisticRegression' ,LogisticRegression(C = 9,max_iter = 150)) ,('Random Forest Classifier' ,RandomForestClassifier(n_estimators=100)) ]\n",
        "for clf in classifiers:\n",
        "    \n",
        "    text_clf = Pipeline([('tfidf',TfidfVectorizer(ngram_range=(1,2))),        \n",
        "                    (clf[0],clf[1])                                            \n",
        "                   ])\n",
        "    \n",
        "    text_clf.fit(X_train,y_train)\n",
        "    predicted =  text_clf.predict(X_test)\n",
        "    accuracy = np.sum(predicted == y_test)/len(y_test)\n",
        "    print(clf[0],'  ----->  ',accuracy,end = '\\n\\n')"
      ],
      "execution_count": 0,
      "outputs": [
        {
          "output_type": "stream",
          "text": [
            "LinearSVC   ----->   0.7761194029850746\n",
            "\n",
            "Naive - Bayes   ----->   0.5940298507462687\n",
            "\n"
          ],
          "name": "stdout"
        },
        {
          "output_type": "stream",
          "text": [
            "/usr/local/lib/python3.6/dist-packages/sklearn/linear_model/_logistic.py:940: ConvergenceWarning: lbfgs failed to converge (status=1):\n",
            "STOP: TOTAL NO. of ITERATIONS REACHED LIMIT.\n",
            "\n",
            "Increase the number of iterations (max_iter) or scale the data as shown in:\n",
            "    https://scikit-learn.org/stable/modules/preprocessing.html\n",
            "Please also refer to the documentation for alternative solver options:\n",
            "    https://scikit-learn.org/stable/modules/linear_model.html#logistic-regression\n",
            "  extra_warning_msg=_LOGISTIC_SOLVER_CONVERGENCE_MSG)\n"
          ],
          "name": "stderr"
        },
        {
          "output_type": "stream",
          "text": [
            "LogisticRegression   ----->   0.7343283582089553\n",
            "\n",
            "Random Forest Classifier   ----->   0.7134328358208956\n",
            "\n"
          ],
          "name": "stdout"
        }
      ]
    },
    {
      "cell_type": "markdown",
      "metadata": {
        "id": "GJ3bcnlxnWnj",
        "colab_type": "text"
      },
      "source": [
        "###  **1.8 Title + body + url**"
      ]
    },
    {
      "cell_type": "code",
      "metadata": {
        "id": "x5FeEtE7oIhd",
        "colab_type": "code",
        "outputId": "5a9172c2-5813-4c2a-e9b1-3406493f011d",
        "colab": {
          "base_uri": "https://localhost:8080/",
          "height": 85
        }
      },
      "source": [
        "(X_train, X_test, y_train, y_test) = prepare_data(['title','body','url','flair'])\n",
        "print(\"X_train shape  = \",X_train.shape)\n",
        "print(\"y_train shape  = \",y_train.shape)\n",
        "print(\"X_test shape  = \",X_test.shape)\n",
        "print(\"y_test shape  = \",y_test.shape)"
      ],
      "execution_count": 0,
      "outputs": [
        {
          "output_type": "stream",
          "text": [
            "X_train shape  =  (1892,)\n",
            "y_train shape  =  (1892,)\n",
            "X_test shape  =  (335,)\n",
            "y_test shape  =  (335,)\n"
          ],
          "name": "stdout"
        }
      ]
    },
    {
      "cell_type": "code",
      "metadata": {
        "id": "WahGxyEKoIMI",
        "colab_type": "code",
        "outputId": "683b3743-a321-4db7-a134-44be95413395",
        "colab": {
          "base_uri": "https://localhost:8080/",
          "height": 153
        }
      },
      "source": [
        "classifiers = [ ('LinearSVC',LinearSVC(loss='hinge',C=0.7)) , ('Naive - Bayes',MultinomialNB() ),('LogisticRegression' ,LogisticRegression(C = 9,max_iter = 200)) ,('Random Forest Classifier' ,RandomForestClassifier(n_estimators=100)) ]\n",
        "for clf in classifiers:\n",
        "    \n",
        "    text_clf = Pipeline([('tfidf',TfidfVectorizer(ngram_range=(1,2))),        \n",
        "                    (clf[0],clf[1])                                            \n",
        "                   ])\n",
        "    \n",
        "    text_clf.fit(X_train,y_train)\n",
        "    predicted =  text_clf.predict(X_test) \n",
        "    accuracy = np.sum(predicted == y_test)/len(y_test) # t = b = u\n",
        "    print(clf[0],'  ----->  ',accuracy,end = '\\n\\n')"
      ],
      "execution_count": 0,
      "outputs": [
        {
          "output_type": "stream",
          "text": [
            "LinearSVC   ----->   0.8238805970149253\n",
            "\n",
            "Naive - Bayes   ----->   0.6716417910447762\n",
            "\n",
            "LogisticRegression   ----->   0.7970149253731343\n",
            "\n",
            "Random Forest Classifier   ----->   0.7880597014925373\n",
            "\n"
          ],
          "name": "stdout"
        }
      ]
    },
    {
      "cell_type": "markdown",
      "metadata": {
        "id": "GzcoabkTphWX",
        "colab_type": "text"
      },
      "source": [
        "#### ***Models perform the best when we use features ( Title + Body + url )***\n",
        "- Now we will explore deep-learning approaches for text classification\n",
        "\n"
      ]
    },
    {
      "cell_type": "markdown",
      "metadata": {
        "id": "7M6GFFMCtRTW",
        "colab_type": "text"
      },
      "source": [
        "# ***2. Deep Learning Models***\n",
        "- We will be considering the following deep learning methods for text classification\n",
        " 1. CNN + Word Embeddings\n",
        " 2. LSTMs\n",
        " 3. Stacked LSTMS\n",
        " 4. Bidirectional LSTMs\n",
        " 5. Hybrid Model --> (CNN + LSTM)"
      ]
    },
    {
      "cell_type": "code",
      "metadata": {
        "id": "5_CAC5jEWO04",
        "colab_type": "code",
        "colab": {}
      },
      "source": [
        "# Creating embeddings dictionary\n",
        "embeddings_dict = {}\n",
        "with open('/content/drive/My Drive/glove.6B.50d.txt') as f: \n",
        "    for line in f:\n",
        "        word = line.split()[0]\n",
        "        embeddings_dict[word] = np.array(line.split()[1:],dtype = 'float')"
      ],
      "execution_count": 0,
      "outputs": []
    },
    {
      "cell_type": "code",
      "metadata": {
        "id": "65fmbv8B0sEC",
        "colab_type": "code",
        "colab": {}
      },
      "source": [
        "def create_data_for_model(max_len , vocab_size = 'None'):\n",
        "      (X_train, X_test, y_train, y_test) = prepare_data(['title','body','url','flair'])\n",
        "      tk = Tokenizer()\n",
        "      tk.fit_on_texts(X_train)\n",
        "      if vocab_size != 'None':\n",
        "        tk.word_index = {w:i for w,i in tk.word_index.items() if i <= vocab_size}\n",
        "      else:\n",
        "        vocab_size = len(tk.word_index)\n",
        "\n",
        "      # Train Data - X\n",
        "      encoded_train = tk.texts_to_sequences(X_train)\n",
        "      padded_train = pad_sequences(encoded_train,maxlen = max_len, padding = 'post' , truncating = 'post')\n",
        "\n",
        "      # Test Data  - X\n",
        "      encoded_test = tk.texts_to_sequences(X_test)\n",
        "      padded_test = pad_sequences(encoded_test,maxlen = max_len,padding = 'post', truncating = 'post')\n",
        "\n",
        "      # Train Data - Y\n",
        "      one_hot = OneHotEncoder()\n",
        "      y_train = y_train.reshape((-1,1))\n",
        "      y_train = one_hot.fit_transform(y_train).toarray()\n",
        "\n",
        "      # Create embeddings matrix\n",
        "      embeddings_matrix = np.zeros((vocab_size+1,50)) \n",
        "      for word,index in tk.word_index.items():\n",
        "        if embeddings_dict.get(word) is not None:\n",
        "          embeddings_matrix[index] = embeddings_dict[word]\n",
        "     \n",
        "      return (padded_train, y_train, padded_test, y_test, embeddings_matrix, vocab_size)\n",
        "\n",
        "def give_accuracy(model,x_test,y_test,name):\n",
        "    predicted = model.predict(padded_test)\n",
        "    predicted_labels = np.argmax(predicted,axis = 1)\n",
        "    accuracy = np.sum(predicted_labels == y_test)/len(y_test)\n",
        "    print(\"Accuracy of \" + str(name) + \" model ---> \", accuracy)\n"
      ],
      "execution_count": 0,
      "outputs": []
    },
    {
      "cell_type": "markdown",
      "metadata": {
        "id": "EPaLzvdJmSe0",
        "colab_type": "text"
      },
      "source": [
        "## ***2.1 CNN + Word Embeddings***\n",
        "- (**Yoav Goldberg**, in his primer on deep learning for nlp, 2015) , comments that CNNs are effective at Text Classification because of their capability to extract important features  (like tokens or sequence of tokens) regardless of their position in text.\n",
        "\n",
        "- He also comments, in text classification, the main idea is to learn words or a group of words that are good indicators of a topic, we do not necessarily care where they might appear in a document. Convolutions and pooling layers allow model to learn such local indicators invariant to their position.\n",
        "---\n",
        "1. For each training example, we will extract word embedding vectors (Glove vectors).\n",
        "2. we will feed this as input to CNN model, Our hope is that CNN model will learn some useful filters. A useful filter might be one , that has a similar embedding vector to the vector of a distinguishing word.\n",
        "    \n",
        "      \n",
        "![alt text](https://github.com/mananm98/Reddit-Flair-Predictor/blob/master/images/cnn.JPG?raw=true)\n",
        "\n",
        "  \n",
        "    \n",
        "      \n",
        "- In the image above, the filter has very similar weights to the bigram --> cat sitting. Therefore it gives a high activation.\n",
        "\n",
        "- In the next sentence it also give a high activation because the cosine distance between the vectors cat-dog and sitting-resting is very small. This is the reason to use word embeddings, they provide us with similar representations for similar words.\n",
        "\n",
        "- So, the result is that we have learnt a filter that will give high activation whenever it comes across a bigram that means \"animal resting\". Such filters help in extracting general meanings from text \n",
        "\n",
        "- They can be used by the model to understand what our text conveys,  and consequently give correct output\n",
        "\n",
        "\n",
        "\n"
      ]
    },
    {
      "cell_type": "code",
      "metadata": {
        "id": "2Wdm5y11JTw7",
        "colab_type": "code",
        "colab": {}
      },
      "source": [
        "(padded_train, y_train, padded_test, y_test, embeddings_matrix, vocab_len) = create_data_for_model(max_len = 300)\n",
        "def create_cnn_model(max_len, vocab_size):  \n",
        "  pooling_layers = []\n",
        "  inp = Input((max_len,))\n",
        "  embedding_layer = Embedding(input_dim= vocab_size + 1,output_dim=50,weights = [embeddings_matrix],trainable = True)(inp)\n",
        "  dp = Dropout(0.3)(embedding_layer)\n",
        "\n",
        "  x1 = Conv1D(filters=36,kernel_size=1,activation = 'relu')(dp)\n",
        "  pooling_layers.append(MaxPool1D(pool_size=max_len ,stride = 1)(x1))\n",
        "\n",
        "  x2 = Conv1D(filters=36,kernel_size=2,activation = 'relu')(dp)\n",
        "  pooling_layers.append(MaxPool1D(pool_size=max_len - 1,stride = 1)(x2))\n",
        "\n",
        "  x3 = Conv1D(filters=36,kernel_size=3,activation = 'relu')(dp)\n",
        "  pooling_layers.append(MaxPool1D(pool_size=max_len - 2,stride = 1)(x3))\n",
        "\n",
        "  x4 = Conv1D(filters=36,kernel_size=4,activation = 'relu')(dp)\n",
        "  pooling_layers.append(MaxPool1D(pool_size=max_len - 3,stride = 1)(x4))\n",
        "\n",
        "  x5 = Conv1D(filters=36,kernel_size=5,activation = 'relu')(dp)\n",
        "  pooling_layers.append(MaxPool1D(pool_size=max_len - 4,stride = 1)(x5))\n",
        "\n",
        "  z = Concatenate(axis = 1)(pooling_layers)\n",
        "  z = Flatten()(z)\n",
        "  z = Dropout(0.2)(z)\n",
        "\n",
        "  \n",
        "  #y = Dense(16,activation = 'relu')(z)\n",
        "\n",
        "  out = Dense(11,activation = 'softmax')(z)\n",
        "\n",
        "\n",
        "  model = Model(inputs = inp,outputs = out)\n",
        "  model.compile(loss='categorical_crossentropy', optimizer='adam', metrics=['accuracy'])\n",
        "  model.summary()\n",
        "  return model"
      ],
      "execution_count": 0,
      "outputs": []
    },
    {
      "cell_type": "code",
      "metadata": {
        "id": "pjKJ_YArwqHV",
        "colab_type": "code",
        "outputId": "d4a43733-13de-4ae9-e542-34c88aad8e10",
        "colab": {
          "base_uri": "https://localhost:8080/",
          "height": 935
        }
      },
      "source": [
        "cnn_model = create_cnn_model(max_len = 300,vocab_size = vocab_len)"
      ],
      "execution_count": 44,
      "outputs": [
        {
          "output_type": "stream",
          "text": [
            "Model: \"model_8\"\n",
            "__________________________________________________________________________________________________\n",
            "Layer (type)                    Output Shape         Param #     Connected to                     \n",
            "==================================================================================================\n",
            "input_9 (InputLayer)            (None, 300)          0                                            \n",
            "__________________________________________________________________________________________________\n",
            "embedding_9 (Embedding)         (None, 300, 50)      1018350     input_9[0][0]                    \n",
            "__________________________________________________________________________________________________\n",
            "dropout_16 (Dropout)            (None, 300, 50)      0           embedding_9[0][0]                \n",
            "__________________________________________________________________________________________________\n",
            "conv1d_39 (Conv1D)              (None, 300, 36)      1836        dropout_16[0][0]                 \n",
            "__________________________________________________________________________________________________\n",
            "conv1d_40 (Conv1D)              (None, 299, 36)      3636        dropout_16[0][0]                 \n",
            "__________________________________________________________________________________________________\n",
            "conv1d_41 (Conv1D)              (None, 298, 36)      5436        dropout_16[0][0]                 \n",
            "__________________________________________________________________________________________________\n",
            "conv1d_42 (Conv1D)              (None, 297, 36)      7236        dropout_16[0][0]                 \n",
            "__________________________________________________________________________________________________\n",
            "conv1d_43 (Conv1D)              (None, 296, 36)      9036        dropout_16[0][0]                 \n",
            "__________________________________________________________________________________________________\n",
            "max_pooling1d_39 (MaxPooling1D) (None, 1, 36)        0           conv1d_39[0][0]                  \n",
            "__________________________________________________________________________________________________\n",
            "max_pooling1d_40 (MaxPooling1D) (None, 1, 36)        0           conv1d_40[0][0]                  \n",
            "__________________________________________________________________________________________________\n",
            "max_pooling1d_41 (MaxPooling1D) (None, 1, 36)        0           conv1d_41[0][0]                  \n",
            "__________________________________________________________________________________________________\n",
            "max_pooling1d_42 (MaxPooling1D) (None, 1, 36)        0           conv1d_42[0][0]                  \n",
            "__________________________________________________________________________________________________\n",
            "max_pooling1d_43 (MaxPooling1D) (None, 1, 36)        0           conv1d_43[0][0]                  \n",
            "__________________________________________________________________________________________________\n",
            "concatenate_9 (Concatenate)     (None, 5, 36)        0           max_pooling1d_39[0][0]           \n",
            "                                                                 max_pooling1d_40[0][0]           \n",
            "                                                                 max_pooling1d_41[0][0]           \n",
            "                                                                 max_pooling1d_42[0][0]           \n",
            "                                                                 max_pooling1d_43[0][0]           \n",
            "__________________________________________________________________________________________________\n",
            "flatten_9 (Flatten)             (None, 180)          0           concatenate_9[0][0]              \n",
            "__________________________________________________________________________________________________\n",
            "dropout_17 (Dropout)            (None, 180)          0           flatten_9[0][0]                  \n",
            "__________________________________________________________________________________________________\n",
            "dense_10 (Dense)                (None, 11)           1991        dropout_17[0][0]                 \n",
            "==================================================================================================\n",
            "Total params: 1,047,521\n",
            "Trainable params: 1,047,521\n",
            "Non-trainable params: 0\n",
            "__________________________________________________________________________________________________\n"
          ],
          "name": "stdout"
        },
        {
          "output_type": "stream",
          "text": [
            "/usr/local/lib/python3.6/dist-packages/ipykernel_launcher.py:9: UserWarning: Update your `MaxPooling1D` call to the Keras 2 API: `MaxPooling1D(pool_size=300, strides=1)`\n",
            "  if __name__ == '__main__':\n",
            "/usr/local/lib/python3.6/dist-packages/ipykernel_launcher.py:12: UserWarning: Update your `MaxPooling1D` call to the Keras 2 API: `MaxPooling1D(pool_size=299, strides=1)`\n",
            "  if sys.path[0] == '':\n",
            "/usr/local/lib/python3.6/dist-packages/ipykernel_launcher.py:15: UserWarning: Update your `MaxPooling1D` call to the Keras 2 API: `MaxPooling1D(pool_size=298, strides=1)`\n",
            "  from ipykernel import kernelapp as app\n",
            "/usr/local/lib/python3.6/dist-packages/ipykernel_launcher.py:18: UserWarning: Update your `MaxPooling1D` call to the Keras 2 API: `MaxPooling1D(pool_size=297, strides=1)`\n",
            "/usr/local/lib/python3.6/dist-packages/ipykernel_launcher.py:21: UserWarning: Update your `MaxPooling1D` call to the Keras 2 API: `MaxPooling1D(pool_size=296, strides=1)`\n"
          ],
          "name": "stderr"
        }
      ]
    },
    {
      "cell_type": "code",
      "metadata": {
        "id": "IAHUKETLg-S4",
        "colab_type": "code",
        "colab": {
          "base_uri": "https://localhost:8080/",
          "height": 1000
        },
        "outputId": "a7dd3f11-dd4d-4074-8984-7c65b2a3c587"
      },
      "source": [
        "history = cnn_model.fit(padded_train,y_train, epochs = 65, batch_size = 32, validation_split = 0.15)"
      ],
      "execution_count": 45,
      "outputs": [
        {
          "output_type": "stream",
          "text": [
            "/usr/local/lib/python3.6/dist-packages/tensorflow/python/framework/indexed_slices.py:434: UserWarning: Converting sparse IndexedSlices to a dense Tensor of unknown shape. This may consume a large amount of memory.\n",
            "  \"Converting sparse IndexedSlices to a dense Tensor of unknown shape. \"\n"
          ],
          "name": "stderr"
        },
        {
          "output_type": "stream",
          "text": [
            "Train on 1608 samples, validate on 284 samples\n",
            "Epoch 1/65\n",
            "1608/1608 [==============================] - 1s 568us/step - loss: 2.9903 - accuracy: 0.1573 - val_loss: 1.9837 - val_accuracy: 0.3521\n",
            "Epoch 2/65\n",
            "1608/1608 [==============================] - 1s 320us/step - loss: 2.3075 - accuracy: 0.2730 - val_loss: 1.6130 - val_accuracy: 0.4859\n",
            "Epoch 3/65\n",
            "1608/1608 [==============================] - 1s 331us/step - loss: 1.9138 - accuracy: 0.3750 - val_loss: 1.3694 - val_accuracy: 0.6021\n",
            "Epoch 4/65\n",
            "1608/1608 [==============================] - 1s 330us/step - loss: 1.6280 - accuracy: 0.4925 - val_loss: 1.0910 - val_accuracy: 0.6972\n",
            "Epoch 5/65\n",
            "1608/1608 [==============================] - 1s 325us/step - loss: 1.3683 - accuracy: 0.5647 - val_loss: 0.9278 - val_accuracy: 0.7359\n",
            "Epoch 6/65\n",
            "1608/1608 [==============================] - 1s 324us/step - loss: 1.1449 - accuracy: 0.6418 - val_loss: 0.8603 - val_accuracy: 0.7394\n",
            "Epoch 7/65\n",
            "1608/1608 [==============================] - 0s 308us/step - loss: 0.9857 - accuracy: 0.6891 - val_loss: 0.7696 - val_accuracy: 0.7606\n",
            "Epoch 8/65\n",
            "1608/1608 [==============================] - 1s 317us/step - loss: 0.9443 - accuracy: 0.7040 - val_loss: 0.7231 - val_accuracy: 0.7746\n",
            "Epoch 9/65\n",
            "1608/1608 [==============================] - 0s 310us/step - loss: 0.8165 - accuracy: 0.7488 - val_loss: 0.6899 - val_accuracy: 0.7852\n",
            "Epoch 10/65\n",
            "1608/1608 [==============================] - 1s 317us/step - loss: 0.7678 - accuracy: 0.7624 - val_loss: 0.6780 - val_accuracy: 0.7887\n",
            "Epoch 11/65\n",
            "1608/1608 [==============================] - 1s 314us/step - loss: 0.6971 - accuracy: 0.7792 - val_loss: 0.6506 - val_accuracy: 0.8028\n",
            "Epoch 12/65\n",
            "1608/1608 [==============================] - 1s 318us/step - loss: 0.6516 - accuracy: 0.8047 - val_loss: 0.6553 - val_accuracy: 0.8099\n",
            "Epoch 13/65\n",
            "1608/1608 [==============================] - 0s 310us/step - loss: 0.5868 - accuracy: 0.8197 - val_loss: 0.6467 - val_accuracy: 0.8099\n",
            "Epoch 14/65\n",
            "1608/1608 [==============================] - 1s 314us/step - loss: 0.5469 - accuracy: 0.8228 - val_loss: 0.6378 - val_accuracy: 0.8099\n",
            "Epoch 15/65\n",
            "1608/1608 [==============================] - 0s 310us/step - loss: 0.5293 - accuracy: 0.8364 - val_loss: 0.6332 - val_accuracy: 0.8239\n",
            "Epoch 16/65\n",
            "1608/1608 [==============================] - 1s 315us/step - loss: 0.5293 - accuracy: 0.8364 - val_loss: 0.6358 - val_accuracy: 0.8204\n",
            "Epoch 17/65\n",
            "1608/1608 [==============================] - 1s 311us/step - loss: 0.4805 - accuracy: 0.8588 - val_loss: 0.6543 - val_accuracy: 0.8169\n",
            "Epoch 18/65\n",
            "1608/1608 [==============================] - 1s 318us/step - loss: 0.4451 - accuracy: 0.8613 - val_loss: 0.6568 - val_accuracy: 0.8134\n",
            "Epoch 19/65\n",
            "1608/1608 [==============================] - 1s 324us/step - loss: 0.4450 - accuracy: 0.8657 - val_loss: 0.6432 - val_accuracy: 0.8239\n",
            "Epoch 20/65\n",
            "1608/1608 [==============================] - 1s 319us/step - loss: 0.4094 - accuracy: 0.8756 - val_loss: 0.6458 - val_accuracy: 0.8134\n",
            "Epoch 21/65\n",
            "1608/1608 [==============================] - 1s 312us/step - loss: 0.3853 - accuracy: 0.8856 - val_loss: 0.6487 - val_accuracy: 0.8063\n",
            "Epoch 22/65\n",
            "1608/1608 [==============================] - 1s 313us/step - loss: 0.3574 - accuracy: 0.8918 - val_loss: 0.6424 - val_accuracy: 0.8099\n",
            "Epoch 23/65\n",
            "1608/1608 [==============================] - 1s 316us/step - loss: 0.3451 - accuracy: 0.8961 - val_loss: 0.6431 - val_accuracy: 0.8275\n",
            "Epoch 24/65\n",
            "1608/1608 [==============================] - 1s 315us/step - loss: 0.3238 - accuracy: 0.9005 - val_loss: 0.6553 - val_accuracy: 0.8275\n",
            "Epoch 25/65\n",
            "1608/1608 [==============================] - 1s 317us/step - loss: 0.3263 - accuracy: 0.9036 - val_loss: 0.6656 - val_accuracy: 0.8169\n",
            "Epoch 26/65\n",
            "1608/1608 [==============================] - 1s 324us/step - loss: 0.2816 - accuracy: 0.9179 - val_loss: 0.6517 - val_accuracy: 0.8239\n",
            "Epoch 27/65\n",
            "1608/1608 [==============================] - 0s 308us/step - loss: 0.2853 - accuracy: 0.9179 - val_loss: 0.6576 - val_accuracy: 0.8169\n",
            "Epoch 28/65\n",
            "1608/1608 [==============================] - 1s 320us/step - loss: 0.2663 - accuracy: 0.9179 - val_loss: 0.6537 - val_accuracy: 0.8204\n",
            "Epoch 29/65\n",
            "1608/1608 [==============================] - 1s 311us/step - loss: 0.2558 - accuracy: 0.9335 - val_loss: 0.6507 - val_accuracy: 0.8275\n",
            "Epoch 30/65\n",
            "1608/1608 [==============================] - 1s 317us/step - loss: 0.2446 - accuracy: 0.9266 - val_loss: 0.6703 - val_accuracy: 0.8134\n",
            "Epoch 31/65\n",
            "1608/1608 [==============================] - 0s 311us/step - loss: 0.2262 - accuracy: 0.9297 - val_loss: 0.6603 - val_accuracy: 0.8169\n",
            "Epoch 32/65\n",
            "1608/1608 [==============================] - 1s 314us/step - loss: 0.2218 - accuracy: 0.9378 - val_loss: 0.6638 - val_accuracy: 0.8204\n",
            "Epoch 33/65\n",
            "1608/1608 [==============================] - 1s 314us/step - loss: 0.2148 - accuracy: 0.9372 - val_loss: 0.6466 - val_accuracy: 0.8204\n",
            "Epoch 34/65\n",
            "1608/1608 [==============================] - 1s 311us/step - loss: 0.2023 - accuracy: 0.9403 - val_loss: 0.6415 - val_accuracy: 0.8275\n",
            "Epoch 35/65\n",
            "1608/1608 [==============================] - 0s 306us/step - loss: 0.1885 - accuracy: 0.9403 - val_loss: 0.6569 - val_accuracy: 0.8275\n",
            "Epoch 36/65\n",
            "1608/1608 [==============================] - 1s 312us/step - loss: 0.1748 - accuracy: 0.9496 - val_loss: 0.6641 - val_accuracy: 0.8415\n",
            "Epoch 37/65\n",
            "1608/1608 [==============================] - 1s 316us/step - loss: 0.1716 - accuracy: 0.9515 - val_loss: 0.6737 - val_accuracy: 0.8275\n",
            "Epoch 38/65\n",
            "1608/1608 [==============================] - 1s 317us/step - loss: 0.1706 - accuracy: 0.9540 - val_loss: 0.6727 - val_accuracy: 0.8451\n",
            "Epoch 39/65\n",
            "1608/1608 [==============================] - 1s 318us/step - loss: 0.1600 - accuracy: 0.9546 - val_loss: 0.6941 - val_accuracy: 0.8310\n",
            "Epoch 40/65\n",
            "1608/1608 [==============================] - 0s 308us/step - loss: 0.1702 - accuracy: 0.9540 - val_loss: 0.7088 - val_accuracy: 0.8380\n",
            "Epoch 41/65\n",
            "1608/1608 [==============================] - 1s 311us/step - loss: 0.1629 - accuracy: 0.9540 - val_loss: 0.7021 - val_accuracy: 0.8345\n",
            "Epoch 42/65\n",
            "1608/1608 [==============================] - 1s 314us/step - loss: 0.1507 - accuracy: 0.9540 - val_loss: 0.6876 - val_accuracy: 0.8380\n",
            "Epoch 43/65\n",
            "1608/1608 [==============================] - 1s 324us/step - loss: 0.1358 - accuracy: 0.9627 - val_loss: 0.6928 - val_accuracy: 0.8521\n",
            "Epoch 44/65\n",
            "1608/1608 [==============================] - 1s 313us/step - loss: 0.1271 - accuracy: 0.9633 - val_loss: 0.7105 - val_accuracy: 0.8239\n",
            "Epoch 45/65\n",
            "1608/1608 [==============================] - 1s 315us/step - loss: 0.1540 - accuracy: 0.9546 - val_loss: 0.6974 - val_accuracy: 0.8380\n",
            "Epoch 46/65\n",
            "1608/1608 [==============================] - 0s 310us/step - loss: 0.1416 - accuracy: 0.9708 - val_loss: 0.7057 - val_accuracy: 0.8415\n",
            "Epoch 47/65\n",
            "1608/1608 [==============================] - 1s 318us/step - loss: 0.1093 - accuracy: 0.9683 - val_loss: 0.6903 - val_accuracy: 0.8521\n",
            "Epoch 48/65\n",
            "1608/1608 [==============================] - 1s 311us/step - loss: 0.1175 - accuracy: 0.9720 - val_loss: 0.6886 - val_accuracy: 0.8556\n",
            "Epoch 49/65\n",
            "1608/1608 [==============================] - 1s 312us/step - loss: 0.1175 - accuracy: 0.9652 - val_loss: 0.6879 - val_accuracy: 0.8592\n",
            "Epoch 50/65\n",
            "1608/1608 [==============================] - 1s 313us/step - loss: 0.1301 - accuracy: 0.9596 - val_loss: 0.7121 - val_accuracy: 0.8451\n",
            "Epoch 51/65\n",
            "1608/1608 [==============================] - 1s 316us/step - loss: 0.1284 - accuracy: 0.9652 - val_loss: 0.6932 - val_accuracy: 0.8521\n",
            "Epoch 52/65\n",
            "1608/1608 [==============================] - 1s 313us/step - loss: 0.1247 - accuracy: 0.9639 - val_loss: 0.6999 - val_accuracy: 0.8556\n",
            "Epoch 53/65\n",
            "1608/1608 [==============================] - 1s 313us/step - loss: 0.1128 - accuracy: 0.9670 - val_loss: 0.6996 - val_accuracy: 0.8451\n",
            "Epoch 54/65\n",
            "1608/1608 [==============================] - 1s 311us/step - loss: 0.0971 - accuracy: 0.9720 - val_loss: 0.7109 - val_accuracy: 0.8556\n",
            "Epoch 55/65\n",
            "1608/1608 [==============================] - 1s 325us/step - loss: 0.1074 - accuracy: 0.9701 - val_loss: 0.7420 - val_accuracy: 0.8415\n",
            "Epoch 56/65\n",
            "1608/1608 [==============================] - 0s 310us/step - loss: 0.1081 - accuracy: 0.9695 - val_loss: 0.7527 - val_accuracy: 0.8451\n",
            "Epoch 57/65\n",
            "1608/1608 [==============================] - 1s 315us/step - loss: 0.0900 - accuracy: 0.9751 - val_loss: 0.7473 - val_accuracy: 0.8592\n",
            "Epoch 58/65\n",
            "1608/1608 [==============================] - 0s 310us/step - loss: 0.0907 - accuracy: 0.9733 - val_loss: 0.7547 - val_accuracy: 0.8521\n",
            "Epoch 59/65\n",
            "1608/1608 [==============================] - 1s 317us/step - loss: 0.0917 - accuracy: 0.9757 - val_loss: 0.7588 - val_accuracy: 0.8521\n",
            "Epoch 60/65\n",
            "1608/1608 [==============================] - 1s 313us/step - loss: 0.1050 - accuracy: 0.9726 - val_loss: 0.7496 - val_accuracy: 0.8486\n",
            "Epoch 61/65\n",
            "1608/1608 [==============================] - 1s 316us/step - loss: 0.0943 - accuracy: 0.9764 - val_loss: 0.7847 - val_accuracy: 0.8415\n",
            "Epoch 62/65\n",
            "1608/1608 [==============================] - 1s 319us/step - loss: 0.1063 - accuracy: 0.9695 - val_loss: 0.7569 - val_accuracy: 0.8486\n",
            "Epoch 63/65\n",
            "1608/1608 [==============================] - 1s 321us/step - loss: 0.0930 - accuracy: 0.9689 - val_loss: 0.7935 - val_accuracy: 0.8380\n",
            "Epoch 64/65\n",
            "1608/1608 [==============================] - 0s 309us/step - loss: 0.0833 - accuracy: 0.9739 - val_loss: 0.7930 - val_accuracy: 0.8451\n",
            "Epoch 65/65\n",
            "1608/1608 [==============================] - 1s 317us/step - loss: 0.0982 - accuracy: 0.9751 - val_loss: 0.7763 - val_accuracy: 0.8451\n"
          ],
          "name": "stdout"
        }
      ]
    },
    {
      "cell_type": "code",
      "metadata": {
        "id": "qdGGd_QqwYzp",
        "colab_type": "code",
        "outputId": "17891258-a8f9-4c8e-f045-3072707dac6b",
        "colab": {
          "base_uri": "https://localhost:8080/",
          "height": 34
        }
      },
      "source": [
        "give_accuracy(cnn_model,padded_test, y_test, \"CNN\")"
      ],
      "execution_count": 46,
      "outputs": [
        {
          "output_type": "stream",
          "text": [
            "Accuracy of CNN model --->  0.8477611940298507\n"
          ],
          "name": "stdout"
        }
      ]
    },
    {
      "cell_type": "code",
      "metadata": {
        "id": "TCkQgPqYhWIR",
        "colab_type": "code",
        "colab": {}
      },
      "source": [
        "cnn_model.save_weights('/content/drive/My Drive/model_weights/model_CNN.h5')"
      ],
      "execution_count": 0,
      "outputs": []
    },
    {
      "cell_type": "markdown",
      "metadata": {
        "id": "SzPeq5kyeY7E",
        "colab_type": "text"
      },
      "source": [
        "0.8477611940298507 saved\n"
      ]
    },
    {
      "cell_type": "code",
      "metadata": {
        "id": "ke1v_BxZrFOL",
        "colab_type": "code",
        "outputId": "0cd155cb-84bb-4094-8c00-3faec234d43c",
        "colab": {
          "base_uri": "https://localhost:8080/",
          "height": 265
        }
      },
      "source": [
        "plt.plot(history.history['accuracy'],label = 'train_accuracy')\n",
        "plt.plot(history.history['val_accuracy'], label = 'validation_accuracy')\n",
        "plt.legend()\n",
        "plt.show()"
      ],
      "execution_count": 49,
      "outputs": [
        {
          "output_type": "display_data",
          "data": {
            "image/png": "[encoded data removed]",
            "text/plain": [
              "<Figure size 432x288 with 1 Axes>"
            ]
          },
          "metadata": {
            "tags": [],
            "needs_background": "light"
          }
        }
      ]
    },
    {
      "cell_type": "markdown",
      "metadata": {
        "id": "U50-6zDu4w4S",
        "colab_type": "text"
      },
      "source": [
        "# **2. LSTM**\n",
        "- The idea behind using LSTMs is to capture context and the order of text.\n",
        "\n",
        "- LSTMs can remember past information using hidden states and apply it to current task\n",
        "\n",
        "- Consider a sentence --> **The movie was not good, even though everyone was claiming it to be awesome, brilliant, extraordinary!**\n",
        "\n",
        "- To detect sentiment of this text, if we apply a CNN or linear classifier, it may predict that text is positive base on the words -  good, awesome, brilliant, extraordinary\n",
        "\n",
        "- But a LSTM might be able to recognize that due to the presence of 'not good' , 'even though' our sentence is actually negative\n",
        "\n",
        "- ***LSTMs are slow to train so I will set max_len = median length of texts(i.e 35)***"
      ]
    },
    {
      "cell_type": "code",
      "metadata": {
        "id": "GuEf_lzZX2wM",
        "colab_type": "code",
        "colab": {}
      },
      "source": [
        "(padded_train, y_train, padded_test, y_test, embeddings_matrix, vocab_len) = create_data_for_model(max_len = 35) # taking max_len = median"
      ],
      "execution_count": 0,
      "outputs": []
    },
    {
      "cell_type": "code",
      "metadata": {
        "id": "x0vrDEyi4qIY",
        "colab_type": "code",
        "colab": {}
      },
      "source": [
        "# Model\n",
        "def model_lstm(max_len,vocab_size):\n",
        "  inp1 = Input((max_len,))\n",
        "  embedding_layer = Embedding(input_dim=vocab_size + 1,output_dim= 50,mask_zero=True,weights = [embeddings_matrix],trainable = False)(inp1)\n",
        "  drop_out1 = Dropout(0.3)(embedding_layer)\n",
        "  lstm_layer1 = LSTM(100,return_sequences = False)(drop_out1)\n",
        "\n",
        "\n",
        "  #drop_out = Dropout(0.3)(lstm_layer1)\n",
        "  out1 = Dense(11,activation='softmax')(lstm_layer1)\n",
        "\n",
        "  model_lstm = Model(inputs = inp1,outputs = out1)\n",
        "  model_lstm.compile(loss = 'categorical_crossentropy',optimizer='adam',metrics=['accuracy'])\n",
        "  model_lstm.summary()\n",
        "  return model_lstm"
      ],
      "execution_count": 0,
      "outputs": []
    },
    {
      "cell_type": "code",
      "metadata": {
        "id": "boQBFLRV4p8q",
        "colab_type": "code",
        "outputId": "f096f2f1-45af-4c34-9750-c4c821dd1d5a",
        "colab": {
          "base_uri": "https://localhost:8080/",
          "height": 323
        }
      },
      "source": [
        "lstm_model = model_lstm(max_len = 35,vocab_size=vocab_len)"
      ],
      "execution_count": 52,
      "outputs": [
        {
          "output_type": "stream",
          "text": [
            "Model: \"model_9\"\n",
            "_________________________________________________________________\n",
            "Layer (type)                 Output Shape              Param #   \n",
            "=================================================================\n",
            "input_10 (InputLayer)        (None, 35)                0         \n",
            "_________________________________________________________________\n",
            "embedding_10 (Embedding)     (None, 35, 50)            1018350   \n",
            "_________________________________________________________________\n",
            "dropout_18 (Dropout)         (None, 35, 50)            0         \n",
            "_________________________________________________________________\n",
            "lstm_1 (LSTM)                (None, 100)               60400     \n",
            "_________________________________________________________________\n",
            "dense_11 (Dense)             (None, 11)                1111      \n",
            "=================================================================\n",
            "Total params: 1,079,861\n",
            "Trainable params: 61,511\n",
            "Non-trainable params: 1,018,350\n",
            "_________________________________________________________________\n"
          ],
          "name": "stdout"
        }
      ]
    },
    {
      "cell_type": "code",
      "metadata": {
        "id": "xuX-dzBUYMU2",
        "colab_type": "code",
        "outputId": "3ea83641-a939-4d29-d642-c22c78d07fe9",
        "colab": {
          "base_uri": "https://localhost:8080/",
          "height": 1000
        }
      },
      "source": [
        "hist = lstm_model.fit(padded_train,y_train,epochs = 40, batch_size=8,validation_split = 0.15)"
      ],
      "execution_count": 53,
      "outputs": [
        {
          "output_type": "stream",
          "text": [
            "Train on 1608 samples, validate on 284 samples\n",
            "Epoch 1/40\n",
            "1608/1608 [==============================] - 28s 17ms/step - loss: 1.9971 - accuracy: 0.3072 - val_loss: 1.6515 - val_accuracy: 0.4507\n",
            "Epoch 2/40\n",
            "1608/1608 [==============================] - 27s 17ms/step - loss: 1.5685 - accuracy: 0.4975 - val_loss: 1.4388 - val_accuracy: 0.5458\n",
            "Epoch 3/40\n",
            "1608/1608 [==============================] - 27s 17ms/step - loss: 1.3986 - accuracy: 0.5572 - val_loss: 1.3682 - val_accuracy: 0.5599\n",
            "Epoch 4/40\n",
            "1608/1608 [==============================] - 27s 17ms/step - loss: 1.2494 - accuracy: 0.5914 - val_loss: 1.3153 - val_accuracy: 0.5951\n",
            "Epoch 5/40\n",
            "1608/1608 [==============================] - 27s 17ms/step - loss: 1.1311 - accuracy: 0.6393 - val_loss: 1.2337 - val_accuracy: 0.6338\n",
            "Epoch 6/40\n",
            "1608/1608 [==============================] - 27s 17ms/step - loss: 1.0177 - accuracy: 0.6716 - val_loss: 1.1379 - val_accuracy: 0.6549\n",
            "Epoch 7/40\n",
            "1608/1608 [==============================] - 27s 17ms/step - loss: 0.9625 - accuracy: 0.6766 - val_loss: 1.1230 - val_accuracy: 0.6444\n",
            "Epoch 8/40\n",
            "1608/1608 [==============================] - 27s 17ms/step - loss: 0.8632 - accuracy: 0.7164 - val_loss: 1.1283 - val_accuracy: 0.6549\n",
            "Epoch 9/40\n",
            "1608/1608 [==============================] - 27s 17ms/step - loss: 0.8239 - accuracy: 0.7307 - val_loss: 1.0701 - val_accuracy: 0.6761\n",
            "Epoch 10/40\n",
            "1608/1608 [==============================] - 26s 16ms/step - loss: 0.7585 - accuracy: 0.7519 - val_loss: 1.1163 - val_accuracy: 0.6479\n",
            "Epoch 11/40\n",
            "1608/1608 [==============================] - 27s 17ms/step - loss: 0.7172 - accuracy: 0.7655 - val_loss: 1.1235 - val_accuracy: 0.6549\n",
            "Epoch 12/40\n",
            "1608/1608 [==============================] - 26s 16ms/step - loss: 0.6503 - accuracy: 0.7830 - val_loss: 1.0828 - val_accuracy: 0.6761\n",
            "Epoch 13/40\n",
            "1608/1608 [==============================] - 26s 16ms/step - loss: 0.5907 - accuracy: 0.8091 - val_loss: 1.1440 - val_accuracy: 0.6655\n",
            "Epoch 14/40\n",
            "1608/1608 [==============================] - 27s 17ms/step - loss: 0.5887 - accuracy: 0.7998 - val_loss: 1.1052 - val_accuracy: 0.6725\n",
            "Epoch 15/40\n",
            "1608/1608 [==============================] - 26s 16ms/step - loss: 0.5533 - accuracy: 0.8172 - val_loss: 1.1276 - val_accuracy: 0.6796\n",
            "Epoch 16/40\n",
            "1608/1608 [==============================] - 26s 16ms/step - loss: 0.5157 - accuracy: 0.8259 - val_loss: 1.1051 - val_accuracy: 0.6831\n",
            "Epoch 17/40\n",
            "1608/1608 [==============================] - 26s 16ms/step - loss: 0.4858 - accuracy: 0.8321 - val_loss: 1.1407 - val_accuracy: 0.6901\n",
            "Epoch 18/40\n",
            "1608/1608 [==============================] - 26s 16ms/step - loss: 0.4641 - accuracy: 0.8439 - val_loss: 1.1682 - val_accuracy: 0.6866\n",
            "Epoch 19/40\n",
            "1608/1608 [==============================] - 26s 16ms/step - loss: 0.4111 - accuracy: 0.8644 - val_loss: 1.2110 - val_accuracy: 0.6585\n",
            "Epoch 20/40\n",
            "1608/1608 [==============================] - 27s 17ms/step - loss: 0.3819 - accuracy: 0.8719 - val_loss: 1.1635 - val_accuracy: 0.6620\n",
            "Epoch 21/40\n",
            "1608/1608 [==============================] - 27s 17ms/step - loss: 0.3755 - accuracy: 0.8837 - val_loss: 1.2338 - val_accuracy: 0.6655\n",
            "Epoch 22/40\n",
            "1608/1608 [==============================] - 27s 17ms/step - loss: 0.3558 - accuracy: 0.8787 - val_loss: 1.2459 - val_accuracy: 0.6761\n",
            "Epoch 23/40\n",
            "1608/1608 [==============================] - 27s 17ms/step - loss: 0.3112 - accuracy: 0.8968 - val_loss: 1.2517 - val_accuracy: 0.6901\n",
            "Epoch 24/40\n",
            "1608/1608 [==============================] - 27s 17ms/step - loss: 0.3214 - accuracy: 0.8974 - val_loss: 1.2833 - val_accuracy: 0.6831\n",
            "Epoch 25/40\n",
            "1608/1608 [==============================] - 27s 17ms/step - loss: 0.2988 - accuracy: 0.9030 - val_loss: 1.2246 - val_accuracy: 0.6972\n",
            "Epoch 26/40\n",
            "1608/1608 [==============================] - 27s 17ms/step - loss: 0.2595 - accuracy: 0.9148 - val_loss: 1.2562 - val_accuracy: 0.6866\n",
            "Epoch 27/40\n",
            "1608/1608 [==============================] - 27s 17ms/step - loss: 0.2417 - accuracy: 0.9192 - val_loss: 1.2779 - val_accuracy: 0.6655\n",
            "Epoch 28/40\n",
            "1608/1608 [==============================] - 27s 17ms/step - loss: 0.2544 - accuracy: 0.9179 - val_loss: 1.3031 - val_accuracy: 0.6655\n",
            "Epoch 29/40\n",
            "1608/1608 [==============================] - 27s 17ms/step - loss: 0.2206 - accuracy: 0.9359 - val_loss: 1.2555 - val_accuracy: 0.6690\n",
            "Epoch 30/40\n",
            "1608/1608 [==============================] - 27s 17ms/step - loss: 0.2413 - accuracy: 0.9248 - val_loss: 1.2831 - val_accuracy: 0.6655\n",
            "Epoch 31/40\n",
            "1608/1608 [==============================] - 27s 17ms/step - loss: 0.2264 - accuracy: 0.9335 - val_loss: 1.3781 - val_accuracy: 0.6937\n",
            "Epoch 32/40\n",
            "1608/1608 [==============================] - 27s 17ms/step - loss: 0.2368 - accuracy: 0.9160 - val_loss: 1.4189 - val_accuracy: 0.6761\n",
            "Epoch 33/40\n",
            "1608/1608 [==============================] - 27s 17ms/step - loss: 0.2159 - accuracy: 0.9279 - val_loss: 1.3617 - val_accuracy: 0.7042\n",
            "Epoch 34/40\n",
            "1608/1608 [==============================] - 27s 17ms/step - loss: 0.2010 - accuracy: 0.9397 - val_loss: 1.4017 - val_accuracy: 0.7007\n",
            "Epoch 35/40\n",
            "1608/1608 [==============================] - 27s 17ms/step - loss: 0.1952 - accuracy: 0.9372 - val_loss: 1.3767 - val_accuracy: 0.6655\n",
            "Epoch 36/40\n",
            "1608/1608 [==============================] - 27s 17ms/step - loss: 0.1758 - accuracy: 0.9434 - val_loss: 1.3298 - val_accuracy: 0.7042\n",
            "Epoch 37/40\n",
            "1608/1608 [==============================] - 27s 17ms/step - loss: 0.1554 - accuracy: 0.9440 - val_loss: 1.3601 - val_accuracy: 0.6796\n",
            "Epoch 38/40\n",
            "1608/1608 [==============================] - 27s 17ms/step - loss: 0.1396 - accuracy: 0.9527 - val_loss: 1.4159 - val_accuracy: 0.6972\n",
            "Epoch 39/40\n",
            "1608/1608 [==============================] - 27s 17ms/step - loss: 0.1532 - accuracy: 0.9534 - val_loss: 1.4641 - val_accuracy: 0.6866\n",
            "Epoch 40/40\n",
            "1608/1608 [==============================] - 27s 17ms/step - loss: 0.1672 - accuracy: 0.9447 - val_loss: 1.4501 - val_accuracy: 0.6831\n"
          ],
          "name": "stdout"
        }
      ]
    },
    {
      "cell_type": "code",
      "metadata": {
        "id": "H_5ymd8genUK",
        "colab_type": "code",
        "colab": {
          "base_uri": "https://localhost:8080/",
          "height": 34
        },
        "outputId": "84b8a5d4-022b-4c94-ab0c-6be4ec54b1dc"
      },
      "source": [
        "give_accuracy(lstm_model, padded_test, y_test, \"LSTM\")"
      ],
      "execution_count": 54,
      "outputs": [
        {
          "output_type": "stream",
          "text": [
            "Accuracy of LSTM model --->  0.7014925373134329\n"
          ],
          "name": "stdout"
        }
      ]
    },
    {
      "cell_type": "markdown",
      "metadata": {
        "id": "FoPKgyrm1alH",
        "colab_type": "text"
      },
      "source": [
        "#### **I even tried Stacked LSTMs but there was not much improvement in accuracy**"
      ]
    },
    {
      "cell_type": "code",
      "metadata": {
        "id": "TtQGRDyWA6-Q",
        "colab_type": "code",
        "colab": {}
      },
      "source": [
        "lstm_model.save_weights('/content/drive/My Drive/model_weights/model_lstm.h5')"
      ],
      "execution_count": 0,
      "outputs": []
    },
    {
      "cell_type": "code",
      "metadata": {
        "id": "Udgq9WsIvb_K",
        "colab_type": "code",
        "outputId": "76323f67-cde9-4554-da05-1906dd7c6df7",
        "colab": {
          "base_uri": "https://localhost:8080/",
          "height": 265
        }
      },
      "source": [
        "plt.plot(hist.history['accuracy'],label = 'train_accuracy')\n",
        "plt.plot(hist.history['val_accuracy'], label = 'validation_accuracy')\n",
        "plt.legend()\n",
        "plt.show()"
      ],
      "execution_count": 57,
      "outputs": [
        {
          "output_type": "display_data",
          "data": {
            "image/png": "[encoded data removed]",
            "text/plain": [
              "<Figure size 432x288 with 1 Axes>"
            ]
          },
          "metadata": {
            "tags": [],
            "needs_background": "light"
          }
        }
      ]
    },
    {
      "cell_type": "markdown",
      "metadata": {
        "id": "e3tNweWKJUlf",
        "colab_type": "text"
      },
      "source": [
        "# ***3. Bidirectional LSTM***\n",
        "\n",
        "- The intuition behind using Bidirectional LSTMs is that they learn contextual information from both directions. This may help model to predict better outputs for text classification\n",
        "![alt text](https://github.com/mananm98/Reddit-Flair-Predictor/blob/master/images/Bidirectional_Lstm.jpg?raw=true)"
      ]
    },
    {
      "cell_type": "code",
      "metadata": {
        "id": "4uyEkClHJT0b",
        "colab_type": "code",
        "colab": {}
      },
      "source": [
        "(padded_train, y_train, padded_test, y_test, embeddings_matrix, vocab_len) = create_data_for_model(max_len = 35)"
      ],
      "execution_count": 0,
      "outputs": []
    },
    {
      "cell_type": "code",
      "metadata": {
        "id": "d5u0P2GnJTyu",
        "colab_type": "code",
        "colab": {}
      },
      "source": [
        "def create_biLSTM_model(max_len,vocab_size):\n",
        "  inp1 = Input((max_len,))\n",
        "  embedding_layer = Embedding(input_dim=vocab_size + 1,output_dim= 50,mask_zero=True,weights = [embeddings_matrix],trainable = True)(inp1)\n",
        "  drop_out1 = Dropout(0.3)(embedding_layer)\n",
        "  lstm_layer1 = Bidirectional(LSTM(100,return_sequences = False))(drop_out1)\n",
        "\n",
        "\n",
        "  #drop_out = Dropout(0.3)(lstm_layer1)\n",
        "  out1 = Dense(11,activation='softmax')(lstm_layer1)\n",
        "\n",
        "  model_bi_lstm = Model(inputs = inp1,outputs = out1)\n",
        "  model_bi_lstm.compile(loss = 'categorical_crossentropy',optimizer='adam',metrics=['accuracy'])\n",
        "  model_bi_lstm.summary()\n",
        "  return model_bi_lstm"
      ],
      "execution_count": 0,
      "outputs": []
    },
    {
      "cell_type": "code",
      "metadata": {
        "id": "p547SbAn8r64",
        "colab_type": "code",
        "outputId": "b0f374eb-cde2-48ab-e81f-0c05ad681fbd",
        "colab": {
          "base_uri": "https://localhost:8080/",
          "height": 323
        }
      },
      "source": [
        "model_bi_lstm = create_biLSTM_model(max_len = 35, vocab_size = vocab_len)"
      ],
      "execution_count": 66,
      "outputs": [
        {
          "output_type": "stream",
          "text": [
            "Model: \"model_10\"\n",
            "_________________________________________________________________\n",
            "Layer (type)                 Output Shape              Param #   \n",
            "=================================================================\n",
            "input_11 (InputLayer)        (None, 35)                0         \n",
            "_________________________________________________________________\n",
            "embedding_11 (Embedding)     (None, 35, 50)            1018350   \n",
            "_________________________________________________________________\n",
            "dropout_19 (Dropout)         (None, 35, 50)            0         \n",
            "_________________________________________________________________\n",
            "bidirectional_1 (Bidirection (None, 200)               120800    \n",
            "_________________________________________________________________\n",
            "dense_12 (Dense)             (None, 11)                2211      \n",
            "=================================================================\n",
            "Total params: 1,141,361\n",
            "Trainable params: 1,141,361\n",
            "Non-trainable params: 0\n",
            "_________________________________________________________________\n"
          ],
          "name": "stdout"
        }
      ]
    },
    {
      "cell_type": "code",
      "metadata": {
        "id": "ISCt44C4C8E5",
        "colab_type": "code",
        "outputId": "50fddb30-9ab6-4a1a-a602-b24fddd4bcbc",
        "colab": {
          "base_uri": "https://localhost:8080/",
          "height": 1000
        }
      },
      "source": [
        "hist = model_bi_lstm.fit(padded_train,y_train,epochs = 40, batch_size=16,validation_split = 0.15)"
      ],
      "execution_count": 67,
      "outputs": [
        {
          "output_type": "stream",
          "text": [
            "/usr/local/lib/python3.6/dist-packages/tensorflow/python/framework/indexed_slices.py:434: UserWarning: Converting sparse IndexedSlices to a dense Tensor of unknown shape. This may consume a large amount of memory.\n",
            "  \"Converting sparse IndexedSlices to a dense Tensor of unknown shape. \"\n"
          ],
          "name": "stderr"
        },
        {
          "output_type": "stream",
          "text": [
            "Train on 1608 samples, validate on 284 samples\n",
            "Epoch 1/40\n",
            "1608/1608 [==============================] - 28s 17ms/step - loss: 1.9197 - accuracy: 0.3744 - val_loss: 1.4461 - val_accuracy: 0.5599\n",
            "Epoch 2/40\n",
            "1608/1608 [==============================] - 28s 17ms/step - loss: 1.2998 - accuracy: 0.6026 - val_loss: 1.1966 - val_accuracy: 0.6338\n",
            "Epoch 3/40\n",
            "1608/1608 [==============================] - 27s 17ms/step - loss: 1.0154 - accuracy: 0.6785 - val_loss: 1.0711 - val_accuracy: 0.6549\n",
            "Epoch 4/40\n",
            "1608/1608 [==============================] - 27s 17ms/step - loss: 0.8234 - accuracy: 0.7413 - val_loss: 1.0049 - val_accuracy: 0.6866\n",
            "Epoch 5/40\n",
            "1608/1608 [==============================] - 27s 17ms/step - loss: 0.6859 - accuracy: 0.7842 - val_loss: 0.9191 - val_accuracy: 0.7042\n",
            "Epoch 6/40\n",
            "1608/1608 [==============================] - 27s 17ms/step - loss: 0.5248 - accuracy: 0.8414 - val_loss: 0.9393 - val_accuracy: 0.7148\n",
            "Epoch 7/40\n",
            "1608/1608 [==============================] - 27s 17ms/step - loss: 0.4301 - accuracy: 0.8613 - val_loss: 0.9713 - val_accuracy: 0.7289\n",
            "Epoch 8/40\n",
            "1608/1608 [==============================] - 27s 17ms/step - loss: 0.3561 - accuracy: 0.8937 - val_loss: 0.9907 - val_accuracy: 0.6901\n",
            "Epoch 9/40\n",
            "1608/1608 [==============================] - 27s 17ms/step - loss: 0.2706 - accuracy: 0.9160 - val_loss: 1.0753 - val_accuracy: 0.7183\n",
            "Epoch 10/40\n",
            "1608/1608 [==============================] - 27s 17ms/step - loss: 0.2442 - accuracy: 0.9235 - val_loss: 1.1152 - val_accuracy: 0.7183\n",
            "Epoch 11/40\n",
            "1608/1608 [==============================] - 27s 17ms/step - loss: 0.1941 - accuracy: 0.9434 - val_loss: 1.0975 - val_accuracy: 0.6937\n",
            "Epoch 12/40\n",
            "1608/1608 [==============================] - 27s 17ms/step - loss: 0.1598 - accuracy: 0.9515 - val_loss: 1.0846 - val_accuracy: 0.7289\n",
            "Epoch 13/40\n",
            "1608/1608 [==============================] - 27s 17ms/step - loss: 0.1362 - accuracy: 0.9602 - val_loss: 1.1993 - val_accuracy: 0.7077\n",
            "Epoch 14/40\n",
            "1608/1608 [==============================] - 27s 17ms/step - loss: 0.1437 - accuracy: 0.9540 - val_loss: 1.1118 - val_accuracy: 0.7359\n",
            "Epoch 15/40\n",
            "1608/1608 [==============================] - 27s 17ms/step - loss: 0.1140 - accuracy: 0.9577 - val_loss: 1.2286 - val_accuracy: 0.7183\n",
            "Epoch 16/40\n",
            "1608/1608 [==============================] - 27s 17ms/step - loss: 0.1125 - accuracy: 0.9614 - val_loss: 1.2087 - val_accuracy: 0.7148\n",
            "Epoch 17/40\n",
            "1608/1608 [==============================] - 27s 17ms/step - loss: 0.1132 - accuracy: 0.9670 - val_loss: 1.1060 - val_accuracy: 0.7183\n",
            "Epoch 18/40\n",
            "1608/1608 [==============================] - 27s 17ms/step - loss: 0.0978 - accuracy: 0.9639 - val_loss: 1.2459 - val_accuracy: 0.7042\n",
            "Epoch 19/40\n",
            "1608/1608 [==============================] - 27s 17ms/step - loss: 0.0867 - accuracy: 0.9714 - val_loss: 1.1892 - val_accuracy: 0.7254\n",
            "Epoch 20/40\n",
            "1608/1608 [==============================] - 27s 17ms/step - loss: 0.0791 - accuracy: 0.9757 - val_loss: 1.1900 - val_accuracy: 0.7430\n",
            "Epoch 21/40\n",
            "1608/1608 [==============================] - 27s 17ms/step - loss: 0.0778 - accuracy: 0.9701 - val_loss: 1.2674 - val_accuracy: 0.7359\n",
            "Epoch 22/40\n",
            "1608/1608 [==============================] - 27s 17ms/step - loss: 0.0749 - accuracy: 0.9733 - val_loss: 1.2718 - val_accuracy: 0.7218\n",
            "Epoch 23/40\n",
            "1608/1608 [==============================] - 27s 17ms/step - loss: 0.0672 - accuracy: 0.9733 - val_loss: 1.3552 - val_accuracy: 0.7183\n",
            "Epoch 24/40\n",
            "1608/1608 [==============================] - 27s 17ms/step - loss: 0.0679 - accuracy: 0.9739 - val_loss: 1.2750 - val_accuracy: 0.7183\n",
            "Epoch 25/40\n",
            "1608/1608 [==============================] - 28s 17ms/step - loss: 0.0669 - accuracy: 0.9745 - val_loss: 1.2176 - val_accuracy: 0.7254\n",
            "Epoch 26/40\n",
            "1608/1608 [==============================] - 27s 17ms/step - loss: 0.0619 - accuracy: 0.9739 - val_loss: 1.3150 - val_accuracy: 0.7148\n",
            "Epoch 27/40\n",
            "1608/1608 [==============================] - 27s 17ms/step - loss: 0.0679 - accuracy: 0.9726 - val_loss: 1.2488 - val_accuracy: 0.7359\n",
            "Epoch 28/40\n",
            "1608/1608 [==============================] - 27s 17ms/step - loss: 0.0625 - accuracy: 0.9751 - val_loss: 1.3062 - val_accuracy: 0.7359\n",
            "Epoch 29/40\n",
            "1608/1608 [==============================] - 27s 17ms/step - loss: 0.0539 - accuracy: 0.9764 - val_loss: 1.3535 - val_accuracy: 0.7218\n",
            "Epoch 30/40\n",
            "1608/1608 [==============================] - 27s 17ms/step - loss: 0.0622 - accuracy: 0.9726 - val_loss: 1.2397 - val_accuracy: 0.7254\n",
            "Epoch 31/40\n",
            "1608/1608 [==============================] - 27s 17ms/step - loss: 0.0598 - accuracy: 0.9745 - val_loss: 1.2543 - val_accuracy: 0.7430\n",
            "Epoch 32/40\n",
            "1608/1608 [==============================] - 27s 17ms/step - loss: 0.0564 - accuracy: 0.9751 - val_loss: 1.3103 - val_accuracy: 0.7359\n",
            "Epoch 33/40\n",
            "1608/1608 [==============================] - 27s 17ms/step - loss: 0.0492 - accuracy: 0.9770 - val_loss: 1.3000 - val_accuracy: 0.7289\n",
            "Epoch 34/40\n",
            "1608/1608 [==============================] - 27s 17ms/step - loss: 0.0636 - accuracy: 0.9739 - val_loss: 1.3688 - val_accuracy: 0.7113\n",
            "Epoch 35/40\n",
            "1608/1608 [==============================] - 27s 17ms/step - loss: 0.0549 - accuracy: 0.9764 - val_loss: 1.2907 - val_accuracy: 0.7254\n",
            "Epoch 36/40\n",
            "1608/1608 [==============================] - 27s 17ms/step - loss: 0.0556 - accuracy: 0.9757 - val_loss: 1.3667 - val_accuracy: 0.7254\n",
            "Epoch 37/40\n",
            "1608/1608 [==============================] - 27s 17ms/step - loss: 0.0455 - accuracy: 0.9776 - val_loss: 1.3746 - val_accuracy: 0.7007\n",
            "Epoch 38/40\n",
            "1608/1608 [==============================] - 27s 17ms/step - loss: 0.0584 - accuracy: 0.9739 - val_loss: 1.3006 - val_accuracy: 0.7254\n",
            "Epoch 39/40\n",
            "1608/1608 [==============================] - 27s 17ms/step - loss: 0.0595 - accuracy: 0.9726 - val_loss: 1.2558 - val_accuracy: 0.7359\n",
            "Epoch 40/40\n",
            "1608/1608 [==============================] - 27s 17ms/step - loss: 0.0523 - accuracy: 0.9795 - val_loss: 1.3499 - val_accuracy: 0.7289\n"
          ],
          "name": "stdout"
        }
      ]
    },
    {
      "cell_type": "code",
      "metadata": {
        "id": "7FVC83cg9VS1",
        "colab_type": "code",
        "outputId": "77c8c883-efec-4a03-f9e8-182e705f35ae",
        "colab": {
          "base_uri": "https://localhost:8080/",
          "height": 34
        }
      },
      "source": [
        "give_accuracy(model_bi_lstm, padded_test, y_test, \"Bidirectional_LSTM\")"
      ],
      "execution_count": 68,
      "outputs": [
        {
          "output_type": "stream",
          "text": [
            "Accuracy of Bidirectional_LSTM model --->  0.764179104477612\n"
          ],
          "name": "stdout"
        }
      ]
    },
    {
      "cell_type": "code",
      "metadata": {
        "id": "KeTXId80Lara",
        "colab_type": "code",
        "colab": {}
      },
      "source": [
        "model_bi_lstm.save_weights('/content/drive/My Drive/model_weights/model_bi_lstm.h5')   "
      ],
      "execution_count": 0,
      "outputs": []
    },
    {
      "cell_type": "code",
      "metadata": {
        "id": "aQicOP2OD4eq",
        "colab_type": "code",
        "colab": {
          "base_uri": "https://localhost:8080/",
          "height": 266
        },
        "outputId": "e8d3b5a9-9f31-4e95-de22-1724fddce1a3"
      },
      "source": [
        "plt.plot(hist.history['accuracy'],label = 'train_accuracy')\n",
        "plt.plot(hist.history['val_accuracy'], label = 'validation_accuracy')\n",
        "plt.legend()\n",
        "plt.show()"
      ],
      "execution_count": 71,
      "outputs": [
        {
          "output_type": "display_data",
          "data": {
            "image/png": "[encoded data removed]",
            "text/plain": [
              "<Figure size 432x288 with 1 Axes>"
            ]
          },
          "metadata": {
            "tags": [],
            "needs_background": "light"
          }
        }
      ]
    },
    {
      "cell_type": "markdown",
      "metadata": {
        "id": "pmM9BRmpEC8G",
        "colab_type": "text"
      },
      "source": [
        "# **5. Hybrid  - CNN + LSTM**"
      ]
    },
    {
      "cell_type": "code",
      "metadata": {
        "id": "w26tWGg6Dx1_",
        "colab_type": "code",
        "colab": {}
      },
      "source": [
        "(padded_train, y_train, padded_test, y_test, embeddings_matrix,vocab_len) = create_data_for_model(max_len = 35)"
      ],
      "execution_count": 0,
      "outputs": []
    },
    {
      "cell_type": "code",
      "metadata": {
        "id": "aB0oyH3YETkH",
        "colab_type": "code",
        "colab": {}
      },
      "source": [
        "def create_hybrid_model(max_len,vocab_size):\n",
        "\n",
        "  pooling_layers = []\n",
        "\n",
        "\n",
        "  inp1 = Input((max_len,))\n",
        "  embedding_layer = Embedding(input_dim=vocab_size + 1,output_dim= 50,mask_zero=False,weights = [embeddings_matrix],trainable = True)(inp1)\n",
        "  dp = Dropout(0.3)(embedding_layer)\n",
        "\n",
        "  x1 = Conv1D(filters=36,kernel_size=1,activation = 'relu')(dp)\n",
        "  pooling_layers.append(MaxPool1D(pool_size=max_len - 19,stride = 1)(x1))\n",
        "\n",
        "  x2 = Conv1D(filters=36,kernel_size=2,activation = 'relu')(dp)\n",
        "  pooling_layers.append(MaxPool1D(pool_size=max_len - 20,stride = 1)(x2))\n",
        "\n",
        "  x3 = Conv1D(filters=36,kernel_size=3,activation = 'relu')(dp)\n",
        "  pooling_layers.append(MaxPool1D(pool_size=max_len - 21,stride = 1)(x3))\n",
        "\n",
        "  z = Concatenate(axis = 2)(pooling_layers)\n",
        "  drop_out = Dropout(0.3)(z)\n",
        "\n",
        "  lstm_layer1 = (LSTM(100,return_sequences = False))(drop_out)\n",
        "\n",
        "\n",
        "  drop_out = Dropout(0.3)(lstm_layer1)\n",
        "  out1 = Dense(11,activation='softmax')(lstm_layer1)\n",
        "\n",
        "  hybrid_model = Model(inputs = inp1,outputs = out1)\n",
        "  hybrid_model.compile(loss = 'categorical_crossentropy',optimizer='adam',metrics=['accuracy'])\n",
        "  hybrid_model.summary()\n",
        "  return hybrid_model"
      ],
      "execution_count": 0,
      "outputs": []
    },
    {
      "cell_type": "code",
      "metadata": {
        "id": "8WGkqPgcHS00",
        "colab_type": "code",
        "outputId": "b47261cc-f2a2-4a52-ea2d-ec332befb0a8",
        "colab": {
          "base_uri": "https://localhost:8080/",
          "height": 714
        }
      },
      "source": [
        "hybrid_model = create_hybrid_model(35,vocab_size=vocab_len)"
      ],
      "execution_count": 76,
      "outputs": [
        {
          "output_type": "stream",
          "text": [
            "/usr/local/lib/python3.6/dist-packages/ipykernel_launcher.py:11: UserWarning: Update your `MaxPooling1D` call to the Keras 2 API: `MaxPooling1D(pool_size=16, strides=1)`\n",
            "  # This is added back by InteractiveShellApp.init_path()\n",
            "/usr/local/lib/python3.6/dist-packages/ipykernel_launcher.py:14: UserWarning: Update your `MaxPooling1D` call to the Keras 2 API: `MaxPooling1D(pool_size=15, strides=1)`\n",
            "  \n",
            "/usr/local/lib/python3.6/dist-packages/ipykernel_launcher.py:17: UserWarning: Update your `MaxPooling1D` call to the Keras 2 API: `MaxPooling1D(pool_size=14, strides=1)`\n"
          ],
          "name": "stderr"
        },
        {
          "output_type": "stream",
          "text": [
            "Model: \"model_12\"\n",
            "__________________________________________________________________________________________________\n",
            "Layer (type)                    Output Shape         Param #     Connected to                     \n",
            "==================================================================================================\n",
            "input_13 (InputLayer)           (None, 35)           0                                            \n",
            "__________________________________________________________________________________________________\n",
            "embedding_13 (Embedding)        (None, 35, 50)       1018350     input_13[0][0]                   \n",
            "__________________________________________________________________________________________________\n",
            "dropout_23 (Dropout)            (None, 35, 50)       0           embedding_13[0][0]               \n",
            "__________________________________________________________________________________________________\n",
            "conv1d_47 (Conv1D)              (None, 35, 36)       1836        dropout_23[0][0]                 \n",
            "__________________________________________________________________________________________________\n",
            "conv1d_48 (Conv1D)              (None, 34, 36)       3636        dropout_23[0][0]                 \n",
            "__________________________________________________________________________________________________\n",
            "conv1d_49 (Conv1D)              (None, 33, 36)       5436        dropout_23[0][0]                 \n",
            "__________________________________________________________________________________________________\n",
            "max_pooling1d_47 (MaxPooling1D) (None, 20, 36)       0           conv1d_47[0][0]                  \n",
            "__________________________________________________________________________________________________\n",
            "max_pooling1d_48 (MaxPooling1D) (None, 20, 36)       0           conv1d_48[0][0]                  \n",
            "__________________________________________________________________________________________________\n",
            "max_pooling1d_49 (MaxPooling1D) (None, 20, 36)       0           conv1d_49[0][0]                  \n",
            "__________________________________________________________________________________________________\n",
            "concatenate_11 (Concatenate)    (None, 20, 108)      0           max_pooling1d_47[0][0]           \n",
            "                                                                 max_pooling1d_48[0][0]           \n",
            "                                                                 max_pooling1d_49[0][0]           \n",
            "__________________________________________________________________________________________________\n",
            "dropout_24 (Dropout)            (None, 20, 108)      0           concatenate_11[0][0]             \n",
            "__________________________________________________________________________________________________\n",
            "lstm_4 (LSTM)                   (None, 100)          83600       dropout_24[0][0]                 \n",
            "__________________________________________________________________________________________________\n",
            "dense_14 (Dense)                (None, 11)           1111        lstm_4[0][0]                     \n",
            "==================================================================================================\n",
            "Total params: 1,113,969\n",
            "Trainable params: 1,113,969\n",
            "Non-trainable params: 0\n",
            "__________________________________________________________________________________________________\n"
          ],
          "name": "stdout"
        }
      ]
    },
    {
      "cell_type": "code",
      "metadata": {
        "id": "Q9A5tw0OECY3",
        "colab_type": "code",
        "colab": {
          "base_uri": "https://localhost:8080/",
          "height": 1000
        },
        "outputId": "d3005a2c-efa2-495c-c0b6-bce8c6b98a40"
      },
      "source": [
        "hist = hybrid_model.fit(padded_train,y_train,epochs = 35, batch_size=8,validation_split = 0.15)"
      ],
      "execution_count": 77,
      "outputs": [
        {
          "output_type": "stream",
          "text": [
            "/usr/local/lib/python3.6/dist-packages/tensorflow/python/framework/indexed_slices.py:434: UserWarning: Converting sparse IndexedSlices to a dense Tensor of unknown shape. This may consume a large amount of memory.\n",
            "  \"Converting sparse IndexedSlices to a dense Tensor of unknown shape. \"\n"
          ],
          "name": "stderr"
        },
        {
          "output_type": "stream",
          "text": [
            "Train on 1608 samples, validate on 284 samples\n",
            "Epoch 1/35\n",
            "1608/1608 [==============================] - 13s 8ms/step - loss: 2.3065 - accuracy: 0.1567 - val_loss: 2.1736 - val_accuracy: 0.2148\n",
            "Epoch 2/35\n",
            "1608/1608 [==============================] - 13s 8ms/step - loss: 2.0958 - accuracy: 0.2674 - val_loss: 1.8597 - val_accuracy: 0.3732\n",
            "Epoch 3/35\n",
            "1608/1608 [==============================] - 13s 8ms/step - loss: 1.7914 - accuracy: 0.3937 - val_loss: 1.7508 - val_accuracy: 0.4085\n",
            "Epoch 4/35\n",
            "1608/1608 [==============================] - 13s 8ms/step - loss: 1.5560 - accuracy: 0.4770 - val_loss: 1.4631 - val_accuracy: 0.5387\n",
            "Epoch 5/35\n",
            "1608/1608 [==============================] - 13s 8ms/step - loss: 1.3477 - accuracy: 0.5715 - val_loss: 1.2754 - val_accuracy: 0.5951\n",
            "Epoch 6/35\n",
            "1608/1608 [==============================] - 13s 8ms/step - loss: 1.1078 - accuracy: 0.6362 - val_loss: 1.1448 - val_accuracy: 0.6338\n",
            "Epoch 7/35\n",
            "1608/1608 [==============================] - 13s 8ms/step - loss: 0.9491 - accuracy: 0.6959 - val_loss: 1.0610 - val_accuracy: 0.6831\n",
            "Epoch 8/35\n",
            "1608/1608 [==============================] - 13s 8ms/step - loss: 0.8231 - accuracy: 0.7326 - val_loss: 1.0962 - val_accuracy: 0.6479\n",
            "Epoch 9/35\n",
            "1608/1608 [==============================] - 13s 8ms/step - loss: 0.7224 - accuracy: 0.7749 - val_loss: 0.9864 - val_accuracy: 0.7218\n",
            "Epoch 10/35\n",
            "1608/1608 [==============================] - 13s 8ms/step - loss: 0.6505 - accuracy: 0.7892 - val_loss: 1.0596 - val_accuracy: 0.7148\n",
            "Epoch 11/35\n",
            "1608/1608 [==============================] - 13s 8ms/step - loss: 0.5641 - accuracy: 0.8128 - val_loss: 1.0203 - val_accuracy: 0.7113\n",
            "Epoch 12/35\n",
            "1608/1608 [==============================] - 13s 8ms/step - loss: 0.5007 - accuracy: 0.8451 - val_loss: 1.0472 - val_accuracy: 0.7007\n",
            "Epoch 13/35\n",
            "1608/1608 [==============================] - 13s 8ms/step - loss: 0.4521 - accuracy: 0.8489 - val_loss: 1.0638 - val_accuracy: 0.7289\n",
            "Epoch 14/35\n",
            "1608/1608 [==============================] - 13s 8ms/step - loss: 0.3831 - accuracy: 0.8706 - val_loss: 1.1154 - val_accuracy: 0.7465\n",
            "Epoch 15/35\n",
            "1608/1608 [==============================] - 13s 8ms/step - loss: 0.3366 - accuracy: 0.8887 - val_loss: 1.0754 - val_accuracy: 0.7254\n",
            "Epoch 16/35\n",
            "1608/1608 [==============================] - 13s 8ms/step - loss: 0.2958 - accuracy: 0.9055 - val_loss: 1.1766 - val_accuracy: 0.7254\n",
            "Epoch 17/35\n",
            "1608/1608 [==============================] - 13s 8ms/step - loss: 0.2557 - accuracy: 0.9198 - val_loss: 1.2598 - val_accuracy: 0.7218\n",
            "Epoch 18/35\n",
            "1608/1608 [==============================] - 13s 8ms/step - loss: 0.2577 - accuracy: 0.9098 - val_loss: 1.1870 - val_accuracy: 0.7289\n",
            "Epoch 19/35\n",
            "1608/1608 [==============================] - 13s 8ms/step - loss: 0.2275 - accuracy: 0.9241 - val_loss: 1.2154 - val_accuracy: 0.7289\n",
            "Epoch 20/35\n",
            "1608/1608 [==============================] - 13s 8ms/step - loss: 0.2173 - accuracy: 0.9341 - val_loss: 1.0947 - val_accuracy: 0.7500\n",
            "Epoch 21/35\n",
            "1608/1608 [==============================] - 13s 8ms/step - loss: 0.2013 - accuracy: 0.9359 - val_loss: 1.3040 - val_accuracy: 0.7289\n",
            "Epoch 22/35\n",
            "1608/1608 [==============================] - 13s 8ms/step - loss: 0.1745 - accuracy: 0.9471 - val_loss: 1.2447 - val_accuracy: 0.7289\n",
            "Epoch 23/35\n",
            "1608/1608 [==============================] - 13s 8ms/step - loss: 0.1647 - accuracy: 0.9434 - val_loss: 1.3159 - val_accuracy: 0.7218\n",
            "Epoch 24/35\n",
            "1608/1608 [==============================] - 13s 8ms/step - loss: 0.1638 - accuracy: 0.9422 - val_loss: 1.2805 - val_accuracy: 0.7465\n",
            "Epoch 25/35\n",
            "1608/1608 [==============================] - 13s 8ms/step - loss: 0.1474 - accuracy: 0.9496 - val_loss: 1.2476 - val_accuracy: 0.7500\n",
            "Epoch 26/35\n",
            "1608/1608 [==============================] - 13s 8ms/step - loss: 0.1254 - accuracy: 0.9602 - val_loss: 1.4188 - val_accuracy: 0.7359\n",
            "Epoch 27/35\n",
            "1608/1608 [==============================] - 13s 8ms/step - loss: 0.1385 - accuracy: 0.9527 - val_loss: 1.3966 - val_accuracy: 0.7254\n",
            "Epoch 28/35\n",
            "1608/1608 [==============================] - 13s 8ms/step - loss: 0.1091 - accuracy: 0.9627 - val_loss: 1.5175 - val_accuracy: 0.7042\n",
            "Epoch 29/35\n",
            "1608/1608 [==============================] - 13s 8ms/step - loss: 0.1276 - accuracy: 0.9602 - val_loss: 1.2871 - val_accuracy: 0.7289\n",
            "Epoch 30/35\n",
            "1608/1608 [==============================] - 13s 8ms/step - loss: 0.1206 - accuracy: 0.9621 - val_loss: 1.3393 - val_accuracy: 0.7430\n",
            "Epoch 31/35\n",
            "1608/1608 [==============================] - 13s 8ms/step - loss: 0.1152 - accuracy: 0.9596 - val_loss: 1.3594 - val_accuracy: 0.7324\n",
            "Epoch 32/35\n",
            "1608/1608 [==============================] - 13s 8ms/step - loss: 0.1194 - accuracy: 0.9546 - val_loss: 1.3442 - val_accuracy: 0.7254\n",
            "Epoch 33/35\n",
            "1608/1608 [==============================] - 13s 8ms/step - loss: 0.1114 - accuracy: 0.9614 - val_loss: 1.4254 - val_accuracy: 0.7148\n",
            "Epoch 34/35\n",
            "1608/1608 [==============================] - 13s 8ms/step - loss: 0.0738 - accuracy: 0.9745 - val_loss: 1.3854 - val_accuracy: 0.7500\n",
            "Epoch 35/35\n",
            "1608/1608 [==============================] - 13s 8ms/step - loss: 0.0958 - accuracy: 0.9627 - val_loss: 1.5099 - val_accuracy: 0.7394\n"
          ],
          "name": "stdout"
        }
      ]
    },
    {
      "cell_type": "code",
      "metadata": {
        "id": "mANRef43O-DD",
        "colab_type": "code",
        "outputId": "bdab8ac7-b4d9-411c-fd02-5d3a5a3ec259",
        "colab": {
          "base_uri": "https://localhost:8080/",
          "height": 34
        }
      },
      "source": [
        "give_accuracy(hybrid_model,padded_test,y_test,\"Hybrid Model\")"
      ],
      "execution_count": 82,
      "outputs": [
        {
          "output_type": "stream",
          "text": [
            "Accuracy of Hybrid Model model --->  0.755223880597015\n"
          ],
          "name": "stdout"
        }
      ]
    },
    {
      "cell_type": "code",
      "metadata": {
        "id": "9BigsyxeWbKX",
        "colab_type": "code",
        "colab": {}
      },
      "source": [
        "hybrid_model.save_weights('/content/drive/My Drive/model_weights/hybrid_model.h5')"
      ],
      "execution_count": 0,
      "outputs": []
    }
  ]
}