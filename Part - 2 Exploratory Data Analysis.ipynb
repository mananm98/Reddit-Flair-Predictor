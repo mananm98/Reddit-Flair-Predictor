{
 "cells": [
  {
   "cell_type": "markdown",
   "metadata": {},
   "source": [
    "# Exploring reddit data\n",
    "---\n",
    "- In this notebook my main aim is to get acquainted with the data in order to develop intuition about which features to use and what model to fit"
   ]
  },
  {
   "cell_type": "code",
   "execution_count": 1,
   "metadata": {},
   "outputs": [
    {
     "name": "stderr",
     "output_type": "stream",
     "text": [
      "/Users/mananmehta/anaconda3/lib/python3.6/site-packages/h5py/__init__.py:36: FutureWarning: Conversion of the second argument of issubdtype from `float` to `np.floating` is deprecated. In future, it will be treated as `np.float64 == np.dtype(float).type`.\n",
      "  from ._conv import register_converters as _register_converters\n",
      "Using TensorFlow backend.\n",
      "/Users/mananmehta/anaconda3/lib/python3.6/site-packages/tensorflow/python/framework/dtypes.py:523: FutureWarning: Passing (type, 1) or '1type' as a synonym of type is deprecated; in a future version of numpy, it will be understood as (type, (1,)) / '(1,)type'.\n",
      "  _np_qint8 = np.dtype([(\"qint8\", np.int8, 1)])\n",
      "/Users/mananmehta/anaconda3/lib/python3.6/site-packages/tensorflow/python/framework/dtypes.py:524: FutureWarning: Passing (type, 1) or '1type' as a synonym of type is deprecated; in a future version of numpy, it will be understood as (type, (1,)) / '(1,)type'.\n",
      "  _np_quint8 = np.dtype([(\"quint8\", np.uint8, 1)])\n",
      "/Users/mananmehta/anaconda3/lib/python3.6/site-packages/tensorflow/python/framework/dtypes.py:525: FutureWarning: Passing (type, 1) or '1type' as a synonym of type is deprecated; in a future version of numpy, it will be understood as (type, (1,)) / '(1,)type'.\n",
      "  _np_qint16 = np.dtype([(\"qint16\", np.int16, 1)])\n",
      "/Users/mananmehta/anaconda3/lib/python3.6/site-packages/tensorflow/python/framework/dtypes.py:526: FutureWarning: Passing (type, 1) or '1type' as a synonym of type is deprecated; in a future version of numpy, it will be understood as (type, (1,)) / '(1,)type'.\n",
      "  _np_quint16 = np.dtype([(\"quint16\", np.uint16, 1)])\n",
      "/Users/mananmehta/anaconda3/lib/python3.6/site-packages/tensorflow/python/framework/dtypes.py:527: FutureWarning: Passing (type, 1) or '1type' as a synonym of type is deprecated; in a future version of numpy, it will be understood as (type, (1,)) / '(1,)type'.\n",
      "  _np_qint32 = np.dtype([(\"qint32\", np.int32, 1)])\n",
      "/Users/mananmehta/anaconda3/lib/python3.6/site-packages/tensorflow/python/framework/dtypes.py:532: FutureWarning: Passing (type, 1) or '1type' as a synonym of type is deprecated; in a future version of numpy, it will be understood as (type, (1,)) / '(1,)type'.\n",
      "  np_resource = np.dtype([(\"resource\", np.ubyte, 1)])\n"
     ]
    }
   ],
   "source": [
    "import pandas as pd\n",
    "import numpy as np\n",
    "import matplotlib.pyplot as plt\n",
    "import keras\n",
    "import re\n",
    "import nltk\n",
    "from nltk.corpus import stopwords\n",
    "from nltk.stem import WordNetLemmatizer\n",
    "from nltk.corpus import wordnet\n",
    "import string\n",
    "import json\n",
    "from time import time\n",
    "import pickle\n",
    "from collections import Counter\n",
    "from spacy.lang.en import English"
   ]
  },
  {
   "cell_type": "code",
   "execution_count": 2,
   "metadata": {},
   "outputs": [
    {
     "data": {
      "text/html": [
       "<script>\n",
       "code_show_err=false; \n",
       "function code_toggle_err() {\n",
       " if (code_show_err){\n",
       " $('div.output_stderr').hide();\n",
       " } else {\n",
       " $('div.output_stderr').show();\n",
       " }\n",
       " code_show_err = !code_show_err\n",
       "} \n",
       "$( document ).ready(code_toggle_err);\n",
       "</script>\n",
       "To toggle on/off output_stderr, click <a href=\"javascript:code_toggle_err()\">here</a>."
      ],
      "text/plain": [
       "<IPython.core.display.HTML object>"
      ]
     },
     "execution_count": 2,
     "metadata": {},
     "output_type": "execute_result"
    }
   ],
   "source": [
    "from IPython.display import HTML\n",
    "HTML('''<script>\n",
    "code_show_err=false; \n",
    "function code_toggle_err() {\n",
    " if (code_show_err){\n",
    " $('div.output_stderr').hide();\n",
    " } else {\n",
    " $('div.output_stderr').show();\n",
    " }\n",
    " code_show_err = !code_show_err\n",
    "} \n",
    "$( document ).ready(code_toggle_err);\n",
    "</script>\n",
    "To toggle on/off output_stderr, click <a href=\"javascript:code_toggle_err()\">here</a>.''')"
   ]
  },
  {
   "cell_type": "code",
   "execution_count": 3,
   "metadata": {},
   "outputs": [],
   "source": [
    "data = pd.read_csv(\"reddit-data.csv\")   # importing csv file"
   ]
  },
  {
   "cell_type": "code",
   "execution_count": 4,
   "metadata": {},
   "outputs": [
    {
     "data": {
      "text/html": [
       "<div>\n",
       "<style scoped>\n",
       "    .dataframe tbody tr th:only-of-type {\n",
       "        vertical-align: middle;\n",
       "    }\n",
       "\n",
       "    .dataframe tbody tr th {\n",
       "        vertical-align: top;\n",
       "    }\n",
       "\n",
       "    .dataframe thead th {\n",
       "        text-align: right;\n",
       "    }\n",
       "</style>\n",
       "<table border=\"1\" class=\"dataframe\">\n",
       "  <thead>\n",
       "    <tr style=\"text-align: right;\">\n",
       "      <th></th>\n",
       "      <th>title</th>\n",
       "      <th>score</th>\n",
       "      <th>body</th>\n",
       "      <th>url</th>\n",
       "      <th>num_comments</th>\n",
       "      <th>comments</th>\n",
       "      <th>flair</th>\n",
       "      <th>id</th>\n",
       "    </tr>\n",
       "  </thead>\n",
       "  <tbody>\n",
       "    <tr>\n",
       "      <th>0</th>\n",
       "      <td>Delhi Govt Sources: Names of CM Arvind Kejriwa...</td>\n",
       "      <td>302</td>\n",
       "      <td>NaN</td>\n",
       "      <td>https://twitter.com/ANI/status/123109390051893...</td>\n",
       "      <td>30</td>\n",
       "      <td>This is beyond petty. &gt; The inclusion of a De...</td>\n",
       "      <td>Scheduled</td>\n",
       "      <td>f7ogd8</td>\n",
       "    </tr>\n",
       "    <tr>\n",
       "      <th>1</th>\n",
       "      <td>Delhi: AP Singh, advocate of 2012 Delhi gang-r...</td>\n",
       "      <td>17</td>\n",
       "      <td>NaN</td>\n",
       "      <td>https://twitter.com/ani/status/124073128907587...</td>\n",
       "      <td>22</td>\n",
       "      <td>My hunch is , this guy is trying to expose th...</td>\n",
       "      <td>Scheduled</td>\n",
       "      <td>flgvah</td>\n",
       "    </tr>\n",
       "    <tr>\n",
       "      <th>2</th>\n",
       "      <td>Why the Supreme Court’s verdict on SC/ST quota...</td>\n",
       "      <td>106</td>\n",
       "      <td>NaN</td>\n",
       "      <td>https://scroll.in/article/952687/why-the-supre...</td>\n",
       "      <td>47</td>\n",
       "      <td>Muslims and reservation are two distractions ...</td>\n",
       "      <td>Scheduled</td>\n",
       "      <td>f1o839</td>\n",
       "    </tr>\n",
       "    <tr>\n",
       "      <th>3</th>\n",
       "      <td>What about the entrance exams scheduled in May?</td>\n",
       "      <td>9</td>\n",
       "      <td>CLAT, AILET, NEET, JEE have been postponed bu...</td>\n",
       "      <td>https://www.reddit.com/r/india/comments/fvcvo1...</td>\n",
       "      <td>3</td>\n",
       "      <td>Bachega India, tabhi toh Padhega India. Gand ...</td>\n",
       "      <td>Scheduled</td>\n",
       "      <td>fvcvo1</td>\n",
       "    </tr>\n",
       "    <tr>\n",
       "      <th>4</th>\n",
       "      <td>Advisory: No scheduled international commercia...</td>\n",
       "      <td>36</td>\n",
       "      <td>NaN</td>\n",
       "      <td>https://twitter.com/PIB_India/status/124061071...</td>\n",
       "      <td>4</td>\n",
       "      <td>Oh boy. Chalo bhaisahab. Sabji ka dukaan main...</td>\n",
       "      <td>Scheduled</td>\n",
       "      <td>fl8zf5</td>\n",
       "    </tr>\n",
       "  </tbody>\n",
       "</table>\n",
       "</div>"
      ],
      "text/plain": [
       "                                               title  score  \\\n",
       "0  Delhi Govt Sources: Names of CM Arvind Kejriwa...    302   \n",
       "1  Delhi: AP Singh, advocate of 2012 Delhi gang-r...     17   \n",
       "2  Why the Supreme Court’s verdict on SC/ST quota...    106   \n",
       "3    What about the entrance exams scheduled in May?      9   \n",
       "4  Advisory: No scheduled international commercia...     36   \n",
       "\n",
       "                                                body  \\\n",
       "0                                                NaN   \n",
       "1                                                NaN   \n",
       "2                                                NaN   \n",
       "3   CLAT, AILET, NEET, JEE have been postponed bu...   \n",
       "4                                                NaN   \n",
       "\n",
       "                                                 url  num_comments  \\\n",
       "0  https://twitter.com/ANI/status/123109390051893...            30   \n",
       "1  https://twitter.com/ani/status/124073128907587...            22   \n",
       "2  https://scroll.in/article/952687/why-the-supre...            47   \n",
       "3  https://www.reddit.com/r/india/comments/fvcvo1...             3   \n",
       "4  https://twitter.com/PIB_India/status/124061071...             4   \n",
       "\n",
       "                                            comments      flair      id  \n",
       "0   This is beyond petty. > The inclusion of a De...  Scheduled  f7ogd8  \n",
       "1   My hunch is , this guy is trying to expose th...  Scheduled  flgvah  \n",
       "2   Muslims and reservation are two distractions ...  Scheduled  f1o839  \n",
       "3   Bachega India, tabhi toh Padhega India. Gand ...  Scheduled  fvcvo1  \n",
       "4   Oh boy. Chalo bhaisahab. Sabji ka dukaan main...  Scheduled  fl8zf5  "
      ]
     },
     "execution_count": 4,
     "metadata": {},
     "output_type": "execute_result"
    }
   ],
   "source": [
    "data.head(5)"
   ]
  },
  {
   "cell_type": "markdown",
   "metadata": {},
   "source": [
    "## 1. Finding where we have Missing Data\n",
    "---"
   ]
  },
  {
   "cell_type": "code",
   "execution_count": 5,
   "metadata": {},
   "outputs": [
    {
     "name": "stdout",
     "output_type": "stream",
     "text": [
      "<class 'pandas.core.frame.DataFrame'>\n",
      "RangeIndex: 2227 entries, 0 to 2226\n",
      "Data columns (total 8 columns):\n",
      "title           2227 non-null object\n",
      "score           2227 non-null int64\n",
      "body            1242 non-null object\n",
      "url             2227 non-null object\n",
      "num_comments    2227 non-null int64\n",
      "comments        2008 non-null object\n",
      "flair           2227 non-null object\n",
      "id              2227 non-null object\n",
      "dtypes: int64(2), object(6)\n",
      "memory usage: 139.3+ KB\n"
     ]
    }
   ],
   "source": [
    "data.info()         # We can observe that there are many Nan objects in 'body' and some in 'comments' "
   ]
  },
  {
   "cell_type": "markdown",
   "metadata": {},
   "source": [
    "- The graph below shows that there are many null objects in body column, almost half of the values are null. This will lead to huge loss of data while training. So we will not consider body column for training.\n",
    "  \n",
    "    \n",
    "- We can work with comments by removing null objects using data.dropna()"
   ]
  },
  {
   "cell_type": "code",
   "execution_count": 6,
   "metadata": {},
   "outputs": [
    {
     "data": {
      "image/png": "[encoded data removed]",
      "text/plain": [
       "<Figure size 432x288 with 1 Axes>"
      ]
     },
     "metadata": {},
     "output_type": "display_data"
    }
   ],
   "source": [
    "import seaborn as sns\n",
    "sns.heatmap(data.isnull(),yticklabels=False,cbar=False,cmap='viridis')  # Graph showing null objects\n",
    "plt.title('Graph showing null objects in the dataset')\n",
    "plt.show()"
   ]
  },
  {
   "cell_type": "markdown",
   "metadata": {},
   "source": [
    "- We will be focusing our attention on the “Title”, \"url\", \"comments\" columns as they contain the most valuable qualitative information."
   ]
  },
  {
   "cell_type": "markdown",
   "metadata": {},
   "source": [
    "## 2. Creating a histogram across flair categories ( To understand distribution of our data )\n",
    "---\n",
    "- We can observe that almost all flairs have similar number of examples except **FoodBusiness/Finance** and **CAA-NRC-NPR**"
   ]
  },
  {
   "cell_type": "code",
   "execution_count": 7,
   "metadata": {},
   "outputs": [
    {
     "data": {
      "image/png": "[encoded data removed]",
      "text/plain": [
       "<Figure size 720x360 with 1 Axes>"
      ]
     },
     "metadata": {},
     "output_type": "display_data"
    }
   ],
   "source": [
    "plt.figure(figsize = (10,5))\n",
    "ax = sns.countplot(x='flair',data=data,palette='RdBu_r')\n",
    "ax.set_xticklabels(ax.get_xticklabels(), rotation=40, ha=\"right\")\n",
    "plt.tight_layout()\n",
    "plt.show()"
   ]
  },
  {
   "cell_type": "code",
   "execution_count": 8,
   "metadata": {},
   "outputs": [
    {
     "data": {
      "text/plain": [
       "Coronavirus             250\n",
       "Politics                249\n",
       "Scheduled               234\n",
       "AskIndia                233\n",
       "Sports                  231\n",
       "Photography             223\n",
       "Policy/Economy          221\n",
       "Science/Technology      219\n",
       "Non-Political           216\n",
       "CAA-NRC-NPR             109\n",
       "FoodBusiness/Finance     42\n",
       "Name: flair, dtype: int64"
      ]
     },
     "execution_count": 8,
     "metadata": {},
     "output_type": "execute_result"
    }
   ],
   "source": [
    "data['flair'].value_counts()"
   ]
  },
  {
   "cell_type": "markdown",
   "metadata": {},
   "source": [
    "# 3. Text Preprocessing \n",
    "---"
   ]
  },
  {
   "cell_type": "code",
   "execution_count": 9,
   "metadata": {},
   "outputs": [],
   "source": [
    "from nltk.corpus import stopwords\n",
    "stopwords_set = set(stopwords.words('english'))          #stopwords set"
   ]
  },
  {
   "cell_type": "code",
   "execution_count": 21,
   "metadata": {},
   "outputs": [],
   "source": [
    "from nltk.stem.wordnet import WordNetLemmatizer \n",
    "wnl = WordNetLemmatizer() "
   ]
  },
  {
   "cell_type": "code",
   "execution_count": 20,
   "metadata": {},
   "outputs": [],
   "source": [
    "def lemmatise(sent):\n",
    "    \"\"\"\n",
    "    Performs lemmatization of text\n",
    "    \"\"\"\n",
    "    sent = nltk.tag.pos_tag(sent)\n",
    "    sent = [(w,get_wordnet_pos(p)) for (w,p) in sent]\n",
    "    sent = [wnl.lemmatize(w,tag) for (w,tag) in sent]\n",
    "    return sent\n",
    "\n",
    "def get_wordnet_pos(tag):\n",
    "    \"\"\"\n",
    "    returns part_of_speech tag to lemmatizer in 'wordnet' format for lemmatization\n",
    "    \"\"\"\n",
    "    if tag.startswith('J'):\n",
    "        return wordnet.ADJ\n",
    "    elif tag.startswith('V'):\n",
    "        return wordnet.VERB\n",
    "    elif tag.startswith('N'):\n",
    "        return wordnet.NOUN\n",
    "    elif tag.startswith('R'):\n",
    "        return wordnet.ADV\n",
    "    else:\n",
    "        return wordnet.NOUN"
   ]
  },
  {
   "cell_type": "code",
   "execution_count": 12,
   "metadata": {},
   "outputs": [],
   "source": [
    "def text_cleaning(sent):\n",
    "    sent = sent.lower()   #converting to lower case\n",
    "    sent = re.sub(\"[^a-zA-Z]+|(pdf|html|www|http|jpg|com)\",\" \",sent) # removing numbers and punctuation\n",
    "    sent = sent.split()\n",
    "    \n",
    "    sent = [w for w in sent if len(w)>1] # removing words of length 1 \n",
    "    sent = [w for w in sent if w not in stopwords_set] # removing stopwords\n",
    "    sent = lemmatise(sent)    # lemmatization\n",
    "    sent = \" \".join(sent)\n",
    "    return sent"
   ]
  },
  {
   "cell_type": "markdown",
   "metadata": {},
   "source": [
    "## 3.1 Text Preprocessing of Titles\n",
    "---"
   ]
  },
  {
   "cell_type": "code",
   "execution_count": 13,
   "metadata": {},
   "outputs": [],
   "source": [
    "data['title_new'] = data['title'].apply(text_cleaning)  "
   ]
  },
  {
   "cell_type": "code",
   "execution_count": 14,
   "metadata": {},
   "outputs": [
    {
     "name": "stdout",
     "output_type": "stream",
     "text": [
      "old -->  Working people of Randia, don't you get bored of your whole day schedule as it's nearly the same everyday ? Doesn't it becomes quite dull ? \n",
      "\n",
      "new -->  work people randia get bored whole day schedule nearly everyday es quite dull\n"
     ]
    }
   ],
   "source": [
    "print(\"old --> \",data['title'][98],\"\\n\\nnew --> \",data['title_new'][98])"
   ]
  },
  {
   "cell_type": "markdown",
   "metadata": {},
   "source": [
    "## 3.2 Text preprocessing of comments\n",
    "---\n",
    "- some comments are very long the longest being 5,56,983. So, I will limit comments to 10,000 characters which will   still completely cover 96% of comments i.e 96% of comments will remain as it is. "
   ]
  },
  {
   "cell_type": "code",
   "execution_count": 15,
   "metadata": {},
   "outputs": [
    {
     "data": {
      "text/plain": [
       "count      2227.000000\n",
       "mean       3292.672205\n",
       "std       20587.900732\n",
       "min           0.000000\n",
       "25%         243.500000\n",
       "50%         918.000000\n",
       "75%        2430.500000\n",
       "96%        9885.640000\n",
       "max      556983.000000\n",
       "Name: comments, dtype: float64"
      ]
     },
     "execution_count": 15,
     "metadata": {},
     "output_type": "execute_result"
    }
   ],
   "source": [
    "data['comments'].fillna(\"\").apply(len).describe(percentiles=[.96,.25,.75])"
   ]
  },
  {
   "cell_type": "code",
   "execution_count": 16,
   "metadata": {},
   "outputs": [],
   "source": [
    "def clear_comments(comment):       # function to limit comment length to 10000 characters\n",
    "    if(len(comment) > 10000):\n",
    "        return comment[:10000]\n",
    "    return comment"
   ]
  },
  {
   "cell_type": "code",
   "execution_count": 17,
   "metadata": {},
   "outputs": [],
   "source": [
    "data['comments_new'] = data['comments'].fillna(\"\").apply(clear_comments).apply(text_cleaning)"
   ]
  },
  {
   "cell_type": "markdown",
   "metadata": {},
   "source": [
    "- After preprocessing :- "
   ]
  },
  {
   "cell_type": "code",
   "execution_count": 18,
   "metadata": {},
   "outputs": [
    {
     "data": {
      "text/plain": [
       "count    2227.000000\n",
       "mean     1186.520880\n",
       "std      1547.666959\n",
       "min         0.000000\n",
       "25%       150.500000\n",
       "50%       551.000000\n",
       "75%      1502.000000\n",
       "max      7296.000000\n",
       "Name: comments_new, dtype: float64"
      ]
     },
     "execution_count": 18,
     "metadata": {},
     "output_type": "execute_result"
    }
   ],
   "source": [
    "data['comments_new'].fillna(\"\").apply(len).describe()"
   ]
  },
  {
   "cell_type": "code",
   "execution_count": 22,
   "metadata": {},
   "outputs": [
    {
     "name": "stdout",
     "output_type": "stream",
     "text": [
      "old -->   Bangladesh is literally the only friendly neighbor we have..god forbid they allow China access to their ports. The way our government is spreading hate against Bangladesh, it seems possible Disgusting...Really Pathetic by BJP and Tadipaar Amit Shah to portray Bangladesh, Afghanistan as states that persecute their minorities. No country in world would welcome such remarks. But Our Bhadva Home Minister blatantly accused our neighbors of such wrong doings. \n",
      "\n",
      "Now Good luck you fucktards in Government with creating good relationship with our neighbors when China is hounding them one by one. Such a Mess. \n",
      "\n",
      "new -->  bangladesh literally friendly neighbor god forbid allow china access port way government spread hate bangladesh seem possible disgust really pathetic bjp tadipaar amit shah portray bangladesh afghanistan state persecute minority country world would wel remark bhadva home minister blatantly accuse neighbor wrong doings good luck fucktards government create good relationship neighbor china hound one one mess\n"
     ]
    }
   ],
   "source": [
    "print(\"old --> \",data['comments'][14],\"\\n\\nnew --> \",data['comments_new'][14])"
   ]
  },
  {
   "cell_type": "markdown",
   "metadata": {},
   "source": [
    "## 3.3 Text preprocessing of url\n",
    "---\n",
    "- Text cleaning of url requires extracting meaningful words from url and removing all the noise like (www, https, jpg, .com , etc.) such words are very common and do not help in distinguishing among different flairs"
   ]
  },
  {
   "cell_type": "code",
   "execution_count": 23,
   "metadata": {},
   "outputs": [],
   "source": [
    "def regex_on_url(text):    # custom regex to extract of only meaningful words from url\n",
    "    return re.sub(\"(https://)|[a-z.]+(com)|[^a-zA-Z]|(pdf|html|www|http|jpg)\",' ',text)\n",
    "\n",
    "def clean_url(text):\n",
    "    text = text.lower()       # converting to lowercase\n",
    "    text = regex_on_url(text) # regex\n",
    "    text = text.split()\n",
    "    \n",
    "    text = [w for w in text if len(w)>1] # removing words of length 1 \n",
    "    text = [w for w in text if w not in stopwords_set] # removing stopwords\n",
    "    text = \" \".join(text)\n",
    "    return text"
   ]
  },
  {
   "cell_type": "code",
   "execution_count": 24,
   "metadata": {},
   "outputs": [],
   "source": [
    "data['url_new'] = data['url'].apply(clean_url)"
   ]
  },
  {
   "cell_type": "code",
   "execution_count": 25,
   "metadata": {},
   "outputs": [
    {
     "name": "stdout",
     "output_type": "stream",
     "text": [
      "old -->  https://www.reddit.com/r/india/comments/fndf09/fight_covid19/ \n",
      "\n",
      "new -->  india comments fndf fight covid\n"
     ]
    }
   ],
   "source": [
    "print(\"old --> \",data['url'][108],\"\\n\\nnew --> \",data['url_new'][108])"
   ]
  },
  {
   "cell_type": "markdown",
   "metadata": {},
   "source": [
    "## preprocessing done !\n",
    "- Now lets look at the dataset\n",
    "---"
   ]
  },
  {
   "cell_type": "code",
   "execution_count": 26,
   "metadata": {},
   "outputs": [
    {
     "data": {
      "text/html": [
       "<div>\n",
       "<style scoped>\n",
       "    .dataframe tbody tr th:only-of-type {\n",
       "        vertical-align: middle;\n",
       "    }\n",
       "\n",
       "    .dataframe tbody tr th {\n",
       "        vertical-align: top;\n",
       "    }\n",
       "\n",
       "    .dataframe thead th {\n",
       "        text-align: right;\n",
       "    }\n",
       "</style>\n",
       "<table border=\"1\" class=\"dataframe\">\n",
       "  <thead>\n",
       "    <tr style=\"text-align: right;\">\n",
       "      <th></th>\n",
       "      <th>title</th>\n",
       "      <th>score</th>\n",
       "      <th>body</th>\n",
       "      <th>url</th>\n",
       "      <th>num_comments</th>\n",
       "      <th>comments</th>\n",
       "      <th>flair</th>\n",
       "      <th>id</th>\n",
       "    </tr>\n",
       "  </thead>\n",
       "  <tbody>\n",
       "    <tr>\n",
       "      <th>0</th>\n",
       "      <td>delhi govt source names cm arvind kejriwal dep...</td>\n",
       "      <td>302</td>\n",
       "      <td>NaN</td>\n",
       "      <td>ani status</td>\n",
       "      <td>30</td>\n",
       "      <td>beyond petty inclusion delhi government school...</td>\n",
       "      <td>Scheduled</td>\n",
       "      <td>f7ogd8</td>\n",
       "    </tr>\n",
       "    <tr>\n",
       "      <th>1</th>\n",
       "      <td>delhi ap singh advocate delhi gang rape convic...</td>\n",
       "      <td>17</td>\n",
       "      <td>NaN</td>\n",
       "      <td>ani status</td>\n",
       "      <td>22</td>\n",
       "      <td>hunch guy try expose loophole legal system nev...</td>\n",
       "      <td>Scheduled</td>\n",
       "      <td>flgvah</td>\n",
       "    </tr>\n",
       "    <tr>\n",
       "      <th>2</th>\n",
       "      <td>supreme court verdict sc st quota create polit...</td>\n",
       "      <td>106</td>\n",
       "      <td>NaN</td>\n",
       "      <td>scroll article supreme courts verdict sc st qu...</td>\n",
       "      <td>47</td>\n",
       "      <td>muslim reservation two distraction use indian ...</td>\n",
       "      <td>Scheduled</td>\n",
       "      <td>f1o839</td>\n",
       "    </tr>\n",
       "    <tr>\n",
       "      <th>3</th>\n",
       "      <td>entrance exam schedule may</td>\n",
       "      <td>9</td>\n",
       "      <td>CLAT, AILET, NEET, JEE have been postponed bu...</td>\n",
       "      <td>india comments fvcvo entrance exams scheduled may</td>\n",
       "      <td>3</td>\n",
       "      <td>bachega india tabhi toh padhega india gand mar...</td>\n",
       "      <td>Scheduled</td>\n",
       "      <td>fvcvo1</td>\n",
       "    </tr>\n",
       "    <tr>\n",
       "      <th>4</th>\n",
       "      <td>advisory schedule international mercial passen...</td>\n",
       "      <td>36</td>\n",
       "      <td>NaN</td>\n",
       "      <td>pib india status</td>\n",
       "      <td>4</td>\n",
       "      <td>oh boy chalo bhaisahab sabji ka dukaan main da...</td>\n",
       "      <td>Scheduled</td>\n",
       "      <td>fl8zf5</td>\n",
       "    </tr>\n",
       "  </tbody>\n",
       "</table>\n",
       "</div>"
      ],
      "text/plain": [
       "                                               title  score  \\\n",
       "0  delhi govt source names cm arvind kejriwal dep...    302   \n",
       "1  delhi ap singh advocate delhi gang rape convic...     17   \n",
       "2  supreme court verdict sc st quota create polit...    106   \n",
       "3                         entrance exam schedule may      9   \n",
       "4  advisory schedule international mercial passen...     36   \n",
       "\n",
       "                                                body  \\\n",
       "0                                                NaN   \n",
       "1                                                NaN   \n",
       "2                                                NaN   \n",
       "3   CLAT, AILET, NEET, JEE have been postponed bu...   \n",
       "4                                                NaN   \n",
       "\n",
       "                                                 url  num_comments  \\\n",
       "0                                         ani status            30   \n",
       "1                                         ani status            22   \n",
       "2  scroll article supreme courts verdict sc st qu...            47   \n",
       "3  india comments fvcvo entrance exams scheduled may             3   \n",
       "4                                   pib india status             4   \n",
       "\n",
       "                                            comments      flair      id  \n",
       "0  beyond petty inclusion delhi government school...  Scheduled  f7ogd8  \n",
       "1  hunch guy try expose loophole legal system nev...  Scheduled  flgvah  \n",
       "2  muslim reservation two distraction use indian ...  Scheduled  f1o839  \n",
       "3  bachega india tabhi toh padhega india gand mar...  Scheduled  fvcvo1  \n",
       "4  oh boy chalo bhaisahab sabji ka dukaan main da...  Scheduled  fl8zf5  "
      ]
     },
     "execution_count": 26,
     "metadata": {},
     "output_type": "execute_result"
    }
   ],
   "source": [
    "data['title'] = data['title_new']\n",
    "data['comments'] = data['comments_new']\n",
    "data['url'] = data['url_new']\n",
    "data = data.drop(['title_new','comments_new','url_new'],axis = 1) \n",
    "data.head(5)"
   ]
  },
  {
   "cell_type": "code",
   "execution_count": 28,
   "metadata": {},
   "outputs": [],
   "source": [
    "data.to_csv('reddit-data-cleaned.csv', index=False)  # Saving csv file for later use"
   ]
  },
  {
   "cell_type": "markdown",
   "metadata": {},
   "source": [
    "# 4. Data Analysis\n",
    "---\n",
    "## 4.1 What flairs tell us about scores\n",
    "---"
   ]
  },
  {
   "cell_type": "code",
   "execution_count": 31,
   "metadata": {},
   "outputs": [],
   "source": [
    "df = data.copy() "
   ]
  },
  {
   "cell_type": "code",
   "execution_count": 32,
   "metadata": {},
   "outputs": [
    {
     "data": {
      "text/plain": [
       "count     2227.000000\n",
       "mean       139.941626\n",
       "std        670.222072\n",
       "min          0.000000\n",
       "50%         26.000000\n",
       "96%        585.920000\n",
       "max      17783.000000\n",
       "Name: score, dtype: float64"
      ]
     },
     "execution_count": 32,
     "metadata": {},
     "output_type": "execute_result"
    }
   ],
   "source": [
    "df['score'].describe(percentiles = [0.96]) "
   ]
  },
  {
   "cell_type": "code",
   "execution_count": 33,
   "metadata": {},
   "outputs": [],
   "source": [
    "# removing scores greater than 500 because there are very few outliers greater than 600.\n",
    "# These outliers are very large and they squash the boxplot making it unreadable.\n",
    "df = df[df['score'] < 600] "
   ]
  },
  {
   "cell_type": "markdown",
   "metadata": {},
   "source": [
    "- The median score length of **Politics** is the highest followed by **FoodBusiness/Finance** and **CAA-NRC-NPR**\n",
    "- The scores of **Politics** are the most dispersed.\n",
    "- All the flairs are positively skewed."
   ]
  },
  {
   "cell_type": "code",
   "execution_count": 34,
   "metadata": {},
   "outputs": [
    {
     "data": {
      "image/png": "[encoded data removed]",
      "text/plain": [
       "<Figure size 720x720 with 1 Axes>"
      ]
     },
     "metadata": {},
     "output_type": "display_data"
    }
   ],
   "source": [
    "plt.figure(figsize = (10,10))\n",
    "graph = sns.boxplot(x = df['flair'],y = df['score'])\n",
    "plt.xticks(rotation=45, horizontalalignment='right',fontweight='light',fontsize='x-large')\n",
    "plt.show()"
   ]
  },
  {
   "cell_type": "markdown",
   "metadata": {},
   "source": [
    "## 4.2 What flairs tell about num_comments\n",
    "---\n"
   ]
  },
  {
   "cell_type": "code",
   "execution_count": 35,
   "metadata": {},
   "outputs": [],
   "source": [
    "df = data.copy() "
   ]
  },
  {
   "cell_type": "markdown",
   "metadata": {},
   "source": [
    "- 99% of num_comments are below 400.\n",
    "- So, it makes sense to remove outliers above 400 it would make boxplot readable."
   ]
  },
  {
   "cell_type": "code",
   "execution_count": 36,
   "metadata": {},
   "outputs": [
    {
     "data": {
      "text/plain": [
       "count     2227.000000\n",
       "mean        47.920521\n",
       "std        338.008171\n",
       "min          0.000000\n",
       "25%          3.000000\n",
       "50%         11.000000\n",
       "75%         34.000000\n",
       "99%        353.920000\n",
       "max      11006.000000\n",
       "Name: num_comments, dtype: float64"
      ]
     },
     "execution_count": 36,
     "metadata": {},
     "output_type": "execute_result"
    }
   ],
   "source": [
    "df['num_comments'].describe(percentiles = [.99,.75,.25])"
   ]
  },
  {
   "cell_type": "code",
   "execution_count": 37,
   "metadata": {},
   "outputs": [],
   "source": [
    "df = df[df['num_comments'] < 400]"
   ]
  },
  {
   "cell_type": "markdown",
   "metadata": {},
   "source": [
    "- The median num_comments is highest for politics, but actually there is very little difference between distributions of each flair.\n",
    "- All the distributions are positively skewed."
   ]
  },
  {
   "cell_type": "code",
   "execution_count": 38,
   "metadata": {},
   "outputs": [
    {
     "data": {
      "image/png": "[encoded data removed]",
      "text/plain": [
       "<Figure size 720x720 with 1 Axes>"
      ]
     },
     "metadata": {},
     "output_type": "display_data"
    }
   ],
   "source": [
    "plt.figure(figsize = (10,10))\n",
    "graph = sns.boxplot(x = df['flair'],y = df['num_comments'])\n",
    "plt.xticks(rotation=45, horizontalalignment='right',fontweight='light',fontsize='x-large')\n",
    "plt.show()"
   ]
  },
  {
   "cell_type": "markdown",
   "metadata": {},
   "source": [
    "## 4.3 lets introduce a new column in dataset \"word_length\"\n",
    "---\n",
    "- word_length column will contain the combined length of (title + url + comments) for each row.   \n",
    "- **we will use it to study the relation between word_length and flair categories**."
   ]
  },
  {
   "cell_type": "code",
   "execution_count": 39,
   "metadata": {},
   "outputs": [],
   "source": [
    "df = data.copy()"
   ]
  },
  {
   "cell_type": "code",
   "execution_count": 40,
   "metadata": {},
   "outputs": [],
   "source": [
    "df['word_length'] = df[['title','url','comments']].apply(lambda x : ' '.join(x),axis = 1).apply(len)"
   ]
  },
  {
   "cell_type": "code",
   "execution_count": 41,
   "metadata": {},
   "outputs": [
    {
     "data": {
      "text/html": [
       "<div>\n",
       "<style scoped>\n",
       "    .dataframe tbody tr th:only-of-type {\n",
       "        vertical-align: middle;\n",
       "    }\n",
       "\n",
       "    .dataframe tbody tr th {\n",
       "        vertical-align: top;\n",
       "    }\n",
       "\n",
       "    .dataframe thead th {\n",
       "        text-align: right;\n",
       "    }\n",
       "</style>\n",
       "<table border=\"1\" class=\"dataframe\">\n",
       "  <thead>\n",
       "    <tr style=\"text-align: right;\">\n",
       "      <th></th>\n",
       "      <th>title</th>\n",
       "      <th>score</th>\n",
       "      <th>body</th>\n",
       "      <th>url</th>\n",
       "      <th>num_comments</th>\n",
       "      <th>comments</th>\n",
       "      <th>flair</th>\n",
       "      <th>id</th>\n",
       "      <th>word_length</th>\n",
       "    </tr>\n",
       "  </thead>\n",
       "  <tbody>\n",
       "    <tr>\n",
       "      <th>0</th>\n",
       "      <td>delhi govt source names cm arvind kejriwal dep...</td>\n",
       "      <td>302</td>\n",
       "      <td>NaN</td>\n",
       "      <td>ani status</td>\n",
       "      <td>30</td>\n",
       "      <td>beyond petty inclusion delhi government school...</td>\n",
       "      <td>Scheduled</td>\n",
       "      <td>f7ogd8</td>\n",
       "      <td>1301</td>\n",
       "    </tr>\n",
       "    <tr>\n",
       "      <th>1</th>\n",
       "      <td>delhi ap singh advocate delhi gang rape convic...</td>\n",
       "      <td>17</td>\n",
       "      <td>NaN</td>\n",
       "      <td>ani status</td>\n",
       "      <td>22</td>\n",
       "      <td>hunch guy try expose loophole legal system nev...</td>\n",
       "      <td>Scheduled</td>\n",
       "      <td>flgvah</td>\n",
       "      <td>408</td>\n",
       "    </tr>\n",
       "    <tr>\n",
       "      <th>2</th>\n",
       "      <td>supreme court verdict sc st quota create polit...</td>\n",
       "      <td>106</td>\n",
       "      <td>NaN</td>\n",
       "      <td>scroll article supreme courts verdict sc st qu...</td>\n",
       "      <td>47</td>\n",
       "      <td>muslim reservation two distraction use indian ...</td>\n",
       "      <td>Scheduled</td>\n",
       "      <td>f1o839</td>\n",
       "      <td>2069</td>\n",
       "    </tr>\n",
       "    <tr>\n",
       "      <th>3</th>\n",
       "      <td>entrance exam schedule may</td>\n",
       "      <td>9</td>\n",
       "      <td>CLAT, AILET, NEET, JEE have been postponed bu...</td>\n",
       "      <td>india comments fvcvo entrance exams scheduled may</td>\n",
       "      <td>3</td>\n",
       "      <td>bachega india tabhi toh padhega india gand mar...</td>\n",
       "      <td>Scheduled</td>\n",
       "      <td>fvcvo1</td>\n",
       "      <td>243</td>\n",
       "    </tr>\n",
       "    <tr>\n",
       "      <th>4</th>\n",
       "      <td>advisory schedule international mercial passen...</td>\n",
       "      <td>36</td>\n",
       "      <td>NaN</td>\n",
       "      <td>pib india status</td>\n",
       "      <td>4</td>\n",
       "      <td>oh boy chalo bhaisahab sabji ka dukaan main da...</td>\n",
       "      <td>Scheduled</td>\n",
       "      <td>fl8zf5</td>\n",
       "      <td>211</td>\n",
       "    </tr>\n",
       "  </tbody>\n",
       "</table>\n",
       "</div>"
      ],
      "text/plain": [
       "                                               title  score  \\\n",
       "0  delhi govt source names cm arvind kejriwal dep...    302   \n",
       "1  delhi ap singh advocate delhi gang rape convic...     17   \n",
       "2  supreme court verdict sc st quota create polit...    106   \n",
       "3                         entrance exam schedule may      9   \n",
       "4  advisory schedule international mercial passen...     36   \n",
       "\n",
       "                                                body  \\\n",
       "0                                                NaN   \n",
       "1                                                NaN   \n",
       "2                                                NaN   \n",
       "3   CLAT, AILET, NEET, JEE have been postponed bu...   \n",
       "4                                                NaN   \n",
       "\n",
       "                                                 url  num_comments  \\\n",
       "0                                         ani status            30   \n",
       "1                                         ani status            22   \n",
       "2  scroll article supreme courts verdict sc st qu...            47   \n",
       "3  india comments fvcvo entrance exams scheduled may             3   \n",
       "4                                   pib india status             4   \n",
       "\n",
       "                                            comments      flair      id  \\\n",
       "0  beyond petty inclusion delhi government school...  Scheduled  f7ogd8   \n",
       "1  hunch guy try expose loophole legal system nev...  Scheduled  flgvah   \n",
       "2  muslim reservation two distraction use indian ...  Scheduled  f1o839   \n",
       "3  bachega india tabhi toh padhega india gand mar...  Scheduled  fvcvo1   \n",
       "4  oh boy chalo bhaisahab sabji ka dukaan main da...  Scheduled  fl8zf5   \n",
       "\n",
       "   word_length  \n",
       "0         1301  \n",
       "1          408  \n",
       "2         2069  \n",
       "3          243  \n",
       "4          211  "
      ]
     },
     "execution_count": 41,
     "metadata": {},
     "output_type": "execute_result"
    }
   ],
   "source": [
    "df.head(5)"
   ]
  },
  {
   "cell_type": "code",
   "execution_count": 42,
   "metadata": {},
   "outputs": [
    {
     "data": {
      "text/plain": [
       "count    2227.000000\n",
       "mean     1299.523574\n",
       "std      1545.895236\n",
       "min        23.000000\n",
       "25%       264.000000\n",
       "50%       676.000000\n",
       "75%      1616.000000\n",
       "max      7397.000000\n",
       "Name: word_length, dtype: float64"
      ]
     },
     "execution_count": 42,
     "metadata": {},
     "output_type": "execute_result"
    }
   ],
   "source": [
    "df['word_length'].describe() "
   ]
  },
  {
   "cell_type": "markdown",
   "metadata": {},
   "source": [
    "- The median word length of **Policy/Economy** is the greatest followed by **Science/Technology**\n",
    "- The word-length distribution for **Policy/Economy** is most dispersed"
   ]
  },
  {
   "cell_type": "code",
   "execution_count": 44,
   "metadata": {},
   "outputs": [
    {
     "data": {
      "image/png": "[encoded data removed]",
      "text/plain": [
       "<Figure size 720x720 with 1 Axes>"
      ]
     },
     "metadata": {},
     "output_type": "display_data"
    }
   ],
   "source": [
    "plt.figure(figsize = (10,10))\n",
    "graph = sns.boxplot(x = df['flair'],y = df['word_length'])\n",
    "plt.xticks(rotation=45, horizontalalignment='right',fontweight='light',fontsize='x-large')\n",
    "plt.show()"
   ]
  },
  {
   "cell_type": "markdown",
   "metadata": {},
   "source": [
    "## 4.4 jointplot of word_length and score\n",
    "---\n",
    "- This plot will give us the relationship between word_length and score "
   ]
  },
  {
   "cell_type": "code",
   "execution_count": 45,
   "metadata": {},
   "outputs": [],
   "source": [
    "df_without_outliers = df[(df['score'] < 600) & (df['word_length'] < 6000)] # filtering outliers"
   ]
  },
  {
   "cell_type": "markdown",
   "metadata": {},
   "source": [
    "- Pearson's correlation coefficient = 0.29 which suggests there is some positive linear correlation between them but not too much."
   ]
  },
  {
   "cell_type": "code",
   "execution_count": 46,
   "metadata": {},
   "outputs": [
    {
     "name": "stderr",
     "output_type": "stream",
     "text": [
      "/Users/mananmehta/anaconda3/lib/python3.6/site-packages/sklearn/utils/validation.py:595: DataConversionWarning: Data with input dtype int64 was converted to float64 by MinMaxScaler.\n",
      "  warnings.warn(msg, DataConversionWarning)\n",
      "/Users/mananmehta/anaconda3/lib/python3.6/site-packages/sklearn/utils/validation.py:595: DataConversionWarning: Data with input dtype int64 was converted to float64 by MinMaxScaler.\n",
      "  warnings.warn(msg, DataConversionWarning)\n",
      "/Users/mananmehta/anaconda3/lib/python3.6/site-packages/scipy/stats/stats.py:1713: FutureWarning: Using a non-tuple sequence for multidimensional indexing is deprecated; use `arr[tuple(seq)]` instead of `arr[seq]`. In the future this will be interpreted as an array index, `arr[np.array(seq)]`, which will result either in an error or a different result.\n",
      "  return np.add.reduce(sorted[indexer] * weights, axis=axis) / sumval\n",
      "/Users/mananmehta/anaconda3/lib/python3.6/site-packages/matplotlib/axes/_axes.py:6462: UserWarning: The 'normed' kwarg is deprecated, and has been replaced by the 'density' kwarg.\n",
      "  warnings.warn(\"The 'normed' kwarg is deprecated, and has been \"\n",
      "/Users/mananmehta/anaconda3/lib/python3.6/site-packages/matplotlib/axes/_axes.py:6462: UserWarning: The 'normed' kwarg is deprecated, and has been replaced by the 'density' kwarg.\n",
      "  warnings.warn(\"The 'normed' kwarg is deprecated, and has been \"\n"
     ]
    },
    {
     "data": {
      "image/png": "[encoded data removed]",
      "text/plain": [
       "<Figure size 432x432 with 3 Axes>"
      ]
     },
     "metadata": {},
     "output_type": "display_data"
    }
   ],
   "source": [
    "from sklearn.preprocessing import MinMaxScaler\n",
    "scaler = MinMaxScaler()\n",
    "X = scaler.fit_transform(np.reshape(df_without_outliers['word_length'].values,(-1,1)))\n",
    "Y = scaler.fit_transform(np.reshape(df_without_outliers['score'].values,(-1,1)))\n",
    "\n",
    "sns.jointplot(x = X,y = Y, kind = 'reg',scatter_kws = {'s':20,'edgecolor':'w','color':'r'})\n",
    "plt.xlabel('Word_length')\n",
    "plt.ylabel('score')\n",
    "plt.tight_layout()\n",
    "plt.show()"
   ]
  },
  {
   "cell_type": "markdown",
   "metadata": {},
   "source": [
    "## 4.5 jointplot of word_length and num_comments\n",
    "---\n",
    "- This plot will give us the relationship between word_length and num_comments "
   ]
  },
  {
   "cell_type": "code",
   "execution_count": 47,
   "metadata": {},
   "outputs": [
    {
     "data": {
      "text/html": [
       "<div>\n",
       "<style scoped>\n",
       "    .dataframe tbody tr th:only-of-type {\n",
       "        vertical-align: middle;\n",
       "    }\n",
       "\n",
       "    .dataframe tbody tr th {\n",
       "        vertical-align: top;\n",
       "    }\n",
       "\n",
       "    .dataframe thead th {\n",
       "        text-align: right;\n",
       "    }\n",
       "</style>\n",
       "<table border=\"1\" class=\"dataframe\">\n",
       "  <thead>\n",
       "    <tr style=\"text-align: right;\">\n",
       "      <th></th>\n",
       "      <th>num_comments</th>\n",
       "      <th>word_length</th>\n",
       "    </tr>\n",
       "  </thead>\n",
       "  <tbody>\n",
       "    <tr>\n",
       "      <th>count</th>\n",
       "      <td>2227.000000</td>\n",
       "      <td>2227.000000</td>\n",
       "    </tr>\n",
       "    <tr>\n",
       "      <th>mean</th>\n",
       "      <td>47.920521</td>\n",
       "      <td>1299.523574</td>\n",
       "    </tr>\n",
       "    <tr>\n",
       "      <th>std</th>\n",
       "      <td>338.008171</td>\n",
       "      <td>1545.895236</td>\n",
       "    </tr>\n",
       "    <tr>\n",
       "      <th>min</th>\n",
       "      <td>0.000000</td>\n",
       "      <td>23.000000</td>\n",
       "    </tr>\n",
       "    <tr>\n",
       "      <th>50%</th>\n",
       "      <td>11.000000</td>\n",
       "      <td>676.000000</td>\n",
       "    </tr>\n",
       "    <tr>\n",
       "      <th>95%</th>\n",
       "      <td>129.000000</td>\n",
       "      <td>5377.300000</td>\n",
       "    </tr>\n",
       "    <tr>\n",
       "      <th>max</th>\n",
       "      <td>11006.000000</td>\n",
       "      <td>7397.000000</td>\n",
       "    </tr>\n",
       "  </tbody>\n",
       "</table>\n",
       "</div>"
      ],
      "text/plain": [
       "       num_comments  word_length\n",
       "count   2227.000000  2227.000000\n",
       "mean      47.920521  1299.523574\n",
       "std      338.008171  1545.895236\n",
       "min        0.000000    23.000000\n",
       "50%       11.000000   676.000000\n",
       "95%      129.000000  5377.300000\n",
       "max    11006.000000  7397.000000"
      ]
     },
     "execution_count": 47,
     "metadata": {},
     "output_type": "execute_result"
    }
   ],
   "source": [
    "df[['num_comments','word_length']].describe(percentiles=[.95])"
   ]
  },
  {
   "cell_type": "code",
   "execution_count": 48,
   "metadata": {},
   "outputs": [],
   "source": [
    "df_without_outliers = df[(df['num_comments'] < 130) & (df['word_length'] < 6000)]"
   ]
  },
  {
   "cell_type": "markdown",
   "metadata": {},
   "source": [
    "- Pearson correlation coefficient has a value of **0.65** which indicates a high level of +ve linear correlation between word_length and num_comments \n",
    "  \n",
    "     \n",
    "- We can say that as the word_length increases the num_comments increases, this is mainly due to to length of (comments). It is understandable that if length of (comments) will increase then num_comments will increase."
   ]
  },
  {
   "cell_type": "code",
   "execution_count": 49,
   "metadata": {},
   "outputs": [
    {
     "name": "stderr",
     "output_type": "stream",
     "text": [
      "/Users/mananmehta/anaconda3/lib/python3.6/site-packages/sklearn/utils/validation.py:595: DataConversionWarning: Data with input dtype int64 was converted to float64 by MinMaxScaler.\n",
      "  warnings.warn(msg, DataConversionWarning)\n",
      "/Users/mananmehta/anaconda3/lib/python3.6/site-packages/sklearn/utils/validation.py:595: DataConversionWarning: Data with input dtype int64 was converted to float64 by MinMaxScaler.\n",
      "  warnings.warn(msg, DataConversionWarning)\n",
      "/Users/mananmehta/anaconda3/lib/python3.6/site-packages/scipy/stats/stats.py:1713: FutureWarning: Using a non-tuple sequence for multidimensional indexing is deprecated; use `arr[tuple(seq)]` instead of `arr[seq]`. In the future this will be interpreted as an array index, `arr[np.array(seq)]`, which will result either in an error or a different result.\n",
      "  return np.add.reduce(sorted[indexer] * weights, axis=axis) / sumval\n",
      "/Users/mananmehta/anaconda3/lib/python3.6/site-packages/matplotlib/axes/_axes.py:6462: UserWarning: The 'normed' kwarg is deprecated, and has been replaced by the 'density' kwarg.\n",
      "  warnings.warn(\"The 'normed' kwarg is deprecated, and has been \"\n",
      "/Users/mananmehta/anaconda3/lib/python3.6/site-packages/matplotlib/axes/_axes.py:6462: UserWarning: The 'normed' kwarg is deprecated, and has been replaced by the 'density' kwarg.\n",
      "  warnings.warn(\"The 'normed' kwarg is deprecated, and has been \"\n"
     ]
    },
    {
     "data": {
      "image/png": "[encoded data removed]",
      "text/plain": [
       "<Figure size 432x432 with 3 Axes>"
      ]
     },
     "metadata": {},
     "output_type": "display_data"
    }
   ],
   "source": [
    "from sklearn.preprocessing import MinMaxScaler\n",
    "scaler = MinMaxScaler()\n",
    "X = scaler.fit_transform(np.reshape(df_without_outliers['word_length'].values,(-1,1)))\n",
    "Y = scaler.fit_transform(np.reshape(df_without_outliers['num_comments'].values,(-1,1)))\n",
    "\n",
    "sns.jointplot(x = X,y = Y, kind = 'reg',scatter_kws = {'s':20,'edgecolor':'w','color':'r'})\n",
    "plt.xlabel('Word_length')\n",
    "plt.ylabel('num_comments')\n",
    "plt.tight_layout()\n",
    "plt.show() "
   ]
  },
  {
   "cell_type": "markdown",
   "metadata": {},
   "source": [
    "## 5. Content Analysis\n",
    "---\n",
    "- Lets analyze the words used by different categories and output some notable term associations. We will use nltk and spaCy libraries."
   ]
  },
  {
   "cell_type": "code",
   "execution_count": 50,
   "metadata": {},
   "outputs": [],
   "source": [
    "# complete_text --> It comprises of all text in our dataset\n",
    "# First we will join (title + url + comments) for each row in our dataset to get a single column of text.\n",
    "# Then we will join all values in the column to get a single variable containing full text. \n",
    "complete_text = df[['title','url','comments']].apply(lambda x: ' '.join(x),axis = 1)"
   ]
  },
  {
   "cell_type": "code",
   "execution_count": 51,
   "metadata": {},
   "outputs": [],
   "source": [
    "complete_text = ' '.join(complete_text.values)"
   ]
  },
  {
   "cell_type": "markdown",
   "metadata": {},
   "source": [
    "## 5.1 Most common words in the whole dataset\n",
    "--- \n",
    "- The most common word in the whole dataset is **'india'** which makes sense, as we took data from r/India subreddit.\n",
    "- This very well indicates the main topic of discussion i.e 'INDIA'"
   ]
  },
  {
   "cell_type": "code",
   "execution_count": 52,
   "metadata": {},
   "outputs": [
    {
     "data": {
      "text/plain": [
       "<matplotlib.axes._subplots.AxesSubplot at 0x1a45568160>"
      ]
     },
     "execution_count": 52,
     "metadata": {},
     "output_type": "execute_result"
    },
    {
     "data": {
      "image/png": "[encoded data removed]",
      "text/plain": [
       "<Figure size 432x288 with 1 Axes>"
      ]
     },
     "metadata": {},
     "output_type": "display_data"
    }
   ],
   "source": [
    "nlp = English()                                                       # Spacy object\n",
    "nlp.max_length = 3000000\n",
    "complete_doc = nlp(complete_text)                                     \n",
    "words = [token.text for token in complete_doc if not token.is_stop]   # list of all words in our dataset \n",
    "words_freq = Counter(words)                                           # frequency count \n",
    "\n",
    "# Most common 10 words in entire dataset\n",
    "top_10_words = words_freq.most_common(10)\n",
    "x = []\n",
    "y = []\n",
    "for (word,count) in top_10_words:\n",
    "    x.append(word)\n",
    "    y.append(count)\n",
    "   \n",
    "sns.barplot(x=x, y=y)"
   ]
  },
  {
   "cell_type": "markdown",
   "metadata": {},
   "source": [
    "## 5.2 Finding the most common words in each category\n",
    "---"
   ]
  },
  {
   "cell_type": "code",
   "execution_count": 53,
   "metadata": {},
   "outputs": [],
   "source": [
    "flairs = ['Scheduled', 'Politics', 'Photography', 'Policy/Economy','AskIndia', 'Sports', 'Non-Political', 'Science/Technology','FoodBusiness/Finance', 'Coronavirus', 'CAA-NRC-NPR']\n",
    "complete_text_for_each_flair = {}   # dictionary which contains complete text (title + url + comments) for each flair\n",
    "for f in flairs:\n",
    "    text = df[df['flair'] == f][['title','url','comments']].apply(lambda x : ' '.join(x),axis = 1)\n",
    "    text = ' '.join(text.values)\n",
    "    complete_text_for_each_flair[f] = text"
   ]
  },
  {
   "cell_type": "markdown",
   "metadata": {},
   "source": [
    "- Most flairs have **India** among its top common words.\n",
    "- these results make sense and indicate that each flair category contains some words that can help distinguish them, for example :-\n",
    "  1. **Scheduled**            --> 'caste'  \n",
    "  2. **Politics**             --> 'bjp'\n",
    "  3. **Photography**          --> 'photography', 'like'\n",
    "  4. **Policy/Economy**       --> 'economy'\n",
    "  5. **Sports**               --> 'sport'\n",
    "  6. **Science/Technology**   --> 'science', 'technology'\n",
    "  7. **FoodBusiness/Finance** --> 'week'\n",
    "  8. **Coronavirus**          --> 'coronavirus'\n",
    "  9. **CAA-NRC-NPR**          --> 'caa', 'nrc'"
   ]
  },
  {
   "cell_type": "code",
   "execution_count": 54,
   "metadata": {},
   "outputs": [
    {
     "name": "stdout",
     "output_type": "stream",
     "text": [
      "Top 3 words in each flair are :- \n",
      "\n",
      "Scheduled --> [('india', 443), ('people', 302), ('caste', 270)]\n",
      "\n",
      "Politics --> [('people', 569), ('india', 548), ('bjp', 459)]\n",
      "\n",
      "Photography --> [('photography', 354), ('india', 339), ('like', 200)]\n",
      "\n",
      "Policy/Economy --> [('india', 1144), ('economy', 571), ('people', 466)]\n",
      "\n",
      "AskIndia --> [('india', 655), ('like', 420), ('people', 379)]\n",
      "\n",
      "Sports --> [('india', 622), ('sport', 560), ('like', 399)]\n",
      "\n",
      "Non-Political --> [('india', 344), ('political', 310), ('non', 301)]\n",
      "\n",
      "Science/Technology --> [('india', 691), ('science', 517), ('technology', 375)]\n",
      "\n",
      "FoodBusiness/Finance --> [('india', 126), ('week', 88), ('good', 80)]\n",
      "\n",
      "Coronavirus --> [('coronavirus', 456), ('india', 344), ('people', 256)]\n",
      "\n",
      "CAA-NRC-NPR --> [('caa', 235), ('nrc', 227), ('india', 200)]\n",
      "\n"
     ]
    }
   ],
   "source": [
    "print(\"Top 3 words in each flair are :- \",end = '\\n\\n')\n",
    "for f in flairs:\n",
    "    doc = nlp(complete_text_for_each_flair[f])\n",
    "    words = [token.text for token in doc if not token.is_stop]\n",
    "    word_freq = Counter(words)\n",
    "    top_3_words = word_freq.most_common(3)\n",
    "    print(f,\"-->\",top_3_words,end = '\\n\\n')"
   ]
  },
  {
   "cell_type": "markdown",
   "metadata": {},
   "source": [
    "## 5.3 Using dependency parsing to find what  India is talking about, what India is doing ?\n",
    "---\n",
    "- We will use Spacy's dependecy parsing to find the objects, subjects, verbs for each flair :-\n",
    "  1. First, we will first find the most common OBJECTS , **This will tell us what india is talking about.**\n",
    "  2. Second, we will find the most common VERBS , **This will tell us what india is doing.**\n",
    "  3. Third, we will find the most common SUBJECTS, **This will tell us about entities in text.**"
   ]
  },
  {
   "cell_type": "markdown",
   "metadata": {},
   "source": [
    "### Dependency Parsing\n",
    "---\n",
    "- Dependency parsing is the task of extracting grammatical structure of a text, it consists of relations between \"root\" words and words.\n",
    "- For Example:-\n",
    "  1. In the example below we show the dependency tree of the sentence - \"He is playing football !\"\n",
    "  2. We can see that the words \"He\", \"is\", \"football!\" are all linked to the the VERB **playing**\n",
    "  3. The image shows you that the subject of the sentence is the proper noun 'He' and it has a 'play' relationship with object 'football'."
   ]
  },
  {
   "cell_type": "code",
   "execution_count": 55,
   "metadata": {},
   "outputs": [
    {
     "name": "stdout",
     "output_type": "stream",
     "text": [
      "He  ----  PRON  ----  playing  ----  nsubj\n",
      "is  ----  AUX  ----  playing  ----  aux\n",
      "playing  ----  VERB  ----  playing  ----  ROOT\n",
      "football  ----  NOUN  ----  playing  ----  dobj\n",
      "!  ----  PUNCT  ----  playing  ----  punct\n"
     ]
    },
    {
     "data": {
      "text/html": [
       "<span class=\"tex2jax_ignore\"><svg xmlns=\"http://www.w3.org/2000/svg\" xmlns:xlink=\"http://www.w3.org/1999/xlink\" xml:lang=\"en\" id=\"eae64aebb89042009132ea339e3f222c-0\" class=\"displacy\" width=\"750\" height=\"312.0\" direction=\"ltr\" style=\"max-width: none; height: 312.0px; color: #000000; background: #ffffff; font-family: Arial; direction: ltr\">\n",
       "<text class=\"displacy-token\" fill=\"currentColor\" text-anchor=\"middle\" y=\"222.0\">\n",
       "    <tspan class=\"displacy-word\" fill=\"currentColor\" x=\"50\">He</tspan>\n",
       "    <tspan class=\"displacy-tag\" dy=\"2em\" fill=\"currentColor\" x=\"50\">PRON</tspan>\n",
       "</text>\n",
       "\n",
       "<text class=\"displacy-token\" fill=\"currentColor\" text-anchor=\"middle\" y=\"222.0\">\n",
       "    <tspan class=\"displacy-word\" fill=\"currentColor\" x=\"225\">is</tspan>\n",
       "    <tspan class=\"displacy-tag\" dy=\"2em\" fill=\"currentColor\" x=\"225\">AUX</tspan>\n",
       "</text>\n",
       "\n",
       "<text class=\"displacy-token\" fill=\"currentColor\" text-anchor=\"middle\" y=\"222.0\">\n",
       "    <tspan class=\"displacy-word\" fill=\"currentColor\" x=\"400\">playing</tspan>\n",
       "    <tspan class=\"displacy-tag\" dy=\"2em\" fill=\"currentColor\" x=\"400\">VERB</tspan>\n",
       "</text>\n",
       "\n",
       "<text class=\"displacy-token\" fill=\"currentColor\" text-anchor=\"middle\" y=\"222.0\">\n",
       "    <tspan class=\"displacy-word\" fill=\"currentColor\" x=\"575\">football!</tspan>\n",
       "    <tspan class=\"displacy-tag\" dy=\"2em\" fill=\"currentColor\" x=\"575\">NOUN</tspan>\n",
       "</text>\n",
       "\n",
       "<g class=\"displacy-arrow\">\n",
       "    <path class=\"displacy-arc\" id=\"arrow-eae64aebb89042009132ea339e3f222c-0-0\" stroke-width=\"2px\" d=\"M70,177.0 C70,2.0 400.0,2.0 400.0,177.0\" fill=\"none\" stroke=\"currentColor\"/>\n",
       "    <text dy=\"1.25em\" style=\"font-size: 0.8em; letter-spacing: 1px\">\n",
       "        <textPath xlink:href=\"#arrow-eae64aebb89042009132ea339e3f222c-0-0\" class=\"displacy-label\" startOffset=\"50%\" side=\"left\" fill=\"currentColor\" text-anchor=\"middle\">nsubj</textPath>\n",
       "    </text>\n",
       "    <path class=\"displacy-arrowhead\" d=\"M70,179.0 L62,167.0 78,167.0\" fill=\"currentColor\"/>\n",
       "</g>\n",
       "\n",
       "<g class=\"displacy-arrow\">\n",
       "    <path class=\"displacy-arc\" id=\"arrow-eae64aebb89042009132ea339e3f222c-0-1\" stroke-width=\"2px\" d=\"M245,177.0 C245,89.5 395.0,89.5 395.0,177.0\" fill=\"none\" stroke=\"currentColor\"/>\n",
       "    <text dy=\"1.25em\" style=\"font-size: 0.8em; letter-spacing: 1px\">\n",
       "        <textPath xlink:href=\"#arrow-eae64aebb89042009132ea339e3f222c-0-1\" class=\"displacy-label\" startOffset=\"50%\" side=\"left\" fill=\"currentColor\" text-anchor=\"middle\">aux</textPath>\n",
       "    </text>\n",
       "    <path class=\"displacy-arrowhead\" d=\"M245,179.0 L237,167.0 253,167.0\" fill=\"currentColor\"/>\n",
       "</g>\n",
       "\n",
       "<g class=\"displacy-arrow\">\n",
       "    <path class=\"displacy-arc\" id=\"arrow-eae64aebb89042009132ea339e3f222c-0-2\" stroke-width=\"2px\" d=\"M420,177.0 C420,89.5 570.0,89.5 570.0,177.0\" fill=\"none\" stroke=\"currentColor\"/>\n",
       "    <text dy=\"1.25em\" style=\"font-size: 0.8em; letter-spacing: 1px\">\n",
       "        <textPath xlink:href=\"#arrow-eae64aebb89042009132ea339e3f222c-0-2\" class=\"displacy-label\" startOffset=\"50%\" side=\"left\" fill=\"currentColor\" text-anchor=\"middle\">dobj</textPath>\n",
       "    </text>\n",
       "    <path class=\"displacy-arrowhead\" d=\"M570.0,179.0 L578.0,167.0 562.0,167.0\" fill=\"currentColor\"/>\n",
       "</g>\n",
       "</svg></span>"
      ],
      "text/plain": [
       "<IPython.core.display.HTML object>"
      ]
     },
     "metadata": {},
     "output_type": "display_data"
    }
   ],
   "source": [
    "import spacy\n",
    "from spacy import displacy\n",
    "nlp = spacy.load('en')\n",
    "doc = nlp(\"He is playing football!\")\n",
    "for token in doc:\n",
    "    print(token.text,\" ---- \", token.pos_,\" ---- \", token.head.text,\" ---- \", token.dep_)\n",
    "displacy.render(doc,jupyter = True)"
   ]
  },
  {
   "cell_type": "markdown",
   "metadata": {},
   "source": [
    "- We will try to find a similar dependancy relationship for each flair.\n",
    "- We will look for token.dep_ , they tell us about the relationships of each token with its headword. In the example above headword was 'playing'. Generally headwords are VERBS.\n",
    "- We will look at the following dependency labels (token.dep_) for eachtask :-\n",
    "  1. OBJECT :- dobj (direct-object), obj(object), pobj (object-of-preposition)\n",
    "  2. VERB :- we will extract headwords\n",
    "  3. NOUN :- nsubj (nominal-subject), nsubjpass (nominal-subject-passive), csubj (clausal-subject), csubjpass (clausal-subject-passive)"
   ]
  },
  {
   "cell_type": "markdown",
   "metadata": {},
   "source": [
    "### 5.3.1 Most common objects\n",
    "---\n",
    "- let's see what India is talking about in each flair:-\n",
    "- This sheds some light on topics of discussion in each flair, some observations are very interesting like     'reservation' in Scheduled, 'lockdown' in coronavirus"
   ]
  },
  {
   "cell_type": "code",
   "execution_count": 48,
   "metadata": {},
   "outputs": [
    {
     "name": "stdout",
     "output_type": "stream",
     "text": [
      "Scheduled --> [('time', 52), ('caste', 44), ('game', 44), ('people', 39), ('reservation', 38)]\n",
      "\n",
      "Politics --> [('people', 75), ('thing', 65), ('india', 59), ('politics', 58), ('time', 53)]\n",
      "\n",
      "Photography --> [('photography', 59), ('comments', 39), ('work', 33), ('thing', 33), ('india', 33)]\n",
      "\n",
      "Policy/Economy --> [('economy', 108), ('india', 98), ('country', 72), ('people', 64), ('time', 64)]\n",
      "\n",
      "AskIndia --> [('comments', 72), ('time', 71), ('thing', 64), ('india', 58), ('use', 56)]\n",
      "\n",
      "Sports --> [('sport', 63), ('india', 56), ('people', 41), ('comments', 40), ('thing', 40)]\n",
      "\n",
      "Non-Political --> [('comments', 42), ('time', 25), ('thing', 24), ('people', 22), ('india', 22)]\n",
      "\n",
      "Science/Technology --> [('technology', 64), ('india', 47), ('time', 43), ('comments', 40), ('science', 39)]\n",
      "\n",
      "FoodBusiness/Finance --> [('comments', 15), ('post', 14), ('work', 13), ('thing', 12), ('time', 10)]\n",
      "\n",
      "Coronavirus --> [('coronavirus', 37), ('people', 28), ('india', 24), ('country', 21), ('lockdown', 20)]\n",
      "\n",
      "CAA-NRC-NPR --> [('protest', 23), ('caa', 18), ('people', 16), ('comments', 16), ('source', 14)]\n",
      "\n"
     ]
    }
   ],
   "source": [
    "for f in flairs:\n",
    "    doc = nlp(complete_text_for_each_flair[f])\n",
    "    objects = []\n",
    "    for token in doc:\n",
    "        if (token.dep_ == 'dobj' or token.dep_ == 'obj' or token.dep_ == 'pobj'):\n",
    "            objects.append(token.text)\n",
    "        \n",
    "\n",
    "    objects = Counter(objects)\n",
    "    top_5 = objects.most_common(5)\n",
    "    print(f,\"-->\",top_5,end = '\\n\\n')"
   ]
  },
  {
   "cell_type": "markdown",
   "metadata": {},
   "source": [
    "### Random Objects\n",
    "---\n",
    "- lets see some random objects, to get a better idea "
   ]
  },
  {
   "cell_type": "code",
   "execution_count": 59,
   "metadata": {},
   "outputs": [
    {
     "name": "stdout",
     "output_type": "stream",
     "text": [
      "Scheduled  -----> year, nothing, date, mind, hour, \n",
      "\n",
      "Politics  -----> case, world, day, change, democracy, \n",
      "\n",
      "Photography  -----> way, post, money, friend, film, \n",
      "\n",
      "Policy/Economy  -----> plan, reason, point, panies, bank, \n",
      "\n",
      "AskIndia  -----> issue, help, rule, day, article, \n",
      "\n",
      "Sports  -----> nothing, india, day, parent, something, \n",
      "\n",
      "Non-Political  -----> something, people, people, something, time, \n",
      "\n",
      "Science/Technology  -----> research, use, problem, course, institute, \n",
      "\n",
      "FoodBusiness/Finance  -----> thing, post, comments, thing, post, \n",
      "\n",
      "Coronavirus  -----> way, worker, coronavirus, test, test, \n",
      "\n",
      "CAA-NRC-NPR  -----> source, source, people, comments, caa, \n",
      "\n"
     ]
    }
   ],
   "source": [
    "for f in flairs:\n",
    "    doc = nlp(complete_text_for_each_flair[f])\n",
    "    objects = []\n",
    "    for token in doc:\n",
    "         if (token.dep_ == 'dobj' or token.dep_ == 'obj' or token.dep_ == 'pobj'):\n",
    "            objects.append(token.text)\n",
    "        \n",
    "\n",
    "    objects = Counter(objects)\n",
    "    freq_cnt = dict(objects)\n",
    "    sorted_verbs = sorted(freq_cnt.items(),key = lambda x : x[1])\n",
    "    sorted_verbs = [w[0] for w in sorted_verbs if w[1] > 10]\n",
    "    idx = np.random.randint(0, len(sorted_verbs), size=(5,))\n",
    "    print(f, \" -----> \",end = '')\n",
    "    for i in idx:\n",
    "        print(sorted_verbs[i],end = ', ')\n",
    "       \n",
    "    print('\\n')"
   ]
  },
  {
   "cell_type": "markdown",
   "metadata": {},
   "source": [
    "### 5.3.2 Most common verbs\n",
    "---\n",
    "- let's see what India is doing :-\n",
    "  - It's hard to make any inference from this output, the most common actions are very general.\n",
    "  - Perhaps this indicates the nature of our text, It mainly consists of people reporting and posting things about India. We can expect that the most common verbs to be the very general ones i.e the ones we mostly use in everyday life. "
   ]
  },
  {
   "cell_type": "code",
   "execution_count": 92,
   "metadata": {},
   "outputs": [
    {
     "name": "stdout",
     "output_type": "stream",
     "text": [
      "Scheduled --> [('think', 84), ('want', 77), ('know', 70), ('play', 66), ('look', 48)]\n",
      "\n",
      "Politics --> [('think', 142), ('know', 87), ('want', 84), ('need', 73), ('let', 61)]\n",
      "\n",
      "Photography --> [('want', 63), ('look', 58), ('know', 55), ('think', 52), ('try', 37)]\n",
      "\n",
      "Policy/Economy --> [('think', 136), ('know', 98), ('want', 84), ('need', 62), ('mean', 52)]\n",
      "\n",
      "AskIndia --> [('know', 123), ('think', 121), ('need', 91), ('want', 83), ('try', 72)]\n",
      "\n",
      "Sports --> [('think', 123), ('know', 72), ('watch', 71), ('want', 58), ('need', 50)]\n",
      "\n",
      "Non-Political --> [('think', 62), ('know', 47), ('want', 45), ('comments', 25), ('try', 22)]\n",
      "\n",
      "Science/Technology --> [('think', 90), ('know', 80), ('want', 72), ('need', 66), ('try', 43)]\n",
      "\n",
      "FoodBusiness/Finance --> [('think', 25), ('know', 21), ('need', 15), ('find', 12), ('want', 11)]\n",
      "\n",
      "Coronavirus --> [('think', 42), ('need', 28), ('let', 25), ('want', 24), ('ask', 23)]\n",
      "\n",
      "CAA-NRC-NPR --> [('think', 34), ('need', 19), ('know', 19), ('let', 15), ('want', 14)]\n",
      "\n"
     ]
    }
   ],
   "source": [
    "for f in flairs:\n",
    "    doc = nlp(complete_text_for_each_flair[f])\n",
    "    verbs = []\n",
    "    for token in doc:\n",
    "        if (token.dep_ == 'ROOT'):\n",
    "            if(token.is_stop == False):\n",
    "                verbs.append(token.text)\n",
    "        \n",
    "\n",
    "    verbs = Counter(verbs)\n",
    "    top_5 = verbs.most_common(5)\n",
    "    print(f,\"-->\",top_5,end = '\\n\\n')"
   ]
  },
  {
   "cell_type": "markdown",
   "metadata": {},
   "source": [
    "### Random verbs\n",
    "---\n",
    "- This provides us a better view of actions that a flair can be involved in\n",
    "  - Politics --> speak, win, face\n",
    "  - Photography --> comments\n",
    "  - Policy/Economy  --> suggest, grow, hope\n",
    "  - AskIndia  --> tell, understand\n",
    "  - Sports  --> beat\n",
    "  - Science/Technology  --> write, try\n",
    "  - Coronavirus  --> use, test\n",
    "  - CAA-NRC-NPR  --> protest"
   ]
  },
  {
   "cell_type": "code",
   "execution_count": 123,
   "metadata": {},
   "outputs": [
    {
     "name": "stdout",
     "output_type": "stream",
     "text": [
      "Scheduled  -----> play, feel, wait, understand, find, \n",
      "\n",
      "Politics  -----> speak, win, let, face, forget, \n",
      "\n",
      "Photography  -----> comments, know, happen, feel, need, \n",
      "\n",
      "Policy/Economy  -----> suggest, grow, hope, use, suppose, \n",
      "\n",
      "AskIndia  -----> tell, include, yeah, askindia, understand, \n",
      "\n",
      "Sports  -----> find, leave, stop, yeah, beat, \n",
      "\n",
      "Non-Political  -----> think, believe, let, comments, know, \n",
      "\n",
      "Science/Technology  -----> comments, hear, write, try, try, \n",
      "\n",
      "FoodBusiness/Finance  -----> find, know, think, think, find, \n",
      "\n",
      "Coronavirus  -----> use, test, feel, mean, start, \n",
      "\n",
      "CAA-NRC-NPR  -----> know, protest, write, understand, let, \n",
      "\n"
     ]
    }
   ],
   "source": [
    "for f in flairs:\n",
    "    doc = nlp(complete_text_for_each_flair[f])\n",
    "    verbs = []\n",
    "    for token in doc:\n",
    "        if (tovken.dep_ == 'ROOT'):\n",
    "            if(token.is_stop == False):\n",
    "                verbs.append(token.text)\n",
    "        \n",
    "\n",
    "    verbs = Counter(verbs)\n",
    "    freq_cnt = dict(verbs)\n",
    "    sorted_verbs = sorted(freq_cnt.items(),key = lambda x : x[1])\n",
    "    sorted_verbs = [w[0] for w in sorted_verbs if w[1] > 10]\n",
    "    idx = np.random.randint(0, len(sorted_verbs), size=(5,))\n",
    "    print(f, \" -----> \",end = '')\n",
    "    for i in idx:\n",
    "        print(sorted_verbs[i],end = ', ')\n",
    "       \n",
    "    print('\\n')"
   ]
  },
  {
   "cell_type": "markdown",
   "metadata": {},
   "source": [
    "### 5.3.3 Most common Subjects\n",
    "---\n",
    "- the subject is the part of a sentence that commonly indicates\n",
    "    - what it is about\n",
    "    - who or what performs the action"
   ]
  },
  {
   "cell_type": "code",
   "execution_count": 87,
   "metadata": {},
   "outputs": [
    {
     "name": "stdout",
     "output_type": "stream",
     "text": [
      "Scheduled --> [('anyone', 58), ('thing', 50), ('guy', 46), ('someone', 45), ('caste', 40)]\n",
      "\n",
      "Politics --> [('bjp', 104), ('politics', 87), ('government', 79), ('modi', 71), ('thing', 69)]\n",
      "\n",
      "Photography --> [('photography', 47), ('comments', 39), ('work', 32), ('guy', 31), ('everyone', 30)]\n",
      "\n",
      "Policy/Economy --> [('government', 168), ('economy', 160), ('modi', 133), ('country', 101), ('thing', 72)]\n",
      "\n",
      "AskIndia --> [('thing', 97), ('askindia', 78), ('life', 65), ('someone', 62), ('guy', 55)]\n",
      "\n",
      "Sports --> [('sport', 56), ('someone', 54), ('country', 51), ('team', 48), ('thing', 47)]\n",
      "\n",
      "Non-Political --> [('comments', 35), ('thing', 31), ('guy', 30), ('someone', 29), ('op', 21)]\n",
      "\n",
      "Science/Technology --> [('technology', 53), ('government', 47), ('help', 46), ('thing', 42), ('science', 40)]\n",
      "\n",
      "FoodBusiness/Finance --> [('post', 22), ('thing', 16), ('government', 13), ('one', 12), ('bank', 11)]\n",
      "\n",
      "Coronavirus --> [('coronavirus', 68), ('government', 38), ('country', 31), ('doctor', 29), ('pm', 28)]\n",
      "\n",
      "CAA-NRC-NPR --> [('nrc', 36), ('protest', 27), ('npr', 27), ('country', 26), ('government', 24)]\n",
      "\n"
     ]
    }
   ],
   "source": [
    "for f in flairs:\n",
    "    doc = nlp(complete_text_for_each_flair[f])\n",
    "    subjects = []\n",
    "    for token in doc:\n",
    "        if (token.dep_ == 'nsubj' or token.dep_ == 'nsubjpass' or token.dep_ == 'csubj' or token.dep_ == 'csubjpass'):\n",
    "            if (token.text != 'people' and token.text != 'india'):  # people and india are the most common nouns in the dataset\n",
    "                subjects.append(token.text)\n",
    "        \n",
    "\n",
    "    subjects = Counter(subjects)\n",
    "    top_5 = subjects.most_common(5)\n",
    "    print(f,\"-->\",top_5,end = '\\n\\n')"
   ]
  },
  {
   "cell_type": "markdown",
   "metadata": {},
   "source": [
    "### Random Subjects\n",
    "---"
   ]
  },
  {
   "cell_type": "code",
   "execution_count": 126,
   "metadata": {},
   "outputs": [
    {
     "name": "stdout",
     "output_type": "stream",
     "text": [
      "Scheduled  -----> time, help, everyone, thing, schedule, \n",
      "\n",
      "Politics  -----> man, post, reason, problem, anyone, \n",
      "\n",
      "Photography  -----> someone, time, someone, time, op, \n",
      "\n",
      "Policy/Economy  -----> data, case, population, bot, economy, \n",
      "\n",
      "AskIndia  -----> u, work, thing, way, person, \n",
      "\n",
      "Sports  -----> cricket, something, movie, teacher, tv, \n",
      "\n",
      "Non-Political  -----> one, comments, people, one, thing, \n",
      "\n",
      "Science/Technology  -----> break, help, message, article, govt, \n",
      "\n",
      "FoodBusiness/Finance  -----> people, post, post, thing, india, \n",
      "\n",
      "Coronavirus  -----> pm, someone, delhi, doctor, india, \n",
      "\n",
      "CAA-NRC-NPR  -----> caa, india, bjp, npr, country, \n",
      "\n"
     ]
    }
   ],
   "source": [
    "for f in flairs:\n",
    "    doc = nlp(complete_text_for_each_flair[f])\n",
    "    subjects = []\n",
    "    for token in doc:\n",
    "        if (token.dep_ == 'nsubj' or token.dep_ == 'nsubjpass' or token.dep_ == 'csubj' or token.dep_ == 'csubjpass'):\n",
    "                subjects.append(token.text)\n",
    "        \n",
    "\n",
    "    subjects = Counter(subjects)\n",
    "    freq_cnt = dict(subjects)\n",
    "    sorted_verbs = sorted(freq_cnt.items(),key = lambda x : x[1])\n",
    "    sorted_verbs = [w[0] for w in sorted_verbs if w[1] > 15]\n",
    "    idx = np.random.randint(0, len(sorted_verbs), size=(5,))\n",
    "    print(f, \" -----> \",end = '')\n",
    "    for i in idx:\n",
    "        print(sorted_verbs[i],end = ', ')\n",
    "       \n",
    "    print('\\n')"
   ]
  },
  {
   "cell_type": "markdown",
   "metadata": {},
   "source": [
    "## 5.4 Most common Bigrams, Trigrams\n",
    "---\n",
    "### 5.4.1 Bigrams\n",
    "---\n",
    "- A bigram is a made up of two words, every two adjacent words in text create one bigram.\n",
    "- For the sentence, \"I like playing football\" the bigrams are ----> [ \"I like\", \"like playing\", \"playing football\" ]\n",
    "- Compared with unigrams bigrams can convey more meaning.\n",
    "- We'll extract the most common bigrams"
   ]
  },
  {
   "cell_type": "code",
   "execution_count": 63,
   "metadata": {},
   "outputs": [],
   "source": [
    "from nltk import bigrams, trigrams   # using nltk"
   ]
  },
  {
   "cell_type": "code",
   "execution_count": 64,
   "metadata": {},
   "outputs": [],
   "source": [
    "nlp = English()                     \n",
    "nlp.max_length = 3000000\n",
    "complete_doc = nlp(complete_text)\n",
    "unigrams = [token.text for token in complete_doc if not token.is_stop]     # creating list of all unigrams (words)"
   ]
  },
  {
   "cell_type": "markdown",
   "metadata": {},
   "source": [
    "- **'india comments'** is the most common bigram, which is literally what r/india users are doing !\n",
    "- other interesting observations are :- 'youtube watch', 'prime minister', 'reddit india'"
   ]
  },
  {
   "cell_type": "code",
   "execution_count": 66,
   "metadata": {},
   "outputs": [
    {
     "data": {
      "image/png": "[encoded data removed]",
      "text/plain": [
       "<Figure size 576x576 with 1 Axes>"
      ]
     },
     "metadata": {},
     "output_type": "display_data"
    }
   ],
   "source": [
    "bi_grams = bigrams(unigrams)            # bi_grams --> generator object containing bigrams\n",
    "bigram_list = []\n",
    "temp = [w for w in bi_grams]\n",
    "for x in temp:                          # creating list of bigrams\n",
    "    y = x[0]+' '+x[1]\n",
    "    bigram_list.append(y)               \n",
    "   \n",
    "bigram_freq = Counter(bigram_list)\n",
    "bigram_top = bigram_freq.most_common(10)\n",
    "x = []\n",
    "y = []\n",
    "for element in bigram_top:\n",
    "    x.append(element[0])\n",
    "    y.append(element[1])\n",
    "   \n",
    "plt.figure(figsize=(8,8))\n",
    "sns.barplot(x = x,y = y)\n",
    "plt.xticks(rotation=45, horizontalalignment='right',fontweight='light',fontsize='x-large')\n",
    "plt.show()    \n",
    "    \n"
   ]
  },
  {
   "cell_type": "markdown",
   "metadata": {},
   "source": [
    "### Below we explore most common bigrams with respect to each flair\n",
    "---\n",
    "- We get fascinating results :-\n",
    "    \n",
    "  1. **Scheduled** -----> 'schedule caste'  ,  'sc st'\n",
    "    \n",
    "  \n",
    "  2. **Politics**  -----> 'political party'  ,  'amit shah' , 'shiv sena' , 'social medium'\n",
    "    \n",
    "  \n",
    "  3. **Photography**  -----> 'photography thread' , 'weekly photography'\n",
    "    \n",
    "  \n",
    "  4. **Policy/Economy**  -----> 'indian economy' , 'narendra modi' , 'modi government' , 'long term'\n",
    "    \n",
    "  \n",
    "  5. **AskIndia**  -----> 'english hindi'\n",
    "    \n",
    "  \n",
    "  6. **Sports**  -----> 'world cup' , 'star sport' , 'virat kohli'\n",
    "    \n",
    "  \n",
    "  7. **Non-Political**  -----> 'north indian' , 'south indian'\n",
    "    \n",
    "  \n",
    "  8. **Science/Technology**  -----> 'science technology'\n",
    "    \n",
    "  \n",
    "  9. **FoodBusiness/Finance**  -----> 'indian economy' , 'economy week' , 'indian startup'\n",
    "    \n",
    "  \n",
    "  10. **Coronavirus**  -----> 'coronavirus lockdown' , 'coronavirus india' , 'tablighi jamaat' , 'pm care' , 'fake news'\n",
    "    \n",
    "  \n",
    "  11. **CAA-NRC-NPR**  ----->  'caa nrc' , 'nrc npr'\n",
    "  \n",
    "  "
   ]
  },
  {
   "cell_type": "code",
   "execution_count": 135,
   "metadata": {},
   "outputs": [
    {
     "name": "stdout",
     "output_type": "stream",
     "text": [
      "Scheduled   ----->   [('india comments', 154), ('youtube watch', 60), ('schedule caste', 40), ('sc st', 39), ('daily discussion', 38), ('random daily', 37)]\n",
      "\n",
      "\n",
      "Politics   ----->   [('india comments', 86), ('political party', 39), ('amit shah', 36), ('look like', 35), ('shiv sena', 34), ('social medium', 29)]\n",
      "\n",
      "\n",
      "Photography   ----->   [('india comments', 140), ('photography thread', 75), ('weekly photography', 67), ('thread thread', 54), ('look like', 24), ('youtube channel', 21)]\n",
      "\n",
      "\n",
      "Policy/Economy   ----->   [('india comments', 140), ('indian economy', 79), ('prime minister', 50), ('long term', 50), ('narendra modi', 47), ('modi government', 45)]\n",
      "\n",
      "\n",
      "AskIndia   ----->   [('india comments', 230), ('english hindi', 46), ('hindi english', 30), ('reddit india', 28), ('india ments', 26), ('gon na', 19)]\n",
      "\n",
      "\n",
      "Sports   ----->   [('india comments', 135), ('world cup', 43), ('star sport', 40), ('virat kohli', 24), ('india india', 23), ('social medium', 20)]\n",
      "\n",
      "\n",
      "Non-Political   ----->   [('non political', 266), ('india comments', 120), ('bubble bubble', 39), ('political india', 33), ('south indian', 22), ('north indian', 20)]\n",
      "\n",
      "\n",
      "Science/Technology   ----->   [('science technology', 220), ('india comments', 129), ('reddit message', 45), ('message pose', 45), ('message creator', 32), ('creator reddit', 32)]\n",
      "\n",
      "\n",
      "FoodBusiness/Finance   ----->   [('india comments', 42), ('week indian', 27), ('indian economy', 27), ('economy week', 22), ('week th', 14), ('indian startup', 12)]\n",
      "\n",
      "\n",
      "Coronavirus   ----->   [('india comments', 50), ('coronavirus lockdown', 36), ('coronavirus india', 30), ('fake news', 28), ('tablighi jamaat', 25), ('pm care', 25)]\n",
      "\n",
      "\n",
      "CAA-NRC-NPR   ----->   [('caa nrc', 76), ('nrc npr', 56), ('npr nrc', 46), ('caa npr', 44), ('india comments', 40), ('nrc caa', 26)]\n",
      "\n",
      "\n"
     ]
    }
   ],
   "source": [
    "for f in flairs:\n",
    "    doc = nlp(complete_text_for_each_flair[f])\n",
    "    unigrams = [token.text for token in doc if not token.is_stop]\n",
    "    bi_grams = bigrams(unigrams)\n",
    "    bigram_list = []\n",
    "    temp = [w for w in bi_grams]\n",
    "    for x in temp:\n",
    "        y = x[0]+' '+x[1]\n",
    "        bigram_list.append(y)\n",
    "\n",
    "    bigram_freq = Counter(bigram_list)\n",
    "    bigram_top = bigram_freq.most_common(6)\n",
    "    print(f,\"  ----->  \",bigram_top,end = '\\n\\n\\n')\n",
    "    "
   ]
  },
  {
   "cell_type": "markdown",
   "metadata": {},
   "source": [
    "### 5.4.2 Trigrams\n",
    "---\n",
    "- Trigram is a collection of three words, every three adjacent words make up one trigram\n",
    "- For the sentence, \"I like playing football\" the trigrams are ----> [ \"I like playing\", \"like playing football\" ]\n"
   ]
  },
  {
   "cell_type": "code",
   "execution_count": 68,
   "metadata": {},
   "outputs": [
    {
     "data": {
      "image/png": "[encoded data removed]",
      "text/plain": [
       "<Figure size 576x576 with 1 Axes>"
      ]
     },
     "metadata": {},
     "output_type": "display_data"
    }
   ],
   "source": [
    "tri_grams = trigrams(unigrams)\n",
    "trigram_list = []\n",
    "temp = [w for w in tri_grams]\n",
    "for x in temp:\n",
    "    y = x[0]+' '+x[1]+' '+x[2]\n",
    "    trigram_list.append(y)\n",
    "   \n",
    "trigram_freq = Counter(trigram_list)\n",
    "trigram_top = trigram_freq.most_common(10)\n",
    "x = []\n",
    "y = []\n",
    "for element in trigram_top:\n",
    "    x.append(element[0])\n",
    "    y.append(element[1])\n",
    "   \n",
    "plt.figure(figsize=(8,8))\n",
    "sns.barplot(x = x,y = y)\n",
    "plt.xticks(rotation=45, horizontalalignment='right',fontweight='light',fontsize='x-large')\n",
    "plt.show()    \n",
    "    \n",
    "\n"
   ]
  },
  {
   "cell_type": "markdown",
   "metadata": {},
   "source": [
    "- Some cool results :-\n",
    "  \n",
    "  1. **Scheduled** -----> 'thread schedule india'\n",
    "    \n",
    "  \n",
    "  2. **Politics**  -----> 'bharat mata ki' , 'politics india comments' , 'indiatoday india story'\n",
    "    \n",
    "  \n",
    "  3. **Photography**  -----> 'weekly photography thread'\n",
    "        \n",
    "  \n",
    "  4. **Sports**  -----> 'star sport select' , 'delhi cabinet approves' , 'sport india comments'\n",
    "    \n",
    "  \n",
    "  5. **Non-Political**  -----> 'non political india'\n",
    "    \n",
    "  \n",
    "  6. **FoodBusiness/Finance**  -----> 'week indian economy'  ,  'indian startup week'\n",
    "    \n",
    "  \n",
    "  7. **Coronavirus**  -----> 'india news coronavirus' , 'pm care fund' , 'news national coronavirus'\n",
    "    \n",
    "  \n",
    "  8. **CAA-NRC-NPR**  ----->  'caa nrc npr'  ,  'twitter nrcprotest status'"
   ]
  },
  {
   "cell_type": "code",
   "execution_count": 136,
   "metadata": {},
   "outputs": [
    {
     "name": "stdout",
     "output_type": "stream",
     "text": [
      "Scheduled  ----->  [('random daily discussion', 37), ('schedule india comments', 32), ('thread schedule india', 26), ('weekly photography thread', 24), ('photography thread thread', 24)]\n",
      "\n",
      "\n",
      "Politics  ----->  [('politics india comments', 10), ('reddit india ments', 10), ('twitter impression true', 8), ('bharat mata ki', 8), ('indiatoday india story', 7)]\n",
      "\n",
      "\n",
      "Photography  ----->  [('weekly photography thread', 67), ('photography thread thread', 54), ('reddit india ments', 14), ('thread thread december', 10), ('thread thread september', 10)]\n",
      "\n",
      "\n",
      "Policy/Economy  ----->  [('reddit message pose', 37), ('article adblocker unfriendly', 22), ('adblocker unfriendly follow', 22), ('unfriendly follow text', 22), ('follow text article', 22)]\n",
      "\n",
      "\n",
      "AskIndia  ----->  [('reddit india ments', 25), ('india india comments', 15), ('askindia india comments', 13), ('nbsp nbsp nbsp', 13), ('covid megathread news', 11)]\n",
      "\n",
      "\n",
      "Sports  ----->  [('india india comments', 20), ('star sport select', 10), ('accidental prime minister', 9), ('sport india comments', 7), ('delhi cabinet approves', 6)]\n",
      "\n",
      "\n",
      "Non-Political  ----->  [('bubble bubble bubble', 38), ('non political india', 32), ('political india comments', 26), ('  non political', 16), ('reddit message pose', 16)]\n",
      "\n",
      "\n",
      "Science/Technology  ----->  [('reddit message pose', 45), ('message creator reddit', 32), ('creator reddit message', 32), ('message pose sallurocks', 31), ('github hunkdivine samacharbot', 31)]\n",
      "\n",
      "\n",
      "FoodBusiness/Finance  ----->  [('week indian economy', 25), ('indian economy week', 22), ('economy week end', 11), ('economy week ending', 11), ('indian startup week', 10)]\n",
      "\n",
      "\n",
      "Coronavirus  ----->  [('indiatoday india story', 13), ('india news coronavirus', 13), ('pm care fund', 12), ('india comments fu', 11), ('news national coronavirus', 10)]\n",
      "\n",
      "\n",
      "CAA-NRC-NPR  ----->  [('caa nrc npr', 51), ('caa npr nrc', 35), ('protest caa nrc', 14), ('npr nrc caa', 10), ('twitter nrcprotest status', 6)]\n",
      "\n",
      "\n"
     ]
    }
   ],
   "source": [
    "for f in flairs:\n",
    "    doc = nlp(complete_text_for_each_flair[f])\n",
    "    unigrams = [token.text for token in doc if not token.is_stop]\n",
    "    tri_grams = trigrams(unigrams)\n",
    "    trigram_list = []\n",
    "    temp = [w for w in tri_grams]\n",
    "    for x in temp:\n",
    "        y = x[0]+' '+x[1]+' '+x[2]\n",
    "        trigram_list.append(y)\n",
    "\n",
    "    trigram_freq = Counter(trigram_list)\n",
    "    trigram_top = trigram_freq.most_common(5)\n",
    "    print(f,\" -----> \",trigram_top,end = '\\n\\n\\n')\n"
   ]
  }
 ],
 "metadata": {
  "kernelspec": {
   "display_name": "Python 3",
   "language": "python",
   "name": "python3"
  },
  "language_info": {
   "codemirror_mode": {
    "name": "ipython",
    "version": 3
   },
   "file_extension": ".py",
   "mimetype": "text/x-python",
   "name": "python",
   "nbconvert_exporter": "python",
   "pygments_lexer": "ipython3",
   "version": "3.6.5"
  }
 },
 "nbformat": 4,
 "nbformat_minor": 2
}
