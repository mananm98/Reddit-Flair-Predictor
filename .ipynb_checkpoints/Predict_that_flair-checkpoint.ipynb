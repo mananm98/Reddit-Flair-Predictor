{
 "cells": [
  {
   "cell_type": "code",
   "execution_count": 1,
   "metadata": {},
   "outputs": [
    {
     "name": "stderr",
     "output_type": "stream",
     "text": [
      "Using TensorFlow backend.\n"
     ]
    }
   ],
   "source": [
    "import numpy as np\n",
    "import matplotlib.pyplot as plt\n",
    "import pandas as pd\n",
    "import re\n",
    "import nltk\n",
    "import pickle\n",
    "from sklearn.preprocessing import LabelEncoder\n",
    "from keras.preprocessing.text import Tokenizer\n",
    "from keras.preprocessing.sequence import pad_sequences\n",
    "from keras.layers import *\n",
    "from keras.optimizers import Adam\n",
    "from keras.models import Model\n",
    "from keras.models import load_model\n",
    "import praw\n",
    "import h5py\n",
    "from nltk.corpus import stopwords\n",
    "from nltk.stem.wordnet import WordNetLemmatizer \n",
    "from nltk.corpus import wordnet"
   ]
  },
  {
   "cell_type": "code",
   "execution_count": 2,
   "metadata": {},
   "outputs": [
    {
     "name": "stderr",
     "output_type": "stream",
     "text": [
      "/Users/mananmehta/anaconda3/lib/python3.6/site-packages/tensorflow_core/python/framework/indexed_slices.py:433: UserWarning: Converting sparse IndexedSlices to a dense Tensor of unknown shape. This may consume a large amount of memory.\n",
      "  \"Converting sparse IndexedSlices to a dense Tensor of unknown shape. \"\n"
     ]
    }
   ],
   "source": [
    "model = load_model('./model_CNN.h5')\n",
    "model._make_predict_function()"
   ]
  },
  {
   "cell_type": "code",
   "execution_count": 3,
   "metadata": {},
   "outputs": [],
   "source": [
    "with open('./model_CNN_cache.pickle', 'rb') as f:\n",
    "    cache = pickle.load(f)"
   ]
  },
  {
   "cell_type": "code",
   "execution_count": 4,
   "metadata": {},
   "outputs": [],
   "source": [
    "tk = cache['tokenizer']\n",
    "le = cache['Label_Encoder']"
   ]
  },
  {
   "cell_type": "code",
   "execution_count": 5,
   "metadata": {},
   "outputs": [],
   "source": [
    "# praw instance\n",
    "reddit = praw.Reddit(client_id='FIvso8ETavDmfw', client_secret='uZy6eZ6fs7PJEblJO2lwbxs1f_U', user_agent='project_script')"
   ]
  },
  {
   "cell_type": "code",
   "execution_count": 6,
   "metadata": {},
   "outputs": [],
   "source": [
    "stopwords_set = set(stopwords.words('english'))          # stopwords set\n",
    "wnl = WordNetLemmatizer()                                # Lemmatizer\n",
    "\n",
    "def lemmatise(sent):\n",
    "    \"\"\"\n",
    "    Performs lemmatization of text\n",
    "    \"\"\"\n",
    "    sent = nltk.tag.pos_tag(sent)\n",
    "    sent = [(w,get_wordnet_pos(p)) for (w,p) in sent]\n",
    "    sent = [wnl.lemmatize(w,tag) for (w,tag) in sent]\n",
    "    return sent\n",
    "\n",
    "def get_wordnet_pos(tag):\n",
    "    \"\"\"\n",
    "    returns part_of_speech tag to lemmatizer in 'wordnet' format for lemmatization\n",
    "    \"\"\"\n",
    "    if tag.startswith('J'):\n",
    "        return wordnet.ADJ\n",
    "    elif tag.startswith('V'):\n",
    "        return wordnet.VERB\n",
    "    elif tag.startswith('N'):\n",
    "        return wordnet.NOUN\n",
    "    elif tag.startswith('R'):\n",
    "        return wordnet.ADV\n",
    "    else:\n",
    "        return wordnet.NOUN\n",
    "\n",
    "def text_cleaning(sent):\n",
    "    sent = sent.lower()   #converting to lower case\n",
    "    sent = re.sub(\"[^a-zA-Z]+|(pdf|html|www|http|jpg|com)\",\" \",sent) # removing numbers and punctuation\n",
    "    sent = sent.split()\n",
    "\n",
    "    sent = [w for w in sent if len(w)>1] # removing words of length 1 \n",
    "    sent = [w for w in sent if w not in stopwords_set] # removing stopwords\n",
    "    sent = lemmatise(sent)    # lemmatization\n",
    "    sent = \" \".join(sent)\n",
    "    return sent\n",
    "\n",
    "def regex_on_url(text):    # custom regex to extract of only meaningful words from url\n",
    "    return re.sub(\"(https://)|[a-z.]+(com)|[^a-zA-Z]|(pdf|html|www|http|jpg)\",' ',text)\n",
    "\n",
    "def clean_url(text):\n",
    "    text = text.lower()       # converting to lowercase\n",
    "    text = regex_on_url(text) # regex\n",
    "    text = text.split()\n",
    "    \n",
    "    text = [w for w in text if len(w)>1] # removing words of length 1 \n",
    "    text = [w for w in text if w not in stopwords_set] # removing stopwords\n",
    "    text = \" \".join(text)\n",
    "    return text"
   ]
  },
  {
   "cell_type": "code",
   "execution_count": 7,
   "metadata": {},
   "outputs": [],
   "source": [
    "def extract_text_from_url(url):\n",
    "    submission = reddit.submission(url = url)\n",
    "\n",
    "    title = submission.title\n",
    "    title = text_cleaning(title)\n",
    "    \n",
    "    body = submission.selftext\n",
    "    body = text_cleaning(body)\n",
    "    \n",
    "    URL = submission.url\n",
    "    URL = clean_url(URL)\n",
    "    \n",
    "    text = title + \" \" + body + \" \" + URL\n",
    "    text_list = []\n",
    "    text_list.append(text)\n",
    "    return text_list"
   ]
  },
  {
   "cell_type": "code",
   "execution_count": 8,
   "metadata": {},
   "outputs": [],
   "source": [
    "def predict_flair(model,url,tk,le):\n",
    "    text = extract_text_from_url(url)\n",
    "    X_test = tk.texts_to_sequences(text)\n",
    "    X_test_pad = pad_sequences(X_test,maxlen = 300, padding = 'post',truncating = 'post')\n",
    "    prediction = model.predict(X_test_pad)\n",
    "    prediction = np.argmax(prediction,axis = 1)\n",
    "    prediction = le.inverse_transform(prediction)[0]\n",
    "    \n",
    "    return prediction"
   ]
  }
 ],
 "metadata": {
  "kernelspec": {
   "display_name": "Python 3",
   "language": "python",
   "name": "python3"
  },
  "language_info": {
   "codemirror_mode": {
    "name": "ipython",
    "version": 3
   },
   "file_extension": ".py",
   "mimetype": "text/x-python",
   "name": "python",
   "nbconvert_exporter": "python",
   "pygments_lexer": "ipython3",
   "version": "3.6.10"
  }
 },
 "nbformat": 4,
 "nbformat_minor": 2
}
