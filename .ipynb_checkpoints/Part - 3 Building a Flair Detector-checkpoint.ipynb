{
 "cells": [
  {
   "cell_type": "markdown",
   "metadata": {},
   "source": [
    "# Finding the best model for text classification\n",
    "---\n",
    "- Previously in [Part - 2](https://github.com/mananm98/Reddit-Flair-Predictor/blob/master/Part%20-%202%20Exploratory%20Data%20Analysis.ipynb) I explored a range of linguistic features to distinguish between different reddit flairs\n",
    "- In this notebook, I will be using those features to build a classification model "
   ]
  },
  {
   "cell_type": "code",
   "execution_count": 654,
   "metadata": {},
   "outputs": [],
   "source": [
    "import numpy as np\n",
    "import matplotlib.pyplot as plt\n",
    "import pandas as pd\n",
    "import re\n",
    "import nltk\n",
    "from sklearn.preprocessing import LabelEncoder, OneHotEncoder\n",
    "from sklearn.model_selection import train_test_split\n",
    "from sklearn.pipeline import Pipeline\n",
    "from sklearn.feature_extraction.text import TfidfVectorizer, CountVectorizer\n",
    "from sklearn.svm import LinearSVC\n",
    "from sklearn.naive_bayes import MultinomialNB\n",
    "from sklearn.linear_model import LogisticRegression\n",
    "from sklearn.ensemble import RandomForestClassifier\n",
    "from sklearn.model_selection import GridSearchCV"
   ]
  },
  {
   "cell_type": "code",
   "execution_count": 965,
   "metadata": {},
   "outputs": [
    {
     "data": {
      "text/html": [
       "<script>\n",
       "code_show_err=false; \n",
       "function code_toggle_err() {\n",
       " if (code_show_err){\n",
       " $('div.output_stderr').hide();\n",
       " } else {\n",
       " $('div.output_stderr').show();\n",
       " }\n",
       " code_show_err = !code_show_err\n",
       "} \n",
       "$( document ).ready(code_toggle_err);\n",
       "</script>\n",
       "To toggle on/off output_stderr, click <a href=\"javascript:code_toggle_err()\">here</a>."
      ],
      "text/plain": [
       "<IPython.core.display.HTML object>"
      ]
     },
     "execution_count": 965,
     "metadata": {},
     "output_type": "execute_result"
    }
   ],
   "source": [
    "from IPython.display import HTML\n",
    "HTML('''<script>\n",
    "code_show_err=false; \n",
    "function code_toggle_err() {\n",
    " if (code_show_err){\n",
    " $('div.output_stderr').hide();\n",
    " } else {\n",
    " $('div.output_stderr').show();\n",
    " }\n",
    " code_show_err = !code_show_err\n",
    "} \n",
    "$( document ).ready(code_toggle_err);\n",
    "</script>\n",
    "To toggle on/off output_stderr, click <a href=\"javascript:code_toggle_err()\">here</a>.''')"
   ]
  },
  {
   "cell_type": "code",
   "execution_count": 923,
   "metadata": {},
   "outputs": [],
   "source": [
    "data = pd.read_csv('reddit-data-cleaned.csv')"
   ]
  },
  {
   "cell_type": "code",
   "execution_count": 924,
   "metadata": {},
   "outputs": [
    {
     "data": {
      "text/html": [
       "<div>\n",
       "<style scoped>\n",
       "    .dataframe tbody tr th:only-of-type {\n",
       "        vertical-align: middle;\n",
       "    }\n",
       "\n",
       "    .dataframe tbody tr th {\n",
       "        vertical-align: top;\n",
       "    }\n",
       "\n",
       "    .dataframe thead th {\n",
       "        text-align: right;\n",
       "    }\n",
       "</style>\n",
       "<table border=\"1\" class=\"dataframe\">\n",
       "  <thead>\n",
       "    <tr style=\"text-align: right;\">\n",
       "      <th></th>\n",
       "      <th>title</th>\n",
       "      <th>score</th>\n",
       "      <th>body</th>\n",
       "      <th>url</th>\n",
       "      <th>num_comments</th>\n",
       "      <th>comments</th>\n",
       "      <th>flair</th>\n",
       "      <th>id</th>\n",
       "    </tr>\n",
       "  </thead>\n",
       "  <tbody>\n",
       "    <tr>\n",
       "      <th>0</th>\n",
       "      <td>delhi govt source names cm arvind kejriwal dep...</td>\n",
       "      <td>302</td>\n",
       "      <td>NaN</td>\n",
       "      <td>ani status</td>\n",
       "      <td>30</td>\n",
       "      <td>beyond petty inclusion delhi government school...</td>\n",
       "      <td>Scheduled</td>\n",
       "      <td>f7ogd8</td>\n",
       "    </tr>\n",
       "    <tr>\n",
       "      <th>1</th>\n",
       "      <td>delhi ap singh advocate delhi gang rape convic...</td>\n",
       "      <td>17</td>\n",
       "      <td>NaN</td>\n",
       "      <td>ani status</td>\n",
       "      <td>22</td>\n",
       "      <td>hunch guy try expose loophole legal system nev...</td>\n",
       "      <td>Scheduled</td>\n",
       "      <td>flgvah</td>\n",
       "    </tr>\n",
       "    <tr>\n",
       "      <th>2</th>\n",
       "      <td>supreme court verdict sc st quota create polit...</td>\n",
       "      <td>106</td>\n",
       "      <td>NaN</td>\n",
       "      <td>scroll article supreme courts verdict sc st qu...</td>\n",
       "      <td>47</td>\n",
       "      <td>muslim reservation two distraction use indian ...</td>\n",
       "      <td>Scheduled</td>\n",
       "      <td>f1o839</td>\n",
       "    </tr>\n",
       "    <tr>\n",
       "      <th>3</th>\n",
       "      <td>entrance exam schedule may</td>\n",
       "      <td>9</td>\n",
       "      <td>clat ailet neet jee postpone two week would ab...</td>\n",
       "      <td>india comments fvcvo entrance exams scheduled may</td>\n",
       "      <td>3</td>\n",
       "      <td>bachega india tabhi toh padhega india gand mar...</td>\n",
       "      <td>Scheduled</td>\n",
       "      <td>fvcvo1</td>\n",
       "    </tr>\n",
       "    <tr>\n",
       "      <th>4</th>\n",
       "      <td>advisory schedule international mercial passen...</td>\n",
       "      <td>36</td>\n",
       "      <td>NaN</td>\n",
       "      <td>pib india status</td>\n",
       "      <td>4</td>\n",
       "      <td>oh boy chalo bhaisahab sabji ka dukaan main da...</td>\n",
       "      <td>Scheduled</td>\n",
       "      <td>fl8zf5</td>\n",
       "    </tr>\n",
       "  </tbody>\n",
       "</table>\n",
       "</div>"
      ],
      "text/plain": [
       "                                               title  score  \\\n",
       "0  delhi govt source names cm arvind kejriwal dep...    302   \n",
       "1  delhi ap singh advocate delhi gang rape convic...     17   \n",
       "2  supreme court verdict sc st quota create polit...    106   \n",
       "3                         entrance exam schedule may      9   \n",
       "4  advisory schedule international mercial passen...     36   \n",
       "\n",
       "                                                body  \\\n",
       "0                                                NaN   \n",
       "1                                                NaN   \n",
       "2                                                NaN   \n",
       "3  clat ailet neet jee postpone two week would ab...   \n",
       "4                                                NaN   \n",
       "\n",
       "                                                 url  num_comments  \\\n",
       "0                                         ani status            30   \n",
       "1                                         ani status            22   \n",
       "2  scroll article supreme courts verdict sc st qu...            47   \n",
       "3  india comments fvcvo entrance exams scheduled may             3   \n",
       "4                                   pib india status             4   \n",
       "\n",
       "                                            comments      flair      id  \n",
       "0  beyond petty inclusion delhi government school...  Scheduled  f7ogd8  \n",
       "1  hunch guy try expose loophole legal system nev...  Scheduled  flgvah  \n",
       "2  muslim reservation two distraction use indian ...  Scheduled  f1o839  \n",
       "3  bachega india tabhi toh padhega india gand mar...  Scheduled  fvcvo1  \n",
       "4  oh boy chalo bhaisahab sabji ka dukaan main da...  Scheduled  fl8zf5  "
      ]
     },
     "execution_count": 924,
     "metadata": {},
     "output_type": "execute_result"
    }
   ],
   "source": [
    "data.head()"
   ]
  },
  {
   "cell_type": "markdown",
   "metadata": {},
   "source": [
    "## 1. Bag of words Model on conventional ML algorithms\n",
    "---\n",
    "- We cannot input text directly to machine learning models. We need to convert the text to a vector of numbers, this step is called **Feature extraction**\n",
    "  \n",
    "    \n",
    "- For this we are going to use B.O.W (Bag of words) model, It focuses only on the occurence of words. The sentence structure, context, order of words is lost in B.O.W.\n",
    "\n",
    "\n",
    "- First we will convert each document in corpus to TF-IDF vector\n",
    "\n",
    "  \n",
    "- We will input these vectors to Machine Learning models like Naive-Bayes, Support-Vector-Machine, Logistic-Regression, Random-Forest \n"
   ]
  },
  {
   "cell_type": "markdown",
   "metadata": {},
   "source": [
    "## Preparing data for model\n",
    "---\n",
    "\n",
    "- It is possible that some features from the dataset may perform better than others. For instance, Only using **Title** for our model may give better accuracy than using only **url**, or maybe a combination of such features might result in a better accuracy. \n",
    "\n",
    "  \n",
    "- this is hard to guess at the moment, so I plan to try out different combinations of inputs from the dataset to get the best accuracy:- Title, url, comments, (Title + url + comments) \n",
    "\n",
    "  \n",
    "- lets see which performs the best, we will use those features in our final model.\n",
    "\n",
    "---\n"
   ]
  },
  {
   "cell_type": "code",
   "execution_count": 927,
   "metadata": {},
   "outputs": [],
   "source": [
    "def prepare_data(columns):\n",
    "\n",
    "    if len(columns) > 2:\n",
    "        df = data[columns].fillna(\"\")\n",
    "        columns.remove('flair')\n",
    "        X = df[columns].apply(lambda x : ' '.join(x),axis = 1)                     \n",
    "       \n",
    "    else :\n",
    "        df = data[columns].dropna()\n",
    "        X = df[columns[0]]\n",
    "        \n",
    "    X = X.values          # X - input\n",
    "    \n",
    "    le = LabelEncoder()\n",
    "    Y = le.fit_transform(df['flair'])    # Y - target_labels\n",
    "    \n",
    "    X_train, X_test, y_train, y_test = train_test_split(X, Y, test_size=0.15, random_state=42)   # ( 85 : 15 )\n",
    "    return (X_train, X_test, y_train, y_test)"
   ]
  },
  {
   "cell_type": "markdown",
   "metadata": {},
   "source": [
    "## 1.1 Title\n",
    "- Extracting **Title** from dataset"
   ]
  },
  {
   "cell_type": "code",
   "execution_count": 1251,
   "metadata": {},
   "outputs": [],
   "source": [
    "(X_train, X_test, y_train, y_test) = prepare_data(['title','flair'])"
   ]
  },
  {
   "cell_type": "code",
   "execution_count": 1257,
   "metadata": {},
   "outputs": [],
   "source": [
    "yoho = le.fit(data['flair'])"
   ]
  },
  {
   "cell_type": "code",
   "execution_count": 1258,
   "metadata": {},
   "outputs": [
    {
     "data": {
      "text/plain": [
       "array(['AskIndia', 'CAA-NRC-NPR', 'Coronavirus', 'FoodBusiness/Finance',\n",
       "       'Non-Political', 'Photography', 'Policy/Economy', 'Politics',\n",
       "       'Scheduled', 'Science/Technology', 'Sports'], dtype=object)"
      ]
     },
     "execution_count": 1258,
     "metadata": {},
     "output_type": "execute_result"
    }
   ],
   "source": [
    "le.classes_"
   ]
  },
  {
   "cell_type": "code",
   "execution_count": 929,
   "metadata": {},
   "outputs": [
    {
     "name": "stdout",
     "output_type": "stream",
     "text": [
      "X_train shape  =  (1892,)\n",
      "y_train shape  =  (1892,)\n",
      "X_test shape  =  (335,)\n",
      "y_test shape  =  (335,)\n"
     ]
    }
   ],
   "source": [
    "print(\"X_train shape  = \",X_train.shape)\n",
    "print(\"y_train shape  = \",y_train.shape)\n",
    "print(\"X_test shape  = \",X_test.shape)\n",
    "print(\"y_test shape  = \",y_test.shape)"
   ]
  },
  {
   "cell_type": "markdown",
   "metadata": {},
   "source": [
    "### Data is ready now we'll apply it to different classifiers\n",
    "---\n",
    "1. Linear SVC\n",
    "2. Naive - Bayes\n",
    "3. Logistic Regression\n",
    "4. Random Forest classifier"
   ]
  },
  {
   "cell_type": "code",
   "execution_count": 930,
   "metadata": {},
   "outputs": [
    {
     "name": "stdout",
     "output_type": "stream",
     "text": [
      "LinearSVC   ----->   0.7194029850746269\n",
      "\n",
      "Naive - Bayes   ----->   0.7074626865671642\n",
      "\n"
     ]
    },
    {
     "name": "stderr",
     "output_type": "stream",
     "text": [
      "/Users/mananmehta/anaconda3/lib/python3.6/site-packages/sklearn/linear_model/logistic.py:433: FutureWarning: Default solver will be changed to 'lbfgs' in 0.22. Specify a solver to silence this warning.\n",
      "  FutureWarning)\n",
      "/Users/mananmehta/anaconda3/lib/python3.6/site-packages/sklearn/linear_model/logistic.py:460: FutureWarning: Default multi_class will be changed to 'auto' in 0.22. Specify the multi_class option to silence this warning.\n",
      "  \"this warning.\", FutureWarning)\n"
     ]
    },
    {
     "name": "stdout",
     "output_type": "stream",
     "text": [
      "LogisticRegression   ----->   0.7522388059701492\n",
      "\n",
      "Random Forest Classifier   ----->   0.7164179104477612\n",
      "\n"
     ]
    }
   ],
   "source": [
    "classifiers = [ ('LinearSVC',LinearSVC(loss='hinge',C=0.2)) , ('Naive - Bayes',MultinomialNB() ),('LogisticRegression' ,LogisticRegression(C = 0.9)) ,('Random Forest Classifier' ,RandomForestClassifier(n_estimators=100,max_depth=100)) ]\n",
    "for clf in classifiers:\n",
    "    \n",
    "    text_clf = Pipeline([('tfidf',TfidfVectorizer(ngram_range=(1,2))),        # tf-idf vectorisation\n",
    "                    (clf[0],clf[1])                                            # estimator\n",
    "                   ])\n",
    "    \n",
    "    text_clf.fit(X_train,y_train)\n",
    "    predicted =  text_clf.predict(X_test)\n",
    "    accuracy = np.sum(predicted == y_test)/len(y_test)\n",
    "    print(clf[0],'  ----->  ',accuracy,end = '\\n\\n')"
   ]
  },
  {
   "cell_type": "markdown",
   "metadata": {},
   "source": [
    "## 1.2 URL \n",
    "---\n",
    "- Extracting url column from dataset and applying sklearn classifiers"
   ]
  },
  {
   "cell_type": "code",
   "execution_count": 931,
   "metadata": {},
   "outputs": [],
   "source": [
    "(X_train, X_test, y_train, y_test) = prepare_data(['url','flair'])"
   ]
  },
  {
   "cell_type": "code",
   "execution_count": 932,
   "metadata": {},
   "outputs": [
    {
     "name": "stdout",
     "output_type": "stream",
     "text": [
      "X_train shape  =  (1890,)\n",
      "y_train shape  =  (1890,)\n",
      "X_test shape  =  (334,)\n",
      "y_test shape  =  (334,)\n"
     ]
    }
   ],
   "source": [
    "print(\"X_train shape  = \",X_train.shape)\n",
    "print(\"y_train shape  = \",y_train.shape)\n",
    "print(\"X_test shape  = \",X_test.shape)\n",
    "print(\"y_test shape  = \",y_test.shape)"
   ]
  },
  {
   "cell_type": "code",
   "execution_count": 933,
   "metadata": {},
   "outputs": [
    {
     "name": "stdout",
     "output_type": "stream",
     "text": [
      "LinearSVC   ----->   0.5209580838323353\n",
      "\n",
      "Naive - Bayes   ----->   0.4431137724550898\n",
      "\n"
     ]
    },
    {
     "name": "stderr",
     "output_type": "stream",
     "text": [
      "/Users/mananmehta/anaconda3/lib/python3.6/site-packages/sklearn/linear_model/sag.py:334: ConvergenceWarning: The max_iter was reached which means the coef_ did not converge\n",
      "  \"the coef_ did not converge\", ConvergenceWarning)\n"
     ]
    },
    {
     "name": "stdout",
     "output_type": "stream",
     "text": [
      "LogisticRegression   ----->   0.5299401197604791\n",
      "\n",
      "Random Forest Classifier   ----->   0.5119760479041916\n",
      "\n"
     ]
    }
   ],
   "source": [
    "classifiers = [ ('LinearSVC',LinearSVC(loss='hinge',C=0.7)) , ('Naive - Bayes',MultinomialNB() ),('LogisticRegression' ,LogisticRegression(C = 25,solver='saga',penalty='l1',multi_class='multinomial')) ,('Random Forest Classifier' ,RandomForestClassifier(n_estimators=100,max_depth=100)) ]\n",
    "for clf in classifiers:\n",
    "    \n",
    "    text_clf = Pipeline([('tfidf',TfidfVectorizer(ngram_range=(1,2))),        \n",
    "                    (clf[0],clf[1])                                            \n",
    "                   ])\n",
    "    \n",
    "    text_clf.fit(X_train,y_train)\n",
    "    predicted =  text_clf.predict(X_test)\n",
    "    accuracy = np.sum(predicted == y_test)/len(y_test)\n",
    "    print(clf[0],'  ----->  ',accuracy,end = '\\n\\n')"
   ]
  },
  {
   "cell_type": "markdown",
   "metadata": {},
   "source": [
    "## 1.3 Comments\n",
    "---"
   ]
  },
  {
   "cell_type": "code",
   "execution_count": 934,
   "metadata": {},
   "outputs": [],
   "source": [
    "(X_train, X_test, y_train, y_test) = prepare_data(['comments','flair'])"
   ]
  },
  {
   "cell_type": "code",
   "execution_count": 935,
   "metadata": {},
   "outputs": [
    {
     "name": "stdout",
     "output_type": "stream",
     "text": [
      "X_train shape  =  (1706,)\n",
      "y_train shape  =  (1706,)\n",
      "X_test shape  =  (302,)\n",
      "y_test shape  =  (302,)\n"
     ]
    }
   ],
   "source": [
    "print(\"X_train shape  = \",X_train.shape)\n",
    "print(\"y_train shape  = \",y_train.shape)\n",
    "print(\"X_test shape  = \",X_test.shape)\n",
    "print(\"y_test shape  = \",y_test.shape)"
   ]
  },
  {
   "cell_type": "code",
   "execution_count": 936,
   "metadata": {},
   "outputs": [
    {
     "name": "stdout",
     "output_type": "stream",
     "text": [
      "LinearSVC   ----->   0.5132450331125827\n",
      "\n",
      "Naive - Bayes   ----->   0.4105960264900662\n",
      "\n"
     ]
    },
    {
     "name": "stderr",
     "output_type": "stream",
     "text": [
      "/Users/mananmehta/anaconda3/lib/python3.6/site-packages/sklearn/linear_model/logistic.py:433: FutureWarning: Default solver will be changed to 'lbfgs' in 0.22. Specify a solver to silence this warning.\n",
      "  FutureWarning)\n",
      "/Users/mananmehta/anaconda3/lib/python3.6/site-packages/sklearn/linear_model/logistic.py:460: FutureWarning: Default multi_class will be changed to 'auto' in 0.22. Specify the multi_class option to silence this warning.\n",
      "  \"this warning.\", FutureWarning)\n"
     ]
    },
    {
     "name": "stdout",
     "output_type": "stream",
     "text": [
      "LogisticRegression   ----->   0.4966887417218543\n",
      "\n",
      "Random Forest Classifier   ----->   0.38079470198675497\n",
      "\n"
     ]
    }
   ],
   "source": [
    "classifiers = [ ('LinearSVC',LinearSVC(loss='hinge',C=1)) , ('Naive - Bayes',MultinomialNB() ),('LogisticRegression' ,LogisticRegression(C = 10)) ,('Random Forest Classifier' ,RandomForestClassifier(n_estimators=100)) ]\n",
    "for clf in classifiers:\n",
    "    \n",
    "    text_clf = Pipeline([('tfidf',TfidfVectorizer(ngram_range=(1,2))),        \n",
    "                    (clf[0],clf[1])                                            \n",
    "                   ])\n",
    "    \n",
    "    text_clf.fit(X_train,y_train)\n",
    "    predicted =  text_clf.predict(X_test)\n",
    "    accuracy = np.sum(predicted == y_test)/len(y_test)\n",
    "    print(clf[0],'  ----->  ',accuracy,end = '\\n\\n')"
   ]
  },
  {
   "cell_type": "markdown",
   "metadata": {},
   "source": [
    "## 1.4 Title + url\n",
    "---"
   ]
  },
  {
   "cell_type": "code",
   "execution_count": 937,
   "metadata": {},
   "outputs": [],
   "source": [
    "(X_train, X_test, y_train, y_test) = prepare_data(['title','url','flair'])"
   ]
  },
  {
   "cell_type": "code",
   "execution_count": 938,
   "metadata": {},
   "outputs": [
    {
     "name": "stdout",
     "output_type": "stream",
     "text": [
      "X_train shape  =  (1892,)\n",
      "y_train shape  =  (1892,)\n",
      "X_test shape  =  (335,)\n",
      "y_test shape  =  (335,)\n"
     ]
    }
   ],
   "source": [
    "print(\"X_train shape  = \",X_train.shape)\n",
    "print(\"y_train shape  = \",y_train.shape)\n",
    "print(\"X_test shape  = \",X_test.shape)\n",
    "print(\"y_test shape  = \",y_test.shape)"
   ]
  },
  {
   "cell_type": "code",
   "execution_count": 939,
   "metadata": {},
   "outputs": [
    {
     "name": "stdout",
     "output_type": "stream",
     "text": [
      "LinearSVC   ----->   0.7283582089552239\n",
      "\n",
      "Naive - Bayes   ----->   0.6925373134328359\n",
      "\n"
     ]
    },
    {
     "name": "stderr",
     "output_type": "stream",
     "text": [
      "/Users/mananmehta/anaconda3/lib/python3.6/site-packages/sklearn/linear_model/logistic.py:433: FutureWarning: Default solver will be changed to 'lbfgs' in 0.22. Specify a solver to silence this warning.\n",
      "  FutureWarning)\n",
      "/Users/mananmehta/anaconda3/lib/python3.6/site-packages/sklearn/linear_model/logistic.py:460: FutureWarning: Default multi_class will be changed to 'auto' in 0.22. Specify the multi_class option to silence this warning.\n",
      "  \"this warning.\", FutureWarning)\n"
     ]
    },
    {
     "name": "stdout",
     "output_type": "stream",
     "text": [
      "LogisticRegression   ----->   0.7223880597014926\n",
      "\n",
      "Random Forest Classifier   ----->   0.7134328358208956\n",
      "\n"
     ]
    }
   ],
   "source": [
    "classifiers = [ ('LinearSVC',LinearSVC(loss='hinge',C=0.7)) , ('Naive - Bayes',MultinomialNB() ),('LogisticRegression' ,LogisticRegression(C = 0.9)) ,('Random Forest Classifier' ,RandomForestClassifier(n_estimators=100)) ]\n",
    "for clf in classifiers:\n",
    "    \n",
    "    text_clf = Pipeline([('tfidf',TfidfVectorizer(ngram_range=(1,2))),        \n",
    "                    (clf[0],clf[1])                                            \n",
    "                   ])\n",
    "    \n",
    "    text_clf.fit(X_train,y_train)\n",
    "    predicted =  text_clf.predict(X_test)\n",
    "    accuracy = np.sum(predicted == y_test)/len(y_test)\n",
    "    print(clf[0],'  ----->  ',accuracy,end = '\\n\\n')"
   ]
  },
  {
   "cell_type": "markdown",
   "metadata": {},
   "source": [
    "## 1.5 Title + comments\n",
    "---"
   ]
  },
  {
   "cell_type": "code",
   "execution_count": 940,
   "metadata": {},
   "outputs": [],
   "source": [
    "(X_train, X_test, y_train, y_test) = prepare_data(['title','comments','flair'])"
   ]
  },
  {
   "cell_type": "code",
   "execution_count": 941,
   "metadata": {},
   "outputs": [
    {
     "name": "stdout",
     "output_type": "stream",
     "text": [
      "X_train shape  =  (1892,)\n",
      "y_train shape  =  (1892,)\n",
      "X_test shape  =  (335,)\n",
      "y_test shape  =  (335,)\n"
     ]
    }
   ],
   "source": [
    "print(\"X_train shape  = \",X_train.shape)\n",
    "print(\"y_train shape  = \",y_train.shape)\n",
    "print(\"X_test shape  = \",X_test.shape)\n",
    "print(\"y_test shape  = \",y_test.shape)"
   ]
  },
  {
   "cell_type": "code",
   "execution_count": 942,
   "metadata": {},
   "outputs": [
    {
     "name": "stdout",
     "output_type": "stream",
     "text": [
      "LinearSVC   ----->   0.7432835820895523\n",
      "\n",
      "Naive - Bayes   ----->   0.5671641791044776\n",
      "\n"
     ]
    },
    {
     "name": "stderr",
     "output_type": "stream",
     "text": [
      "/Users/mananmehta/anaconda3/lib/python3.6/site-packages/sklearn/linear_model/logistic.py:433: FutureWarning: Default solver will be changed to 'lbfgs' in 0.22. Specify a solver to silence this warning.\n",
      "  FutureWarning)\n",
      "/Users/mananmehta/anaconda3/lib/python3.6/site-packages/sklearn/linear_model/logistic.py:460: FutureWarning: Default multi_class will be changed to 'auto' in 0.22. Specify the multi_class option to silence this warning.\n",
      "  \"this warning.\", FutureWarning)\n"
     ]
    },
    {
     "name": "stdout",
     "output_type": "stream",
     "text": [
      "LogisticRegression   ----->   0.7253731343283583\n",
      "\n",
      "Random Forest Classifier   ----->   0.7014925373134329\n",
      "\n"
     ]
    }
   ],
   "source": [
    "classifiers = [ ('LinearSVC',LinearSVC(loss='hinge',C=0.6)) , ('Naive - Bayes',MultinomialNB() ),('LogisticRegression' ,LogisticRegression(C = 9)) ,('Random Forest Classifier' ,RandomForestClassifier(n_estimators=100)) ]\n",
    "for clf in classifiers:\n",
    "    \n",
    "    text_clf = Pipeline([('tfidf',TfidfVectorizer(ngram_range=(1,2))),        \n",
    "                    (clf[0],clf[1])                                            \n",
    "                   ])\n",
    "    \n",
    "    text_clf.fit(X_train,y_train)\n",
    "    predicted =  text_clf.predict(X_test)\n",
    "    accuracy = np.sum(predicted == y_test)/len(y_test)\n",
    "    print(clf[0],'  ----->  ',accuracy,end = '\\n\\n')"
   ]
  },
  {
   "cell_type": "markdown",
   "metadata": {},
   "source": [
    "## 1.6 Title + comments + url\n",
    "---"
   ]
  },
  {
   "cell_type": "code",
   "execution_count": 966,
   "metadata": {},
   "outputs": [],
   "source": [
    "(X_train, X_test, y_train, y_test) = prepare_data(['title','url','comments','flair'])"
   ]
  },
  {
   "cell_type": "code",
   "execution_count": 967,
   "metadata": {},
   "outputs": [
    {
     "name": "stdout",
     "output_type": "stream",
     "text": [
      "X_train shape  =  (1892,)\n",
      "y_train shape  =  (1892,)\n",
      "X_test shape  =  (335,)\n",
      "y_test shape  =  (335,)\n"
     ]
    }
   ],
   "source": [
    "print(\"X_train shape  = \",X_train.shape)\n",
    "print(\"y_train shape  = \",y_train.shape)\n",
    "print(\"X_test shape  = \",X_test.shape)\n",
    "print(\"y_test shape  = \",y_test.shape)"
   ]
  },
  {
   "cell_type": "code",
   "execution_count": 873,
   "metadata": {},
   "outputs": [
    {
     "name": "stdout",
     "output_type": "stream",
     "text": [
      "LinearSVC   ----->   0.7142857142857143\n",
      "\n",
      "Naive - Bayes   ----->   0.5083056478405316\n",
      "\n"
     ]
    },
    {
     "name": "stderr",
     "output_type": "stream",
     "text": [
      "/Users/mananmehta/anaconda3/lib/python3.6/site-packages/sklearn/linear_model/logistic.py:433: FutureWarning: Default solver will be changed to 'lbfgs' in 0.22. Specify a solver to silence this warning.\n",
      "  FutureWarning)\n",
      "/Users/mananmehta/anaconda3/lib/python3.6/site-packages/sklearn/linear_model/logistic.py:460: FutureWarning: Default multi_class will be changed to 'auto' in 0.22. Specify the multi_class option to silence this warning.\n",
      "  \"this warning.\", FutureWarning)\n"
     ]
    },
    {
     "name": "stdout",
     "output_type": "stream",
     "text": [
      "LogisticRegression   ----->   0.6877076411960132\n",
      "\n",
      "Random Forest Classifier   ----->   0.6046511627906976\n",
      "\n"
     ]
    }
   ],
   "source": [
    "classifiers = [ ('LinearSVC',LinearSVC(loss='hinge',C=3)) , ('Naive - Bayes',MultinomialNB() ),('LogisticRegression' ,LogisticRegression(C = 9)) ,('Random Forest Classifier' ,RandomForestClassifier(n_estimators=100)) ]\n",
    "for clf in classifiers:\n",
    "    \n",
    "    text_clf = Pipeline([('tfidf',TfidfVectorizer(ngram_range=(1,2))),        \n",
    "                    (clf[0],clf[1])                                            \n",
    "                   ])\n",
    "    \n",
    "    text_clf.fit(X_train,y_train)\n",
    "    predicted =  text_clf.predict(X_test)\n",
    "    accuracy = np.sum(predicted == y_test)/len(y_test)\n",
    "    print(clf[0],'  ----->  ',accuracy,end = '\\n\\n')"
   ]
  },
  {
   "cell_type": "markdown",
   "metadata": {},
   "source": [
    "## 1.7 Title + body\n",
    "---"
   ]
  },
  {
   "cell_type": "code",
   "execution_count": 968,
   "metadata": {},
   "outputs": [],
   "source": [
    "(X_train, X_test, y_train, y_test) = prepare_data(['title','body','flair'])"
   ]
  },
  {
   "cell_type": "code",
   "execution_count": 969,
   "metadata": {},
   "outputs": [
    {
     "name": "stdout",
     "output_type": "stream",
     "text": [
      "X_train shape  =  (1892,)\n",
      "y_train shape  =  (1892,)\n",
      "X_test shape  =  (335,)\n",
      "y_test shape  =  (335,)\n"
     ]
    }
   ],
   "source": [
    "print(\"X_train shape  = \",X_train.shape)\n",
    "print(\"y_train shape  = \",y_train.shape)\n",
    "print(\"X_test shape  = \",X_test.shape)\n",
    "print(\"y_test shape  = \",y_test.shape)"
   ]
  },
  {
   "cell_type": "code",
   "execution_count": 964,
   "metadata": {},
   "outputs": [
    {
     "name": "stdout",
     "output_type": "stream",
     "text": [
      "LinearSVC   ----->   0.7880597014925373\n",
      "\n",
      "Naive - Bayes   ----->   0.6776119402985075\n",
      "\n"
     ]
    },
    {
     "name": "stderr",
     "output_type": "stream",
     "text": [
      "/Users/mananmehta/anaconda3/lib/python3.6/site-packages/sklearn/linear_model/logistic.py:433: FutureWarning: Default solver will be changed to 'lbfgs' in 0.22. Specify a solver to silence this warning.\n",
      "  FutureWarning)\n",
      "/Users/mananmehta/anaconda3/lib/python3.6/site-packages/sklearn/linear_model/logistic.py:460: FutureWarning: Default multi_class will be changed to 'auto' in 0.22. Specify the multi_class option to silence this warning.\n",
      "  \"this warning.\", FutureWarning)\n"
     ]
    },
    {
     "name": "stdout",
     "output_type": "stream",
     "text": [
      "LogisticRegression   ----->   0.8029850746268656\n",
      "\n",
      "Random Forest Classifier   ----->   0.7880597014925373\n",
      "\n"
     ]
    }
   ],
   "source": [
    "classifiers = [ ('LinearSVC',LinearSVC(loss='hinge',C=0.2)) , ('Naive - Bayes',MultinomialNB() ),('LogisticRegression' ,LogisticRegression(C = 9)) ,('Random Forest Classifier' ,RandomForestClassifier(n_estimators=100)) ]\n",
    "for clf in classifiers:\n",
    "    \n",
    "    text_clf = Pipeline([('tfidf',TfidfVectorizer(ngram_range=(1,2))),        \n",
    "                    (clf[0],clf[1])                                            \n",
    "                   ])\n",
    "    \n",
    "    text_clf.fit(X_train,y_train)\n",
    "    predicted =  text_clf.predict(X_test)\n",
    "    accuracy = np.sum(predicted == y_test)/len(y_test)\n",
    "    print(clf[0],'  ----->  ',accuracy,end = '\\n\\n')"
   ]
  },
  {
   "cell_type": "markdown",
   "metadata": {},
   "source": [
    "## 1.8 Title + body + url"
   ]
  },
  {
   "cell_type": "code",
   "execution_count": 970,
   "metadata": {},
   "outputs": [],
   "source": [
    "(X_train, X_test, y_train, y_test) = prepare_data(['title','body','url','flair'])"
   ]
  },
  {
   "cell_type": "code",
   "execution_count": 971,
   "metadata": {},
   "outputs": [
    {
     "name": "stdout",
     "output_type": "stream",
     "text": [
      "X_train shape  =  (1892,)\n",
      "y_train shape  =  (1892,)\n",
      "X_test shape  =  (335,)\n",
      "y_test shape  =  (335,)\n"
     ]
    }
   ],
   "source": [
    "print(\"X_train shape  = \",X_train.shape)\n",
    "print(\"y_train shape  = \",y_train.shape)\n",
    "print(\"X_test shape  = \",X_test.shape)\n",
    "print(\"y_test shape  = \",y_test.shape)"
   ]
  },
  {
   "cell_type": "code",
   "execution_count": 961,
   "metadata": {},
   "outputs": [
    {
     "name": "stdout",
     "output_type": "stream",
     "text": [
      "LinearSVC   ----->   0.808955223880597\n",
      "\n",
      "Naive - Bayes   ----->   0.6716417910447762\n",
      "\n"
     ]
    },
    {
     "name": "stderr",
     "output_type": "stream",
     "text": [
      "/Users/mananmehta/anaconda3/lib/python3.6/site-packages/sklearn/linear_model/logistic.py:433: FutureWarning: Default solver will be changed to 'lbfgs' in 0.22. Specify a solver to silence this warning.\n",
      "  FutureWarning)\n",
      "/Users/mananmehta/anaconda3/lib/python3.6/site-packages/sklearn/linear_model/logistic.py:460: FutureWarning: Default multi_class will be changed to 'auto' in 0.22. Specify the multi_class option to silence this warning.\n",
      "  \"this warning.\", FutureWarning)\n"
     ]
    },
    {
     "name": "stdout",
     "output_type": "stream",
     "text": [
      "LogisticRegression   ----->   0.8\n",
      "\n",
      "Random Forest Classifier   ----->   0.764179104477612\n",
      "\n"
     ]
    }
   ],
   "source": [
    "classifiers = [ ('LinearSVC',LinearSVC(loss='hinge',C=0.2)) , ('Naive - Bayes',MultinomialNB() ),('LogisticRegression' ,LogisticRegression(C = 9)) ,('Random Forest Classifier' ,RandomForestClassifier(n_estimators=100)) ]\n",
    "for clf in classifiers:\n",
    "    \n",
    "    text_clf = Pipeline([('tfidf',TfidfVectorizer(ngram_range=(1,2))),        \n",
    "                    (clf[0],clf[1])                                            \n",
    "                   ])\n",
    "    \n",
    "    text_clf.fit(X_train,y_train)\n",
    "    predicted =  text_clf.predict(X_test) \n",
    "    accuracy = np.sum(predicted == y_test)/len(y_test) # t = b = u\n",
    "    print(clf[0],'  ----->  ',accuracy,end = '\\n\\n')"
   ]
  },
  {
   "cell_type": "markdown",
   "metadata": {},
   "source": [
    "### Models perform the best when we use features ( Title + Body + url ) , ( Title + Body ) performs equally good, but we will still go ahead with ( Title + Body + url )"
   ]
  },
  {
   "cell_type": "markdown",
   "metadata": {},
   "source": [
    "### Now we will explore deep-learning approaches for text classification\n",
    "---"
   ]
  },
  {
   "cell_type": "markdown",
   "metadata": {},
   "source": [
    "# Experiments for Word Embedding + CNN"
   ]
  },
  {
   "cell_type": "code",
   "execution_count": 1264,
   "metadata": {},
   "outputs": [],
   "source": [
    "def prepare_data_normal(columns,DF):\n",
    "\n",
    "    if len(columns) > 2:\n",
    "        df = data[columns].fillna(\"\")\n",
    "        columns.remove('flair')\n",
    "        X = df[columns].apply(lambda x : ' '.join(x),axis = 1)                   \n",
    "        if DF == True:\n",
    "            return X\n",
    "    else :\n",
    "        df = data[columns].dropna()\n",
    "        X = df[columns[0]]\n",
    "        if DF == True:\n",
    "            return X\n",
    "        \n",
    "    X = X.values          # X - input\n",
    "    \n",
    "    le = LabelEncoder()\n",
    "    Y = le.fit_transform(df['flair'])    # Y - target_labels\n",
    "    \n",
    "    X_train, X_test, y_train, y_test = train_test_split(X, Y, test_size=0.15, random_state=42)   # ( 85 : 15 )\n",
    "    return (X_train, X_test, y_train, y_test)"
   ]
  },
  {
   "cell_type": "code",
   "execution_count": 1265,
   "metadata": {},
   "outputs": [],
   "source": [
    "X1 = prepare_data_normal(['title','flair'],True)\n",
    "X2 = prepare_data_normal(['body','flair'],True)\n",
    "X3 = prepare_data_normal(['url','flair'],True)\n",
    "X4 = prepare_data_normal(['title','body','url','flair'],True)"
   ]
  },
  {
   "cell_type": "code",
   "execution_count": 1106,
   "metadata": {},
   "outputs": [],
   "source": [
    "wordlen_title = X.apply(len)"
   ]
  },
  {
   "cell_type": "code",
   "execution_count": 1111,
   "metadata": {},
   "outputs": [
    {
     "data": {
      "text/plain": [
       "count    2227.000000\n",
       "mean      775.193534\n",
       "std      1367.067150\n",
       "min        13.000000\n",
       "25%       131.000000\n",
       "50%       227.000000\n",
       "75%       652.000000\n",
       "80%       903.600000\n",
       "95%      3799.000000\n",
       "max      7200.000000\n",
       "dtype: float64"
      ]
     },
     "execution_count": 1111,
     "metadata": {},
     "output_type": "execute_result"
    }
   ],
   "source": [
    "X4.describe(percentiles=[.25,.50,.75,.80,.95])"
   ]
  },
  {
   "cell_type": "code",
   "execution_count": 1115,
   "metadata": {},
   "outputs": [],
   "source": [
    "x4 = X4.apply(len)"
   ]
  },
  {
   "cell_type": "code",
   "execution_count": 1266,
   "metadata": {},
   "outputs": [
    {
     "data": {
      "text/plain": [
       "'delhi govt source names cm arvind kejriwal deputy cm manish sisodia drop school event melania trump schedule visit delhi govt source claim attend programme since school e delhi govt  ani status'"
      ]
     },
     "execution_count": 1266,
     "metadata": {},
     "output_type": "execute_result"
    }
   ],
   "source": [
    "X4[0]"
   ]
  },
  {
   "cell_type": "code",
   "execution_count": 1267,
   "metadata": {},
   "outputs": [
    {
     "data": {
      "text/plain": [
       "count    2227.000000\n",
       "mean      775.193534\n",
       "std      1367.067150\n",
       "min        13.000000\n",
       "25%       131.000000\n",
       "50%       227.000000\n",
       "75%       652.000000\n",
       "max      7200.000000\n",
       "dtype: float64"
      ]
     },
     "execution_count": 1267,
     "metadata": {},
     "output_type": "execute_result"
    }
   ],
   "source": [
    "x4.describe()"
   ]
  },
  {
   "cell_type": "code",
   "execution_count": 1268,
   "metadata": {},
   "outputs": [
    {
     "name": "stdout",
     "output_type": "stream",
     "text": [
      "entrance exam schedule may clat ailet neet jee postpone two week would able take test postpone date way thing go would settle last week may thank india comments fvcvo entrance exams scheduled may\n"
     ]
    }
   ],
   "source": [
    "print(X4[3])"
   ]
  },
  {
   "cell_type": "code",
   "execution_count": null,
   "metadata": {},
   "outputs": [],
   "source": [
    "# Title max = 220\n",
    "# url max = 168\n",
    "# body max = 7100"
   ]
  },
  {
   "cell_type": "markdown",
   "metadata": {},
   "source": [
    "## Steps to follow :-\n",
    "  \n",
    " - find the most common words with freq > 2\n",
    " - create there vocab and find its length\n",
    " - Create a word embedding matrix of size (vocab_len,vector_len)\n",
    " - fill the matrix with glove vectors\n",
    " - check percentage are 0\n",
    " - give that length as a parameter to tokenizer keras.\n",
    " - Now you have all ur text represented by integer vectors\n",
    " - do slicing on them to limit them to mean \n",
    " - Everything is set\n",
    " - build the model if percentage is high train by freezing embedding layer."
   ]
  },
  {
   "cell_type": "code",
   "execution_count": 1011,
   "metadata": {},
   "outputs": [],
   "source": [
    "X4 = X4.values"
   ]
  },
  {
   "cell_type": "code",
   "execution_count": 1138,
   "metadata": {},
   "outputs": [],
   "source": [
    "(X_train, X_test, y_train, y_test) = prepare_data(['title','body','url','flair'])"
   ]
  },
  {
   "cell_type": "code",
   "execution_count": 1139,
   "metadata": {},
   "outputs": [
    {
     "name": "stdout",
     "output_type": "stream",
     "text": [
      "X_train shape  =  (1892,)\n",
      "y_train shape  =  (1892,)\n",
      "X_test shape  =  (335,)\n",
      "y_test shape  =  (335,)\n"
     ]
    }
   ],
   "source": [
    "print(\"X_train shape  = \",X_train.shape)\n",
    "print(\"y_train shape  = \",y_train.shape)\n",
    "print(\"X_test shape  = \",X_test.shape)\n",
    "print(\"y_test shape  = \",y_test.shape)"
   ]
  },
  {
   "cell_type": "code",
   "execution_count": null,
   "metadata": {},
   "outputs": [],
   "source": []
  },
  {
   "cell_type": "code",
   "execution_count": 1012,
   "metadata": {},
   "outputs": [],
   "source": [
    "vocab = set()\n",
    "for doc in X4:\n",
    "    vocab.update([w for w in doc.split()])    "
   ]
  },
  {
   "cell_type": "code",
   "execution_count": 1015,
   "metadata": {},
   "outputs": [
    {
     "data": {
      "text/plain": [
       "21906"
      ]
     },
     "execution_count": 1015,
     "metadata": {},
     "output_type": "execute_result"
    }
   ],
   "source": [
    "len(vocab)   # I have 21000 unique words"
   ]
  },
  {
   "cell_type": "code",
   "execution_count": 1047,
   "metadata": {},
   "outputs": [],
   "source": [
    "total_words = []\n",
    "for doc in X4:\n",
    "    [total_words.append(w) for w in doc.split()]"
   ]
  },
  {
   "cell_type": "code",
   "execution_count": 1073,
   "metadata": {},
   "outputs": [],
   "source": [
    "from collections import Counter\n",
    "words_to_use = []\n",
    "word_freq = dict(Counter(total_words))\n",
    "for k,v in word_freq.items():\n",
    "    if v > 2:\n",
    "        words_to_use.append(k)"
   ]
  },
  {
   "cell_type": "code",
   "execution_count": 1045,
   "metadata": {},
   "outputs": [
    {
     "data": {
      "text/plain": [
       "21906"
      ]
     },
     "execution_count": 1045,
     "metadata": {},
     "output_type": "execute_result"
    }
   ],
   "source": [
    "len(word_freq)"
   ]
  },
  {
   "cell_type": "code",
   "execution_count": 1041,
   "metadata": {},
   "outputs": [
    {
     "data": {
      "text/plain": [
       "dict"
      ]
     },
     "execution_count": 1041,
     "metadata": {},
     "output_type": "execute_result"
    }
   ],
   "source": [
    "type(word_freq)"
   ]
  },
  {
   "cell_type": "code",
   "execution_count": 1077,
   "metadata": {},
   "outputs": [],
   "source": [
    "\n",
    "heyo = sorted(word_freq.items(), key = lambda x : x[1],reverse=True)"
   ]
  },
  {
   "cell_type": "code",
   "execution_count": 1049,
   "metadata": {},
   "outputs": [
    {
     "data": {
      "text/plain": [
       "8698"
      ]
     },
     "execution_count": 1049,
     "metadata": {},
     "output_type": "execute_result"
    }
   ],
   "source": [
    "len(words_to_use)"
   ]
  },
  {
   "cell_type": "markdown",
   "metadata": {},
   "source": [
    "# I have 21000 unique words ; 8000 have frequency greater than 2\n",
    "- I will use these 8000 words to represent my vectors"
   ]
  },
  {
   "cell_type": "code",
   "execution_count": 1291,
   "metadata": {},
   "outputs": [],
   "source": [
    "from keras.preprocessing.text import Tokenizer\n",
    "tokenizer = Tokenizer()\n",
    "tokenizer.fit_on_texts(X_train)"
   ]
  },
  {
   "cell_type": "code",
   "execution_count": 1292,
   "metadata": {},
   "outputs": [
    {
     "data": {
      "text/plain": [
       "20366"
      ]
     },
     "execution_count": 1292,
     "metadata": {},
     "output_type": "execute_result"
    }
   ],
   "source": [
    "len(tokenizer.word_index)"
   ]
  },
  {
   "cell_type": "code",
   "execution_count": 1200,
   "metadata": {},
   "outputs": [
    {
     "name": "stdout",
     "output_type": "stream",
     "text": [
      "{'india': 1, 'get': 2, 'indian': 3, 'comments': 4, 'people': 5, 'like': 6, 'make': 7, 'year': 8, 'one': 9, 'time': 10, 'go': 11, 'news': 12, 'government': 13, 'say': 14, 'would': 15, 'work': 16, 'take': 17, 'also': 18, 'even': 19, 'want': 20, 'good': 21, 'thread': 22, 'know': 23, 'new': 24, 'coronavirus': 25, 'political': 26, 'use': 27, 'country': 28, 'need': 29, 'well': 30, 'post': 31, 'think': 32, 'day': 33, 'give': 34, 'article': 35, 'reddit': 36, 'economy': 37, 'see': 38, 'modi': 39, 'help': 40, 'state': 41, 'week': 42, 'u': 43, 'thing': 44, 'job': 45, 'many': 46, 'non': 47, 'ask': 48, 'world': 49, 'first': 50, 'policy': 51, 'bjp': 52, 'start': 53, 'back': 54, 'delhi': 55, 'last': 56, 'find': 57, 'way': 58, 'look': 59, 'startup': 60, 'much': 61, 'business': 62, 'askindia': 63, 'national': 64, 'please': 65, 'science': 66, 'photography': 67, 'technology': 68, 'right': 69, 'try': 70, 'politics': 71, 'since': 72, 'story': 73, 'question': 74, 'money': 75, 'every': 76, 'bank': 77, 'could': 78, 'case': 79, 'ments': 80, 'issue': 81, 'month': 82, 'pay': 83, 'really': 84, 'sport': 85, 'share': 86, 'place': 87, 'pany': 88, 'etc': 89, 'twitter': 90, 'tell': 91, 'pm': 92, 'home': 93, 'nrc': 94, 'two': 95, 'lot': 96, 'call': 97, 'life': 98, 'schedule': 99, 'th': 100, 'may': 101, 'big': 102, 'education': 103, 'caa': 104, 'leave': 105, 'high': 106, 'raise': 107, 'feel': 108, 'end': 109, 'data': 110, 'around': 111, 'family': 112, 'let': 113, 'student': 114, 'change': 115, 'live': 116, 'govt': 117, 'status': 118, 'still': 119, 'base': 120, 'keep': 121, 'crore': 122, 'food': 123, 'covid': 124, 'show': 125, 'indiatimes': 126, 'party': 127, 'today': 128, 'part': 129, 'economic': 130, 'problem': 131, 'panies': 132, 'muslim': 133, 'talk': 134, 'report': 135, 'something': 136, 'never': 137, 'tech': 138, 'tax': 139, 'plan': 140, 'city': 141, 'old': 142, 'number': 143, 'support': 144, 'list': 145, 'social': 146, 'long': 147, 'bad': 148, 'service': 149, 'medium': 150, 'weekly': 151, 'learn': 152, 'next': 153, 'friend': 154, 'parent': 155, 'read': 156, 'point': 157, 'happen': 158, 'anyone': 159, 'without': 160, 'economictimes': 161, 'minister': 162, 'child': 163, 'test': 164, 'interest': 165, 'source': 166, 'discussion': 167, 'woman': 168, 'fund': 169, 'open': 170, 'public': 171, 'follow': 172, 'watch': 173, 'market': 174, 'best': 175, 'articleshow': 176, 'nation': 177, 'rule': 178, 'hand': 179, 'npr': 180, 'due': 181, 'growth': 182, 'free': 183, 'set': 184, 'congress': 185, 'put': 186, 'school': 187, 'term': 188, 'college': 189, 'might': 190, 'protest': 191, 'power': 192, 'another': 193, 'mean': 194, 'idea': 195, 'opinion': 196, 'guy': 197, 'million': 198, 'book': 199, 'system': 200, 'hindu': 201, 'online': 202, 'law': 203, 'love': 204, 'image': 205, 'include': 206, 'seem': 207, 'industry': 208, 'research': 209, 'believe': 210, 'group': 211, 'must': 212, 'act': 213, 'provide': 214, 'per': 215, 'already': 216, 'write': 217, 'small': 218, 'rate': 219, 'someone': 220, 'different': 221, 'internet': 222, 'anything': 223, 'buy': 224, 'edit': 225, 'finance': 226, 'link': 227, 'bring': 228, 'event': 229, 'ing': 230, 'amp': 231, 'great': 232, 'lead': 233, 'however': 234, 'course': 235, 'google': 236, 'move': 237, 'name': 238, 'large': 239, 'create': 240, 'class': 241, 'run': 242, 'experience': 243, 'turn': 244, 'lockdown': 245, 'citizenship': 246, 'citizen': 247, 'do': 248, 'population': 249, 'project': 250, 'amount': 251, 'understand': 252, 'video': 253, 'loan': 254, 'university': 255, 'police': 256, 'travel': 257, 'fact': 258, 'build': 259, 'man': 260, 'enough': 261, 'current': 262, 'allow': 263, 'submission': 264, 'join': 265, 'person': 266, 'away': 267, 'r': 268, 'others': 269, 'org': 270, 'cms': 271, 'top': 272, 'important': 273, 'china': 274, 'mind': 275, 'fight': 276, 'reason': 277, 'situation': 278, 'area': 279, 'care': 280, 'field': 281, 'play': 282, 'religion': 283, 'bill': 284, 'cr': 285, 'poor': 286, 'advice': 287, 'engineering': 288, 'cm': 289, 'court': 290, 'future': 291, 'game': 292, 'health': 293, 'development': 294, 'nothing': 295, 'far': 296, 'able': 297, 'low': 298, 'stay': 299, 'channel': 300, 'spread': 301, 'increase': 302, 'kind': 303, 'sector': 304, 'deal': 305, 'process': 306, 'level': 307, 'always': 308, 'study': 309, 'come': 310, 'face': 311, 'actually': 312, 'note': 313, 'begin': 314, 'force': 315, 'skill': 316, 'stop': 317, 'price': 318, 'everyone': 319, 'funding': 320, 'movie': 321, 'redd': 322, 'election': 323, 'meet': 324, 'information': 325, 'ever': 326, 'mumbai': 327, 'society': 328, 'launch': 329, 'update': 330, 'grow': 331, 'institute': 332, 'everything': 333, 'hold': 334, 'whole': 335, 'matter': 336, 'central': 337, 'culture': 338, 'rise': 339, 'cannot': 340, 'hour': 341, 'daily': 342, 'little': 343, 'sort': 344, 'foreign': 345, 'least': 346, 'thanks': 347, 'expect': 348, 'across': 349, 'past': 350, 'sure': 351, 'three': 352, 'check': 353, 'youtube': 354, 'flair': 355, 'history': 356, 'land': 357, 'suggest': 358, 'visit': 359, 'aadhaar': 360, 'career': 361, 'ece': 362, 'order': 363, 'lose': 364, 'lack': 365, 'interview': 366, 'house': 367, 'account': 368, 'though': 369, 'centre': 370, 'security': 371, 'private': 372, 'financial': 373, 'yet': 374, 'section': 375, 'mask': 376, 'platform': 377, 'age': 378, 'instead': 379, 'huge': 380, 'caste': 381, 'general': 382, 'member': 383, 'word': 384, 'mention': 385, 'capital': 386, 'almost': 387, 'techcircle': 388, 'continue': 389, 'step': 390, 'search': 391, 'less': 392, 'form': 393, 'fail': 394, 'towards': 395, 'sell': 396, 'hard': 397, 'develop': 398, 'via': 399, 'decision': 400, 'standard': 401, 'mission': 402, 'card': 403, 'mon': 404, 'utm': 405, 'offer': 406, 'period': 407, 'product': 408, 'possible': 409, 'stand': 410, 'focus': 411, 'hear': 412, 'view': 413, 'recently': 414, 'picture': 415, 'self': 416, 'full': 417, 'air': 418, 'photo': 419, 'spend': 420, 'prime': 421, 'true': 422, 'billion': 423, 'head': 424, 'cost': 425, 'claim': 426, 'opportunity': 427, 'podcast': 428, 'lakh': 429, 'quality': 430, 'return': 431, 'english': 432, 'fake': 433, 'anti': 434, 'doctor': 435, 'cover': 436, 'add': 437, 'narendra': 438, 'consider': 439, 'decide': 440, 'vote': 441, 'currently': 442, 'local': 443, 'result': 444, 'various': 445, 'remain': 446, 'human': 447, 'hope': 448, 'real': 449, 'office': 450, 'round': 451, 'fuck': 452, 'line': 453, 'second': 454, 'user': 455, 'rbi': 456, 'worker': 457, 'virus': 458, 'official': 459, 'personal': 460, 'app': 461, 'paper': 462, 'answer': 463, 'es': 464, 'attack': 465, 'file': 466, 'late': 467, 'rs': 468, 'register': 469, 'gst': 470, 'hospital': 471, 'ensure': 472, 'reform': 473, 'war': 474, 'soon': 475, 'shit': 476, 'medical': 477, 'train': 478, 'reach': 479, 'international': 480, 'np': 481, 'pakistan': 482, 'wrong': 483, 'car': 484, 'flight': 485, 'vccircle': 486, 'gdp': 487, 'invest': 488, 'side': 489, 'gujarat': 490, 'detail': 491, 'break': 492, 'coal': 493, 'else': 494, 'mend': 495, 'munity': 496, 'drive': 497, 'leader': 498, 'sit': 499, 'hi': 500, 'thought': 501, 'amazon': 502, 'manage': 503, 'team': 504, 'venture': 505, 'major': 506, 'close': 507, 'yes': 508, 'agency': 509, 'available': 510, 'bit': 511, 'water': 512, 'ago': 513, 'within': 514, 'language': 515, 'speak': 516, 'option': 517, 'facebook': 518, 'budget': 519, 'design': 520, 'dr': 521, 'death': 522, 'previous': 523, 'global': 524, 'control': 525, 'die': 526, 'easy': 527, 'entire': 528, 'date': 529, 'kerala': 530, 'together': 531, 'require': 532, 'rather': 533, 'cause': 534, 'random': 535, 'till': 536, 'fall': 537, 'short': 538, 'solution': 539, 'either': 540, 'among': 541, 'co': 542, 'explain': 543, 'institution': 544, 'example': 545, 'cut': 546, 'later': 547, 'pretty': 548, 'clear': 549, 'girl': 550, 'notice': 551, 'gold': 552, 'kid': 553, 'night': 554, 'kill': 555, 'governor': 556, 'management': 557, 'employee': 558, 'action': 559, 'whatsapp': 560, 'march': 561, 'cheap': 562, 'father': 563, 'pass': 564, 'couple': 565, 'demand': 566, 'series': 567, 'total': 568, 'religious': 569, 'tv': 570, 'music': 571, 'mobile': 572, 'content': 573, 'subject': 574, 'gov': 575, 'single': 576, 'st': 577, 'restrict': 578, 'sr': 579, 'percent': 580, 'en': 581, 'send': 582, 'ban': 583, 'maybe': 584, 'remember': 585, 'film': 586, 'message': 587, 'suggestion': 588, 'credit': 589, 'happy': 590, 'investment': 591, 'degree': 592, 'saw': 593, 'crisis': 594, 'road': 595, 'along': 596, 'knowledge': 597, 'digital': 598, 'early': 599, 'mother': 600, 'singh': 601, 'hindi': 602, 'document': 603, 'positive': 604, 'clean': 605, 'fire': 606, 'benefit': 607, 'young': 608, 'implement': 609, 'save': 610, 'maharashtra': 611, 'morning': 612, 'middle': 613, 'rich': 614, 'impact': 615, 'topic': 616, 'scheme': 617, 'seek': 618, 'reservation': 619, 'walk': 620, 'eat': 621, 'charge': 622, 'average': 623, 'especially': 624, 'behind': 625, 'accept': 626, 'exam': 627, 'probably': 628, 'campaign': 629, 'front': 630, 'basic': 631, 'rajan': 632, 'puter': 633, 'website': 634, 'resource': 635, 'sports': 636, 'program': 637, 'fast': 638, 'present': 639, 'democracy': 640, 'mine': 641, 'pradesh': 642, 'measure': 643, 'receive': 644, 'uk': 645, 'cricket': 646, 'discuss': 647, 'relate': 648, 'stuff': 649, 'effect': 650, 'phone': 651, 'stock': 652, 'strong': 653, 'exist': 654, 'final': 655, 'target': 656, 'indiatoday': 657, 'serious': 658, 'near': 659, 'particular': 660, 'fix': 661, 'sense': 662, 'prove': 663, 'black': 664, 'ettech': 665, 'similar': 666, 'separate': 667, 'effort': 668, 'network': 669, 'certain': 670, 'sub': 671, 'popular': 672, 'april': 673, 'win': 674, 'active': 675, 'e': 676, 'board': 677, 'gandhi': 678, 'teacher': 679, 'condition': 680, 'trade': 681, 'half': 682, 'mp': 683, 'improve': 684, 'accord': 685, 'ministry': 686, 'specific': 687, 'men': 688, 'host': 689, 'affect': 690, 'decade': 691, 'apply': 692, 'farmer': 693, 'forward': 694, 'sc': 695, 'debt': 696, 'majority': 697, 'png': 698, 'outside': 699, 'extremely': 700, 'contact': 701, 'thus': 702, 'generation': 703, 'touch': 704, 'interested': 705, 'inc': 706, 'avoid': 707, 'mostly': 708, 'supreme': 709, 'migrant': 710, 'id': 711, 'rant': 712, 'merce': 713, 'scroll': 714, 'worth': 715, 'quite': 716, 'web': 717, 'mittee': 718, 'five': 719, 'hobby': 720, 'shah': 721, 'promise': 722, 'village': 723, 'role': 724, 'despite': 725, 'agree': 726, 'waste': 727, 'whether': 728, 'debate': 729, 'practice': 730, 'kashmir': 731, 'rank': 732, 'illegal': 733, 'limit': 734, 'hotel': 735, 'union': 736, 'chief': 737, 'wait': 738, 'star': 739, 'teach': 740, 'salary': 741, 'regard': 742, 'record': 743, 'trust': 744, 'miss': 745, 'request': 746, 'art': 747, 'hyderabad': 748, 'violence': 749, 'manager': 750, 'wonder': 751, 'voice': 752, 'british': 753, 'century': 754, 'appreciate': 755, 'american': 756, 'wealth': 757, 'empire': 758, 'payment': 759, 'investor': 760, 'carry': 761, 'profit': 762, 'model': 763, 'remove': 764, 'civil': 765, 'corona': 766, 'pletely': 767, 'bear': 768, 'assam': 769, 'sometimes': 770, 'infrastructure': 771, 'figure': 772, 'dead': 773, 'engineer': 774, 'indias': 775, 'pick': 776, 'performance': 777, 'dont': 778, 'feed': 779, 'loss': 780, 'often': 781, 'birth': 782, 'concern': 783, 'indianexpress': 784, 'flipkart': 785, 'recent': 786, 'literally': 787, 'june': 788, 'difficult': 789, 'upon': 790, 'partner': 791, 'position': 792, 'push': 793, 'protection': 794, 'ground': 795, 'special': 796, 'pro': 797, 'stage': 798, 'hello': 799, 'title': 800, 'dream': 801, 'prepare': 802, 'score': 803, 'yourstory': 804, 'become': 805, 'rest': 806, 'modern': 807, 'attempt': 808, 'activity': 809, 'risk': 810, 'chance': 811, 'worry': 812, 'purpose': 813, 'track': 814, 'body': 815, 'episode': 816, 'choose': 817, 'relationship': 818, 'mendations': 819, 'address': 820, 'cow': 821, 'net': 822, 'blame': 823, 'value': 824, 'fear': 825, 'center': 826, 'solve': 827, 'december': 828, 'match': 829, 'listen': 830, 'response': 831, 'amendment': 832, 'officer': 833, 'earn': 834, 'ndtv': 835, 'bangalore': 836, 'space': 837, 'marriage': 838, 'release': 839, 'press': 840, 'seat': 841, 'south': 842, 'cancer': 843, 'thehindu': 844, 'page': 845, 'politician': 846, 'west': 847, 'nehru': 848, 'machine': 849, 'individual': 850, 'mass': 851, 'drop': 852, 'sign': 853, 'wife': 854, 'auto': 855, 'identity': 856, 'july': 857, 'shop': 858, 'medianama': 859, 'click': 860, 'truth': 861, 'several': 862, 'realize': 863, 'suppose': 864, 'wiki': 865, 'type': 866, 'insurance': 867, 'ram': 868, 'goal': 869, 'privacy': 870, 'letter': 871, 'environment': 872, 'thank': 873, 'hey': 874, 'bhutan': 875, 'corporate': 876, 'announce': 877, 'ment': 878, 'yesterday': 879, 'necessary': 880, 'urban': 881, 'fee': 882, 'independent': 883, 'announcement': 884, 'category': 885, 'hire': 886, 'ac': 887, 'oppose': 888, 'minority': 889, 'sale': 890, 'nonpolitical': 891, 'access': 892, 'challenge': 893, 'plete': 894, 'authority': 895, 'respect': 896, 'reality': 897, 'hate': 898, 'wel': 899, 'involve': 900, 'ready': 901, 'ltd': 902, 'safe': 903, 'hundred': 904, 'owner': 905, 'software': 906, 'inflation': 907, 'related': 908, 'treat': 909, 'department': 910, 'asia': 911, 'application': 912, 'reply': 913, 'site': 914, 'cure': 915, 'technical': 916, 'undisclosed': 917, 'room': 918, 'industrial': 919, 'main': 920, 'north': 921, 'success': 922, 'ahead': 923, 'firm': 924, 'legal': 925, 'guide': 926, 'achieve': 927, 'army': 928, 'acquire': 929, 'light': 930, 'street': 931, 'healthcare': 932, 'own': 933, 'customer': 934, 'white': 935, 'consumer': 936, 'munities': 937, 'timesofindia': 938, 'punjab': 939, 'massive': 940, 'hence': 941, 'pre': 942, 'pressure': 943, 'argument': 944, 'progress': 945, 'produce': 946, 'enter': 947, 'folk': 948, 'potential': 949, 'hit': 950, 'simply': 951, 'indians': 952, 'whatever': 953, 'promote': 954, 'chinese': 955, 'likely': 956, 'serve': 957, 'cop': 958, 'slow': 959, 'revolution': 960, 'wish': 961, 'abroad': 962, 'usually': 963, 'sabha': 964, 'manifesto': 965, 'index': 966, 'youth': 967, 'bharat': 968, 'trip': 969, 'east': 970, 'felt': 971, 'thousand': 972, 'ola': 973, 'discord': 974, 'although': 975, 'rindia': 976, 'anyway': 977, 'reduce': 978, 'multiple': 979, 'movement': 980, 'shot': 981, 'vedic': 982, 'affair': 983, 'protect': 984, 'fellow': 985, 'except': 986, 'fundamental': 987, 'sorry': 988, 'treatment': 989, 'identify': 990, 'karnataka': 991, 'passport': 992, 'nse': 993, 'okay': 994, 'decent': 995, 'third': 996, 'shall': 997, 'western': 998, 'export': 999, 'speech': 1000, 'upa': 1001, 'traffic': 1002, 'graduate': 1003, 'wikipedia': 1004, 'highlight': 1005, 'normal': 1006, 'survive': 1007, 'declare': 1008, 'nature': 1009, 'programme': 1010, 'fan': 1011, 'lie': 1012, 'minute': 1013, 'sex': 1014, 'trump': 1015, 'range': 1016, 'publish': 1017, 'store': 1018, 'collect': 1019, 'february': 1020, 'fun': 1021, 'muslims': 1022, 'highly': 1023, 'petition': 1024, 'patient': 1025, 'express': 1026, 'forget': 1027, 'handle': 1028, 'thewire': 1029, 'cash': 1030, 'united': 1031, 'survey': 1032, 'false': 1033, 'text': 1034, 'constitution': 1035, 'alone': 1036, 'tl': 1037, 'attend': 1038, 'sound': 1039, 'branch': 1040, 'server': 1041, 'scientific': 1042, 'labour': 1043, 'hell': 1044, 'mark': 1045, 'pandemic': 1046, 'statement': 1047, 'journalist': 1048, 'assume': 1049, 'educate': 1050, 'parliament': 1051, 'guess': 1052, 'nic': 1053, 'feature': 1054, 'pune': 1055, 'energy': 1056, 'hindutva': 1057, 'milk': 1058, 'email': 1059, 'direct': 1060, 'bollywood': 1061, 'firstpost': 1062, 'january': 1063, 'uber': 1064, 'inside': 1065, 'trai': 1066, 'border': 1067, 'safety': 1068, 'gain': 1069, 'finally': 1070, 'four': 1071, 'building': 1072, 'exchange': 1073, 'definitely': 1074, 'reserve': 1075, 'scale': 1076, 'prevent': 1077, 'welfare': 1078, 'economics': 1079, 'god': 1080, 'code': 1081, 'angel': 1082, 'ad': 1083, 'advance': 1084, 'camera': 1085, 'brand': 1086, 'weekend': 1087, 'livemint': 1088, 'path': 1089, 'nice': 1090, 'tweet': 1091, 'pain': 1092, 'sena': 1093, 'voter': 1094, 'bus': 1095, 'consultation': 1096, 'yoga': 1097, 'director': 1098, 'intelligence': 1099, 'minimum': 1100, 'eye': 1101, 'exclusively': 1102, 'liberal': 1103, 'rating': 1104, 'switch': 1105, 'heart': 1106, 'basis': 1107, 'directly': 1108, 'fill': 1109, 'entrepreneur': 1110, 'cent': 1111, 'invite': 1112, 'generally': 1113, 'seed': 1114, 'seriously': 1115, 'everyday': 1116, 'divide': 1117, 'fine': 1118, 'moment': 1119, 'tip': 1120, 'subreddit': 1121, 'catch': 1122, 'usa': 1123, 'aim': 1124, 'hr': 1125, 'blockchain': 1126, 'newspaper': 1127, 'station': 1128, 'incident': 1129, 'mob': 1130, 'september': 1131, 'failure': 1132, 'filter': 1133, 'bias': 1134, 'patel': 1135, 'son': 1136, 'suffer': 1137, 'valley': 1138, 'tribe': 1139, 'secure': 1140, 'draft': 1141, 'emergency': 1142, 'clearly': 1143, 'region': 1144, 'struggle': 1145, 'entry': 1146, 'marry': 1147, 'propose': 1148, 'oc': 1149, 'foundation': 1150, 'honest': 1151, 'imgur': 1152, 'animal': 1153, 'throw': 1154, 'brother': 1155, 'delivery': 1156, 'mom': 1157, 'resident': 1158, 'stickied': 1159, 'economist': 1160, 'confidence': 1161, 'difference': 1162, 'equipment': 1163, 'japan': 1164, 'asset': 1165, 'beyond': 1166, 'encourage': 1167, 'tradition': 1168, 'introduce': 1169, 'rural': 1170, 'mba': 1171, 'actual': 1172, 'immediately': 1173, 'production': 1174, 'shut': 1175, 'exit': 1176, 'bengaluru': 1177, 'refuse': 1178, 'ideology': 1179, 'corporation': 1180, 'heard': 1181, 'connect': 1182, 'employment': 1183, 'corruption': 1184, 'pawar': 1185, 'm': 1186, 'ramdev': 1187, 'strike': 1188, 'november': 1189, 'independence': 1190, 'annual': 1191, 'pursue': 1192, 'plex': 1193, 'contribute': 1194, 'confuse': 1195, 'approach': 1196, 'poll': 1197, 'disease': 1198, 'maintain': 1199, 'double': 1200, 'ahmedabad': 1201, 'pollution': 1202, 'extend': 1203, 'tablighi': 1204, 'apps': 1205, 'fdi': 1206, 'doubt': 1207, 'scheduled': 1208, 'founder': 1209, 'expert': 1210, 'tata': 1211, 'munal': 1212, 'bengal': 1213, 'ticket': 1214, 'wash': 1215, 'review': 1216, 'climate': 1217, 'mid': 1218, 'perhaps': 1219, 'candidate': 1220, 'ex': 1221, 'six': 1222, 'aryan': 1223, 'governance': 1224, 'engage': 1225, 'airport': 1226, 'license': 1227, 'lock': 1228, 'expensive': 1229, 'conversation': 1230, 'eu': 1231, 'regulation': 1232, 'donate': 1233, 'earlier': 1234, 'propaganda': 1235, 'basically': 1236, 'surprise': 1237, 'stupid': 1238, 'isro': 1239, 'kolkata': 1240, 'song': 1241, 'realise': 1242, 'goa': 1243, 'ride': 1244, 'quarantine': 1245, 'ama': 1246, 'exactly': 1247, 'theory': 1248, 'attention': 1249, 'import': 1250, 'subsidy': 1251, 'certainly': 1252, 'raghuram': 1253, 'bond': 1254, 'otherwise': 1255, 'october': 1256, 'vehicle': 1257, 'indus': 1258, 'proper': 1259, 'wing': 1260, 'poverty': 1261, 'dollar': 1262, 'weather': 1263, 'none': 1264, 'rd': 1265, 'cook': 1266, 'fair': 1267, 'football': 1268, 'restaurant': 1269, 'brief': 1270, 'deep': 1271, 'apart': 1272, 'quit': 1273, 'specifically': 1274, 'graphic': 1275, 'map': 1276, 'vijay': 1277, 'justice': 1278, 'ai': 1279, 'duty': 1280, 'innovation': 1281, 'iit': 1282, 'balance': 1283, 'tool': 1284, 'raj': 1285, 'amongst': 1286, 'railway': 1287, 'ceo': 1288, 'chennai': 1289, 'choice': 1290, 'background': 1291, 'urge': 1292, 'delay': 1293, 'ability': 1294, 'location': 1295, 'district': 1296, 'ten': 1297, 'trouble': 1298, 'concept': 1299, 'mode': 1300, 'responsibility': 1301, 'club': 1302, 'airline': 1303, 'medicine': 1304, 'somehow': 1305, 'analysis': 1306, 'surveillance': 1307, 'natural': 1308, 'associate': 1309, 'drink': 1310, 'wear': 1311, 'ref': 1312, 'absolutely': 1313, 'biweekly': 1314, 'chandrayaan': 1315, 'pet': 1316, 'km': 1317, 'original': 1318, 'counter': 1319, 'european': 1320, 'table': 1321, 'manufacture': 1322, 'banking': 1323, 'emerge': 1324, 'snapdeal': 1325, 'property': 1326, 'blog': 1327, 'meanwhile': 1328, 'effective': 1329, 'totally': 1330, 'provision': 1331, 'aadhar': 1332, 'sleep': 1333, 'profile': 1334, 'medal': 1335, 'bihar': 1336, 'terrorist': 1337, 'hero': 1338, 'stress': 1339, 'riot': 1340, 'shiv': 1341, 'sweet': 1342, 'nd': 1343, 'shift': 1344, 'asian': 1345, 'door': 1346, 'manmohan': 1347, 'dad': 1348, 'biz': 1349, 'correct': 1350, 'fly': 1351, 'simple': 1352, 'immigrant': 1353, 'drv': 1354, 'aoyomn': 1355, 'lwek': 1356, 'item': 1357, 'trend': 1358, 'caput': 1359, 'destroy': 1360, 'labor': 1361, 'depend': 1362, 'beat': 1363, 'secular': 1364, 'depression': 1365, 'battle': 1366, 'former': 1367, 'essential': 1368, 'key': 1369, 'exercise': 1370, 'professor': 1371, 'driver': 1372, 'device': 1373, 'regular': 1374, 'bc': 1375, 'core': 1376, 'gap': 1377, 'phase': 1378, 'context': 1379, 'friends': 1380, 'soldier': 1381, 'neighbour': 1382, 'association': 1383, 'criminal': 1384, 'transfer': 1385, 'establish': 1386, 'hop': 1387, 'plant': 1388, 'android': 1389, 'meeting': 1390, 'currency': 1391, 'aware': 1392, 'format': 1393, 'journalism': 1394, 'count': 1395, 'germany': 1396, 'imagine': 1397, 'appointment': 1398, 'kejriwal': 1399, 'reuters': 1400, 'perfect': 1401, 'moon': 1402, 'bike': 1403, 'approx': 1404, 'submit': 1405, 'cough': 1406, 'amid': 1407, 'enjoy': 1408, 'alternative': 1409, 'perspective': 1410, 'conflict': 1411, 'belief': 1412, 'flow': 1413, 'supply': 1414, 'perform': 1415, 'mistake': 1416, 'august': 1417, 'size': 1418, 'president': 1419, 'revenue': 1420, 'cross': 1421, 'speed': 1422, 'threat': 1423, 'absolute': 1424, 'jamaat': 1425, 'discus': 1426, 'mitted': 1427, 'jan': 1428, 'spirit': 1429, 'exclusive': 1430, 'replace': 1431, 'deny': 1432, 'everywhere': 1433, 'master': 1434, 'plain': 1435, 'helpful': 1436, 'iff': 1437, 'ii': 1438, 'educational': 1439, 'suicide': 1440, 'conference': 1441, 'apple': 1442, 'mr': 1443, 'hike': 1444, 'ki': 1445, 'cancel': 1446, 'zero': 1447, 'senior': 1448, 'corrupt': 1449, 'detention': 1450, 'startups': 1451, 'lawyer': 1452, 'sister': 1453, 'metro': 1454, 'im': 1455, 'math': 1456, 'yojana': 1457, 'aligned': 1458, 'rupee': 1459, 'personally': 1460, 'whenever': 1461, 'moreover': 1462, 'draw': 1463, 'agriculture': 1464, 'mercial': 1465, 'river': 1466, 'participate': 1467, 'rss': 1468, 'aap': 1469, 'block': 1470, 'structure': 1471, 'client': 1472, 'spending': 1473, 'sick': 1474, 'baby': 1475, 'town': 1476, 'busy': 1477, 'successful': 1478, 'merger': 1479, 'theprint': 1480, 'elect': 1481, 'freedom': 1482, 'professional': 1483, 'park': 1484, 'clause': 1485, 'islam': 1486, 'photographer': 1487, 'inspire': 1488, 'tele': 1489, 'principle': 1490, 'primary': 1491, 'deliver': 1492, 'sidebar': 1493, 'hot': 1494, 'fascist': 1495, 'mainstream': 1496, 'hide': 1497, 'oil': 1498, 'chain': 1499, 'weak': 1500, 'cab': 1501, 'mouth': 1502, 'cloud': 1503, 'scam': 1504, 'bangladesh': 1505, 'summer': 1506, 'appear': 1507, 'connection': 1508, 'ambani': 1509, 'appeal': 1510, 'podcasts': 1511, 'reflect': 1512, 'peace': 1513, 'spectrum': 1514, 'rahul': 1515, 'gather': 1516, 'stream': 1517, 'domestic': 1518, 'responsible': 1519, 'obviously': 1520, 'pas': 1521, 'explore': 1522, 'pakistani': 1523, 'initiative': 1524, 'ipl': 1525, 'extra': 1526, 'afford': 1527, 'apparently': 1528, 'cool': 1529, 'nizamuddin': 1530, 'headline': 1531, 'inr': 1532, 'nobody': 1533, 'says': 1534, 'belong': 1535, 'piece': 1536, 'living': 1537, 'bagh': 1538, 'organization': 1539, 'pan': 1540, 'usual': 1541, 'brexit': 1542, 'employer': 1543, 'player': 1544, 'vision': 1545, 'version': 1546, 'hurt': 1547, 'gift': 1548, 'willing': 1549, 'nose': 1550, 'conduct': 1551, 'box': 1552, 'burn': 1553, 'staff': 1554, 'depth': 1555, 'stick': 1556, 'retail': 1557, 'nationalism': 1558, 'technological': 1559, 'productivity': 1560, 'significant': 1561, 'recover': 1562, 'britain': 1563, 'stone': 1564, 'opposition': 1565, 'gate': 1566, 'saving': 1567, 'york': 1568, 'judge': 1569, 'spot': 1570, 'super': 1571, 'critical': 1572, 'munication': 1573, 'evidence': 1574, 'cultural': 1575, 'package': 1576, 'ease': 1577, 'material': 1578, 'framework': 1579, 'hotstar': 1580, 'foot': 1581, 'jnu': 1582, 'rice': 1583, 'dark': 1584, 'proud': 1585, 'festival': 1586, 'meme': 1587, 'negative': 1588, 'awareness': 1589, 'marketing': 1590, 'therefore': 1591, 'grant': 1592, 'operation': 1593, 'mandatory': 1594, 'buzz': 1595, 'demonetisation': 1596, 'supporter': 1597, 'par': 1598, 'ani': 1599, 'guideline': 1600, 'feeling': 1601, 'transaction': 1602, 'aspect': 1603, 'viral': 1604, 'anxiety': 1605, 'designer': 1606, 'wage': 1607, 'dawood': 1608, 'rape': 1609, 'print': 1610, 'fit': 1611, 'gear': 1612, 'discovery': 1613, 'europe': 1614, 'neither': 1615, 'afraid': 1616, 'nda': 1617, 'deputy': 1618, 'enterprise': 1619, 'select': 1620, 'housing': 1621, 'bbc': 1622, 'eg': 1623, 'infection': 1624, 'escape': 1625, 'temple': 1626, 'estimate': 1627, 'regime': 1628, 'approve': 1629, 'certificate': 1630, 'acquisition': 1631, 'foreigner': 1632, 'anymore': 1633, 'childhood': 1634, 'outbreak': 1635, 'bsnl': 1636, 'theme': 1637, 'easily': 1638, 'peer': 1639, 'lok': 1640, 'workplace': 1641, 'wedding': 1642, 'organisation': 1643, 'statistic': 1644, 'crop': 1645, 'scientist': 1646, 'eventually': 1647, 'tennis': 1648, 'training': 1649, 'appoint': 1650, 'republic': 1651, 'toll': 1652, 'impression': 1653, 'mn': 1654, 'indigo': 1655, 'shoot': 1656, 'anywhere': 1657, 'blood': 1658, 'academic': 1659, 'sardar': 1660, 'soundcloud': 1661, 'damage': 1662, 'discover': 1663, 'ship': 1664, 'weird': 1665, 'cell': 1666, 'scenario': 1667, 'deadline': 1668, 'instagram': 1669, 'us': 1670, 'purchase': 1671, 'accuse': 1672, 'deposit': 1673, 'chairman': 1674, 'relation': 1675, 'unless': 1676, 'ignore': 1677, 'volunteer': 1678, 'dp': 1679, 'civilization': 1680, 'encounter': 1681, 'manner': 1682, 'timeline': 1683, 'amit': 1684, 'entertainment': 1685, 'capacity': 1686, 'additional': 1687, 'earth': 1688, 'john': 1689, 'htm': 1690, 'justify': 1691, 'nearly': 1692, 'weight': 1693, 'randians': 1694, 'convince': 1695, 'ncp': 1696, 'relevant': 1697, 'kit': 1698, 'recession': 1699, 'sunday': 1700, 'flag': 1701, 'preview': 1702, 'width': 1703, 'inform': 1704, 'quote': 1705, 'threaten': 1706, 'wall': 1707, 'verification': 1708, 'paytm': 1709, 'fresh': 1710, 'impose': 1711, 'jaitley': 1712, 'steel': 1713, 'stake': 1714, 'object': 1715, 'align': 1716, 'doubtful': 1717, 'evil': 1718, 'census': 1719, 'c': 1720, 'beautiful': 1721, 'tie': 1722, 'tag': 1723, 'urine': 1724, 'megathread': 1725, 'resign': 1726, 'uttar': 1727, 'arvind': 1728, 'capitalism': 1729, 'consequence': 1730, 'indeed': 1731, 'found': 1732, 'respond': 1733, 'vs': 1734, 'decline': 1735, 'triple': 1736, 'admit': 1737, 'factor': 1738, 'investigation': 1739, 'wake': 1740, 'dedicate': 1741, 'lend': 1742, 'direction': 1743, 'ambulance': 1744, 'tamil': 1745, 'colleague': 1746, 'contain': 1747, 'leadership': 1748, 'powerful': 1749, 'de': 1750, 'proof': 1751, 'truly': 1752, 'hat': 1753, 'race': 1754, 'pension': 1755, 'blue': 1756, 'male': 1757, 'equal': 1758, 'neutrality': 1759, 'slowly': 1760, 'australia': 1761, 'bunch': 1762, 'mental': 1763, 'cite': 1764, 'healthy': 1765, 'reject': 1766, 'gonna': 1767, 'placement': 1768, 'limited': 1769, 'webp': 1770, 'regional': 1771, 'author': 1772, 'videos': 1773, 'hardly': 1774, 'award': 1775, 'hindustan': 1776, 'mod': 1777, 'farm': 1778, 'ngo': 1779, 'dear': 1780, 'arrange': 1781, 'lady': 1782, 'quora': 1783, 'rival': 1784, 'making': 1785, 'screen': 1786, 'upper': 1787, 'chandigarh': 1788, 'witness': 1789, 'instance': 1790, 'chat': 1791, 'python': 1792, 'dog': 1793, 'wallet': 1794, 'telangana': 1795, 'floor': 1796, 'inequality': 1797, 'audioboom': 1798, 'bala': 1799, 'deserve': 1800, 'percentage': 1801, 'adopt': 1802, 'bully': 1803, 'crime': 1804, 'represent': 1805, 'nytimes': 1806, 'straight': 1807, 'ed': 1808, 'longer': 1809, 'philosophy': 1810, 'military': 1811, 'influence': 1812, 'style': 1813, 'fruit': 1814, 'youtu': 1815, 'arm': 1816, 'generate': 1817, 'examination': 1818, 'joke': 1819, 'environmental': 1820, 'disaster': 1821, 'flash': 1822, 'aspx': 1823, 'laptop': 1824, 'unlike': 1825, 'shape': 1826, 'daughter': 1827, 'seven': 1828, 'learnt': 1829, 'tend': 1830, 'objective': 1831, 'fascism': 1832, 'offline': 1833, 'bag': 1834, 'khan': 1835, 'prefer': 1836, 'developer': 1837, 'java': 1838, 'cabinet': 1839, 'feedback': 1840, 'consumption': 1841, 'defense': 1842, 'expose': 1843, 'panel': 1844, 'jail': 1845, 'v': 1846, 'protester': 1847, 'fuel': 1848, 'forecast': 1849, 'protestors': 1850, 'facility': 1851, 'monday': 1852, 'symptom': 1853, 'hygiene': 1854, 'proposal': 1855, 'dtu': 1856, 'goi': 1857, 'nrcprotest': 1858, 'clothes': 1859, 'refer': 1860, 'nationalist': 1861, 'argue': 1862, 'prosperity': 1863, 'skilled': 1864, 'initially': 1865, 'reasonable': 1866, 'sad': 1867, 'personality': 1868, 'multi': 1869, 'curriculum': 1870, 'advise': 1871, 'conclusion': 1872, 'describe': 1873, 'default': 1874, 'determine': 1875, 'lower': 1876, 'democratic': 1877, 'fully': 1878, 'wise': 1879, 'copy': 1880, 'female': 1881, 'faith': 1882, 'redditors': 1883, 'cold': 1884, 'christian': 1885, 'meal': 1886, 'session': 1887, 'consult': 1888, 'fitness': 1889, 'exclude': 1890, 'lakhs': 1891, 'tough': 1892, 'pack': 1893, 'label': 1894, 'researcher': 1895, 'friday': 1896, 'vodafone': 1897, 'strength': 1898, 'olympics': 1899, 'developed': 1900, 'sensex': 1901, 'reveal': 1902, 'misuse': 1903, 'jio': 1904, 'distance': 1905, 'info': 1906, 'forum': 1907, 'procedure': 1908, 'tomorrow': 1909, 'bureaucracy': 1910, 'unpopular': 1911, 'capability': 1912, 'priority': 1913, 'heavy': 1914, 'artist': 1915, 'int': 1916, 'surface': 1917, 'personnel': 1918, 'anybody': 1919, 'mixed': 1920, 'universe': 1921, 'lander': 1922, 'reaction': 1923, 'learning': 1924, 'explanation': 1925, 'plenty': 1926, 'abuse': 1927, 'criticize': 1928, 'dalit': 1929, 'syllabus': 1930, 'lay': 1931, 'brain': 1932, 'intend': 1933, 'persecution': 1934, 'guarantee': 1935, 'assembly': 1936, 'zone': 1937, 'restriction': 1938, 'unable': 1939, 'proceed': 1940, 'throughout': 1941, 'crowd': 1942, 'tried': 1943, 'sachin': 1944, 'kg': 1945, 'fortable': 1946, 'ratio': 1947, 'bite': 1948, 'operate': 1949, 'wide': 1950, 'rajya': 1951, 'writer': 1952, 'himachal': 1953, 'rti': 1954, 'shaheen': 1955, 'quickly': 1956, 'confirm': 1957, 'magazine': 1958, 'finish': 1959, 'parison': 1960, 'munications': 1961, 'arun': 1962, 'thehindubusinessline': 1963, 'edition': 1964, 'liquor': 1965, 'mallya': 1966, 'bse': 1967, 'calendar': 1968, 'bar': 1969, 'physic': 1970, 'kumar': 1971, 'taseer': 1972, 'sharma': 1973, 'camp': 1974, 'hatred': 1975, 'talent': 1976, 'hackerrank': 1977, 'clueless': 1978, 'dc': 1979, 'eq': 1980, 'kunal': 1981, 'cast': 1982, 'recovery': 1983, 'swamy': 1984, 'alcohol': 1985, 'unite': 1986, 'passion': 1987, 'excellent': 1988, 'boycott': 1989, 'criticism': 1990, 'planning': 1991, 'celebrate': 1992, 'grade': 1993, 'warn': 1994, 'approval': 1995, 'op': 1996, 'journey': 1997, 'prior': 1998, 'afghanistan': 1999, 'permanent': 2000, 'talaq': 2001, 'construction': 2002, 'manufacturing': 2003, 'shelter': 2004, 'household': 2005, 'ups': 2006, 'canada': 2007, 'faculty': 2008, 'desperate': 2009, 'genuinely': 2010, 'winter': 2011, 'remote': 2012, 'primarily': 2013, 'bi': 2014, 'joint': 2015, 'jaipur': 2016, 'nearby': 2017, 'editor': 2018, 'mandate': 2019, 'tackle': 2020, 'pathetic': 2021, 'somewhere': 2022, 'strongly': 2023, 'refund': 2024, 'scene': 2025, 'mosque': 2026, 'fiction': 2027, 'archive': 2028, 'php': 2029, 'ei': 2030, 'wed': 2031, 'beer': 2032, 'jun': 2033, 'husband': 2034, 'discrimination': 2035, 'rarely': 2036, 'rajasthan': 2037, 'barely': 2038, 'murder': 2039, 'boy': 2040, 'alliance': 2041, 'loot': 2042, 'bribe': 2043, 'signal': 2044, 'privilege': 2045, 'madhya': 2046, 'ancient': 2047, 'whose': 2048, 'terrible': 2049, 'fool': 2050, 'efficiency': 2051, 'collection': 2052, 'pensation': 2053, 'honestly': 2054, 'hai': 2055, 'breach': 2056, 'pattern': 2057, 'robot': 2058, 'reliance': 2059, 'advisory': 2060, 'born': 2061, 'method': 2062, 'divorce': 2063, 'mail': 2064, 'relief': 2065, 'deeply': 2066, 'apartment': 2067, 'famous': 2068, 'partition': 2069, 'gang': 2070, 'io': 2071, 'subramanian': 2072, 'upi': 2073, 'clip': 2074, 'collective': 2075, 'flaw': 2076, 'surplus': 2077, 'agent': 2078, 'england': 2079, 'andhra': 2080, 'cat': 2081, 'logical': 2082, 'moody': 2083, 'era': 2084, 'extent': 2085, 'assessment': 2086, 'council': 2087, 'relatively': 2088, 'deficit': 2089, 'fashion': 2090, 'extreme': 2091, 'unique': 2092, 'interesting': 2093, 'sanskrit': 2094, 'settle': 2095, 'entity': 2096, 'narrative': 2097, 'conversion': 2098, 'resolution': 2099, 'possibility': 2100, 'amend': 2101, 'patent': 2102, 'useful': 2103, 'define': 2104, 'constantly': 2105, 'arrest': 2106, 'enemy': 2107, 'monetary': 2108, 'modis': 2109, 'literature': 2110, 'colour': 2111, 'season': 2112, 'hd': 2113, 'cup': 2114, 'boost': 2115, 'min': 2116, 'provider': 2117, 'rally': 2118, 'burden': 2119, 'passionate': 2120, 'accountability': 2121, 'judicial': 2122, 'external': 2123, 'task': 2124, 'depress': 2125, 'adventure': 2126, 'rent': 2127, 'chaos': 2128, 'tier': 2129, 'vegetable': 2130, 'demonetization': 2131, 'intention': 2132, 'sum': 2133, 'cheer': 2134, 'overall': 2135, 'desire': 2136, 'puters': 2137, 'fat': 2138, 'yeah': 2139, 'moneycontrol': 2140, 'mar': 2141, 'funny': 2142, 'oh': 2143, 'subscribe': 2144, 'sikh': 2145, 'victim': 2146, 'implementation': 2147, 'boomer': 2148, 'programming': 2149, 'cod': 2150, 'cant': 2151, 'resume': 2152, 'unfortunately': 2153, 'artificial': 2154, 'smart': 2155, 'tejas': 2156, 'origin': 2157, 'defence': 2158, 'participation': 2159, 'novel': 2160, 'ayush': 2161, 'scindia': 2162, 'curb': 2163, 'shoe': 2164, 'jee': 2165, 'red': 2166, 'admission': 2167, 'aptitude': 2168, 'skin': 2169, 'notification': 2170, 'passenger': 2171, 'peaceful': 2172, 'rescue': 2173, 'ongoing': 2174, 'labourer': 2175, 'factory': 2176, 'odisha': 2177, 'da': 2178, 'licence': 2179, 'relative': 2180, 'historian': 2181, 'root': 2182, 'king': 2183, 'stance': 2184, 'protective': 2185, 'monthly': 2186, 'intoday': 2187, 'harm': 2188, 'destruction': 2189, 'praise': 2190, 'transport': 2191, 'memory': 2192, 'download': 2193, 'expand': 2194, 'tribes': 2195, 'favour': 2196, 'obvious': 2197, 'wave': 2198, 'dispute': 2199, 'eliminate': 2200, 'jammu': 2201, 'coverage': 2202, 'entrepreneurship': 2203, 'assistance': 2204, 'judiciary': 2205, 'pilot': 2206, 'mint': 2207, 'expense': 2208, 'visa': 2209, 'kindly': 2210, 'marketplace': 2211, 'damn': 2212, 'recognize': 2213, 'cry': 2214, 'attendance': 2215, 'disagree': 2216, 'analyst': 2217, 'moderately': 2218, 'tire': 2219, 'circle': 2220, 'frequently': 2221, 'function': 2222, 'drama': 2223, 'ft': 2224, 'scar': 2225, 'delete': 2226, 'initial': 2227, 'jump': 2228, 'indiaspend': 2229, 'pull': 2230, 'confident': 2231, 'icici': 2232, 'twice': 2233, 'employability': 2234, 'soap': 2235, 'iits': 2236, 'fault': 2237, 'aspiration': 2238, 'strand': 2239, 'exposure': 2240, 'insist': 2241, 'semester': 2242, 'pleted': 2243, 'suit': 2244, 'violation': 2245, 'domain': 2246, 'hindus': 2247, 'quarter': 2248, 'sheet': 2249, 'requirement': 2250, 'giant': 2251, 'humanity': 2252, 'uidai': 2253, 'defend': 2254, 'minor': 2255, 'flaired': 2256, 'pop': 2257, 'indicator': 2258, 'agreement': 2259, 'bet': 2260, 'rid': 2261, 'fep': 2262, 'freecharge': 2263, 'dominate': 2264, 'holiday': 2265, 'lac': 2266, 'puppy': 2267, 'regulate': 2268, 'maximum': 2269, 'guest': 2270, 'stuck': 2271, 'guidance': 2272, 'monsoon': 2273, 'contract': 2274, 'solar': 2275, 'bf': 2276, 'truck': 2277, 'exploit': 2278, 'mukesh': 2279, 'portal': 2280, 'netherlands': 2281, 'italy': 2282, 'et': 2283, 'fare': 2284, 'sensationalism': 2285, 'significantly': 2286, 'importance': 2287, 'socialist': 2288, 'lesson': 2289, 'sustain': 2290, 'cotton': 2291, 'manufacturer': 2292, 'agricultural': 2293, 'virat': 2294, 'kohli': 2295, 'vast': 2296, 'statue': 2297, 'cycle': 2298, 'outlook': 2299, 'csr': 2300, 'route': 2301, 'awesome': 2302, 'importantly': 2303, 'creation': 2304, 'hinduism': 2305, 'blind': 2306, 'marginal': 2307, 'green': 2308, 'promotion': 2309, 'mandir': 2310, 'employ': 2311, 'advanced': 2312, 'enable': 2313, 'presence': 2314, 'controversial': 2315, 'permit': 2316, 'sponsor': 2317, 'registration': 2318, 'neutral': 2319, 'jain': 2320, 'electricity': 2321, 'ration': 2322, 'left': 2323, 'angry': 2324, 'addition': 2325, 'contribution': 2326, 'selection': 2327, 'fell': 2328, 'calm': 2329, 'thinking': 2330, 'evening': 2331, 'missioner': 2332, 'working': 2333, 'ok': 2334, 'udemy': 2335, 'trace': 2336, 'shock': 2337, 'vendor': 2338, 'neighbor': 2339, 'desi': 2340, 'adult': 2341, 'league': 2342, 'interaction': 2343, 'campus': 2344, 'donald': 2345, 'idinkcn': 2346, 'suddenly': 2347, 'ipo': 2348, 'northeast': 2349, 'heaven': 2350, 'ca': 2351, 'prize': 2352, 'bother': 2353, 'plaint': 2354, 'achievement': 2355, 'wanna': 2356, 'panic': 2357, 'intellectual': 2358, 'caravanmagazine': 2359, 'ajit': 2360, 'beach': 2361, 'fir': 2362, 'trial': 2363, 'vaccine': 2364, 'mendation': 2365, 'reading': 2366, 'violent': 2367, 'agenda': 2368, 'aircraft': 2369, 'dec': 2370, 'sacrifice': 2371, 'similarly': 2372, 'mix': 2373, 'lunar': 2374, 'drug': 2375, 'boyfriend': 2376, 'excite': 2377, 'french': 2378, 'lifestyle': 2379, 'bullshit': 2380, 'timbaktu': 2381, 'falsely': 2382, 'sneeze': 2383, 'crores': 2384, 'merely': 2385, 'jai': 2386, 'arrive': 2387, 'dhoni': 2388, 'exams': 2389, 'skilling': 2390, 'german': 2391, 'shortage': 2392, 'nagar': 2393, 'cult': 2394, 'indira': 2395, 'iron': 2396, 'ligo': 2397, 'immigration': 2398, 'tulsi': 2399, 'baba': 2400, 'peak': 2401, 'sharad': 2402, 'slave': 2403, 'bhutanese': 2404, 'electronics': 2405, 'curious': 2406, 'peter': 2407, 'expansion': 2408, 'administration': 2409, 'reward': 2410, 'silver': 2411, 'occur': 2412, 'bhakts': 2413, 'executive': 2414, 'practical': 2415, 'yogi': 2416, 'japanese': 2417, 'fiscal': 2418, 'territory': 2419, 'aid': 2420, 'trillion': 2421, 'expectation': 2422, 'mess': 2423, 'plus': 2424, 'possibly': 2425, 'worship': 2426, 'buffer': 2427, 'element': 2428, 'prepared': 2429, 'incentive': 2430, 'korea': 2431, 'spit': 2432, 'bigotry': 2433, 'connectivity': 2434, 'forest': 2435, 'pr': 2436, 'traditional': 2437, 'observe': 2438, 'punish': 2439, 'transition': 2440, 'hindustantimes': 2441, 'excuse': 2442, 'anger': 2443, 'rashtra': 2444, 'dissent': 2445, 'samsung': 2446, 'laptops': 2447, 'brainwash': 2448, 'mall': 2449, 'few': 2450, 'premise': 2451, 'businesstoday': 2452, 'anyways': 2453, 'fu': 2454, 'recognise': 2455, 'demographic': 2456, 'scope': 2457, 'saturday': 2458, 'television': 2459, 'bloomberg': 2460, 'rain': 2461, 'forever': 2462, 'discipline': 2463, 'swiss': 2464, 'africa': 2465, 'chhattisgarh': 2466, 'script': 2467, 'estate': 2468, 'assure': 2469, 'sexual': 2470, 'rename': 2471, 'bat': 2472, 'engagement': 2473, 'sentence': 2474, 'theguardian': 2475, 'gas': 2476, 'tuesday': 2477, 'ending': 2478, 'remind': 2479, 'improvement': 2480, 'affordable': 2481, 'bhatt': 2482, 'trading': 2483, 'shutdown': 2484, 'oci': 2485, 'aatish': 2486, 'radar': 2487, 'character': 2488, 'fulfil': 2489, 'hidden': 2490, 'tank': 2491, 'enforce': 2492, 'mlas': 2493, 'extremist': 2494, 'worried': 2495, 'repeat': 2496, 'understanding': 2497, 'regularly': 2498, 'unicorn': 2499, 'harshalbot': 2500, 'heat': 2501, 'buying': 2502, 'reddiquette': 2503, 'naik': 2504, 'lab': 2505, 'suck': 2506, 'scrap': 2507, 'petitive': 2508, 'tracker': 2509, 'championship': 2510, 'meetup': 2511, 'aiims': 2512, 'bengali': 2513, 'fb': 2514, 'as': 2515, 'breathe': 2516, 'un': 2517, 'shopping': 2518, 'bansal': 2519, 'rock': 2520, 'precaution': 2521, 'respiratory': 2522, 'tissue': 2523, 'mobikwik': 2524, 'sd': 2525, 'solo': 2526, 'cv': 2527, 'swab': 2528, 'pn': 2529, 'colonial': 2530, 'golden': 2531, 'socialism': 2532, 'reader': 2533, 'attitude': 2534, 'misinformation': 2535, 'sadly': 2536, 'storm': 2537, 'homepage': 2538, 'porn': 2539, 'sovereign': 2540, 'error': 2541, 'acknowledge': 2542, 'quick': 2543, 'divert': 2544, 'premium': 2545, 'exact': 2546, 'popularity': 2547, 'isnt': 2548, 'shame': 2549, 'resolve': 2550, 'highway': 2551, 'rail': 2552, 'establishment': 2553, 'roll': 2554, 'expenditure': 2555, 'appropriate': 2556, 'grand': 2557, 'america': 2558, 'slogan': 2559, 'sustainable': 2560, 'bed': 2561, 'distancing': 2562, 'preferably': 2563, 'everybody': 2564, 'window': 2565, 'variety': 2566, 'pdp': 2567, 'frame': 2568, 'sensitive': 2569, 'transparency': 2570, 'fairly': 2571, 'portfolio': 2572, 'happiness': 2573, 'raw': 2574, 'particularly': 2575, 'integrate': 2576, 'nationwide': 2577, 'column': 2578, 'follower': 2579, 'amaze': 2580, 'atleast': 2581, 'resort': 2582, 'subscriber': 2583, 'flairs': 2584, 'organize': 2585, 'broadcast': 2586, 'whats': 2587, 'pe': 2588, 'monitor': 2589, 'cement': 2590, 'sun': 2591, 'ak': 2592, 'jamia': 2593, 'infosys': 2594, 'mnc': 2595, 'retire': 2596, 'curfew': 2597, 'nagpur': 2598, 'cinema': 2599, 'hockey': 2600, 'internship': 2601, 'chronology': 2602, 'crap': 2603, 'ton': 2604, 'dalits': 2605, 'violate': 2606, 'essentially': 2607, 'upload': 2608, 'spreadsheet': 2609, 'paint': 2610, 'ideal': 2611, 'hack': 2612, 'plastic': 2613, 'tldr': 2614, 'prospect': 2615, 'reference': 2616, 'fighter': 2617, 'dare': 2618, 'earthquake': 2619, 'diwali': 2620, 'strategy': 2621, 'scoop': 2622, 'slightly': 2623, 'careful': 2624, 'properly': 2625, 'replacement': 2626, 'forth': 2627, 'secret': 2628, 'suspect': 2629, 'niti': 2630, 'hunger': 2631, 'nepal': 2632, 'militant': 2633, 'nowhere': 2634, 'danger': 2635, 'coach': 2636, 'politely': 2637, 'gross': 2638, 'drain': 2639, 'amazing': 2640, 'gupta': 2641, 'shitty': 2642, 'jet': 2643, 'diesel': 2644, 'alarm': 2645, 'eight': 2646, 'tea': 2647, 'max': 2648, 'vc': 2649, 'equally': 2650, 'indore': 2651, 'rumour': 2652, 'diverse': 2653, 'mohan': 2654, 'oyo': 2655, 'cyber': 2656, 'bluedart': 2657, 'insight': 2658, 'pib': 2659, 'dev': 2660, 'strategic': 2661, 'jadavpur': 2662, 'vikram': 2663, 'mum': 2664, 'pubg': 2665, 'annually': 2666, 'workforce': 2667, 'prosperous': 2668, 'celebrity': 2669, 'inter': 2670, 'shekhar': 2671, 'ruin': 2672, 'mainly': 2673, 'collapse': 2674, 'margin': 2675, 'hearing': 2676, 'investigate': 2677, 'rely': 2678, 'se': 2679, 'meant': 2680, 'bound': 2681, 'rush': 2682, 'veda': 2683, 'crucial': 2684, 'accelerate': 2685, 'defeat': 2686, 'tribal': 2687, 'internal': 2688, 'ill': 2689, 'merge': 2690, 'marathi': 2691, 'punjabi': 2692, 'buddhist': 2693, 'accident': 2694, 'mobility': 2695, 'tb': 2696, 'bonus': 2697, 'mantri': 2698, 'prehensive': 2699, 'hon': 2700, 'pool': 2701, 'diploma': 2702, 'lol': 2703, 'olympic': 2704, 'heavily': 2705, 'yield': 2706, 'girlfriend': 2707, 'confused': 2708, 'typical': 2709, 'immediate': 2710, 'bang': 2711, 'trek': 2712, 'married': 2713, 'semi': 2714, 'substantial': 2715, 'nris': 2716, 'warning': 2717, 'wont': 2718, 'openly': 2719, 'appreciation': 2720, 'verify': 2721, 'chapter': 2722, 'parliamentary': 2723, 'anime': 2724, 'wild': 2725, 'tree': 2726, 'mit': 2727, 'shout': 2728, 'unemployment': 2729, 'radio': 2730, 'dig': 2731, 'vague': 2732, 'smoke': 2733, 'custom': 2734, 'wheat': 2735, 'docs': 2736, 'doc': 2737, 'asap': 2738, 'dharavi': 2739, 'regardless': 2740, 'terrorism': 2741, 'kalam': 2742, 'strictly': 2743, 'con': 2744, 'credibility': 2745, 'sinha': 2746, 'somebody': 2747, 'potentially': 2748, 'neighbourhood': 2749, 'chair': 2750, 'insane': 2751, 'allegation': 2752, 'shankar': 2753, 'goon': 2754, 'difficulty': 2755, 'prevention': 2756, 'largely': 2757, 'bose': 2758, 'sir': 2759, 'respective': 2760, 'band': 2761, 'entrance': 2762, 'abandon': 2763, 'distribute': 2764, 'adani': 2765, 'crony': 2766, 'lynch': 2767, 'existence': 2768, 'politically': 2769, 'portion': 2770, 'petrol': 2771, 'conspiracy': 2772, 'reporter': 2773, 'noida': 2774, 'battery': 2775, 'guys': 2776, 'tear': 2777, 'censor': 2778, 'servant': 2779, 'bureaucratic': 2780, 'ordinary': 2781, 'yellow': 2782, 'laboratory': 2783, 'told': 2784, 'unnecessary': 2785, 'auction': 2786, 'capable': 2787, 'upgrade': 2788, 'pulwama': 2789, 'isolation': 2790, 'pocket': 2791, 'entirely': 2792, 'delve': 2793, 'unforeseen': 2794, 'nationalised': 2795, 'shallow': 2796, 'fintech': 2797, 'segment': 2798, 'timing': 2799, 'mining': 2800, 'crash': 2801, 'react': 2802, 'repute': 2803, 'alert': 2804, 'stadium': 2805, 'govts': 2806, 'haryana': 2807, 'aayog': 2808, 'lpa': 2809, 'unit': 2810, 'civilian': 2811, 'quota': 2812, 'wildlife': 2813, 'kinda': 2814, 'dry': 2815, 'aicte': 2816, 'encryption': 2817, 'equality': 2818, 'solid': 2819, 'consulate': 2820, 'dirty': 2821, 'cbse': 2822, 'fm': 2823, 'updates': 2824, 'mohfw': 2825, 'sewage': 2826, 'temperature': 2827, 'premier': 2828, 'actor': 2829, 'iim': 2830, 'aoc': 2831, 'cbfc': 2832, 'audiogyan': 2833, 'basmati': 2834, 'oral': 2835, 'particulate': 2836, 'shashi': 2837, 'essay': 2838, 'twenty': 2839, 'businessmen': 2840, 'tour': 2841, 'mahal': 2842, 'textile': 2843, 'enormous': 2844, 'classic': 2845, 'chandra': 2846, 'audio': 2847, 'buyer': 2848, 'logic': 2849, 'ultimately': 2850, 'scholar': 2851, 'narrow': 2852, 'crazy': 2853, 'pose': 2854, 'indo': 2855, 'alternate': 2856, 'settlement': 2857, 'spent': 2858, 'champion': 2859, 'gathering': 2860, 'altnews': 2861, 'retirement': 2862, 'preference': 2863, 'port': 2864, 'constitutional': 2865, 'pradhan': 2866, 'ritual': 2867, 'ble': 2868, 'administrative': 2869, 'lets': 2870, 'petent': 2871, 'qualification': 2872, 'mentality': 2873, 'dependent': 2874, 'notional': 2875, 'advantage': 2876, 'objection': 2877, 'til': 2878, 'polo': 2879, 'gym': 2880, 'bomb': 2881, 'thackeray': 2882, 'stem': 2883, 'mitment': 2884, 'bullet': 2885, 'reliable': 2886, 'perfectly': 2887, 'pfrom': 2888, 'grab': 2889, 'consent': 2890, 'circumstance': 2891, 'sudden': 2892, 'input': 2893, 'corner': 2894, 'secretary': 2895, 'bench': 2896, 'stakeholder': 2897, 'internetfreedom': 2898, 'destination': 2899, 'hang': 2900, 'maker': 2901, 'photograph': 2902, 'favorite': 2903, 'gender': 2904, 'bent': 2905, 'progressive': 2906, 'menu': 2907, 'ec': 2908, 'accessory': 2909, 'retailer': 2910, 'kick': 2911, 'maize': 2912, 'spell': 2913, 'saudi': 2914, 'russia': 2915, 'consume': 2916, 'better': 2917, 'media': 2918, 'wrestle': 2919, 'bottom': 2920, 'favourite': 2921, 'pride': 2922, 'bos': 2923, 'panama': 2924, 'sbi': 2925, 'aviation': 2926, 'nifty': 2927, 'usd': 2928, 'output': 2929, 'wednesday': 2930, 'strange': 2931, 'used': 2932, 'utter': 2933, 'socially': 2934, 'description': 2935, 'aspire': 2936, 'pic': 2937, 'myth': 2938, 'medication': 2939, 'batch': 2940, 'sanjiv': 2941, 'remark': 2942, 'hrd': 2943, 'controversy': 2944, 'firstly': 2945, 'voting': 2946, 'mj': 2947, 'trash': 2948, 'african': 2949, 'ps': 2950, 'url': 2951, 'impossible': 2952, 'bureaucrat': 2953, 'biotech': 2954, 'indigenous': 2955, 'iaf': 2956, 'definition': 2957, 'cases': 2958, 'lift': 2959, 'weaken': 2960, 'dnaindia': 2961, 'silent': 2962, 'brazen': 2963, 'naww': 2964, 'paul': 2965, 'sequoia': 2966, 'myntra': 2967, 'departure': 2968, 'drone': 2969, 'suggestions': 2970, 'behaviour': 2971, 'meter': 2972, 'resignation': 2973, 'rental': 2974, 'color': 2975, 'cousin': 2976, 'severe': 2977, 'succeed': 2978, 'tariff': 2979, 'dispose': 2980, 'edge': 2981, 'alright': 2982, 'roam': 2983, 'abusive': 2984, 'broken': 2985, 'discriminate': 2986, 'bare': 2987, 'locality': 2988, 'routine': 2989, 'formal': 2990, 'starter': 2991, 'mathematics': 2992, 'racist': 2993, 'hashtag': 2994, 'disturb': 2995, 'browse': 2996, 'mahindra': 2997, 'rao': 2998, 'grid': 2999, 'rc': 3000, 'coffee': 3001, 'advisor': 3002, 'consultancy': 3003, 'nandy': 3004, 'gabbard': 3005, 'bot': 3006, 'tiktok': 3007, 'dawson': 3008, 'tharoor': 3009, 'recall': 3010, 'colonialism': 3011, 'capitalist': 3012, 'mood': 3013, 'orient': 3014, 'taj': 3015, 'precious': 3016, 'constant': 3017, 'dynamic': 3018, 'ideas': 3019, 'activist': 3020, 'adequate': 3021, 'preparation': 3022, 'dude': 3023, 'financing': 3024, 'accountable': 3025, 'greatly': 3026, 'astrology': 3027, 'overseas': 3028, 'opening': 3029, 'blindly': 3030, 'regulatory': 3031, 'facilitate': 3032, 'sufficient': 3033, 'dozen': 3034, 'latter': 3035, 'rig': 3036, 'reside': 3037, 'native': 3038, 'iranian': 3039, 'fold': 3040, 'bin': 3041, 'infect': 3042, 'formula': 3043, 'principal': 3044, 'attain': 3045, 'moderate': 3046, 'grasp': 3047, 'uncle': 3048, 'automobile': 3049, 'valuation': 3050, 'adjust': 3051, 'elder': 3052, 'notion': 3053, 'recruit': 3054, 'pump': 3055, 'ka': 3056, 'beg': 3057, 'thankfully': 3058, 'imf': 3059, 'uddhav': 3060, 'troll': 3061, 'vhp': 3062, 'markaz': 3063, 'sometime': 3064, 'italian': 3065, 'prediction': 3066, 'imply': 3067, 'steal': 3068, 'publicly': 3069, 'psu': 3070, 'ml': 3071, 'quiet': 3072, 'ecosystem': 3073, 'translate': 3074, 'verdict': 3075, 'fortune': 3076, 'transportation': 3077, 'inclusion': 3078, 'immense': 3079, 'inclusive': 3080, 'plot': 3081, 'pv': 3082, 'locate': 3083, 'previously': 3084, 'publication': 3085, 'experiment': 3086, 'proven': 3087, 'gallery': 3088, 'smartphone': 3089, 'equivalent': 3090, 'jobs': 3091, 'moral': 3092, 'courage': 3093, 'extension': 3094, 'besides': 3095, 'assistant': 3096, 'shri': 3097, 'npa': 3098, 'fancy': 3099, 'introduction': 3100, 'cs': 3101, 'norm': 3102, 'kabaddi': 3103, 'regret': 3104, 'sci': 3105, 'penalty': 3106, 'edu': 3107, 'hunt': 3108, 'fort': 3109, 'leak': 3110, 'hungry': 3111, 'taste': 3112, 'essar': 3113, 'grocery': 3114, 'headquarter': 3115, 'cpi': 3116, 'plane': 3117, 'bore': 3118, 'pure': 3119, 'upset': 3120, 'economically': 3121, 'nuclear': 3122, 'nri': 3123, 'stranger': 3124, 'mystery': 3125, 'cd': 3126, 'jharkhand': 3127, 'nirmala': 3128, 'friendship': 3129, 'ganga': 3130, 'initiate': 3131, 'mock': 3132, 'dish': 3133, 'spray': 3134, 'hopefully': 3135, 'indicate': 3136, 'azad': 3137, 'ambedkar': 3138, 'suspicion': 3139, 'analytics': 3140, 'lord': 3141, 'nussing': 3142, 'clash': 3143, 'urgent': 3144, 'permission': 3145, 'hardship': 3146, 'fourth': 3147, 'understood': 3148, 'satellite': 3149, 'vajpayee': 3150, 'logistics': 3151, 'slip': 3152, 'donation': 3153, 'hp': 3154, 'cashier': 3155, 'diseases': 3156, 'amitabh': 3157, 'slowdown': 3158, 'varanasi': 3159, 'nexus': 3160, 'ie': 3161, 'upsc': 3162, 'contest': 3163, 'pelt': 3164, 'fbclid': 3165, 'iwar': 3166, 'guitar': 3167, 'cse': 3168, 'footwear': 3169, 'mechanical': 3170, 'postpone': 3171, 'bridge': 3172, 'keen': 3173, 'affected': 3174, 'bombay': 3175, 'cc': 3176, 'counsel': 3177, 'dislike': 3178, 'happens': 3179, 'pharmacy': 3180, 'tongue': 3181, 'interpret': 3182, 'parsi': 3183, 'bachelor': 3184, 'cooperation': 3185, 'broadband': 3186, 'wind': 3187, 'older': 3188, 'autonomy': 3189, 'exodus': 3190, 'silicon': 3191, 'pregnancy': 3192, 'royal': 3193, 'states': 3194, 'sea': 3195, 'audiomatic': 3196, 'toilet': 3197, 'addict': 3198, 'isi': 3199, 'brings': 3200, 'motor': 3201, 'dividend': 3202, 'beef': 3203, 'feb': 3204, 'uncertainty': 3205, 'implication': 3206, 'oct': 3207, 'allegedly': 3208, 'helpline': 3209, 'slum': 3210, 'bubble': 3211, 'wp': 3212, 'sing': 3213, 'anthem': 3214, 'amritsar': 3215, 'fresher': 3216, 'emphasis': 3217, 'vulnerable': 3218, 'distract': 3219, 'leftist': 3220, 'aside': 3221, 'oxfam': 3222, 'needs': 3223, 'lal': 3224, 'wallpaper': 3225, 'gom': 3226, 'proportion': 3227, 'phd': 3228, 'vegetarian': 3229, 'pooja': 3230, 'rajeev': 3231, 'nric': 3232, 'directorate': 3233, 'tommy': 3234, 'clickbait': 3235, 'spark': 3236, 'protests': 3237, 'physical': 3238, 'fs': 3239, 'fifty': 3240, 'railways': 3241, 'friendly': 3242, 'emphasize': 3243, 'portray': 3244, 'quantity': 3245, 'closer': 3246, 'france': 3247, 'machinery': 3248, 'hill': 3249, 'scare': 3250, 'behavior': 3251, 'zoho': 3252, 'speaker': 3253, 'graduation': 3254, 'btech': 3255, 'bankrupt': 3256, 'lucknow': 3257, 'salt': 3258, 'criticise': 3259, 'conclude': 3260, 'overwhelm': 3261, 'unity': 3262, 'rare': 3263, 'vice': 3264, 'subsequent': 3265, 'enters': 3266, 'soft': 3267, 'rupees': 3268, 'enhance': 3269, 'legislative': 3270, 'constitute': 3271, 'mi': 3272, 'consultant': 3273, 'suitable': 3274, 'fraud': 3275, 'bhakt': 3276, 'brahmin': 3277, 'allows': 3278, 'soul': 3279, 'manipur': 3280, 'ball': 3281, 'chant': 3282, 'theater': 3283, 'thursday': 3284, 'translation': 3285, 'sony': 3286, 'upto': 3287, 'ia': 3288, 'clap': 3289, 'intervention': 3290, 'hometown': 3291, 'casual': 3292, 'irrespective': 3293, 'pti': 3294, 'attract': 3295, 'frustrate': 3296, 'airtel': 3297, 'candid': 3298, 'municate': 3299, 'naturally': 3300, 'vacation': 3301, 'additionally': 3302, 'judgement': 3303, 'diversity': 3304, 'exemption': 3305, 'animation': 3306, 'lecture': 3307, 'california': 3308, 'vp': 3309, 'uploads': 3310, 'sheer': 3311, 'aka': 3312, 'surround': 3313, 'weapon': 3314, 'pin': 3315, 'creativity': 3316, 'ncr': 3317, 'technique': 3318, 'downtoearth': 3319, 'nine': 3320, 'southern': 3321, 'calculation': 3322, 'cattle': 3323, 'looking': 3324, 'dumb': 3325, 'doesnt': 3326, 'al': 3327, 'arabia': 3328, 'horrible': 3329, 'habit': 3330, 'disastrous': 3331, 'ic': 3332, 'taught': 3333, 'officially': 3334, 'renew': 3335, 'dignity': 3336, 'bathroom': 3337, 'necessity': 3338, 'album': 3339, 'mute': 3340, 'predict': 3341, 'pole': 3342, 'unlikely': 3343, 'arc': 3344, 'borrow': 3345, 'tragedy': 3346, 'allege': 3347, 'instant': 3348, 'sky': 3349, 'edy': 3350, 'govern': 3351, 'vary': 3352, 'brilliant': 3353, 'afterwards': 3354, 'invent': 3355, 'bitter': 3356, 'languages': 3357, 'worst': 3358, 'surgical': 3359, 'excel': 3360, 'sanjay': 3361, 'balakot': 3362, 'electoral': 3363, 'roy': 3364, 'fiasco': 3365, 'silence': 3366, 'purely': 3367, 'priya': 3368, 'harassment': 3369, 'janata': 3370, 'inch': 3371, 'wonderful': 3372, 'row': 3373, 'sent': 3374, 'coz': 3375, 'procure': 3376, 'undermine': 3377, 'skip': 3378, 'depressed': 3379, 'guard': 3380, 'superpower': 3381, 'gurgaon': 3382, 'strengthen': 3383, 'lca': 3384, 'furthermore': 3385, 'contemporary': 3386, 'architecture': 3387, 'mig': 3388, 'glory': 3389, 'newsletter': 3390, 'hdfc': 3391, 'graham': 3392, 'exfinity': 3393, 'knowledgable': 3394, 'mcnamara': 3395, 'equity': 3396, 'rip': 3397, 'lic': 3398, 'photoshop': 3399, 'tonight': 3400, 'ee': 3401, 'reminder': 3402, 'stats': 3403, 'nit': 3404, 'jk': 3405, 'pseudo': 3406, 'bs': 3407, 'kashyap': 3408, 'lately': 3409, 'condemn': 3410, 'chemical': 3411, 'nsut': 3412, 'imo': 3413, 'historical': 3414, 'brutal': 3415, 'idk': 3416, 'classify': 3417, 'bleed': 3418, 'bharatiya': 3419, 'lpg': 3420, 'lite': 3421, 'nadu': 3422, 'ambassador': 3423, 'gay': 3424, 'emotional': 3425, 'emission': 3426, 'split': 3427, 'everytime': 3428, 'transmission': 3429, 'elections': 3430, 'telco': 3431, 'ownership': 3432, 'wifi': 3433, 'botch': 3434, 'gazette': 3435, 'biometric': 3436, 'saga': 3437, 'pray': 3438, 'strict': 3439, 'menting': 3440, 'audit': 3441, 'manohar': 3442, 'tender': 3443, 'motivation': 3444, 'discard': 3445, 'psychologist': 3446, 'crush': 3447, 'globe': 3448, 'backward': 3449, 'categorize': 3450, 'hall': 3451, 'tall': 3452, 'bangladeshi': 3453, 'maed': 3454, 'load': 3455, 'vaccination': 3456, 'tesla': 3457, 'alibaba': 3458, 'billionaire': 3459, 'tn': 3460, 'dadra': 3461, 'fever': 3462, 'midst': 3463, 'blume': 3464, 'warm': 3465, 'thats': 3466, 'igdtu': 3467, 'validation': 3468, 'gradually': 3469, 'soil': 3470, 'diet': 3471, 'emotionally': 3472, 'plaza': 3473, 'filing': 3474, 'maujpur': 3475, 'overtime': 3476, 'george': 3477, 'screw': 3478, 'thequint': 3479, 'guilt': 3480, 'forgotten': 3481, 'transform': 3482, 'websites': 3483, 'upliftment': 3484, 'hikikomori': 3485, 'withdrawal': 3486, 'pricing': 3487, 'sars': 3488, 'geopolitical': 3489, 'vegetarianism': 3490, 'panchayat': 3491, 'balakrishna': 3492, 'patanjali': 3493, 'cap': 3494, 'mountain': 3495, 'sentiment': 3496, 'weigh': 3497, 'benchmark': 3498, 'magnitude': 3499, 'gradual': 3500, 'dampen': 3501, 'puzzle': 3502, 'productive': 3503, 'absorb': 3504, 'manual': 3505, 'plish': 3506, 'apr': 3507, 'alienate': 3508, 'colony': 3509, 'mount': 3510, 'opt': 3511, 'eclipse': 3512, 'sharp': 3513, 'representative': 3514, 'incorrect': 3515, 'pound': 3516, 'wheel': 3517, 'applies': 3518, 'critic': 3519, 'specialize': 3520, 'lane': 3521, 'bird': 3522, 'ravi': 3523, 'raid': 3524, 'migrate': 3525, 'adoption': 3526, 'authoritarian': 3527, 'visitor': 3528, 'observation': 3529, 'swachh': 3530, 'abolish': 3531, 'canadian': 3532, 'residence': 3533, 'refugee': 3534, 'franchise': 3535, 'specify': 3536, 'justification': 3537, 'islamic': 3538, 'spiritual': 3539, 'secularism': 3540, 'financially': 3541, 'irrigation': 3542, 'construct': 3543, 'visible': 3544, 'policies': 3545, 'psychology': 3546, 'ultra': 3547, 'courier': 3548, 'solidarity': 3549, 'conservative': 3550, 'sim': 3551, 'bid': 3552, 'profitable': 3553, 'allocation': 3554, 'costly': 3555, 'slab': 3556, 'mismanagement': 3557, 'victory': 3558, 'lpm': 3559, 'saveourprivacy': 3560, 'institutional': 3561, 'arise': 3562, 'bind': 3563, 'fi': 3564, 'satisfy': 3565, 'sindhu': 3566, 'badminton': 3567, 'govindraj': 3568, 'log': 3569, 'increasingly': 3570, 'fe': 3571, 'stumble': 3572, 'zomato': 3573, 'swiggy': 3574, 'throwaway': 3575, 'blow': 3576, 'armyworm': 3577, 'jo': 3578, 'processing': 3579, 'lazy': 3580, 'shed': 3581, 'btw': 3582, 'serial': 3583, 'chart': 3584, 'hole': 3585, 'gif': 3586, 'ranking': 3587, 'cities': 3588, 'scary': 3589, 'tifac': 3590, 'grown': 3591, 'tiny': 3592, 'going': 3593, 'lunch': 3594, 'minimize': 3595, 'usp': 3596, 'screenshot': 3597, 'thakur': 3598, 'convict': 3599, 'stability': 3600, 'repay': 3601, 'mysore': 3602, 'bhopal': 3603, 'borrower': 3604, 'tc': 3605, 'illegally': 3606, 'kingfisher': 3607, 'sight': 3608, 'scream': 3609, 'utterly': 3610, 'prasad': 3611, 'banerjee': 3612, 'ambition': 3613, 'throne': 3614, 'smile': 3615, 'knew': 3616, 'continent': 3617, 'asks': 3618, 'ba': 3619, 'ist': 3620, 'physically': 3621, 'illness': 3622, 'pile': 3623, 'probe': 3624, 'sack': 3625, 'sangh': 3626, 'horse': 3627, 'lynching': 3628, 'irani': 3629, 'newly': 3630, 'partially': 3631, 'favor': 3632, 'boot': 3633, 'policeman': 3634, 'guardian': 3635, 'maulana': 3636, 'financialexpress': 3637, 'ji': 3638, 'clothe': 3639, 'hint': 3640, 'division': 3641, 'blank': 3642, 'boast': 3643, 'dm': 3644, 'javascript': 3645, 'petty': 3646, 'er': 3647, 'odd': 3648, 'hook': 3649, 'display': 3650, 'clue': 3651, 'wet': 3652, 'mand': 3653, 'milestone': 3654, 'clearance': 3655, 'missile': 3656, 'shortfall': 3657, 'onto': 3658, 'useless': 3659, 'handful': 3660, 'carbon': 3661, 'columns': 3662, 'hnis': 3663, 'bitcoin': 3664, 'bitcoins': 3665, 'chip': 3666, 'fd': 3667, 'skeptical': 3668, 'sole': 3669, 'lean': 3670, 'using': 3671, 'kiran': 3672, 'clarification': 3673, 'harsh': 3674, 'theatre': 3675, 'nsa': 3676, 'telecast': 3677, 'traveler': 3678, 'grass': 3679, 'years': 3680, 'advertise': 3681, 'metric': 3682, 'pare': 3683, 'surprising': 3684, 'engg': 3685, 'mary': 3686, 'kom': 3687, 'northern': 3688, 'kamal': 3689, 'nath': 3690, 'distrust': 3691, 'ea': 3692, 'testing': 3693, 'asshole': 3694, 'articles': 3695, 'recognition': 3696, 'nahi': 3697, 'patriotic': 3698, 'embassy': 3699, 'prescription': 3700, 'somewhat': 3701, 'dress': 3702, 'atal': 3703, 'historic': 3704, 'flood': 3705, 'ab': 3706, 'surge': 3707, 'jamat': 3708, 'strip': 3709, 'hair': 3710, 'experienced': 3711, 'qz': 3712, 'behave': 3713, 'pvt': 3714, 'days': 3715, 'effectively': 3716, 'enforcement': 3717, 'clarity': 3718, 'detain': 3719, 'occasion': 3720, 'genuine': 3721, 'acceptable': 3722, 'mere': 3723, 'excise': 3724, 'infusion': 3725, 'unconstitutional': 3726, 'consideration': 3727, 'classification': 3728, 'marginalise': 3729, 'registry': 3730, 'occupation': 3731, 'ancestry': 3732, 'concrete': 3733, 'nutrition': 3734, 'detection': 3735, 'setting': 3736, 'grave': 3737, 'pitch': 3738, 'electrical': 3739, 'gurugram': 3740, 'ally': 3741, 'insecurity': 3742, 'aggressive': 3743, 'tension': 3744, 'belt': 3745, 'ethic': 3746, 'duration': 3747, 'innovative': 3748, 'snack': 3749, 'setup': 3750, 'lending': 3751, 'chand': 3752, 'fmr': 3753, 'nokia': 3754, 'breakup': 3755, 'merit': 3756, 'blanket': 3757, 'exploitation': 3758, 'advertising': 3759, 'indie': 3760, 'madras': 3761, 'revise': 3762, 'kapil': 3763, 'contraction': 3764, 'cervix': 3765, 'cigarette': 3766, 'tim': 3767, 'seller': 3768, 'subtle': 3769, 'haveli': 3770, 'buster': 3771, 'volume': 3772, 'brick': 3773, 'guru': 3774, 'anand': 3775, 'undergraduate': 3776, 'rajinikanth': 3777, 'fox': 3778, 'admire': 3779, 'niche': 3780, 'setu': 3781, 'wherever': 3782, 'validate': 3783, 'lonely': 3784, 'addiction': 3785, 'mata': 3786, 'fadnavis': 3787, 'newsite': 3788, 'nid': 3789, 'devendra': 3790, 'dilemma': 3791, 'ice': 3792, 'shirt': 3793, 'hateful': 3794, 'obsession': 3795, 'randia': 3796, 'diamond': 3797, 'psa': 3798, 'mile': 3799, 'historically': 3800, 'aspirant': 3801, 'boat': 3802, 'voluntary': 3803, 'sumit': 3804, 'vaitheeswaran': 3805, 'ivmpodcasts': 3806, 'premchand': 3807, 'oven': 3808, 'shweta': 3809, 'bandh': 3810, 'earnings': 3811, 'spmcil': 3812, 'mpc': 3813, 'innocent': 3814, 'rightly': 3815, 'stagnant': 3816, 'modest': 3817, 'culprit': 3818, 'cumulative': 3819, 'engender': 3820, 'roman': 3821, 'monument': 3822, 'portuguese': 3823, 'extensive': 3824, 'elastic': 3825, 'uttarakhand': 3826, 'himalaya': 3827, 'fanatic': 3828, 'attach': 3829, 'jam': 3830, 'coalition': 3831, 'coding': 3832, 'inclined': 3833, 'crack': 3834, 'doctors': 3835, 'alt': 3836, 'rajnath': 3837, 'tenure': 3838, 'grain': 3839, 'telegraph': 3840, 'instrument': 3841, 'explainer': 3842, 'rough': 3843, 'independently': 3844, 'chunk': 3845, 'psbs': 3846, 'tweak': 3847, 'automatically': 3848, 'blueprint': 3849, 'insert': 3850, 'float': 3851, 'community': 3852, 'escort': 3853, 'kannada': 3854, 'evolve': 3855, 'closely': 3856, 'confederation': 3857, 'concerned': 3858, 'unknown': 3859, 'actively': 3860, 'levy': 3861, 'reiterate': 3862, 'abrogation': 3863, 'discriminatory': 3864, 'ambit': 3865, 'broad': 3866, 'shopkeeper': 3867, 'undertake': 3868, 'atlantic': 3869, 'query': 3870, 'negotiate': 3871, 'pulsory': 3872, 'execute': 3873, 'semitic': 3874, 'writing': 3875, 'successfully': 3876, 'pete': 3877, 'souls': 3878, 'yr': 3879, 'fc': 3880, 'enact': 3881, 'dangerous': 3882, 'safely': 3883, 'afternoon': 3884, 'unfortunate': 3885, 'horror': 3886, 'luggage': 3887, 'loose': 3888, 'instantly': 3889, 'uncertain': 3890, 'elite': 3891, 'misguide': 3892, 'severely': 3893, 'drown': 3894, 'happened': 3895, 'redditor': 3896, 'gb': 3897, 'outlet': 3898, 'kept': 3899, 'anytime': 3900, 'bright': 3901, 'overnight': 3902, 'tourism': 3903, 'consist': 3904, 'tribunal': 3905, 'rat': 3906, 'winner': 3907, 'creative': 3908, 'hotspot': 3909, 'aunty': 3910, 'silly': 3911, 'ignorant': 3912, 'magic': 3913, 'nazi': 3914, 'countless': 3915, 'documentary': 3916, 'intolerance': 3917, 'decides': 3918, 'congregation': 3919, 'monologue': 3920, 'literacy': 3921, 'adhd': 3922, 'rejection': 3923, 'faw': 3924, 'virtually': 3925, 'frequent': 3926, 'affiliate': 3927, 'identification': 3928, 'michael': 3929, 'trigger': 3930, 'continuously': 3931, 'tolerate': 3932, 'equip': 3933, 'aamir': 3934, 'started': 3935, 'prospective': 3936, 'automation': 3937, 'kargil': 3938, 'books': 3939, 'abdul': 3940, 'roadmap': 3941, 'recruitment': 3942, 'rocket': 3943, 'worldwide': 3944, 'isolate': 3945, 'taxpayer': 3946, 'incredible': 3947, 'subway': 3948, 'implemented': 3949, 'flat': 3950, 'yahoo': 3951, 'liquid': 3952, 'sanity': 3953, 'buck': 3954, 'mamata': 3955, 'islamia': 3956, 'sacred': 3957, 'confusion': 3958, 'radical': 3959, 'mncs': 3960, 'ignorance': 3961, 'relieve': 3962, 'undergrad': 3963, 'wants': 3964, 'migration': 3965, 'removal': 3966, 'kochi': 3967, 'haren': 3968, 'pandya': 3969, 'ias': 3970, 'ip': 3971, 'rafale': 3972, 'bcci': 3973, 'cbi': 3974, 'pragya': 3975, 'brutality': 3976, 'censorship': 3977, 'boom': 3978, 'bigoted': 3979, 'joy': 3980, 'launches': 3981, 'fy': 3982, 'virtue': 3983, 'symbol': 3984, 'luck': 3985, 'goibibo': 3986, 'beaten': 3987, 'summary': 3988, 'sin': 3989, 'scratch': 3990, 'elaborate': 3991, 'ideally': 3992, 'automate': 3993, 'loop': 3994, 'ladder': 3995, 'algorithm': 3996, 'occupy': 3997, 'ego': 3998, 'paperwork': 3999, 'ayurveda': 4000, 'interact': 4001, 'finger': 4002, 'stall': 4003, 'liberty': 4004, 'albeit': 4005, 'empty': 4006, 'iv': 4007, 'secondly': 4008, 'availability': 4009, 'quantum': 4010, 'maintenance': 4011, 'wire': 4012, 'fraction': 4013, 'selfish': 4014, 'heres': 4015, 'apologise': 4016, 'unicorpse': 4017, 'crapicorn': 4018, 'cb': 4019, 'hyd': 4020, 'tourist': 4021, 'recur': 4022, 'subreddits': 4023, 'dna': 4024, 'smartphones': 4025, 'po': 4026, 'fingerprint': 4027, 'iot': 4028, 'designate': 4029, 'viewer': 4030, 'elbow': 4031, 'documentation': 4032, 'mdr': 4033, 'ly': 4034, 'jd': 4035, 'collate': 4036, 'tally': 4037, 'khattar': 4038, 'wc': 4039, 'ward': 4040, 'constituency': 4041, 'fixation': 4042, 'coo': 4043, 'ep': 4044, 'holi': 4045, 'algorithms': 4046, 'cutoff': 4047, 'padma': 4048, 'idiotic': 4049, 'library': 4050, 'toxic': 4051, 'rapid': 4052, 'blah': 4053, 'partnership': 4054, 'toh': 4055, 'disappointed': 4056, 'eco': 4057, 'qualify': 4058, 'approves': 4059, 'constable': 4060, 'loud': 4061, 'fade': 4062, 'piss': 4063, 'bald': 4064, 'incredibly': 4065, 'luxury': 4066, 'jobless': 4067, 'certification': 4068, 'needy': 4069, 'scared': 4070, 'bone': 4071, 'netflix': 4072, 'goyal': 4073, 'worked': 4074, 'leap': 4075, 'strive': 4076, 'grammar': 4077, 'paste': 4078, 'npas': 4079, 'jargon': 4080, 'appeasement': 4081, 'legally': 4082, 'legislation': 4083, 'bureau': 4084, 'updated': 4085, 'newborn': 4086, 'chill': 4087, 'salon': 4088, 'collectively': 4089, 'textbook': 4090, 'upbringing': 4091, 'exhibit': 4092, 'therapy': 4093, 'iphone': 4094, 'indirectly': 4095, 'journal': 4096, 'shiksha': 4097, 'kitchen': 4098, 'balcony': 4099, 'excerpt': 4100, 'nov': 4101, 'legacy': 4102, 'babri': 4103, 'motivate': 4104, 'jrd': 4105, 'goverment': 4106, 'petroleum': 4107, 'worse': 4108, 'collector': 4109, 'interpretation': 4110, 'deport': 4111, 'sri': 4112, 'plight': 4113, 'suppress': 4114, 'db': 4115, 'unseen': 4116, 'episodes': 4117, 'alex': 4118, 'mild': 4119, 'electric': 4120, 'itc': 4121, 'fulfill': 4122, 'accurate': 4123, 'editorial': 4124, 'briar': 4125, 'newyorker': 4126, 'mukherjee': 4127, 'shrink': 4128, 'nagaland': 4129, 'crew': 4130, 'utensils': 4131, 'cleaner': 4132, 'wipe': 4133, 'fluid': 4134, 'glove': 4135, 'cpu': 4136, 'gpu': 4137, 'curefit': 4138, 'ankit': 4139, 'imd': 4140, 'pg': 4141, 'lastly': 4142, 'mae': 4143, 'droplet': 4144, 'mg': 4145, 'beverage': 4146, 'simultaneously': 4147, 'thrash': 4148, 'noise': 4149, 'dy': 4150, 'bottle': 4151, 'games': 4152, 'desperation': 4153, 'purity': 4154, 'entitle': 4155, 'brit': 4156, 'nevertheless': 4157, 'hacker': 4158, 'pogrom': 4159, 'sake': 4160, 'presidential': 4161, 'lovely': 4162, 'assault': 4163, 'sequence': 4164, 'mindset': 4165, 'borderline': 4166, 'transparent': 4167, 'fortis': 4168, 'renewable': 4169, 'erode': 4170, 'tp': 4171, 'pyramid': 4172, 'airliner': 4173, 'breed': 4174, 'amul': 4175, 'humanist': 4176, 'backlash': 4177, 'ra': 4178, 'roughly': 4179, 'shaft': 4180, 'navy': 4181, 'newslaundry': 4182, 'wala': 4183, 'ngos': 4184, 'uplift': 4185, 'anal': 4186, 'kota': 4187, 'nilekani': 4188, 'newindianexpress': 4189, 'poop': 4190, 'dhppi': 4191, 'karamveer': 4192, 'capture': 4193, 'exhalation': 4194, 'valve': 4195, 'mesh': 4196, 'savarkarites': 4197, 'span': 4198, 'criterion': 4199, 'circlejerking': 4200, 'liberalization': 4201, 'ninety': 4202, 'dramatically': 4203, 'sweep': 4204, 'integrated': 4205, 'damaging': 4206, 'inferiority': 4207, 'nehruvian': 4208, 'precede': 4209, 'voyage': 4210, 'mughal': 4211, 'arable': 4212, 'gama': 4213, 'artisan': 4214, 'snapchat': 4215, 'atmosphere': 4216, 'lost': 4217, 'stack': 4218, 'steam': 4219, 'hc': 4220, 'sites': 4221, 'aaa': 4222, 'downgrade': 4223, 'federal': 4224, 'judgment': 4225, 'bell': 4226, 'failed': 4227, 'publisher': 4228, 'moodys': 4229, 'reflection': 4230, 'obligation': 4231, 'typically': 4232, 'manipulation': 4233, 'gauge': 4234, 'referral': 4235, 'fate': 4236, 'trivandrum': 4237, 'survival': 4238, 'arrangement': 4239, 'profession': 4240, 'pen': 4241, 'iran': 4242, 'nonetheless': 4243, 'resist': 4244, 'monarchy': 4245, 'kingship': 4246, 'troop': 4247, 'nurse': 4248, 'surely': 4249, 'gut': 4250, 'retain': 4251, 'extremism': 4252, 'digitization': 4253, 'viable': 4254, 'efficient': 4255, 'ayodhya': 4256, 'impart': 4257, 'trained': 4258, 'homeless': 4259, 'ratify': 4260, 'mittees': 4261, 'withdraw': 4262, 'birthday': 4263, 'peacefully': 4264, 'deteriorate': 4265, 'drastic': 4266, 'lacs': 4267, 'specialise': 4268, 'ultimate': 4269, 'acceptance': 4270, 'di': 4271, 'christianity': 4272, 'convert': 4273, 'partly': 4274, 'creator': 4275, 'obscure': 4276, 'vital': 4277, 'starve': 4278, 'sab': 4279, 'sweat': 4280, 'ledger': 4281, 'thrown': 4282, 'arrested': 4283, 'exception': 4284, 'members': 4285, 'integrity': 4286, 'analogy': 4287, 'got': 4288, 'boring': 4289, 'decrease': 4290, 'tendency': 4291, 'allocate': 4292, 'tune': 4293, 'regulator': 4294, 'consensus': 4295, 'candle': 4296, 'cashless': 4297, 'prakash': 4298, 'fw': 4299, 'monly': 4300, 'deploy': 4301, 'scenic': 4302, 'relax': 4303, 'hm': 4304, 'speaking': 4305, 'subsequently': 4306, 'creates': 4307, 'expertise': 4308, 'applicable': 4309, 'neet': 4310, 'perceive': 4311, 'genre': 4312, 'cooking': 4313, 'promptly': 4314, 'keyboard': 4315, 'karma': 4316, 'acquaintance': 4317, 'bud': 4318, 'trap': 4319, 'shake': 4320, 'la': 4321, 'dominant': 4322, 'gujarati': 4323, 'affection': 4324, 'injured': 4325, 'regarding': 4326, 'ladakh': 4327, 'relatives': 4328, 'spare': 4329, 'workers': 4330, 'lathi': 4331, 'absence': 4332, 'baghel': 4333, 'acharya': 4334, 'sslc': 4335, 'dept': 4336, 'hassle': 4337, 'internationally': 4338, 'informal': 4339, 'clarify': 4340, 'explanatory': 4341, 'evaluate': 4342, 'pointer': 4343, 'isl': 4344, 'feasible': 4345, 'bjps': 4346, 'iisc': 4347, 'listing': 4348, 'onwards': 4349, 'madness': 4350, 'migrants': 4351, 'disable': 4352, 'academia': 4353, 'optimistic': 4354, 'widely': 4355, 'sansad': 4356, 'eve': 4357, 'reverse': 4358, 'anil': 4359, 'wordpress': 4360, 'cid': 4361, 'referendum': 4362, 'jul': 4363, 'flip': 4364, 'discourage': 4365, 'gail': 4366, 'vedanta': 4367, 'vedl': 4368, 'avedl': 4369, 'motion': 4370, 'revolve': 4371, 'cancelled': 4372, 'athletics': 4373, 'involved': 4374, 'gun': 4375, 'bhai': 4376, 'divisive': 4377, 'redressal': 4378, 'prejudice': 4379, 'originally': 4380, 'wanted': 4381, 'chemistry': 4382, 'yadav': 4383, 'humor': 4384, 'wtf': 4385, 'spine': 4386, 'shell': 4387, 'helpless': 4388, 'junior': 4389, 'vantage': 4390, 'joshi': 4391, 'parallel': 4392, 'adityanath': 4393, 'mm': 4394, 'advertisement': 4395, 'elsewhere': 4396, 'advocate': 4397, 'guilty': 4398, 'digit': 4399, 'delhipolice': 4400, 'p': 4401, 'pending': 4402, 'practically': 4403, 'authentication': 4404, 'faq': 4405, 'brown': 4406, 'inefficiency': 4407, 'veteran': 4408, 'nervous': 4409, 'considerable': 4410, 'procurement': 4411, 'br': 4412, 'universal': 4413, 'engine': 4414, 'puri': 4415, 'parable': 4416, 'typhoon': 4417, 'ew': 4418, 'waiver': 4419, 'harmony': 4420, 'demonstrate': 4421, 'pseudoscience': 4422, 'supplement': 4423, 'plication': 4424, 'speculation': 4425, 'irrelevant': 4426, 'em': 4427, 'emi': 4428, 'interactive': 4429, 'fin': 4430, 'bom': 4431, 'liquidity': 4432, 'metal': 4433, 'valuable': 4434, 'coaching': 4435, 'ugly': 4436, 'unverified': 4437, 'mighty': 4438, 'atm': 4439, 'spoiler': 4440, 'ke': 4441, 'maruti': 4442, 'sitharaman': 4443, 'yell': 4444, 'li': 4445, 'utf': 4446, 'qid': 4447, 'linkid': 4448, 'ce': 4449, 'quint': 4450, 'injury': 4451, 'scholarship': 4452, 'fabric': 4453, 'mw': 4454, 'san': 4455, 'teaching': 4456, 'arnab': 4457, 'cope': 4458, 'thoughts': 4459, 'ch': 4460, 'freely': 4461, 'paranoid': 4462, 'latest': 4463, 'incubation': 4464, 'rude': 4465, 'disorder': 4466, 'privileged': 4467, 'desk': 4468, 'fo': 4469, 'salaried': 4470, 'jabalpur': 4471, 'flexible': 4472, 'stretch': 4473, 'exceptional': 4474, 'nerd': 4475, 'obtain': 4476, 'verified': 4477, 'inspired': 4478, 'prof': 4479, 'sudarshan': 4480, 'brought': 4481, 'surgery': 4482, 'slide': 4483, 'wealthy': 4484, 'mma': 4485, 'preferred': 4486, 'repeatedly': 4487, 'savetheinternet': 4488, 'dot': 4489, 'piyush': 4490, 'manoj': 4491, 'prabhakaran': 4492, 'intense': 4493, 'cybersecurity': 4494, 'mein': 4495, 'hain': 4496, 'cf': 4497, 'expression': 4498, 'collaboration': 4499, 'membership': 4500, 'urgency': 4501, 'sovereignty': 4502, 'avail': 4503, 'weed': 4504, 'rote': 4505, 'headache': 4506, 'plicate': 4507, 'defaulter': 4508, 'bailout': 4509, 'disburse': 4510, 'au': 4511, 'undocumented': 4512, 'jew': 4513, 'explicitly': 4514, 'alive': 4515, 'thrive': 4516, 'biology': 4517, 'analyse': 4518, 'jersey': 4519, 'thinker': 4520, 'corpus': 4521, 'storage': 4522, 'questions': 4523, 'masks': 4524, 'shiver': 4525, 'plug': 4526, 'altogether': 4527, 'narcissistic': 4528, 'passive': 4529, 'spin': 4530, 'preserve': 4531, 'aadmi': 4532, 'na': 4533, 'pretext': 4534, 'ngt': 4535, 'tiger': 4536, 'sept': 4537, 'beijing': 4538, 'existent': 4539, 'assurance': 4540, 'fails': 4541, 'tone': 4542, 'vt': 4543, 'drastically': 4544, 'abysmal': 4545, 'univs': 4546, 'evolution': 4547, 'furniture': 4548, 'sp': 4549, 'studio': 4550, 'grofers': 4551, 'petitor': 4552, 'beauty': 4553, 'clinical': 4554, 'pandit': 4555, 'masjid': 4556, 'stories': 4557, 'didnt': 4558, 'attribute': 4559, 'bath': 4560, 'basketball': 4561, 'chamber': 4562, 'nazis': 4563, 'distress': 4564, 'pact': 4565, 'differently': 4566, 'cryptocurrencies': 4567, 'mega': 4568, 'mt': 4569, 'intersection': 4570, 'theindicast': 4571, 'examine': 4572, 'epic': 4573, 'disciplinary': 4574, 'anxious': 4575, 'flu': 4576, 'obgyn': 4577, 'realistic': 4578, 'pause': 4579, 'pranab': 4580, 'ncov': 4581, 'coronaviruses': 4582, 'gid': 4583, 'seclude': 4584, 'towel': 4585, 'bodily': 4586, 'chronic': 4587, 'instruction': 4588, 'faster': 4589, 'london': 4590, 'cardekho': 4591, 'dweller': 4592, 'partial': 4593, 'subscription': 4594, 'wellness': 4595, 'coder': 4596, 'emigrate': 4597, 'congest': 4598, 'jungle': 4599, 'leaf': 4600, 'students': 4601, 'nay': 4602, 'pliance': 4603, 'decathlon': 4604, 'resistant': 4605, 'booster': 4606, 'wastage': 4607, 'linezolid': 4608, 'childish': 4609, 'insignificant': 4610, 'scourge': 4611, 'brazil': 4612, 'sibling': 4613, 'governments': 4614, 'obcs': 4615, 'graph': 4616, 'swim': 4617, 'brag': 4618, 'jumla': 4619, 'gravitational': 4620, 'relid': 4621, 'beta': 4622, 'reduction': 4623, 'rani': 4624, 'itr': 4625, 'stamp': 4626, 'chaddichandan': 4627, 'ashis': 4628, 'smell': 4629, 'quits': 4630, 'drought': 4631, 'src': 4632, 'terror': 4633, 'ril': 4634, 'baldness': 4635, 'distinction': 4636, 'analog': 4637, 'constraint': 4638, 'aishwarya': 4639, 'chowk': 4640, 'bye': 4641, 'anurag': 4642, 'hierarchy': 4643, 'netaji': 4644, 'acquires': 4645, 'transact': 4646, 'loyalty': 4647, 'buzzfeed': 4648, 'paisa': 4649, 'bachchan': 4650, 'verge': 4651, 'shortlist': 4652, 'payer': 4653, 'diplomat': 4654, 'singapore': 4655, 'unemployed': 4656, 'newsclick': 4657, 'have': 4658, 'pasture': 4659, 'garden': 4660, 'betray': 4661, 'airstrikes': 4662, 'rover': 4663, 'hoard': 4664, 'patience': 4665, 'circulate': 4666, 'bay': 4667, 'superior': 4668, 'island': 4669, 'demo': 4670, 'dhan': 4671, 'nexa': 4672, 'mechanic': 4673, 'depopulation': 4674, 'hail': 4675, 'postgraduate': 4676, 'stepwell': 4677, 'narration': 4678, 'dhingra': 4679, 'architect': 4680, 'sunlight': 4681, 'maidan': 4682, 'centrist': 4683, 'axis': 4684, 'dashboard': 4685, 'egg': 4686, 'didi': 4687, 'analyze': 4688, 'rajini': 4689, 'kaala': 4690, 'sadhvi': 4691, 'atimes': 4692, 'vet': 4693, 'toothpaste': 4694, 'goodbye': 4695, 'caravan': 4696, 'haridwar': 4697, 'dixit': 4698, 'honeywell': 4699, 'dunkirk': 4700, 'destroyer': 4701, 'gibson': 4702, 'idsa': 4703, 'longform': 4704, 'beti': 4705, 'rajkot': 4706, 'bluetooth': 4707, 'bridgefy': 4708, 'spider': 4709, 'hydropower': 4710, 'mitra': 4711, 'awwtc': 4712, 'mike': 4713, 'deaths': 4714, 'visual': 4715, 'snippet': 4716, 'el': 4717, 'kgs': 4718, 'stagnate': 4719, 'illustrate': 4720, 'stagnation': 4721, 'accumulate': 4722, 'luxuries': 4723, 'consequently': 4724, 'merchant': 4725, 'impoverished': 4726, 'economical': 4727, 'seldom': 4728, 'tbh': 4729, 'parents': 4730, 'debunk': 4731, 'bb': 4732, 'verbal': 4733, 'observatory': 4734, 'stimulus': 4735, 'ail': 4736, 'aa': 4737, 'unprecedented': 4738, 'mortgage': 4739, 'holder': 4740, 'assess': 4741, 'freeze': 4742, 'presumably': 4743, 'examples': 4744, 'transcript': 4745, 'outfit': 4746, 'upvotes': 4747, 'visibility': 4748, 'travancore': 4749, 'varma': 4750, 'smooth': 4751, 'malayalam': 4752, 'risky': 4753, 'neo': 4754, 'subcontinent': 4755, 'centralise': 4756, 'bharatha': 4757, 'bine': 4758, 'elephant': 4759, 'requisite': 4760, 'saviour': 4761, 'sanitation': 4762, 'ruling': 4763, 'lick': 4764, 'accordance': 4765, 'prompt': 4766, 'length': 4767, 'utilisation': 4768, 'himalayas': 4769, 'prohibit': 4770, 'vacancy': 4771, 'stipend': 4772, 'unorganised': 4773, 'ilo': 4774, 'convention': 4775, 'organise': 4776, 'liability': 4777, 'modities': 4778, 'invoke': 4779, 'rollout': 4780, 'thereafter': 4781, 'singer': 4782, 'grandfather': 4783, 'aunt': 4784, 'du': 4785, 'fourteen': 4786, 'namely': 4787, 'understandable': 4788, 'scrutiny': 4789, 'satisfied': 4790, 'fv': 4791, 'mongolia': 4792, 'ford': 4793, 'unbiased': 4794, 'sitting': 4795, 'nsfw': 4796, 'respectful': 4797, 'complete': 4798, 'operator': 4799, 'fallinprices': 4800, 'baggage': 4801, 'leg': 4802, 'shipping': 4803, 'drill': 4804, 'roads': 4805, 'bride': 4806, 'vi': 4807, 'occasionally': 4808, 'vehemently': 4809, 'outright': 4810, 'substantiate': 4811, 'draconian': 4812, 'residential': 4813, 'spiral': 4814, 'downhill': 4815, 'nowadays': 4816, 'tower': 4817, 'pc': 4818, 'ponent': 4819, 'motherboard': 4820, 'desktop': 4821, 'topscroll': 4822, 'boon': 4823, 'nobel': 4824, 'necessarily': 4825, 'dilution': 4826, 'villager': 4827, 'informed': 4828, 'hk': 4829, 'behalf': 4830, 'lens': 4831, 'eventual': 4832, 'domains': 4833, 'emphasise': 4834, 'intermediary': 4835, 'voluntarily': 4836, 'badass': 4837, 'hectic': 4838, 'traction': 4839, 'yo': 4840, 'discourse': 4841, 'anchor': 4842, 'assignment': 4843, 'harvard': 4844, 'riots': 4845, 'david': 4846, 'warrior': 4847, 'atrocity': 4848, 'pillar': 4849, 'moron': 4850, 'intellect': 4851, 'bless': 4852, 'outcast': 4853, 'loathe': 4854, 'pit': 4855, 'drdo': 4856, 'browser': 4857, 'slot': 4858, 'ct': 4859, 'aug': 4860, 'cereal': 4861, 'conventional': 4862, 'tropical': 4863, 'specie': 4864, 'detect': 4865, 'colonise': 4866, 'narrates': 4867, 'invade': 4868, 'eastern': 4869, 'meat': 4870, 'cafe': 4871, 'civic': 4872, 'va': 4873, 'nope': 4874, 'activate': 4875, 'ironic': 4876, 'rdd': 4877, 'employable': 4878, 'mentally': 4879, 'ih': 4880, 'poster': 4881, 'tinker': 4882, 'debut': 4883, 'scapegoat': 4884, 'patnaik': 4885, 'debacle': 4886, 'idiot': 4887, 'monitoring': 4888, 'exempt': 4889, 'advancement': 4890, 'affiliation': 4891, 'familiar': 4892, 'gauri': 4893, 'asp': 4894, 'wi': 4895, 'denmark': 4896, 'lender': 4897, 'takeover': 4898, 'edelweiss': 4899, 'jp': 4900, 'consolidate': 4901, 'verma': 4902, 'guwahati': 4903, 'pnb': 4904, 'apnb': 4905, 'curiosity': 4906, 'espn': 4907, 'zombie': 4908, 'height': 4909, 'stir': 4910, 'pot': 4911, 'terminate': 4912, 'hsc': 4913, 'museum': 4914, 'chandrasekhar': 4915, 'asked': 4916, 'escalate': 4917, 'terrorists': 4918, 'pcm': 4919, 'reddits': 4920, 'buddhism': 4921, 'emotion': 4922, 'diagnosis': 4923, 'vendetta': 4924, 'haunt': 4925, 'sting': 4926, 'kashmiri': 4927, 'ravish': 4928, 'square': 4929, 'blunder': 4930, 'assassination': 4931, 'hostility': 4932, 'formation': 4933, 'sj': 4934, 'ww': 4935, 'accessible': 4936, 'mortality': 4937, 'successor': 4938, 'whereas': 4939, 'akbar': 4940, 'ramani': 4941, 'narrate': 4942, 'bicycle': 4943, 'bull': 4944, 'bleak': 4945, 'castes': 4946, 'notify': 4947, 'women': 4948, 'sandesh': 4949, 'shaped': 4950, 'attendee': 4951, 'makemytrip': 4952, 'layer': 4953, 'thick': 4954, 'heck': 4955, 'pak': 4956, 'fraternity': 4957, 'grind': 4958, 'andolan': 4959, 'unlawful': 4960, 'buzzword': 4961, 'relevance': 4962, 'interviewbit': 4963, 'arrogant': 4964, 'cheat': 4965, 'peon': 4966, 'wrap': 4967, 'gg': 4968, 'chase': 4969, 'unlimited': 4970, 'installation': 4971, 'honesty': 4972, 'tmc': 4973, 'folks': 4974, 'pace': 4975, 'operational': 4976, 'precision': 4977, 'eurofighter': 4978, 'mk': 4979, 'blown': 4980, 'hue': 4981, 'crpf': 4982, 'fantastic': 4983, 'brave': 4984, 'transgenders': 4985, 'akshay': 4986, 'nonsense': 4987, 'breakaway': 4988, 'bigbasket': 4989, 'acceleration': 4990, 'saas': 4991, 'tinyletter': 4992, 'instamojo': 4993, 'sm': 4994, 'fascinate': 4995, 'mutual': 4996, 'varies': 4997, 'ppe': 4998, 'grateful': 4999, 'dinner': 5000, 'jagan': 5001, 'pu': 5002, 'mazumdar': 5003, 'shaw': 5004, 'irritate': 5005, 'toi': 5006, 'ops': 5007, 'carefully': 5008, 'icmr': 5009, 'sanitizer': 5010, 'bhupesh': 5011, 'swami': 5012, 'endorsement': 5013, 'mangalore': 5014, 'invention': 5015, 'booking': 5016, 'sep': 5017, 'ventilator': 5018, 'pirate': 5019, 's': 5020, 'keywords': 5021, 'linkcode': 5022, 'landing': 5023, 'firmly': 5024, 'rj': 5025, 'beneficial': 5026, 'macro': 5027, 'danish': 5028, 'deccanchronicle': 5029, 'kiren': 5030, 'loc': 5031, 'memoir': 5032, 'gj': 5033, 'denial': 5034, 'flock': 5035, 'spouse': 5036, 'convenient': 5037, 'overweight': 5038, 'fr': 5039, 'rap': 5040, 'casteist': 5041, 'viz': 5042, 'solely': 5043, 'ko': 5044, 'aur': 5045, 'rickshaw': 5046, 'le': 5047, 'tia': 5048, 'happily': 5049, 'inability': 5050, 'ink': 5051, 'takes': 5052, 'showcase': 5053, 'bihari': 5054, 'farewell': 5055, 'dx': 5056, 'grmd': 5057, 'surat': 5058, 'racism': 5059, 'qb': 5060, 'dies': 5061, 'youngster': 5062, 'citizens': 5063, 'microsoft': 5064, 'cottage': 5065, 'dairy': 5066, 'boxer': 5067, 'unrest': 5068, 'ignored': 5069, 'slap': 5070, 'throttle': 5071, 'voip': 5072, 'telephony': 5073, 'dictate': 5074, 'discount': 5075, 'laugh': 5076, 'bo': 5077, 'lm': 5078, 'anonymous': 5079, 'digest': 5080, 'manipulate': 5081, 'gsoc': 5082, 'idle': 5083, 'forge': 5084, 'municating': 5085, 'proficient': 5086, 'grad': 5087, 'eligible': 5088, 'bhim': 5089, 'corp': 5090, 'payout': 5091, 'forced': 5092, 'banker': 5093, 'corporates': 5094, 'quantitative': 5095, 'remedy': 5096, 'rgi': 5097, 'protesting': 5098, 'psyche': 5099, 'ripe': 5100, 'chest': 5101, 'salman': 5102, 'cu': 5103, 'prestigious': 5104, 'respectively': 5105, 'academically': 5106, 'walking': 5107, 'ironically': 5108, 'jyotiraditya': 5109, 'stint': 5110, 'sham': 5111, 'clout': 5112, 'suspend': 5113, 'referee': 5114, 'drunk': 5115, 'dance': 5116, 'normally': 5117, 'confidential': 5118, 'ef': 5119, 'closure': 5120, 'nightmare': 5121, 'mango': 5122, 'sanctuary': 5123, 'puppet': 5124, 'mafia': 5125, 'quietly': 5126, 'candy': 5127, 'made': 5128, 'inspect': 5129, 'dire': 5130, 'institutes': 5131, 'infra': 5132, 'privatisation': 5133, 'eminence': 5134, 'ppp': 5135, 'pleting': 5136, 'implies': 5137, 'vocational': 5138, 'junk': 5139, 'bedroom': 5140, 'utopia': 5141, 'wholesale': 5142, 'softbank': 5143, 'secures': 5144, 'calcutta': 5145, 'fable': 5146, 'prison': 5147, 'diabetes': 5148, 'ring': 5149, 'deepen': 5150, 'shy': 5151, 'ceremony': 5152, 'legend': 5153, 'sample': 5154, 'bury': 5155, 'blackout': 5156, 'persecute': 5157, 'oath': 5158, 'bipin': 5159, 'matrix': 5160, 'stable': 5161, 'multilingual': 5162, 'ek': 5163, 'switzerland': 5164, 'illiterate': 5165, 'annoy': 5166, 'mann': 5167, 'baat': 5168, 'prise': 5169, 'osmania': 5170, 'hydroxychloroquine': 5171, 'tobacco': 5172, 'disinvestment': 5173, 'mop': 5174, 'lawsuit': 5175, 'livelaw': 5176, 'ranjan': 5177, 'cares': 5178, 'halt': 5179, 'bhagwat': 5180, 'reveals': 5181, 'exposed': 5182, 'miracle': 5183, 'merchandise': 5184, 'astro': 5185, 'torrent': 5186, 'evaluation': 5187, 'anupam': 5188, 'sa': 5189, 'ass': 5190, 'being': 5191, 'lobby': 5192, 'underground': 5193, 'swipe': 5194, 'exhaust': 5195, 'livable': 5196, 'mri': 5197, 'pregnant': 5198, 'inspection': 5199, 'tape': 5200, 'yeh': 5201, 'rajiv': 5202, 'bt': 5203, 'ig': 5204, 'stranded': 5205, 'drag': 5206, 'approximate': 5207, 'aarogya': 5208, 'rational': 5209, 'elderly': 5210, 'burst': 5211, 'dust': 5212, 'mankind': 5213, 'repository': 5214, 'loyal': 5215, 'federation': 5216, 'confession': 5217, 'lodge': 5218, 'ashamed': 5219, 'foray': 5220, 'suggests': 5221, 'suspicious': 5222, 'spreading': 5223, 'seeking': 5224, 'theatlantic': 5225, 'prometric': 5226, 'cvc': 5227, 'asha': 5228, 'mishra': 5229, 'disappoint': 5230, 'powder': 5231, 'skim': 5232, 'decor': 5233, 'theft': 5234, 'database': 5235, 'manish': 5236, 'spy': 5237, 'morality': 5238, 'worldbank': 5239, 'dependence': 5240, 'glad': 5241, 'trait': 5242, 'pandora': 5243, 'nikesh': 5244, 'rainfall': 5245, 'distribution': 5246, 'reddy': 5247, 'execution': 5248, 'plea': 5249, 'jack': 5250, 'dorsey': 5251, 'eradicate': 5252, 'aftermath': 5253, 'marvel': 5254, 'bloombergquint': 5255, 'announces': 5256, 'si': 5257, 'bdutt': 5258, 'j': 5259, 'ur': 5260, 'pointless': 5261, 'fl': 5262, 'os': 5263, 'node': 5264, 'module': 5265, 'rod': 5266, 'destroyed': 5267, 'dictatorship': 5268, 'calculus': 5269, 'accel': 5270, 'breath': 5271, 'climb': 5272, 'jawaharlal': 5273, 'producer': 5274, 'businessinsider': 5275, 'scandal': 5276, 'offshore': 5277, 'wk': 5278, 'pour': 5279, 'glassdoor': 5280, 'mnrega': 5281, 'changer': 5282, 'allahabad': 5283, 'linguistic': 5284, 'shortcuts': 5285, 'mhrd': 5286, 'sts': 5287, 'arundhati': 5288, 'expire': 5289, 'higher': 5290, 'snatch': 5291, 'dailyo': 5292, 'sporting': 5293, 'casteism': 5294, 'driven': 5295, 'reasonably': 5296, 'intake': 5297, 'phenomenon': 5298, 'udta': 5299, 'unskilled': 5300, 'contrast': 5301, 'universities': 5302, 'lokpal': 5303, 'therapist': 5304, 'ayushmann': 5305, 'quo': 5306, 'cosara': 5307, 'repair': 5308, 'kms': 5309, 'steer': 5310, 'hood': 5311, 'grease': 5312, 'pmnrf': 5313, 'robust': 5314, 'locally': 5315, 'mate': 5316, 'thane': 5317, 'creepy': 5318, 'goswami': 5319, 'raja': 5320, 'fascinating': 5321, 'hunter': 5322, 'talked': 5323, 'ashutosh': 5324, 'huffingtonpost': 5325, 'twsrc': 5326, 'etfw': 5327, 'ctwcamp': 5328, 'etweetembed': 5329, 'ctwterm': 5330, 'fpolitics': 5331, 'funderstanding': 5332, 'enlighten': 5333, 'easier': 5334, 'lengthy': 5335, 'accelerator': 5336, 'parative': 5337, 'doctoral': 5338, 'moderator': 5339, 'infectious': 5340, 'agra': 5341, 'hegemony': 5342, 'cram': 5343, 'oblivious': 5344, 'gangster': 5345, 'relationships': 5346, 'nude': 5347, 'kabali': 5348, 'imagination': 5349, 'curve': 5350, 'nandan': 5351, 'otp': 5352, 'shamelessly': 5353, 'socio': 5354, 'cringe': 5355, 'printing': 5356, 'wean': 5357, 'canin': 5358, 'potty': 5359, 'pedigree': 5360, 'apparel': 5361, 'leather': 5362, 'algebra': 5363, 'hackcovid': 5364, 'b': 5365, 'lounge': 5366, 'tsar': 5367, 'aastha': 5368, 'sanskar': 5369, 'patra': 5370, 'ghee': 5371, 'console': 5372, 'enclave': 5373, 'prohibitory': 5374, 'conservation': 5375, 'mil': 5376, 'nintendo': 5377, 'tcs': 5378, 'tabliki': 5379, 'memorise': 5380, 'vishwavidyalaya': 5381, 'jalandhar': 5382, 'snow': 5383, 'outrage': 5384, 'cpim': 5385, 'dal': 5386, 'impress': 5387, 'kerela': 5388, 'ive': 5389, 'respectable': 5390, 'nil': 5391, 'autarky': 5392, 'performed': 5393, 'fierce': 5394, 'accumulation': 5395, 'embodied': 5396, 'canal': 5397, 'entrepreneurial': 5398, 'replaced': 5399, 'extensively': 5400, 'europeans': 5401, 'spectacular': 5402, 'plunder': 5403, 'appetite': 5404, 'substitute': 5405, 'englishman': 5406, 'exec': 5407, 'supposedly': 5408, 'companies': 5409, 'running': 5410, 'videoshow': 5411, 'whoever': 5412, 'ap': 5413, 'attacks': 5414, 'menial': 5415, 'af': 5416, 'inaction': 5417, 'pundit': 5418, 'botswana': 5419, 'grill': 5420, 'treasury': 5421, 'seal': 5422, 'soar': 5423, 'havoc': 5424, 'downturn': 5425, 'assert': 5426, 'analytical': 5427, 'reasoning': 5428, 'negatively': 5429, 'taxation': 5430, 'calls': 5431, 'critically': 5432, 'determination': 5433, 'thiruvananthapuram': 5434, 'maharaja': 5435, 'remake': 5436, 'formulate': 5437, 'mordern': 5438, 'resistance': 5439, 'disappear': 5440, 'plateau': 5441, 'urbanization': 5442, 'nomadic': 5443, 'interfere': 5444, 'revolt': 5445, 'kingdom': 5446, 'pair': 5447, 'recipient': 5448, 'decades': 5449, 'circuit': 5450, 'telugu': 5451, 'assamese': 5452, 'sikhs': 5453, 'bating': 5454, 'fishery': 5455, 'fisherman': 5456, 'collateral': 5457, 'habitation': 5458, 'simulatenous': 5459, 'sabarimala': 5460, 'uniform': 5461, 'apprenticeship': 5462, 'hub': 5463, 'homestead': 5464, 'proceeding': 5465, 'belongs': 5466, 'nyay': 5467, 'beneficiary': 5468, 'nominal': 5469, 'wrongdoing': 5470, 'deem': 5471, 'raman': 5472, 'dd': 5473, 'quiz': 5474, 'insurer': 5475, 'nbfc': 5476, 'columbia': 5477, 'sincerely': 5478, 'province': 5479, 'advisable': 5480, 'twelve': 5481, 'timeless': 5482, 'consistent': 5483, 'logically': 5484, 'rethink': 5485, 'embrace': 5486, 'fertilizer': 5487, 'badly': 5488, 'lt': 5489, 'dearth': 5490, 'convinced': 5491, 'contemplate': 5492, 'charity': 5493, 'hardcore': 5494, 'uq': 5495, 'pov': 5496, 'replicate': 5497, 'demonstration': 5498, 'decided': 5499, 'swear': 5500, 'herald': 5501, 'qled': 5502, 'linux': 5503, 'exhaustive': 5504, 'bigot': 5505, 'slash': 5506, 'dwell': 5507, 'harder': 5508, 'introvert': 5509, 'appearance': 5510, 'met': 5511, 'tick': 5512, 'calculate': 5513, 'bereft': 5514, 'underway': 5515, 'deflation': 5516, 'tickle': 5517, 'unfair': 5518, 'alongside': 5519, 'barrier': 5520, 'forcibly': 5521, 'apology': 5522, 'eager': 5523, 'bulk': 5524, 'ponents': 5525, 'hardware': 5526, 'diya': 5527, 'spike': 5528, 'seize': 5529, 'tvs': 5530, 'prayer': 5531, 'devastate': 5532, 'events': 5533, 'stocks': 5534, 'grandmother': 5535, 'facing': 5536, 'backdoor': 5537, 'modify': 5538, 'dpa': 5539, 'representation': 5540, 'jpc': 5541, 'clock': 5542, 'rights': 5543, 'filmmaking': 5544, 'impressive': 5545, 'cameras': 5546, 'sane': 5547, 'glass': 5548, 'samar': 5549, 'ethiraj': 5550, 'parel': 5551, 'bmw': 5552, 'halarnkar': 5553, 'chronicle': 5554, 'delhis': 5555, 'autonomous': 5556, 'bash': 5557, 'refrain': 5558, 'globally': 5559, 'repost': 5560, 'hypocrisy': 5561, 'prone': 5562, 'nerve': 5563, 'posting': 5564, 'hitler': 5565, 'button': 5566, 'segregation': 5567, 'gandhiji': 5568, 'fg': 5569, 'taunt': 5570, 'imran': 5571, 'sticky': 5572, 'redesign': 5573, 'animate': 5574, 'prussian': 5575, 'backpack': 5576, 'spring': 5577, 'awardee': 5578, 'exemplary': 5579, 'assist': 5580, 'deadly': 5581, 'bastar': 5582, 'frontier': 5583, 'cripple': 5584, 'tatkal': 5585, 'jackson': 5586, 'obama': 5587, 'downward': 5588, 'perception': 5589, 'prudential': 5590, 'saarc': 5591, 'bicker': 5592, 'dump': 5593, 'jerk': 5594, 'meditate': 5595, 'kinds': 5596, 'boundary': 5597, 'ios': 5598, 'seen': 5599, 'mended': 5600, 'realisation': 5601, 'prohibition': 5602, 'iist': 5603, 'shady': 5604, 'bai': 5605, 'h': 5606, 'desai': 5607, 'suresh': 5608, 'lake': 5609, 'trail': 5610, 'portrait': 5611, 'assessee': 5612, 'accordingly': 5613, 'bn': 5614, 'forehead': 5615, 'lpt': 5616, 'mcdonalds': 5617, 'hut': 5618, 'coincidence': 5619, 'ultratech': 5620, 'gopal': 5621, 'fetch': 5622, 'rebuild': 5623, 'rake': 5624, 'glitch': 5625, 'cautious': 5626, 'vishwanathan': 5627, 'oversee': 5628, 'coordinate': 5629, 'dosa': 5630, 'dam': 5631, 'inconsequential': 5632, 'urdu': 5633, 'arabic': 5634, 'obsessed': 5635, 'virgin': 5636, 'bhi': 5637, 'ashok': 5638, 'munich': 5639, 'narendramodi': 5640, 'filmmaker': 5641, 'incidence': 5642, 'subjective': 5643, 'nashik': 5644, 'vijaywada': 5645, 'classical': 5646, 'chopra': 5647, 'forgive': 5648, 'muscle': 5649, 'involvement': 5650, 'aswell': 5651, 'ridicule': 5652, 'wasnt': 5653, 'massacre': 5654, 'deepens': 5655, 'dg': 5656, 'ahmedabadmirror': 5657, 'hound': 5658, 'pk': 5659, 'smriti': 5660, 'appointee': 5661, 'jihad': 5662, 'countryside': 5663, 'disproportionate': 5664, 'morally': 5665, 'wherein': 5666, 'spoil': 5667, 'statistically': 5668, 'ridiculous': 5669, 'photos': 5670, 'defamation': 5671, 'bd': 5672, 'manpower': 5673, 'cutting': 5674, 'clay': 5675, 'qg': 5676, 'christmas': 5677, 'wo': 5678, 'ray': 5679, 'correlation': 5680, 'fence': 5681, 'lathis': 5682, 'angle': 5683, 'mahatma': 5684, 'bhagat': 5685, 'neta': 5686, 'beard': 5687, 'basket': 5688, 'tutorial': 5689, 'api': 5690, 'perk': 5691, 'disclosure': 5692, 'essence': 5693, 'monwealth': 5694, 'inefficient': 5695, 'developmental': 5696, 'pardon': 5697, 'intervene': 5698, 'faridabad': 5699, 'downvote': 5700, 'lots': 5701, 'ne': 5702, 'ez': 5703, 'straw': 5704, 'wisdom': 5705, 'qq': 5706, 'narcissist': 5707, 'skills': 5708, 'deficient': 5709, 'handy': 5710, 'technically': 5711, 'fifteen': 5712, 'bvr': 5713, 'ada': 5714, 'swiftly': 5715, 'parameter': 5716, 'martin': 5717, 'rapidly': 5718, 'testament': 5719, 'honourable': 5720, 'divine': 5721, 'madrasa': 5722, 'intelligent': 5723, 'trophy': 5724, 'propagate': 5725, 'usgs': 5726, 'abscond': 5727, 'unwind': 5728, 'stagger': 5729, 'trinamool': 5730, 'frustration': 5731, 'geo': 5732, 'enterprises': 5733, 'invests': 5734, 'kalaari': 5735, 'quotient': 5736, 'micromax': 5737, 'secondary': 5738, 'minimal': 5739, 'laundry': 5740, 'swap': 5741, 'iii': 5742, 'quest': 5743, 'backchannel': 5744, 'beside': 5745, 'yearly': 5746, 'twist': 5747, 'invited': 5748, 'adobe': 5749, 'smoothly': 5750, 'appreciated': 5751, 'debit': 5752, 'musician': 5753, 'tangentially': 5754, 'absurd': 5755, 'wankhede': 5756, 'vivekananda': 5757, 'shripad': 5758, 'inauguration': 5759, 'arogya': 5760, 'ians': 5761, 'meaning': 5762, 'deserves': 5763, 'naxals': 5764, 'dim': 5765, 'bajao': 5766, 'mla': 5767, 'homeopathy': 5768, 'jallikattu': 5769, 'ott': 5770, 'slice': 5771, 'pie': 5772, 'foodpanda': 5773, 'chris': 5774, 'sacca': 5775, 'lendingkart': 5776, 'hy': 5777, 'disrupt': 5778, 'blatantly': 5779, 'houston': 5780, 'meaningful': 5781, 'pleasantly': 5782, 'qualifier': 5783, 'afaik': 5784, 'francisco': 5785, 'wrestler': 5786, 'dth': 5787, 'specially': 5788, 'stag': 5789, 'jawan': 5790, 'replied': 5791, 'dismiss': 5792, 'disrespectful': 5793, 'rijiju': 5794, 'millia': 5795, 'fantasy': 5796, 'poetry': 5797, 'boris': 5798, 'mrp': 5799, 'illusion': 5800, 'endless': 5801, 'tube': 5802, 'ey': 5803, 'intact': 5804, 'boil': 5805, 'nah': 5806, 'cuz': 5807, 'kudos': 5808, 'viewpoint': 5809, 'polite': 5810, 'puller': 5811, 'retired': 5812, 'renewal': 5813, 'valid': 5814, 'fk': 5815, 'enrol': 5816, 'cleanliness': 5817, 'sunscreen': 5818, 'bination': 5819, 'iiit': 5820, 'mesra': 5821, 'univ': 5822, 'hansraj': 5823, 'visiting': 5824, 'drove': 5825, 'unleash': 5826, 'installment': 5827, 'landmark': 5828, 'pencil': 5829, 'ratna': 5830, 'approved': 5831, 'clinch': 5832, 'fq': 5833, 'tuition': 5834, 'mural': 5835, 'ger': 5836, 'islamophobia': 5837, 'deliberately': 5838, 'steep': 5839, 'apparent': 5840, 'underestimate': 5841, 'brutally': 5842, 'ofcourse': 5843, 'visibly': 5844, 'warns': 5845, 'ridiculously': 5846, 'patriotism': 5847, 'appease': 5848, 'rukh': 5849, 'lag': 5850, 'cj': 5851, 'republican': 5852, 'claims': 5853, 'suffering': 5854, 'orphan': 5855, 'questionable': 5856, 'waive': 5857, 'uneducated': 5858, 'helm': 5859, 'dash': 5860, 'tricky': 5861, 'mha': 5862, 'edits': 5863, 'uc': 5864, 'sufi': 5865, 'communalism': 5866, 'charcha': 5867, 'continuous': 5868, 'preamble': 5869, 'cultivate': 5870, 'hospitality': 5871, 'mentor': 5872, 'saturate': 5873, 'codechef': 5874, 'possession': 5875, 'noon': 5876, 'tired': 5877, 'romantic': 5878, 'dl': 5879, 'airways': 5880, 'reschedule': 5881, 'samaj': 5882, 'amidst': 5883, 'prolonged': 5884, 'consecutive': 5885, 'temporary': 5886, 'spree': 5887, 'gt': 5888, 'diligence': 5889, 'twin': 5890, 'doggos': 5891, 'inconsistency': 5892, 'persecuted': 5893, 'precise': 5894, 'enumeration': 5895, 'loophole': 5896, 'wardha': 5897, 'kindle': 5898, 'pink': 5899, 'facto': 5900, 'beginner': 5901, 'hype': 5902, 'ph': 5903, 'aforementioned': 5904, 'meritorious': 5905, 'curricular': 5906, 'worsen': 5907, 'congratulate': 5908, 'gesture': 5909, 'naive': 5910, 'zk': 5911, 'amrapali': 5912, 'byjus': 5913, 'weakness': 5914, 'dull': 5915, 'awkward': 5916, 'showing': 5917, 'explained': 5918, 'ascertain': 5919, 'registrar': 5920, 'ti': 5921, 'disclaimer': 5922, 'epa': 5923, 'islamophobic': 5924, 'based': 5925, 'supplier': 5926, 'calling': 5927, 'urgently': 5928, 'randomly': 5929, 'charm': 5930, 'blatant': 5931, 'immature': 5932, 'psychiatrist': 5933, 'aam': 5934, 'arises': 5935, 'rbis': 5936, 'pilation': 5937, 'pollute': 5938, 'nbwl': 5939, 'watchdog': 5940, 'moef': 5941, 'coast': 5942, 'ambitious': 5943, 'mous': 5944, 'vikas': 5945, 'hei': 5946, 'unemployable': 5947, 'featurephilia': 5948, 'lesser': 5949, 'muster': 5950, 'nsqf': 5951, 'streamline': 5952, 'arithmetic': 5953, 'heis': 5954, 'contributes': 5955, 'arent': 5956, 'cisce': 5957, 'pisa': 5958, 'patriot': 5959, 'naidu': 5960, 'affairs': 5961, 'gandhian': 5962, 'supporters': 5963, 'tablet': 5964, 'results': 5965, 'paralysis': 5966, 'agarwal': 5967, 'axilor': 5968, 'angels': 5969, 'insta': 5970, 'roundglass': 5971, 'shadow': 5972, 'princely': 5973, 'declaration': 5974, 'handover': 5975, 'shortly': 5976, 'unrealistic': 5977, 'disagreement': 5978, 'privatization': 5979, 'gujrat': 5980, 'sixth': 5981, 'captain': 5982, 'soccer': 5983, 'channels': 5984, 'daal': 5985, 'bhaskar': 5986, 'infiltrator': 5987, 'masquerade': 5988, 'dedication': 5989, 'saffron': 5990, 'deccanherald': 5991, 'rawat': 5992, 'ceasefire': 5993, 'frown': 5994, 'juvenile': 5995, 'ghar': 5996, 'hostage': 5997, 'wrongly': 5998, 'whatsoever': 5999, 'hazaras': 6000, 'rohingyas': 6001, 'broadly': 6002, 'allah': 6003, 'displace': 6004, 'insult': 6005, 'beggar': 6006, 'injustice': 6007, 'arena': 6008, 'butt': 6009, 'humane': 6010, 'tanmay': 6011, 'itunes': 6012, 'tale': 6013, 'marathon': 6014, 'desis': 6015, 'existential': 6016, 'ministerial': 6017, 'hl': 6018, 'counterpart': 6019, 'added': 6020, 'multinational': 6021, 'sibal': 6022, 'anectodes': 6023, 'countdown': 6024, 'vaginal': 6025, 'painful': 6026, 'undertook': 6027, 'intermediate': 6028, 'tonne': 6029, 'coalindia': 6030, 'aq': 6031, 'lung': 6032, 'bargain': 6033, 'sahara': 6034, 'sebi': 6035, 'tatas': 6036, 'effectiveness': 6037, 'srinivas': 6038, 'kodali': 6039, 'ashish': 6040, 'xq': 6041, 'dancer': 6042, 'rev': 6043, 'woe': 6044, 'hong': 6045, 'kong': 6046, 'minus': 6047, 'lakshadweep': 6048, 'daman': 6049, 'imsodone': 6050, 'worldnews': 6051, 'wb': 6052, 'handbook': 6053, 'kv': 6054, 'flex': 6055, 'taxi': 6056, 'contaminate': 6057, 'pcmasterrace': 6058, 'jvv': 6059, 'string': 6060, 'dealer': 6061, 'eligibility': 6062, 'samagra': 6063, 'mud': 6064, 'messy': 6065, 'fitternity': 6066, 'saha': 6067, 'zzungry': 6068, 'unacademy': 6069, 'traxcn': 6070, 'puro': 6071, 'convegenius': 6072, 'nephroplus': 6073, 'shaadisaga': 6074, 'mittal': 6075, 'sandeep': 6076, 'tandon': 6077, 'vyome': 6078, 'bioscience': 6079, 'trifecta': 6080, 'encashea': 6081, 'labs': 6082, 'nearu': 6083, 'goutam': 6084, 'challagalla': 6085, 'tac': 6086, 'kedia': 6087, 'md': 6088, 'nearfox': 6089, 'zoomcar': 6090, 'witworks': 6091, 'pranay': 6092, 'crownit': 6093, 'girish': 6094, 'mathrubootham': 6095, 'freshdesk': 6096, 'cpo': 6097, 'chandrasekaran': 6098, 'dipp': 6099, 'zy': 6100, 'concentrate': 6101, 'shoulder': 6102, 'hackathon': 6103, 'roster': 6104, 'emigration': 6105, 'instal': 6106, 'submerge': 6107, 'cloth': 6108, 'hh': 6109, 'respondent': 6110, 'lactose': 6111, 'firestick': 6112, 'cable': 6113, 'remotely': 6114, 'hoist': 6115, 'overbooked': 6116, 'passage': 6117, 'bloody': 6118, 'russian': 6119, 'underlie': 6120, 'finding': 6121, 'rub': 6122, 'urges': 6123, 'nicely': 6124, 'ms': 6125, 'prophet': 6126, 'speck': 6127, 'copper': 6128, 'bronze': 6129, 'extract': 6130, 'melt': 6131, 'ore': 6132, 'expectancy': 6133, 'tense': 6134, 'rio': 6135, 'rediff': 6136, 'venue': 6137, 'loneliness': 6138, 'kishor': 6139, 'vicious': 6140, 'katheria': 6141, 'tunnel': 6142, 'arora': 6143, 'plumb': 6144, 'warangal': 6145, 'survivor': 6146, 'kilometre': 6147, 'madan': 6148, 'malvia': 6149, 'hauz': 6150, 'thepeopleofin': 6151, 'so': 6152, 'prevalent': 6153, 'vilify': 6154, 'sprinter': 6155, 'usain': 6156, 'extends': 6157, 'sai': 6158, 'freelance': 6159, 'planet': 6160, 'flee': 6161, 'tight': 6162, 'thin': 6163, 'specs': 6164, 'bold': 6165, 'ascheduled': 6166, 'arandom': 6167, 'tibetan': 6168, 'talented': 6169, 'suicidal': 6170, 'cryptocurrency': 6171, 'summit': 6172, 'deloitte': 6173, 'sisodia': 6174, 'colonisation': 6175, 'bidder': 6176, 'consciousness': 6177, 'besiege': 6178, 'juul': 6179, 'garbage': 6180, 'stomach': 6181, 'contributor': 6182, 'nirbhaya': 6183, 'mercy': 6184, 'mauka': 6185, 'ted': 6186, 'bookmyshow': 6187, 'factually': 6188, 'melania': 6189, 'askreddit': 6190, 'barkha': 6191, 'dutt': 6192, 'knife': 6193, 'booked': 6194, 'umberto': 6195, 'reactionary': 6196, 'assertion': 6197, 'hopeful': 6198, 'hampshire': 6199, 'linkedin': 6200, 'contractor': 6201, 'celebration': 6202, 'travelling': 6203, 'conscience': 6204, 'newsroom': 6205, 'cnn': 6206, 'burnt': 6207, 'humiliate': 6208, 'unofficial': 6209, 'ugc': 6210, 'participant': 6211, 'tiwari': 6212, 'gi': 6213, 'immune': 6214, 'subhash': 6215, 'empower': 6216, 'rn': 6217, 'paris': 6218, 'tj': 6219, 'vasant': 6220, 'okhla': 6221, 'quarentine': 6222, 'villages': 6223, 'phonepe': 6224, 'idg': 6225, 'offend': 6226, 'dw': 6227, 'penny': 6228, 'bankruptcy': 6229, 'wpi': 6230, 'integration': 6231, 'robovac': 6232, 'waterless': 6233, 'alms': 6234, 'tinder': 6235, 'hollywood': 6236, 'opposite': 6237, 'downtrodden': 6238, 'vastly': 6239, 'greener': 6240, 'rung': 6241, 'cynical': 6242, 'repress': 6243, 'homemade': 6244, 'indoors': 6245, 'plexes': 6246, 'attractive': 6247, 'sources': 6248, 'enthusiast': 6249, 'reconciliation': 6250, 'diy': 6251, 'qatar': 6252, 'uv': 6253, 'midnight': 6254, 'inevitable': 6255, 'presidency': 6256, 'relections': 6257, 'slump': 6258, 'accidental': 6259, 'biscuit': 6260, 'rationality': 6261, 'overwhelming': 6262, 'ib': 6263, 'fucking': 6264, 'willful': 6265, 'socrates': 6266, 'abstract': 6267, 'ancestor': 6268, 'nourishment': 6269, 'din': 6270, 'curated': 6271, 'worthy': 6272, 'naval': 6273, 'krishna': 6274, 'contrary': 6275, 'abhiyan': 6276, 'teenage': 6277, 'circus': 6278, 'yami': 6279, 'gautam': 6280, 'bhumi': 6281, 'activism': 6282, 'depict': 6283, 'nostalgia': 6284, 'cream': 6285, 'dealership': 6286, 'showroom': 6287, 'toward': 6288, 'tfr': 6289, 'kin': 6290, 'ethnicity': 6291, 'rr': 6292, 'puliyabaazi': 6293, 'srinath': 6294, 'raghavan': 6295, 'mukti': 6296, 'swarathma': 6297, 'theintersection': 6298, 'astronomy': 6299, 'desistonesandbones': 6300, 'transformation': 6301, 'podtail': 6302, 'nosugarcoat': 6303, 'gary': 6304, 'mehigan': 6305, 'atul': 6306, 'pethe': 6307, 'cunha': 6308, 'jeeta': 6309, 'wohi': 6310, 'sikandar': 6311, 'hosted': 6312, 'downside': 6313, 'malini': 6314, 'munist': 6315, 'ghost': 6316, 'neck': 6317, 'owls': 6318, 'widespread': 6319, 'vijayawada': 6320, 'outskirt': 6321, 'mat': 6322, 'ricetec': 6323, 'affirmative': 6324, 'millennium': 6325, 'criminalise': 6326, 'sundry': 6327, 'vb': 6328, 'satire': 6329, 'msc': 6330, 'ocean': 6331, 'infibeam': 6332, 'flagship': 6333, 'aishe': 6334, 'cov': 6335, 'install': 6336, 'literate': 6337, 'chicken': 6338, 'vietnam': 6339, 'bulldoze': 6340, 'playing': 6341, 'taboo': 6342, 'beloved': 6343, 'scoopwhoop': 6344, 'cola': 6345, 'blade': 6346, 'flower': 6347, 'runnr': 6348, 'aerospace': 6349, 'hemant': 6350, 'occasional': 6351, 'downloads': 6352, 'taxable': 6353, 'invoice': 6354, 'eb': 6355, 'watched': 6356, 'frontline': 6357, 'uid': 6358, 'indulge': 6359, 'ashwini': 6360, 'choubey': 6361, 'intent': 6362, 'laborer': 6363, 'gratitude': 6364, 'advani': 6365, 'cum': 6366, 'mountaineer': 6367, 'bhubaneswar': 6368, 'babydog': 6369, 'lukewarm': 6370, 'mosquito': 6371, 'digestion': 6372, 'vomit': 6373, 'pellet': 6374, 'porridge': 6375, 'mini': 6376, 'dettol': 6377, 'rabies': 6378, 'coat': 6379, 'mauritius': 6380, 'avg': 6381, 'exclusion': 6382, 'apt': 6383, 'stalin': 6384, 'tejasvi': 6385, 'deduct': 6386, 'divya': 6387, 'bachao': 6388, 'dis': 6389, 'humid': 6390, 'purifier': 6391, 'oliver': 6392, 'aligarh': 6393, 'badlani': 6394, 'flame': 6395, 'godrej': 6396, 'homegrown': 6397, 'surprisingly': 6398, 'gmail': 6399, 'vicinity': 6400, 'ieee': 6401, 'phys': 6402, 'arxiv': 6403, 'csir': 6404, 'caixin': 6405, 'syndicate': 6406, 'granta': 6407, 'wireless': 6408, 'wrestling': 6409, 'subbarao': 6410, 'censusindia': 6411, 'tifr': 6412, 'ftii': 6413, 'globalist': 6414, 'tippler': 6415, 'aushadhi': 6416, 'printrelease': 6417, 'cag': 6418, 'virginia': 6419, 'maoist': 6420, 'sedemac': 6421, 'maggi': 6422, 'constructive': 6423, 'vojer': 6424, 'zombiechat': 6425, 'thithi': 6426, 'qnet': 6427, 'vlc': 6428, 'ufc': 6429, 'supervisor': 6430, 'experimental': 6431, 'numerical': 6432, 'gagandeep': 6433, 'kang': 6434, 'parcel': 6435, 'expo': 6436, 'maldives': 6437, 'iq': 6438, 'orissa': 6439, 'gujhealth': 6440, 'hfw': 6441, 'gujcovid': 6442, 'iwst': 6443, 'icfre': 6444, 'pokemon': 6445, 'khm': 6446, 'lyric': 6447, 'neuroscience': 6448, 'awaas': 6449, 'bima': 6450, 'printer': 6451, 'meteorological': 6452, 'outsider': 6453, 'hasan': 6454, 'fought': 6455, 'populist': 6456, 'blockbuster': 6457, 'epidemic': 6458, 'reproach': 6459, 'evils': 6460, 'gurcharan': 6461, 'gurcharandas': 6462, 'berger': 6463, 'laurence': 6464, 'harrison': 6465, 'routledge': 6466, 'mournfully': 6467, 'eighty': 6468, 'disgraceful': 6469, 'protectionism': 6470, 'neoclassical': 6471, 'substitution': 6472, 'shackle': 6473, 'pejoratively': 6474, 'outperform': 6475, 'diffusion': 6476, 'hayek': 6477, 'redistributive': 6478, 'painfully': 6479, 'pax': 6480, 'brittanica': 6481, 'dirigiste': 6482, 'douglass': 6483, 'decolonized': 6484, 'amplify': 6485, 'gallop': 6486, 'passant': 6487, 'impoverish': 6488, 'mughals': 6489, 'fabulous': 6490, 'subsistence': 6491, 'peasant': 6492, 'aristocracy': 6493, 'vasco': 6494, 'flotilla': 6495, 'manuel': 6496, 'portugal': 6497, 'spice': 6498, 'jewel': 6499, 'legendary': 6500, 'yarn': 6501, 'insatiable': 6502, 'bullion': 6503, 'spaniard': 6504, 'weaver': 6505, 'vigorous': 6506, 'broker': 6507, 'middleman': 6508, 'notwithstanding': 6509, 'eighteenth': 6510, 'capita': 6511, 'observed': 6512, 'zeuk': 6513, 'charitable': 6514, 'bajaj': 6515, 'differ': 6516, 'amuse': 6517, 'unwell': 6518, 'colossal': 6519, 'foreseeable': 6520, 'given': 6521, 'shimla': 6522, 'elevate': 6523, 'disadvantage': 6524, 'landlord': 6525, 'generous': 6526, 'unstable': 6527, 'fucker': 6528, 'yen': 6529, 'denominate': 6530, 'hungary': 6531, 'insufficient': 6532, 'fed': 6533, 'reputation': 6534, 'subprime': 6535, 'worthiness': 6536, 'maturity': 6537, 'crunch': 6538, 'fitch': 6539, 'mps': 6540, 'accurately': 6541, 'assumption': 6542, 'iceland': 6543, 'led': 6544, 'bail': 6545, 'sophisticated': 6546, 'oversight': 6547, 'fcic': 6548, 'obligate': 6549, 'wreak': 6550, 'gpo': 6551, 'conceptual': 6552, 'legislate': 6553, 'borrowing': 6554, 'deluge': 6555, 'mentary': 6556, 'kilometer': 6557, 'togetherness': 6558, 'cardiac': 6559, 'specialty': 6560, 'sree': 6561, 'rama': 6562, 'sat': 6563, 'transmit': 6564, 'nx': 6565, 'conquer': 6566, 'kush': 6567, 'tuberculosis': 6568, 'adapt': 6569, 'emperor': 6570, 'warfare': 6571, 'centralised': 6572, 'advent': 6573, 'nanda': 6574, 'butterfly': 6575, 'encourages': 6576, 'characterize': 6577, 'shahs': 6578, 'miserably': 6579, 'pared': 6580, 'disperse': 6581, 'gloss': 6582, 'sarcasm': 6583, 'opindia': 6584, 'poison': 6585, 'spew': 6586, 'buddh': 6587, 'hosting': 6588, 'ramayana': 6589, 'resettlement': 6590, 'jains': 6591, 'annul': 6592, 'kisan': 6593, 'repayment': 6594, 'trader': 6595, 'defecation': 6596, 'electrification': 6597, 'functional': 6598, 'coastal': 6599, 'himalayan': 6600, 'seats': 6601, 'msmes': 6602, 'indirect': 6603, 'arbitrary': 6604, 'repeal': 6605, 'wrath': 6606, 'views': 6607, 'surveyor': 6608, 'valuator': 6609, 'increased': 6610, 'impractical': 6611, 'approximately': 6612, 'deviate': 6613, 'annum': 6614, 'petence': 6615, 'moving': 6616, 'prevail': 6617, 'naturalisation': 6618, 'exploration': 6619, 'pagan': 6620, 'fundamentally': 6621, 'entertain': 6622, 'bhakti': 6623, 'ancestral': 6624, 'proselytization': 6625, 'internally': 6626, 'theology': 6627, 'gita': 6628, 'theoretical': 6629, 'seminar': 6630, 'playlist': 6631, 'struck': 6632, 'diyas': 6633, 'signify': 6634, 'fatal': 6635, 'tuck': 6636, 'mansion': 6637, 'originate': 6638, 'ethnic': 6639, 'meiteis': 6640, 'joseph': 6641, 'outdoor': 6642, 'gotten': 6643, 'rw': 6644, 'joker': 6645, 'anarchy': 6646, 'iconic': 6647, 'climax': 6648, 'loudly': 6649, 'amateur': 6650, 'dunno': 6651, 'ditch': 6652, 'trying': 6653, 'apparatus': 6654, 'returns': 6655, 'uh': 6656, 'opinions': 6657, 'powerhouse': 6658, 'fighting': 6659, 'telegram': 6660, 'bakchodi': 6661, 'vu': 6662, 'appliance': 6663, 'terminal': 6664, 'pickup': 6665, 'distraction': 6666, 'immunity': 6667, 'vent': 6668, 'esp': 6669, 'similarity': 6670, 'bottleneck': 6671, 'sabotage': 6672, 'disruption': 6673, 'vacuum': 6674, 'refers': 6675, 'freelancer': 6676, 'lateststories': 6677, 'taali': 6678, 'lamp': 6679, 'subcriber': 6680, 'images': 6681, 'times': 6682, 'seriousness': 6683, 'sock': 6684, 'substantive': 6685, 'informational': 6686, 'k': 6687, 'hamper': 6688, 'anonymity': 6689, 'thereby': 6690, 'panying': 6691, 'democratically': 6692, 'messaging': 6693, 'intl': 6694, 'otaku': 6695, 'pelling': 6696, 'harden': 6697, 'inner': 6698, 'concert': 6699, 'gentle': 6700, 'pb': 6701, 'broader': 6702, 'seasonal': 6703, 'dubious': 6704, 'lurker': 6705, 'pee': 6706, 'arse': 6707, 'administer': 6708, 'dictator': 6709, 'sanghi': 6710, 'credential': 6711, 'sadness': 6712, 'renowned': 6713, 'upvote': 6714, 'opponent': 6715, 'freebie': 6716, 'zoo': 6717, 'gets': 6718, 'threads': 6719, 'unproductive': 6720, 'nikon': 6721, 'bv': 6722, 'bravery': 6723, 'zen': 6724, 'kovind': 6725, 'freepressjournal': 6726, 'threatens': 6727, 'enquire': 6728, 'insect': 6729, 'americas': 6730, 'sugarcane': 6731, 'infestation': 6732, 'corn': 6733, 'tirupati': 6734, 'trickle': 6735, 'godavari': 6736, 'ingredient': 6737, 'thorough': 6738, 'mam': 6739, 'kendra': 6740, 'deduction': 6741, 'continued': 6742, 'unknowingly': 6743, 'hypocrite': 6744, 'impend': 6745, 'wreck': 6746, 'propoganda': 6747, 'mill': 6748, 'freak': 6749, 'kirana': 6750, 'chai': 6751, 'flexibility': 6752, 'gone': 6753, 'nod': 6754, 'revisionary': 6755, 'vibrant': 6756, 'discrepancy': 6757, 'leverage': 6758, 'distant': 6759, 'knee': 6760, 'fj': 6761, 'adjective': 6762, 'wider': 6763, 'hesitate': 6764, 'rabbit': 6765, 'pi': 6766, 'opener': 6767, 'taking': 6768, 'went': 6769, 'sh': 6770, 'leaving': 6771, 'await': 6772, 'numerous': 6773, 'lover': 6774, 'speaks': 6775, 'hptdc': 6776, 'unionise': 6777, 'imbalance': 6778, 'termination': 6779, 'prescribe': 6780, 'pros': 6781, 'mailto': 6782, 'testimonial': 6783, 'selfie': 6784, 'sonakshi': 6785, 'sandwich': 6786, 'donut': 6787, 'bazaar': 6788, 'frustrated': 6789, 'sail': 6790, 'thetechportal': 6791, 'microfinance': 6792, 'insider': 6793, 'agail': 6794, 'gotra': 6795, 'greek': 6796, 'mad': 6797, 'monster': 6798, 'slavery': 6799, 'ate': 6800, 'medallist': 6801, 'coin': 6802, 'listening': 6803, 'hopeless': 6804, 'trick': 6805, 'unbelievable': 6806, 'remarkable': 6807, 'irony': 6808, 'pani': 6809, 'dragon': 6810, 'nuanced': 6811, 'ssc': 6812, 'broadcasting': 6813, 'grievance': 6814, 'gentleman': 6815, 'grandchild': 6816, 'aircrafts': 6817, 'telescope': 6818, 'spacecraft': 6819, 'yogendra': 6820, 'conundrum': 6821, 'dread': 6822, 'junta': 6823, 'atheismindia': 6824, 'lgbt': 6825, 'dehradun': 6826, 'sahitya': 6827, 'jainism': 6828, 'forms': 6829, 'dynastic': 6830, 'dynast': 6831, 'ridden': 6832, 'luckily': 6833, 'disclose': 6834, 'batchmates': 6835, 'hobbies': 6836, 'detailed': 6837, 'mysteriously': 6838, 'stoop': 6839, 'custodial': 6840, 'alok': 6841, 'ajay': 6842, 'unnao': 6843, 'shield': 6844, 'maharaj': 6845, 'killing': 6846, 'sedition': 6847, 'lankesh': 6848, 'kathua': 6849, 'promoted': 6850, 'punya': 6851, 'prasun': 6852, 'bajpai': 6853, 'abhisar': 6854, 'abp': 6855, 'gaffe': 6856, 'deepika': 6857, 'padukone': 6858, 'blitzkrieg': 6859, 'legitimate': 6860, 'harness': 6861, 'influential': 6862, 'religiously': 6863, 'scarcity': 6864, 'options': 6865, 'destructive': 6866, 'trio': 6867, 'newbie': 6868, 'metoo': 6869, 'teenager': 6870, 'whine': 6871, 'gr': 6872, 'bounce': 6873, 'steps': 6874, 'martial': 6875, 'irresponsible': 6876, 'atishiaap': 6877, 'proved': 6878, 'facts': 6879, 'courts': 6880, 'populous': 6881, 'athlete': 6882, 'exempts': 6883, 'owe': 6884, 'disrespect': 6885, 'akshaytarfe': 6886, 'hq': 6887, 'helmet': 6888, 'genius': 6889, 'zindabad': 6890, 'darul': 6891, 'uloom': 6892, 'enthusiastic': 6893, 'possess': 6894, 'clubs': 6895, 'specialization': 6896, 'dive': 6897, 'leetcode': 6898, 'amenity': 6899, 'inspiration': 6900, 'tyranny': 6901, 'writes': 6902, 'observer': 6903, 'confront': 6904, 'chaotic': 6905, 'sizeable': 6906, 'overhaul': 6907, 'breakthroughs': 6908, 'eachother': 6909, 'munalism': 6910, 'turned': 6911, 'mathura': 6912, 'mahabharata': 6913, 'zilch': 6914, 'stereotype': 6915, 'ghetto': 6916, 'articulate': 6917, 'sikkim': 6918, 'enthusiasts': 6919, 'answered': 6920, 'frankly': 6921, 'discharge': 6922, 'noodle': 6923, 'xl': 6924, 'distinct': 6925, 'fva': 6926, 'su': 6927, 'ibnlive': 6928, 'dandy': 6929, 'creep': 6930, 'ty': 6931, 'cfm': 6932, 'certify': 6933, 'modification': 6934, 'suite': 6935, 'concession': 6936, 'derby': 6937, 'pensate': 6938, 'minuscule': 6939, 'laser': 6940, 'induction': 6941, 'simpler': 6942, 'austere': 6943, 'lockheed': 6944, 'induct': 6945, 'riddle': 6946, 'hal': 6947, 'fibre': 6948, 'marvellous': 6949, 'convoy': 6950, 'laden': 6951, 'blast': 6952, 'meditation': 6953, 'revenge': 6954, 'pakistanis': 6955, 'antinational': 6956, 'bacteria': 6957, 'airstrike': 6958, 'filthy': 6959, 'rightfully': 6960, 'huh': 6961, 'nbsp': 6962, 'newsnation': 6963, 'tremor': 6964, 'frank': 6965, 'ibtimes': 6966, 'earthquakes': 6967, 'catastrophic': 6968, 'thestatesman': 6969, 'pls': 6970, 'satisfactory': 6971, 'chattisgarh': 6972, 'slam': 6973, 'sidbi': 6974, 'augment': 6975, 'wassup': 6976, 'acqui': 6977, 'offering': 6978, 'down': 6979, 'jc': 6980, 'eating': 6981, 'ourgovdotin': 6982, 'fn': 6983, 'places': 6984, 'rh': 6985, 'mitting': 6986, 'ppl': 6987, 'masala': 6988, 'playlists': 6989, 'preferable': 6990, 'jihadi': 6991, 'explicit': 6992, 'constitutes': 6993, 'tm': 6994, 'meetups': 6995, 'suffers': 6996, 'assign': 6997, 'dick': 6998, 'links': 6999, 'chess': 7000, 'lived': 7001, 'dailypioneer': 7002, 'gk': 7003, 'confine': 7004, 'justdial': 7005, 'urbanclap': 7006, 'depends': 7007, 'rk': 7008, 'siya': 7009, 'ear': 7010, 'indicators': 7011, 'mahabharat': 7012, 'forgot': 7013, 'pulse': 7014, 'considers': 7015, 'there': 7016, 'theweek': 7017, 'jose': 7018, 'jaw': 7019, 'tvf': 7020, 'pl': 7021, 'spicejet': 7022, 'ny': 7023, 'sustainability': 7024, 'airbnb': 7025, 'tap': 7026, 'harshalgupta': 7027, 'getting': 7028, 'cruel': 7029, 'heartbreaking': 7030, 'rampant': 7031, 'misguided': 7032, 'implore': 7033, 'ax': 7034, 'disinfectant': 7035, 'structural': 7036, 'hackerearth': 7037, 'fifa': 7038, 'iamcouncil': 7039, 'y': 7040, 'thapar': 7041, 'vibhushan': 7042, 'stray': 7043, 'retaliate': 7044, 'azadi': 7045, 'injure': 7046, 'scientifically': 7047, 'mangal': 7048, 'galaxy': 7049, 'cleanse': 7050, 'biography': 7051, 'numbers': 7052, 'desperately': 7053, 'upheld': 7054, 'created': 7055, 'shes': 7056, 'benefits': 7057, 'binary': 7058, 'morph': 7059, 'fking': 7060, 'snap': 7061, 'preach': 7062, 'fyi': 7063, 'mayawati': 7064, 'indiainnovates': 7065, 'ideation': 7066, 'pressured': 7067, 'backup': 7068, 'supermarket': 7069, 'rashtriya': 7070, 'joining': 7071, 'toe': 7072, 'forsaken': 7073, 'rules': 7074, 'polarise': 7075, 'earner': 7076, 'visited': 7077, 'sk': 7078, 'hows': 7079, 'formality': 7080, 'applicant': 7081, 'oblige': 7082, 'greet': 7083, 'electronic': 7084, 'spoken': 7085, 'skype': 7086, 'thrice': 7087, 'anniversary': 7088, 'wow': 7089, 'womens': 7090, 'kx': 7091, 'ganesha': 7092, 'painting': 7093, 'pt': 7094, 'powai': 7095, 'pothole': 7096, 'uu': 7097, 'muslimophobia': 7098, 'evidently': 7099, 'thali': 7100, 'carrier': 7101, 'immoral': 7102, 'westerner': 7103, 'holy': 7104, 'dwarka': 7105, 'rob': 7106, 'pcr': 7107, 'van': 7108, 'scan': 7109, 'consistently': 7110, 'dramatic': 7111, 'averse': 7112, 'incline': 7113, 'meagre': 7114, 'lingual': 7115, 'roshogolla': 7116, 'cheese': 7117, 'helper': 7118, 'obstacle': 7119, 'culmination': 7120, 'eats': 7121, 'pipeline': 7122, 'reckon': 7123, 'apologize': 7124, 'alongwith': 7125, 'launchpad': 7126, 'cam': 7127, 'preconsultation': 7128, 'usage': 7129, 'mb': 7130, 'wynk': 7131, 'pipe': 7132, 'pip': 7133, 'conveniently': 7134, 'supportive': 7135, 'fathom': 7136, 'strain': 7137, 'khatre': 7138, 'monger': 7139, 'fertility': 7140, 'persistent': 7141, 'practise': 7142, 'iteration': 7143, 'realistically': 7144, 'flaunt': 7145, 'significance': 7146, 'bug': 7147, 'differentiate': 7148, 'github': 7149, 'someday': 7150, 'called': 7151, 'coworker': 7152, 'unusual': 7153, 'offensive': 7154, 'shree': 7155, 'ev': 7156, 'versed': 7157, 'cancellation': 7158, 'miserable': 7159, 'jat': 7160, 'layman': 7161, 'resigns': 7162, 'cluster': 7163, 'seventh': 7164, 'reporting': 7165, 'wound': 7166, 'ugh': 7167, 'faceless': 7168, 'worrisome': 7169, 'required': 7170, 'pets': 7171, 'rep': 7172, 'unturned': 7173, 'justified': 7174, 'enshrine': 7175, 'berlin': 7176, 'gen': 7177, 'stun': 7178, 'corps': 7179, 'surreal': 7180, 'trauma': 7181, 'norman': 7182, 'reputed': 7183, 'recruiter': 7184, 'unpaid': 7185, 'municipality': 7186, 'centres': 7187, 'terrify': 7188, 'geography': 7189, 'socialflow': 7190, 'eyebrows': 7191, 'khelo': 7192, 'networth': 7193, 'maid': 7194, 'trainee': 7195, 'adviser': 7196, 'programmer': 7197, 'subsidiary': 7198, 'ima': 7199, 'ciet': 7200, 'nada': 7201, 'ict': 7202, 'insecure': 7203, 'alot': 7204, 'anonymized': 7205, 'knock': 7206, 'erm': 7207, 'eh': 7208, 'ffbclid': 7209, 'diwar': 7210, 'uz': 7211, 'wa': 7212, 'uae': 7213, 'nlp': 7214, 'encouraging': 7215, 'vq': 7216, 'mented': 7217, 'vain': 7218, 'inference': 7219, 'mature': 7220, 'feels': 7221, 'bio': 7222, 'brink': 7223, 'jealous': 7224, 'pertinent': 7225, 'kishore': 7226, 'ecology': 7227, 'jim': 7228, 'aarey': 7229, 'parrikar': 7230, 'thermal': 7231, 'technologies': 7232, 'layoff': 7233, 'loom': 7234, 'debatable': 7235, 'privatise': 7236, 'semblance': 7237, 'upgradation': 7238, 'ju': 7239, 'temporarily': 7240, 'caters': 7241, 'informally': 7242, 'plicated': 7243, 'nalanda': 7244, 'taxila': 7245, 'wrt': 7246, 'societal': 7247, 'etiquette': 7248, 'hyper': 7249, 'accusation': 7250, 'toy': 7251, 'selling': 7252, 'ala': 7253, 'vm': 7254, 'cleartax': 7255, 'lucky': 7256, 'hni': 7257, 'spam': 7258, 'ho': 7259, 'rajans': 7260, 'ut': 7261, 'dun': 7262, 'sickness': 7263, 'jawahar': 7264, 'guha': 7265, 'pant': 7266, 'nationalize': 7267, 'caller': 7268, 'narasimha': 7269, 'ghat': 7270, 'kpmg': 7271, 'venomous': 7272, 'discretion': 7273, 'texts': 7274, 'procession': 7275, 'bajrang': 7276, 'punia': 7277, 'missed': 7278, 'tournament': 7279, 'resilience': 7280, 'beats': 7281, 'bareilly': 7282, 'eli': 7283, 'chose': 7284, 'sscbs': 7285, 'timesnownews': 7286, 'stayed': 7287, 'versus': 7288, 'liberalism': 7289, 'ingrain': 7290, 'ness': 7291, 'parivar': 7292, 'aljazeera': 7293, 'dawn': 7294, 'holocaust': 7295, 'literal': 7296, 'tamper': 7297, 'liaquat': 7298, 'statutory': 7299, 'ahmadiyas': 7300, 'lanka': 7301, 'tactic': 7302, 'attainment': 7303, 'backwards': 7304, 'fame': 7305, 'enjoyment': 7306, 'shitshow': 7307, 'fist': 7308, 'chord': 7309, 'upside': 7310, 'crypto': 7311, 'illiteracy': 7312, 'bhat': 7313, 'vox': 7314, 'takeaway': 7315, 'deepak': 7316, 'hafta': 7317, 'newslaundrypodcast': 7318, 'summarize': 7319, 'rockingentrepreneur': 7320, 'sadhguru': 7321, 'aarushi': 7322, 'feedburner': 7323, 'dose': 7324, 'obsess': 7325, 'ply': 7326, 'ob': 7327, 'bearing': 7328, 'induced': 7329, 'induce': 7330, 'apollo': 7331, 'hx': 7332, 'arts': 7333, 'studies': 7334, 'asthma': 7335, 'patron': 7336, 'lifetime': 7337, 'wu': 7338, 'blossom': 7339, 'tatasteel': 7340, 'atatasteel': 7341, 'bhatia': 7342, 'airasia': 7343, 'contentofinterest': 7344, 'cppst': 7345, 'mitigate': 7346, 'reincarnation': 7347, 'someshjha': 7348, 'simplify': 7349, 'pratik': 7350, 'rachita': 7351, 'taneja': 7352, 'sanitary': 7353, 'experts': 7354, 'stifle': 7355, 'rapist': 7356, 'revive': 7357, 'expel': 7358, 'bahadur': 7359, 'suzuki': 7360, 'coronvavirushelplinenumber': 7361, 'andaman': 7362, 'ppccbba': 7363, 'jf': 7364, 'overview': 7365, 'bu': 7366, 'splitladoo': 7367, 'crowdsourced': 7368, 'lilhuman': 7369, 'statewise': 7370, 'ukqaxmd': 7371, 'gkghbkmmp': 7372, 'fbnlrfldic': 7373, 'raven': 7374, 'undercooked': 7375, 'presumed': 7376, 'housemate': 7377, 'disinfect': 7378, 'countertop': 7379, 'tabletop': 7380, 'doorknobs': 7381, 'fixture': 7382, 'bedside': 7383, 'kaxr': 7384, 'dip': 7385, 'urjit': 7386, 'partnered': 7387, 'sling': 7388, 'unmarried': 7389, 'footstep': 7390, 'focussed': 7391, 'satish': 7392, 'stanford': 7393, 'ah': 7394, 'frm': 7395, 'urbanladder': 7396, 'cto': 7397, 'naveen': 7398, 'prop': 7399, 'devs': 7400, 'secretly': 7401, 'tester': 7402, 'improved': 7403, 'cervical': 7404, 'checkout': 7405, 'curry': 7406, 'uni': 7407, 'boggle': 7408, 'los': 7409, 'fired': 7410, 'paki': 7411, 'humiliation': 7412, 'kash': 7413, 'mc': 7414, 'responder': 7415, 'jung': 7416, 'pvn': 7417, 'partisan': 7418, 'vested': 7419, 'dhirubhai': 7420, 'vocal': 7421, 'spectacularly': 7422, 'wily': 7423, 'evident': 7424, 'pity': 7425, 'bastard': 7426, 'pub': 7427, 'boss': 7428, 'depending': 7429, 'morgan': 7430, 'lucrative': 7431, 'alike': 7432, 'critique': 7433, 'malicious': 7434, 'inspector': 7435, 'binge': 7436, 'hf': 7437, 'pd': 7438, 'grandparent': 7439, 'nike': 7440, 'adidas': 7441, 'puma': 7442, 'sore': 7443, 'throat': 7444, 'thoroughly': 7445, 'disposable': 7446, 'wisely': 7447, 'mis': 7448, 'iris': 7449, 'ua': 7450, 'pathogen': 7451, 'ya': 7452, 'beam': 7453, 'users': 7454, 'antibiotic': 7455, 'antibotics': 7456, 'destiny': 7457, 'extended': 7458, 'audience': 7459, 'prashant': 7460, 'steady': 7461, 'caught': 7462, 'override': 7463, 'delicate': 7464, 'services': 7465, 'ssr': 7466, 'neighbours': 7467, 'sam': 7468, 'chin': 7469, 'batsman': 7470, 'udaipur': 7471, 'gossip': 7472, 'ranked': 7473, 'coursera': 7474, 'rishi': 7475, 'gw': 7476, 'unkils': 7477, 'held': 7478, 'senseless': 7479, 'winger': 7480, 'kindness': 7481, 'hn': 7482, 'bolt': 7483, 'cuts': 7484, 'company': 7485, 'mehta': 7486, 'mull': 7487, 'backpacking': 7488, 'sugar': 7489, 'refill': 7490, 'rajyavardhan': 7491, 'rathore': 7492, 'schools': 7493, 'dedicated': 7494, 'mediocre': 7495, 'ethereum': 7496, 'lessen': 7497, 'segregate': 7498, 'safer': 7499, 'digitally': 7500, 'borne': 7501, 'hind': 7502, 'mentioned': 7503, 'orwell': 7504, 'genocide': 7505, 'disinformation': 7506, 'democrat': 7507, 'bogus': 7508, 'dailydot': 7509, 'irl': 7510, 'raises': 7511, 'radicalization': 7512, 'prominent': 7513, 'functionary': 7514, 'diagnostic': 7515, 'patronize': 7516, 'condescend': 7517, 'chairperson': 7518, 'impatient': 7519, 'fci': 7520, 'pod': 7521, 'supremacy': 7522, 'separatism': 7523, 'moderation': 7524, 'unequivocally': 7525, 'legit': 7526, 'obsolete': 7527, 'css': 7528, 'ruby': 7529, 'endgame': 7530, 'richest': 7531, 'bahl': 7532, 'capitalistic': 7533, 'lang': 7534, 'kj': 7535, 'betting': 7536, 'garba': 7537, 'clouds': 7538, 'works': 7539, 'bans': 7540, 'dropping': 7541, 'cliche': 7542, 'jantakareporter': 7543, 'xyz': 7544, 'treason': 7545, 'frighten': 7546, 'populism': 7547, 'accepted': 7548, 'susceptible': 7549, 'burgeon': 7550, 'nominee': 7551, 'dslr': 7552, 'pariksha': 7553, 'swift': 7554, 'vue': 7555, 'angular': 7556, 'crappy': 7557, 'interviewer': 7558, 'meaningless': 7559, 'expat': 7560, 'ayurvedic': 7561, 'chandbagh': 7562, 'escalation': 7563, 'mahadev': 7564, 'ghosh': 7565, 'coordination': 7566, 'haircut': 7567, 'vest': 7568, 'chancellor': 7569, 'miscreant': 7570, 'adverse': 7571, 'autocratic': 7572, 'followed': 7573, 'discussed': 7574, 'ls': 7575, 'newton': 7576, 'dashami': 7577, 'passing': 7578, 'calamity': 7579, 'tilak': 7580, 'savarkar': 7581, 'deprive': 7582, 'altran': 7583, 'rebate': 7584, 'painter': 7585, 'srl': 7586, 'vihar': 7587, 'speciality': 7588, 'saket': 7589, 'diagnostics': 7590, 'nabs': 7591, 'container': 7592, 'amarujala': 7593, 'ghaziabad': 7594, 'tells': 7595, 'joe': 7596, 'chatbot': 7597, 'kant': 7598, 'gpukv': 7599, 'ndpnesmagto': 7600, 'dirt': 7601, 'monopoly': 7602, 'infamous': 7603, 'builder': 7604, 'kp': 7605, 'argentina': 7606, 'mphasis': 7607, 'assemble': 7608, 'ali': 7609, 'amcat': 7610, 'myamcat': 7611, 'cad': 7612, 'brigade': 7613, 'reservations': 7614, 'dailyhunt': 7615, 'bytedance': 7616, 'vault': 7617, 'maya': 7618, 'sensibility': 7619, 'unconcerned': 7620, 'ranchi': 7621, 'nots': 7622, 'sphere': 7623, 'separately': 7624, 'upheaval': 7625, 'roti': 7626, 'clothing': 7627, 'insightful': 7628, 'disgust': 7629, 'happening': 7630, 'relentless': 7631, 'cinematography': 7632, 'canvera': 7633, 'bitch': 7634, 'peek': 7635, 'heroine': 7636, 'roommate': 7637, 'backlog': 7638, 'adamant': 7639, 'kcr': 7640, 'ish': 7641, 'preparatory': 7642, 'generic': 7643, 'drinking': 7644, 'stricter': 7645, 'workshop': 7646, 'badoga': 7647, 'ballet': 7648, 'backstabbing': 7649, 'chosen': 7650, 'revoke': 7651, 'dupe': 7652, 'unclear': 7653, 'flickr': 7654, 'airway': 7655, 'larsen': 7656, 'toubro': 7657, 'here': 7658, 'locked': 7659, 'suffocate': 7660, 'stoke': 7661, 'plans': 7662, 'powered': 7663, 'dodge': 7664, 'gmc': 7665, 'patients': 7666, 'pragyan': 7667, 'orbiter': 7668, 'descent': 7669, 'scott': 7670, 'washingtonpost': 7671, 'andrew': 7672, 'yang': 7673, 'dz': 7674, 'uscirf': 7675, 'uri': 7676, 'majoritarian': 7677, 'dynasty': 7678, 'humanism': 7679, 'unacceptable': 7680, 'empathy': 7681, 'stringent': 7682, 'immigrate': 7683, 'gist': 7684, 'characteristic': 7685, 'exceptionally': 7686, 'enrolment': 7687, 'socialize': 7688, 'overwork': 7689, 'millennials': 7690, 'staying': 7691, 'diagnose': 7692, 'od': 7693, 'nihalani': 7694, 'cia': 7695, 'ghcq': 7696, 'tor': 7697, 'satisfaction': 7698, 'rugby': 7699, 'names': 7700, 'thumos': 7701, 'revere': 7702, 'fabrication': 7703, 'mash': 7704, 'legion': 7705, 'aib': 7706, 'anupama': 7707, 'businessman': 7708, 'doklam': 7709, 'msp': 7710, 'presentation': 7711, 'collegium': 7712, 'fellowship': 7713, 'eminent': 7714, 'discontinue': 7715, 'known': 7716, 'modiji': 7717, 'teaser': 7718, 'generalization': 7719, 'insecured': 7720, 'brainstorming': 7721, 'fairness': 7722, 'reposting': 7723, 'youre': 7724, 'evade': 7725, 'gullible': 7726, 'rubber': 7727, 'foreman': 7728, 'unavailability': 7729, 'confirms': 7730, 'modate': 7731, 'coming': 7732, 'procreate': 7733, 'ninja': 7734, 'centric': 7735, 'parisons': 7736, 'housewife': 7737, 'treated': 7738, 'meantime': 7739, 'tribals': 7740, 'motivated': 7741, 'lf': 7742, 'leading': 7743, 'iims': 7744, 'vaitheek': 7745, 'mama': 7746, 'eid': 7747, 'noir': 7748, 'kahani': 7749, 'jaishankar': 7750, 'thomas': 7751, 'fossil': 7752, 'farming': 7753, 'influencers': 7754, 'xiaomi': 7755, 'redmi': 7756, 'looked': 7757, 'rationally': 7758, 'suppression': 7759, 'ncid': 7760, 'tiwdkz': 7761, 'gze': 7762, 'recirc': 7763, 'kamra': 7764, 'premji': 7765, 'aussie': 7766, 'jog': 7767, 'pw': 7768, 'proxy': 7769, 'towns': 7770, 'thailand': 7771, 'lk': 7772, 'oneplus': 7773, 'exhibition': 7774, 'purview': 7775, 'impure': 7776, 'whichever': 7777, 'frontal': 7778, 'unreal': 7779, 'bread': 7780, 'olx': 7781, 'homo': 7782, 'deus': 7783, 'sync': 7784, 'citation': 7785, 'oecd': 7786, 'expend': 7787, 'qualified': 7788, 'tokyo': 7789, 'inclination': 7790, 'cn': 7791, 'wuhan': 7792, 'syndrome': 7793, 'offender': 7794, 'indonesia': 7795, 'inflict': 7796, 'efficiently': 7797, 'tolerant': 7798, 'modative': 7799, 'iceberg': 7800, 'recipe': 7801, 'hcl': 7802, 'quarterly': 7803, 'squeeze': 7804, 'sec': 7805, 'opp': 7806, 'hanuman': 7807, 'shivaji': 7808, 'shilong': 7809, 'bpl': 7810, 'replaces': 7811, 'surcharge': 7812, 'iduskcn': 7813, 'funded': 7814, 'pinnacle': 7815, 'excellence': 7816, 'nurture': 7817, 'parental': 7818, 'psychological': 7819, 'surpass': 7820, 'malayalees': 7821, 'yrs': 7822, 'incubate': 7823, 'mobikon': 7824, 'hipcask': 7825, 'accounting': 7826, 'tenant': 7827, 'irks': 7828, 'convey': 7829, 'statesman': 7830, 'unscientific': 7831, 'ij': 7832, 'whammy': 7833, 'thief': 7834, 'tribune': 7835, 'thelogicalindian': 7836, 'messenger': 7837, 'deregulate': 7838, 'dharma': 7839, 'nomination': 7840, 'molecular': 7841, 'sooner': 7842, 'pharmaceutical': 7843, 'nishank': 7844, 'sceptic': 7845, 'focused': 7846, 'brendan': 7847, 'thediplomat': 7848, 'countryman': 7849, 'publicise': 7850, 'publicity': 7851, 'pahlaj': 7852, 'furious': 7853, 'dutee': 7854, 'liberalize': 7855, 'dhanbad': 7856, 'roorkee': 7857, 'patiala': 7858, 'kerosene': 7859, 'sectt': 7860, 'hmt': 7861, 'urinate': 7862, 'noob': 7863, 'teeth': 7864, 'bored': 7865, 'veggie': 7866, 'suspension': 7867, 'shampoo': 7868, 'lankan': 7869, 'paan': 7870, 'bandwidth': 7871, 'baseless': 7872, 'exmuslim': 7873, 'linear': 7874, 'matic': 7875, 'devfolio': 7876, 'std': 7877, 'bro': 7878, 'gm': 7879, 'ding': 7880, 'mirror': 7881, 'restore': 7882, 'soren': 7883, 'exponentially': 7884, 'godman': 7885, 'arya': 7886, 'pradeep': 7887, 'mortem': 7888, 'fmcg': 7889, 'respirator': 7890, 'reusable': 7891, 'nasofilters': 7892, 'infant': 7893, 'standoff': 7894, 'feat': 7895, 'moonstone': 7896, 'highlander': 7897, 'futile': 7898, 'exaggerate': 7899, 'apologetic': 7900, 'hum': 7901, 'gateway': 7902, 'administrator': 7903, 'nh': 7904, 'legislature': 7905, 'furquansid': 7906, 'shower': 7907, 'kanpur': 7908, 'desert': 7909, 'radicalize': 7910, 'conceal': 7911, 'casually': 7912, 'splurge': 7913, 'owaisi': 7914, 'imposition': 7915, 'ibn': 7916, 'variable': 7917, 'files': 7918, 'sonia': 7919, 'weightlift': 7920, 'senthil': 7921, 'nabbed': 7922, 'suitcase': 7923, 'rogue': 7924, 'coastline': 7925, 'acre': 7926, 'kakodkar': 7927, 'spearhead': 7928, 'randian': 7929, 'catchphrase': 7930, 'padhao': 7931, 'kulbhushan': 7932, 'jadhav': 7933, 'convene': 7934, 'trajectory': 7935, 'toxicity': 7936, 'cingari': 7937, 'cengar': 7938, 'tzengar': 7939, 'abu': 7940, 'mantra': 7941, 'inflow': 7942, 'outflow': 7943, 'unaware': 7944, 'kya': 7945, 'standpoint': 7946, 'cartoon': 7947, 'arranged': 7948, 'virginity': 7949, 'bowl': 7950, 'walmart': 7951, 'iphones': 7952, 'ponzi': 7953, 'tractor': 7954, 'substantially': 7955, 'adivasi': 7956, 'pa': 7957, 'horde': 7958, 'lyft': 7959, 'forty': 7960, 'mistry': 7961, 'malnourish': 7962, 'malnutrition': 7963, 'vivo': 7964, 'firechat': 7965, 'doron': 7966, 'excited': 7967, 'mumma': 7968, 'namaz': 7969, 'poha': 7970, 'aerial': 7971, 'antrix': 7972, 'editorialise': 7973, 'affluent': 7974, 'vizag': 7975, 'shaastra': 7976, 'jj': 7977, 'bullying': 7978, 'sq': 7979, 'disapproval': 7980, 'sunderbans': 7981, 'cricketer': 7982, 'pressbrief': 7983, 'henderson': 7984, 'brook': 7985, 'afspa': 7986, 'vadra': 7987, 'freight': 7988, 'livspace': 7989, 'boston': 7990, 'llb': 7991, 'gram': 7992, 'nr': 7993, 'fanbox': 7994, 'roosevelt': 7995, 'ccc': 7996, 'hinder': 7997, 'adaptive': 7998, 'overlap': 7999, 'retest': 8000, 'onion': 8001, 'schemes': 8002, 'nair': 8003, 'sensitize': 8004, 'penalize': 8005, 'temperate': 8006, 'wmo': 8007, 'opc': 8008, 'llp': 8009, 'twentieth': 8010, 'ems': 8011, 'zika': 8012, 'abbreviation': 8013, 'mountains': 8014, 'precedence': 8015, 'drbv': 8016, 'toys': 8017, 'janta': 8018, 'politicians': 8019, 'dhanaulti': 8020, 'situate': 8021, 'refusal': 8022, 'godia': 8023, 'signature': 8024, 'flyover': 8025, 'raga': 8026, 'icu': 8027, 'hypocritical': 8028, 'swing': 8029, 'outdated': 8030, 'asking': 8031, 'vpn': 8032, 'pil': 8033, 'seeing': 8034, 'horn': 8035, 'turmoil': 8036, 'discredit': 8037, 'anticipated': 8038, 'bilbo': 8039, 'economicoutlook': 8040, 'dallas': 8041, 'mcteer': 8042, 'outstanding': 8043, 'untouchable': 8044, 'ian': 8045, 'adequately': 8046, 'quadruple': 8047, 'investigator': 8048, 'inquiry': 8049, 'renege': 8050, 'singing': 8051, 'points': 8052, 'ov': 8053, 'floats': 8054, 'crown': 8055, 'prince': 8056, 'avittom': 8057, 'thirunal': 8058, 'pioneer': 8059, 'density': 8060, 'mins': 8061, 'gps': 8062, 'sung': 8063, 'vedas': 8064, 'andronovo': 8065, 'unification': 8066, 'leprosy': 8067, 'subjugate': 8068, 'tribute': 8069, 'aryans': 8070, 'ant': 8071, 'conquest': 8072, 'monarch': 8073, 'versa': 8074, 'refused': 8075, 'savarna': 8076, 'demonize': 8077, 'sdm': 8078, 'unearth': 8079, 'jalao': 8080, 'shitstorm': 8081, 'ahw': 8082, 'accelerates': 8083, 'fastest': 8084, 'growing': 8085, 'odia': 8086, 'implementability': 8087, 'solder': 8088, 'menance': 8089, 'sanhg': 8090, 'constiution': 8091, 'socoail': 8092, 'tranders': 8093, 'walkability': 8094, 'behavioural': 8095, 'traicks': 8096, 'wea': 8097, 'sourced': 8098, 'producrement': 8099, 'nikah': 8100, 'halala': 8101, 'pucca': 8102, 'kuchha': 8103, 'gorkha': 8104, 'asssembly': 8105, 'sikkin': 8106, 'limboo': 8107, 'tamang': 8108, 'shram': 8109, 'maandhan': 8110, 'facilitiate': 8111, 'expeditious': 8112, 'endeavour': 8113, 'unifirm': 8114, 'reitrates': 8115, 'apprentice': 8116, 'vacant': 8117, 'manufac': 8118, 'turing': 8119, 'duction': 8120, 'mayor': 8121, 'structurefor': 8122, 'eviction': 8123, 'bargaining': 8124, 'taximposed': 8125, 'familieswho': 8126, 'misp': 8127, 'propor': 8128, 'tion': 8129, 'amalgamate': 8130, 'basjie': 8131, 'manifestos': 8132, 'timesnow': 8133, 'delicious': 8134, 'grandma': 8135, 'unpalatable': 8136, 'sumanth': 8137, 'deemed': 8138, 'dropped': 8139, 'collision': 8140, 'mech': 8141, 'allotment': 8142, 'alberta': 8143, 'brunswick': 8144, 'wick': 8145, 'authentic': 8146, 'authoritarianism': 8147, 'misconception': 8148, 'peddle': 8149, 'deportation': 8150, 'slimy': 8151, 'stateless': 8152, 'aggregate': 8153, 'geneva': 8154, 'anticaad': 8155, 'theological': 8156, 'manifestation': 8157, 'dharmic': 8158, 'abrahamic': 8159, 'familial': 8160, 'demon': 8161, 'theologically': 8162, 'heathen': 8163, 'blindness': 8164, 'priest': 8165, 'accepts': 8166, 'equidistant': 8167, 'breadbasket': 8168, 'paramount': 8169, 'modernize': 8170, 'successes': 8171, 'palace': 8172, 'polio': 8173, 'derive': 8174, 'sagol': 8175, 'kangjei': 8176, 'wooden': 8177, 'yw': 8178, 'britisher': 8179, 'formalise': 8180, 'heath': 8181, 'clown': 8182, 'overheard': 8183, 'prank': 8184, 'usher': 8185, 'hospitalized': 8186, 'ran': 8187, 'awkwardness': 8188, 'watching': 8189, 'movies': 8190, 'done': 8191, 'tendulkar': 8192, 'consulting': 8193, 'sans': 8194, 'profanity': 8195, 'digress': 8196, 'abide': 8197, 'deccan': 8198, 'demands': 8199, 'phrase': 8200, 'ubuntu': 8201, 'freedos': 8202, 'allowance': 8203, 'dart': 8204, 'dumbwits': 8205, 'embarrassment': 8206, 'morale': 8207, 'contempt': 8208, 'ffs': 8209, 'dumbfound': 8210, 'gimmick': 8211, 'occupied': 8212, 'kundli': 8213, 'hangout': 8214, 'brace': 8215, 'bombard': 8216, 'negligible': 8217, 'pervade': 8218, 'mobilisation': 8219, 'cursory': 8220, 'glance': 8221, 'hitherto': 8222, 'catalyst': 8223, 'devalue': 8224, 'fiber': 8225, 'optic': 8226, 'switched': 8227, 'nail': 8228, 'utility': 8229, 'whim': 8230, 'indiapost': 8231, 'plicit': 8232, 'jgmgwmlvlcroprsnlnnpzj': 8233, 'mtnl': 8234, 'paypal': 8235, 'owners': 8236, 'wat': 8237, 'eox': 8238, 'colleges': 8239, 'computer': 8240, 'darkness': 8241, 'laureate': 8242, 'muhammad': 8243, 'yunus': 8244, 'fascists': 8245, 'boredom': 8246, 'sportspersons': 8247, 'infinitely': 8248, 'stunt': 8249, 'wno': 8250, 'cushion': 8251, 'markets': 8252, 'theyre': 8253, 'individually': 8254, 'durable': 8255, 'ud': 8256, 'unhurried': 8257, 'rajasthani': 8258, 'prideintradition': 8259, 'nonhindi': 8260, 'thematic': 8261, 'append': 8262, 'puttaswamy': 8263, 'incorporate': 8264, 'fiduciary': 8265, 'mercialise': 8266, 'presently': 8267, 'safeguard': 8268, 'carve': 8269, 'appellate': 8270, 'collation': 8271, 'networking': 8272, 'excessive': 8273, 'encroachment': 8274, 'qjzfnezjr': 8275, 'ohtgzmxsulzmgsrkxma': 8276, 'rf': 8277, 'features': 8278, 'hnk': 8279, 'empathize': 8280, 'yk': 8281, 'minded': 8282, 'disruptive': 8283, 'landscape': 8284, 'sunglass': 8285, 'sprint': 8286, 'kb': 8287, 'sunglasses': 8288, 'ping': 8289, 'broadcaster': 8290, 'bottomline': 8291, 'cnbc': 8292, 'aspen': 8293, 'colorado': 8294, 'revamp': 8295, 'groundbreaking': 8296, 'multibillion': 8297, 'columnist': 8298, 'nieman': 8299, 'berkeley': 8300, 'nirvana': 8301, 'hirindia': 8302, 'malevolent': 8303, 'creeper': 8304, 'interval': 8305, 'lockdowns': 8306, 'degrade': 8307, 'henceforth': 8308, 'fella': 8309, 'eloquent': 8310, 'dank': 8311, 'den': 8312, 'doctrine': 8313, 'accidentally': 8314, 'rebuttal': 8315, 'progressively': 8316, 'serf': 8317, 'medias': 8318, 'wit': 8319, 'bhakth': 8320, 'disguise': 8321, 'downvoted': 8322, 'fragile': 8323, 'smash': 8324, 'ahimsa': 8325, 'commits': 8326, 'delhiites': 8327, 'zee': 8328, 'chaudhary': 8329, 'manipulative': 8330, 'bark': 8331, 'opportunistic': 8332, 'tab': 8333, 'eff': 8334, 'leaders': 8335, 'neutralpolitics': 8336, 'lwe': 8337, 'paradigm': 8338, 'tripod': 8339, 'bp': 8340, 'aw': 8341, 'backfire': 8342, 'sadavarte': 8343, 'allot': 8344, 'programmes': 8345, 'ravage': 8346, 'pest': 8347, 'pesticide': 8348, 'fao': 8349, 'prefers': 8350, 'saharan': 8351, 'fortnightly': 8352, 'bade': 8353, 'chakwa': 8354, 'cultivation': 8355, 'dug': 8356, 'keedas': 8357, 'worm': 8358, 'grip': 8359, 'outlier': 8360, 'keeda': 8361, 'pandey': 8362, 'infest': 8363, 'paddy': 8364, 'ng': 8365, 'angrau': 8366, 'condense': 8367, 'seva': 8368, 'marketer': 8369, 'cheque': 8370, 'liable': 8371, 'mumbais': 8372, 'extort': 8373, 'torment': 8374, 'pester': 8375, 'connivance': 8376, 'mnp': 8377, 'recharge': 8378, 'metropolitan': 8379, 'closet': 8380, 'hoarder': 8381, 'assured': 8382, 'oi': 8383, 'deliberate': 8384, 'messed': 8385, 'poland': 8386, 'shouldnt': 8387, 'describes': 8388, 'aversion': 8389, 'laziness': 8390, 'hypothetical': 8391, 'listener': 8392, 'satyamev': 8393, 'jayate': 8394, 'brainstorm': 8395, 'ignoramus': 8396, 'barc': 8397, 'cwg': 8398, 'troubleshoot': 8399, 'ot': 8400, 'bts': 8401, 'corrosive': 8402, 'amulya': 8403, 'doorstep': 8404, 'halfway': 8405, 'dreaming': 8406, 'fizzle': 8407, 'liverpool': 8408, 'leh': 8409, 'afc': 8410, 'cctv': 8411, 'pervasive': 8412, 'exacerbate': 8413, 'principles': 8414, 'datalaw': 8415, 'mlekhi': 8416, 'gig': 8417, 'bookmybai': 8418, 'tribuneindia': 8419, 'hilarious': 8420, 'myleeta': 8421, 'aga': 8422, 'poorly': 8423, 'aficionado': 8424, 'aficionados': 8425, 'remembers': 8426, 'phew': 8427, 'pidgey': 8428, 'messi': 8429, 'fortably': 8430, 'preemptive': 8431, 'prophecy': 8432, 'osborne': 8433, 'zj': 8434, 'vn': 8435, 'sajid': 8436, 'javid': 8437, 'treaty': 8438, 'paradise': 8439, 'fatter': 8440, 'burger': 8441, 'pizzas': 8442, 'pizza': 8443, 'ruia': 8444, 'cvtpujgztee': 8445, 'ibur': 8446, 'jaypee': 8447, 'fortunately': 8448, 'sholay': 8449, 'aag': 8450, 'shaky': 8451, 'matchmaker': 8452, 'proudly': 8453, 'amex': 8454, 'ujjivan': 8455, 'denies': 8456, 'defunct': 8457, 'tremendous': 8458, 'skkcw': 8459, 'restricts': 8460, 'neighborhood': 8461, 'donkey': 8462, 'rotate': 8463, 'batter': 8464, 'idli': 8465, 'recollect': 8466, 'gomathi': 8467, 'marimuthu': 8468, 'cache': 8469, 'mammal': 8470, 'misty': 8471, 'thumb': 8472, 'lavasa': 8473, 'aspirational': 8474, 'upwardly': 8475, 'overtly': 8476, 'wasteful': 8477, 'liberalisation': 8478, 'alienated': 8479, 'greeting': 8480, 'hexaware': 8481, 'pursuing': 8482, 'stealing': 8483, 'cafeteria': 8484, 'shastra': 8485, 'impressed': 8486, 'outpouring': 8487, 'atomic': 8488, 'superiority': 8489, 'tug': 8490, 'salvo': 8491, 'restraint': 8492, 'clarifies': 8493, 'christians': 8494, 'probability': 8495, 'glimpse': 8496, 'indiainvestments': 8497, 'indianpolitics': 8498, 'coimbatore': 8499, 'tamilnadu': 8500, 'kollywood': 8501, 'bahai': 8502, 'sikhism': 8503, 'zoroastrianism': 8504, 'gamers': 8505, 'hoaxbusters': 8506, 'voted': 8507, 'dynasts': 8508, 'incoherent': 8509, 'prelim': 8510, 'numb': 8511, 'heal': 8512, 'pariah': 8513, 'grace': 8514, 'isolated': 8515, 'plicity': 8516, 'lkijxtdxg': 8517, 'wnwxtq': 8518, 'reportage': 8519, 'uncrowned': 8520, 'zakia': 8521, 'jafri': 8522, 'gulburg': 8523, 'sohrabuddin': 8524, 'bedi': 8525, 'ruthlessly': 8526, 'laxman': 8527, 'vigilante': 8528, 'loya': 8529, 'rakesh': 8530, 'bisht': 8531, 'jaat': 8532, 'kanhaiya': 8533, 'govind': 8534, 'kalburgi': 8535, 'karni': 8536, 'aoh': 8537, 'referrer': 8538, 'tf': 8539, 'garland': 8540, 'unqualified': 8541, 'snoop': 8542, 'kaushik': 8543, 'drainage': 8544, 'animosity': 8545, 'chit': 8546, 'choksi': 8547, 'reasons': 8548, 'impediment': 8549, 'hawk': 8550, 'savvy': 8551, 'polity': 8552, 'heroes': 8553, 'investing': 8554, 'horrific': 8555, 'swore': 8556, 'withdraws': 8557, 'pressurize': 8558, 'skyrocket': 8559, 'nationalistic': 8560, 'cleaning': 8561, 'commission': 8562, 'pepper': 8563, 'whereabouts': 8564, 'puncture': 8565, 'strangle': 8566, 'seminars': 8567, 'concepts': 8568, 'topple': 8569, 'powercut': 8570, 'traditions': 8571, 'refuses': 8572, 'sharing': 8573, 'shared': 8574, 'nations': 8575, 'vaccines': 8576, 'fewer': 8577, 'cst': 8578, 'cleartrip': 8579, 'bhimrao': 8580, 'thesphinxspeaks': 8581, 'rebranded': 8582, 'nationality': 8583, 'momentum': 8584, 'pad': 8585, 'deoband': 8586, 'dues': 8587, 'odds': 8588, 'overly': 8589, 'posse': 8590, 'teachers': 8591, 'introductory': 8592, 'ebook': 8593, 'breadth': 8594, 'syntax': 8595, 'prehension': 8596, 'navigate': 8597, 'curse': 8598, 'inheritance': 8599, 'homework': 8600, 'token': 8601, 'optional': 8602, 'overdo': 8603, 'babu': 8604, 'bungalows': 8605, 'responsibly': 8606, 'egoistic': 8607, 'arrogance': 8608, 'daunt': 8609, 'briefly': 8610, 'parasite': 8611, 'devoid': 8612, 'bungalow': 8613, 'vip': 8614, 'orderly': 8615, 'gomutra': 8616, 'hopelessly': 8617, 'ethos': 8618, 'vj': 8619, 'plexion': 8620, 'sania': 8621, 'mirza': 8622, 'aukaat': 8623, 'punishment': 8624, 'udaan': 8625, 'nip': 8626, 'absent': 8627, 'fury': 8628, 'mindless': 8629, 'disciple': 8630, 'demean': 8631, 'psychopath': 8632, 'murderer': 8633, 'frequency': 8634, 'centralisation': 8635, 'incapable': 8636, 'avionics': 8637, 'mkis': 8638, 'bhel': 8639, 'finalise': 8640, 'prototype': 8641, 'earnest': 8642, 'projection': 8643, 'sanction': 8644, 'foc': 8645, 'squadron': 8646, 'dogfight': 8647, 'weaponry': 8648, 'pares': 8649, 'gripen': 8650, 'definitive': 8651, 'aesa': 8652, 'tranche': 8653, 'raf': 8654, 'swedish': 8655, 'israeli': 8656, 'seeker': 8657, 'layout': 8658, 'recount': 8659, 'deficiency': 8660, 'roadblock': 8661, 'cue': 8662, 'hobble': 8663, 'thirdly': 8664, 'payload': 8665, 'darin': 8666, 'reliability': 8667, 'subsystem': 8668, 'abridge': 8669, 'relay': 8670, 'srinagar': 8671, 'explosive': 8672, 'nia': 8673, 'chakra': 8674, 'bombing': 8675, 'qn': 8676, 'regain': 8677, 'nuke': 8678, 'arrow': 8679, 'hereditary': 8680, 'congressman': 8681, 'postgrad': 8682, 'archeology': 8683, 'intelligently': 8684, 'biopic': 8685, 'unwise': 8686, 'hoogerbeets': 8687, 'ditrianum': 8688, 'seismic': 8689, 'eqscience': 8690, 'slaughter': 8691, 'thday': 8692, 'pf': 8693, 'directive': 8694, 'andra': 8695, 'himanta': 8696, 'biswa': 8697, 'sarma': 8698, 'jugnoo': 8699, 'asklocal': 8700, 'firs': 8701, 'sap': 8702, 'onboard': 8703, 'booze': 8704, 'hip': 8705, 'mpesa': 8706, 'sunil': 8707, 'munjal': 8708, 'aavishkaar': 8709, 'holachef': 8710, 'guruq': 8711, 'edtech': 8712, 'whodat': 8713, 'ideaspring': 8714, 'absentia': 8715, 'doormint': 8716, 'inlogg': 8717, 'navigator': 8718, 'glow': 8719, 'airsewa': 8720, 'egtg': 8721, 'selfies': 8722, 'pbs': 8723, 'beautifully': 8724, 'managing': 8725, 'fixed': 8726, 'needed': 8727, 'donations': 8728, 'mobi': 8729, 'igwn': 8730, 'waiter': 8731, 'boop': 8732, 'cgpa': 8733, 'ttd': 8734, 'joined': 8735, 'shakti': 8736, 'streaming': 8737, 'rana': 8738, 'misflairing': 8739, 'pun': 8740, 'ht': 8741, 'trailer': 8742, 'sketch': 8743, 'editorialization': 8744, 'insinuates': 8745, 'automod': 8746, 'bacbg': 8747, 'coronav': 8748, 'kl': 8749, 'lightly': 8750, 'jcbkiedqa': 8751, 'consulted': 8752, 'announcing': 8753, 'moradabad': 8754, 'indictment': 8755, 'palliative': 8756, 'anusandhana': 8757, 'samsthana': 8758, 'vyasa': 8759, 'parade': 8760, 'lgbtq': 8761, 'countries': 8762, 'atep': 8763, 'unsure': 8764, 'canon': 8765, 'memes': 8766, 'surroundings': 8767, 'indiaintech': 8768, 'itinerary': 8769, 'mz': 8770, 'promising': 8771, 'curbs': 8772, 'disrupts': 8773, 'navi': 8774, 'brandish': 8775, 'axe': 8776, 'luv': 8777, 'amarinder': 8778, 'differs': 8779, 'zu': 8780, 'expectant': 8781, 'thaali': 8782, 'radiation': 8783, 'sheep': 8784, 'contradict': 8785, 'fnfnh': 8786, 'fishy': 8787, 'stockpile': 8788, 'notch': 8789, 'arunabh': 8790, 'dhawal': 8791, 'gusain': 8792, 'exclusivity': 8793, 'healthquad': 8794, 'maiden': 8795, 'moneytap': 8796, 'hedge': 8797, 'tekne': 8798, 'shopmatic': 8799, 'goodera': 8800, 'omidyar': 8801, 'hypertrack': 8802, 'pickle': 8803, 'officials': 8804, 'teamindus': 8805, 'gmat': 8806, 'merchandiser': 8807, 'sop': 8808, 'flinch': 8809, 'unjust': 8810, 'allegiance': 8811, 'mygov': 8812, 'blackberry': 8813, 'graffiti': 8814, 'connaught': 8815, 'bernie': 8816, 'imminent': 8817, 'loosen': 8818, 'hiring': 8819, 'surprised': 8820, 'arjunsethi': 8821, 'friedrichpieter': 8822, 'chicago': 8823, 'domicile': 8824, 'ample': 8825, 'backstory': 8826, 'tracking': 8827, 'sonyliv': 8828, 'bhushan': 8829, 'kakapora': 8830, 'adil': 8831, 'ahmad': 8832, 'farooq': 8833, 'sthash': 8834, 'dpuf': 8835, 'hundreds': 8836, 'bhatks': 8837, 'unkill': 8838, 'astrologically': 8839, 'ings': 8840, 'notable': 8841, 'cred': 8842, 'insights': 8843, 'intuitively': 8844, 'overrun': 8845, 'gladly': 8846, 'clamouring': 8847, 'perplexing': 8848, 'incorrectly': 8849, 'marginally': 8850, 'mingle': 8851, 'quotas': 8852, 'bhabi': 8853, 'tot': 8854, 'islamist': 8855, 'shamble': 8856, 'antibody': 8857, 'fga': 8858, 'cong': 8859, 'poke': 8860, 'wht': 8861, 'solutions': 8862, 'paramour': 8863, 'raped': 8864, 'shops': 8865, 'worklife': 8866, 'amd': 8867, 'wholeheartedly': 8868, 'dynamics': 8869, 'chutiyas': 8870, 'baton': 8871, 'foodie': 8872, 'rz': 8873, 'preventing': 8874, 'swapna': 8875, 'heptathlon': 8876, 'sarkar': 8877, 'lowers': 8878, 'polarised': 8879, 'straightaway': 8880, 'abused': 8881, 'mythology': 8882, 'liked': 8883, 'spf': 8884, 'greasy': 8885, 'miscellaneous': 8886, 'touristy': 8887, 'plunge': 8888, 'strangely': 8889, 'explains': 8890, 'retrieve': 8891, 'hyperloop': 8892, 'indication': 8893, 'stood': 8894, 'recap': 8895, 'striking': 8896, 'ipc': 8897, 'criminalize': 8898, 'flavour': 8899, 'decriminalized': 8900, 'dt': 8901, 'shaheed': 8902, 'smog': 8903, 'thaaye': 8904, 'roadside': 8905, 'dharmapuri': 8906, 'ramesh': 8907, 'rt': 8908, 'cy': 8909, 'stormtrooper': 8910, 'charcoal': 8911, 'fz': 8912, 'practicality': 8913, 'malana': 8914, 'primitive': 8915, 'scenery': 8916, 'nandi': 8917, 'idukki': 8918, 'kd': 8919, 'pupper': 8920, 'mulki': 8921, 'jal': 8922, 'bl': 8923, 'ox': 8924, 'pacify': 8925, 'trans': 8926, 'keralas': 8927, 'devi': 8928, 'gaumutra': 8929, 'definite': 8930, 'wd': 8931, 'parties': 8932, 'tougher': 8933, 'flyyoufools': 8934, 'bw': 8935, 'punch': 8936, 'developing': 8937, 'adventurous': 8938, 'marked': 8939, 'hark': 8940, 'aggressively': 8941, 'slog': 8942, 'invested': 8943, 'intel': 8944, 'unsubstantiated': 8945, 'cater': 8946, 'milkman': 8947, 'showcases': 8948, 'invictus': 8949, 'biker': 8950, 'breaking': 8951, 'intermittently': 8952, 'eventhough': 8953, 'satyagrah': 8954, 'veto': 8955, 'betwin': 8956, 'honolulu': 8957, 'afterall': 8958, 'onlooker': 8959, 'epitome': 8960, 'odate': 8961, 'lc': 8962, 'hasnt': 8963, 'peddar': 8964, 'netneutrality': 8965, 'congestion': 8966, 'qos': 8967, 'licensing': 8968, 'standing': 8969, 'sneezing': 8970, 'escrow': 8971, 'rigour': 8972, 'delight': 8973, 'sanghis': 8974, 'grows': 8975, 'rastra': 8976, 'nm': 8977, 'fea': 8978, 'facial': 8979, 'rtis': 8980, 'organizational': 8981, 'modated': 8982, 'thankful': 8983, 'apar': 8984, 'unethical': 8985, 'lifeprotip': 8986, 'chore': 8987, 'numbing': 8988, 'hindered': 8989, 'hairstyle': 8990, 'toimumbai': 8991, 'synonym': 8992, 'awful': 8993, 'equation': 8994, 'craft': 8995, 'blunt': 8996, 'coworkers': 8997, 'styrofoam': 8998, 'xb': 8999, 'placard': 9000, 'provocative': 9001, 'hurl': 9002, 'slur': 9003, 'ppa': 9004, 'biriyani': 9005, 'overhyped': 9006, 'pulao': 9007, 'aspects': 9008, 'classified': 9009, 'infuse': 9010, 'mgnrega': 9011, 'rosy': 9012, 'litre': 9013, 'consolidated': 9014, 'periodic': 9015, 'prudent': 9016, 'crumble': 9017, 'rot': 9018, 'immensely': 9019, 'bailouts': 9020, 'pave': 9021, 'igi': 9022, 'banks': 9023, 'puppers': 9024, 'kitty': 9025, 'cute': 9026, 'bros': 9027, 'animals': 9028, 'dumbass': 9029, 'incessant': 9030, 'dent': 9031, 'clusterfuck': 9032, 'cringeworthy': 9033, 'wf': 9034, 'loopholes': 9035, 'revealed': 9036, 'prohibits': 9037, 'contend': 9038, 'thereunder': 9039, 'subordinate': 9040, 'birthplace': 9041, 'descendant': 9042, 'campaigner': 9043, 'excluded': 9044, 'speculate': 9045, 'mencement': 9046, 'birt': 9047, 'eekdl': 9048, 'snowboard': 9049, 'vidharba': 9050, 'yavatmal': 9051, 'philosophical': 9052, 'berliner': 9053, 'daze': 9054, 'magnify': 9055, 'thump': 9056, 'fssai': 9057, 'caption': 9058, 'gdata': 9059, 'underpin': 9060, 'amends': 9061, 'dn': 9062, 'pelled': 9063, 'inculcated': 9064, 'stroke': 9065, 'entrepreneurs': 9066, 'esteem': 9067, 'spkyaonovwmwzbk': 9068, 'hmb': 9069, 'cqlthf': 9070, 'vyrlxoufbd': 9071, 'cgam': 9072, 'ghd': 9073, 'twqu': 9074, 'zmlgwt': 9075, 'ynx': 9076, 'orj': 9077, 'xebsfpyauswjqebpff': 9078, 'nou': 9079, 'months': 9080, 'rhiti': 9081, 'oppo': 9082, 'dravid': 9083, 'dhonis': 9084, 'parra': 9085, 'spends': 9086, 'conducive': 9087, 'cordial': 9088, 'eil': 9089, 'posoco': 9090, 'welding': 9091, 'agricoop': 9092, 'packaging': 9093, 'dmrc': 9094, 'cargo': 9095, 'lecturer': 9096, 'attendant': 9097, 'jr': 9098, 'dope': 9099, 'seci': 9100, 'og': 9101, 'deactivate': 9102, 'nightclub': 9103, 'las': 9104, 'vega': 9105, 'inflexible': 9106, 'wink': 9107, 'baabus': 9108, 'fscroll': 9109, 'um': 9110, 'oz': 9111, 'yi': 9112, 'labourers': 9113, 'phones': 9114, 'twitterurbannazi': 9115, 'ui': 9116, 'collaborate': 9117, 'diabetic': 9118, 'irreparably': 9119, 'unbearably': 9120, 'silently': 9121, 'custody': 9122, 'milkha': 9123, 'indoor': 9124, 'recovered': 9125, 'fianc': 9126, 'covert': 9127, 'narcissism': 9128, 'mamma': 9129, 'karela': 9130, 'scold': 9131, 'torture': 9132, 'temper': 9133, 'npd': 9134, 'subvert': 9135, 'bpo': 9136, 'breakout': 9137, 'wfh': 9138, 'unofficially': 9139, 'infected': 9140, 'offs': 9141, 'biyani': 9142, 'systematically': 9143, 'sized': 9144, 'loses': 9145, 'corbett': 9146, 'mangrove': 9147, 'betwa': 9148, 'panna': 9149, 'endanger': 9150, 'doom': 9151, 'coconut': 9152, 'erase': 9153, 'ecological': 9154, 'av': 9155, 'helmets': 9156, 'layoffs': 9157, 'instigate': 9158, 'wr': 9159, 'heci': 9160, 'legitimized': 9161, 'buttress': 9162, 'hefa': 9163, 'canara': 9164, 'fuckton': 9165, 'assocham': 9166, 'mbas': 9167, 'quandary': 9168, 'unemployability': 9169, 'besu': 9170, 'iiscs': 9171, 'lavish': 9172, 'babudom': 9173, 'implicitly': 9174, 'dep': 9175, 'sharda': 9176, 'malgovernance': 9177, 'haphazard': 9178, 'bouquet': 9179, 'suboptimal': 9180, 'trainees': 9181, 'sufficiently': 9182, 'prevalant': 9183, 'plethora': 9184, 'q': 9185, 'involves': 9186, 'roi': 9187, 'imaginativeness': 9188, 'romanticize': 9189, 'vishwaguru': 9190, 'shakha': 9191, 'blasphemy': 9192, 'mudiji': 9193, 'rusa': 9194, 'educationally': 9195, 'aser': 9196, 'oecds': 9197, 'abysmally': 9198, 'withdrew': 9199, 'manifold': 9200, 'unwanted': 9201, 'underconfident': 9202, 'agreed': 9203, 'cosmetic': 9204, 'varsity': 9205, 'permeability': 9206, 'penetration': 9207, 'vide': 9208, 'bwmz': 9209, 'chandrababu': 9210, 'considerate': 9211, 'gigafiber': 9212, 'dormant': 9213, 'ember': 9214, 'dichotomy': 9215, 'indradhanush': 9216, 'musical': 9217, 'deals': 9218, 'rq': 9219, 'cmo': 9220, 'misbehave': 9221, 'mah': 9222, 'demise': 9223, 'worlds': 9224, 'oldest': 9225, 'scribd': 9226, 'humour': 9227, 'extinct': 9228, 'uninterested': 9229, 'vanish': 9230, 'shuts': 9231, 'digiflip': 9232, 'nykaa': 9233, 'urbanpiper': 9234, 'gomechanic': 9235, 'catalysts': 9236, 'rupaiya': 9237, 'chhaya': 9238, 'prakashani': 9239, 'revv': 9240, 'zestmoney': 9241, 'payu': 9242, 'urdoorstep': 9243, 'vila': 9244, 'stalkbuylove': 9245, 'wittyparrot': 9246, 'vehico': 9247, 'appliyifi': 9248, 'niki': 9249, 'unilazer': 9250, 'thb': 9251, 'slowed': 9252, 'sv': 9253, 'misunderstanding': 9254, 'delusion': 9255, 'swaraj': 9256, 'presidentship': 9257, 'abul': 9258, 'staunchly': 9259, 'undivided': 9260, 'abdulla': 9261, 'admonish': 9262, 'idols': 9263, 'ruler': 9264, 'infact': 9265, 'mahasabha': 9266, 'nationalization': 9267, 'predecessor': 9268, 'admiration': 9269, 'glorious': 9270, 'mineral': 9271, 'preservation': 9272, 'proliferate': 9273, 'indiankanoon': 9274, 'stud': 9275, 'cathedral': 9276, 'deepa': 9277, 'malik': 9278, 'basks': 9279, 'khel': 9280, 'awards': 9281, 'judgemental': 9282, 'avid': 9283, 'supernumerary': 9284, 'reserved': 9285, 'sensationalist': 9286, 'boxing': 9287, 'sanitiser': 9288, 'worldcup': 9289, 'persue': 9290, 'bsc': 9291, 'ehgfve': 9292, 'conservatism': 9293, 'modia': 9294, 'launcher': 9295, 'tukde': 9296, 'cunning': 9297, 'unbearable': 9298, 'shrug': 9299, 'unquote': 9300, 'amnesty': 9301, 'unequal': 9302, 'exploitative': 9303, 'tangential': 9304, 'aamaadmiparty': 9305, 'overrate': 9306, 'screams': 9307, 'posh': 9308, 'ailment': 9309, 'utilize': 9310, 'disheartened': 9311, 'amusement': 9312, 'maximize': 9313, 'thunderdomes': 9314, 'bakchod': 9315, 'aakar': 9316, 'pal': 9317, 'kapur': 9318, 'libsyn': 9319, 'sutta': 9320, 'digipodcast': 9321, 'twaddle': 9322, 'incrementalux': 9323, 'indicast': 9324, 'forbes': 9325, 'indusvox': 9326, 'cyrus': 9327, 'paodcast': 9328, 'geek': 9329, 'simblified': 9330, 'ivm': 9331, 'jaggu': 9332, 'masti': 9333, 'kiruba': 9334, 'learningindia': 9335, 'runner': 9336, 'paywall': 9337, 'mastery': 9338, 'tumblr': 9339, 'subscribeme': 9340, 'vartaa': 9341, 'sng': 9342, 'edians': 9343, 'syntalk': 9344, 'deshpande': 9345, 'edian': 9346, 'hoopdarshan': 9347, 'vkv': 9348, 'overcast': 9349, 'sio': 9350, 'antony': 9351, 'clement': 9352, 'rubin': 9353, 'curtail': 9354, 'jurisdiction': 9355, 'aggrieve': 9356, 'inquire': 9357, 'formulation': 9358, 'aniruddha': 9359, 'addressed': 9360, 'originator': 9361, 'kamakoti': 9362, 'adjourn': 9363, 'affidavit': 9364, 'deliberation': 9365, 'traceability': 9366, 'lb': 9367, 'trimester': 9368, 'gyn': 9369, 'sonography': 9370, 'ultrasound': 9371, 'operated': 9372, 'cramp': 9373, 'vibe': 9374, 'epidural': 9375, 'sanctum': 9376, 'daimaas': 9377, 'cradle': 9378, 'fkql': 9379, 'fathersmothers': 9380, 'prosper': 9381, 'treating': 9382, 'finds': 9383, 'miner': 9384, 'ntpc': 9385, 'ambiguity': 9386, 'packet': 9387, 'smoking': 9388, 'saint': 9389, 'buyback': 9390, 'unlisted': 9391, 'gvk': 9392, 'fairfax': 9393, 'echo': 9394, 'apex': 9395, 'wsj': 9396, 'shareholder': 9397, 'touchdown': 9398, 'exporter': 9399, 'tak': 9400, 'linkexplainer': 9401, 'purpultat': 9402, 'ebdeup': 9403, 'rahulthewall': 9404, 'briarproject': 9405, 'cofounder': 9406, 'aatishtaseer': 9407, 'digitaldutta': 9408, 'convener': 9409, 'lwu': 9410, 't': 9411, 'mh': 9412, 'yorker': 9413, 'sdp': 9414, 'stopgenocideinindia': 9415, 'planned': 9416, 'ff': 9417, 'cheerleader': 9418, 'tto': 9419, 'betaaa': 9420, 'kar': 9421, 'karo': 9422, 'ways': 9423, 'dreaded': 9424, 'reorganisation': 9425, 'dogra': 9426, 'deplores': 9427, 'bhargava': 9428, 'jhabua': 9429, 'bhanu': 9430, 'bhuria': 9431, 'bilkis': 9432, 'bano': 9433, 'tej': 9434, 'jjp': 9435, 'palestine': 9436, 'rajendra': 9437, 'khalid': 9438, 'siam': 9439, 'finalize': 9440, 'bpcl': 9441, 'eighth': 9442, 'districtwiselist': 9443, 'helplines': 9444, 'nicobar': 9445, 'puducherry': 9446, 'diu': 9447, 'coronaindia': 9448, 'fqmry': 9449, 'thedosaman': 9450, 'fpv': 9451, 'xk': 9452, 'theclassicgallery': 9453, 'fgc': 9454, 'nithinvnath': 9455, 'fpt': 9456, 'jw': 9457, 'maardon': 9458, 'bhenji': 9459, 'vqj': 9460, 'hrishidev': 9461, 'fqpnov': 9462, 'pinkcity': 9463, 'fps': 9464, 'isaacseaman': 9465, 'oj': 9466, 'fqn': 9467, 'lifehacker': 9468, 'fptwqz': 9469, 'hqd': 9470, 'ppatra': 9471, 'shareable': 9472, 'xj': 9473, 'gn': 9474, 'snswtmrdyym': 9475, 'qtg': 9476, 'gkqmhfrcljnn': 9477, 'gxa': 9478, 'gwsxzmto': 9479, 'bkkkygn': 9480, 'sgyupr': 9481, 'ght': 9482, 'gamqzdnun': 9483, 'dojzmj': 9484, 'gwnzzpiljrp': 9485, 'jqke': 9486, 'eog': 9487, 'ggji': 9488, 'zulzol': 9489, 'xhf': 9490, 'konkani': 9491, 'gmrjkbslnmdc': 9492, 'gpdqma': 9493, 'gmeu': 9494, 'hlpvt': 9495, 'cqo': 9496, 'dnhg': 9497, 'giu': 9498, 'sbt': 9499, 'eenuhi': 9500, 'marwari': 9501, 'gxxp': 9502, 'cpzet': 9503, 'zhp': 9504, 'hwuxnt': 9505, 'oriya': 9506, 'gwcrc': 9507, 'oyuxd': 9508, 'oztva': 9509, 'gjxtsvu': 9510, 'hzou': 9511, 'gjaqg': 9512, 'gglvlhfkhssmzgto': 9513, 'yhlnro': 9514, 'telegu': 9515, 'gkevvg': 9516, 'wlij': 9517, 'gwwpu': 9518, 'fuhqi': 9519, 'folding': 9520, 'unused': 9521, 'parkinson': 9522, 'foldingathome': 9523, 'fkttm': 9524, 'balbir': 9525, 'recalls': 9526, 'askindianp': 9527, 'jana': 9528, 'vignana': 9529, 'vedika': 9530, 'babas': 9531, 'dispel': 9532, 'driving': 9533, 'councils': 9534, 'polls': 9535, 'hullabaloo': 9536, 'annualised': 9537, 'gmv': 9538, 'mortar': 9539, 'financier': 9540, 'askme': 9541, 'popcorns': 9542, 'getit': 9543, 'forensic': 9544, 'articlelist': 9545, 'msid': 9546, 'blacklist': 9547, 'portea': 9548, 'peppertap': 9549, 'indusinsight': 9550, 'freshly': 9551, 'cuisine': 9552, 'vasudeva': 9553, 'madhusudhan': 9554, 'jujare': 9555, 'waterbridge': 9556, 'tritional': 9557, 'susan': 9558, 'dell': 9559, 'sealink': 9560, 'vineet': 9561, 'skyline': 9562, 'grp': 9563, 'dheeraj': 9564, 'redcliffe': 9565, 'perceptive': 9566, 'romulus': 9567, 'nagori': 9568, 'honcho': 9569, 'nagoris': 9570, 'recycle': 9571, 'raddiman': 9572, 'globevestor': 9573, 'devendre': 9574, 'rane': 9575, 'coverfox': 9576, 'llc': 9577, 'sequioa': 9578, 'fireside': 9579, 'investopad': 9580, 'shaadi': 9581, 'jivrajka': 9582, 'abhinav': 9583, 'clouse': 9584, 'luxemborg': 9585, 'luxembourg': 9586, 'chandrasekharan': 9587, 'upes': 9588, 'teamed': 9589, 'bhubaneshwar': 9590, 'notif': 9591, 'relaxation': 9592, 'esop': 9593, 'rumor': 9594, 'js': 9595, 'sl': 9596, 'church': 9597, 'maundy': 9598, 'jesus': 9599, 'battlefront': 9600, 'collegee': 9601, 'upwards': 9602, 'dcquo': 9603, 'ozonise': 9604, 'nizams': 9605, 'rainy': 9606, 'buss': 9607, 'emit': 9608, 'greenery': 9609, 'spondylosis': 9610, 'neuro': 9611, 'puke': 9612, 'amsterdam': 9613, 'cycling': 9614, 'bikle': 9615, 'handsomely': 9616, 'chrome': 9617, 'hsp': 9618, 'hamburg': 9619, 'sportangprogramm': 9620, 'breathing': 9621, 'wand': 9622, 'mrfreeze': 9623, 'geht': 9624, 'maternity': 9625, 'paternity': 9626, 'arbeitslosengeld': 9627, 'dickhead': 9628, 'rohini': 9629, 'sgh': 9630, 'whataboutery': 9631, 'ddoz': 9632, 'chankyan': 9633, 'garibi': 9634, 'hatao': 9635, 'surrender': 9636, 'boomerang': 9637, 'sly': 9638, 'statecraft': 9639, 'slew': 9640, 'bribery': 9641, 'potato': 9642, 'astonish': 9643, 'baap': 9644, 'socialistic': 9645, 'dismantle': 9646, 'considered': 9647, 'harrassing': 9648, 'moms': 9649, 'keeps': 9650, 'tanvie': 9651, 'cochin': 9652, 'undpeurasia': 9653, 'asteiner': 9654, 'bahar': 9655, 'broaden': 9656, 'automotive': 9657, 'biotechnology': 9658, 'polymer': 9659, 'unison': 9660, 'kambala': 9661, 'champions': 9662, 'airplane': 9663, 'miscalculate': 9664, 'nmqta': 9665, 'criminalization': 9666, 'harass': 9667, 'homoeopathy': 9668, 'habits': 9669, 'filtered': 9670, 'siasat': 9671, 'paragraph': 9672, 'ze': 9673, 'shoes': 9674, 'nonprofit': 9675, 'toronto': 9676, 'icse': 9677, 'isc': 9678, 'uploadedfiles': 9679, 'bj': 9680, 'diarrhea': 9681, 'exhales': 9682, 'asymptomatic': 9683, 'symptoms': 9684, 'bend': 9685, 'instruct': 9686, 'blaming': 9687, 'beamfiber': 9688, 'perscription': 9689, 'rx': 9690, 'dv': 9691, 'hindusim': 9692, 'fairytale': 9693, 'breakdown': 9694, 'supernova': 9695, 'rebirth': 9696, 'spanish': 9697, 'answere': 9698, 'deity': 9699, 'determines': 9700, 'immortality': 9701, 'betterment': 9702, 'tame': 9703, 'obsidian': 9704, 'domesticate': 9705, 'pottery': 9706, 'leaps': 9707, 'telephone': 9708, 'sailboat': 9709, 'palm': 9710, 'outu': 9711, 'bagan': 9712, 'aiff': 9713, 'dutta': 9714, 'knowingly': 9715, 'highest': 9716, 'dealbreaker': 9717, 'crave': 9718, 'esque': 9719, 'predicament': 9720, 'ettiquettes': 9721, 'anglo': 9722, 'saxon': 9723, 'equilibrium': 9724, 'virtous': 9725, 'continually': 9726, 'subdue': 9727, 'decisive': 9728, 'bilateral': 9729, 'dhl': 9730, 'avalanche': 9731, 'gifs': 9732, 'pradhanmantri': 9733, 'ej': 9734, 'dst': 9735, 'bhawan': 9736, 'madman': 9737, 'marshall': 9738, 'unholy': 9739, 'unhygienic': 9740, 'fruits': 9741, 'raisen': 9742, 'linked': 9743, 'inappropriate': 9744, 'brew': 9745, 'rode': 9746, 'zf': 9747, 'hurdle': 9748, 'coronation': 9749, 'utilise': 9750, 'chaitanya': 9751, 'conditioner': 9752, 'refrigerator': 9753, 'believer': 9754, 'imarticus': 9755, 'besant': 9756, 'achiever': 9757, 'caltech': 9758, 'coincides': 9759, 'realm': 9760, 'astronomical': 9761, 'terrain': 9762, 'interstate': 9763, 'profiteer': 9764, 'meerut': 9765, 'unfold': 9766, 'navroz': 9767, 'xy': 9768, 'dadc': 9769, 'tsb': 9770, 'fedex': 9771, 'quorans': 9772, 'materialistic': 9773, 'homophobia': 9774, 'lesbian': 9775, 'drum': 9776, 'tortoise': 9777, 'humility': 9778, 'forgiveness': 9779, 'cannon': 9780, 'shore': 9781, 'footprint': 9782, 'superconductivity': 9783, 'rameshwar': 9784, 'gurjar': 9785, 'hopes': 9786, 'establishing': 9787, 'players': 9788, 'mistakenly': 9789, 'earmark': 9790, 'pratap': 9791, 'spirituality': 9792, 'dominance': 9793, 'bofors': 9794, 'brazilian': 9795, 'grounded': 9796, 'formally': 9797, 'wv': 9798, 'holds': 9799, 'medals': 9800, 'snapshot': 9801, 'conceptualize': 9802, 'enroll': 9803, 'frugal': 9804, 'drawback': 9805, 'convinces': 9806, 'solidify': 9807, 'digitize': 9808, 'cary': 9809, 'frauds': 9810, 'attacker': 9811, 'encrypt': 9812, 'accessibility': 9813, 'bianchi': 9814, 'adopter': 9815, 'trustworthy': 9816, 'misogyny': 9817, 'shove': 9818, 'blink': 9819, 'brasil': 9820, 'z': 9821, 'cnet': 9822, 'educated': 9823, 'msm': 9824, 'contributing': 9825, 'modernity': 9826, 'cosmopolitanism': 9827, 'subversion': 9828, 'sheth': 9829, 'hotchpotch': 9830, 'modity': 9831, 'whilst': 9832, 'awash': 9833, 'athletes': 9834, 'fad': 9835, 'wq': 9836, 'biocon': 9837, 'czech': 9838, 'guv': 9839, 'rexit': 9840, 'yc': 9841, 'deveshwar': 9842, 'kids': 9843, 'guaranteed': 9844, 'christ': 9845, 'receiving': 9846, 'owes': 9847, 'subramanium': 9848, 'drreddy': 9849, 'adrreddy': 9850, 'ay': 9851, 'crux': 9852, 'municipal': 9853, 'choke': 9854, 'quashes': 9855, 'eng': 9856, 'electrician': 9857, 'garner': 9858, 'excessively': 9859, 'notoriously': 9860, 'updating': 9861, 'tested': 9862, 'nowthisnews': 9863, 'alexandria': 9864, 'ocasio': 9865, 'cortezs': 9866, 'tallest': 9867, 'foresee': 9868, 'indubitably': 9869, 'raghav': 9870, 'fanboy': 9871, 'concur': 9872, 'eback': 9873, 'leash': 9874, 'meglomaniac': 9875, 'hotly': 9876, 'eyesore': 9877, 'ambanis': 9878, 'converter': 9879, 'liquidate': 9880, 'ubi': 9881, 'helipads': 9882, 'alx': 9883, 'manjrekar': 9884, 'mentator': 9885, 'bccis': 9886, 'legality': 9887, 'william': 9888, 'imprisonment': 9889, 'onlinerti': 9890, 'cic': 9891, 'organizer': 9892, 'zoos': 9893, 'parks': 9894, 'dgca': 9895, 'misery': 9896, 'nadda': 9897, 'finannce': 9898, 'ds': 9899, 'handbag': 9900, 'scissors': 9901, 'charger': 9902, 'tray': 9903, 'caveat': 9904, 'traditionalist': 9905, 'modernism': 9906, 'enlightenment': 9907, 'distinguish': 9908, 'heroism': 9909, 'machismo': 9910, 'disdain': 9911, 'vocabulary': 9912, 'protectionist': 9913, 'theintercept': 9914, 'xlztwzmzbia': 9915, 'template': 9916, 'o': 9917, 'evergreen': 9918, 'django': 9919, 'workout': 9920, 'transit': 9921, 'tedious': 9922, 'bund': 9923, 'yamraj': 9924, 'aashiana': 9925, 'keeper': 9926, 'ck': 9927, 'babarpur': 9928, 'jaffrabad': 9929, 'iyer': 9930, 'iyersaishwarya': 9931, 'shrine': 9932, 'purportedly': 9933, 'arson': 9934, 'smear': 9935, 'har': 9936, 'emb': 9937, 'kapilmishra': 9938, 'ind': 9939, 'withhold': 9940, 'telling': 9941, 'stale': 9942, 'probation': 9943, 'insisted': 9944, 'earned': 9945, 'classmates': 9946, 'intensive': 9947, 'stump': 9948, 'belittle': 9949, 'rustication': 9950, 'vandalize': 9951, 'thesis': 9952, 'disown': 9953, 'unwavering': 9954, 'activists': 9955, 'spineless': 9956, 'logo': 9957, 'gaumutr': 9958, 'chaddies': 9959, 'chaddis': 9960, 'bhaktas': 9961, 'flm': 9962, 'losing': 9963, 'hearted': 9964, 'symptomatic': 9965, 'landslide': 9966, 'emergence': 9967, 'saheb': 9968, 'narayan': 9969, 'imperative': 9970, 'subtly': 9971, 'smuggle': 9972, 'cremation': 9973, 'inception': 9974, 'matrimony': 9975, 'jiofi': 9976, 'cmr': 9977, 'earlysalary': 9978, 'ifmr': 9979, 'creditvidya': 9980, 'primaryio': 9981, 'printo': 9982, 'globaledge': 9983, 'embed': 9984, 'griffin': 9985, 'roku': 9986, 'reed': 9987, 'hastings': 9988, 'probiotic': 9989, 'storyteller': 9990, 'conviction': 9991, 'patna': 9992, 'indraprastha': 9993, 'marg': 9994, 'lifeline': 9995, 'metropolis': 9996, 'akamai': 9997, 'rum': 9998, 'liveblog': 9999, 'malaysian': 10000, 'narela': 10001, 'admins': 10002, 'outcry': 10003, 'charan': 10004, 'gowda': 10005, 'sensible': 10006, 'polarize': 10007, 'shopclues': 10008, 'berry': 10009, 'lease': 10010, 'fleet': 10011, 'rentomojo': 10012, 'increff': 10013, 'robotics': 10014, 'mobiquest': 10015, 'vayana': 10016, 'monkeybox': 10017, 'nb': 10018, 'freshworks': 10019, 'hukum': 10020, 'bharatnet': 10021, 'saarthi': 10022, 'pranavdixit': 10023, 'dj': 10024, 'moments': 10025, 'repo': 10026, 'heartbroken': 10027, 'whiskey': 10028, 'knight': 10029, 'prepares': 10030, 'rai': 10031, 'mirchi': 10032, 'ukraine': 10033, 'evasion': 10034, 'tiago': 10035, 'sunedison': 10036, 'blackstone': 10037, 'pycw': 10038, 'aadaniports': 10039, 'footnote': 10040, 'envelope': 10041, 'raju': 10042, 'ge': 10043, 'unlearn': 10044, 'undesirable': 10045, 'creditor': 10046, 'stare': 10047, 'lincoln': 10048, 'nanak': 10049, 'hemingway': 10050, 'andy': 10051, 'mooc': 10052, 'brute': 10053, 'verifiable': 10054, 'array': 10055, 'timesjobs': 10056, 'firstnaukri': 10057, 'geeksforgeeks': 10058, 'indiabix': 10059, 'cpp': 10060, 'yechury': 10061, 'horribly': 10062, 'illusory': 10063, 'massively': 10064, 'mojo': 10065, 'mykindofjob': 10066, 'tazzo': 10067, 'gray': 10068, 'veeba': 10069, 'verlinvest': 10070, 'saama': 10071, 'faballey': 10072, 'deyor': 10073, 'campsite': 10074, 'aggregator': 10075, 'medmonk': 10076, 'boxershots': 10077, 'merges': 10078, 'enzo': 10079, 'innov': 10080, 'punit': 10081, 'soni': 10082, 'postman': 10083, 'kidsstoppress': 10084, 'anandan': 10085, 'trilyo': 10086, 'affirm': 10087, 'stanley': 10088, 'anvil': 10089, 'firstcry': 10090, 'directground': 10091, 'ptbm': 10092, 'tilt': 10093, 'toothless': 10094, 'honour': 10095, 'todays': 10096, 'masse': 10097, 'lithium': 10098, 'ion': 10099, 'jihadist': 10100, 'pakistans': 10101, 'bilingual': 10102, 'subscribed': 10103, 'dissolution': 10104, 'harmonious': 10105, 'fray': 10106, 'desirable': 10107, 'outnumber': 10108, 'kapada': 10109, 'makaan': 10110, 'migratory': 10111, 'wished': 10112, 'worshipper': 10113, 'spoke': 10114, 'pang': 10115, 'containment': 10116, 'legs': 10117, 'bz': 10118, 'vz': 10119, 'wbjee': 10120, 'govinda': 10121, 'mantle': 10122, 'nep': 10123, 'foundational': 10124, 'cognitive': 10125, 'anganwadis': 10126, 'redo': 10127, 'breakfast': 10128, 'multidisciplinary': 10129, 'ao': 10130, 'humorous': 10131, 'maha': 10132, 'maneuver': 10133, 'opposed': 10134, 'nephew': 10135, 'rebel': 10136, 'entered': 10137, 'probable': 10138, 'idealogy': 10139, 'ploy': 10140, 'yy': 10141, 'duffer': 10142, 'jar': 10143, 'anon': 10144, 'vocaroo': 10145, 'remindme': 10146, 'unwilling': 10147, 'reappointment': 10148, 'redundant': 10149, 'incumbent': 10150, 'uninteresting': 10151, 'bhattacharya': 10152, 'bezos': 10153, 'unchanged': 10154, 'retaliation': 10155, 'sensitivity': 10156, 'cunt': 10157, 'godi': 10158, 'obese': 10159, 'decode': 10160, 'underwater': 10161, 'trains': 10162, 'plishing': 10163, 'shoots': 10164, 'zealand': 10165, 'sx': 10166, 'isros': 10167, 'pacific': 10168, 'nasa': 10169, 'astronaut': 10170, 'demanding': 10171, 'commonwealth': 10172, 'chances': 10173, 'broke': 10174, 'testimony': 10175, 'kunalkamra': 10176, 'ferrying': 10177, 'frankfurt': 10178, 'dads': 10179, 'raising': 10180, 'bearer': 10181, 'panipat': 10182, 'santacruz': 10183, 'puppies': 10184, 'entrench': 10185, 'regionalism': 10186, 'munism': 10187, 'cetera': 10188, 'rigorously': 10189, 'ihp': 10190, 'primacy': 10191, 'agnostic': 10192, 'unchecked': 10193, 'entail': 10194, 'indefinite': 10195, 'normalize': 10196, 'plotted': 10197, 'humanities': 10198, 'qs': 10199, 'shanghai': 10200, 'kz': 10201, 'disappointment': 10202, 'insanely': 10203, 'rigid': 10204, 'unhealthy': 10205, 'ofc': 10206, 'evacuate': 10207, 'shocked': 10208, 'inspiral': 10209, 'addwize': 10210, 'fbi': 10211, 'intern': 10212, 'secrecy': 10213, 'kevin': 10214, 'hillary': 10215, 'dial': 10216, 'mbbs': 10217, 'dropper': 10218, 'marginalize': 10219, 'returnees': 10220, 'willingly': 10221, 'sticker': 10222, 'underdeveloped': 10223, 'reluctance': 10224, 'ruffle': 10225, 'feather': 10226, 'litter': 10227, 'peanut': 10228, 'gujrati': 10229, 'dough': 10230, 'mediocrity': 10231, 'unimaginable': 10232, 'decadent': 10233, 'inferior': 10234, 'rebuke': 10235, 'gunpowder': 10236, 'enlightened': 10237, 'hubris': 10238, 'perish': 10239, 'openness': 10240, 'willingness': 10241, 'jy': 10242, 'numberphile': 10243, 'nerdwriter': 10244, 'statistician': 10245, 'seaplane': 10246, 'narmada': 10247, 'sarovar': 10248, 'cess': 10249, 'fellows': 10250, 'dbt': 10251, 'fcra': 10252, 'nvgs': 10253, 'retrospectively': 10254, 'exists': 10255, 'populated': 10256, 'overestimate': 10257, 'lmk': 10258, 'honda': 10259, 'stupidly': 10260, 'talkfreely': 10261, 'kink': 10262, 'dubai': 10263, 'crosspost': 10264, 'dreamgirl': 10265, 'trademark': 10266, 'skinned': 10267, 'subconsciously': 10268, 'indoctrinate': 10269, 'influencer': 10270, 'admits': 10271, 'externality': 10272, 'highschool': 10273, 'rebound': 10274, 'kuch': 10275, 'sympathetic': 10276, 'reagent': 10277, 'gokhale': 10278, 'kits': 10279, 'falter': 10280, 'mileage': 10281, 'protennisleagueofficial': 10282, 'gib': 10283, 'rhetoric': 10284, 'rte': 10285, 'gaming': 10286, 'volatile': 10287, 'onosmosis': 10288, 'confirmation': 10289, 'quotation': 10290, 'nq': 10291, 'starting': 10292, 'mirage': 10293, 'panagariya': 10294, 'childless': 10295, 'grey': 10296, 'scheduledthe': 10297, 'baseball': 10298, 'odis': 10299, 'pique': 10300, 'lifecycle': 10301, 'in': 10302, 'blackmail': 10303, 'askrandia': 10304, 'refugees': 10305, 'anticaa': 10306, 'bobde': 10307, 'legalize': 10308, 'postgraduates': 10309, 'tedx': 10310, 'vaithee': 10311, 'indiaplaza': 10312, 'fabmall': 10313, 'birla': 10314, 'tirunelveli': 10315, 'anna': 10316, 'murugappa': 10317, 'wipro': 10318, 'unnoticed': 10319, 'undertrial': 10320, 'spitting': 10321, 'inherit': 10322, 'entitled': 10323, 'yogesh': 10324, 'unpacks': 10325, 'unpack': 10326, 'lates': 10327, 'unintended': 10328, 'ramachandra': 10329, 'paywalled': 10330, 'saurabh': 10331, 'kotasthane': 10332, 'avoiding': 10333, 'patrick': 10334, 'mentators': 10335, 'nikeshmurali': 10336, 'murali': 10337, 'suno': 10338, 'sameer': 10339, 'chandradhar': 10340, 'guleri': 10341, 'narrator': 10342, 'chutti': 10343, 'chhutti': 10344, 'kahaani': 10345, 'aise': 10346, 'dumas': 10347, 'jockey': 10348, 'praveen': 10349, 'cheesy': 10350, 'mariyam': 10351, 'tagline': 10352, 'sneak': 10353, 'peeks': 10354, 'padmaparna': 10355, 'samanth': 10356, 'archaeological': 10357, 'fossils': 10358, 'conservationist': 10359, 'inthefieldindia': 10360, 'samyuktha': 10361, 'radhika': 10362, 'viswanathan': 10363, 'sugarcoat': 10364, 'pastry': 10365, 'chef': 10366, 'chefs': 10367, 'masterchef': 10368, 'kedar': 10369, 'nimkar': 10370, 'novelist': 10371, 'cartoonists': 10372, 'aniruddh': 10373, 'mahendra': 10374, 'chauhan': 10375, 'flo': 10376, 'tanvi': 10377, 'gowarikar': 10378, 'gowariker': 10379, 'revisit': 10380, 'dramas': 10381, 'musafir': 10382, 'themusafirstories': 10383, 'duo': 10384, 'waver': 10385, 'heirloom': 10386, 'bertelsmann': 10387, 'biifund': 10388, 'ankur': 10389, 'warikoo': 10390, 'celeb': 10391, 'preeta': 10392, 'sukthankar': 10393, 'thelabellife': 10394, 'qqnc': 10395, 'coupon': 10396, 'vl': 10397, 'udemyfreebies': 10398, 'udemyfreecourses': 10399, 'monetarily': 10400, 'diminish': 10401, 'outreach': 10402, 'findia': 10403, 'cheaper': 10404, 'yatra': 10405, 'mmt': 10406, 'azim': 10407, 'greed': 10408, 'callousness': 10409, 'residency': 10410, 'fortnight': 10411, 'nag': 10412, 'isp': 10413, 'breast': 10414, 'chilli': 10415, 'cave': 10416, 'celebrating': 10417, 'infections': 10418, 'pyrolitic': 10419, 'suv': 10420, 'grabbed': 10421, 'forcefully': 10422, 'ceiling': 10423, 'hissed': 10424, 'circumcise': 10425, 'remarkably': 10426, 'erupt': 10427, 'npnn': 10428, 'pakodanomics': 10429, 'consuming': 10430, 'poranki': 10431, 'wander': 10432, 'ordered': 10433, 'fry': 10434, 'broom': 10435, 'autos': 10436, 'dlf': 10437, 'merkel': 10438, 'macron': 10439, 'texas': 10440, 'texmati': 10441, 'jasmine': 10442, 'owned': 10443, 'accent': 10444, 'greatness': 10445, 'xo': 10446, 'lawn': 10447, 'pragati': 10448, 'ar': 10449, 'overwatch': 10450, 'cyjr': 10451, 'fraught': 10452, 'predilection': 10453, 'hinterlands': 10454, 'gatherer': 10455, 'bhils': 10456, 'gonds': 10457, 'santhals': 10458, 'herder': 10459, 'livestock': 10460, 'gujjars': 10461, 'extracted': 10462, 'plundered': 10463, 'scs': 10464, 'ritually': 10465, 'redressed': 10466, 'warp': 10467, 'slight': 10468, 'bourgeois': 10469, 'inherently': 10470, 'parrot': 10471, 'baccalaureate': 10472, 'theoretically': 10473, 'clerical': 10474, 'optical': 10475, 'photovoltaics': 10476, 'aarohi': 10477, 'creating': 10478, 'kn': 10479, 'satirist': 10480, 'passed': 10481, 'stellar': 10482, 'logon': 10483, 'saif': 10484, 'bugworks': 10485, 'carb': 10486, 'tencent': 10487, 'agtech': 10488, 'dentsu': 10489, 'aegis': 10490, 'finomena': 10491, 'tq': 10492, 'metaphor': 10493, 'qf': 10494, 'whop': 10495, 'humongous': 10496, 'curricula': 10497, 'reluctant': 10498, 'scimago': 10499, 'undergraduates': 10500, 'inadequate': 10501, 'depicts': 10502, 'disillusionment': 10503, 'sevis': 10504, 'tt': 10505, 'gamble': 10506, 'modpost': 10507, 'screenshots': 10508, 'improving': 10509, 'caution': 10510, 'tract': 10511, 'swabs': 10512, 'acute': 10513, 'preside': 10514, 'beacon': 10515, 'narain': 10516, 'speedy': 10517, 'njdg': 10518, 'sympathy': 10519, 'investors': 10520, 'lx': 10521, 'physiotherapist': 10522, 'shin': 10523, 'bunk': 10524, 'hostel': 10525, 'disparage': 10526, 'nut': 10527, 'espouse': 10528, 'booth': 10529, 'lance': 10530, 'prompts': 10531, 'inevitably': 10532, 'chuxing': 10533, 'hawker': 10534, 'rhyme': 10535, 'radius': 10536, 'relocate': 10537, 'mckinsey': 10538, 'zeebiz': 10539, 'lottery': 10540, 'grasim': 10541, 'sez': 10542, 'populace': 10543, 'cambodia': 10544, 'dole': 10545, 'screwed': 10546, 'unconfirmed': 10547, 'raipur': 10548, 'dadar': 10549, 'stn': 10550, 'malad': 10551, 'morcha': 10552, 'poorer': 10553, 'preparing': 10554, 'corrupts': 10555, 'molester': 10556, 'actress': 10557, 'mo': 10558, 'reception': 10559, 'vat': 10560, 'negotiation': 10561, 'zeenews': 10562, 'flop': 10563, 'reportedly': 10564, 'swag': 10565, 'multinationals': 10566, 'infotech': 10567, 'coca': 10568, 'aww': 10569, 'intro': 10570, 'scammer': 10571, 'grammatical': 10572, 'sos': 10573, 'nba': 10574, 'wm': 10575, 'humble': 10576, 'mishandling': 10577, 'billboard': 10578, 'signage': 10579, 'bygone': 10580, 'uncared': 10581, 'unattended': 10582, 'grammatically': 10583, 'handwrite': 10584, 'prick': 10585, 'candidly': 10586, 'effortless': 10587, 'artificially': 10588, 'hides': 10589, 'solace': 10590, 'unconditioned': 10591, 'extraordinariness': 10592, 'performer': 10593, 'overlook': 10594, 'behaving': 10595, 'joyful': 10596, 'shade': 10597, 'unconsciously': 10598, 'undo': 10599, 'pamper': 10600, 'preacher': 10601, 'aberration': 10602, 'hardships': 10603, 'collectors': 10604, 'ro': 10605, 'vishu': 10606, 'neglect': 10607, 'envision': 10608, 'caanprnrc': 10609, 'cellular': 10610, 'petitioner': 10611, 'reinforce': 10612, 'conferencing': 10613, 'jwala': 10614, 'gutta': 10615, 'anant': 10616, 'tinyowl': 10617, 'pivot': 10618, 'barclays': 10619, 'unveils': 10620, 'wotu': 10621, 'kae': 10622, 'furlenco': 10623, 'babychakra': 10624, 'coppre': 10625, 'ganesh': 10626, 'natarajan': 10627, 'chatongo': 10628, 'aadyah': 10629, 'dexter': 10630, 'shieldsquare': 10631, 'yumigo': 10632, 'rooter': 10633, 'ubiquity': 10634, 'infini': 10635, 'chatimity': 10636, 'kountmoney': 10637, 'acquihires': 10638, 'vmobo': 10639, 'upgrad': 10640, 'pyoopil': 10641, 'yaap': 10642, 'rainmaker': 10643, 'standstill': 10644, 'aint': 10645, 'heroin': 10646, 'vein': 10647, 'rehabilitation': 10648, 'protagonist': 10649, 'errands': 10650, 'xn': 10651, 'pmay': 10652, 'grameen': 10653, 'popularize': 10654, 'nbfcs': 10655, 'poem': 10656, 'turnover': 10657, 'longevity': 10658, 'microbiome': 10659, 'slr': 10660, 'rajnikanth': 10661, 'revolutionary': 10662, 'inhabitant': 10663, 'hari': 10664, 'decimate': 10665, 'dada': 10666, 'karl': 10667, 'marx': 10668, 'controller': 10669, 'flights': 10670, 'reckless': 10671, 'propel': 10672, 'aadharnama': 10673, 'friedman': 10674, 'edward': 10675, 'snowden': 10676, 'aadhaars': 10677, 'guild': 10678, 'madurai': 10679, 'chargesheet': 10680, 'overuse': 10681, 'telegraphindia': 10682, 'starvation': 10683, 'simmer': 10684, 'concise': 10685, 'unrelated': 10686, 'fa': 10687, 'systemic': 10688, 'systematic': 10689, 'rewrite': 10690, 'enactment': 10691, 'demolition': 10692, 'booklet': 10693, 'hump': 10694, 'phytochemical': 10695, 'terminology': 10696, 'dxxm': 10697, 'informative': 10698, 'rkp': 10699, 'nepotism': 10700, 'nl': 10701, 'oreilly': 10702, 'stash': 10703, 'utilized': 10704, 'saketgokhale': 10705, 'asadowaisi': 10706, 'extraaa': 10707, 'harsha': 10708, 'noted': 10709, 'hospitals': 10710, 'shoddy': 10711, 'organisations': 10712, 'soulmate': 10713, 'oxford': 10714, 'lalit': 10715, 'shave': 10716, 'harbour': 10717, 'handicraft': 10718, 'ihm': 10719, 'sangathan': 10720, 'cooperative': 10721, 'tolerable': 10722, 'stimulate': 10723, 'soak': 10724, 'maxi': 10725, 'curd': 10726, 'trainer': 10727, 'untill': 10728, 'lizol': 10729, 'deworm': 10730, 'drontal': 10731, 'redefine': 10732, 'loves': 10733, 'costa': 10734, 'redistribution': 10735, 'malaysia': 10736, 'betel': 10737, 'pletion': 10738, 'voucher': 10739, 'flattenthecurve': 10740, 'considerably': 10741, 'uphold': 10742, 'pledge': 10743, 'matriculate': 10744, 'contributed': 10745, 'wasted': 10746, 'eur': 10747, 'dsc': 10748, 'steadiness': 10749, 'aisi': 10750, 'jinder': 10751, 'wwe': 10752, 'xxgryxi': 10753, 'checked': 10754, 'parathe': 10755, 'paratha': 10756, 'queue': 10757, 'distraught': 10758, 'intently': 10759, 'gotta': 10760, 'saeed': 10761, 'kher': 10762, 'analogous': 10763, 'dissenting': 10764, 'russocentric': 10765, 'ukrainian': 10766, 'semitism': 10767, 'thug': 10768, 'cq': 10769, 'illustration': 10770, 'tycoon': 10771, 'untold': 10772, 'intrigue': 10773, 'priyanka': 10774, 'gurukul': 10775, 'sanyas': 10776, 'yogananda': 10777, 'authenticity': 10778, 'godmen': 10779, 'karat': 10780, 'skull': 10781, 'budge': 10782, 'swabhiman': 10783, 'funeral': 10784, 'microphone': 10785, 'subodh': 10786, 'operating': 10787, 'confrontation': 10788, 'vardhan': 10789, 'contender': 10790, 'protected': 10791, 'germ': 10792, 'elusive': 10793, 'deth': 10794, 'dual': 10795, 'purification': 10796, 'vogmask': 10797, 'cambridge': 10798, 'detergent': 10799, 'correction': 10800, 'purifying': 10801, 'nolan': 10802, 'glean': 10803, 'staggered': 10804, 'airforce': 10805, 'bomber': 10806, 'sink': 10807, 'farrier': 10808, 'chooses': 10809, 'plished': 10810, 'dutch': 10811, 'pragmatic': 10812, 'applaud': 10813, 'clemency': 10814, 'coward': 10815, 'rope': 10816, 'admiral': 10817, 'deject': 10818, 'schoolchildren': 10819, 'anticipation': 10820, 'condemns': 10821, 'fears': 10822, 'rom': 10823, 'sheriffs': 10824, 'malegaon': 10825, 'canteen': 10826, 'jorhat': 10827, 'nu': 10828, 'liberation': 10829, 'ufg': 10830, 'crawl': 10831, 'nowherethis': 10832, 'quasi': 10833, 'truant': 10834, 'impotent': 10835, 'reskilling': 10836, 'noble': 10837, 'martyrdom': 10838, 'overt': 10839, 'lforlove': 10840, 'namesake': 10841, 'cowardly': 10842, 'marginalized': 10843, 'unseasonal': 10844, 'badaun': 10845, 'sreenivasanjain': 10846, 'livelihood': 10847, 'anumayhem': 10848, 'trucker': 10849, 'eidgah': 10850, 'nomad': 10851, 'died': 10852, 'conspiracies': 10853, 'gadget': 10854, 'alien': 10855, 'deserter': 10856, 'entirety': 10857, 'infidelity': 10858, 'adultery': 10859, 'apj': 10860, 'backdrop': 10861, 'banner': 10862, 'shittiest': 10863, 'realty': 10864, 'developers': 10865, 'landline': 10866, 'kodaikanal': 10867, 'goer': 10868, 'manto': 10869, 'expulsion': 10870, 'facet': 10871, 'dumil': 10872, 'harvest': 10873, 'persuade': 10874, 'shocker': 10875, 'golwalkar': 10876, 'grooming': 10877, 'alkaline': 10878, 'tailor': 10879, 'covidtracking': 10880, 'paratively': 10881, 'assaduddin': 10882, 'dmk': 10883, 'niticentra': 10884, 'truthofgujarat': 10885, 'countercurrent': 10886, 'indiasamvad': 10887, 'indiafacts': 10888, 'shanknaad': 10889, 'lulz': 10890, 'tehelka': 10891, 'cobra': 10892, 'kafila': 10893, 'storypick': 10894, 'xinhua': 10895, 'milli': 10896, 'swarajya': 10897, 'mensxp': 10898, 'jazeera': 10899, 'qatari': 10900, 'washington': 10901, 'huffington': 10902, 'truereddit': 10903, 'depthhub': 10904, 'anandtech': 10905, 'wired': 10906, 'ars': 10907, 'technica': 10908, 'arstechnica': 10909, 'androidcentral': 10910, 'techmeme': 10911, 'popularmechanics': 10912, 'niscair': 10913, 'res': 10914, 'popularization': 10915, 'scirep': 10916, 'newscientist': 10917, 'cprindia': 10918, 'cfr': 10919, 'washigton': 10920, 'smithsonian': 10921, 'smithsonianmag': 10922, 'mainpage': 10923, 'prs': 10924, 'prsindia': 10925, 'researched': 10926, 'pew': 10927, 'pewresearch': 10928, 'conscious': 10929, 'newspapers': 10930, 'untouched': 10931, 'spots': 10932, 'sodhi': 10933, 'anumit': 10934, 'cp': 10935, 'unpredictable': 10936, 'measurement': 10937, 'pissay': 10938, 'motorsports': 10939, 'scholastic': 10940, 'joins': 10941, 'largest': 10942, 'pslv': 10943, 'risat': 10944, 'contingent': 10945, 'pistol': 10946, 'rifle': 10947, 'mirabai': 10948, 'archery': 10949, 'pilgrim': 10950, 'rishikesh': 10951, 'ss': 10952, 'babasaheb': 10953, 'pressreleasedisplay': 10954, 'prid': 10955, 'osapv': 10956, 'proportional': 10957, 'incharge': 10958, 'fema': 10959, 'policypeepul': 10960, 'successive': 10961, 'creature': 10962, 'nominate': 10963, 'dilute': 10964, 'static': 10965, 'stingy': 10966, 'bow': 10967, 'dynamism': 10968, 'toyota': 10969, 'nippon': 10970, 'precisely': 10971, 'ruthless': 10972, 'cibil': 10973, 'ibrahim': 10974, 'wannabe': 10975, 'affiliated': 10976, 'minion': 10977, 'hahaha': 10978, 'chidambaram': 10979, 'hypothetically': 10980, 'iitm': 10981, 'krc': 10982, 'pibarchive': 10983, 'enclaves': 10984, 'unabated': 10985, 'nepalese': 10986, 'propitious': 10987, 'infer': 10988, 'interacted': 10989, 'ddnews': 10990, 'uncensored': 10991, 'couples': 10992, 'reported': 10993, 'activities': 10994, 'pmo': 10995, 'academician': 10996, 'statistical': 10997, 'adoor': 10998, 'appoints': 10999, 'sympathizer': 11000, 'reads': 11001, 'closed': 11002, 'locals': 11003, 'lse': 11004, 'kgmoa': 11005, 'upward': 11006, 'piokyc': 11007, 'mufti': 11008, 'sayeed': 11009, 'mudra': 11010, 'awas': 11011, 'vigilantes': 11012, 'lahore': 11013, 'afzal': 11014, 'insolvency': 11015, 'hizbul': 11016, 'mujahideen': 11017, 'burhan': 11018, 'wani': 11019, 'casualty': 11020, 'hoax': 11021, 'nonpartisan': 11022, 'whatnot': 11023, 'exponential': 11024, 'subscribes': 11025, 'goli': 11026, 'maaro': 11027, 'gaddar': 11028, 'ye': 11029, 'sarcastic': 11030, 'ontario': 11031, 'raskindia': 11032, 'itemid': 11033, 'faulty': 11034, 'murmur': 11035, 'dhabi': 11036, 'hsbc': 11037, 'whistleblower': 11038, 'inflows': 11039, 'csgo': 11040, 'snollygoster': 11041, 'fiels': 11042, 'pillion': 11043, 'svp': 11044, 'adolescent': 11045, 'menace': 11046, 'addictive': 11047, 'meta': 11048, 'penal': 11049, 'xdu': 11050, 'oqcemeq': 11051, 'frupjmcorijv': 11052, 'wfpvvr': 11053, 'seemingly': 11054, 'nab': 11055, 'rigorous': 11056, 'mohsin': 11057, 'raza': 11058, 'erosion': 11059, 'jojo': 11060, 'villain': 11061, 'sita': 11062, 'directory': 11063, 'pliment': 11064, 'courtship': 11065, 'prostitute': 11066, 'karachi': 11067, 'param': 11068, 'venkaiah': 11069, 'ioc': 11070, 'unavailable': 11071, 'thunderpick': 11072, 'xbet': 11073, 'gora': 11074, 'ramdas': 11075, 'unified': 11076, 'shobhit': 11077, 'mehrotra': 11078, 'appropriately': 11079, 'fanfare': 11080, 'wellbeing': 11081, 'plantation': 11082, 'vichaar': 11083, 'showcasing': 11084, 'vampiric': 11085, 'extractive': 11086, 'brookings': 11087, 'windfall': 11088, 'onlinelibrary': 11089, 'wiley': 11090, 'doi': 11091, 'ajes': 11092, 'mechanization': 11093, 'disparity': 11094, 'fks': 11095, 'naxalites': 11096, 'tongia': 11097, 'kumaran': 11098, 'steve': 11099, 'chessboard': 11100, 'pander': 11101, 'idusl': 11102, 'buffett': 11103, 'jeweller': 11104, 'privately': 11105, 'mechatronics': 11106, 'oli': 11107, 'faction': 11108, 'rebrand': 11109, 'whataboutism': 11110, 'haha': 11111, 'overboard': 11112, 'pyaarekdhokhahai': 11113, 'valentine': 11114, 'eko': 11115, 'vatal': 11116, 'paksha': 11117, 'prestige': 11118, 'backseat': 11119, 'deceleration': 11120, 'walkie': 11121, 'talkie': 11122, 'firechats': 11123, 'delivers': 11124, 'antenna': 11125, 'carpentry': 11126, 'raam': 11127, 'tempert': 11128, 'homi': 11129, 'bhabha': 11130, 'classmate': 11131, 'famed': 11132, 'swastik': 11133, 'watchman': 11134, 'indifferent': 11135, 'saale': 11136, 'mu': 11137, 'pronounce': 11138, 'tarah': 11139, 'khaki': 11140, 'crossroad': 11141, 'finished': 11142, 'ux': 11143, 'admittedly': 11144, 'reclusive': 11145, 'inherent': 11146, 'fvzrt': 11147, 'trafford': 11148, 'edgbaston': 11149, 'wondering': 11150, 'rickshaws': 11151, 'hug': 11152, 'erotic': 11153, 'nudity': 11154, 'sycophancy': 11155, 'tiffin': 11156, 'vg': 11157, 'dens': 11158, 'litfest': 11159, 'outrun': 11160, 'buffalos': 11161, 'ycpr': 11162, 'ukage': 11163, 'sronmbufmtln': 11164, 'rivltu': 11165, 'nnaod': 11166, 'opcwblmp': 11167, 'vfvcjkdztthwn': 11168, 'kzcc': 11169, 'profitability': 11170, 'nikkei': 11171, 'subs': 11172, 'te': 11173, 'username': 11174, 'kagaz': 11175, 'bbl': 11176, 'vx': 11177, 'adopts': 11178, 'sideline': 11179, 'earphone': 11180, 'autumn': 11181, 'moto': 11182, 'outta': 11183, 'dega': 11184, 'stupidity': 11185, 'gitam': 11186, 'gfycat': 11187, 'outgo': 11188, 'elon': 11189, 'musk': 11190, 'bcg': 11191, 'jostle': 11192, 'aggression': 11193, 'rouse': 11194, 'noteworthy': 11195, 'diplomatic': 11196, 'fearful': 11197, 'pavilion': 11198, 'forbade': 11199, 'benign': 11200, 'punatsangchhu': 11201, 'kills': 11202, 'astra': 11203, 'releasing': 11204, 'kawal': 11205, 'launder': 11206, 'pmla': 11207, 'cognition': 11208, 'nozomi': 11209, 'okuhara': 11210, 'satyam': 11211, 'rgkkk': 11212, 'bhili': 11213, 'bhilodi': 11214, 'ramjas': 11215, 'omar': 11216, 'kvpy': 11217, 'feud': 11218, 'nusli': 11219, 'wadia': 11220, 'fakingnews': 11221, 'palika': 11222, 'nesl': 11223, 'sorrow': 11224, 'heretic': 11225, 'mahila': 11226, 'nothin': 11227, 'toaster': 11228, 'kokilaben': 11229, 'trigeminal': 11230, 'neuralgia': 11231, 'ssoidsp': 11232, 'deshgujarat': 11233, 'superintendent': 11234, 'fortunate': 11235, 'hafiz': 11236, 'subhas': 11237, 'uma': 11238, 'bharti': 11239, 'adhaar': 11240, 'statehood': 11241, 'nihal': 11242, 'shyam': 11243, 'robert': 11244, 'airports': 11245, 'saradha': 11246, 'vidhayak': 11247, 'bhokal': 11248, 'earthers': 11249, 'thinks': 11250, 'ratan': 11251, 'kelkar': 11252, 'avanti': 11253, 'houzz': 11254, 'girnar': 11255, 'quikr': 11256, 'zolo': 11257, 'hitouch': 11258, 'loantap': 11259, 'bessemer': 11260, 'mihup': 11261, 'flyrobe': 11262, 'inclov': 11263, 'abled': 11264, 'quintillion': 11265, 'renowala': 11266, 'dhobale': 11267, 'pragma': 11268, 'cropin': 11269, 'sophia': 11270, 'mediatek': 11271, 'lucideus': 11272, 'motilal': 11273, 'oswal': 11274, 'iaugmentor': 11275, 'daybox': 11276, 'nutanix': 11277, 'adda': 11278, 'sbricks': 11279, 'homecues': 11280, 'voonik': 11281, 'dekkoh': 11282, 'freecultr': 11283, 'ivanka': 11284, 'robots': 11285, 'diplomo': 11286, 'awtcdipcourse': 11287, 'mudi': 11288, 'varun': 11289, 'banana': 11290, 'leone': 11291, 'purulia': 11292, 'nindia': 11293, 'fanclub': 11294, 'cairn': 11295, 'exposition': 11296, 'marginalization': 11297, 'despair': 11298, 'mussolini': 11299, 'dbo': 11300, 'redditgetsdrawn': 11301, 'swagger': 11302, 'memorisation': 11303, 'verbatim': 11304, 'planner': 11305, 'robbed': 11306, 'voxya': 11307, 'poet': 11308, 'drudgery': 11309, 'xth': 11310, 'downfall': 11311, 'spyware': 11312, 'pegasus': 11313, 'flake': 11314, 'marketed': 11315, 'jsp': 11316, 'amrut': 11317, 'jnnurm': 11318, 'rggvy': 11319, 'deen': 11320, 'dayal': 11321, 'peo': 11322, 'urea': 11323, 'uip': 11324, 'caring': 11325, 'discloser': 11326, 'evms': 11327, 'sequel': 11328, 'modmail': 11329, 'modem': 11330, 'optimum': 11331, 'sensitization': 11332, 'fastag': 11333, 'blthw': 11334, 'sewerage': 11335, 'bhhcnj': 11336, 'lynn': 11337, 'mutation': 11338, 'markandey': 11339, 'katju': 11340, 'heading': 11341, 'unicef': 11342, 'haw': 11343, 'unreliable': 11344, 'breakingviews': 11345, 'sivananda': 11346, 'pai': 11347, 'variation': 11348, 'randomness': 11349, 'meteorology': 11350, 'thukde': 11351, 'avoids': 11352, 'misconduct': 11353, 'obc': 11354, 'malarial': 11355, 'naxalite': 11356, 'differentiation': 11357, 'delusional': 11358, 'kaam': 11359, 'tadipar': 11360, 'jumlabaaz': 11361, 'champani': 11362, 'nadani': 11363, 'tortured': 11364, 'nineteenth': 11365, 'hierarchical': 11366, 'fortress': 11367, 'outer': 11368, 'manika': 11369, 'batra': 11370, 'harishankar': 11371, 'parsai': 11372, 'opportunities': 11373, 'firework': 11374, 'jodhpuri': 11375, 'adr': 11376, 'kolkatta': 11377, 'vidyapith': 11378, 'prayag': 11379, 'parishad': 11380, 'toolbar': 11381, 'kaun': 11382, 'banega': 11383, 'crorepati': 11384, 'shabana': 11385, 'azmi': 11386, 'unsc': 11387, 'nam': 11388, 'gslv': 11389, 'sriharikota': 11390, 'technicaladvice': 11391, 'taxer': 11392, 'residents': 11393, 'capped': 11394, 'electrified': 11395, 'spate': 11396, 'minhaj': 11397, 'fatigue': 11398, 'shelf': 11399, 'jewellary': 11400, 'eta': 11401, 'fits': 11402, 'criteria': 11403, 'pinarayi': 11404, 'vijayan': 11405, 'navin': 11406, 'pattnaik': 11407, 'biju': 11408, 'foothill': 11409, 'garhwal': 11410, 'bqkvopwrm': 11411, 'tactics': 11412, 'accenture': 11413, 'emjrit': 11414, 'boycotting': 11415, 'msfkjkfh': 11416, 'dreadful': 11417, 'bej': 11418, 'ekiimy': 11419, 'amorphous': 11420, 'squabble': 11421, 'reactivate': 11422, 'antibjp': 11423, 'alleges': 11424, 'storms': 11425, 'rzf': 11426, 'regeneration': 11427, 'aazad': 11428, 'repetitive': 11429, 'procrastinating': 11430, 'percentile': 11431, 'iwckf': 11432, 'things': 11433, 'qwf': 11434, 'snowfall': 11435, 'mfhx': 11436, 'csbkdh': 11437, 'unfit': 11438, 'tout': 11439, 'dissolved': 11440, 'erection': 11441, 'depletion': 11442, 'fmob': 11443, 'eclipses': 11444, 'panchang': 11445, 'disproven': 11446, 'downgradings': 11447, 'chile': 11448, 'deterioration': 11449, 'indebtedness': 11450, 'postwar': 11451, 'uncharted': 11452, 'foresight': 11453, 'bob': 11454, 'lard': 11455, 'opine': 11456, 'outpaces': 11457, 'overreact': 11458, 'bizarrely': 11459, 'extremis': 11460, 'jeremy': 11461, 'warner': 11462, 'resold': 11463, 'reliant': 11464, 'icelandic': 11465, 'stm': 11466, 'mco': 11467, 'henry': 11468, 'waxman': 11469, 'congressional': 11470, 'thestreet': 11471, 'whos': 11472, 'fcir': 11473, 'cog': 11474, 'enablers': 11475, 'meltdown': 11476, 'hinge': 11477, 'fdsys': 11478, 'pkg': 11479, 'cyclical': 11480, 'pavlovian': 11481, 'explosion': 11482, 'dskdq': 11483, 'ratings': 11484, 'agencies': 11485, 'swayed': 11486, 'hawa': 11487, 'baazi': 11488, 'crucially': 11489, 'overhype': 11490, 'flzv': 11491, 'decjh': 11492, 'thameem': 11493, 'blew': 11494, 'prosthetic': 11495, 'specialized': 11496, 'pediatric': 11497, 'cardiology': 11498, 'untreatable': 11499, 'chitra': 11500, 'tirunal': 11501, 'alapuzha': 11502, 'advaidism': 11503, 'kmph': 11504, 'loosely': 11505, 'remade': 11506, 'chennaiyil': 11507, 'oru': 11508, 'naal': 11509, 'dkd': 11510, 'rushed': 11511, 'kilometers': 11512, 'prathapphotography': 11513, 'avestan': 11514, 'hymns': 11515, 'metaphysical': 11516, 'iranians': 11517, 'oxus': 11518, 'remnant': 11519, 'scythians': 11520, 'elamite': 11521, 'urartu': 11522, 'assyrian': 11523, 'ttle': 11524, 'nealy': 11525, 'collpase': 11526, 'collp': 11527, 'climatic': 11528, 'outbreaks': 11529, 'otl': 11530, 'khyber': 11531, 'sprung': 11532, 'intially': 11533, 'confederacy': 11534, 'assimilate': 11535, 'caused': 11536, 'conferdacy': 11537, 'tact': 11538, 'diplomacy': 11539, 'pastorialist': 11540, 'aslo': 11541, 'occured': 11542, 'vicea': 11543, 'puru': 11544, 'kuru': 11545, 'bharathas': 11546, 'meger': 11547, 'samithi': 11548, 'egalitarian': 11549, 'absorption': 11550, 'monarchical': 11551, 'alexander': 11552, 'moralized': 11553, 'nandas': 11554, 'mauryan': 11555, 'hatered': 11556, 'maurays': 11557, 'mahajanapada': 11558, 'arthashastra': 11559, 'elites': 11560, 'uniformity': 11561, 'regin': 11562, 'xnx': 11563, 'complex': 11564, 'unfamiliar': 11565, 'ppes': 11566, 'tableeghi': 11567, 'quarantined': 11568, 'preparedness': 11569, 'gospel': 11570, 'phenomenal': 11571, 'utilising': 11572, 'fvyodb': 11573, 'fallen': 11574, 'retains': 11575, 'kbviqvr': 11576, 'thekanikakapoor': 11577, 'yall': 11578, 'lotta': 11579, 'grandpa': 11580, 'uogv': 11581, 'irda': 11582, 'iiisla': 11583, 'proprietorship': 11584, 'refinance': 11585, 'mover': 11586, 'sincere': 11587, 'bruns': 11588, 'depute': 11589, 'pleasant': 11590, 'overthrown': 11591, 'zgs': 11592, 'normalization': 11593, 'termed': 11594, 'indiancitizenshiponline': 11595, 'naturalization': 11596, 'ordinarily': 11597, 'eleven': 11598, 'xii': 11599, 'eivymz': 11600, 'eliminated': 11601, 'satwik': 11602, 'chirag': 11603, 'vrtq': 11604, 'religiosity': 11605, 'proselytize': 11606, 'indic': 11607, 'devas': 11608, 'puja': 11609, 'continuity': 11610, 'practioners': 11611, 'durga': 11612, 'worshiped': 11613, 'sonnet': 11614, 'theologian': 11615, 'equidistance': 11616, 'singular': 11617, 'quran': 11618, 'eternal': 11619, 'damnation': 11620, 'goad': 11621, 'contradictory': 11622, 'heathens': 11623, 'undue': 11624, 'plcd': 11625, 'qlsrb': 11626, 'favorable': 11627, 'famine': 11628, 'misfire': 11629, 'reorient': 11630, 'wether': 11631, 'paycheck': 11632, 'slumdwellers': 11633, 'changasi': 11634, 'kyr': 11635, 'immunization': 11636, 'hmsjpdy': 11637, 'popularized': 11638, 'latin': 11639, 'kanjai': 11640, 'bazee': 11641, 'pulu': 11642, 'anglicise': 11643, 'silchar': 11644, 'uyfqepncot': 11645, 'qvn': 11646, 'yti': 11647, 'mapal': 11648, 'kangjeibung': 11649, 'imphal': 11650, 'manipuri': 11651, 'sherer': 11652, 'mdh': 11653, 'originated': 11654, 'dnahkh': 11655, 'kyc': 11656, 'heo': 11657, 'facepaint': 11658, 'saste': 11659, 'anarchists': 11660, 'cameo': 11661, 'hallway': 11662, 'dcqkjk': 11663, 'retort': 11664, 'sadden': 11665, 'trn': 11666, 'primetime': 11667, 'caricature': 11668, 'gbn': 11669, 'kfi': 11670, 'flaws': 11671, 'zhz': 11672, 'managed': 11673, 'sessionwiseresults': 11674, 'vsessionno': 11675, 'shaheenbagh': 11676, 'frazer': 11677, 'ralpharakal': 11678, 'iebengaluru': 11679, 'hominems': 11680, 'disagreeable': 11681, 'franca': 11682, 'lingua': 11683, 'presenting': 11684, 'knowing': 11685, 'headlines': 11686, 'csekkx': 11687, 'oled': 11688, 'rear': 11689, 'fridge': 11690, 'hfqm': 11691, 'productprice': 11692, 'differences': 11693, 'nehruji': 11694, 'unquestionable': 11695, 'bjprajnathsingh': 11696, 'wxdn': 11697, 'cix': 11698, 'ebt': 11699, 'hearten': 11700, 'enthralled': 11701, 'scientificamerican': 11702, 'realist': 11703, 'defied': 11704, 'appal': 11705, 'mindlessly': 11706, 'temperament': 11707, 'lethargic': 11708, 'hells': 11709, 'clapping': 11710, 'covind': 11711, 'fng': 11712, 'branding': 11713, 'bigots': 11714, 'groomed': 11715, 'varied': 11716, 'horroscope': 11717, 'matrimonial': 11718, 'dissatisfy': 11719, 'picky': 11720, 'weekday': 11721, 'realtive': 11722, 'marriageable': 11723, 'skew': 11724, 'bojack': 11725, 'ctai': 11726, 'hwkhq': 11727, 'girlfriends': 11728, 'introversion': 11729, 'bax': 11730, 'choosing': 11731, 'pessimistic': 11732, 'damocles': 11733, 'sword': 11734, 'whome': 11735, 'pp': 11736, 'stagflation': 11737, 'deter': 11738, 'outward': 11739, 'uvt': 11740, 'coffin': 11741, 'outage': 11742, 'oligarchs': 11743, 'flpy': 11744, 'restrictive': 11745, 'felky': 11746, 'recieve': 11747, 'transferwise': 11748, 'borderless': 11749, 'dkfezy': 11750, 'dfx': 11751, 'askindiayoung': 11752, 'gtx': 11753, 'components': 11754, 'candles': 11755, 'flashlights': 11756, 'javdekar': 11757, 'dcmbx': 11758, 'candlelight': 11759, 'unparalleled': 11760, 'autocrats': 11761, 'glue': 11762, 'persuasive': 11763, 'unenthusiastically': 11764, 'munalization': 11765, 'fvxn': 11766, 'jewar': 11767, 'millionaire': 11768, 'wnbh': 11769, 'iekvhyjoucfjwhajo': 11770, 'manchester': 11771, 'vyk': 11772, 'regularity': 11773, 'apeu': 11774, 'encyclopedias': 11775, 'crzhie': 11776, 'subjects': 11777, 'loving': 11778, 'cushions': 11779, 'torn': 11780, 'cpopvo': 11781, 'svh': 11782, 'igtx': 11783, 'vnlj': 11784, 'apprised': 11785, 'subsist': 11786, 'supervisory': 11787, 'aggregation': 11788, 'databases': 11789, 'granular': 11790, 'anonymised': 11791, 'impairs': 11792, 'quicker': 11793, 'localise': 11794, 'classifies': 11795, 'briefs': 11796, 'explainers': 11797, 'xbejezs': 11798, 'rsocddsvi': 11799, 'fvuwyosq': 11800, 'tock': 11801, 'faprl': 11802, 'respecting': 11803, 'selected': 11804, 'curations': 11805, 'eva': 11806, 'weeb': 11807, 'samurai': 11808, 'champloo': 11809, 'nujabes': 11810, 'storytelling': 11811, 'mugen': 11812, 'jin': 11813, 'fuu': 11814, 'shonen': 11815, 'unsuccessful': 11816, 'knowns': 11817, 'photoshoots': 11818, 'belonging': 11819, 'edited': 11820, 'gdwwd': 11821, 'awxgxzz': 11822, 'btj': 11823, 'wayfarer': 11824, 'sn': 11825, 'plttc': 11826, 'ekw': 11827, 'askindiahelp': 11828, 'gil': 11829, 'planted': 11830, 'ukxh': 11831, 'vigyan': 11832, 'prasar': 11833, 'vigyanprasar': 11834, 'vimana': 11835, 'envoy': 11836, 'nabarro': 11837, 'moved': 11838, 'impromptu': 11839, 'hongkong': 11840, 'breeding': 11841, 'inorder': 11842, 'vidoes': 11843, 'unkills': 11844, 'superman': 11845, 'monotonous': 11846, 'refute': 11847, 'batshit': 11848, 'rewire': 11849, 'atleat': 11850, 'prey': 11851, 'pretentious': 11852, 'quoran': 11853, 'twisted': 11854, 'quarrel': 11855, 'mumble': 11856, 'sect': 11857, 'paragraphs': 11858, 'confronted': 11859, 'exclusivism': 11860, 'absolutism': 11861, 'pious': 11862, 'gestate': 11863, 'confabulation': 11864, 'ekjgwb': 11865, 'wars': 11866, 'weapons': 11867, 'audacious': 11868, 'dfccw': 11869, 'insults': 11870, 'sudhir': 11871, 'rofl': 11872, 'lapdog': 11873, 'busride': 11874, 'electect': 11875, 'zd': 11876, 'dtvliq': 11877, 'pinned': 11878, 'rdtx': 11879, 'tzpm': 11880, 'fde': 11881, 'xix': 11882, 'qrpuzpm': 11883, 'acf': 11884, 'beda': 11885, 'xt': 11886, 'qy': 11887, 'obedience': 11888, 'rsa': 11889, 'zdzfcdgpl': 11890, 'returnofkings': 11891, 'aybl': 11892, 'arca': 11893, 'lowepro': 11894, 'protactic': 11895, 'feisol': 11896, 'dslrs': 11897, 'nikkor': 11898, 'lenses': 11899, 'hibernate': 11900, 'parallely': 11901, 'skillset': 11902, 'dvc': 11903, 'crystal': 11904, 'chargeable': 11905, 'ought': 11906, 'concessionally': 11907, 'dxmoqt': 11908, 'assistancehelp': 11909, 'washermanpet': 11910, 'insidestory': 11911, 'challenges': 11912, 'battling': 11913, 'usable': 11914, 'spodoptera': 11915, 'frugiperda': 11916, 'subtropical': 11917, 'sorghum': 11918, 'millet': 11919, 'yemen': 11920, 'malignant': 11921, 'khemo': 11922, 'borewell': 11923, 'sprout': 11924, 'palari': 11925, 'parmeshwar': 11926, 'preliminary': 11927, 'hectare': 11928, 'ha': 11929, 'ranga': 11930, 'srikakulam': 11931, 'vizianagaram': 11932, 'poultry': 11933, 'sudheer': 11934, 'ydpq': 11935, 'werent': 11936, 'irish': 11937, 'reapply': 11938, 'ffvwej': 11939, 'tripathi': 11940, 'husain': 11941, 'dalwai': 11942, 'speakforme': 11943, 'speakformeindia': 11944, 'xpspo': 11945, 'taxes': 11946, 'hours': 11947, 'citys': 11948, 'activation': 11949, 'hyprocrites': 11950, 'smh': 11951, 'tranaction': 11952, 'talktime': 11953, 'sue': 11954, 'extorting': 11955, 'ilfs': 11956, 'consolidation': 11957, 'multiplying': 11958, 'mistrust': 11959, 'queens': 11960, 'imaginary': 11961, 'intrinsic': 11962, 'leveraged': 11963, 'skeleton': 11964, 'tracing': 11965, 'walla': 11966, 'microeconomic': 11967, 'izzat': 11968, 'fupeo': 11969, 'puting': 11970, 'took': 11971, 'stimulation': 11972, 'selector': 11973, 'ecyjp': 11974, 'introducing': 11975, 'eradication': 11976, 'mercurial': 11977, 'ysq': 11978, 'coaster': 11979, 'procrastination': 11980, 'dearly': 11981, 'epiphany': 11982, 'tantrum': 11983, 'steadily': 11984, 'percolate': 11985, 'consequences': 11986, 'disinclination': 11987, 'slothfulness': 11988, 'unskilful': 11989, 'dissect': 11990, 'subtopics': 11991, 'musicians': 11992, 'ntn': 11993, 'pkl': 11994, 'wstf': 11995, 'leagues': 11996, 'tinkerer': 11997, 'raspberry': 11998, 'dns': 11999, 'blocker': 12000, 'pihole': 12001, 'alexa': 12002, 'nodemcu': 12003, 'homekit': 12004, 'jailbreak': 12005, 'binations': 12006, 'jtpf': 12007, 'exploring': 12008, 'fnn': 12009, 'mosques': 12010, 'pmz': 12011, 'debuts': 12012, 'newsmaker': 12013, 'gent': 12014, 'sexes': 12015, 'uhcq': 12016, 'journos': 12017, 'godhra': 12018, 'noughties': 12019, 'geh': 12020, 'nonfiction': 12021, 'returning': 12022, 'lrkfnd': 12023, 'popularise': 12024, 'incubated': 12025, 'sixteen': 12026, 'acheive': 12027, 'vividly': 12028, 'vigorously': 12029, 'wg': 12030, 'ebuika': 12031, 'bnovyo': 12032, 'manali': 12033, 'shzg': 12034, 'mv': 12035, 'kazrfg': 12036, 'panopticon': 12037, 'undermines': 12038, 'governmental': 12039, 'intrusion': 12040, 'proportionality': 12041, 'entrust': 12042, 'unionisation': 12043, 'categorise': 12044, 'encourge': 12045, 'admin': 12046, 'mrs': 12047, 'mvuh': 12048, 'frickin': 12049, 'etca': 12050, 'ecta': 12051, 'fym': 12052, 'iistindian': 12053, 'xlis': 12054, 'shethepeople': 12055, 'jobsforher': 12056, 'amity': 12057, 'pressclippings': 12058, 'pressdetails': 12059, 'leela': 12060, 'adgully': 12061, 'kakkar': 12062, 'dave': 12063, 'shortsforwinter': 12064, 'whiteshell': 12065, 'provincial': 12066, 'manitoba': 12067, 'xvizyuc': 12068, 'adeptweddingphotography': 12069, 'lauderdale': 12070, 'istockphoto': 12071, 'cheerful': 12072, 'rashmi': 12073, 'pande': 12074, 'harjinder': 12075, 'diversevoices': 12076, 'harjinde': 12077, 'wcmyvzooy': 12078, 'gambler': 12079, 'clz': 12080, 'nrn': 12081, 'nsgt': 12082, 'monkey': 12083, 'pigeon': 12084, 'retrograde': 12085, 'mercury': 12086, 'photographic': 12087, 'auntie': 12088, 'chik': 12089, 'pea': 12090, 'channa': 12091, 'dosas': 12092, 'elpy': 12093, 'emacs': 12094, 'guzzler': 12095, 'intellij': 12096, 'tomato': 12097, 'unremarkable': 12098, 'atcz': 12099, 'yesterdays': 12100, 'nonnews': 12101, 'bbcs': 12102, 'gargada': 12103, 'engrave': 12104, 'listened': 12105, 'milia': 12106, 'idiocy': 12107, 'risen': 12108, 'celestial': 12109, 'terribly': 12110, 'epileptic': 12111, 'offspring': 12112, 'idolize': 12113, 'godless': 12114, 'sqgj': 12115, 'photoid': 12116, 'imgsize': 12117, 'resizemode': 12118, 'wildly': 12119, 'nimbu': 12120, 'gana': 12121, 'bajana': 12122, 'nachna': 12123, 'ambience': 12124, 'bolo': 12125, 'bkvjui': 12126, 'timid': 12127, 'defines': 12128, 'resent': 12129, 'timidity': 12130, 'hindsight': 12131, 'uniformly': 12132, 'chide': 12133, 'avoidable': 12134, 'disassociate': 12135, 'crackdown': 12136, 'vitriolic': 12137, 'ineptitude': 12138, 'kgm': 12139, 'backround': 12140, 'timeframe': 12141, 'nis': 12142, 'gvglnfo': 12143, 'stating': 12144, 'nodal': 12145, 'xrw': 12146, 'svq': 12147, 'iya': 12148, 'deutsches': 12149, 'aged': 12150, 'nodded': 12151, 'planck': 12152, 'heisenberg': 12153, 'einstein': 12154, 'leibnitz': 12155, 'mathematician': 12156, 'depiction': 12157, 'puzzled': 12158, 'unfurled': 12159, 'shloka': 12160, 'munis': 12161, 'rishis': 12162, 'interject': 12163, 'ramanujan': 12164, 'skirt': 12165, 'sloka': 12166, 'sanatan': 12167, 'slokas': 12168, 'misplace': 12169, 'xir': 12170, 'sns': 12171, 'zrlg': 12172, 'motherfucking': 12173, 'standards': 12174, 'wdtq': 12175, 'vseni': 12176, 'vjt': 12177, 'aboejho': 12178, 'cidz': 12179, 'symbiosis': 12180, 'adversely': 12181, 'alumni': 12182, 'scmc': 12183, 'reoj': 12184, 'guccounter': 12185, 'mujra': 12186, 'theindian': 12187, 'bestofindia': 12188, 'incredibleindia': 12189, 'atheism': 12190, 'indianautos': 12191, 'indianfitness': 12192, 'lgbtindia': 12193, 'oldindia': 12194, 'republicofindia': 12195, 'viwa': 12196, 'indianfood': 12197, 'indianbands': 12198, 'icm': 12199, 'ipm': 12200, 'indiancinema': 12201, 'indiareads': 12202, 'desiads': 12203, 'indiangaming': 12204, 'desihumor': 12205, 'indianpics': 12206, 'wtfindia': 12207, 'fieldhockey': 12208, 'indiansports': 12209, 'babe': 12210, 'indianbabes': 12211, 'uw': 12212, 'myths': 12213, 'zameen': 12214, 'gdwhfk': 12215, 'homesick': 12216, 'killer': 12217, 'relaxant': 12218, 'geared': 12219, 'physiotherapy': 12220, 'vertebrae': 12221, 'ankylose': 12222, 'wrack': 12223, 'nqk': 12224, 'wfbhx': 12225, 'evf': 12226, 'ilqqukkjaql': 12227, 'assassinate': 12228, 'vindictive': 12229, 'doctored': 12230, 'testify': 12231, 'vanzhara': 12232, 'perch': 12233, 'bangaru': 12234, 'jay': 12235, 'asthana': 12236, 'yediyurappa': 12237, 'kuldeep': 12238, 'sengar': 12239, 'sakshi': 12240, 'judaical': 12241, 'favoritism': 12242, 'sudha': 12243, 'bharadwaj': 12244, 'ferreira': 12245, 'vernon': 12246, 'gonsalves': 12247, 'revocation': 12248, 'pansare': 12249, 'jayant': 12250, 'sitharamanas': 12251, 'nitin': 12252, 'gadkari': 12253, 'chandramani': 12254, 'rioter': 12255, 'milium': 12256, 'bhu': 12257, 'sirisena': 12258, 'teleprompter': 12259, 'fudge': 12260, 'mishandle': 12261, 'hoot': 12262, 'mukul': 12263, 'narada': 12264, 'shardha': 12265, 'withdrawing': 12266, 'nirav': 12267, 'mehul': 12268, 'vyapam': 12269, 'suplus': 12270, 'onl': 12271, 'enc': 12272, 'urbs': 12273, 'idylic': 12274, 'bolster': 12275, 'angst': 12276, 'oldie': 12277, 'arcane': 12278, 'abortion': 12279, 'spiel': 12280, 'millennial': 12281, 'fundamentalism': 12282, 'elxn': 12283, 'atleeast': 12284, 'forte': 12285, 'hwhj': 12286, 'jumping': 12287, 'mehmood': 12288, 'pracha': 12289, 'iacabba': 12290, 'kc': 12291, 'chaliyam': 12292, 'pmqxodt': 12293, 'gs': 12294, 'photogenic': 12295, 'iso': 12296, 'wjsn': 12297, 'innocence': 12298, 'malign': 12299, 'cef': 12300, 'becauselets': 12301, 'veheard': 12302, 'rg': 12303, 'troublesome': 12304, 'capturing': 12305, 'dgsy': 12306, 'atrocities': 12307, 'increasing': 12308, 'taser': 12309, 'windows': 12310, 'wheeler': 12311, 'inebriate': 12312, 'ond': 12313, 'gtqfojro': 12314, 'trending': 12315, 'sells': 12316, 'sweets': 12317, 'pertain': 12318, 'uncalled': 12319, 'popularised': 12320, 'devotees': 12321, 'flout': 12322, 'coronajihad': 12323, 'ftltyk': 12324, 'shocking': 12325, 'router': 12326, 'invertors': 12327, 'up': 12328, 'microtek': 12329, 'npscience': 12330, 'roomate': 12331, 'fiance': 12332, 'duck': 12333, 'swan': 12334, 'figurine': 12335, 'hb': 12336, 'weddingrelationship': 12337, 'antecedent': 12338, 'akademi': 12339, 'wczkr': 12340, 'evaders': 12341, 'qj': 12342, 'xshiwsunr': 12343, 'tpo': 12344, 'zzqgrtsqeodh': 12345, 'ztwna': 12346, 'intial': 12347, 'fueabb': 12348, 'hazard': 12349, 'mfr': 12350, 'madgaon': 12351, 'irctc': 12352, 'exp': 12353, 'whereismytrain': 12354, 'cstm': 12355, 'samvidhanzindabad': 12356, 'sitter': 12357, 'amputate': 12358, 'sukhdev': 12359, 'astray': 12360, 'munalize': 12361, 'participated': 12362, 'underclothes': 12363, 'eureka': 12364, 'kaka': 12365, 'instigation': 12366, 'samvidhan': 12367, 'bharo': 12368, 'dilli': 12369, 'chalo': 12370, 'ecqwvt': 12371, 'politoon': 12372, 'sealed': 12373, 'vejaucmfkklih': 12374, 'zr': 12375, 'vufel': 12376, 'disorganization': 12377, 'zeal': 12378, 'unaffected': 12379, 'indentation': 12380, 'tuples': 12381, 'dictionary': 12382, 'optionally': 12383, 'alternatively': 12384, 'youtuber': 12385, 'oop': 12386, 'derek': 12387, 'banas': 12388, 'ple': 12389, 'iterators': 12390, 'interface': 12391, 'calculator': 12392, 'suitably': 12393, 'parse': 12394, 'jbg': 12395, 'astronomically': 12396, 'sahab': 12397, 'disgrace': 12398, 'inhumane': 12399, 'muddle': 12400, 'skulduggery': 12401, 'derogatory': 12402, 'overtone': 12403, 'debilitation': 12404, 'zealotry': 12405, 'bookkeeper': 12406, 'interpreting': 12407, 'uninvolved': 12408, 'eric': 12409, 'ellis': 12410, 'uncivil': 12411, 'obfuscation': 12412, 'cancerous': 12413, 'officialdom': 12414, 'olympian': 12415, 'bedevil': 12416, 'nabob': 12417, 'malfunction': 12418, 'misgovernance': 12419, 'unfinished': 12420, 'myriad': 12421, 'lant': 12422, 'pritchett': 12423, 'brighter': 12424, 'tumorous': 12425, 'placent': 12426, 'corroborate': 12427, 'deed': 12428, 'fruition': 12429, 'jpql': 12430, 'dvr': 12431, 'avep': 12432, 'orbit': 12433, 'scripture': 12434, 'chn': 12435, 'jap': 12436, 'nztwo': 12437, 'gc': 12438, 'djosamabinladen': 12439, 'mitron': 12440, 'floatingducks': 12441, 'takenama': 12442, 'sushmaswaraj': 12443, 'alphaq': 12444, 'fmxz': 12445, 'sanaullah': 12446, 'pained': 12447, 'pragyas': 12448, 'lil': 12449, 'eaa': 12450, 'shouting': 12451, 'slogans': 12452, 'complexion': 12453, 'nkop': 12454, 'marching': 12455, 'unexpected': 12456, 'spun': 12457, 'thoroughfare': 12458, 'hater': 12459, 'om': 12460, 'namah': 12461, 'shivay': 12462, 'imprint': 12463, 'unsafe': 12464, 'fahqeu': 12465, 'qsfy': 12466, 'afvkwfiyq': 12467, 'segregations': 12468, 'xqxbjx': 12469, 'opvpgzgf': 12470, 'statistics': 12471, 'kormangla': 12472, 'empowered': 12473, 'reassure': 12474, 'thalis': 12475, 'zealous': 12476, 'scamming': 12477, 'frayed': 12478, 'dkjs': 12479, 'marendra': 12480, 'nodi': 12481, 'missing': 12482, 'ladies': 12483, 'epsrc': 12484, 'jtwnmh': 12485, 'demolish': 12486, 'falsehood': 12487, 'rafales': 12488, 'achieves': 12489, 'nauseum': 12490, 'jhumritalaiyya': 12491, 'infuriate': 12492, 'saurav': 12493, 'jha': 12494, 'radiance': 12495, 'mythbusting': 12496, 'deprives': 12497, 'conceive': 12498, 'asrs': 12499, 'menced': 12500, 'saraswat': 12501, 'slat': 12502, 'unguided': 12503, 'jas': 12504, 'demonstrator': 12505, 'flightglobal': 12506, 'euroradar': 12507, 'nears': 12508, 'captor': 12509, 'enables': 12510, 'inordinate': 12511, 'subsystems': 12512, 'heavier': 12513, 'jammer': 12514, 'inflight': 12515, 'refuel': 12516, 'interceptor': 12517, 'legged': 12518, 'petently': 12519, 'fearsome': 12520, 'dogfighter': 12521, 'aerodynamic': 12522, 'bahrain': 12523, 'intuitive': 12524, 'cockpit': 12525, 'situational': 12526, 'triumphs': 12527, 'specification': 12528, 'seattletimes': 12529, 'nwsource': 12530, 'slug': 12531, 'pensated': 12532, 'offset': 12533, 'flew': 12534, 'theregister': 12535, 'decidedly': 12536, 'vanityfair': 12537, 'aero': 12538, 'gnat': 12539, 'underwhelming': 12540, 'bison': 12541, 'jaguar': 12542, 'nav': 12543, 'tkstales': 12544, 'navigation': 12545, 'satisfactorily': 12546, 'livefistdefence': 12547, 'posite': 12548, 'airframe': 12549, 'reduces': 12550, 'carriage': 12551, 'airbus': 12552, 'fbw': 12553, 'impound': 12554, 'coun': 12555, 'hgo': 12556, 'demolishing': 12557, 'falsehoods': 12558, 'preoccupy': 12559, 'conspicuous': 12560, 'antinationalistic': 12561, 'irked': 12562, 'magnificient': 12563, 'putrid': 12564, 'valiant': 12565, 'vir': 12566, 'bravely': 12567, 'fungi': 12568, 'fern': 12569, 'lizard': 12570, 'crow': 12571, 'insi': 12572, 'casualities': 12573, 'admirable': 12574, 'kitchens': 12575, 'congresswoman': 12576, 'abridged': 12577, 'postgrads': 12578, 'oxdc': 12579, 'artshumanities': 12580, 'tivks': 12581, 'sadnesssolutions': 12582, 'cosmic': 12583, 'mumbo': 12584, 'jumbo': 12585, 'cql': 12586, 'propagating': 12587, 'eesdr': 12588, 'complications': 12589, 'unwinding': 12590, 'earmarking': 12591, 'cyclist': 12592, 'continuation': 12593, 'contingency': 12594, 'fuwpea': 12595, 'ysr': 12596, 'flourish': 12597, 'fge': 12598, 'weakened': 12599, 'tighten': 12600, 'yelo': 12601, 'deconstruction': 12602, 'pesa': 12603, 'foodtech': 12604, 'tutor': 12605, 'aif': 12606, 'mapmyindia': 12607, 'vidteq': 12608, 'videomaps': 12609, 'fretting': 12610, 'xpsc': 12611, 'videoshooting': 12612, 'photographs': 12613, 'xua': 12614, 'lush': 12615, 'thestoryofindia': 12616, 'diversify': 12617, 'btc': 12618, 'exenses': 12619, 'interset': 12620, 'muthoot': 12621, 'pays': 12622, 'jppx': 12623, 'niceguys': 12624, 'madlads': 12625, 'loseit': 12626, 'ikwjy': 12627, 'rsc': 12628, 'slips': 12629, 'credible': 12630, 'ftra': 12631, 'lasting': 12632, 'surf': 12633, 'epub': 12634, 'libreoffice': 12635, 'hdmi': 12636, 'distro': 12637, 'starkly': 12638, 'dpmgmj': 12639, 'hrs': 12640, 'pvwt': 12641, 'mst': 12642, 'gelato': 12643, 'grin': 12644, 'ytpl': 12645, 'technologynp': 12646, 'faint': 12647, 'ignite': 12648, 'ceoc': 12649, 'officio': 12650, 'orders': 12651, 'rkzpksumdgtm': 12652, 'zql': 12653, 'zvshl': 12654, 'earthporn': 12655, 'msh': 12656, 'hungama': 12657, 'uploaded': 12658, 'vimeo': 12659, 'dailymotion': 12660, 'matthewfeargrieve': 12661, 'matthew': 12662, 'feargrieve': 12663, 'aec': 12664, 'vhuq': 12665, 'ayyub': 12666, 'exitf': 12667, 'bm': 12668, 'stjc': 12669, 'wdaq': 12670, 'gfjq': 12671, 'khjp': 12672, 'dxfjbegetu': 12673, 'opdy': 12674, 'hiaojbehjddm': 12675, 'coughing': 12676, 'gpsc': 12677, 'handwash': 12678, 'lge': 12679, 'handshake': 12680, 'megapixl': 12681, 'gmap': 12682, 'closest': 12683, 'ced': 12684, 'bcc': 12685, 'baf': 12686, 'fhcrkj': 12687, 'gety': 12688, 'ftiqit': 12689, 'carrom': 12690, 'ludo': 12691, 'remembering': 12692, 'lefts': 12693, 'epcvl': 12694, 'againt': 12695, 'opposes': 12696, 'mdrwtee': 12697, 'asiasociety': 12698, 'arunachal': 12699, 'bdtykf': 12700, 'backstage': 12701, 'yakshagana': 12702, 'bajpe': 12703, 'sed': 12704, 'presume': 12705, 'hg': 12706, 'xm': 12707, 'bachhan': 12708, 'geolocation': 12709, 'recon': 12710, 'bkceku': 12711, 'rmr': 12712, 'uew': 12713, 'yngb': 12714, 'orzl': 12715, 'lop': 12716, 'tlzf': 12717, 'ymw': 12718, 'czd': 12719, 'lrol': 12720, 'smalll': 12721, 'eec': 12722, 'parenthood': 12723, 'fatherhood': 12724, 'qo': 12725, 'stofeht': 12726, 'raamayan': 12727, 'lolipops': 12728, 'toss': 12729, 'lolipop': 12730, 'mands': 12731, 'fuckup': 12732, 'cowpiss': 12733, 'cowdung': 12734, 'dung': 12735, 'sciencealert': 12736, 'pfq': 12737, 'raamayanmahabharat': 12738, 'pmcares': 12739, 'lijo': 12740, 'effortlessly': 12741, 'bgm': 12742, 'acappela': 12743, 'bedlam': 12744, 'dkzbb': 12745, 'fst': 12746, 'heel': 12747, 'spicestyle': 12748, 'nea': 12749, 'enabler': 12750, 'acp': 12751, 'pte': 12752, 'nextgen': 12753, 'sme': 12754, 'uberpool': 12755, 'lettersofnote': 12756, 'dime': 12757, 'deorah': 12758, 'rv': 12759, 'disrupted': 12760, 'kiosk': 12761, 'myfbssith': 12762, 'askindiaare': 12763, 'colours': 12764, 'gkrc': 12765, 'fgh': 12766, 'pkvfka': 12767, 'smqs': 12768, 'barbaric': 12769, 'lathicharge': 12770, 'jamiaprotest': 12771, 'nsui': 12772, 'vuh': 12773, 'entrant': 12774, 'twimg': 12775, 'qemiuceaancli': 12776, 'vmmat': 12777, 'ballpark': 12778, 'repurcussions': 12779, 'incur': 12780, 'lumpsum': 12781, 'brothers': 12782, 'unbelievably': 12783, 'tragic': 12784, 'evocation': 12785, 'asinine': 12786, 'apolitical': 12787, 'irreversible': 12788, 'eky': 12789, 'alankrita': 12790, 'bize': 12791, 'xbm': 12792, 'czon': 12793, 'pangong': 12794, 'tso': 12795, 'gtahkeu': 12796, 'deafen': 12797, 'sander': 12798, 'deafening': 12799, 'sanders': 12800, 'doused': 12801, 'qgkdxhlgfdcp': 12802, 'ejovcx': 12803, 'bym': 12804, 'tigresses': 12805, 'panther': 12806, 'sma': 12807, 'dvrc': 12808, 'khanmab': 12809, 'shikhadalmia': 12810, 'atlanta': 12811, 'atlagainstcaa': 12812, 'mohamed': 12813, 'ansari': 12814, 'pradyu': 12815, 'ithefarhan': 12816, 'telangan': 12817, 'kaaashif': 12818, 'nizamud': 12819, 'philadelphia': 12820, 'euc': 12821, 'collg': 12822, 'dampener': 12823, 'blfrft': 12824, 'geographic': 12825, 'ylvuqbd': 12826, 'prediabetic': 12827, 'calorie': 12828, 'healthifyme': 12829, 'evk': 12830, 'bitrate': 12831, 'interlace': 12832, 'pixelation': 12833, 'costlier': 12834, 'bmk': 12835, 'protestor': 12836, 'verandah': 12837, 'cordoned': 12838, 'kharpora': 12839, 'banderpora': 12840, 'cordon': 12841, 'bullets': 12842, 'mir': 12843, 'ratniporapulwama': 12844, 'greaterkashmir': 12845, 'oqp': 12846, 'bxqw': 12847, 'ammunition': 12848, 'lashkar': 12849, 'tayyaba': 12850, 'gousia': 12851, 'astan': 12852, 'mohallah': 12853, 'ahmed': 12854, 'shergojri': 12855, 'bandipore': 12856, 'plices': 12857, 'pelting': 12858, 'attacked': 12859, 'moar': 12860, 'andromeda': 12861, 'dandeli': 12862, 'vxa': 12863, 'wwnay': 12864, 'eic': 12865, 'rijijus': 12866, 'shows': 12867, 'triggers': 12868, 'wgq': 12869, 'ife': 12870, 'nfn': 12871, 'qeo': 12872, 'autobiographies': 12873, 'wpj': 12874, 'thriller': 12875, 'ipr': 12876, 'kpc': 12877, 'nkz': 12878, 'nlsyluj': 12879, 'rivalry': 12880, 'discusssion': 12881, 'apq': 12882, 'qyn': 12883, 'nonpoliticalmarried': 12884, 'columnists': 12885, 'paromita': 12886, 'vohra': 12887, 'unscrupulous': 12888, 'habitat': 12889, 'hellhole': 12890, 'eqe': 12891, 'grants': 12892, 'vyf': 12893, 'reae': 12894, 'mlvdxk': 12895, 'kwd': 12896, 'vlhedkdmk': 12897, 'zemlqmzndw': 12898, 'xtfhwy': 12899, 'tba': 12900, 'challange': 12901, 'spectators': 12902, 'tr': 12903, 'goole': 12904, 'destruct': 12905, 'yea': 12906, 'fked': 12907, 'bout': 12908, 'urself': 12909, 'fpdkd': 12910, 'askindiajust': 12911, 'blur': 12912, 'mayawatis': 12913, 'blurred': 12914, 'visuals': 12915, 'deepikapadukone': 12916, 'sonakshisinha': 12917, 'tripartite': 12918, 'iigp': 12919, 'identifies': 12920, 'mentorship': 12921, 'fullness': 12922, 'relapse': 12923, 'overeat': 12924, 'poeple': 12925, 'ectcth': 12926, 'elope': 12927, 'elopes': 12928, 'saax': 12929, 'circlejerk': 12930, 'sax': 12931, 'xwkv': 12932, 'nonquoranon': 12933, 'saaxnon': 12934, 'ekectric': 12935, 'irs': 12936, 'estimation': 12937, 'attemp': 12938, 'ifos': 12939, 'cgl': 12940, 'aso': 12941, 'sharpen': 12942, 'vqdf': 12943, 'ruckus': 12944, 'lund': 12945, 'bhadwo': 12946, 'akkal': 12947, 'upar': 12948, 'akkad': 12949, 'hooligan': 12950, 'uniformed': 12951, 'cops': 12952, 'bhaiyyaji': 12953, 'swayamsevak': 12954, 'zx': 12955, 'mx': 12956, 'wwqvsg': 12957, 'barman': 12958, 'asiangames': 12959, 'xpress': 12960, 'reinstate': 12961, 'vtr': 12962, 'gois': 12963, 'qpqb': 12964, 'dwhib': 12965, 'davos': 12966, 'teuxuaomaiyt': 12967, 'ekwlsaorj': 12968, 'colleagues': 12969, 'bureaucrats': 12970, 'passbook': 12971, 'psk': 12972, 'jre': 12973, 'blogs': 12974, 'taxpayers': 12975, 'classes': 12976, 'fiitjee': 12977, 'kalyug': 12978, 'cex': 12979, 'edq': 12980, 'oily': 12981, 'brownish': 12982, 'sunscreens': 12983, 'neutrogena': 12984, 'ultrasheer': 12985, 'econ': 12986, 'srcc': 12987, 'lors': 12988, 'gqdc': 12989, 'humayuns': 12990, 'tomb': 12991, 'ctc': 12992, 'annualy': 12993, 'upfront': 12994, 'hesitant': 12995, 'cnxe': 12996, 'rejecting': 12997, 'clockwork': 12998, 'requisites': 12999, 'checklist': 13000, 'punctuality': 13001, 'audiobook': 13002, 'consulur': 13003, 'receipt': 13004, 'agrees': 13005, 'forfeit': 13006, 'consular': 13007, 'bdfid': 13008, 'issued': 13009, 'ritalin': 13010, 'methylphenidate': 13011, 'pharmacist': 13012, 'dtegdp': 13013, 'bbcekk': 13014, 'dcrl': 13015, 'rollercoaster': 13016, 'grouping': 13017, 'thebeginnerr': 13018, 'muz': 13019, 'sharpener': 13020, 'jig': 13021, 'lays': 13022, 'dfine': 13023, 'decriminalise': 13024, 'lovewins': 13025, 'mczx': 13026, 'syrian': 13027, 'introduces': 13028, 'nxf': 13029, 'physicist': 13030, 'cvraman': 13031, 'rpeh': 13032, 'otd': 13033, 'zxqui': 13034, 'morbid': 13035, 'visualization': 13036, 'visualize': 13037, 'bikkhu': 13038, 'highqualitygifs': 13039, 'gifv': 13040, 'rht': 13041, 'ajnabees': 13042, 'psadv': 13043, 'modded': 13044, 'counterstrikego': 13045, 'trapped': 13046, 'muters': 13047, 'conductor': 13048, 'iamsatyajeet': 13049, 'lxo': 13050, 'vzda': 13051, 'dodunichaar': 13052, 'favourites': 13053, 'rfutu': 13054, 'canvas': 13055, 'xartezx': 13056, 'xqpyb': 13057, 'jaqk': 13058, 'xd': 13059, 'rbangalore': 13060, 'vftrm': 13061, 'rsurats': 13062, 'puey': 13063, 'rjaipur': 13064, 'pyhvv': 13065, 'ptlz': 13066, 'rgoa': 13067, 'pz': 13068, 'ptzeg': 13069, 'rahmedabad': 13070, 'pvg': 13071, 'swz': 13072, 'pzap': 13073, 'rchennai': 13074, 'squidly': 13075, 'doo': 13076, 'izq': 13077, 'ravana': 13078, 'oey': 13079, 'ganjaalex': 13080, 'idukkikerala': 13081, 'mesmerize': 13082, 'bsnr': 13083, 'humourous': 13084, 'cuteness': 13085, 'overload': 13086, 'nfwz': 13087, 'shinde': 13088, 'kq': 13089, 'mujeeburrehman': 13090, 'moosapet': 13091, 'icpkg': 13092, 'transcouple': 13093, 'peacock': 13094, 'straighforward': 13095, 'vaishno': 13096, 'bajaa': 13097, 'testable': 13098, 'observable': 13099, 'nightmarish': 13100, 'ethnonationalism': 13101, 'fvdta': 13102, 'mercilessly': 13103, 'hardworking': 13104, 'dikkb': 13105, 'crimes': 13106, 'camkpf': 13107, 'javadekar': 13108, 'turf': 13109, 'collapsed': 13110, 'hipster': 13111, 'retro': 13112, 'hipstamatic': 13113, 'hipsterishness': 13114, 'digi': 13115, 'digicam': 13116, 'sharpness': 13117, 'velvia': 13118, 'kodak': 13119, 'begun': 13120, 'areas': 13121, 'vfz': 13122, 'lights': 13123, 'youll': 13124, 'gd': 13125, 'pamban': 13126, 'rameshwaram': 13127, 'audi': 13128, 'ctqv': 13129, 'unfolding': 13130, 'brhcgrfi': 13131, 'incentivizing': 13132, 'taxed': 13133, 'exorbitant': 13134, 'zwd': 13135, 'xe': 13136, 'jxahukvo': 13137, 'umuook': 13138, 'jm': 13139, 'lends': 13140, 'fronts': 13141, 'sqto': 13142, 'marine': 13143, 'sparkle': 13144, 'unexplainable': 13145, 'slim': 13146, 'gl': 13147, 'copious': 13148, 'chatbots': 13149, 'wrviz': 13150, 'beab': 13151, 'upskill': 13152, 'conglomerate': 13153, 'lion': 13154, 'anupamasingh': 13155, 'meduim': 13156, 'gajanandswami': 13157, 'xx': 13158, 'senator': 13159, 'lindsay': 13160, 'secy': 13161, 'vanhollen': 13162, 'senate': 13163, 'hollen': 13164, 'pompeo': 13165, 'reviewed': 13166, 'committee': 13167, 'dessert': 13168, 'tooth': 13169, 'craving': 13170, 'syrupy': 13171, 'hearty': 13172, 'fetish': 13173, 'chhena': 13174, 'paneer': 13175, 'ehpi': 13176, 'rathin': 13177, 'citizenshipact': 13178, 'soranews': 13179, 'drbswn': 13180, 'fsh': 13181, 'irreconcilable': 13182, 'psychologically': 13183, 'unfathomable': 13184, 'viscerally': 13185, 'odation': 13186, 'mdwiv': 13187, 'bein': 13188, 'fiat': 13189, 'glamour': 13190, 'indisciplined': 13191, 'crowds': 13192, 'vey': 13193, 'reponsible': 13194, 'declared': 13195, 'guests': 13196, 'corrrupt': 13197, 'hangin': 13198, 'deaf': 13199, 'dependat': 13200, 'middlemen': 13201, 'considerble': 13202, 'common': 13203, 'uttered': 13204, 'clears': 13205, 'brine': 13206, 'dsd': 13207, 'databack': 13208, 'shadowbannedguy': 13209, 'lucjl': 13210, 'arbitrage': 13211, 'tsp': 13212, 'kosher': 13213, 'sevak': 13214, 'savetheinternetin': 13215, 'hath': 13216, 'wheedle': 13217, 'elude': 13218, 'ammo': 13219, 'oov': 13220, 'intercaste': 13221, 'bulge': 13222, 'explode': 13223, 'ckqpy': 13224, 'tariffs': 13225, 'bladder': 13226, 'sjfarourtx': 13227, 'qu': 13228, 'ryw': 13229, 'fba': 13230, 'fcb': 13231, 'dcc': 13232, 'simplistic': 13233, 'cryptography': 13234, 'prehensible': 13235, 'eventbrite': 13236, 'dzz': 13237, 'unsolicited': 13238, 'jajg': 13239, 'elders': 13240, 'nt': 13241, 'detension': 13242, 'budgetary': 13243, 'ehnbq': 13244, 'drawn': 13245, 'karthiknathan': 13246, 'ser': 13247, 'precipice': 13248, 'generosity': 13249, 'collectives': 13250, 'advocacy': 13251, 'malware': 13252, 'realization': 13253, 'interacts': 13254, 'tangibly': 13255, 'plement': 13256, 'resilient': 13257, 'fundraising': 13258, 'legitimacy': 13259, 'predictability': 13260, 'donor': 13261, 'staffer': 13262, 'embodies': 13263, 'zde': 13264, 'notes': 13265, 'cart': 13266, 'askindiawhats': 13267, 'vpjtycn': 13268, 'oayykc': 13269, 'xhcxyh': 13270, 'noisy': 13271, 'equates': 13272, 'unworthy': 13273, 'fuckhead': 13274, 'shitload': 13275, 'seduced': 13276, 'consumes': 13277, 'bluff': 13278, 'hollow': 13279, 'limca': 13280, 'assigned': 13281, 'standardised': 13282, 'viva': 13283, 'fortiguard': 13284, 'repeating': 13285, 'sicken': 13286, 'ctzkd': 13287, 'biodegradable': 13288, 'distinctive': 13289, 'chauvinistic': 13290, 'anecdotal': 13291, 'ni': 13292, 'approaching': 13293, 'barricade': 13294, 'tiya': 13295, 'pig': 13296, 'caanrc': 13297, 'moent': 13298, 'technicalities': 13299, 'bdbpz': 13300, 'jaed': 13301, 'bsp': 13302, 'chandrashekhar': 13303, 'asleep': 13304, 'prolong': 13305, 'affecting': 13306, 'cranky': 13307, 'qvfw': 13308, 'exceed': 13309, 'restructuring': 13310, 'mallaya': 13311, 'recoverable': 13312, 'unitedly': 13313, 'baroda': 13314, 'apprise': 13315, 'pliss': 13316, 'totality': 13317, 'youthkiawaaz': 13318, 'dailyexcelsior': 13319, 'disbursement': 13320, 'savior': 13321, 'nameless': 13322, 'aah': 13323, 'frikkin': 13324, 'clever': 13325, 'witchcraft': 13326, 'basin': 13327, 'ogw': 13328, 'sibm': 13329, 'wz': 13330, 'medicines': 13331, 'hits': 13332, 'pharmacies': 13333, 'dvn': 13334, 'halfwits': 13335, 'baiting': 13336, 'cheek': 13337, 'demigod': 13338, 'rohitians': 13339, 'viratians': 13340, 'apogee': 13341, 'devotee': 13342, 'thala': 13343, 'thumbnail': 13344, 'tomfoolery': 13345, 'dav': 13346, 'fans': 13347, 'irritating': 13348, 'fhb': 13349, 'snowboarding': 13350, 'emerging': 13351, 'jalgaon': 13352, 'chandrapur': 13353, 'amravati': 13354, 'washimb': 13355, 'traumatic': 13356, 'species': 13357, 'tack': 13358, 'lib': 13359, 'ru': 13360, 'cornelius': 13361, 'ryan': 13362, 'anthony': 13363, 'beevor': 13364, 'priveledge': 13365, 'convid': 13366, 'palpable': 13367, 'evryrthing': 13368, 'pondering': 13369, 'apocalypse': 13370, 'saloon': 13371, 'revert': 13372, 'baloney': 13373, 'globalization': 13374, 'recurpussions': 13375, 'frailty': 13376, 'squarely': 13377, 'frrt': 13378, 'frugality': 13379, 'naughty': 13380, 'fruitless': 13381, 'fondle': 13382, 'unilaterally': 13383, 'baniyas': 13384, 'ebooks': 13385, 'adulteration': 13386, 'finkelstein': 13387, 'ooospzjt': 13388, 'domestication': 13389, 'freshman': 13390, 'tremendously': 13391, 'devote': 13392, 'mains': 13393, 'tantamount': 13394, 'herring': 13395, 'biwylz': 13396, 'cgbzoq': 13397, 'survivability': 13398, 'xda': 13399, 'jovpgv': 13400, 'municipalities': 13401, 'command': 13402, 'rooms': 13403, 'offered': 13404, 'scoring': 13405, 'carried': 13406, 'outlaw': 13407, 'corridor': 13408, 'sarcastically': 13409, 'manier': 13410, 'repercussion': 13411, 'said': 13412, 'tries': 13413, 'manages': 13414, 'csk': 13415, 'homebuyers': 13416, 'siphon': 13417, 'shashank': 13418, 'yuvraj': 13419, 'sehwag': 13420, 'ganguly': 13421, 'batting': 13422, 'muddy': 13423, 'godaddy': 13424, 'dimag': 13425, 'chze': 13426, 'suspends': 13427, 'ocassions': 13428, 'joytrips': 13429, 'resentment': 13430, 'burdened': 13431, 'afresh': 13432, 'ndt': 13433, 'applicationsis': 13434, 'moes': 13435, 'entomology': 13436, 'toxicology': 13437, 'aasl': 13438, 'recruiting': 13439, 'contractual': 13440, 'technician': 13441, 'stenographer': 13442, 'bbnl': 13443, 'mehrauli': 13444, 'qh': 13445, 'openings': 13446, 'gentlemen': 13447, 'noticed': 13448, 'chatted': 13449, 'hung': 13450, 'texting': 13451, 'nonwork': 13452, 'lap': 13453, 'ferrari': 13454, 'miami': 13455, 'sheesha': 13456, 'hookah': 13457, 'dup': 13458, 'fcant': 13459, 'flags': 13460, 'questionnaire': 13461, 'goodness': 13462, 'corollary': 13463, 'hmm': 13464, 'scrutinize': 13465, 'sarkaari': 13466, 'nosy': 13467, 'farticle': 13468, 'kzl': 13469, 'ipnl': 13470, 'vjisxerh': 13471, 'zyr': 13472, 'kfhlaiaenzs': 13473, 'xqvgtrv': 13474, 'mrvraaikn': 13475, 'sxwh': 13476, 'pjul': 13477, 'obaitr': 13478, 'rufijkamc': 13479, 'tdmnfccpgm': 13480, 'knbietzc': 13481, 'bozvsr': 13482, 'fle': 13483, 'wlsom': 13484, 'jeci': 13485, 'ompjlsxw': 13486, 'fwgyuedynkrlqoic': 13487, 'fegazette': 13488, 'fwritereaddata': 13489, 'nkmxgeq': 13490, 'xwquoos': 13491, 'ksrjax': 13492, 'cxg': 13493, 'jgtfwzxzoiuxu': 13494, 'prjgts': 13495, 'uaooqqm': 13496, 'mlwto': 13497, 'kgkmh': 13498, 'nagjpmjng': 13499, 'lpjqx': 13500, 'tiest': 13501, 'cpwo': 13502, 'wrnyggm': 13503, 'vfeo': 13504, 'ffovpne': 13505, 'ezh': 13506, 'sxhkgvxa': 13507, 'llqmonpul': 13508, 'dcjbxcthkgjoy': 13509, 'wztw': 13510, 'ykstyeckqwpe': 13511, 'gqrautbpyotw': 13512, 'fcensusindia': 13513, 'fnotifications': 13514, 'fcitizenship': 13515, 'wmv': 13516, 'dnonfzdwausgnmwkxoligoqcpihxlnbgqw': 13517, 'ydgryfojsdlxok': 13518, 'woktugdfbtqwl': 13519, 'jwmpiqhaahby': 13520, 'yf': 13521, 'xpy': 13522, 'xbbihule': 13523, 'otlqi': 13524, 'wxgusvbrv': 13525, 'dzc': 13526, 'vej': 13527, 'vblkaxuday': 13528, 'ziofhypyacv': 13529, 'zob': 13530, 'ptq': 13531, 'lky': 13532, 'runs': 13533, 'kflqhw': 13534, 'tz': 13535, 'lvdilfjpsgmzrlincqlmdnkkfq': 13536, 'zwdbh': 13537, 'mbfem': 13538, 'greece': 13539, 'advises': 13540, 'messages': 13541, 'infeasible': 13542, 'smallish': 13543, 'iqb': 13544, 'vendors': 13545, 'suppliers': 13546, 'suits': 13547, 'uugjhdpxbik': 13548, 'flpgze': 13549, 'frontend': 13550, 'jittery': 13551, 'hallucinate': 13552, 'restil': 13553, 'bcq': 13554, 'distasteful': 13555, 'predictably': 13556, 'methodical': 13557, 'rehearse': 13558, 'awhwhv': 13559, 'cheating': 13560, 'rome': 13561, 'winning': 13562, 'dodged': 13563, 'psychologists': 13564, 'ditto': 13565, 'endure': 13566, 'marrying': 13567, 'unapproachable': 13568, 'manipulator': 13569, 'pathological': 13570, 'liar': 13571, 'narc': 13572, 'undergone': 13573, 'fukkary': 13574, 'traveller': 13575, 'gazetted': 13576, 'biryani': 13577, 'perpetrator': 13578, 'otkm': 13579, 'impede': 13580, 'depqg': 13581, 'techie': 13582, 'fargo': 13583, 'spite': 13584, 'out': 13585, 'billionaires': 13586, 'rippling': 13587, 'deferment': 13588, 'moratorium': 13589, 'emis': 13590, 'accrue': 13591, 'hazardous': 13592, 'fqqi': 13593, 'professionals': 13594, 'polluting': 13595, 'wetlands': 13596, 'encroach': 13597, 'wetland': 13598, 'devpt': 13599, 'qsimc': 13600, 'ihxmvr': 13601, 'hjj': 13602, 'aravali': 13603, 'maharasthra': 13604, 'fywxxm': 13605, 'fxzdybit': 13606, 'kxrjmk': 13607, 'ken': 13608, 'hectares': 13609, 'gharial': 13610, 'overturn': 13611, 'coconuts': 13612, 'kachhua': 13613, 'denotified': 13614, 'erased': 13615, 'pollutant': 13616, 'nfp': 13617, 'favouring': 13618, 'forestry': 13619, 'crz': 13620, 'sagarmala': 13621, 'recyclable': 13622, 'epi': 13623, 'raincoat': 13624, 'raincoats': 13625, 'idinkbn': 13626, 'cisf': 13627, 'qewntop': 13628, 'downsize': 13629, 'fsa': 13630, 'downsizing': 13631, 'ignoring': 13632, 'forwarding': 13633, 'forwarded': 13634, 'kaushal': 13635, 'nonpoliticalmy': 13636, 'forwards': 13637, 'inadvertent': 13638, 'rudeness': 13639, 'preschool': 13640, 'catholic': 13641, 'dietary': 13642, 'cracker': 13643, 'sparingly': 13644, 'bemcxg': 13645, 'employees': 13646, 'ethnically': 13647, 'tbf': 13648, 'plague': 13649, 'majoritarianism': 13650, 'baffle': 13651, 'vociferously': 13652, 'dravidan': 13653, 'begs': 13654, 'sidenote': 13655, 'jingoistic': 13656, 'awasht': 13657, 'askindiasouth': 13658, 'crsqbprk': 13659, 'uwpp': 13660, 'fgzi': 13661, 'powerbank': 13662, 'trimmer': 13663, 'jb': 13664, 'headphone': 13665, 'chromecast': 13666, 'jch': 13667, 'jdew': 13668, 'categorized': 13669, 'stressed': 13670, 'pretend': 13671, 'mmg': 13672, 'aninewsup': 13673, 'caxm': 13674, 'ocassional': 13675, 'videography': 13676, 'occassional': 13677, 'unplalned': 13678, 'dni': 13679, 'forceful': 13680, 'kaveri': 13681, 'shivanasamudra': 13682, 'rzixx': 13683, 'stationary': 13684, 'udhyog': 13685, 'udyogaadhaar': 13686, 'codesnotallowed': 13687, 'ayne': 13688, 'tipu': 13689, 'sultan': 13690, 'itihasapodcast': 13691, 'reservoir': 13692, 'xgdj': 13693, 'eku': 13694, 'satirical': 13695, 'newsy': 13696, 'ehd': 13697, 'headload': 13698, 'amazement': 13699, 'quibble': 13700, 'amicable': 13701, 'keralites': 13702, 'xbcxe': 13703, 'stalls': 13704, 'akamxxgetlv': 13705, 'drcm': 13706, 'paralysi': 13707, 'bhavesh': 13708, 'mammoth': 13709, 'extedns': 13710, 'restructure': 13711, 'hyperlocal': 13712, 'brahmax': 13713, 'clutch': 13714, 'leaseplan': 13715, 'ribbit': 13716, 'laxmi': 13717, 'tailer': 13718, 'vcde': 13719, 'singularity': 13720, 'kabs': 13721, 'haresh': 13722, 'chawla': 13723, 'ajith': 13724, 'sukumaran': 13725, 'currae': 13726, 'healthtech': 13727, 'frim': 13728, 'theil': 13729, 'genuis': 13730, 'thiels': 13731, 'nvdhyndug': 13732, 'finn': 13733, 'burton': 13734, 'infrastructures': 13735, 'encode': 13736, 'tmm': 13737, 'swatch': 13738, 'fkmr': 13739, 'adc': 13740, 'edaf': 13741, 'baqjx': 13742, 'falling': 13743, 'twenties': 13744, 'nswu': 13745, 'tests': 13746, 'eatcheapandhealthy': 13747, 'undoubtedly': 13748, 'hindutvavadi': 13749, 'lethel': 13750, 'purna': 13751, 'fundraiser': 13752, 'gloomy': 13753, 'jinnah': 13754, 'ministership': 13755, 'concede': 13756, 'mountbatten': 13757, 'narhar': 13758, 'kurundkar': 13759, 'govindrao': 13760, 'talvalkar': 13761, 'ramchandra': 13762, 'rafiq': 13763, 'zakaria': 13764, 'vincent': 13765, 'sheean': 13766, 'institues': 13767, 'gafar': 13768, 'northwest': 13769, 'shaikh': 13770, 'vallabh': 13771, 'wristwatch': 13772, 'inefficieny': 13773, 'irresponsibilty': 13774, 'hirings': 13775, 'opned': 13776, 'throughly': 13777, 'vaypayee': 13778, 'evem': 13779, 'congressis': 13780, 'decied': 13781, 'petronet': 13782, 'balmer': 13783, 'lawrie': 13784, 'ofr': 13785, 'tsmlb': 13786, 'gdbpb': 13787, 'jx': 13788, 'mercialhobby': 13789, 'proliferates': 13790, 'issues': 13791, 'punishable': 13792, 'fvfqim': 13793, 'friendish': 13794, 'gfs': 13795, 'scholars': 13796, 'rswpz': 13797, 'szpenqlp': 13798, 'misses': 13799, 'pullout': 13800, 'ovulate': 13801, 'ejaculation': 13802, 'mtp': 13803, 'generalized': 13804, 'igor': 13805, 'stimac': 13806, 'footballing': 13807, 'croatia': 13808, 'ranji': 13809, 'aqq': 13810, 'girls': 13811, 'jeeadv': 13812, 'believes': 13813, 'wapsuperspecial': 13814, 'mrpzx': 13815, 'njq': 13816, 'sampling': 13817, 'perseverance': 13818, 'optimism': 13819, 'tenacity': 13820, 'stamina': 13821, 'hanna': 13822, 'okhota': 13823, 'celebrates': 13824, 'copyright': 13825, 'byobjc': 13826, 'hitting': 13827, 'fwc': 13828, 'csisl': 13829, 'dificult': 13830, 'glj': 13831, 'collegecareer': 13832, 'stores': 13833, 'trucks': 13834, 'hdsix': 13835, 'chapati': 13836, 'frkhhi': 13837, 'pessimist': 13838, 'patriarch': 13839, 'connive': 13840, 'demerit': 13841, 'unforgettable': 13842, 'qjfvp': 13843, 'kufs': 13844, 'dehumanize': 13845, 'termites': 13846, 'abnormal': 13847, 'hospitable': 13848, 'qltkgz': 13849, 'tvjk': 13850, 'theocracy': 13851, 'tighter': 13852, 'escalatory': 13853, 'defuse': 13854, 'befit': 13855, 'undertakes': 13856, 'bloodbath': 13857, 'violates': 13858, 'rajouri': 13859, 'poonch': 13860, 'thesouthern': 13861, 'funnily': 13862, 'academicians': 13863, 'stole': 13864, 'contradiction': 13865, 'jews': 13866, 'squalor': 13867, 'justifying': 13868, 'wapsi': 13869, 'xey': 13870, 'antihindunational': 13871, 'presented': 13872, 'unquoted': 13873, 'ensurance': 13874, 'operationalise': 13875, 'issuance': 13876, 'statute': 13877, 'altered': 13878, 'hostile': 13879, 'neighbouring': 13880, 'sinhalese': 13881, 'ahmadiya': 13882, 'ugyur': 13883, 'flexibly': 13884, 'citizenry': 13885, 'humanitarian': 13886, 'ugyurs': 13887, 'discretionary': 13888, 'grudge': 13889, 'rightful': 13890, 'za': 13891, 'gft': 13892, 'aadfab': 13893, 'ebb': 13894, 'deception': 13895, 'kaafirs': 13896, 'allahoakbar': 13897, 'procaa': 13898, 'heated': 13899, 'sportsperson': 13900, 'sportsman': 13901, 'bgxi': 13902, 'overrated': 13903, 'yjo': 13904, 'wpy': 13905, 'asmj': 13906, 'thg': 13907, 'void': 13908, 'allindiabakchod': 13909, 'gursimran': 13910, 'khamba': 13911, 'anubav': 13912, 'meld': 13913, 'bangalorebits': 13914, 'thebollywoodlawyer': 13915, 'breakingtheborders': 13916, 'mixcloud': 13917, 'chaisuttaskype': 13918, 'askjai': 13919, 'gyan': 13920, 'foundersgyan': 13921, 'jyotsna': 13922, 'historicalindiapodcast': 13923, 'sendmejunkeveryday': 13924, 'wix': 13925, 'historyofindia': 13926, 'indiastartupchat': 13927, 'indianstartupshow': 13928, 'bizination': 13929, 'cyrussays': 13930, 'maedinindia': 13931, 'ttta': 13932, 'thedailypao': 13933, 'mithi': 13934, 'tfg': 13935, 'thefangarage': 13936, 'adventuresofcheapbeer': 13937, 'stitcher': 13938, 'deconstruct': 13939, 'seenunseen': 13940, 'taraan': 13941, 'tarana': 13942, 'kaan': 13943, 'kaanmasti': 13944, 'menon': 13945, 'mtv': 13946, 'kamla': 13947, 'kamlashow': 13948, 'datin': 13949, 'sonologue': 13950, 'lsdcast': 13951, 'movemint': 13952, 'oraganizer': 13953, 'chakras': 13954, 'mysevenchakras': 13955, 'kitaab': 13956, 'mykitaab': 13957, 'paadcast': 13958, 'thepaadcast': 13959, 'robin': 13960, 'masterysessions': 13961, 'ishaanlalit': 13962, 'sixthworldradio': 13963, 'podomatic': 13964, 'isha': 13965, 'theplanbproject': 13966, 'inconceivable': 13967, 'inconceivabledesis': 13968, 'themythandculturepodcast': 13969, 'aroundstartups': 13970, 'yacker': 13971, 'fleur': 13972, 'standup': 13973, 'arre': 13974, 'lawrence': 13975, 'manzo': 13976, 'podbay': 13977, 'sythesis': 13978, 'interdependent': 13979, 'chuski': 13980, 'chuskipop': 13981, 'bunny': 13982, 'unicorns': 13983, 'rainbows': 13984, 'audioblog': 13985, 'thedailygrind': 13986, 'orbital': 13987, 'theorbitalgadgets': 13988, 'transitiongadgets': 13989, 'podbean': 13990, 'vicharo': 13991, 'vrindavan': 13992, 'shailja': 13993, 'saksena': 13994, 'shiftyjelly': 13995, 'pocketcasts': 13996, 'bambuna': 13997, 'podcastaddict': 13998, 'soory': 13999, 'subscribeonandroid': 14000, 'rahuldeshpande': 14001, 'tuned': 14002, 'qtul': 14003, 'jones': 14004, 'frog': 14005, 'cozy': 14006, 'williampesek': 14007, 'vk': 14008, 'zcbb': 14009, 'ecc': 14010, 'cabb': 14011, 'writ': 14012, 'litigation': 14013, 'solicitor': 14014, 'meity': 14015, 'principled': 14016, 'foreground': 14017, 'shreya': 14018, 'singhal': 14019, 'udayaditya': 14020, 'ria': 14021, 'sawhney': 14022, 'prasanna': 14023, 'jqlam': 14024, 'hibxdps': 14025, 'betexsp': 14026, 'ocgw': 14027, 'actionpacked': 14028, 'facebooks': 14029, 'dodgy': 14030, 'syjd': 14031, 'wzjehm': 14032, 'photographyapplied': 14033, 'requests': 14034, 'releas': 14035, 'ecosystems': 14036, 'irritated': 14037, 'broght': 14038, 'iti': 14039, 'drunkard': 14040, 'mited': 14041, 'suscide': 14042, 'bourne': 14043, 'bjjln': 14044, 'systems': 14045, 'gasoline': 14046, 'imaginable': 14047, 'acoalindia': 14048, 'vtabv': 14049, 'dnatbajagnr': 14050, 'qbq': 14051, 'strap': 14052, 'antpc': 14053, 'xtebv': 14054, 'cosa': 14055, 'aalz': 14056, 'vwca': 14057, 'aluminium': 14058, 'nationalum': 14059, 'anationalum': 14060, 'ndebv': 14061, 'gtbise': 14062, 'abwviy': 14063, 'renewables': 14064, 'paraphrase': 14065, 'aitc': 14066, 'rnebv': 14067, 'gjhmp': 14068, 'abi': 14069, 'kiabq': 14070, 'pictorial': 14071, 'satan': 14072, 'achievable': 14073, 'memo': 14074, 'payp': 14075, 'twipo': 14076, 'scorecard': 14077, 'psus': 14078, 'aeronautics': 14079, 'alliteration': 14080, 'starbucks': 14081, 'unfiltered': 14082, 'wrench': 14083, 'nebv': 14084, 'icej': 14085, 'abirarycw': 14086, 'corus': 14087, 'talbot': 14088, 'bidding': 14089, 'gasp': 14090, 'moan': 14091, 'foothold': 14092, 'afe': 14093, 'axzz': 14094, 'ozbeuby': 14095, 'gvkpil': 14096, 'agvkpil': 14097, 'lnibv': 14098, 'dib': 14099, 'svjagihj': 14100, 'ibw': 14101, 'gebwmucxipt': 14102, 'gbctu': 14103, 'zdabv': 14104, 'coaotmjahm': 14105, 'bdaaq': 14106, 'hindalco': 14107, 'ts': 14108, 'ieb': 14109, 'untraceable': 14110, 'shobha': 14111, 'karandlaje': 14112, 'chikmagalur': 14113, 'bullish': 14114, 'slows': 14115, 'countervail': 14116, 'forbearance': 14117, 'constrain': 14118, 'sovereigns': 14119, 'importer': 14120, 'aaj': 14121, 'gya': 14122, 'cheatsheet': 14123, 'janseyoejacetc': 14124, 'eopkydgm': 14125, 'gxewsdllaok': 14126, 'netlify': 14127, 'ejes': 14128, 'egctcf': 14129, 'efg': 14130, 'iossmf': 14131, 'jja': 14132, 'sanitarypanels': 14133, 'wjg': 14134, 'kanoon': 14135, 'corrodes': 14136, 'xynubm': 14137, 'zvyhsnpao': 14138, 'okjbx': 14139, 'evwu': 14140, 'mssd': 14141, 'djje': 14142, 'newsprotestseditorials': 14143, 'qteg': 14144, 'enxl': 14145, 'attractiveness': 14146, 'bombshell': 14147, 'cheerleaders': 14148, 'suited': 14149, 'lo': 14150, 'bonanza': 14151, 'trunk': 14152, 'betaaaaaa': 14153, 'betaaaaaaaaa': 14154, 'bhuke': 14155, 'marte': 14156, 'jwxr': 14157, 'frontpage': 14158, 'bbnxp': 14159, 'dbeuf': 14160, 'dbtkoj': 14161, 'yearolds': 14162, 'dejvzl': 14163, 'dbuvoi': 14164, 'dcnutr': 14165, 'dedtki': 14166, 'deg': 14167, 'dfdwgt': 14168, 'dgbyeq': 14169, 'dgbbvt': 14170, 'negotiable': 14171, 'zkf': 14172, 'nonnegotiable': 14173, 'kantilal': 14174, 'dbdn': 14175, 'dbdqat': 14176, 'dffsc': 14177, 'dgd': 14178, 'bsf': 14179, 'exbsf': 14180, 'uf': 14181, 'dbpz': 14182, 'dckzpx': 14183, 'sethia': 14184, 'defraud': 14185, 'acquit': 14186, 'dco': 14187, 'undercuts': 14188, 'dedqkc': 14189, 'undercut': 14190, 'dedyxl': 14191, 'umar': 14192, 'dfe': 14193, 'yoy': 14194, 'dgb': 14195, 'dbs': 14196, 'dbtn': 14197, 'dbv': 14198, 'dferea': 14199, 'dffl': 14200, 'dgbr': 14201, 'dgegzp': 14202, 'aayogled': 14203, 'dget': 14204, 'dgsrbf': 14205, 'ftky': 14206, 'filmmakerfarhan': 14207, 'helvetikka': 14208, 'frstw': 14209, 'aviakki': 14210, 'fsbwuj': 14211, 'thealtchemist': 14212, 'ughalright': 14213, 'leopard': 14214, 'dopy': 14215, 'heallify': 14216, 'covidindiasupport': 14217, 'fqqdsg': 14218, 'homg': 14219, 'presses': 14220, 'reforms': 14221, 'flying': 14222, 'turns': 14223, 'helping': 14224, 'atd': 14225, 'healer': 14226, 'superstition': 14227, 'flesh': 14228, 'blindfold': 14229, 'bhajjis': 14230, 'janavignanavedika': 14231, 'johnson': 14232, 'admitt': 14233, 'lte': 14234, 'tht': 14235, 'wats': 14236, 'yn': 14237, 'todaynonpolitical': 14238, 'kmr': 14239, 'traded': 14240, 'nxfhb': 14241, 'uvu': 14242, 'cricinfo': 14243, 'atrocious': 14244, 'propagandist': 14245, 'elerc': 14246, 'warriors': 14247, 'cbci': 14248, 'anticipate': 14249, 'memorates': 14250, 'supper': 14251, 'bishop': 14252, 'clashes': 14253, 'opens': 14254, 'micro': 14255, 'vedhal': 14256, 'vikramadithya': 14257, 'dumbwitpatra': 14258, 'knowledgeable': 14259, 'passouts': 14260, 'bba': 14261, 'memorize': 14262, 'taker': 14263, 'notches': 14264, 'assessed': 14265, 'tom': 14266, 'cruise': 14267, 'cameron': 14268, 'diaz': 14269, 'innovate': 14270, 'pat': 14271, 'manually': 14272, 'warden': 14273, 'intimidate': 14274, 'minusseven': 14275, 'modicum': 14276, 'skorukkamma': 14277, 'onr': 14278, 'vtx': 14279, 'hardimpossible': 14280, 'sfiyobjvzmflzv': 14281, 'mhuo': 14282, 'scores': 14283, 'yoghurt': 14284, 'responsepage': 14285, 'zrpvyrp': 14286, 'ggabihpf': 14287, 'rszxqe': 14288, 'nnc': 14289, 'sikf': 14290, 'qpghumfjgqze': 14291, 'nfc': 14292, 'uthqmzi': 14293, 'tehdvkjosum': 14294, 'ekx': 14295, 'completely': 14296, 'bop': 14297, 'mms': 14298, 'huzzzah': 14299, 'plank': 14300, 'hardsell': 14301, 'liberalise': 14302, 'backtrack': 14303, 'milder': 14304, 'breathtaking': 14305, 'relic': 14306, 'handled': 14307, 'thunder': 14308, 'quell': 14309, 'brilliantly': 14310, 'willy': 14311, 'brandt': 14312, 'brilliance': 14313, 'graciously': 14314, 'mitte': 14315, 'mollifies': 14316, 'guile': 14317, 'l': 14318, 'loyalist': 14319, 'deft': 14320, 'violin': 14321, 'faves': 14322, 'montek': 14323, 'unfounded': 14324, 'intimately': 14325, 'chandraswami': 14326, 'monumental': 14327, 'devalued': 14328, 'maai': 14329, 'austerity': 14330, 'lnf': 14331, 'incase': 14332, 'marrmalayde': 14333, 'frp': 14334, 'suffice': 14335, 'cheaply': 14336, 'ooty': 14337, 'lug': 14338, 'dca': 14339, 'han': 14340, 'lifehacks': 14341, 'hans': 14342, 'wth': 14343, 'emt': 14344, 'kyun': 14345, 'fshkh': 14346, 'exporting': 14347, 'biographies': 14348, 'evolutionary': 14349, 'mpae': 14350, 'ene': 14351, 'cdeteu': 14352, 'gguso': 14353, 'inactivity': 14354, 'jiffy': 14355, 'tarmac': 14356, 'flightstats': 14357, 'iu': 14358, 'passengers': 14359, 'applications': 14360, 'offense': 14361, 'problematic': 14362, 'cmndkk': 14363, 'doll': 14364, 'awf': 14365, 'binged': 14366, 'munalising': 14367, 'communalising': 14368, 'nrp': 14369, 'collected': 14370, 'dob': 14371, 'received': 14372, 'speeches': 14373, 'fifth': 14374, 'attached': 14375, 'verbally': 14376, 'inquilab': 14377, 'uffsd': 14378, 'ezug': 14379, 'dcab': 14380, 'pxl': 14381, 'stepgame': 14382, 'nprnrccaa': 14383, 'makedo': 14384, 'reebok': 14385, 'coj': 14386, 'ukeu': 14387, 'associations': 14388, 'nonprofits': 14389, 'wzbsonrqhzqsstzweum': 14390, 'owq': 14391, 'unmanageable': 14392, 'srt': 14393, 'weighted': 14394, 'watches': 14395, 'processes': 14396, 'smes': 14397, 'viruses': 14398, 'tiredness': 14399, 'ache': 14400, 'nasal': 14401, 'runny': 14402, 'touching': 14403, 'droplets': 14404, 'guidelinesforhomequarantine': 14405, 'qurantine': 14406, 'secretion': 14407, 'flexed': 14408, 'worn': 14409, 'bitstreams': 14410, 'foodsafety': 14411, 'gyms': 14412, 'distanced': 14413, 'kmq': 14414, 'routines': 14415, 'vgwfsihhzoflbzxpjbi': 14416, 'stopped': 14417, 'thepiratebay': 14418, 'pirateproxy': 14419, 'xf': 14420, 'stops': 14421, 'netmed': 14422, 'antibiotics': 14423, 'bhaichung': 14424, 'bhutia': 14425, 'amal': 14426, 'unyielding': 14427, 'ifa': 14428, 'unpardonable': 14429, 'excess': 14430, 'maracana': 14431, 'janeiro': 14432, 'knockout': 14433, 'mohun': 14434, 'inbedwithmaradona': 14435, 'phssedqppiaxjndh': 14436, 'sxxm': 14437, 'jph': 14438, 'dindz': 14439, 'crisp': 14440, 'ejfpfa': 14441, 'bigger': 14442, 'bloodshed': 14443, 'nascent': 14444, 'plagued': 14445, 'whatsapped': 14446, 'supervise': 14447, 'micromanaging': 14448, 'bestow': 14449, 'tyrannical': 14450, 'infuriates': 14451, 'heartbeat': 14452, 'neglectful': 14453, 'antagonistic': 14454, 'ordeal': 14455, 'perks': 14456, 'enjoying': 14457, 'enmity': 14458, 'manners': 14459, 'sciences': 14460, 'songs': 14461, 'strongest': 14462, 'voices': 14463, 'demonstrations': 14464, 'frpj': 14465, 'masturbation': 14466, 'pulsively': 14467, 'eas': 14468, 'irritable': 14469, 'pyschiatrists': 14470, 'med': 14471, 'fpuopo': 14472, 'characterise': 14473, 'inverse': 14474, 'underestimated': 14475, 'accoring': 14476, 'crises': 14477, 'correspondingly': 14478, 'ykl': 14479, 'ans': 14480, 'prepay': 14481, 'newindia': 14482, 'slv': 14483, 'lpo': 14484, 'doubling': 14485, 'racquet': 14486, 'dtdc': 14487, 'cvyrzz': 14488, 'bappa': 14489, 'imagica': 14490, 'ancientcoarsefairyfly': 14491, 'surakha': 14492, 'mandos': 14493, 'mos': 14494, 'piedpiperofkremlin': 14495, 'visually': 14496, 'parveen': 14497, 'nstmis': 14498, 'nirman': 14499, 'parora': 14500, 'mses': 14501, 'intentionally': 14502, 'unintentionally': 14503, 'fvzznj': 14504, 'maneskshaw': 14505, 'pfbjjq': 14506, 'poach': 14507, 'poaching': 14508, 'licking': 14509, 'marcus': 14510, 'leatherdale': 14511, 'priyankagandhivadra': 14512, 'defers': 14513, 'retard': 14514, 'swallow': 14515, 'guju': 14516, 'contention': 14517, 'hunch': 14518, 'sophomaniac': 14519, 'batsmen': 14520, 'replies': 14521, 'clog': 14522, 'poisonous': 14523, 'equipments': 14524, 'manhole': 14525, 'hiim': 14526, 'cqfn': 14527, 'gjc': 14528, 'lamps': 14529, 'threshold': 14530, 'wil': 14531, 'practiced': 14532, 'convolute': 14533, 'volunteers': 14534, 'partys': 14535, 'convoluted': 14536, 'sajjangad': 14537, 'pbyllqw': 14538, 'oposite': 14539, 'descriptive': 14540, 'tdaws': 14541, 'spreads': 14542, 'xmjuhgmjiyo': 14543, 'srikrishna': 14544, 'nxn': 14545, 'sudan': 14546, 'barista': 14547, 'crlp': 14548, 'subsidize': 14549, 'defined': 14550, 'wcid': 14551, 'gates': 14552, 'aalc': 14553, 'scheduling': 14554, 'peopleclick': 14555, 'btm': 14556, 'excelr': 14557, 'incl': 14558, 'datamites': 14559, 'abt': 14560, 'koramangala': 14561, 'getahead': 14562, 'tushar': 14563, 'detector': 14564, 'erelease': 14565, 'tiki': 14566, 'iucaa': 14567, 'interferometer': 14568, 'unravel': 14569, 'impetus': 14570, 'akt': 14571, 'bva': 14572, 'kgr': 14573, 'inprinciple': 14574, 'dispassionate': 14575, 'passionately': 14576, 'objectivity': 14577, 'haste': 14578, 'transporter': 14579, 'headlight': 14580, 'mensurate': 14581, 'brouhaha': 14582, 'izxwj': 14583, 'nonpoliticalserious': 14584, 'influx': 14585, 'smother': 14586, 'sekhar': 14587, 'basu': 14588, 'neutrino': 14589, 'bachas': 14590, 'kiss': 14591, 'nonpoliticalrandom': 14592, 'carnage': 14593, 'hauzrani': 14594, 'dalli': 14595, 'jafrabad': 14596, 'saynotonpr': 14597, 'bharatbandh': 14598, 'sprayed': 14599, 'zoroastrian': 14600, 'mubarak': 14601, 'couriering': 14602, 'defensive': 14603, 'ilalsysderttt': 14604, 'civ': 14605, 'amazonbluedart': 14606, 'beliefs': 14607, 'fvwclb': 14608, 'forgiving': 14609, 'spiritualistic': 14610, 'nicety': 14611, 'sexism': 14612, 'legaylising': 14613, 'beneath': 14614, 'metroes': 14615, 'maga': 14616, 'feminist': 14617, 'virtuous': 14618, 'hare': 14619, 'vimanas': 14620, 'brahmastras': 14621, 'supportstates': 14622, 'qnec': 14623, 'tzwbonuk': 14624, 'qtbp': 14625, 'fodder': 14626, 'submits': 14627, 'anticaaprotest': 14628, 'townhall': 14629, 'bangaloreprotests': 14630, 'shayonisengupt': 14631, 'cake': 14632, 'fvy': 14633, 'bolts': 14634, 'dssrqe': 14635, 'cultfit': 14636, 'federations': 14637, 'incentives': 14638, 'registered': 14639, 'earmarks': 14640, 'facilities': 14641, 'epsflf': 14642, 'wsaycwqg': 14643, 'bootstrap': 14644, 'foo': 14645, 'jnnbm': 14646, 'minutes': 14647, 'pulsorily': 14648, 'harris': 14649, 'ezra': 14650, 'klein': 14651, 'freakonomics': 14652, 'imapct': 14653, 'ferriss': 14654, 'hbr': 14655, 'ideacast': 14656, 'tyler': 14657, 'cowan': 14658, 'gimlet': 14659, 'worldpolitics': 14660, 'radiolab': 14661, 'suspects': 14662, 'traced': 14663, 'edm': 14664, 'solitude': 14665, 'outdoors': 14666, 'restrictions': 14667, 'simla': 14668, 'rose': 14669, 'lizzy': 14670, 'zeppelin': 14671, 'prism': 14672, 'dlb': 14673, 'nescafe': 14674, 'starbugs': 14675, 'eca': 14676, 'ftvbwfjl': 14677, 'alb': 14678, 'jjuiwwnmfe': 14679, 'crowdsource': 14680, 'actionable': 14681, 'pcnh': 14682, 'priorities': 14683, 'czlnnd': 14684, 'idol': 14685, 'rygtrbx': 14686, 'clerk': 14687, 'bravo': 14688, 'arangarajan': 14689, 'myyz': 14690, 'dams': 14691, 'hsynjoe': 14692, 'acb': 14693, 'unaccounted': 14694, 'eqetdg': 14695, 'easiest': 14696, 'fnnobl': 14697, 'dox': 14698, 'brochure': 14699, 'learned': 14700, 'sorta': 14701, 'graduating': 14702, 'slack': 14703, 'wen': 14704, 'bankable': 14705, 'structured': 14706, 'layouts': 14707, 'bump': 14708, 'illustrator': 14709, 'lightroom': 14710, 'interior': 14711, 'globalize': 14712, 'dazzle': 14713, 'liner': 14714, 'fxfgw': 14715, 'deciding': 14716, 'oust': 14717, 'mediatory': 14718, 'eduonix': 14719, 'proactively': 14720, 'ushering': 14721, 'ether': 14722, 'decentralize': 14723, 'bookkeeping': 14724, 'nicolas': 14725, 'chromaway': 14726, 'collateralize': 14727, 'circumvent': 14728, 'unencrypted': 14729, 'stored': 14730, 'honeypot': 14731, 'devise': 14732, 'mtech': 14733, 'remittance': 14734, 'befall': 14735, 'capitalise': 14736, 'sapan': 14737, 'shardul': 14738, 'amarchand': 14739, 'mangaldas': 14740, 'shipment': 14741, 'daniele': 14742, 'warwick': 14743, 'whereby': 14744, 'meddle': 14745, 'payouts': 14746, 'finserv': 14747, 'sangeeta': 14748, 'devni': 14749, 'nass': 14750, 'deterrent': 14751, 'persist': 14752, 'mitigated': 14753, 'architectures': 14754, 'uije': 14755, 'greatest': 14756, 'schneier': 14757, 'gaslight': 14758, 'hoop': 14759, 'arbitrarily': 14760, 'cisgender': 14761, 'heterosexual': 14762, 'unwel': 14763, 'horrified': 14764, 'harmfully': 14765, 'civilisation': 14766, 'unauthorised': 14767, 'vhckhdil': 14768, 'lziw': 14769, 'ocnhl': 14770, 'rur': 14771, 'totl': 14772, 'unaccountable': 14773, 'srk': 14774, 'katrina': 14775, 'kaif': 14776, 'listeningpost': 14777, 'intentional': 14778, 'indianpeoplefacebook': 14779, 'supression': 14780, 'detainment': 14781, 'amoral': 14782, 'intrusive': 14783, 'orkut': 14784, 'narcissists': 14785, 'inspires': 14786, 'commissions': 14787, 'undertone': 14788, 'kbc': 14789, 'wphbo': 14790, 'theorist': 14791, 'nuclearism': 14792, 'conception': 14793, 'traditionalism': 14794, 'puritanical': 14795, 'rigidity': 14796, 'constrict': 14797, 'gnaw': 14798, 'fantastical': 14799, 'resemble': 14800, 'subconscious': 14801, 'derived': 14802, 'tidal': 14803, 'shitter': 14804, 'eater': 14805, 'tribalistic': 14806, 'caveman': 14807, 'footballer': 14808, 'fawn': 14809, 'soooooo': 14810, 'consumerism': 14811, 'dncd': 14812, 'commodity': 14813, 'euro': 14814, 'cmd': 14815, 'frexit': 14816, 'retireland': 14817, 'ireland': 14818, 'beljump': 14819, 'belgium': 14820, 'byeprus': 14821, 'cyprus': 14822, 'neverlands': 14823, 'noland': 14824, 'quitaly': 14825, 'cheerio': 14826, 'bugger': 14827, 'coincidentally': 14828, 'uhmto': 14829, 'lytfdgcxfcdjln': 14830, 'nonexecutive': 14831, 'groom': 14832, 'masayoshi': 14833, 'nage': 14834, 'trois': 14835, 'mergers': 14836, 'invoked': 14837, 'yst': 14838, 'fjhtdyjjzm': 14839, 'discu': 14840, 'threesome': 14841, 'dan': 14842, 'dinosaur': 14843, 'privatize': 14844, 'spur': 14845, 'zuckerbergs': 14846, 'lowercase': 14847, 'urbanpoors': 14848, 'eraser': 14849, 'handpick': 14850, 'sandal': 14851, 'cea': 14852, 'techm': 14853, 'atechm': 14854, 'yiel': 14855, 'qdvjn': 14856, 'vaping': 14857, 'pods': 14858, 'likes': 14859, 'gnj': 14860, 'bottlenecks': 14861, 'compounded': 14862, 'convicts': 14863, 'aral': 14864, 'paying': 14865, 'attracting': 14866, 'xgq': 14867, 'banning': 14868, 'xnn': 14869, 'nexpbx': 14870, 'yvette': 14871, 'cooper': 14872, 'kkk': 14873, 'duke': 14874, 'ajack': 14875, 'typd': 14876, 'overtaken': 14877, 'straightforward': 14878, 'aligns': 14879, 'uncontroversially': 14880, 'demanded': 14881, 'behead': 14882, 'amarnath': 14883, 'amarasingam': 14884, 'dialogue': 14885, 'hacktivist': 14886, 'theepochtimes': 14887, 'opisis': 14888, 'grim': 14889, 'supporthindueconomy': 14890, 'deplorable': 14891, 'fezj': 14892, 'edx': 14893, 'piximperfect': 14894, 'freecodecamp': 14895, 'cellokey': 14896, 'cognitiveclass': 14897, 'theboywhodaydreams': 14898, 'codecademy': 14899, 'kqqh': 14900, 'nurses': 14901, 'avenger': 14902, 'bbn': 14903, 'theres': 14904, 'removed': 14905, 'commentator': 14906, 'breaks': 14907, 'cblb': 14908, 'momen': 14909, 'fhc': 14910, 'gandhinagar': 14911, 'def': 14912, 'tease': 14913, 'bykca': 14914, 'rvqn': 14915, 'sanctuaries': 14916, 'newsstand': 14917, 'cfrt': 14918, 'prdlo': 14919, 'stands': 14920, 'rsynfei': 14921, 'ttwbtxhvlshrrl': 14922, 'fullarticle': 14923, 'inshorts': 14924, 'settled': 14925, 'heir': 14926, 'helplessness': 14927, 'numbness': 14928, 'hdfdd': 14929, 'redditplease': 14930, 'balding': 14931, 'drharshvardhan': 14932, 'displeasure': 14933, 'wouldve': 14934, 'swam': 14935, 'cxw': 14936, 'magpie': 14937, 'signboard': 14938, 'voila': 14939, 'knives': 14940, 'maalik': 14941, 'dsirfe': 14942, 'taken': 14943, 'openculture': 14944, 'reformist': 14945, 'gnosis': 14946, 'nourish': 14947, 'syncretistic': 14948, 'occult': 14949, 'depravity': 14950, 'irrationalism': 14951, 'emasculation': 14952, 'prematurely': 14953, 'intruder': 14954, 'xenophobia': 14955, 'rhetorical': 14956, 'pacifism': 14957, 'elitism': 14958, 'condemnation': 14959, 'nonstandard': 14960, 'chastity': 14961, 'homosexuality': 14962, 'selective': 14963, 'newspeak': 14964, 'schoolbook': 14965, 'elementary': 14966, 'exercse': 14967, 'deference': 14968, 'wikipasta': 14969, 'mobilization': 14970, 'totalitarian': 14971, 'imperialism': 14972, 'rejuvenation': 14973, 'interventionist': 14974, 'ectir': 14975, 'unmistakable': 14976, 'samoan': 14977, 'hawaiian': 14978, 'leaning': 14979, 'clam': 14980, 'questioned': 14981, 'fcarrw': 14982, 'shooting': 14983, 'digitalize': 14984, 'importing': 14985, 'foment': 14986, 'groups': 14987, 'daria': 14988, 'daulat': 14989, 'acukl': 14990, 'odch': 14991, 'windy': 14992, 'je': 14993, 'expedite': 14994, 'rajeshtope': 14995, 'kannangopinathan': 14996, 'naukarshah': 14997, 'madhavpramod': 14998, 'citizenshipamendmentact': 14999, 'mirrornow': 15000, 'pointers': 15001, 'priyavrata': 15002, 'tenali': 15003, 'rundown': 15004, 'toolkits': 15005, 'ionic': 15006, 'xamarin': 15007, 'serverside': 15008, 'frameworks': 15009, 'picked': 15010, 'progression': 15011, 'exciting': 15012, 'stalk': 15013, 'counting': 15014, 'yay': 15015, 'cisco': 15016, 'autopilot': 15017, 'shitposting': 15018, 'vqb': 15019, 'jade': 15020, 'lifelong': 15021, 'meaningfully': 15022, 'immerse': 15023, 'homestays': 15024, 'vastness': 15025, 'multiplicity': 15026, 'uer': 15027, 'xiozz': 15028, 'ranjit': 15029, 'srivastava': 15030, 'flare': 15031, 'clzda': 15032, 'flareup': 15033, 'cmegyn': 15034, 'ckzv': 15035, 'cl': 15036, 'hsn': 15037, 'clk': 15038, 'clj': 15039, 'cniu': 15040, 'miedwvs': 15041, 'liveblogstart': 15042, 'sahil': 15043, 'murli': 15044, 'menghani': 15045, 'assiduously': 15046, 'saahilmenghani': 15047, 'rohan': 15048, 'venkat': 15049, 'rohanv': 15050, 'conflagration': 15051, 'cpdelhi': 15052, 'lggovdelhi': 15053, 'yogendrayadav': 15054, 'vijayata': 15055, 'vijaytal': 15056, 'uzair': 15057, 'rizi': 15058, 'cheker': 15059, 'afp': 15060, 'torched': 15061, 'rizviuzair': 15062, 'footage': 15063, 'kardampuri': 15064, 'dayalpur': 15065, 'navbharat': 15066, 'bhajanpura': 15067, 'shankersingh': 15068, 'nbtdilli': 15069, 'khusboo': 15070, 'muslimmirror': 15071, 'khushbookhan': 15072, 'otuzyai': 15073, 'trusted': 15074, 'headquarters': 15075, 'trumps': 15076, 'gunman': 15077, 'vinod': 15078, 'kapri': 15079, 'vinodkapri': 15080, 'maujpura': 15081, 'devjoy': 15082, 'puzzling': 15083, 'devjyotghoshal': 15084, 'ultimatum': 15085, 'nicola': 15086, 'careem': 15087, 'gokulpuri': 15088, 'nicolacareem': 15089, 'dimension': 15090, 'kardam': 15091, 'zeba': 15092, 'warsi': 15093, 'correspondent': 15094, 'delhiriots': 15095, 'gtb': 15096, 'zebaism': 15097, 'delhiviolence': 15098, 'newpost': 15099, 'rcxz': 15100, 'maujpurbabarpur': 15101, 'newsrooms': 15102, 'masters': 15103, 'editors': 15104, 'compromising': 15105, 'spill': 15106, 'intuition': 15107, 'insulted': 15108, 'xp': 15109, 'patronized': 15110, 'reek': 15111, 'condescension': 15112, 'worthless': 15113, 'rube': 15114, 'judgmental': 15115, 'dugm': 15116, 'convocation': 15117, 'kolkatas': 15118, 'convoc': 15119, 'sexually': 15120, 'uninvited': 15121, 'motif': 15122, 'shameless': 15123, 'unsatisfactory': 15124, 'attest': 15125, 'unblemished': 15126, 'argumentative': 15127, 'chhuti': 15128, 'signup': 15129, 'pjf': 15130, 'abject': 15131, 'chaddi': 15132, 'clad': 15133, 'sanghie': 15134, 'paragliding': 15135, 'retirals': 15136, 'groove': 15137, 'ombudsperson': 15138, 'njxm': 15139, 'panya': 15140, 'saturation': 15141, 'benifit': 15142, 'rattle': 15143, 'cbc': 15144, 'samvada': 15145, 'sarasanghchalak': 15146, 'vijaya': 15147, 'dashmi': 15148, 'deadlier': 15149, 'validity': 15150, 'respectability': 15151, 'kandhamahal': 15152, 'dogmatism': 15153, 'emanate': 15154, 'horizon': 15155, 'initiatives': 15156, 'ramtirth': 15157, 'gurudev': 15158, 'ravindra': 15159, 'lokmanya': 15160, 'swatantrya': 15161, 'veer': 15162, 'vinoba': 15163, 'bhave': 15164, 'sarsanghachalak': 15165, 'guruji': 15166, 'madhav': 15167, 'sadashiv': 15168, 'golvalkar': 15169, 'lohia': 15170, 'jayprakash': 15171, 'deendayal': 15172, 'upadhyay': 15173, 'upsurge': 15174, 'jehadi': 15175, 'swayamsewak': 15176, 'swayamsewaks': 15177, 'energize': 15178, 'inculcate': 15179, 'constituent': 15180, 'disciplined': 15181, 'bhagwats': 15182, 'fulfillment': 15183, 'fulfilment': 15184, 'partech': 15185, 'retal': 15186, 'nasdaq': 15187, 'indiabased': 15188, 'trais': 15189, 'localisation': 15190, 'netflixs': 15191, 'timharford': 15192, 'ufy': 15193, 'gurdwara': 15194, 'rnpqczo': 15195, 'raut': 15196, 'surgeon': 15197, 'pacx': 15198, 'vsc': 15199, 'wdu': 15200, 'djdh': 15201, 'izsis': 15202, 'rqf': 15203, 'nyzhtyygu': 15204, 'jjyt': 15205, 'kdx': 15206, 'ypf': 15207, 'qw': 15208, 'lslgsbyp': 15209, 'pqm': 15210, 'delhigovt': 15211, 'wps': 15212, 'wcm': 15213, 'doit': 15214, 'delhihungerrelief': 15215, 'wevrj': 15216, 'dlvkob': 15217, 'xhdwdc': 15218, 'llpkltgbsz': 15219, 'yeu': 15220, 'gxg': 15221, 'nlhm': 15222, 'lbw': 15223, 'urws': 15224, 'tempropry': 15225, 'whemlmia': 15226, 'cpfrwjsgcmkdfllblkvsoyecsdvifs': 15227, 'osovnvvqn': 15228, 'oslwr': 15229, 'tpcarhik': 15230, 'lotaobvnyeim': 15231, 'aetdtfirhrdgfhtqyjbahwt': 15232, 'iogwo': 15233, 'ayoiwtrv': 15234, 'ukgppqs': 15235, 'eod': 15236, 'kggwb': 15237, 'ncdc': 15238, 'paschimi': 15239, 'shalimar': 15240, 'flt': 15241, 'dhall': 15242, 'kunj': 15243, 'oncquest': 15244, 'safdarjung': 15245, 'operative': 15246, 'deceased': 15247, 'demanda': 15248, 'indiatvnews': 15249, 'jamaati': 15250, 'reorganization': 15251, 'marking': 15252, 'chronological': 15253, 'gulzari': 15254, 'shastri': 15255, 'morarji': 15256, 'shekar': 15257, 'deve': 15258, 'ulu': 15259, 'ministers': 15260, 'assets': 15261, 'weakens': 15262, 'ntvuhtdgkt': 15263, 'uiado': 15264, 'kpnbm': 15265, 'cld': 15266, 'flipkarts': 15267, 'pocketaces': 15268, 'webtvasia': 15269, 'ace': 15270, 'goqii': 15271, 'goquii': 15272, 'bain': 15273, 'greyorange': 15274, 'mloyal': 15275, 'nutritional': 15276, 'nspira': 15277, 'pursuit': 15278, 'stratechery': 15279, 'antitrust': 15280, 'cbb': 15281, 'vae': 15282, 'applied': 15283, 'drops': 15284, 'proclaimed': 15285, 'unexpectedly': 15286, 'imposes': 15287, 'payday': 15288, 'mcdowell': 15289, 'amcdowell': 15290, 'treasure': 15291, 'staggering': 15292, 'reconstruction': 15293, 'kryptonite': 15294, 'tinto': 15295, 'coalgate': 15296, 'diamondgate': 15297, 'folklore': 15298, 'terabyte': 15299, 'iqbal': 15300, 'clan': 15301, 'vladimir': 15302, 'putin': 15303, 'negates': 15304, 'boond': 15305, 'zindagi': 15306, 'ascfczqq': 15307, 'ypq': 15308, 'rlp': 15309, 'hatchback': 15310, 'tatamotors': 15311, 'atatamotors': 15312, 'nano': 15313, 'icarus': 15314, 'wax': 15315, 'feeler': 15316, 'sunedisons': 15317, 'hpe': 15318, 'amphasis': 15319, 'ppukv': 15320, 'mqomxpmahgn': 15321, 'adaniports': 15322, 'icxpmahgn': 15323, 'lgqlv': 15324, 'pmhkmah': 15325, 'giba': 15326, 'amaruti': 15327, 'pgqlv': 15328, 'ixdmjhmagbhamybg': 15329, 'rastogi': 15330, 'embody': 15331, 'rag': 15332, 'zph': 15333, 'obstetrics': 15334, 'postponed': 15335, 'gynaecology': 15336, 'edliuv': 15337, 'clich': 15338, 'talking': 15339, 'drivers': 15340, 'waldo': 15341, 'emerson': 15342, 'uninspiring': 15343, 'unresponsive': 15344, 'reminiscence': 15345, 'pawn': 15346, 'gmvs': 15347, 'hymn': 15348, 'sagacity': 15349, 'bhagvad': 15350, 'discernible': 15351, 'dufresne': 15352, 'zkbjx': 15353, 'quitting': 15354, 'optimized': 15355, 'timeout': 15356, 'codenation': 15357, 'overconfident': 15358, 'quizzed': 15359, 'dbms': 15360, 'dailyprogrammer': 15361, 'ocw': 15362, 'hash': 15363, 'cognizant': 15364, 'umbrella': 15365, 'carter': 15366, 'fairs': 15367, 'goddess': 15368, 'bggn': 15369, 'babus': 15370, 'netas': 15371, 'squander': 15372, 'sitaram': 15373, 'fount': 15374, 'endlessly': 15375, 'graphs': 15376, 'barrel': 15377, 'mismanage': 15378, 'intended': 15379, 'profligate': 15380, 'illusionary': 15381, 'memoirs': 15382, 'krishnaswamy': 15383, 'recklessly': 15384, 'devaluing': 15385, 'nationalising': 15386, 'populsim': 15387, 'sops': 15388, 'marries': 15389, 'pragmatism': 15390, 'arguably': 15391, 'workhorse': 15392, 'chatisgarh': 15393, 'scion': 15394, 'sloganeer': 15395, 'tokenism': 15396, 'datatable': 15397, 'datatab': 15398, 'pinky': 15399, 'namo': 15400, 'hqpsr': 15401, 'ta': 15402, 'ambedkars': 15403, 'inflate': 15404, 'ather': 15405, 'tork': 15406, 'ampere': 15407, 'spero': 15408, 'biyanis': 15409, 'jeevansaathi': 15410, 'jeevansathi': 15411, 'motorbike': 15412, 'dsg': 15413, 'shahdadpuri': 15414, 'distributor': 15415, 'quarizon': 15416, 'gopigeon': 15417, 'condiment': 15418, 'samaa': 15419, 'coworking': 15420, 'southeast': 15421, 'undiscloed': 15422, 'amplifi': 15423, 'babyoye': 15424, 'mahindras': 15425, 'franchisee': 15426, 'enzovac': 15427, 'robovacenzo': 15428, 'avun': 15429, 'isyd': 15430, 'esth': 15431, 'thirsty': 15432, 'friendzone': 15433, 'invitation': 15434, 'sqlm': 15435, 'xrylv': 15436, 'rtr': 15437, 'nmmusicindia': 15438, 'iyr': 15439, 'astound': 15440, 'decimation': 15441, 'wkd': 15442, 'mustnt': 15443, 'honours': 15444, 'bmc': 15445, 'gooders': 15446, 'shire': 15447, 'oxbridge': 15448, 'paramountcy': 15449, 'tore': 15450, 'utmost': 15451, 'flung': 15452, 'tamilian': 15453, 'enga': 15454, 'thalai': 15455, 'fervor': 15456, 'heartland': 15457, 'fringe': 15458, 'culturally': 15459, 'unify': 15460, 'attainable': 15461, 'prickly': 15462, 'diatribe': 15463, 'converse': 15464, 'amalgamated': 15465, 'inglish': 15466, 'aspirations': 15467, 'sixty': 15468, 'wildebeest': 15469, 'readily': 15470, 'gainful': 15471, 'stymie': 15472, 'paroxysm': 15473, 'poise': 15474, 'westward': 15475, 'unbeknownst': 15476, 'rapture': 15477, 'prowess': 15478, 'glowingly': 15479, 'magnetically': 15480, 'levitate': 15481, 'shithole': 15482, 'parochial': 15483, 'invisible': 15484, 'americana': 15485, 'dbev': 15486, 'quraishi': 15487, 'reletives': 15488, 'flatpebble': 15489, 'kh': 15490, 'photographers': 15491, 'mgh': 15492, 'bwjtpx': 15493, 'zones': 15494, 'clat': 15495, 'ailet': 15496, 'fvcvo': 15497, 'burman': 15498, 'bandage': 15499, 'rllf': 15500, 'berth': 15501, 'fiqszt': 15502, 'fhgyhu': 15503, 'hes': 15504, 'tcehs': 15505, 'thermos': 15506, 'yezn': 15507, 'purchases': 15508, 'laughs': 15509, 'societies': 15510, 'promotional': 15511, 'kareena': 15512, 'kapoor': 15513, 'devgan': 15514, 'bleaker': 15515, 'stigmatises': 15516, 'platinum': 15517, 'ciddbn': 15518, 'counterbalance': 15519, 'squash': 15520, 'hasten': 15521, 'dhgihfu': 15522, 'ftx': 15523, 'vv': 15524, 'bx': 15525, 'lr': 15526, 'unrecognisable': 15527, 'stimuli': 15528, 'holistic': 15529, 'sketching': 15530, 'improves': 15531, 'noticeable': 15532, 'optimal': 15533, 'backwardness': 15534, 'deciders': 15535, 'unwillingness': 15536, 'groundwork': 15537, 'equalise': 15538, 'disadvantaged': 15539, 'offload': 15540, 'vertical': 15541, 'pedagogy': 15542, 'substandard': 15543, 'teis': 15544, 'bwb': 15545, 'taboola': 15546, 'superheroes': 15547, 'paced': 15548, 'sartaj': 15549, 'don': 15550, 'superhero': 15551, 'ezqw': 15552, 'nonpoliticalfriend': 15553, 'wrote': 15554, 'narratives': 15555, 'xodeaevx': 15556, 'kumbh': 15557, 'essays': 15558, 'faces': 15559, 'mahakumbh': 15560, 'welder': 15561, 'amir': 15562, 'welders': 15563, 'hoc': 15564, 'vidhan': 15565, 'suspiciously': 15566, 'disavow': 15567, 'dissolve': 15568, 'trident': 15569, 'orchestrate': 15570, 'diaper': 15571, 'rocky': 15572, 'forming': 15573, 'netted': 15574, 'cherry': 15575, 'deliverer': 15576, 'salvation': 15577, 'observers': 15578, 'jenga': 15579, 'balasaheb': 15580, 'thorat': 15581, 'rash': 15582, 'chindianbro': 15583, 'plein': 15584, 'vnsi': 15585, 'starzined': 15586, 'huhd': 15587, 'thehairyfeet': 15588, 'kk': 15589, 'karanpalxyz': 15590, 'neocasio': 15591, 'flute': 15592, 'ihjm': 15593, 'trance': 15594, 'zorbish': 15595, 'ezo': 15596, 'saptarsi': 15597, 'jz': 15598, 'pupbd': 15599, 'reappointed': 15600, 'minefield': 15601, 'intricate': 15602, 'interlocking': 15603, 'hugely': 15604, 'newer': 15605, 'mundane': 15606, 'dominos': 15607, 'frontrunner': 15608, 'janpath': 15609, 'paswan': 15610, 'hybrid': 15611, 'inventory': 15612, 'jeff': 15613, 'pharma': 15614, 'gulf': 15615, 'halve': 15616, 'goodwill': 15617, 'spinner': 15618, 'amass': 15619, 'ninth': 15620, 'ns': 15621, 'fsk': 15622, 'qsfd': 15623, 'impressions': 15624, 'introspection': 15625, 'diabolical': 15626, 'diverted': 15627, 'unpleasant': 15628, 'jem': 15629, 'jawans': 15630, 'luxurious': 15631, 'swimming': 15632, 'romanticise': 15633, 'davinder': 15634, 'shopian': 15635, 'unsettling': 15636, 'vigil': 15637, 'udpate': 15638, 'apprehend': 15639, 'retweeting': 15640, 'whore': 15641, 'defection': 15642, 'pressurise': 15643, 'purge': 15644, 'ideologically': 15645, 'reorganise': 15646, 'heed': 15647, 'ideological': 15648, 'secularity': 15649, 'guise': 15650, 'irreligious': 15651, 'marginalised': 15652, 'unconstitutionalism': 15653, 'toc': 15654, 'splash': 15655, 'tawi': 15656, 'acbc': 15657, 'nzyejbhlnmu': 15658, 'ock': 15659, 'completed': 15660, 'bjc': 15661, 'kkrdp': 15662, 'czzj': 15663, 'fundamentalist': 15664, 'upvoting': 15665, 'slideshows': 15666, 'begins': 15667, 'trials': 15668, 'coaches': 15669, 'slideshow': 15670, 'solapur': 15671, 'gjmkgafcxi': 15672, 'fngwfk': 15673, 'raptor': 15674, 'denali': 15675, 'hellcat': 15676, 'cardilac': 15677, 'merc': 15678, 'ejtlnw': 15679, 'models': 15680, 'elv': 15681, 'rzd': 15682, 'blend': 15683, 'ets': 15684, 'footballwhere': 15685, 'stzacd': 15686, 'dilation': 15687, 'revati': 15688, 'ebay': 15689, 'fjisys': 15690, 'analogfilm': 15691, 'precedent': 15692, 'norwegian': 15693, 'bainjal': 15694, 'watcher': 15695, 'rivet': 15696, 'sivan': 15697, 'manley': 15698, 'xkjg': 15699, 'nyt': 15700, 'natgeo': 15701, 'nationalgeographic': 15702, 'wapo': 15703, 'ucw': 15704, 'hevotfz': 15705, 'afzsnfwynlng': 15706, 'polar': 15707, 'qcasck': 15708, 'lddw': 15709, 'iqntezaq': 15710, 'hastag': 15711, 'gaurav': 15712, 'jerry': 15713, 'linenger': 15714, 'zijmw': 15715, 'adhy': 15716, 'aqyv': 15717, 'wgmvos': 15718, 'ffgv': 15719, 'fbplzk': 15720, 'crx': 15721, 'kedarkanth': 15722, 'bramhatal': 15723, 'beginners': 15724, 'bfs': 15725, 'trekking': 15726, 'tho': 15727, 'efrzjb': 15728, 'livestream': 15729, 'fdj': 15730, 'marcin': 15731, 'ryczek': 15732, 'sales': 15733, 'ashoka': 15734, 'tfb': 15735, 'teams': 15736, 'lives': 15737, 'tasked': 15738, 'expats': 15739, 'hifi': 15740, 'outing': 15741, 'dudette': 15742, 'bugging': 15743, 'bwz': 15744, 'topstories': 15745, 'reel': 15746, 'downwards': 15747, 'staple': 15748, 'freer': 15749, 'prudence': 15750, 'fiolca': 15751, 'apalling': 15752, 'whitewash': 15753, 'jhansi': 15754, 'kesari': 15755, 'thakeray': 15756, 'batla': 15757, 'taanaji': 15758, 'ahqsog': 15759, 'nationalistright': 15760, 'frto': 15761, 'coincidental': 15762, 'rwywv': 15763, 'parle': 15764, 'qdvc': 15765, 'zqf': 15766, 'mallakhamb': 15767, 'cjjgyb': 15768, 'jnlb': 15769, 'resonate': 15770, 'forerunner': 15771, 'atheist': 15772, 'inhibit': 15773, 'achieving': 15774, 'actualize': 15775, 'polarization': 15776, 'unhelpful': 15777, 'tangible': 15778, 'measurable': 15779, 'gini': 15780, 'coefficient': 15781, 'monitored': 15782, 'liberalized': 15783, 'perpetual': 15784, 'rds': 15785, 'quorum': 15786, 'bilaterally': 15787, 'integral': 15788, 'plebiscite': 15789, 'elected': 15790, 'indefinitely': 15791, 'eternity': 15792, 'penniless': 15793, 'scandinavian': 15794, 'btkyzh': 15795, 'armchair': 15796, 'ilk': 15797, 'askindiaserious': 15798, 'attempting': 15799, 'reforming': 15800, 'vos': 15801, 'ogsm': 15802, 'northjury': 15803, 'cydkt': 15804, 'pwm': 15805, 'dadp': 15806, 'crib': 15807, 'drafted': 15808, 'soundness': 15809, 'recourse': 15810, 'pursuant': 15811, 'interdisciplinary': 15812, 'methodology': 15813, 'jiao': 15814, 'tong': 15815, 'wci': 15816, 'accelerated': 15817, 'seeks': 15818, 'fwcie': 15819, 'lnwm': 15820, 'neets': 15821, 'heartbreak': 15822, 'conformity': 15823, 'iamas': 15824, 'nhk': 15825, 'abc': 15826, 'dowry': 15827, 'socialized': 15828, 'romance': 15829, 'cousins': 15830, 'uncles': 15831, 'unexplained': 15832, 'jees': 15833, 'aieees': 15834, 'yawn': 15835, 'chasm': 15836, 'reclusion': 15837, 'recluse': 15838, 'fellowmen': 15839, 'touchy': 15840, 'byiscn': 15841, 'intelligencecareers': 15842, 'gchq': 15843, 'fbiagentedu': 15844, 'sis': 15845, 'webpage': 15846, 'mitnick': 15847, 'faker': 15848, 'fadia': 15849, 'troyhunt': 15850, 'pathology': 15851, 'devastated': 15852, 'babulog': 15853, 'kssg': 15854, 'dialled': 15855, 'ivano': 15856, 'frankivsk': 15857, 'hiding': 15858, 'mzc': 15859, 'pretending': 15860, 'ylde': 15861, 'swarajyamag': 15862, 'violator': 15863, 'counterproductive': 15864, 'distrustful': 15865, 'bleach': 15866, 'disninfect': 15867, 'zuc': 15868, 'supplies': 15869, 'jrbun': 15870, 'vsvo': 15871, 'heritage': 15872, 'decay': 15873, 'outset': 15874, 'unvarnished': 15875, 'palate': 15876, 'intrude': 15877, 'lunatic': 15878, 'inconsiderate': 15879, 'fellowships': 15880, 'originality': 15881, 'stark': 15882, 'ashkenazi': 15883, 'marwaris': 15884, 'southward': 15885, 'palo': 15886, 'alto': 15887, 'santa': 15888, 'clara': 15889, 'clannish': 15890, 'fml': 15891, 'sf': 15892, 'populate': 15893, 'barbarism': 15894, 'traverse': 15895, 'impulse': 15896, 'consciously': 15897, 'retrace': 15898, 'thankless': 15899, 'nigh': 15900, 'plough': 15901, 'coherent': 15902, 'oriental': 15903, 'invented': 15904, 'mish': 15905, 'tempting': 15906, 'unruly': 15907, 'mobs': 15908, 'proverbial': 15909, 'formidable': 15910, 'territorial': 15911, 'holding': 15912, 'crucible': 15913, 'empires': 15914, 'captive': 15915, 'westernization': 15916, 'uclxo': 15917, 'udzvbyw': 15918, 'ixzpqcufna': 15919, 'ucr': 15920, 'vdp': 15921, 'hkrh': 15922, 'wgjqrw': 15923, 'minidocumentaries': 15924, 'casey': 15925, 'neistat': 15926, 'dost': 15927, 'maxjosephdirector': 15928, 'videogamedunkey': 15929, 'ucsvn': 15930, 'smunchjyowpoxmg': 15931, 'omeleto': 15932, 'uctmt': 15933, 'imwa': 15934, 'fnxiktwyla': 15935, 'largeshortfilms': 15936, 'dobrik': 15937, 'vloggers': 15938, 'duniya': 15939, 'ucmh': 15940, 'gdwcx': 15941, 'ln': 15942, 'gec': 15943, 'lenva': 15944, 'rogan': 15945, 'powerfuljre': 15946, 'peeinghuman': 15947, 'ucfm': 15948, 'hicgkbpjmlcmj': 15949, 'panion': 15950, 'emltjy': 15951, 'axzm': 15952, 'shw': 15953, 'rober': 15954, 'ucy': 15955, 'kmzp': 15956, 'iqsynx': 15957, 'mpcg': 15958, 'kurzgesagt': 15959, 'nutshell': 15960, 'ucsxvk': 15961, 'blthxd': 15962, 'rdpwtnm': 15963, 'walon': 15964, 'pasand': 15965, 'ucyo': 15966, 'jab': 15967, 'esufrv': 15968, 'ajtaw': 15969, 'sean': 15970, 'tucker': 15971, 'seantuckermerge': 15972, 'rwj': 15973, 'raywilliamjohnson': 15974, 'blankonblank': 15975, 'bohot': 15976, 'uch': 15977, 'dvd': 15978, 'yusghle': 15979, 'yjepg': 15980, 'wurtz': 15981, 'ineffable': 15982, 'billwurtz': 15983, 'studioc': 15984, 'snl': 15985, 'byutelevision': 15986, 'hysterically': 15987, 'dubbed': 15988, 'parody': 15989, 'teamfourstar': 15990, 'thenewyorktimes': 15991, 'ucreicnv': 15992, 'jixxcjdz': 15993, 'gtdapw': 15994, 'darbyshire': 15995, 'vlogs': 15996, 'uced': 15997, 'vwvu': 15998, 'hzikpblwl': 15999, 'everyframeapainting': 16000, 'eyflzw': 16001, 'wkerdsm': 16002, 'amkffg': 16003, 'aphihp': 16004, 'kwzy': 16005, 'globetrotting': 16006, 'swaminathan': 16007, 'rationalist': 16008, 'trs': 16009, 'goalpost': 16010, 'naga': 16011, 'acche': 16012, 'kab': 16013, 'aayenge': 16014, 'sdgs': 16015, 'coke': 16016, 'relaxed': 16017, 'agrarian': 16018, 'revolutionise': 16019, 'saurashtra': 16020, 'shark': 16021, 'counterfeit': 16022, 'ioe': 16023, 'concentrated': 16024, 'jrfs': 16025, 'srf': 16026, 'retrospective': 16027, 'tenable': 16028, 'mechanism': 16029, 'mca': 16030, 'draftnationalguidelines': 16031, 'legalise': 16032, 'idiots': 16033, 'barking': 16034, 'sta': 16035, 'moonlight': 16036, 'nzso': 16037, 'pravesh': 16038, 'hingmang': 16039, 'orginals': 16040, 'sna': 16041, 'jdg': 16042, 'animator': 16043, 'lull': 16044, 'ukelele': 16045, 'sang': 16046, 'raggae': 16047, 'ylb': 16048, 'weeks': 16049, 'assholes': 16050, 'aftiwi': 16051, 'generalizations': 16052, 'koy': 16053, 'spain': 16054, 'hardwork': 16055, 'cooperates': 16056, 'scooty': 16057, 'activa': 16058, 'ananda': 16059, 'bommanahalli': 16060, 'vbeep': 16061, 'scootybike': 16062, 'ffwh': 16063, 'conversations': 16064, 'majorly': 16065, 'sceptical': 16066, 'khurana': 16067, 'amar': 16068, 'marvelous': 16069, 'portrayal': 16070, 'masculine': 16071, 'feminine': 16072, 'presentable': 16073, 'socialisation': 16074, 'javed': 16075, 'jaffrey': 16076, 'patriarchal': 16077, 'pednekar': 16078, 'marital': 16079, 'omg': 16080, 'beautifing': 16081, 'mendable': 16082, 'reformation': 16083, 'denunciation': 16084, 'plurality': 16085, 'separation': 16086, 'archetype': 16087, 'shames': 16088, 'cinematic': 16089, 'preachy': 16090, 'normalisation': 16091, 'shallowness': 16092, 'filmy': 16093, 'gratification': 16094, 'emulate': 16095, 'deadbeat': 16096, 'monotony': 16097, 'hota': 16098, 'yammi': 16099, 'catharcis': 16100, 'reversal': 16101, 'athenian': 16102, 'societical': 16103, 'taunting': 16104, 'tonned': 16105, 'althout': 16106, 'adheres': 16107, 'resurgence': 16108, 'jny': 16109, 'cdsco': 16110, 'rrt': 16111, 'irregularity': 16112, 'fvuswa': 16113, 'meets': 16114, 'falters': 16115, 'imports': 16116, 'goods': 16117, 'dressed': 16118, 'frag': 16119, 'opinionbit': 16120, 'khanna': 16121, 'semifinals': 16122, 'televise': 16123, 'ucex': 16124, 'uymdicqvec': 16125, 'rahwq': 16126, 'biting': 16127, 'nagal': 16128, 'vcz': 16129, 'otg': 16130, 'uzvgcqyjmz': 16131, 'zjlnzrcmo': 16132, 'showrooms': 16133, 'jitters': 16134, 'mends': 16135, 'constituting': 16136, 'blocked': 16137, 'crowdsources': 16138, 'restart': 16139, 'fdaht': 16140, 'ignis': 16141, 'turning': 16142, 'connects': 16143, 'bust': 16144, 'spilled': 16145, 'drivable': 16146, 'dismissed': 16147, 'eihedp': 16148, 'enrollment': 16149, 'dmz': 16150, 'surpluse': 16151, 'utilised': 16152, 'occurrence': 16153, 'empanel': 16154, 'defray': 16155, 'fqr': 16156, 'regions': 16157, 'divining': 16158, 'surname': 16159, 'superstar': 16160, 'lister': 16161, 'eras': 16162, 'dhadak': 16163, 'sairat': 16164, 'uwu': 16165, 'characters': 16166, 'cefp': 16167, 'afk': 16168, 'tsunami': 16169, 'tarkarli': 16170, 'kavfuon': 16171, 'thrashed': 16172, 'dsbcmttb': 16173, 'jqzzrui': 16174, 'ucm': 16175, 'chamcha': 16176, 'panagarhia': 16177, 'predictions': 16178, 'amartya': 16179, 'sen': 16180, 'sleeper': 16181, 'attemw': 16182, 'waiting': 16183, 'zlgbl': 16184, 'funds': 16185, 'scrapped': 16186, 'unsaturated': 16187, 'unedited': 16188, 'wanderlust': 16189, 'nonwanderlust': 16190, 'photographytravel': 16191, 'jonu': 16192, 'participating': 16193, 'hinging': 16194, 'fsxw': 16195, 'askindiahow': 16196, 'publishing': 16197, 'singlehandedly': 16198, 'changed': 16199, 'qi': 16200, 'odi': 16201, 'wl': 16202, 'blcg': 16203, 'economists': 16204, 'neoliberal': 16205, 'outs': 16206, 'loner': 16207, 'eyesight': 16208, 'regurgitate': 16209, 'honor': 16210, 'studenthood': 16211, 'adulthood': 16212, 'mhk': 16213, 'sonpy': 16214, 'assaulted': 16215, 'dummy': 16216, 'cfwha': 16217, 'fallback': 16218, 'srm': 16219, 'bim': 16220, 'trichy': 16221, 'tinnitus': 16222, 'intrested': 16223, 'counseling': 16224, 'relationshipz': 16225, 'instability': 16226, 'aasan': 16227, 'cleared': 16228, 'harp': 16229, 'siddis': 16230, 'modates': 16231, 'mhada': 16232, 'koli': 16233, 'libtards': 16234, 'sickulars': 16235, 'citizenships': 16236, 'arrogantly': 16237, 'boggles': 16238, 'mena': 16239, 'eis': 16240, 'fzik': 16241, 'oyqoo': 16242, 'vxdayrl': 16243, 'noh': 16244, 'gog': 16245, 'lkif': 16246, 'lp': 16247, 'steriotypes': 16248, 'demonstrative': 16249, 'cling': 16250, 'subculture': 16251, 'tolerance': 16252, 'inclusiveness': 16253, 'sodomy': 16254, 'menter': 16255, 'edeet': 16256, 'amazed': 16257, 'squirrel': 16258, 'forage': 16259, 'hmkakot': 16260, 'fzs': 16261, 'follows': 16262, 'dbmci': 16263, 'popularly': 16264, 'againdrinks': 16265, 'bestselling': 16266, 'ftsaz': 16267, 'fabmart': 16268, 'evangelise': 16269, 'omni': 16270, 'aditya': 16271, 'diageo': 16272, 'gem': 16273, 'emarketplace': 16274, 'iiitb': 16275, 'cii': 16276, 'ficci': 16277, 'iamai': 16278, 'charter': 16279, 'parry': 16280, 'voracious': 16281, 'umpire': 16282, 'ksca': 16283, 'pastime': 16284, 'ilayaraaja': 16285, 'sip': 16286, 'esw': 16287, 'circulated': 16288, 'crysis': 16289, 'fcqkj': 16290, 'daughters': 16291, 'pulsarily': 16292, 'feast': 16293, 'kattar': 16294, 'israel': 16295, 'fbvox': 16296, 'accused': 16297, 'posts': 16298, 'kabbadi': 16299, 'insidesport': 16300, 'admired': 16301, 'locksreen': 16302, 'androidquestions': 16303, 'carasoul': 16304, 'explorer': 16305, 'nova': 16306, 'miui': 16307, 'avqijp': 16308, 'kansa': 16309, 'nonimmigrant': 16310, 'goin': 16311, 'expediate': 16312, 'eofawg': 16313, 'applying': 16314, 'kwl': 16315, 'pojanthrix': 16316, 'epts': 16317, 'courses': 16318, 'nirbhayas': 16319, 'bxtr': 16320, 'guidanceself': 16321, 'seditioned': 16322, 'prefix': 16323, 'anguish': 16324, 'eccb': 16325, 'parvesh': 16326, 'eac': 16327, 'bidar': 16328, 'fkunal': 16329, 'evi': 16330, 'labeling': 16331, 'goair': 16332, 'vistara': 16333, 'fbd': 16334, 'tickets': 16335, 'selfiestan': 16336, 'compelling': 16337, 'donates': 16338, 'savage': 16339, 'rekt': 16340, 'fakir': 16341, 'unsurprisingly': 16342, 'chaddy': 16343, 'drinker': 16344, 'agr': 16345, 'indusind': 16346, 'cashpayers': 16347, 'knell': 16348, 'careless': 16349, 'duopoly': 16350, 'tai': 16351, 'fll': 16352, 'expected': 16353, 'grammer': 16354, 'gf': 16355, 'permanently': 16356, 'hiccup': 16357, 'responility': 16358, 'bakery': 16359, 'bake': 16360, 'diagnosed': 16361, 'parkisons': 16362, 'grieve': 16363, 'eneded': 16364, 'insertion': 16365, 'trinity': 16366, 'olxbh': 16367, 'raiganj': 16368, 'buddha': 16369, 'sic': 16370, 'hpbhg': 16371, 'amitshah': 16372, 'motherland': 16373, 'infiltration': 16374, 'presidentofindia': 16375, 'supplementary': 16376, 'bjplive': 16377, 'abundantly': 16378, 'isps': 16379, 'ciwqvu': 16380, 'dying': 16381, 'vkdtp': 16382, 'bhut': 16383, 'jolokia': 16384, 'hottest': 16385, 'spiciest': 16386, 'lxqsfcd': 16387, 'crippling': 16388, 'curable': 16389, 'waking': 16390, 'breeze': 16391, 'dealing': 16392, 'mooo': 16393, 'password': 16394, 'functionality': 16395, 'wolf': 16396, 'bertazzoni': 16397, 'germania': 16398, 'elica': 16399, 'ovens': 16400, 'dmjv': 16401, 'stiffened': 16402, 'midway': 16403, 'whisper': 16404, 'scarlet': 16405, 'fend': 16406, 'interrupted': 16407, 'stiff': 16408, 'barge': 16409, 'shaven': 16410, 'cooperate': 16411, 'roar': 16412, 'instinct': 16413, 'lurch': 16414, 'calmly': 16415, 'howl': 16416, 'laud': 16417, 'mildly': 16418, 'erstwhile': 16419, 'persona': 16420, 'helplessly': 16421, 'impersonate': 16422, 'protested': 16423, 'spectacle': 16424, 'munally': 16425, 'edwj': 16426, 'jwirhiw': 16427, 'blames': 16428, 'sins': 16429, 'vastralatha': 16430, 'deepawali': 16431, 'qr': 16432, 'mirpakayi': 16433, 'bajji': 16434, 'bhajji': 16435, 'stallkeeper': 16436, 'cautiously': 16437, 'gleam': 16438, 'stitch': 16439, 'olauber': 16440, 'afm': 16441, 'zqz': 16442, 'yewn': 16443, 'liechtenstein': 16444, 'wto': 16445, 'tec': 16446, 'ssrn': 16447, 'sol': 16448, 'kasmati': 16449, 'aromatic': 16450, 'interbreed': 16451, 'nongovernmental': 16452, 'biopiracy': 16453, 'sought': 16454, 'thai': 16455, 'pagewanted': 16456, 'ubif': 16457, 'techfest': 16458, 'aaditya': 16459, 'jaitapur': 16460, 'authackeray': 16461, 'fitting': 16462, 'vancouver': 16463, 'pale': 16464, 'metres': 16465, 'htqri': 16466, 'xrrpzrgn': 16467, 'vxi': 16468, 'starsportsindia': 16469, 'leicester': 16470, 'huddersfield': 16471, 'premierleague': 16472, 'lcfc': 16473, 'htafcdot': 16474, 'ruu': 16475, 'telecasting': 16476, 'indiagate': 16477, 'rajpath': 16478, 'conviniences': 16479, 'krishnaveni': 16480, 'byatarayanapura': 16481, 'squad': 16482, 'announced': 16483, 'ajl': 16484, 'ajgmday': 16485, 'ccdt': 16486, 'imcliding': 16487, 'banished': 16488, 'orgainsations': 16489, 'rightward': 16490, 'neoliberalism': 16491, 'vh': 16492, 'markedly': 16493, 'reappear': 16494, 'gpa': 16495, 'curriculars': 16496, 'soldering': 16497, 'circuitry': 16498, 'cros': 16499, 'intervening': 16500, 'juggle': 16501, 'physics': 16502, 'qm': 16503, 'photonics': 16504, 'derivative': 16505, 'waveguide': 16506, 'splitter': 16507, 'coupler': 16508, 'mathematically': 16509, 'tpnx': 16510, 'evacuee': 16511, 'evacuees': 16512, 'caliphate': 16513, 'iyzi': 16514, 'saheen': 16515, 'brigeded': 16516, 'tiffins': 16517, 'dkp': 16518, 'husfez': 16519, 'dxadm': 16520, 'kixgzhilzbq': 16521, 'lqm': 16522, 'robus': 16523, 'detrimental': 16524, 'ensures': 16525, 'underemployed': 16526, 'exert': 16527, 'impatiently': 16528, 'grassroots': 16529, 'juvenal': 16530, 'circuses': 16531, 'charismatic': 16532, 'neutralize': 16533, 'spurt': 16534, 'resurrect': 16535, 'flawed': 16536, 'resurrecting': 16537, 'kashmirs': 16538, 'buried': 16539, 'sequierra': 16540, 'abyh': 16541, 'trims': 16542, 'trim': 16543, 'bundle': 16544, 'cert': 16545, 'cabs': 16546, 'hbm': 16547, 'pill': 16548, 'biopharmaceutical': 16549, 'blurus': 16550, 'byju': 16551, 'pricetag': 16552, 'sokranti': 16553, 'sokrati': 16554, 'qarth': 16555, 'indianweb': 16556, 'lipi': 16557, 'urn': 16558, 'apage': 16559, 'zdyup': 16560, 'fqua': 16561, 'gqg': 16562, 'aeon': 16563, 'quitter': 16564, 'eba': 16565, 'mislead': 16566, 'prospero': 16567, 'yuval': 16568, 'noah': 16569, 'harari': 16570, 'cfec': 16571, 'sharabi': 16572, 'slrfoo': 16573, 'gyr': 16574, 'sodomise': 16575, 'barmer': 16576, 'thrashedsodomised': 16577, 'glut': 16578, 'pegs': 16579, 'bined': 16580, 'roles': 16581, 'algorithmic': 16582, 'aspirer': 16583, 'middling': 16584, 'languishes': 16585, 'afoot': 16586, 'sevp': 16587, 'pel': 16588, 'lowly': 16589, 'avenue': 16590, 'arduous': 16591, 'prevents': 16592, 'untrained': 16593, 'unattractive': 16594, 'aspiringminds': 16595, 'viewdocument': 16596, 'documentid': 16597, 'institutiontype': 16598, 'bythenumbers': 16599, 'scimagojr': 16600, 'countryrank': 16601, 'indexes': 16602, 'datasetcode': 16603, 'msti': 16604, 'nsf': 16605, 'nsb': 16606, 'gbzmf': 16607, 'npengineering': 16608, 'neteller': 16609, 'cjb': 16610, 'earns': 16611, 'qualifiers': 16612, 'uvsnwnd': 16613, 'htiigmxqz': 16614, 'notifications': 16615, 'sz': 16616, 'microbes': 16617, 'wei': 16618, 'zhang': 16619, 'virology': 16620, 'fecal': 16621, 'serology': 16622, 'pulmonary': 16623, 'positives': 16624, 'rna': 16625, 'serological': 16626, 'mers': 16627, 'genetically': 16628, 'riyadh': 16629, 'arab': 16630, 'forums': 16631, 'secretariat': 16632, 'mexico': 16633, 'turkey': 16634, 'harmonization': 16635, 'extraordinary': 16636, 'vernacular': 16637, 'mahapalika': 16638, 'cybercrime': 16639, 'qualitatively': 16640, 'quantitatively': 16641, 'ecourts': 16642, 'ci': 16643, 'warehouse': 16644, 'sociality': 16645, 'seductive': 16646, 'seamlessly': 16647, 'morals': 16648, 'threatened': 16649, 'sacral': 16650, 'improvise': 16651, 'eogkmk': 16652, 'omw': 16653, 'xrays': 16654, 'dskeu': 16655, 'physiotherapistpreferably': 16656, 'uttrakhand': 16657, 'varkala': 16658, 'baisically': 16659, 'dzg': 16660, 'pushkar': 16661, 'jodhpur': 16662, 'aud': 16663, 'massage': 16664, 'camel': 16665, 'jaisalmer': 16666, 'hv': 16667, 'chetan': 16668, 'baffled': 16669, 'fracture': 16670, 'soothe': 16671, 'examiner': 16672, 'hallow': 16673, 'hoopla': 16674, 'smarted': 16675, 'rfw': 16676, 'nqy': 16677, 'cocky': 16678, 'embarrassingly': 16679, 'magically': 16680, 'worldview': 16681, 'plainly': 16682, 'rotten': 16683, 'yz': 16684, 'egsrt': 16685, 'gorilla': 16686, 'empathise': 16687, 'insensitive': 16688, 'diplomats': 16689, 'cluelessness': 16690, 'cesspool': 16691, 'hideous': 16692, 'decency': 16693, 'regressive': 16694, 'hyperlink': 16695, 'madam': 16696, 'condemned': 16697, 'sportskeeda': 16698, 'thru': 16699, 'nvsp': 16700, 'beforehand': 16701, 'nota': 16702, 'bau': 16703, 'ahve': 16704, 'frivolous': 16705, 'qozf': 16706, 'anganwadi': 16707, 'cmokerala': 16708, 'lancer': 16709, 'mij': 16710, 'lancing': 16711, 'fulltime': 16712, 'positively': 16713, 'writingprompts': 16714, 'abixfy': 16715, 'allowed': 16716, 'scholarly': 16717, 'gaga': 16718, 'bickering': 16719, 'teambourbon': 16720, 'dealbook': 16721, 'baidu': 16722, 'dhfl': 16723, 'vada': 16724, 'pavement': 16725, 'employed': 16726, 'kart': 16727, 'sewer': 16728, 'balloon': 16729, 'procrastinator': 16730, 'procrastinate': 16731, 'dqhgndgtcgicbska': 16732, 'qfs': 16733, 'pajamas': 16734, 'vigilance': 16735, 'isb': 16736, 'mdi': 16737, 'salivate': 16738, 'telenor': 16739, 'editionlist': 16740, 'artid': 16741, 'asians': 16742, 'cheated': 16743, 'scams': 16744, 'dqw': 16745, 'wgxcq': 16746, 'hcltech': 16747, 'ahcltech': 16748, 'agrasim': 16749, 'lupin': 16750, 'alupin': 16751, 'lw': 16752, 'featured': 16753, 'kqjhq': 16754, 'jewellery': 16755, 'petitors': 16756, 'garment': 16757, 'autocracy': 16758, 'affinity': 16759, 'laos': 16760, 'vietnamese': 16761, 'optimize': 16762, 'carpet': 16763, 'overreach': 16764, 'resentful': 16765, 'exchequer': 16766, 'lining': 16767, 'texted': 16768, 'provoke': 16769, 'undertakings': 16770, 'ecqcaf': 16771, 'neelam': 16772, 'maurya': 16773, 'dharna': 16774, 'telibandha': 16775, 'talab': 16776, 'refinery': 16777, 'mahul': 16778, 'chembur': 16779, 'currey': 16780, 'naka': 16781, 'dilail': 16782, 'kotwal': 16783, 'malwani': 16784, 'shahid': 16785, 'smarak': 16786, 'albert': 16787, 'putla': 16788, 'khila': 16789, 'basavakalyan': 16790, 'mira': 16791, 'bhayandar': 16792, 'doimukh': 16793, 'arunanchal': 16794, 'nehu': 16795, 'wakdewadi': 16796, 'annabhau': 16797, 'sathe': 16798, 'sarasbaug': 16799, 'bahujan': 16800, 'kranti': 16801, 'khyndailad': 16802, 'bazar': 16803, 'aldwych': 16804, 'valluvar': 16805, 'kottam': 16806, 'ktc': 16807, 'panaji': 16808, 'spgrhh': 16809, 'bcfe': 16810, 'eldugv': 16811, 'individuality': 16812, 'cheapest': 16813, 'venezuela': 16814, 'lookup': 16815, 'foolishness': 16816, 'kamasutra': 16817, 'objectify': 16818, 'eith': 16819, 'egc': 16820, 'jta': 16821, 'fpps': 16822, 'mercialising': 16823, 'ribbon': 16824, 'donuts': 16825, 'capitalization': 16826, 'reserving': 16827, 'domino': 16828, 'finer': 16829, 'parliamentarian': 16830, 'penthouses': 16831, 'brighten': 16832, 'garnish': 16833, 'nicotine': 16834, 'torturous': 16835, 'roadway': 16836, 'happier': 16837, 'tollywoodonomics': 16838, 'kollywoodonomics': 16839, 'lingaa': 16840, 'kochadaiiyaan': 16841, 'spielberg': 16842, 'cutout': 16843, 'kicker': 16844, 'rajinikanths': 16845, 'catchnews': 16846, 'processor': 16847, 'emvantage': 16848, 'ekart': 16849, 'ipos': 16850, 'pepsico': 16851, 'chocolates': 16852, 'conclusive': 16853, 'hardest': 16854, 'cloudera': 16855, 'hadoop': 16856, 'hbase': 16857, 'zxad': 16858, 'switching': 16859, 'qmzamup': 16860, 'taunted': 16861, 'feu': 16862, 'breaker': 16863, 'loosing': 16864, 'misspell': 16865, 'bkc': 16866, 'apd': 16867, 'dzbodd': 16868, 'acnz': 16869, 'spiked': 16870, 'yduuz': 16871, 'txxt': 16872, 'spotlight': 16873, 'onus': 16874, 'altruistic': 16875, 'benevolence': 16876, 'abdicate': 16877, 'lurk': 16878, 'entitlement': 16879, 'forefather': 16880, 'demotivated': 16881, 'fbyadg': 16882, 'pentium': 16883, 'greenfield': 16884, 'stab': 16885, 'nuance': 16886, 'req': 16887, 'fmbcnx': 16888, 'executed': 16889, 'hcpft': 16890, 'idgy': 16891, 'incapacitate': 16892, 'recede': 16893, 'revision': 16894, 'qv': 16895, 'bakced': 16896, 'behemoth': 16897, 'naspers': 16898, 'ctrip': 16899, 'deck': 16900, 'railyatri': 16901, 'fisdom': 16902, 'lightbox': 16903, 'seattle': 16904, 'zensaar': 16905, 'zensar': 16906, 'janak': 16907, 'rajesh': 16908, 'sahwney': 16909, 'innerchef': 16910, 'vyas': 16911, 'surojit': 16912, 'nyogi': 16913, 'bharosa': 16914, 'ica': 16915, 'vishy': 16916, 'poosala': 16917, 'sahni': 16918, 'boman': 16919, 'dhruv': 16920, 'chitgopekar': 16921, 'kwan': 16922, 'prantik': 16923, 'dasgupta': 16924, 'sebis': 16925, 'ibibo': 16926, 'ronnie': 16927, 'screwvalas': 16928, 'soinsi': 16929, 'lowdown': 16930, 'cheques': 16931, 'xdnu': 16932, 'ielts': 16933, 'cfa': 16934, 'flqqhz': 16935, 'audacity': 16936, 'pwc': 16937, 'recite': 16938, 'goals': 16939, 'tramadol': 16940, 'thigh': 16941, 'backyard': 16942, 'entails': 16943, 'vishakhapatnam': 16944, 'homeland': 16945, 'herb': 16946, 'ibogaine': 16947, 'recuperate': 16948, 'ipdj': 16949, 'tooafraidtoask': 16950, 'attribution': 16951, 'tenancy': 16952, 'demat': 16953, 'fpis': 16954, 'reit': 16955, 'invit': 16956, 'fpi': 16957, 'swachatha': 16958, 'spvs': 16959, 'suburban': 16960, 'ministires': 16961, 'basaveswara': 16962, 'vachanas': 16963, 'bulb': 16964, 'stove': 16965, 'shgs': 16966, 'overdraft': 16967, 'shg': 16968, 'ibc': 16969, 'pooled': 16970, 'hfc': 16971, 'nhb': 16972, 'ell': 16973, 'etfs': 16974, 'catergory': 16975, 'aifs': 16976, 'ifscs': 16977, 'stt': 16978, 'aadhhar': 16979, 'interchangeable': 16980, 'tds': 16981, 'mdrs': 16982, 'neft': 16983, 'rtgs': 16984, 'bracket': 16985, 'bcd': 16986, 'sriniveshindia': 16987, 'qvq': 16988, 'reactions': 16989, 'dalhousie': 16990, 'mce': 16991, 'mcgill': 16992, 'ucg': 16993, 'politicalshitty': 16994, 'votes': 16995, 'symbolism': 16996, 'aura': 16997, 'ranjith': 16998, 'nooks': 16999, 'bylanes': 17000, 'voiceover': 17001, 'jot': 17002, 'denizen': 17003, 'ambedkarite': 17004, 'antagonist': 17005, 'nana': 17006, 'patekar': 17007, 'fantasize': 17008, 'precarious': 17009, 'neat': 17010, 'milieu': 17011, 'unclean': 17012, 'baldwin': 17013, 'inhumanity': 17014, 'periyar': 17015, 'rightwing': 17016, 'deprave': 17017, 'retell': 17018, 'epical': 17019, 'sociological': 17020, 'oq': 17021, 'starring': 17022, 'bigstory': 17023, 'gaana': 17024, 'zerodha': 17025, 'resbus': 17026, 'enscm': 17027, 'askindiatoo': 17028, 'menus': 17029, 'adjusted': 17030, 'freshmenu': 17031, 'limb': 17032, 'xsjmc': 17033, 'hiv': 17034, 'fabricate': 17035, 'duplicate': 17036, 'displayed': 17037, 'fallible': 17038, 'twshare': 17039, 'qqxjbmj': 17040, 'znybrvcg': 17041, 'abba': 17042, 'pds': 17043, 'sujrt': 17044, 'ewd': 17045, 'xzny': 17046, 'rvhp': 17047, 'hyderabads': 17048, 'toiandroidapp': 17049, 'ekyc': 17050, 'acknowledges': 17051, 'airtelaadhaar': 17052, 'interactives': 17053, 'xvjf': 17054, 'zndqz': 17055, 'szlgau': 17056, 'bnfhxsnf': 17057, 'temxt': 17058, 'lxvmdft': 17059, 'leqwxoz': 17060, 'xott': 17061, 'ebshhyto': 17062, 'surety': 17063, 'jntu': 17064, 'mando': 17065, 'trojan': 17066, 'scribe': 17067, 'tamer': 17068, 'dmgbndmcod': 17069, 'mltyquo': 17070, 'latrine': 17071, 'manu': 17072, 'pli': 17073, 'darn': 17074, 'handicap': 17075, 'ckn': 17076, 'meag': 17077, 'faezqvbdq': 17078, 'drlfubudbk': 17079, 'pils': 17080, 'uidais': 17081, 'maadhaar': 17082, 'supersurveillance': 17083, 'bangaloremirror': 17084, 'diktat': 17085, 'asianage': 17086, 'vaf': 17087, 'uza': 17088, 'vknzllql': 17089, 'gginews': 17090, 'gautambhan': 17091, 'gxk': 17092, 'explaining': 17093, 'kanwal': 17094, 'homeopath': 17095, 'minster': 17096, 'rahulkanwal': 17097, 'shortcut': 17098, 'fragment': 17099, 'collaborative': 17100, 'xldhp': 17101, 'scwd': 17102, 'qfxb': 17103, 'ecd': 17104, 'pradan': 17105, 'udgxb': 17106, 'daab': 17107, 'fca': 17108, 'nmf': 17109, 'bigxb': 17110, 'governmenthas': 17111, 'mercialisation': 17112, 'munalisation': 17113, 'avenues': 17114, 'maximisation': 17115, 'abrupt': 17116, 'irrational': 17117, 'syllabi': 17118, 'propagation': 17119, 'brunt': 17120, 'oppressed': 17121, 'keshav': 17122, 'baliram': 17123, 'hedgewar': 17124, 'vessel': 17125, 'sunray': 17126, 'incurable': 17127, 'mixture': 17128, 'gau': 17129, 'mutra': 17130, 'hegde': 17131, 'allopathic': 17132, 'dwarf': 17133, 'sage': 17134, 'kanad': 17135, 'transplant': 17136, 'echoing': 17137, 'colder': 17138, 'ercuql': 17139, 'kheerganga': 17140, 'nainital': 17141, 'shea': 17142, 'goru': 17143, 'hampta': 17144, 'pxu': 17145, 'zz': 17146, 'bought': 17147, 'hyundai': 17148, 'magna': 17149, 'gqaa': 17150, 'tips': 17151, 'drugs': 17152, 'globaltimes': 17153, 'eliminating': 17154, 'reilly': 17155, 'sino': 17156, 'diplomatist': 17157, 'dipom': 17158, 'nj': 17159, 'df': 17160, 'chinaoutlook': 17161, 'chinabased': 17162, 'ostponed': 17163, 'vdhy': 17164, 'thrives': 17165, 'riskiest': 17166, 'hefty': 17167, 'herd': 17168, 'channelized': 17169, 'exude': 17170, 'portability': 17171, 'folded': 17172, 'unsung': 17173, 'favourism': 17174, 'shivsena': 17175, 'lapse': 17176, 'lithi': 17177, 'choka': 17178, 'filled': 17179, 'langar': 17180, 'orientation': 17181, 'itbp': 17182, 'partments': 17183, 'haridaskishore': 17184, 'twistedparth': 17185, 'furh': 17186, 'verifies': 17187, 'doubtfuls': 17188, 'indianness': 17189, 'login': 17190, 'lsi': 17191, 'loginnric': 17192, 'dillidurast': 17193, 'threadreaderapp': 17194, 'eez': 17195, 'beckons': 17196, 'cdtcgd': 17197, 'agi': 17198, 'cardboard': 17199, 'conversationalist': 17200, 'banter': 17201, 'chettri': 17202, 'james': 17203, 'vshxa': 17204, 'syncedreview': 17205, 'bhogle': 17206, 'boatf': 17207, 'perplex': 17208, 'catchy': 17209, 'bamk': 17210, 'lakes': 17211, 'friwew': 17212, 'effects': 17213, 'revolutionaries': 17214, 'warned': 17215, 'megalomaniac': 17216, 'velvet': 17217, 'grossly': 17218, 'fundssc': 17219, 'smq': 17220, 'mratv': 17221, 'phlug': 17222, 'dqjzuo': 17223, 'onelslnvo': 17224, 'ae': 17225, 'gah': 17226, 'doctorate': 17227, 'honorary': 17228, 'litt': 17229, 'kurukshetra': 17230, 'venkateswara': 17231, 'tirupathi': 17232, 'honoris': 17233, 'causa': 17234, 'edmonton': 17235, 'bologna': 17236, 'nagarjuna': 17237, 'guntur': 17238, 'formerly': 17239, 'paternal': 17240, 'gursharan': 17241, 'kaur': 17242, 'biographical': 17243, 'sanjaya': 17244, 'baru': 17245, 'spokesperson': 17246, 'fh': 17247, 'blowing': 17248, 'qvsb': 17249, 'vut': 17250, 'patchy': 17251, 'resolute': 17252, 'prioritize': 17253, 'dkxdxm': 17254, 'coders': 17255, 'rtionline': 17256, 'mastercard': 17257, 'maestro': 17258, 'lakshdweep': 17259, 'bansagar': 17260, 'arbitration': 17261, 'horticulture': 17262, 'wool': 17263, 'cgit': 17264, 'lighthouse': 17265, 'lightships': 17266, 'inv': 17267, 'farakka': 17268, 'barrage': 17269, 'stationery': 17270, 'handloom': 17271, 'corpn': 17272, 'hmi': 17273, 'ludhiana': 17274, 'gwalior': 17275, 'kancheepuram': 17276, 'academy': 17277, 'kendriya': 17278, 'vidyalaya': 17279, 'accreditation': 17280, 'calebration': 17281, 'bal': 17282, 'bhavan': 17283, 'antarctic': 17284, 'mision': 17285, 'nfai': 17286, 'allied': 17287, 'nimas': 17288, 'jute': 17289, 'nsrtc': 17290, 'nim': 17291, 'yuva': 17292, 'niper': 17293, 'rae': 17294, 'bareli': 17295, 'kannur': 17296, 'irla': 17297, 'cca': 17298, 'rajghat': 17299, 'samadhi': 17300, 'sansthan': 17301, 'vallabhbhai': 17302, 'satyajit': 17303, 'hoshangabad': 17304, 'upasi': 17305, 'giri': 17306, 'xlya': 17307, 'including': 17308, 'augpwm': 17309, 'nipple': 17310, 'beapher': 17311, 'lactol': 17312, 'carton': 17313, 'bedding': 17314, 'warmth': 17315, 'blister': 17316, 'boll': 17317, 'genitalia': 17318, 'watery': 17319, 'coil': 17320, 'burning': 17321, 'mixing': 17322, 'hurry': 17323, 'inbetween': 17324, 'gobble': 17325, 'sleepless': 17326, 'purina': 17327, 'tasty': 17328, 'dahi': 17329, 'carrot': 17330, 'pumpkin': 17331, 'nonveg': 17332, 'foolish': 17333, 'omnivorous': 17334, 'poops': 17335, 'pooping': 17336, 'presto': 17337, 'solimo': 17338, 'bbhome': 17339, 'scotch': 17340, 'brite': 17341, 'jumper': 17342, 'microfiber': 17343, 'periodically': 17344, 'tapeworms': 17345, 'substract': 17346, 'tapeworm': 17347, 'canine': 17348, 'distemper': 17349, 'hepatitis': 17350, 'parvo': 17351, 'para': 17352, 'influenza': 17353, 'cororna': 17354, 'freshcoat': 17355, 'erina': 17356, 'cleanser': 17357, 'mites': 17358, 'flea': 17359, 'dtgewr': 17360, 'rescuing': 17361, 'marker': 17362, 'momentous': 17363, 'humans': 17364, 'partmentalizing': 17365, 'choices': 17366, 'interconnect': 17367, 'wag': 17368, 'sow': 17369, 'ehzmtp': 17370, 'dkf': 17371, 'ethical': 17372, 'sem': 17373, 'solving': 17374, 'jdbc': 17375, 'codeforces': 17376, 'dsa': 17377, 'csit': 17378, 'industrialization': 17379, 'industrialisation': 17380, 'pathway': 17381, 'tandem': 17382, 'taiwan': 17383, 'jamaica': 17384, 'trinidad': 17385, 'tobago': 17386, 'rica': 17387, 'perennial': 17388, 'bgl': 17389, 'unequipped': 17390, 'transshipment': 17391, 'strangulate': 17392, 'formalization': 17393, 'epf': 17394, 'unbalance': 17395, 'chew': 17396, 'concoction': 17397, 'bwe': 17398, 'djaxxz': 17399, 'bh': 17400, 'otkbfn': 17401, 'dcdf': 17402, 'cbd': 17403, 'unanimous': 17404, 'socialdistancingadvisorybymohfw': 17405, 'undergo': 17406, 'policymakers': 17407, 'informs': 17408, 'underlying': 17409, 'noitfpo': 17410, 'wdlw': 17411, 'vdi': 17412, 'kaiaa': 17413, 'tpu': 17414, 'fkomvp': 17415, 'iau': 17416, 'letting': 17417, 'munuty': 17418, 'undertstand': 17419, 'conversate': 17420, 'sanely': 17421, 'craziness': 17422, 'futac': 17423, 'pitting': 17424, 'prescribed': 17425, 'dooafc': 17426, 'raised': 17427, 'kishan': 17428, 'yardstick': 17429, 'sriprakash': 17430, 'jaiswal': 17431, 'epes': 17432, 'fvz': 17433, 'fledgling': 17434, 'indianexmuslims': 17435, 'scientists': 17436, 'sgpa': 17437, 'bioa': 17438, 'flouride': 17439, 'soapnuts': 17440, 'grocer': 17441, 'besan': 17442, 'flour': 17443, 'dfljx': 17444, 'mbps': 17445, 'hdr': 17446, 'pixelations': 17447, 'disney': 17448, 'forex': 17449, 'imobile': 17450, 'bookmyforex': 17451, 'dcvch': 17452, 'mettle': 17453, 'caffeine': 17454, 'disposal': 17455, 'svnit': 17456, 'swags': 17457, 'wejoc': 17458, 'ngco': 17459, 'ccf': 17460, 'fndf': 17461, 'charminar': 17462, 'vxnwt': 17463, 'logout': 17464, 'zwez': 17465, 'tesi': 17466, 'msvlxgyg': 17467, 'banglore': 17468, 'pseng': 17469, 'pseco': 17470, 'smt': 17471, 'sulochanadevi': 17472, 'singhania': 17473, 'marksheet': 17474, 'attire': 17475, 'proficiency': 17476, 'premiere': 17477, 'artsy': 17478, 'weightage': 17479, 'afloat': 17480, 'reflective': 17481, 'xfr': 17482, 'summerslam': 17483, 'smaller': 17484, 'chinas': 17485, 'qa': 17486, 'bending': 17487, 'afobq': 17488, 'guitarist': 17489, 'acoustic': 17490, 'dcl': 17491, 'guitarists': 17492, 'hur': 17493, 'jgvzhha': 17494, 'eases': 17495, 'khatrein': 17496, 'wnx': 17497, 'uplifting': 17498, 'peril': 17499, 'kilometres': 17500, 'nearbly': 17501, 'goofy': 17502, 'zabardast': 17503, 'diarrhoea': 17504, 'dishearten': 17505, 'aroma': 17506, 'stinky': 17507, 'smelt': 17508, 'unwashed': 17509, 'dandruff': 17510, 'sleepy': 17511, 'doze': 17512, 'woke': 17513, 'grumble': 17514, 'skinny': 17515, 'bhencod': 17516, 'helpdesk': 17517, 'bellow': 17518, 'cabin': 17519, 'loiter': 17520, 'bhenchod': 17521, 'receptionist': 17522, 'monk': 17523, 'naqvi': 17524, 'usdie': 17525, 'albgknlko': 17526, 'industrialist': 17527, 'qualitative': 17528, 'kiron': 17529, 'publically': 17530, 'repulic': 17531, 'ajndra': 17532, 'personalities': 17533, 'hated': 17534, 'sycophant': 17535, 'inorganic': 17536, 'unleashed': 17537, 'unarm': 17538, 'incitement': 17539, 'xenophobic': 17540, 'overthrow': 17541, 'fjkxnm': 17542, 'arminder': 17543, 'lage': 17544, 'raho': 17545, 'recovers': 17546, 'drub': 17547, 'realised': 17548, 'siddaramiah': 17549, 'pandits': 17550, 'rampage': 17551, 'ahout': 17552, 'catcher': 17553, 'agitate': 17554, 'tory': 17555, 'fhv': 17556, 'surya': 17557, 'gxjijuju': 17558, 'roast': 17559, 'ahaha': 17560, 'roasted': 17561, 'defame': 17562, 'jsut': 17563, 'ftgt': 17564, 'buddy': 17565, 'fusion': 17566, 'varitasium': 17567, 'alter': 17568, 'cdduar': 17569, 'repaint': 17570, 'crayon': 17571, 'scribble': 17572, 'rangoli': 17573, 'bpxlc': 17574, 'tzw': 17575, 'mohfwa': 17576, 'writereaddata': 17577, 'userfiles': 17578, 'flatten': 17579, 'onset': 17580, 'juggernaut': 17581, 'meander': 17582, 'pathak': 17583, 'alipur': 17584, 'sickly': 17585, 'outburst': 17586, 'khanpur': 17587, 'befriends': 17588, 'stoic': 17589, 'kripalu': 17590, 'ashram': 17591, 'courst': 17592, 'robe': 17593, 'diligent': 17594, 'nauli': 17595, 'kriya': 17596, 'churn': 17597, 'depreciate': 17598, 'showmanship': 17599, 'mulayam': 17600, 'rift': 17601, 'cagey': 17602, 'unsolved': 17603, 'swadeshi': 17604, 'reap': 17605, 'ire': 17606, 'citu': 17607, 'brinda': 17608, 'testicle': 17609, 'wildcat': 17610, 'deer': 17611, 'roadshows': 17612, 'ayurved': 17613, 'disappearance': 17614, 'confrontational': 17615, 'inline': 17616, 'dismay': 17617, 'unrecognizable': 17618, 'purple': 17619, 'peel': 17620, 'confiscate': 17621, 'mukerjee': 17622, 'sahay': 17623, 'ired': 17624, 'swoop': 17625, 'famously': 17626, 'salwar': 17627, 'kameez': 17628, 'disorient': 17629, 'stabilize': 17630, 'witch': 17631, 'uneasy': 17632, 'dant': 17633, 'kanti': 17634, 'butter': 17635, 'patanjalis': 17636, 'increment': 17637, 'ramdevs': 17638, 'fraudulence': 17639, 'captivate': 17640, 'influenced': 17641, 'hoh': 17642, 'prnewswire': 17643, 'releases': 17644, 'motorola': 17645, 'lnu': 17646, 'brolpo': 17647, 'compensation': 17648, 'recklessness': 17649, 'badassery': 17650, 'dumbassery': 17651, 'undeniabledork': 17652, 'particulates': 17653, 'endorse': 17654, 'breathlessness': 17655, 'airborne': 17656, 'unpolluted': 17657, 'filtra': 17658, 'iiikzk': 17659, 'polluted': 17660, 'moisture': 17661, 'buildup': 17662, 'exertion': 17663, 'gv': 17664, 'qmrq': 17665, 'foldable': 17666, 'pvopw': 17667, 'filtration': 17668, 'oxygen': 17669, 'vouch': 17670, 'reused': 17671, 'fume': 17672, 'carcinogenic': 17673, 'replaceable': 17674, 'pureme': 17675, 'kxmhnl': 17676, 'tdas': 17677, 'pollutiion': 17678, 'dustproof': 17679, 'washable': 17680, 'ycwt': 17681, 'nc': 17682, 'rbq': 17683, 'kow': 17684, 'nostril': 17685, 'nanoclean': 17686, 'yfc': 17687, 'puff': 17688, 'exhale': 17689, 'inhale': 17690, 'suffocation': 17691, 'woven': 17692, 'electrostatic': 17693, 'antiparticulate': 17694, 'failing': 17695, 'interstellar': 17696, 'defy': 17697, 'christopher': 17698, 'pertains': 17699, 'wrangle': 17700, 'spitfire': 17701, 'seaman': 17702, 'symbolic': 17703, 'sinking': 17704, 'torpedo': 17705, 'winston': 17706, 'churchill': 17707, 'allude': 17708, 'fearlessly': 17709, 'requisition': 17710, 'cower': 17711, 'poetic': 17712, 'highland': 17713, 'regiment': 17714, 'poetically': 17715, 'moralistic': 17716, 'observant': 17717, 'superficial': 17718, 'perimeter': 17719, 'glorification': 17720, 'glorify': 17721, 'futility': 17722, 'aboard': 17723, 'ferry': 17724, 'sympathize': 17725, 'lad': 17726, 'fench': 17727, 'civilians': 17728, 'perplexed': 17729, 'sadder': 17730, 'angrier': 17731, 'shook': 17732, 'fuming': 17733, 'ja': 17734, 'counselled': 17735, 'infront': 17736, 'mockery': 17737, 'nonsensical': 17738, 'interracial': 17739, 'guns': 17740, 'stereotypical': 17741, 'dastur': 17742, 'azam': 17743, 'aniket': 17744, 'goodluck': 17745, 'dekhenge': 17746, 'firayalal': 17747, 'bab': 17748, 'ilm': 17749, 'regal': 17750, 'noongateway': 17751, 'aza': 17752, 'panjim': 17753, 'necklace': 17754, 'darushifa': 17755, 'amu': 17756, 'bhopa': 17757, 'jnusu': 17758, 'jnusuofficial': 17759, 'amunwala': 17760, 'cheapauk': 17761, 'lizsesh': 17762, 'playground': 17763, 'baruah': 17764, 'chariali': 17765, 'ekp': 17766, 'col': 17767, 'eugene': 17768, 'impey': 17769, 'ecimpey': 17770, 'ehuoqcaef': 17771, 'gobernment': 17772, 'pressing': 17773, 'olg': 17774, 'goans': 17775, 'francis': 17776, 'mascarenhas': 17777, 'vaman': 17778, 'aniceto': 17779, 'rosario': 17780, 'archenemy': 17781, 'disobey': 17782, 'navhindtimes': 17783, 'ilive': 17784, 'dat': 17785, 'wxujaaaaibaj': 17786, 'sjid': 17787, 'eaaaaibaj': 17788, 'liberator': 17789, 'varishtha': 17790, 'varishta': 17791, 'aveli': 17792, 'furtado': 17793, 'liberate': 17794, 'mealib': 17795, 'curiously': 17796, 'invasion': 17797, 'icj': 17798, 'cij': 17799, 'docket': 17800, 'understandably': 17801, 'limbo': 17802, 'annexed': 17803, 'formalize': 17804, 'tenth': 17805, 'tinyletterapp': 17806, 'intranet': 17807, 'cai': 17808, 'faa': 17809, 'fdd': 17810, 'gobbled': 17811, 'sidin': 17812, 'vadakut': 17813, 'ix': 17814, 'lists': 17815, 'borrowers': 17816, 'hypertension': 17817, 'hospitalize': 17818, 'miraculous': 17819, 'newsindia': 17820, 'olds': 17821, 'miracles': 17822, 'vvc': 17823, 'gnp': 17824, 'correlate': 17825, 'magi': 17826, 'disappointing': 17827, 'jtyhm': 17828, 'brcictjrnpv': 17829, 'bapu': 17830, 'bapus': 17831, 'gambhir': 17832, 'sitharam': 17833, 'alumnus': 17834, 'baked': 17835, 'dogs': 17836, 'ekxrig': 17837, 'vidhana': 17838, 'soudha': 17839, 'raksharamaiah': 17840, 'gleefully': 17841, 'piggy': 17842, 'gangadas': 17843, 'hailstorm': 17844, 'databaaz': 17845, 'prem': 17846, 'thekedaar': 17847, 'walas': 17848, 'bajaoing': 17849, 'plat': 17850, 'maryashakil': 17851, 'rajneesh': 17852, 'kodangal': 17853, 'serish': 17854, 'screech': 17855, 'siddhartha': 17856, 'varadarajan': 17857, 'yahan': 17858, 'bhookhe': 17859, 'marne': 17860, 'achha': 17861, 'paidal': 17862, 'nikal': 17863, 'jaaye': 17864, 'tripathii': 17865, 'yamuna': 17866, 'isbt': 17867, 'loader': 17868, 'cooly': 17869, 'karwanemohabbat': 17870, 'pedal': 17871, 'vishwas': 17872, 'ghazipur': 17873, 'manesar': 17874, 'sidravii': 17875, 'ghaywan': 17876, 'chole': 17877, 'bhature': 17878, 'smitaprakash': 17879, 'overcrowd': 17880, 'overwhelmed': 17881, 'anjalib': 17882, 'cobbler': 17883, 'polishing': 17884, 'mukeshmukeshs': 17885, 'ravishranjanshu': 17886, 'ranjimain': 17887, 'latimes': 17888, 'wager': 17889, 'myopic': 17890, 'oppress': 17891, 'fellate': 17892, 'bucketheadcase': 17893, 'fpx': 17894, 'worli': 17895, 'koliwada': 17896, 'vcmzlob': 17897, 'pio': 17898, 'spec': 17899, 'acw': 17900, 'koneru': 17901, 'humpy': 17902, 'vouxk': 17903, 'khas': 17904, 'traditionally': 17905, 'immemorial': 17906, 'troubled': 17907, 'despicable': 17908, 'intentioned': 17909, 'illegalization': 17910, 'nullification': 17911, 'remarry': 17912, 'khadijah': 17913, 'downright': 17914, 'sanctity': 17915, 'unrepresentative': 17916, 'sharia': 17917, 'khula': 17918, 'pyre': 17919, 'betrayal': 17920, 'finalized': 17921, 'unimportance': 17922, 'sinks': 17923, 'recognizable': 17924, 'watershed': 17925, 'farther': 17926, 'unattainable': 17927, 'lawmaker': 17928, 'messiah': 17929, 'charade': 17930, 'measly': 17931, 'vengeful': 17932, 'cannonball': 17933, 'okk': 17934, 'congraulations': 17935, 'reitarete': 17936, 'infographics': 17937, 'infographic': 17938, 'recycled': 17939, 'squawktalk': 17940, 'igv': 17941, 'dpyezfk': 17942, 'redditindia': 17943, 'spamming': 17944, 'heap': 17945, 'witg': 17946, 'whack': 17947, 'vaishali': 17948, 'pute': 17949, 'irrationality': 17950, 'jscs': 17951, 'frk': 17952, 'normies': 17953, 'iitian': 17954, 'ftq': 17955, 'tile': 17956, 'terracotta': 17957, 'victimise': 17958, 'ik': 17959, 'couldnt': 17960, 'restricted': 17961, 'surfed': 17962, 'clrxg': 17963, 'uwzp': 17964, 'ntteoq': 17965, 'knomnnkwaunp': 17966, 'caf': 17967, 'tut': 17968, 'ffmngkcni': 17969, 'tavleen': 17970, 'amherst': 17971, 'massachusetts': 17972, 'estrangement': 17973, 'angeles': 17974, 'acclaim': 17975, 'attempted': 17976, 'untrue': 17977, 'reprisal': 17978, 'divider': 17979, 'travelogue': 17980, 'saadat': 17981, 'zrz': 17982, 'documents': 17983, 'lies': 17984, 'uganda': 17985, 'ugandan': 17986, 'nationalisation': 17987, 'zimbabwe': 17988, 'kenya': 17989, 'caanpr': 17990, 'sqd': 17991, 'bsutw': 17992, 'erratic': 17993, 'speculator': 17994, 'widow': 17995, 'gaur': 17996, 'cntv': 17997, 'natureandscience': 17998, 'reducing': 17999, 'wido': 18000, 'intimate': 18001, 'hysterical': 18002, 'underpaid': 18003, 'portrayed': 18004, 'demotivate': 18005, 'fbpugf': 18006, 'taxpaying': 18007, 'govrnment': 18008, 'svb': 18009, 'statues': 18010, 'aoo': 18011, 'brands': 18012, 'deputydirectoryss': 18013, 'ejfh': 18014, 'drenched': 18015, 'anyplace': 18016, 'gwu': 18017, 'lemme': 18018, 'promo': 18019, 'apaiserconsult': 18020, 'fuf': 18021, 'updatehow': 18022, 'aarogyasetu': 18023, 'newsonair': 18024, 'baarogya': 18025, 'xodlh': 18026, 'rcm': 18027, 'advisability': 18028, 'fuc': 18029, 'photowalks': 18030, 'aadxtn': 18031, 'lsf': 18032, 'taxwise': 18033, 'repatriate': 18034, 'pitfalls': 18035, 'latur': 18036, 'panorama': 18037, 'rkgmjaq': 18038, 'cartoonist': 18039, 'carlos': 18040, 'latuff': 18041, 'jnox': 18042, 'panied': 18043, 'reupted': 18044, 'iob': 18045, 'submissions': 18046, 'deteoriate': 18047, 'cwfx': 18048, 'asknonpoliticaldoes': 18049, 'offices': 18050, 'cllkgfjemypfpvgl': 18051, 'jester': 18052, 'sday': 18053, 'stulkc': 18054, 'ekt': 18055, 'camping': 18056, 'gurmeet': 18057, 'moves': 18058, 'hyi': 18059, 'extinction': 18060, 'hens': 18061, 'roost': 18062, 'distracted': 18063, 'nytcnskgb': 18064, 'soaps': 18065, 'packets': 18066, 'specifies': 18067, 'polished': 18068, 'subhead': 18069, 'kapilhanda': 18070, 'telcos': 18071, 'specified': 18072, 'stipulate': 18073, 'esgm': 18074, 'figureheads': 18075, 'tin': 18076, 'foil': 18077, 'cz': 18078, 'ctb': 18079, 'minds': 18080, 'kushti': 18081, 'akharas': 18082, 'crude': 18083, 'overprotective': 18084, 'dnq': 18085, 'scitech': 18086, 'scenes': 18087, 'rohgg': 18088, 'ssvnt': 18089, 'dhawan': 18090, 'shar': 18091, 'flipping': 18092, 'missionr': 18093, 'maximise': 18094, 'fencing': 18095, 'unlucky': 18096, 'fearless': 18097, 'issf': 18098, 'chanu': 18099, 'vinesh': 18100, 'phogat': 18101, 'favourable': 18102, 'panghal': 18103, 'medalist': 18104, 'aiba': 18105, 'golf': 18106, 'niraj': 18107, 'lsqd': 18108, 'blessing': 18109, 'dainik': 18110, 'rupani': 18111, 'fuw': 18112, 'baatbiharki': 18113, 'cji': 18114, 'gogoi': 18115, 'nkusjt': 18116, 'degradation': 18117, 'cfw': 18118, 'cixo': 18119, 'families': 18120, 'mourning': 18121, 'visionary': 18122, 'duvvuri': 18123, 'excitedly': 18124, 'nihlani': 18125, 'boyz': 18126, 'cryptic': 18127, 'initiated': 18128, 'sexy': 18129, 'ribiy': 18130, 'lucidly': 18131, 'myselfwalrus': 18132, 'denomination': 18133, 'supercool': 18134, 'cleanup': 18135, 'farethewell': 18136, 'woo': 18137, 'ergo': 18138, 'whatdoyaknow': 18139, 'alrighty': 18140, 'indiabudget': 18141, 'ub': 18142, 'peep': 18143, 'ztbqrm': 18144, 'xjt': 18145, 'proceedings': 18146, 'ntbtukw': 18147, 'haggling': 18148, 'powerplay': 18149, 'itsallgood': 18150, 'plato': 18151, 'favors': 18152, 'egrageous': 18153, 'thoughtful': 18154, 'teawallahs': 18155, 'lovey': 18156, 'dovey': 18157, 'etbd': 18158, 'myrade': 18159, 'inspirational': 18160, 'ennqf': 18161, 'bhakton': 18162, 'nayi': 18163, 'eshkash': 18164, 'subservience': 18165, 'meritocracy': 18166, 'militarily': 18167, 'wronged': 18168, 'dignify': 18169, 'investigating': 18170, 'letterhead': 18171, 'clinton': 18172, 'pasta': 18173, 'supremo': 18174, 'nigerian': 18175, 'abundant': 18176, 'weasel': 18177, 'despotic': 18178, 'dictatorial': 18179, 'lutyens': 18180, 'smugness': 18181, 'zckca': 18182, 'articulated': 18183, 'nonhiring': 18184, 'hisher': 18185, 'recieved': 18186, 'ghalla': 18187, 'maharashtrian': 18188, 'mumbaikar': 18189, 'freeminded': 18190, 'chitpavan': 18191, 'brahmanvad': 18192, 'turd': 18193, 'underworld': 18194, 'infos': 18195, 'finito': 18196, 'shitbag': 18197, 'confess': 18198, 'chotta': 18199, 'noose': 18200, 'pakde': 18201, 'jayenge': 18202, 'dic': 18203, 'nook': 18204, 'cranny': 18205, 'mosquitoes': 18206, 'symotoms': 18207, 'boyhood': 18208, 'polarisation': 18209, 'rigidly': 18210, 'fanboyism': 18211, 'nmtc': 18212, 'centrists': 18213, 'fnw': 18214, 'misbehaving': 18215, 'customs': 18216, 'hindustani': 18217, 'apdunu': 18218, 'jumlatantra': 18219, 'fola': 18220, 'planing': 18221, 'gnf': 18222, 'askindianonpolitical': 18223, 'boards': 18224, 'elearning': 18225, 'dated': 18226, 'nptel': 18227, 'newsscroll': 18228, 'lawless': 18229, 'anandmahindra': 18230, 'summarise': 18231, 'bait': 18232, 'sensational': 18233, 'legislatively': 18234, 'epilogue': 18235, 'chairmanship': 18236, 'lyr': 18237, 'rmay': 18238, 'redact': 18239, 'dotted': 18240, 'rationale': 18241, 'uts': 18242, 'tripura': 18243, 'meghalaya': 18244, 'invariably': 18245, 'mpnic': 18246, 'hinterland': 18247, 'tempt': 18248, 'waay': 18249, 'archivesecondphase': 18250, 'hom': 18251, 'prohibiting': 18252, 'stipulation': 18253, 'vifindia': 18254, 'flurry': 18255, 'akin': 18256, 'precursor': 18257, 'digitised': 18258, 'introductiontonpr': 18259, 'rbh': 18260, 'actcabcaa': 18261, 'emnkow': 18262, 'dtv': 18263, 'thrones': 18264, 'starts': 18265, 'arthi': 18266, 'powerlifting': 18267, 'shyness': 18268, 'gajendra': 18269, 'atswznu': 18270, 'shevgaonkar': 18271, 'iimahmedabad': 18272, 'governers': 18273, 'najib': 18274, 'despise': 18275, 'libertarian': 18276, 'brass': 18277, 'iissc': 18278, 'nosedive': 18279, 'downvoting': 18280, 'activated': 18281, 'yaar': 18282, 'az': 18283, 'vignette': 18284, 'lookout': 18285, 'ctdbgj': 18286, 'theatrical': 18287, 'aquaman': 18288, 'subtitle': 18289, 'censored': 18290, 'dfexox': 18291, 'ckotlxqjghgm': 18292, 'bxp': 18293, 'capabilities': 18294, 'dhkz': 18295, 'haytham': 18296, 'basra': 18297, 'cairo': 18298, 'seminary': 18299, 'fatwa': 18300, 'icy': 18301, 'dmin': 18302, 'illuminate': 18303, 'ino': 18304, 'cohesive': 18305, 'heh': 18306, 'agglomeration': 18307, 'restrain': 18308, 'jscfe': 18309, 'fried': 18310, 'ewz': 18311, 'stones': 18312, 'differential': 18313, 'soup': 18314, 'tx': 18315, 'vandalise': 18316, 'taseers': 18317, 'vandalised': 18318, 'criticising': 18319, 'generalize': 18320, 'retained': 18321, 'referrals': 18322, 'clients': 18323, 'indianeconomy': 18324, 'southasia': 18325, 'carnegie': 18326, 'carnegieindia': 18327, 'iimb': 18328, 'centers': 18329, 'vijayakrishnan': 18330, 'flay': 18331, 'prohibitive': 18332, 'bevco': 18333, 'fsppes': 18334, 'tipplers': 18335, 'ayfhee': 18336, 'getcrisp': 18337, 'damodardas': 18338, 'swears': 18339, 'unveiled': 18340, 'mgj': 18341, 'mlumos': 18342, 'rl': 18343, 'legislator': 18344, 'mrk': 18345, 'onj': 18346, 'nkc': 18347, 'ejoosn': 18348, 'neeti': 18349, 'ayog': 18350, 'mohammad': 18351, 'govenment': 18352, 'xzjhr': 18353, 'oytmrsvgrllqbi': 18354, 'kolk': 18355, 'lztvpthgq': 18356, 'aban': 18357, 'kzmdwn': 18358, 'salient': 18359, 'bhartiya': 18360, 'dadri': 18361, 'mahagathbandhan': 18362, 'nitish': 18363, 'lalu': 18364, 'jdu': 18365, 'rjd': 18366, 'pathankot': 18367, 'airbase': 18368, 'unveil': 18369, 'breakthrough': 18370, 'doled': 18371, 'npci': 18372, 'qhrj': 18373, 'olhehkdxfxflckkoj': 18374, 'nclt': 18375, 'underibc': 18376, 'dgmo': 18377, 'demonetises': 18378, 'banknotes': 18379, 'alwar': 18380, 'mawxov': 18381, 'rxnt': 18382, 'vndij': 18383, 'dokalam': 18384, 'ewromefuvqjvfseo': 18385, 'prasoon': 18386, 'bae': 18387, 'covering': 18388, 'zostel': 18389, 'sunset': 18390, 'eyo': 18391, 'zjrosaj': 18392, 'noxgcyy': 18393, 'multifold': 18394, 'ourworldindata': 18395, 'fvajor': 18396, 'shrill': 18397, 'froth': 18398, 'permeate': 18399, 'glee': 18400, 'suna': 18401, 'apne': 18402, 'inhe': 18403, 'chodna': 18404, 'chahiye': 18405, 'inka': 18406, 'ilaaj': 18407, 'khada': 18408, 'karke': 18409, 'sabko': 18410, 'lace': 18411, 'fwdgbn': 18412, 'riqsha': 18413, 'raskar': 18414, 'sohewglvlxi': 18415, 'deplete': 18416, 'cadre': 18417, 'alliances': 18418, 'debates': 18419, 'declaring': 18420, 'sari': 18421, 'acpl': 18422, 'gypsy': 18423, 'humiliated': 18424, 'grahamstevenson': 18425, 'ntue': 18426, 'desh': 18427, 'droh': 18428, 'misfortune': 18429, 'mortal': 18430, 'xtncw': 18431, 'indomitable': 18432, 'wishers': 18433, 'glitzy': 18434, 'vwb': 18435, 'wins': 18436, 'krugman': 18437, 'wqrkocktgajdagfskcivn': 18438, 'joblessness': 18439, 'lpzpnxx': 18440, 'lazjcpqzbnq': 18441, 'rising': 18442, 'joblessn': 18443, 'fdis': 18444, 'niticentral': 18445, 'mauritian': 18446, 'swissinfo': 18447, 'undeclared': 18448, 'haven': 18449, 'cbgaindia': 18450, 'bringing': 18451, 'chalapati': 18452, 'biswajit': 18453, 'dhar': 18454, 'havens': 18455, 'undeniably': 18456, 'parenting': 18457, 'bwkqxu': 18458, 'esports': 18459, 'rtch': 18460, 'tint': 18461, 'frr': 18462, 'unprofessional': 18463, 'fdbsc': 18464, 'farmers': 18465, 'sparks': 18466, 'easing': 18467, 'gulmarg': 18468, 'cjx': 18469, 'rnm': 18470, 'foklfe': 18471, 'kolam': 18472, 'lonelyredcurl': 18473, 'economies': 18474, 'wmp': 18475, 'lexicon': 18476, 'interacting': 18477, 'jovially': 18478, 'waala': 18479, 'fortnite': 18480, 'productively': 18481, 'ordination': 18482, 'atari': 18483, 'nfpahf': 18484, 'ffc': 18485, 'afca': 18486, 'eae': 18487, 'congregate': 18488, 'annoyance': 18489, 'manan': 18490, 'bewilder': 18491, 'aback': 18492, 'abhorrent': 18493, 'offends': 18494, 'reasonableness': 18495, 'authenticate': 18496, 'uniindia': 18497, 'yd': 18498, 'subash': 18499, 'shodhganga': 18500, 'inflibnet': 18501, 'bitstream': 18502, 'marxist': 18503, 'pervert': 18504, 'flirt': 18505, 'instinctively': 18506, 'abolition': 18507, 'ewi': 18508, 'toimobile': 18509, 'shamim': 18510, 'iftekhar': 18511, 'arreste': 18512, 'liberties': 18513, 'falls': 18514, 'blockchains': 18515, 'solidity': 18516, 'rewatching': 18517, 'cowboy': 18518, 'bebop': 18519, 'chota': 18520, 'favn': 18521, 'scored': 18522, 'ghkckp': 18523, 'vmihhu': 18524, 'obh': 18525, 'gzl': 18526, 'rjkbi': 18527, 'zcks': 18528, 'worthwhile': 18529, 'virar': 18530, 'andheri': 18531, 'msged': 18532, 'bhk': 18533, 'everymonth': 18534, 'chaiye': 18535, 'cep': 18536, 'qe': 18537, 'slit': 18538, 'wrist': 18539, 'dysfunctional': 18540, 'libidos': 18541, 'unnaturalizes': 18542, 'kahenge': 18543, 'defile': 18544, 'hominem': 18545, 'generalise': 18546, 'foul': 18547, 'digger': 18548, 'pitiful': 18549, 'convincing': 18550, 'normalized': 18551, 'oof': 18552, 'shuns': 18553, 'sneeezing': 18554, 'hazrat': 18555, 'thenews': 18556, 'tabhlighis': 18557, 'thelallantop': 18558, 'lone': 18559, 'pujari': 18560, 'rewa': 18561, 'abid': 18562, 'itlay': 18563, 'kurji': 18564, 'heckle': 18565, 'bhanwari': 18566, 'yashwant': 18567, 'shooter': 18568, 'bars': 18569, 'shooters': 18570, 'denied': 18571, 'visas': 18572, 'cared': 18573, 'repressed': 18574, 'fsckv': 18575, 'majchowdhury': 18576, 'inactive': 18577, 'aqw': 18578, 'reflections': 18579, 'partisanship': 18580, 'quantify': 18581, 'refine': 18582, 'ezqzgm': 18583, 'lhei': 18584, 'nishitajha': 18585, 'forces': 18586, 'slams': 18587, 'neville': 18588, 'nevillelobo': 18589, 'dsf': 18590, 'bromance': 18591, 'ym': 18592, 'snide': 18593, 'governorship': 18594, 'spectator': 18595, 'uzbekistan': 18596, 'happiest': 18597, 'ranks': 18598, 'yikes': 18599, 'implicate': 18600, 'prostitution': 18601, 'poorest': 18602, 'prabhu': 18603, 'navratnas': 18604, 'istores': 18605, 'fanboys': 18606, 'ldn': 18607, 'rehqvhqgoixs': 18608, 'mgwj': 18609, 'refurbish': 18610, 'graveyard': 18611, 'annoying': 18612, 'envy': 18613, 'garfield': 18614, 'edenred': 18615, 'ipsos': 18616, 'barometer': 18617, 'mouthful': 18618, 'emus': 18619, 'flightless': 18620, 'clamp': 18621, 'sunpharma': 18622, 'asunpharma': 18623, 'mxrpq': 18624, 'chequer': 18625, 'lafxp': 18626, 'doorway': 18627, 'torch': 18628, 'doorsteps': 18629, 'patrol': 18630, 'wyoming': 18631, 'usnews': 18632, 'eia': 18633, 'todayinenergy': 18634, 'desktopmodules': 18635, 'documentlist': 18636, 'deluxe': 18637, 'feab': 18638, 'subsidized': 18639, 'saiindia': 18640, 'stokes': 18641, 'idindee': 18642, 'mechanize': 18643, 'endpovertyinsouthasia': 18644, 'miningweekly': 18645, 'grapple': 18646, 'causes': 18647, 'mospi': 18648, 'finall': 18649, 'bauxite': 18650, 'disproportionately': 18651, 'jsmdc': 18652, 'availabilityofmineralsinjharkhand': 18653, 'annualpublications': 18654, 'fromdate': 18655, 'todate': 18656, 'indegenous': 18657, 'indr': 18658, 'terminski': 18659, 'displacement': 18660, 'bxdkhonwwosc': 18661, 'dq': 18662, 'ots': 18663, 'mkvzzwjgxn': 18664, 'sig': 18665, 'acfu': 18666, 'jndoszeic': 18667, 'kevo': 18668, 'xkta': 18669, 'ved': 18670, 'ahukewii': 18671, 'ypiahudmawkhcwoc': 18672, 'chdoataaegqicrab': 18673, 'onepage': 18674, 'naxal': 18675, 'crossfire': 18676, 'salwa': 18677, 'judum': 18678, 'naxilte': 18679, 'rebellion': 18680, 'trademap': 18681, 'selproduct': 18682, 'nvpm': 18683, 'installed': 18684, 'devalt': 18685, 'carbonbrief': 18686, 'iea': 18687, 'elc': 18688, 'emitted': 18689, 'axios': 18690, 'reconcile': 18691, 'samantha': 18692, 'yugank': 18693, 'documenting': 18694, 'wozniak': 18695, 'pluck': 18696, 'googles': 18697, 'apples': 18698, 'barack': 18699, 'dependant': 18700, 'backbone': 18701, 'wn': 18702, 'warren': 18703, 'rehabilitate': 18704, 'jewellry': 18705, 'monetize': 18706, 'locker': 18707, 'siddhivinayak': 18708, 'siddhihvinayak': 18709, 'undercover': 18710, 'theverge': 18711, 'playbook': 18712, 'newsweek': 18713, 'engines': 18714, 'transformative': 18715, 'systemantics': 18716, 'futuristic': 18717, 'powertrains': 18718, 'leyland': 18719, 'iitians': 18720, 'poised': 18721, 'jibe': 18722, 'conjure': 18723, 'stumbled': 18724, 'blockade': 18725, 'alarmed': 18726, 'remorse': 18727, 'overtakes': 18728, 'reclaim': 18729, 'maggie': 18730, 'titanium': 18731, 'tqq': 18732, 'munists': 18733, 'staunch': 18734, 'distinguishes': 18735, 'criticizes': 18736, 'ehe': 18737, 'comment': 18738, 'strikes': 18739, 'profound': 18740, 'foxpro': 18741, 'cherish': 18742, 'dependency': 18743, 'zmp': 18744, 'fejjkle': 18745, 'edgy': 18746, 'loveisbetrayal': 18747, 'xbxe': 18748, 'aocd': 18749, 'valentines': 18750, 'politicalnot': 18751, 'hnw': 18752, 'acc': 18753, 'opendocument': 18754, 'underweight': 18755, 'anemic': 18756, 'ekhy': 18757, 'qazaw': 18758, 'tarnish': 18759, 'orthodox': 18760, 'beating': 18761, 'qepvz': 18762, 'wechat': 18763, 'oreo': 18764, 'popsicle': 18765, 'pancake': 18766, 'huawei': 18767, 'multihop': 18768, 'simultaneous': 18769, 'serval': 18770, 'outback': 18771, 'synchronize': 18772, 'apocalyptic': 18773, 'ipod': 18774, 'ecrojy': 18775, 'communicating': 18776, 'yamaha': 18777, 'craze': 18778, 'dji': 18779, 'doodle': 18780, 'prolly': 18781, 'sold': 18782, 'skateboard': 18783, 'arduino': 18784, 'cupboard': 18785, 'bykzgg': 18786, 'thithithefilm': 18787, 'thrill': 18788, 'dop': 18789, 'amazingly': 18790, 'holland': 18791, 'immersive': 18792, 'disbelief': 18793, 'mspo': 18794, 'gadgets': 18795, 'maps': 18796, 'nearest': 18797, 'machi': 18798, 'hak': 18799, 'chdx': 18800, 'shitpost': 18801, 'sxg': 18802, 'knkwn': 18803, 'etnz': 18804, 'oosv': 18805, 'dnwz': 18806, 'jesuit': 18807, 'plained': 18808, 'predominantly': 18809, 'adjoin': 18810, 'windshield': 18811, 'iima': 18812, 'relent': 18813, 'befriend': 18814, 'fled': 18815, 'arastu': 18816, 'dared': 18817, 'kneel': 18818, 'copying': 18819, 'drool': 18820, 'kaafir': 18821, 'tum': 18822, 'padte': 18823, 'tumhe': 18824, 'pata': 18825, 'jumme': 18826, 'pade': 18827, 'musalman': 18828, 'rehte': 18829, 'stunningly': 18830, 'padhoge': 18831, 'hoga': 18832, 'saza': 18833, 'milegi': 18834, 'waisa': 18835, 'gunaah': 18836, 'chadega': 18837, 'umpteen': 18838, 'yearn': 18839, 'miye': 18840, 'jala': 18841, 'dunga': 18842, 'tera': 18843, 'burkhas': 18844, 'abbreviated': 18845, 'hinduyo': 18846, 'mummy': 18847, 'maa': 18848, 'bolta': 18849, 'inland': 18850, 'wield': 18851, 'sofa': 18852, 'kaha': 18853, 'targetted': 18854, 'interrupt': 18855, 'gu': 18856, 'womans': 18857, 'appears': 18858, 'husbands': 18859, 'dnt': 18860, 'cushy': 18861, 'mlm': 18862, 'sheraton': 18863, 'ceos': 18864, 'vps': 18865, 'bigshot': 18866, 'evaded': 18867, 'ballistic': 18868, 'motivational': 18869, 'exotic': 18870, 'inexpensive': 18871, 'dhn': 18872, 'qnetdnt': 18873, 'qpa': 18874, 'enjoyed': 18875, 'ruse': 18876, 'huts': 18877, 'raze': 18878, 'perceived': 18879, 'thenewsminute': 18880, 'armed': 18881, 'decorate': 18882, 'fakhruddin': 18883, 'ahmeds': 18884, 'gild': 18885, 'logistical': 18886, 'nrcs': 18887, 'etapvq': 18888, 'bumble': 18889, 'fizkkk': 18890, 'dating': 18891, 'phenomena': 18892, 'disregard': 18893, 'snowball': 18894, 'participates': 18895, 'fvatsr': 18896, 'oval': 18897, 'nottingham': 18898, 'windies': 18899, 'headingley': 18900, 'cuss': 18901, 'speeding': 18902, 'selectively': 18903, 'aubnzl': 18904, 'fection': 18905, 'runaway': 18906, 'fih': 18907, 'shine': 18908, 'sanitize': 18909, 'satyendar': 18910, 'behance': 18911, 'bangla': 18912, 'khabaar': 18913, 'harbor': 18914, 'optics': 18915, 'blurb': 18916, 'boudoir': 18917, 'implied': 18918, 'playboy': 18919, 'downloader': 18920, 'rsqmj': 18921, 'erupted': 18922, 'evict': 18923, 'evicted': 18924, 'homes': 18925, 'conducts': 18926, 'savings': 18927, 'partake': 18928, 'samjhiye': 18929, 'evkj': 18930, 'attenborough': 18931, 'ghsvld': 18932, 'parathas': 18933, 'faipqlscw': 18934, 'vaibanplegv': 18935, 'mrdfzbi': 18936, 'cux': 18937, 'wqd': 18938, 'tde': 18939, 'viewform': 18940, 'vyxr': 18941, 'appbased': 18942, 'flounder': 18943, 'floundering': 18944, 'sponsors': 18945, 'timeouts': 18946, 'lifeandstyle': 18947, 'esd': 18948, 'rameshsrivats': 18949, 'coop': 18950, 'cdxgt': 18951, 'accounts': 18952, 'fervent': 18953, 'obdurate': 18954, 'spout': 18955, 'ghazwa': 18956, 'predispose': 18957, 'chapaak': 18958, 'newspiece': 18959, 'acid': 18960, 'disabused': 18961, 'virulent': 18962, 'vdd': 18963, 'hindutvasubscribed': 18964, 'govindaraja': 18965, 'shaan': 18966, 'ycqb': 18967, 'involuntary': 18968, 'tvm': 18969, 'fwe': 18970, 'slapped': 18971, 'persons': 18972, 'policemen': 18973, 'enforcing': 18974, 'pensioner': 18975, 'coffer': 18976, 'thorn': 18977, 'unresolved': 18978, 'crusade': 18979, 'shahrukh': 18980, 'swades': 18981, 'interestingly': 18982, 'naysayer': 18983, 'unmidas': 18984, 'giggle': 18985, 'mallyas': 18986, 'oversized': 18987, 'shortlisted': 18988, 'fouyic': 18989, 'odlvstagoi': 18990, 'watchlist': 18991, 'electricals': 18992, 'abhel': 18993, 'pmi': 18994, 'exchang': 18995, 'rbg': 18996, 'ezbep': 18997, 'tel': 18998, 'meghanath': 18999, 'covod': 19000, 'fvg': 19001, 'slurs': 19002, 'invective': 19003, 'contributive': 19004, 'substantiates': 19005, 'arvindkejrwal': 19006, 'pmoindia': 19007, 'selfs': 19008, 'submitter': 19009, 'receives': 19010, 'delist': 19011, 'relisted': 19012, 'unremoved': 19013, 'inventive': 19014, 'huilc': 19015, 'maheshwari': 19016, 'shenzhen': 19017, 'pneumonia': 19018, 'spreader': 19019, 'zdq': 19020, 'beep': 19021, 'askaway': 19022, 'heroic': 19023, 'positivity': 19024, 'blare': 19025, 'coronavirussupport': 19026, 'frontlines': 19027, 'zap': 19028, 'pathways': 19029, 'implementable': 19030, 'faaj': 19031, 'optionspathways': 19032, 'khabib': 19033, 'porier': 19034, 'xlz': 19035, 'timedoctor': 19036, 'mouse': 19037, 'fnyudn': 19038, 'pwsfe': 19039, 'graduated': 19040, 'dlicvl': 19041, 'lfoyub': 19042, 'spz': 19043, 'misunderstand': 19044, 'kindred': 19045, 'nickname': 19046, 'unsaid': 19047, 'aloud': 19048, 'idead': 19049, 'vvw': 19050, 'dikhayenge': 19051, 'stratgey': 19052, 'ilegal': 19053, 'ahmadis': 19054, 'naturalize': 19055, 'contentious': 19056, 'suppressed': 19057, 'incite': 19058, 'directionless': 19059, 'enmasse': 19060, 'emotive': 19061, 'yyo': 19062, 'npif': 19063, 'daj': 19064, 'kickstarter': 19065, 'projects': 19066, 'became': 19067, 'isvxeto': 19068, 'bea': 19069, 'checking': 19070, 'houses': 19071, 'uprising': 19072, 'ameliorate': 19073, 'yx': 19074, 'askindiathe': 19075, 'cgublif': 19076, 'cty': 19077, 'runners': 19078, 'earphones': 19079, 'bella': 19080, 'ciao': 19081, 'wapas': 19082, 'jao': 19083, 'heist': 19084, 'gntdbsmj': 19085, 'esv': 19086, 'hafeezpet': 19087, 'sqft': 19088, 'gqr': 19089, 'modus': 19090, 'operandi': 19091, 'ins': 19092, 'edn': 19093, 'xvj': 19094, 'weld': 19095, 'fjnbrp': 19096, 'sider': 19097, 'runway': 19098, 'aieee': 19099, 'aeronautical': 19100, 'eamcet': 19101, 'awed': 19102, 'vtol': 19103, 'yu': 19104, 'diuk': 19105, 'contraption': 19106, 'jugaad': 19107, 'knobby': 19108, 'petentbear': 19109, 'imperturbabledefenselessiberianmidwifetoad': 19110, 'maverick': 19111, 'edwise': 19112, 'finishing': 19113, 'kik': 19114, 'mzpjvjdomfm': 19115, 'simulation': 19116, 'beginning': 19117, 'nqswia': 19118, 'mercially': 19119, 'cooks': 19120, 'launching': 19121, 'jaitleys': 19122, 'thsti': 19123, 're': 19124, 'immunologist': 19125, 'royalsociety': 19126, 'vijayaraghavan': 19127, 'prinsciadvgoi': 19128, 'researchers': 19129, 'nceo': 19130, 'fobqbvliylxuahli': 19131, 'fervour': 19132, 'vassal': 19133, 'antic': 19134, 'salami': 19135, 'welter': 19136, 'recrimination': 19137, 'posturing': 19138, 'barren': 19139, 'altitude': 19140, 'dagger': 19141, 'northeastern': 19142, 'incursion': 19143, 'characterization': 19144, 'haa': 19145, 'dzong': 19146, 'dzongs': 19147, 'zhabdrung': 19148, 'ngawang': 19149, 'namgyel': 19150, 'imtrat': 19151, 'prized': 19152, 'vetoed': 19153, 'interference': 19154, 'infringement': 19155, 'foster': 19156, 'thimphu': 19157, 'abruptly': 19158, 'nix': 19159, 'impunity': 19160, 'overweening': 19161, 'ominously': 19162, 'interfered': 19163, 'liquefy': 19164, 'pliant': 19165, 'obedient': 19166, 'colonization': 19167, 'cornerstone': 19168, 'sheen': 19169, 'missioned': 19170, 'mushroom': 19171, 'mangdechhu': 19172, 'whopping': 19173, 'viability': 19174, 'solvency': 19175, 'pleas': 19176, 'undermined': 19177, 'fashioned': 19178, 'overdue': 19179, 'domination': 19180, 'mounti': 19181, 'rou': 19182, 'freed': 19183, 'crowding': 19184, 'furthur': 19185, 'sbio': 19186, 'abtstain': 19187, 'toilucknow': 19188, 'ktr': 19189, 'tide': 19190, 'adilabad': 19191, 'kumram': 19192, 'bheem': 19193, 'asifabad': 19194, 'mancherial': 19195, 'nirmal': 19196, 'synergy': 19197, 'kiliki': 19198, 'kalakeya': 19199, 'baahubali': 19200, 'fictional': 19201, 'lyricist': 19202, 'screenwriter': 19203, 'madhan': 19204, 'karky': 19205, 'judo': 19206, 'volleyball': 19207, 'sheikh': 19208, 'mcd': 19209, 'numeracy': 19210, 'mindful': 19211, 'awaken': 19212, 'empathetic': 19213, 'specialist': 19214, 'sundarbans': 19215, 'conversely': 19216, 'cricketers': 19217, 'supporting': 19218, 'wipes': 19219, 'ritesh': 19220, 'agarwals': 19221, 'ypl': 19222, 'yptr': 19223, 'qsu': 19224, 'eymlhnd': 19225, 'wy': 19226, 'dazed': 19227, 'sujitshetty': 19228, 'aerodrome': 19229, 'modesty': 19230, 'toad': 19231, 'laws': 19232, 'aalap': 19233, 'deviantart': 19234, 'tain': 19235, 'wanowrie': 19236, 'aradhana': 19237, 'fggih': 19238, 'misinform': 19239, 'misinformed': 19240, 'abandoning': 19241, 'contracting': 19242, 'vo': 19243, 'ggrmlddokfmm': 19244, 'ubkc': 19245, 'uwhf': 19246, 'qp': 19247, 'benba': 19248, 'bxhpg': 19249, 'alsc': 19250, 'lrbxskq': 19251, 'victims': 19252, 'telly': 19253, 'counselling': 19254, 'gondi': 19255, 'kurukh': 19256, 'oraon': 19257, 'khandeshi': 19258, 'tulu': 19259, 'urls': 19260, 'ekqc': 19261, 'covidout': 19262, 'kmgqyghnukm': 19263, 'organiser': 19264, 'abvp': 19265, 'archbishop': 19266, 'filipe': 19267, 'neri': 19268, 'ferrao': 19269, 'unconditionally': 19270, 'quash': 19271, 'desist': 19272, 'simpering': 19273, 'vandalization': 19274, 'fickle': 19275, 'mow': 19276, 'aston': 19277, 'dye': 19278, 'conspire': 19279, 'culminate': 19280, 'concerted': 19281, 'scrutinise': 19282, 'investigatory': 19283, 'polyester': 19284, 'smarter': 19285, 'mold': 19286, 'withstand': 19287, 'battlefield': 19288, 'eot': 19289, 'mahanagar': 19290, 'dmfn': 19291, 'loans': 19292, 'sanitizing': 19293, 'pinpoint': 19294, 'chutiya': 19295, 'fqerte': 19296, 'tawn': 19297, 'assort': 19298, 'dealbreakers': 19299, 'doggo': 19300, 'boi': 19301, 'unmatched': 19302, 'mishap': 19303, 'proximity': 19304, 'tattoo': 19305, 'invalidate': 19306, 'cafes': 19307, 'derision': 19308, 'hurtful': 19309, 'rankles': 19310, 'xi': 19311, 'qjd': 19312, 'miles': 19313, 'propa': 19314, 'ehm': 19315, 'dickbutts': 19316, 'socioeconomic': 19317, 'maistream': 19318, 'pitchfork': 19319, 'stylus': 19320, 'dankness': 19321, 'propaehm': 19322, 'chilka': 19323, 'konark': 19324, 'chandipur': 19325, 'ridley': 19326, 'turtle': 19327, 'rusukuliya': 19328, 'scotter': 19329, 'hdlp': 19330, 'traveland': 19331, 'greatfull': 19332, 'ekta': 19333, 'reaffirm': 19334, 'fnazpj': 19335, 'sunbird': 19336, 'wox': 19337, 'fgakfi': 19338, 'saying': 19339, 'constituencies': 19340, 'polling': 19341, 'sajpppftnp': 19342, 'nifrws': 19343, 'yetof': 19344, 'helps': 19345, 'bwi': 19346, 'webmd': 19347, 'encreferrer': 19348, 'ahr': 19349, 'chm': 19350, 'xllmnvbs': 19351, 'neurologist': 19352, 'neurosurgeon': 19353, 'invasive': 19354, 'microvascular': 19355, 'pression': 19356, 'efprzn': 19357, 'guidline': 19358, 'guj': 19359, 'goidirectory': 19360, 'ou': 19361, 'gujhfwdept': 19362, 'healthfamilywelfare': 19363, 'isy': 19364, 'izwoujo': 19365, 'cmoguj': 19366, 'infogujarat': 19367, 'gujaratpolice': 19368, 'isolaton': 19369, 'jamnagar': 19370, 'bhavnagar': 19371, 'vadodara': 19372, 'unipath': 19373, 'supratech': 19374, 'micropath': 19375, 'genelab': 19376, 'nanpura': 19377, 'pangenomics': 19378, 'arfa': 19379, 'khanum': 19380, 'sherwani': 19381, 'strategist': 19382, 'businessline': 19383, 'violated': 19384, 'provisions': 19385, 'blogging': 19386, 'negativity': 19387, 'ablahnaari': 19388, 'pdh': 19389, 'cri': 19390, 'sidetrack': 19391, 'proofs': 19392, 'iaea': 19393, 'blogpost': 19394, 'declassify': 19395, 'nawaz': 19396, 'sharif': 19397, 'narandra': 19398, 'abdullah': 19399, 'aifb': 19400, 'udf': 19401, 'hcetotzvg': 19402, 'effluent': 19403, 'ananth': 19404, 'backing': 19405, 'politicise': 19406, 'oneindia': 19407, 'sushma': 19408, 'fulfills': 19409, 'farce': 19410, 'discordant': 19411, 'lhblcnnun': 19412, 'oopcnzesksgk': 19413, 'uturn': 19414, 'tebnhtbuhwe': 19415, 'emub': 19416, 'outline': 19417, 'outlookindia': 19418, 'abplive': 19419, 'pj': 19420, 'kurien': 19421, 'chands': 19422, 'bidi': 19423, 'beedi': 19424, 'baron': 19425, 'beema': 19426, 'mela': 19427, 'sharada': 19428, 'accuses': 19429, 'contradicts': 19430, 'sensationalising': 19431, 'cwithdraw': 19432, 'aake': 19433, 'yaha': 19434, 'manjila': 19435, 'bana': 19436, 'liye': 19437, 'sabit': 19438, 'karna': 19439, 'padega': 19440, 'isiliye': 19441, 'inki': 19442, 'fati': 19443, 'padi': 19444, 'furnish': 19445, 'landless': 19446, 'nikalwa': 19447, 'lunga': 19448, 'emn': 19449, 'contrasting': 19450, 'xmjimpyjs': 19451, 'attended': 19452, 'deploys': 19453, 'encountered': 19454, 'disapprove': 19455, 'zionist': 19456, 'mirrorless': 19457, 'qyze': 19458, 'equivocally': 19459, 'unserved': 19460, 'houssup': 19461, 'pepperfry': 19462, 'homelane': 19463, 'babyoyes': 19464, 'nadkarni': 19465, 'busdekho': 19466, 'busesdekho': 19467, 'dazzlr': 19468, 'cirrus': 19469, 'znation': 19470, 'ag': 19471, 'abhishek': 19472, 'jaysukh': 19473, 'sapra': 19474, 'helion': 19475, 'personalise': 19476, 'sand': 19477, 'pankaj': 19478, 'stayzilla': 19479, 'gree': 19480, 'leon': 19481, 'seynave': 19482, 'stanhope': 19483, 'sarvbir': 19484, 'matchmaking': 19485, 'infoedge': 19486, 'naukri': 19487, 'aps': 19488, 'temasek': 19489, 'madstreetden': 19490, 'growx': 19491, 'agri': 19492, 'lawania': 19493, 'rajul': 19494, 'yebhi': 19495, 'badal': 19496, 'malick': 19497, 'omnichannel': 19498, 'fino': 19499, 'paytech': 19500, 'pernix': 19501, 'calmio': 19502, 'pernixdata': 19503, 'delta': 19504, 'gaussian': 19505, 'poker': 19506, 'casino': 19507, 'castle': 19508, 'personlization': 19509, 'personalisation': 19510, 'nnnow': 19511, 'hansa': 19512, 'cequity': 19513, 'inloyal': 19514, 'preface': 19515, 'amusingly': 19516, 'digitalindia': 19517, 'rsprasad': 19518, 'drumbeats': 19519, 'irzmn': 19520, 'jeb': 19521, 'corrects': 19522, 'ohnp': 19523, 'rvlhmgqgdky': 19524, 'uneven': 19525, 'stair': 19526, 'fuyu': 19527, 'lkzoio': 19528, 'velociraptor': 19529, 'jurassic': 19530, 'fmfttp': 19531, 'terminator': 19532, 'hamleys': 19533, 'ramp': 19534, 'galleries': 19535, 'pragyanrovermountedontherampprojectingfromoutofthesidesofvikramlander': 19536, 'acquainted': 19537, 'biomass': 19538, 'blsr': 19539, 'aerosol': 19540, 'pacer': 19541, 'legends': 19542, 'njv': 19543, 'asthese': 19544, 'uncaring': 19545, 'thennot': 19546, 'theirdocuments': 19547, 'studied': 19548, 'plumber': 19549, 'electricians': 19550, 'woodworking': 19551, 'mzan': 19552, 'risks': 19553, 'ninalle': 19554, 'nataliya': 19555, 'evede': 19556, 'kannadiga': 19557, 'dialect': 19558, 'inb': 19559, 'eyeroll': 19560, 'kidding': 19561, 'atfbl': 19562, 'nbb': 19563, 'cbseneet': 19564, 'ug': 19565, 'cards': 19566, 'transcribe': 19567, 'totter': 19568, 'hastily': 19569, 'gaping': 19570, 'buoyancy': 19571, 'doldrums': 19572, 'rollbacks': 19573, 'realignment': 19574, 'czvagp': 19575, 'transcribed': 19576, 'singhs': 19577, 'buffoon': 19578, 'karnatakavarthe': 19579, 'jeee': 19580, 'changa': 19581, 'sii': 19582, 'chaiwallah': 19583, 'rabble': 19584, 'fncywb': 19585, 'gandhis': 19586, 'aqfj': 19587, 'cdae': 19588, 'politicalseriousto': 19589, 'declares': 19590, 'bounty': 19591, 'subramanians': 19592, 'overestimates': 19593, 'internationalise': 19594, 'mbz': 19595, 'asaduddin': 19596, 'hle': 19597, 'shibpur': 19598, 'ynf': 19599, 'bizarre': 19600, 'motherfucker': 19601, 'invincible': 19602, 'hippy': 19603, 'liftment': 19604, 'fore': 19605, 'villian': 19606, 'sonny': 19607, 'sergio': 19608, 'chewang': 19609, 'iceman': 19610, 'norphell': 19611, 'lakshmi': 19612, 'omkarnath': 19613, 'karimul': 19614, 'haque': 19615, 'aagun': 19616, 'pakhi': 19617, 'ganatra': 19618, 'buckle': 19619, 'stomp': 19620, 'kaliakunda': 19621, 'unheard': 19622, 'baccardi': 19623, 'limon': 19624, 'disabled': 19625, 'sweeping': 19626, 'grief': 19627, 'purse': 19628, 'ijh': 19629, 'jabong': 19630, 'vfenfyjbx': 19631, 'couch': 19632, 'chan': 19633, 'mirch': 19634, 'pinch': 19635, 'godforsaken': 19636, 'champagne': 19637, 'opium': 19638, 'privyplex': 19639, 'preloaded': 19640, 'signed': 19641, 'miniature': 19642, 'smelly': 19643, 'flappy': 19644, 'augmented': 19645, 'catapult': 19646, 'basement': 19647, 'allergic': 19648, 'wii': 19649, 'petrochemical': 19650, 'grm': 19651, 'outsource': 19652, 'dalal': 19653, 'lacklustre': 19654, 'subbaraos': 19655, 'stressful': 19656, 'acairn': 19657, 'infy': 19658, 'ainfy': 19659, 'tjpd': 19660, 'matlab': 19661, 'tghp': 19662, 'hoodedvulture': 19663, 'wtoi': 19664, 'oo': 19665, 'hrkr': 19666, 'rudradev': 19667, 'brf': 19668, 'ostensible': 19669, 'overburden': 19670, 'amte': 19671, 'ostracism': 19672, 'chipko': 19673, 'idrf': 19674, 'forefront': 19675, 'coherence': 19676, 'usaid': 19677, 'dehra': 19678, 'passable': 19679, 'telex': 19680, 'jasoosi': 19681, 'raha': 19682, 'illustrious': 19683, 'gerald': 19684, 'burma': 19685, 'deputation': 19686, 'potentate': 19687, 'sufficiency': 19688, 'obsolescence': 19689, 'usurped': 19690, 'upholding': 19691, 'embodiment': 19692, 'indebted': 19693, 'constitutionally': 19694, 'lacuna': 19695, 'indefatigable': 19696, 'lacunae': 19697, 'sterling': 19698, 'nyc': 19699, 'upstate': 19700, 'racially': 19701, 'wasp': 19702, 'franklin': 19703, 'delano': 19704, 'invaluable': 19705, 'lst': 19706, 'victimhood': 19707, 'nsdap': 19708, 'arbeitsdienst': 19709, 'deride': 19710, 'deprivation': 19711, 'weimar': 19712, 'reich': 19713, 'undone': 19714, 'render': 19715, 'foremost': 19716, 'proponent': 19717, 'duyeq': 19718, 'pluralizeeverythings': 19719, 'zentangles': 19720, 'dbojebz': 19721, 'greengruzzle': 19722, 'origami': 19723, 'rgnawz': 19724, 'feynman': 19725, 'lockpicking': 19726, 'qrw': 19727, 'xepic': 19728, 'dsul': 19729, 'sanjayatpilcrow': 19730, 'dbpb': 19731, 'insomnia': 19732, 'debtfree': 19733, 'thrift': 19734, 'piano': 19735, 'zqaur': 19736, 'looks': 19737, 'remotest': 19738, 'raskreddit': 19739, 'promotes': 19740, 'memorization': 19741, 'regurgitation': 19742, 'flab': 19743, 'maths': 19744, 'textbooks': 19745, 'arsenal': 19746, 'creatively': 19747, 'neurologically': 19748, 'conformist': 19749, 'regurgitative': 19750, 'einsteins': 19751, 'catastrophe': 19752, 'prodigy': 19753, 'onward': 19754, 'facade': 19755, 'lousy': 19756, 'accustom': 19757, 'spoonfeed': 19758, 'geometry': 19759, 'prerequisite': 19760, 'chanakya': 19761, 'cdali': 19762, 'rsrvc': 19763, 'zstbi': 19764, 'sqaz': 19765, 'memorized': 19766, 'eai': 19767, 'nk': 19768, 'doordarshan': 19769, 'yor': 19770, 'decently': 19771, 'revelation': 19772, 'seth': 19773, 'godin': 19774, 'themonologuein': 19775, 'nonpoliticalyou': 19776, 'informing': 19777, 'authorities': 19778, 'egz': 19779, 'similarities': 19780, 'panchgavya': 19781, 'bppu': 19782, 'electorate': 19783, 'racial': 19784, 'instrumentation': 19785, 'bhubneswar': 19786, 'recruited': 19787, 'triage': 19788, 'teammate': 19789, 'sql': 19790, 'doa': 19791, 'informatica': 19792, 'unix': 19793, 'cognos': 19794, 'naked': 19795, 'listless': 19796, 'aline': 19797, 'mathematical': 19798, 'oops': 19799, 'ocd': 19800, 'enthusiasm': 19801, 'nihilism': 19802, 'shred': 19803, 'cease': 19804, 'stain': 19805, 'ofo': 19806, 'spar': 19807, 'wastrel': 19808, 'drafts': 19809, 'nursey': 19810, 'understands': 19811, 'marijuanaenthusiasts': 19812, 'czgnpb': 19813, 'plants': 19814, 'healing': 19815, 'azimpremjiuniversity': 19816, 'israelian': 19817, 'stubble': 19818, 'famp': 19819, 'usqp': 19820, 'mq': 19821, 'aqckae': 19822, 'ampf': 19823, 'dyz': 19824, 'kth': 19825, 'sweden': 19826, 'delft': 19827, 'bnxo': 19828, 'codevita': 19829, 'd': 19830, 'algos': 19831, 'elitmus': 19832, 'lgr': 19833, 'announcer': 19834, 'came': 19835, 'recepies': 19836, 'chocos': 19837, 'soggy': 19838, 'wizard': 19839, 'bfm': 19840, 'tgu': 19841, 'rindians': 19842, 'converge': 19843, 'customise': 19844, 'voxel': 19845, 'exhaustion': 19846, 'putational': 19847, 'pleasure': 19848, 'fjxb': 19849, 'ittoneuroscience': 19850, 'reaches': 19851, 'electronically': 19852, 'motorcycle': 19853, 'eauc': 19854, 'elydyg': 19855, 'communities': 19856, 'recheck': 19857, 'disturbing': 19858, 'bsbda': 19859, 'notificationuser': 19860, 'aisle': 19861, 'upas': 19862, 'bacho': 19863, 'naming': 19864, 'feacontent': 19865, 'tsc': 19866, 'christen': 19867, 'upadhya': 19868, 'jyoti': 19869, 'peoreport': 19870, 'krishi': 19871, 'sinchai': 19872, 'wrmin': 19873, 'lid': 19874, 'neem': 19875, 'nationalfertilizers': 19876, 'aneem': 19877, 'catid': 19878, 'aproductitem': 19879, 'inm': 19880, 'pkvy': 19881, 'nmsa': 19882, 'midh': 19883, 'rkvy': 19884, 'npof': 19885, 'npop': 19886, 'nhm': 19887, 'hmneh': 19888, 'npmshf': 19889, 'apeda': 19890, 'ruralindia': 19891, 'nomenclature': 19892, 'igmsy': 19893, 'indianyojana': 19894, 'matritva': 19895, 'sahyog': 19896, 'rebranding': 19897, 'swavlamban': 19898, 'swavalamban': 19899, 'suraksha': 19900, 'financialservices': 19901, 'ccis': 19902, 'nais': 19903, 'pmfby': 19904, 'jagranjosh': 19905, 'fasal': 19906, 'threp': 19907, 'threport': 19908, 'ndas': 19909, 'immunisation': 19910, 'itsu': 19911, 'nrlm': 19912, 'upadhyaya': 19913, 'kaushalya': 19914, 'sgsy': 19915, 'specialprojectsguidelines': 19916, 'dbtl': 19917, 'pahal': 19918, 'whatisdbtl': 19919, 'yojanas': 19920, 'certaily': 19921, 'demonetise': 19922, 'dreams': 19923, 'immaculately': 19924, 'renamed': 19925, 'ndabjp': 19926, 'askindianonpoliticalwhats': 19927, 'misleading': 19928, 'wbtdbjie': 19929, 'scanner': 19930, 'dtg': 19931, 'uptown': 19932, 'landmarks': 19933, 'attapur': 19934, 'gachibowli': 19935, 'awe': 19936, 'keyword': 19937, 'creeps': 19938, 'ghmc': 19939, 'infrastructural': 19940, 'outspoken': 19941, 'indifference': 19942, 'hallmark': 19943, 'recreational': 19944, 'overpopulated': 19945, 'haggle': 19946, 'walkable': 19947, 'rtc': 19948, 'unusable': 19949, 'rout': 19950, 'secunderabad': 19951, 'hobbyist': 19952, 'drp': 19953, 'cons': 19954, 'innovator': 19955, 'creed': 19956, 'relied': 19957, 'arf': 19958, 'following': 19959, 'selfless': 19960, 'unsubscribe': 19961, 'filth': 19962, 'bahi': 19963, 'ager': 19964, 'vali': 19965, 'padhni': 19966, 'thi': 19967, 'kyu': 19968, 'puchta': 19969, 'sambit': 19970, 'peasy': 19971, 'japanesey': 19972, 'hotshot': 19973, 'chacha': 19974, 'diaspora': 19975, 'fluke': 19976, 'adore': 19977, 'dxv': 19978, 'answers': 19979, 'eqspka': 19980, 'prospects': 19981, 'modishah': 19982, 'hoarded': 19983, 'vvg': 19984, 'prices': 19985, 'vegetables': 19986, 'storify': 19987, 'spammy': 19988, 'clickbaits': 19989, 'reposts': 19990, 'bestof': 19991, 'subredditdrama': 19992, 'hesitation': 19993, 'polandball': 19994, 'xposts': 19995, 'timezones': 19996, 'rpl': 19997, 'rfeedback': 19998, 'huwaei': 19999, 'appox': 20000, 'phaida': 20001, 'portable': 20002, 'gives': 20003, 'disillusion': 20004, 'nithyanand': 20005, 'rahim': 20006, 'decentralization': 20007, 'marshal': 20008, 'classroom': 20009, 'challans': 20010, 'seamless': 20011, 'challan': 20012, 'farishtey': 20013, 'rto': 20014, 'campaigns': 20015, 'vvpat': 20016, 'demarcate': 20017, 'mohalla': 20018, 'clinic': 20019, 'dumps': 20020, 'biogas': 20021, 'beautify': 20022, 'ros': 20023, 'fasttrack': 20024, 'lig': 20025, 'sav': 20026, 'swamp': 20027, 'stature': 20028, 'cerebral': 20029, 'cortex': 20030, 'optitemp': 20031, 'bogging': 20032, 'richard': 20033, 'eskimos': 20034, 'cwt': 20035, 'arctic': 20036, 'genetics': 20037, 'genetic': 20038, 'guzzle': 20039, 'glucose': 20040, 'spared': 20041, 'scorch': 20042, 'smartypants': 20043, 'heatproof': 20044, 'equator': 20045, 'behavioral': 20046, 'equatorial': 20047, 'plummet': 20048, 'congolese': 20049, 'melanin': 20050, 'terra': 20051, 'nullius': 20052, 'honey': 20053, 'alternation': 20054, 'inhabitability': 20055, 'gangetic': 20056, 'humidity': 20057, 'imdone': 20058, 'summers': 20059, 'eeex': 20060, 'feudal': 20061, 'unindustrialized': 20062, 'technicians': 20063, 'malnourishment': 20064, 'bouncer': 20065, 'chaprasis': 20066, 'oqhzhbvo': 20067, 'dftkfyli': 20068, 'somalia': 20069, 'savethechildren': 20070, 'exorbitantly': 20071, 'quack': 20072, 'quackery': 20073, 'twain': 20074, 'conjuror': 20075, 'joyce': 20076, 'goebbels': 20077, 'proclaim': 20078, 'outstrip': 20079, 'dorado': 20080, 'pangloss': 20081, 'voltaire': 20082, 'candide': 20083, 'philosopher': 20084, 'leibniz': 20085, 'potemkin': 20086, 'unsold': 20087, 'dilip': 20088, 'shanghvi': 20089, 'aziz': 20090, 'pallonji': 20091, 'ends': 20092, 'saath': 20093, 'industrialised': 20094, 'jumlas': 20095, 'unfortun': 20096, 'reu': 20097, 'contributors': 20098, 'colaba': 20099, 'deterministic': 20100, 'limitation': 20101, 'cyclones': 20102, 'predictable': 20103, 'radars': 20104, 'doppler': 20105, 'cyclone': 20106, 'upgraded': 20107, 'gmn': 20108, 'sunburn': 20109, 'xwxja': 20110, 'uhm': 20111, 'lasted': 20112, 'contagious': 20113, 'inanimate': 20114, 'brainchild': 20115, 'singhvi': 20116, 'fmhuqs': 20117, 'pranav': 20118, 'accd': 20119, 'kr': 20120, 'ffdilao': 20121, 'disappeared': 20122, 'missionary': 20123, 'nonhindu': 20124, 'missionaries': 20125, 'askindiawhat': 20126, 'gecs': 20127, 'conversant': 20128, 'tve': 20129, 'rajbhar': 20130, 'dhivar': 20131, 'kumhar': 20132, 'kahar': 20133, 'kewat': 20134, 'nishad': 20135, 'bhar': 20136, 'mallah': 20137, 'prajapati': 20138, 'dhimar': 20139, 'batham': 20140, 'turha': 20141, 'manjhi': 20142, 'machua': 20143, 'pcrw': 20144, 'brahmins': 20145, 'juniors': 20146, 'enyix': 20147, 'rightist': 20148, 'labeled': 20149, 'assertively': 20150, 'assertive': 20151, 'proactive': 20152, 'avatar': 20153, 'vishnu': 20154, 'cultist': 20155, 'obscene': 20156, 'savarkarite': 20157, 'violently': 20158, 'vandalism': 20159, 'manadate': 20160, 'demonization': 20161, 'spontaneous': 20162, 'pluralistic': 20163, 'ecr': 20164, 'rightists': 20165, 'pappu': 20166, 'outrageous': 20167, 'praisers': 20168, 'shameful': 20169, 'descend': 20170, 'ormq': 20171, 'needful': 20172, 'simpleton': 20173, 'usb': 20174, 'tan': 20175, 'cawrqv': 20176, 'dpp': 20177, 'wnd': 20178, 'hints': 20179, 'bhagavad': 20180, 'eoolsk': 20181, 'thik': 20182, 'lekin': 20183, 'pencilashan': 20184, 'jtnbej': 20185, 'djdb': 20186, 'suppressing': 20187, 'leftwing': 20188, 'facp': 20189, 'spn': 20190, 'worshiper': 20191, 'dota': 20192, 'scheduledrandom': 20193, 'chainsmokers': 20194, 'qsauru': 20195, 'zwoa': 20196, 'fldhq': 20197, 'dhxsake': 20198, 'workex': 20199, 'hojaega': 20200, 'padhai': 20201, 'xw': 20202, 'cmv': 20203, 'classx': 20204, 'moret': 20205, 'rcv': 20206, 'cnbctv': 20207, 'handed': 20208, 'latent': 20209, 'automatic': 20210, 'humand': 20211, 'aeroplane': 20212, 'confer': 20213, 'evenly': 20214, 'leisure': 20215, 'stupefy': 20216, 'practicable': 20217, 'instinctive': 20218, 'industrially': 20219, 'privation': 20220, 'shatter': 20221, 'stratosphere': 20222, 'favoured': 20223, 'magnifies': 20224, 'laborious': 20225, 'texture': 20226, 'helicopter': 20227, 'prole': 20228, 'lump': 20229, 'horseflesh': 20230, 'unavoidable': 20231, 'ehjlce': 20232, 'duhlgricbbm': 20233, 'cedsau': 20234, 'jyzsymiya': 20235, 'leads': 20236, 'fbdf': 20237, 'fhera': 20238, 'satirists': 20239, 'returned': 20240, 'islampur': 20241, 'rakshabandhan': 20242, 'aliexpress': 20243, 'rakhi': 20244, 'wqu': 20245, 'btu': 20246, 'qkmox': 20247, 'moutain': 20248, 'ccx': 20249, 'drifted': 20250, 'snobbish': 20251, 'dpln': 20252, 'ganpati': 20253, 'rohit': 20254, 'bapat': 20255, 'raymond': 20256, 'rayon': 20257, 'erbdyy': 20258, 'maithili': 20259, 'darbhanga': 20260, 'daryaganj': 20261, 'juridical': 20262, 'gopala': 20263, 'viswakarma': 20264, 'rozgar': 20265, 'sewasadan': 20266, 'gtk': 20267, 'depot': 20268, 'badaganvi': 20269, 'gokak': 20270, 'belgaum': 20271, 'kishanattam': 20272, 'builtech': 20273, 'inn': 20274, 'thakurpurkur': 20275, 'varanaseya': 20276, 'jagatpuri': 20277, 'electro': 20278, 'achaltal': 20279, 'kosi': 20280, 'kalan': 20281, 'maharana': 20282, 'niketan': 20283, 'pratapgarh': 20284, 'khoda': 20285, 'makanpur': 20286, 'vishwavidyala': 20287, 'vridanvan': 20288, 'nababharat': 20289, 'anupoorna': 20290, 'tanki': 20291, 'shaktinagar': 20292, 'rourkela': 20293, 'unapproved': 20294, 'arch': 20295, 'unrecognised': 20296, 'knowyourcollege': 20297, 'unsent': 20298, 'postmaster': 20299, 'shukriya': 20300, 'cfi': 20301, 'trawl': 20302, 'chorus': 20303, 'kore': 20304, 'adhoori': 20305, 'khali': 20306, 'meri': 20307, 'hamari': 20308, 'roof': 20309, 'frustratingly': 20310, 'terminally': 20311, 'comakt': 20312, 'viewers': 20313, 'bachchans': 20314, 'disrespecting': 20315, 'dir': 20316, 'defends': 20317, 'apolitics': 20318, 'rediquette': 20319, 'zoke': 20320, 'uvi': 20321, 'handheld': 20322, 'nn': 20323, 'inadvertently': 20324, 'repeated': 20325, 'fyjjl': 20326, 'ads': 20327, 'cybercity': 20328, 'pof': 20329, 'decoding': 20330, 'lobbying': 20331, 'tunisia': 20332, 'skimp': 20333, 'coveringmiles': 20334, 'pfxx': 20335, 'jantar': 20336, 'mantar': 20337, 'ziiragieqa': 20338, 'tfhb': 20339, 'cyijen': 20340, 'sciencemag': 20341, 'nationalists': 20342, 'airplanes': 20343, 'asus': 20344, 'bqedd': 20345, 'sabzi': 20346, 'panditji': 20347, 'bvb': 20348, 'ltcs': 20349, 'hra': 20350, 'academies': 20351, 'jugad': 20352, 'ingenious': 20353, 'walked': 20354, 'gurkha': 20355, 'weirdly': 20356, 'reentered': 20357, 'dawned': 20358, 'uninformed': 20359, 'baltic': 20360, 'parking': 20361, 'wester': 20362, 'jury': 20363, 'smarten': 20364, 'devour': 20365, 'supported': 20366}\n"
     ]
    }
   ],
   "source": [
    "print(tokenizer.word_index)"
   ]
  },
  {
   "cell_type": "code",
   "execution_count": null,
   "metadata": {},
   "outputs": [],
   "source": []
  },
  {
   "cell_type": "code",
   "execution_count": null,
   "metadata": {},
   "outputs": [],
   "source": []
  },
  {
   "cell_type": "code",
   "execution_count": 1205,
   "metadata": {},
   "outputs": [
    {
     "name": "stdout",
     "output_type": "stream",
     "text": [
      "1043\n"
     ]
    }
   ],
   "source": [
    "max_len = 0\n",
    "for i in encoded:\n",
    "    if len(i) > max_len:\n",
    "        max_len = len(i)\n",
    "       \n",
    "print(max_len)\n",
    "    "
   ]
  },
  {
   "cell_type": "code",
   "execution_count": 1238,
   "metadata": {},
   "outputs": [
    {
     "name": "stdout",
     "output_type": "stream",
     "text": [
      "[19.  35.  50.  60.  74.7]\n",
      "114.94133192389006\n"
     ]
    }
   ],
   "source": [
    "dr = []\n",
    "for i in encoded:\n",
    "    dr.append(len(i))\n",
    "print(np.percentile(dr,[25,50,60,65,70]) )\n",
    "print(np.mean(dr))"
   ]
  },
  {
   "cell_type": "code",
   "execution_count": 1293,
   "metadata": {},
   "outputs": [],
   "source": [
    "encoded = tokenizer.texts_to_sequences(X_train)"
   ]
  },
  {
   "cell_type": "code",
   "execution_count": 1294,
   "metadata": {},
   "outputs": [
    {
     "data": {
      "text/plain": [
       "1892"
      ]
     },
     "execution_count": 1294,
     "metadata": {},
     "output_type": "execute_result"
    }
   ],
   "source": [
    "len(encoded)"
   ]
  },
  {
   "cell_type": "markdown",
   "metadata": {},
   "source": [
    "# preparing word embedding matrix"
   ]
  },
  {
   "cell_type": "code",
   "execution_count": 1149,
   "metadata": {},
   "outputs": [],
   "source": [
    "embeddings_dict = {}\n",
    "with open('/Users/mananmehta/Desktop/ml/PRACTICE_HOME/glove.6B.50d.txt') as f: \n",
    "    for line in f:\n",
    "        word = line.split()[0]\n",
    "        embeddings_dict[word] = np.array(line.split()[1:],dtype = 'float')"
   ]
  },
  {
   "cell_type": "code",
   "execution_count": 1160,
   "metadata": {},
   "outputs": [],
   "source": [
    "embeddings_matrix = np.zeros((20367,50))\n",
    "for word,index in tokenizer.word_index.items():\n",
    "    if embeddings_dict.get(word) is not None:\n",
    "        embeddings_matrix[index] = embeddings_dict[word]"
   ]
  },
  {
   "cell_type": "code",
   "execution_count": 1166,
   "metadata": {},
   "outputs": [],
   "source": [
    "x = np.sum(embeddings_matrix,axis = 1)"
   ]
  },
  {
   "cell_type": "code",
   "execution_count": 1172,
   "metadata": {},
   "outputs": [
    {
     "name": "stdout",
     "output_type": "stream",
     "text": [
      "78.88741591790642\n"
     ]
    }
   ],
   "source": [
    "c = 0\n",
    "for i in range(len(x)):\n",
    "    if x[i] == 0:\n",
    "     c += 1\n",
    "   \n",
    "print(( (len(x) - c) / len(x) ) * 100)"
   ]
  },
  {
   "cell_type": "code",
   "execution_count": 1171,
   "metadata": {},
   "outputs": [
    {
     "name": "stdout",
     "output_type": "stream",
     "text": [
      "[ 0.00000000e+00  4.15588100e+00  5.93786800e+00 -4.59944700e-01\n",
      " -4.69150000e-01  3.55044490e+00  3.18391380e+00  5.35983870e+00\n",
      " -2.79844740e+00  2.57786700e+00  2.33190710e+00  4.42964062e+00\n",
      "  4.00563100e+00 -4.37712630e+00  4.50543300e-01  8.98560700e-01\n",
      "  4.83593810e-01  3.07263800e+00  1.12375500e+00  1.34181130e+00\n",
      "  3.19830900e+00  6.65086280e+00  3.33552920e+00  5.64736610e+00\n",
      " -2.41175410e+00  9.37816600e+00 -4.72729900e+00  4.99652900e+00\n",
      " -1.76355400e-01  7.64070900e+00  3.22987430e+00 -3.02475250e+00\n",
      "  2.75880780e+00  7.39286000e-01  3.57510700e+00 -1.35165990e+00\n",
      " -1.14040250e+00  3.42195840e+00  1.16196000e+00  1.90485600e+00\n",
      "  4.62786940e+00 -4.31703500e+00 -2.04333500e+00  3.89381000e+00\n",
      "  5.38242880e+00  2.21046170e+00 -6.16753000e-01  3.12676600e+00\n",
      "  5.28044300e+00  3.01476000e-01 -3.08243670e+00 -3.41617000e+00\n",
      " -4.46430900e+00  1.11147840e+00 -2.21567840e+00  4.63653700e+00\n",
      " -3.82124710e+00  7.24380900e+00  1.86519070e+00  1.40271500e+00\n",
      " -3.24425800e-01  2.86583440e+00  2.29521000e+00  0.00000000e+00\n",
      " -8.14471200e+00  6.65749400e+00  2.83287506e+00 -1.24160900e+00\n",
      "  4.77418830e+00  3.77450000e-02  3.63118700e+00 -3.62268200e+00\n",
      " -5.16046400e+00  9.63549700e-01  2.68761890e+00  2.74118800e+00\n",
      "  4.12146840e+00  6.59622000e-01  2.96261350e+00  1.07695930e+00\n",
      "  1.35645000e+00 -1.48743500e+00 -9.62663360e-01  4.92856600e+00\n",
      "  5.74897550e+00 -4.87015700e-01  3.81292200e+00  1.12955200e+00\n",
      " -2.72267900e+00  5.29187570e+00 -1.74517200e-01  4.15777800e+00\n",
      "  1.09998530e+01  2.07566270e+00  1.35245900e+00  8.62119500e-01\n",
      "  5.48589100e+00  1.53724670e+00  3.26678900e+00  2.98884300e+00\n",
      "  2.80554500e-01  1.48281700e+00 -1.74786000e-01  4.75973000e-01\n",
      " -1.19557500e+00  3.57971600e+00  9.16757000e-01  2.12226500e+00\n",
      "  4.49337790e+00 -3.17391600e+00  5.26245740e+00  2.31349000e-01\n",
      "  3.34108180e+00  5.29576460e+00 -1.26282300e+00  4.03260000e-01\n",
      "  4.66061100e+00  1.74350490e+00 -1.85481320e+00  1.25922530e+00\n",
      "  1.40478650e+00  3.31745700e+00  6.48420910e+00  1.34097434e+01\n",
      "  0.00000000e+00 -7.56192000e-01 -2.32271970e+00 -9.93045590e+00\n",
      "  1.67806716e+00 -3.87345030e+00 -4.30326450e-01  8.85601800e+00\n",
      "  0.00000000e+00 -4.35031410e+00  3.58564600e+00 -5.78819400e-01\n",
      "  5.77033430e+00 -1.24610010e+00 -3.39050400e+00 -1.52319800e+00\n",
      " -3.15193400e+00 -3.69965700e+00  2.11032900e+00  2.51786500e+00\n",
      " -4.22453700e+00  2.36767100e-01  2.80828000e-02 -1.08943100e-01\n",
      "  5.80766300e+00  1.72906900e+00  1.21813070e+01  2.55916600e+00\n",
      "  6.06617200e+00  7.72606400e-01  1.86352230e+00  3.82291418e+00\n",
      "  2.44900200e-01 -7.88867644e-01  5.34912600e+00  4.50712890e+00\n",
      "  5.04666670e+00  0.00000000e+00  8.11680700e+00  5.21100200e+00\n",
      "  7.55662800e+00  1.12774400e+00  8.72592200e+00  2.43598120e+00\n",
      "  3.11023786e+00 -1.58144890e+00  2.33595700e+00 -1.64898300e+00\n",
      " -4.47827100e-01  1.17752630e+00  3.77686370e+00  2.82332104e+00\n",
      "  0.00000000e+00 -2.58357170e+00 -7.78738810e+00  1.32048370e+00\n",
      "  3.39555270e+00  3.28788200e+00  3.12972700e+00  4.44798330e+00\n",
      "  9.68136400e-01 -1.08328520e+01  3.64399000e-01 -5.07187980e+00\n",
      " -4.10821000e-01 -6.36260470e+00  3.32862020e+00 -7.95970420e+00\n",
      "  1.13403700e+00  2.54718680e+00  4.10281000e+00 -8.42466400e-01\n",
      " -5.54015980e+00  4.63187000e+00  1.90638290e+00 -2.26451590e+00\n",
      "  2.04617950e+00 -4.74463000e+00  1.37794950e+00 -6.32872110e+00\n",
      "  3.46685740e+00 -2.89833700e+00  2.59783517e+00  2.74718000e+00\n",
      "  2.49054120e+00  3.41911750e+00 -2.43017000e-02 -4.71520600e+00\n",
      "  4.08170600e+00 -4.93578000e+00  7.54067600e+00  1.17863840e+01\n",
      " -1.78601000e-01  2.50368400e+00  2.87852220e+00  8.03433460e+00\n",
      "  7.79907760e+00  4.17478600e+00  2.87562400e+00  4.70352010e+00\n",
      "  5.82464990e+00  1.13321700e+00  4.52559600e+00  5.29650180e+00\n",
      "  3.36055840e+00 -7.55383000e-01  4.14182100e+00  2.72641200e+00\n",
      "  2.21227000e-01  5.98029000e-02 -9.82093700e-01  1.28359930e+00\n",
      " -5.05338810e+00 -1.65948620e+00 -3.49999800e+00  1.09869700e+00\n",
      "  1.72569210e+00  3.64567500e-02 -9.47870000e-02  5.40534640e+00\n",
      "  1.60749370e+00 -7.29986000e-01 -2.47128830e+00  1.33771900e-01\n",
      "  3.62910371e+00  6.12863000e-01 -5.71067000e-02  9.42264700e+00\n",
      "  5.95829230e+00  1.91086200e+00  5.47154630e+00 -5.00520370e+00\n",
      " -3.04084900e+00  6.14017100e+00  9.38043400e-01  2.27125200e+00\n",
      "  2.75965500e+00  6.67618100e+00  5.83459200e-01  3.45149600e+00\n",
      " -5.39734720e+00 -4.88352600e+00  9.95431730e+00  1.08582730e+00\n",
      " -1.08069500e+00  5.23299600e-01 -1.68350200e-01  4.43445120e+00\n",
      "  1.80142020e+00  3.61219900e+00  2.13681500e+00  4.01034300e+00\n",
      " -5.73848100e+00  1.34091800e+00  7.25334640e+00 -6.09107000e-01\n",
      "  7.12979500e+00 -1.08558400e+00  3.62792900e+00 -3.67811300e+00\n",
      " -5.64011200e+00 -2.83789000e-02  3.10981300e+00  6.66229400e+00\n",
      "  1.40750800e+00  7.01483560e+00 -5.66055450e+00  6.58981500e-01\n",
      "  5.68018000e-02  6.65123500e+00  4.11599130e+00  3.25254707e+00\n",
      " -1.62551800e-01  4.99123000e+00  8.01513780e+00  5.88605290e+00\n",
      "  8.40096050e+00  3.62780230e+00  3.80336100e+00  3.88655170e+00\n",
      "  3.18139150e+00  1.75576320e+00  4.09434560e+00  4.49758800e+00\n",
      "  3.50498110e+00  2.23140710e+00  2.05995380e+00 -9.20948700e-01\n",
      "  2.69751800e+00  3.51319028e+00  8.54501100e-01 -6.67219480e+00\n",
      "  3.16934600e+00  3.29615200e-01  5.58235700e+00  5.49723654e+00\n",
      "  8.41419000e-01  2.13831900e+00  4.40808700e+00 -1.06329090e+01\n",
      "  4.56252600e+00  8.05529100e+00 -8.44074800e-01  4.61798400e+00\n",
      " -3.32947880e+00 -1.21417100e-01  4.01403500e+00  4.95389900e+00\n",
      " -3.84568170e+00  5.82062022e+00  8.67791400e-01  4.08330830e+00\n",
      "  6.26094800e+00 -2.91697800e+00  9.08448200e-01 -1.70828400e+00\n",
      "  5.27630500e+00  8.10153200e+00  5.80555410e+00  2.15906270e+00\n",
      "  3.44298340e+00  8.71494600e+00  4.22314610e+00  1.35344000e+00\n",
      "  2.52801710e+00 -4.32655600e+00 -3.64152600e+00  6.44635500e+00\n",
      "  8.29748000e-01  7.09888400e+00 -1.11001600e+00 -2.54158010e+00\n",
      " -5.11881140e+00 -2.22438600e+00  1.11836000e-01  3.16617100e+00\n",
      "  0.00000000e+00 -2.75936500e+00 -8.52888000e-01 -7.27023000e-01\n",
      "  2.67699900e+00  4.02489700e+00  1.13340000e-02 -6.08079050e+00\n",
      "  2.99881200e+00 -4.61524200e-01  1.61935100e+00  9.74225200e-01\n",
      "  2.12135700e+00  1.91482880e+00  1.40565100e+00 -7.47536800e-01\n",
      "  1.31852710e+00 -2.80678300e+00  2.21196400e+00  1.46186370e+00\n",
      "  1.10627300e-01 -2.13555600e+00 -6.59932310e+00 -5.22416530e+00\n",
      "  3.18181700e-01 -3.50404300e-01 -2.01698860e-01  2.04397730e+00\n",
      "  0.00000000e+00  6.70461000e-01  4.87119800e-01  1.66410500e+00\n",
      "  6.29219400e+00  2.91777100e+00  4.54933000e+00 -3.65960100e+00\n",
      "  2.85519830e+00  2.86252800e+00  8.22551200e+00  4.01668900e+00\n",
      " -2.87523650e+00  3.52419800e+00 -2.14904630e+00  1.11974200e+00\n",
      "  2.37361500e-01 -9.61135000e-01  5.95709100e+00 -6.65844000e-01\n",
      "  6.04508700e+00  5.30859730e+00  1.41767390e+00  1.68207000e-01\n",
      "  5.13116800e-01 -3.94186390e+00 -3.48429300e+00 -1.79411190e+00\n",
      "  2.38157210e+00  5.89345600e-01  2.35854800e+00 -4.44113800e-01\n",
      "  5.98206050e+00  6.60221400e+00  6.64232400e-01  3.95977100e+00\n",
      " -1.06028720e+00  5.71862080e+00 -5.22922800e+00  9.18690000e-01\n",
      "  4.12326420e+00  9.34397700e+00  7.71100190e+00  5.63678000e-01\n",
      " -4.09214000e-02  2.26128200e+00 -7.68748900e+00  8.77933100e+00\n",
      "  2.61478176e+00  1.00515464e+01  3.25726800e+00  1.64373400e+00\n",
      "  2.03151930e+00 -6.35948730e+00  3.24590470e+00  2.04012470e+00\n",
      "  2.29260000e+00  1.07506300e+00  2.64120524e+00  3.60581800e+00\n",
      "  5.13356000e-01  3.75538380e+00 -3.74970830e+00 -1.28206400e+00\n",
      " -6.72631600e-01 -2.39220100e+00 -1.44472588e+00  8.41677150e+00\n",
      "  5.07010900e+00  3.47397600e+00  9.85425600e+00 -1.09893000e+00\n",
      "  1.85111900e+00  6.58929100e+00 -5.22772000e-01  4.06112700e+00\n",
      "  4.10606600e+00 -7.53159000e-02 -7.45788000e-01 -5.01720100e+00\n",
      "  2.94354930e+00 -4.47415800e+00  5.00668290e+00  6.49793440e+00\n",
      "  4.42244430e+00 -7.10946500e+00 -1.10717390e+01 -1.37164300e+00\n",
      "  6.25675090e+00  6.64713130e+00  4.20869190e+00  4.45260200e+00\n",
      " -5.26200100e-01 -2.00126480e+00  6.12609200e+00  2.22391120e+00\n",
      "  2.72229300e+00  4.36967220e+00  0.00000000e+00  2.44901590e+00\n",
      "  6.81230000e+00  1.81586150e+00  1.53345300e+00  3.15226660e+00\n",
      "  1.26157900e+00  9.41673900e+00  5.89440550e+00 -1.11060060e+00\n",
      "  0.00000000e+00 -2.38232500e+00 -6.53343800e+00  3.66258400e+00\n",
      "  5.03453720e+00  1.56283180e+00 -3.35312984e+00  5.66149530e+00\n",
      " -2.84454890e+00  1.67802590e+00 -9.09366900e-01  1.71445300e+00\n",
      "  1.63822800e+00  4.26889100e+00  8.59625500e+00  6.15862970e+00\n",
      "  1.18591270e+01 -3.98499960e+00  1.32077900e+00  1.98927640e+00\n",
      "  9.91857000e-01  5.88016491e+00 -2.63404400e+00 -2.94316000e-01\n",
      " -1.59136500e+00  4.86056190e+00 -2.11229330e+00 -3.61804400e+00\n",
      "  2.28027312e+00 -4.64579000e-01  4.21491900e+00  7.27073730e+00\n",
      " -7.32687000e-01 -8.07405400e-01 -3.92582300e+00  2.60613270e+00\n",
      "  5.76138360e+00  2.56583230e+00  5.48069900e+00  4.77129400e+00\n",
      "  7.87168000e-01 -3.53841667e+00  1.49353670e+00  1.28274883e+01\n",
      "  3.47563500e+00 -2.06283080e+00  2.62094600e+00  2.62588324e+00\n",
      " -1.89679730e+00  2.65991120e+00  1.89501200e+00 -5.01988800e+00\n",
      "  4.67414960e+00  1.20954930e+00  3.25567800e+00  1.63486960e+00\n",
      " -2.10791350e+00  3.00998630e+00 -8.76517000e-03  3.47539300e+00\n",
      " -9.73159600e+00  1.50750600e+00  2.96826660e+00 -3.68591710e+00\n",
      "  2.12602970e+00 -8.70586630e+00  9.58731100e+00  7.20106000e-02\n",
      " -3.62700500e-01  3.63842800e+00  2.51676810e+00 -2.78221450e+00\n",
      "  2.80580520e+00 -4.72363400e+00  5.92146794e+00  1.05172500e-01\n",
      "  3.17327860e+00  1.02638560e+01  2.39288620e+00 -5.84451100e+00\n",
      "  2.67412600e+00 -1.20510400e+00  2.43838400e+00  9.52740000e-01\n",
      "  2.61054000e+00 -3.57192840e+00  3.57521800e+00 -1.06729200e+00\n",
      "  5.29047700e+00 -3.02321000e-01 -4.71064000e-01  9.31113600e-01\n",
      " -1.17618400e+00  3.02203500e+00  3.91723200e+00  3.77251000e+00\n",
      "  2.13268700e+00 -4.74702680e+00  2.43260950e+00 -1.90838100e+00\n",
      " -3.19460700e+00  5.59235510e+00  3.62206600e+00 -5.28262500e+00\n",
      "  4.62398990e+00  5.67109200e+00  4.77511700e+00 -2.94655800e+00\n",
      "  6.43183690e+00  5.99144160e+00 -9.07278000e-01  3.47881570e+00\n",
      "  3.54386200e-01 -3.42580000e-01  2.43636930e+00  2.41366000e+00\n",
      "  2.49857500e+00  1.26577790e+00  6.43093540e+00  2.87941600e+00\n",
      "  4.67123300e+00 -1.57183890e+00  1.65282200e-01 -2.69247200e+00\n",
      "  2.31727600e+00  1.32356724e+01  2.89163800e+00  8.03021600e+00\n",
      "  3.11122600e+00 -1.33198160e+00  2.92056000e-01  4.00447720e+00\n",
      "  1.50562240e+00 -1.38645730e+01 -7.00939200e+00  6.81065800e+00\n",
      "  2.02661700e+00  1.57050100e+00 -7.69724200e-01  9.17983940e+00\n",
      "  2.93766690e+00  2.26176000e+00  7.49824800e+00  1.86212930e+00\n",
      " -8.16073300e+00  5.29196300e+00  2.52176900e+00 -1.05955300e+00\n",
      "  6.31280800e+00  1.07438580e+00  4.85856320e+00  5.03226275e+00\n",
      "  5.98594750e+00  8.03763910e+00  1.92962600e+00  8.46487000e+00\n",
      "  9.96316100e-01 -1.13549100e+00  3.20114550e+00 -2.38964107e+00\n",
      "  3.99471110e+00  0.00000000e+00  6.70426550e+00 -1.92627000e-01\n",
      "  3.24931379e+00  9.71247900e+00  2.53360010e+00  3.18748000e+00\n",
      " -9.14221100e+00  0.00000000e+00 -3.19221800e-01  5.78768000e-01\n",
      " -4.34356600e+00  5.59773500e+00  5.34267400e+00  5.02639200e+00\n",
      " -1.17383800e+00 -6.99248400e+00 -4.14820630e+00  4.78542500e-01\n",
      "  3.79903500e+00 -3.51786100e+00 -2.82616530e+00  4.60035500e+00\n",
      "  1.13856430e+01 -6.99490000e-02  2.53761150e+00 -1.82085399e+00\n",
      "  5.19633718e+00 -4.47645900e+00  4.53565800e+00  6.64943800e+00\n",
      " -2.71532000e+00  5.89125730e+00  7.02616302e+00 -5.60740822e+00\n",
      "  2.95552500e+00  1.12542600e+00 -2.69553080e-01  1.34401000e-01\n",
      "  4.34678600e+00 -5.09417100e+00  3.50666700e+00 -1.14899300e-01\n",
      "  9.14664072e+00  8.72672600e+00  2.26118310e+00  2.28167820e+00\n",
      "  6.30641400e+00  3.42699380e+00 -5.23733600e+00  4.55847400e+00\n",
      "  3.79136000e-01 -9.70523700e+00  3.49943370e+00  5.54524450e-01\n",
      "  4.15116000e-01 -4.52592700e+00 -1.94922470e+00  4.44918150e+00\n",
      "  5.24135580e+00  1.45237400e+00  0.00000000e+00  1.71691260e+00\n",
      "  1.74215900e+00  3.94765500e+00 -1.02703100e+00  2.28304250e+00\n",
      " -4.38322000e-01 -2.47882620e+00  6.94913000e-01  8.84521266e+00\n",
      "  2.47034680e+00 -4.00339700e+00 -1.84883300e+00 -2.57791800e-01\n",
      " -6.70705800e+00  2.27564580e-01  2.65776200e+00  1.15627640e+00\n",
      " -9.11148500e+00 -2.43086130e+00  4.91202320e+00  2.66311000e+00\n",
      "  1.93797290e+00  1.74234900e+00 -5.80983900e-01 -3.26769500e+00\n",
      "  6.63889000e-01 -5.37592510e-01 -2.38340000e-02 -2.73752700e+00\n",
      "  3.78190650e+00 -2.31705300e+00  1.31281440e+00  1.53250500e-01\n",
      "  2.78308600e+00 -3.91000022e+00 -6.41823900e+00  4.19081960e+00\n",
      " -6.40051560e+00  1.72827090e+00 -1.00453870e+01  6.50593280e+00\n",
      "  1.05871400e+00  5.00984100e+00 -1.80277100e-01  3.03491900e-01\n",
      "  6.23885750e+00 -1.10348710e+01 -5.58050390e+00  0.00000000e+00\n",
      " -1.91447810e+00 -2.33636960e+00  4.20129591e+00  8.87026240e+00\n",
      " -1.82875150e+00  3.31766550e+00  4.20648000e-01 -2.07605000e+00\n",
      " -5.25165000e-01  1.56538360e+00  1.12727890e+00  1.08838101e+01\n",
      "  6.87826000e-01  2.94533100e+00  1.65222580e+00  2.16904100e+00\n",
      "  0.00000000e+00  0.00000000e+00 -4.61518324e+00  2.30997530e+00\n",
      " -7.13865000e+00  6.32319200e+00 -2.40434900e+00  3.63979150e+00\n",
      " -3.10231030e+00 -2.69228600e+00 -2.38258300e+00  2.61954910e+00\n",
      "  1.81069700e+00 -1.01841441e+01 -9.83083000e-01  3.11298000e-01\n",
      " -6.99183500e+00  6.51938800e-02  4.47581610e+00  2.08382500e+00\n",
      "  0.00000000e+00  1.07367200e+00  2.91441600e+00 -3.33776300e-01\n",
      " -3.55170840e+00  2.19844500e+00  9.74210300e+00  3.11649200e+00\n",
      "  3.94257300e+00  3.23301210e+00 -6.29273000e-01  4.07659400e+00\n",
      "  1.58694800e+00  4.33719488e+00  4.23815600e+00  0.00000000e+00\n",
      "  1.69417880e+00  5.83236000e+00  1.62144990e+00 -3.93740000e-01\n",
      "  4.60816400e+00  4.82363000e-01  8.48190000e-01  9.02615900e+00\n",
      " -6.92366810e+00  2.89017900e+00  4.97699500e+00  1.05431000e-01\n",
      " -1.09981639e+01 -3.82547590e+00  1.66592900e+00  1.21465520e+01\n",
      "  5.35245300e+00  8.06453200e+00 -2.13637500e+00  7.54185400e-01\n",
      " -1.55680380e+00 -5.26885200e+00 -3.60081900e+00  7.45749000e+00\n",
      "  0.00000000e+00 -1.83815200e+00 -3.60028000e+00 -3.33559700e+00\n",
      " -2.98103693e+00  1.77406780e+00  3.03266000e+00 -1.21863760e+00\n",
      "  7.95632000e-01 -1.83244500e+00  2.40577200e+00  4.09220000e-02\n",
      "  2.55971100e-01 -7.03555670e+00  4.47077900e+00  0.00000000e+00\n",
      "  3.41237800e+00 -1.28868250e+00 -2.63442813e+00  3.79664383e+00\n",
      "  7.31172700e+00  3.67515870e+00  7.38148650e+00  1.72778190e+00\n",
      "  5.31991500e+00 -4.05496900e-01 -1.88017100e+00 -3.10068200e+00\n",
      "  9.66089300e+00  1.66760062e+00  1.99179700e+00  2.10523500e+00\n",
      " -5.78455520e+00 -2.73752800e+00  3.89540670e+00  1.97730000e-01\n",
      "  7.86316450e+00  2.46626000e-01  7.83769000e+00 -4.93241100e+00\n",
      " -3.62724332e+00  1.97738800e+00  5.36151500e-01  5.95500300e+00\n",
      " -8.72939637e+00 -6.84475750e+00  8.69213990e-01  2.01356200e+00\n",
      "  6.79325210e+00 -3.93400470e+00  0.00000000e+00 -1.50703197e+00\n",
      "  3.03624000e-01  3.85850440e+00 -3.61291100e+00 -6.51501300e+00\n",
      "  6.63478000e+00  4.49888000e+00  1.98051700e+00  8.65300060e+00\n",
      " -3.40673800e+00  1.64245100e+00  3.24471300e+00  1.95749570e+00\n",
      "  5.16281520e+00  1.13395790e+01 -4.24654700e+00  3.13445700e+00\n",
      "  3.02075500e+00  5.38975650e+00  1.47015000e-01  8.84400900e+00\n",
      "  3.53662323e+00  8.48328900e+00  6.00107200e+00  2.84073200e+00\n",
      "  3.96755000e-01 -4.36763700e+00 -2.33074900e+00 -1.50797100e+00\n",
      " -1.95963000e+00 -9.99968300e-01  4.44690488e+00  2.99308840e+00\n",
      " -1.16025541e+01  3.56387700e+00  1.86718400e-01 -9.65552030e+00\n",
      "  2.55098200e+00 -1.12438060e+00  7.88373730e+00 -9.19572500e+00\n",
      "  8.05496000e-01  0.00000000e+00  0.00000000e+00 -1.71848400e+00\n",
      " -2.54754060e+00  4.23425140e+00 -3.44324000e-01  4.37169500e+00\n",
      " -2.44450500e+00  6.41543000e-01  7.72577620e+00  2.25081100e+00\n",
      " -2.83693300e+00  5.75671900e+00  4.13939800e+00  1.58025500e+00\n",
      " -6.54079300e+00  5.79536420e+00  2.23371570e-01  9.79370700e-01\n",
      "  2.81696200e+00  5.05647690e+00  5.55538400e-01  4.78403150e+00\n",
      " -1.14020230e+01  3.59904600e+00  2.32869590e+00  6.72843300e+00\n",
      " -3.11834500e+00 -1.00653260e+01 -3.17440740e+00 -3.10517530e+00\n",
      "  2.08161800e+00  2.99291100e+00 -3.65808800e+00  5.46512800e-01\n",
      " -3.57297300e+00  1.69112200e-01  3.43388270e-01 -1.01618130e+00\n",
      "  0.00000000e+00  2.58437900e+00  8.22040620e+00  5.53846100e+00\n",
      " -9.35439800e+00 -1.11469351e+00  5.25434900e-01 -9.98100000e-02\n",
      " -3.66286100e-01 -4.04199500e+00  3.16241300e+00  2.32701667e+00\n",
      "  4.68083800e+00  1.01358083e+01  5.76166490e+00 -9.50620020e-01\n",
      "  1.49397200e+00  4.32216850e+00  7.93028810e+00  8.55128400e+00\n",
      " -8.51054000e-01  2.35717000e+00 -5.17016000e+00  4.91406200e+00]\n"
     ]
    }
   ],
   "source": [
    "print(x[:1000])"
   ]
  },
  {
   "cell_type": "markdown",
   "metadata": {},
   "source": [
    "## Lets build model"
   ]
  },
  {
   "cell_type": "code",
   "execution_count": 1174,
   "metadata": {},
   "outputs": [],
   "source": [
    "from keras.preprocessing.sequence import pad_sequences"
   ]
  },
  {
   "cell_type": "code",
   "execution_count": 1295,
   "metadata": {},
   "outputs": [],
   "source": [
    "padded = pad_sequences(encoded,maxlen=75,truncating='post',padding='post')"
   ]
  },
  {
   "cell_type": "code",
   "execution_count": 1296,
   "metadata": {},
   "outputs": [
    {
     "data": {
      "text/plain": [
       "(1892, 75)"
      ]
     },
     "execution_count": 1296,
     "metadata": {},
     "output_type": "execute_result"
    }
   ],
   "source": [
    "padded.shape"
   ]
  },
  {
   "cell_type": "code",
   "execution_count": 1297,
   "metadata": {},
   "outputs": [
    {
     "data": {
      "text/plain": [
       "array([   25,  5382,  1158,   413,  5383,  3494,  3495,    12,   939,\n",
       "          25,  5382, 11393,   413,  5383, 11394,  8014,     0,     0,\n",
       "           0,     0,     0,     0,     0,     0,     0,     0,     0,\n",
       "           0,     0,     0,     0,     0,     0,     0,     0,     0,\n",
       "           0,     0,     0,     0,     0,     0,     0,     0,     0,\n",
       "           0,     0,     0,     0,     0,     0,     0,     0,     0,\n",
       "           0,     0,     0,     0,     0,     0,     0,     0,     0,\n",
       "           0,     0,     0,     0,     0,     0,     0,     0,     0,\n",
       "           0,     0,     0], dtype=int32)"
      ]
     },
     "execution_count": 1297,
     "metadata": {},
     "output_type": "execute_result"
    }
   ],
   "source": [
    "padded[0]"
   ]
  },
  {
   "cell_type": "code",
   "execution_count": 1240,
   "metadata": {},
   "outputs": [],
   "source": [
    "from keras.preprocessing.text import Tokenizer\n",
    "from keras.preprocessing.sequence import pad_sequences\n",
    "from keras.layers import Dense, Input, CuDNNLSTM, Embedding, Dropout, Activation, CuDNNGRU, Conv1D\n",
    "from keras.layers import Bidirectional, GlobalMaxPool1D, GlobalMaxPooling1D, GlobalAveragePooling1D\n",
    "from keras.layers import Input, Embedding, Dense, Conv2D, MaxPool2D, concatenate, MaxPool1D\n",
    "from keras.layers import Reshape, Flatten, Concatenate, Dropout, SpatialDropout1D\n",
    "from keras.optimizers import Adam\n",
    "from keras.models import Model\n",
    "from keras import backend as K\n",
    "from keras.engine.topology import Layer\n",
    "from keras import initializers, regularizers, constraints, optimizers, layers\n"
   ]
  },
  {
   "cell_type": "code",
   "execution_count": 1260,
   "metadata": {},
   "outputs": [
    {
     "name": "stderr",
     "output_type": "stream",
     "text": [
      "/Users/mananmehta/anaconda3/lib/python3.6/site-packages/ipykernel_launcher.py:11: UserWarning: Update your `MaxPooling1D` call to the Keras 2 API: `MaxPooling1D(pool_size=75, strides=1)`\n",
      "  # This is added back by InteractiveShellApp.init_path()\n",
      "/Users/mananmehta/anaconda3/lib/python3.6/site-packages/ipykernel_launcher.py:14: UserWarning: Update your `MaxPooling1D` call to the Keras 2 API: `MaxPooling1D(pool_size=74, strides=1)`\n",
      "  \n",
      "/Users/mananmehta/anaconda3/lib/python3.6/site-packages/ipykernel_launcher.py:17: UserWarning: Update your `MaxPooling1D` call to the Keras 2 API: `MaxPooling1D(pool_size=73, strides=1)`\n"
     ]
    },
    {
     "name": "stdout",
     "output_type": "stream",
     "text": [
      "__________________________________________________________________________________________________\n",
      "Layer (type)                    Output Shape         Param #     Connected to                     \n",
      "==================================================================================================\n",
      "input_10 (InputLayer)           (None, 75)           0                                            \n",
      "__________________________________________________________________________________________________\n",
      "embedding_10 (Embedding)        (None, 75, 50)       1018350     input_10[0][0]                   \n",
      "__________________________________________________________________________________________________\n",
      "conv1d_20 (Conv1D)              (None, 75, 36)       1836        embedding_10[0][0]               \n",
      "__________________________________________________________________________________________________\n",
      "conv1d_21 (Conv1D)              (None, 74, 36)       3636        embedding_10[0][0]               \n",
      "__________________________________________________________________________________________________\n",
      "conv1d_22 (Conv1D)              (None, 73, 36)       5436        embedding_10[0][0]               \n",
      "__________________________________________________________________________________________________\n",
      "max_pooling1d_19 (MaxPooling1D) (None, 1, 36)        0           conv1d_20[0][0]                  \n",
      "__________________________________________________________________________________________________\n",
      "max_pooling1d_20 (MaxPooling1D) (None, 1, 36)        0           conv1d_21[0][0]                  \n",
      "__________________________________________________________________________________________________\n",
      "max_pooling1d_21 (MaxPooling1D) (None, 1, 36)        0           conv1d_22[0][0]                  \n",
      "__________________________________________________________________________________________________\n",
      "concatenate_6 (Concatenate)     (None, 3, 36)        0           max_pooling1d_19[0][0]           \n",
      "                                                                 max_pooling1d_20[0][0]           \n",
      "                                                                 max_pooling1d_21[0][0]           \n",
      "__________________________________________________________________________________________________\n",
      "flatten_3 (Flatten)             (None, 108)          0           concatenate_6[0][0]              \n",
      "__________________________________________________________________________________________________\n",
      "dropout_2 (Dropout)             (None, 108)          0           flatten_3[0][0]                  \n",
      "__________________________________________________________________________________________________\n",
      "dense_2 (Dense)                 (None, 11)           1199        dropout_2[0][0]                  \n",
      "==================================================================================================\n",
      "Total params: 1,030,457\n",
      "Trainable params: 1,030,457\n",
      "Non-trainable params: 0\n",
      "__________________________________________________________________________________________________\n"
     ]
    }
   ],
   "source": [
    "kernels = [1,2,3]\n",
    "filters = 36\n",
    "\n",
    "pooling_layers = []\n",
    "\n",
    "inp = Input((75,))\n",
    "embedding_layer = Embedding(input_dim=20367,output_dim=50)(inp)\n",
    "\n",
    "\n",
    "x1 = Conv1D(filters=36,kernel_size=1,activation = 'relu')(embedding_layer)\n",
    "pooling_layers.append(MaxPool1D(pool_size=75,stride = 1)(x1))\n",
    "\n",
    "x2 = Conv1D(filters=36,kernel_size=2,activation = 'relu')(embedding_layer)\n",
    "pooling_layers.append(MaxPool1D(pool_size=74,stride = 1)(x2))\n",
    "\n",
    "x3 = Conv1D(filters=36,kernel_size=3,activation = 'relu')(embedding_layer)\n",
    "pooling_layers.append(MaxPool1D(pool_size=73,stride = 1)(x3))\n",
    "\n",
    "z = Concatenate(axis = 1)(pooling_layers)\n",
    "z = Flatten()(z)\n",
    "\n",
    "z = Dropout(0.3)(z)\n",
    "\n",
    "out = Dense(11,activation = 'softmax')(z)\n",
    "\n",
    "\n",
    "model = Model(inputs = inp,outputs = out)\n",
    "model.compile(loss='categorical_crossentropy', optimizer='adam', metrics=['accuracy'])\n",
    "model.summary()"
   ]
  },
  {
   "cell_type": "code",
   "execution_count": 1263,
   "metadata": {},
   "outputs": [],
   "source": [
    "model.layers[1].set_weights([embeddings_matrix])\n",
    "model.layers[1].trainable = False"
   ]
  },
  {
   "cell_type": "code",
   "execution_count": 1283,
   "metadata": {},
   "outputs": [],
   "source": [
    "(X_train, X_test, y_train, y_test) = prepare_data(['title','body','url','flair'])"
   ]
  },
  {
   "cell_type": "markdown",
   "metadata": {},
   "source": [
    "## lets prepare data"
   ]
  },
  {
   "cell_type": "code",
   "execution_count": 1271,
   "metadata": {},
   "outputs": [],
   "source": [
    "from sklearn.preprocessing import OneHotEncoder"
   ]
  },
  {
   "cell_type": "code",
   "execution_count": 1284,
   "metadata": {},
   "outputs": [
    {
     "name": "stderr",
     "output_type": "stream",
     "text": [
      "/Users/mananmehta/anaconda3/lib/python3.6/site-packages/sklearn/preprocessing/_encoders.py:368: FutureWarning: The handling of integer data will change in version 0.22. Currently, the categories are determined based on the range [0, max(values)], while in the future they will be determined based on the unique values.\n",
      "If you want the future behaviour and silence this warning, you can specify \"categories='auto'\".\n",
      "In case you used a LabelEncoder before this OneHotEncoder to convert the categories to integers, then you can now use the OneHotEncoder directly.\n",
      "  warnings.warn(msg, FutureWarning)\n"
     ]
    }
   ],
   "source": [
    "one_hot = OneHotEncoder()\n",
    "y_train = y_train.reshape((-1,1))\n",
    "y_train = one_hot.fit_transform(y_train)"
   ]
  },
  {
   "cell_type": "code",
   "execution_count": 1285,
   "metadata": {},
   "outputs": [],
   "source": [
    "y_train = y_train.toarray()"
   ]
  },
  {
   "cell_type": "code",
   "execution_count": 1286,
   "metadata": {},
   "outputs": [
    {
     "data": {
      "text/plain": [
       "array([[0., 0., 1., ..., 0., 0., 0.],\n",
       "       [0., 1., 0., ..., 0., 0., 0.],\n",
       "       [0., 0., 0., ..., 1., 0., 0.],\n",
       "       ...,\n",
       "       [1., 0., 0., ..., 0., 0., 0.],\n",
       "       [0., 0., 0., ..., 0., 0., 1.],\n",
       "       [0., 0., 0., ..., 0., 0., 0.]])"
      ]
     },
     "execution_count": 1286,
     "metadata": {},
     "output_type": "execute_result"
    }
   ],
   "source": [
    "y_train"
   ]
  },
  {
   "cell_type": "code",
   "execution_count": 1288,
   "metadata": {},
   "outputs": [
    {
     "name": "stderr",
     "output_type": "stream",
     "text": [
      "/Users/mananmehta/anaconda3/lib/python3.6/site-packages/sklearn/preprocessing/_encoders.py:368: FutureWarning: The handling of integer data will change in version 0.22. Currently, the categories are determined based on the range [0, max(values)], while in the future they will be determined based on the unique values.\n",
      "If you want the future behaviour and silence this warning, you can specify \"categories='auto'\".\n",
      "In case you used a LabelEncoder before this OneHotEncoder to convert the categories to integers, then you can now use the OneHotEncoder directly.\n",
      "  warnings.warn(msg, FutureWarning)\n"
     ]
    }
   ],
   "source": [
    "y_test = y_test.reshape((-1,1))\n",
    "y_test = one_hot.fit_transform(y_test).toarray()"
   ]
  },
  {
   "cell_type": "code",
   "execution_count": 1299,
   "metadata": {},
   "outputs": [
    {
     "name": "stdout",
     "output_type": "stream",
     "text": [
      "Epoch 1/25\n",
      " 112/1892 [>.............................] - ETA: 3s - loss: 0.6587 - acc: 0.8214"
     ]
    },
    {
     "name": "stderr",
     "output_type": "stream",
     "text": [
      "/Users/mananmehta/anaconda3/lib/python3.6/site-packages/keras/engine/training.py:490: UserWarning: Discrepancy between trainable weights and collected trainable weights, did you set `model.trainable` without calling `model.compile` after ?\n",
      "  'Discrepancy between trainable weights and collected trainable'\n"
     ]
    },
    {
     "name": "stdout",
     "output_type": "stream",
     "text": [
      "1892/1892 [==============================] - 3s 2ms/step - loss: 0.7233 - acc: 0.7807\n",
      "Epoch 2/25\n",
      "1892/1892 [==============================] - 3s 2ms/step - loss: 0.6153 - acc: 0.8113\n",
      "Epoch 3/25\n",
      "1892/1892 [==============================] - 3s 2ms/step - loss: 0.5849 - acc: 0.8314\n",
      "Epoch 4/25\n",
      "1892/1892 [==============================] - 3s 2ms/step - loss: 0.4919 - acc: 0.8541\n",
      "Epoch 5/25\n",
      "1892/1892 [==============================] - 3s 2ms/step - loss: 0.4318 - acc: 0.8805\n",
      "Epoch 6/25\n",
      "1892/1892 [==============================] - 3s 2ms/step - loss: 0.3643 - acc: 0.8975\n",
      "Epoch 7/25\n",
      "1892/1892 [==============================] - 3s 2ms/step - loss: 0.3277 - acc: 0.9112\n",
      "Epoch 8/25\n",
      "1892/1892 [==============================] - 3s 2ms/step - loss: 0.3046 - acc: 0.9271\n",
      "Epoch 9/25\n",
      "1892/1892 [==============================] - 3s 2ms/step - loss: 0.2424 - acc: 0.9382\n",
      "Epoch 10/25\n",
      "1892/1892 [==============================] - 3s 2ms/step - loss: 0.2197 - acc: 0.9456\n",
      "Epoch 11/25\n",
      "1892/1892 [==============================] - 3s 2ms/step - loss: 0.2090 - acc: 0.9456\n",
      "Epoch 12/25\n",
      "1892/1892 [==============================] - 3s 2ms/step - loss: 0.1948 - acc: 0.9514\n",
      "Epoch 13/25\n",
      "1892/1892 [==============================] - 3s 2ms/step - loss: 0.1812 - acc: 0.9561\n",
      "Epoch 14/25\n",
      "1892/1892 [==============================] - 3s 2ms/step - loss: 0.1606 - acc: 0.9540\n",
      "Epoch 15/25\n",
      "1892/1892 [==============================] - 3s 2ms/step - loss: 0.1554 - acc: 0.9582\n",
      "Epoch 16/25\n",
      "1892/1892 [==============================] - 3s 2ms/step - loss: 0.1605 - acc: 0.9567\n",
      "Epoch 17/25\n",
      "1892/1892 [==============================] - 3s 2ms/step - loss: 0.1352 - acc: 0.9625\n",
      "Epoch 18/25\n",
      "1892/1892 [==============================] - 3s 2ms/step - loss: 0.1267 - acc: 0.9672\n",
      "Epoch 19/25\n",
      "1892/1892 [==============================] - 3s 2ms/step - loss: 0.1331 - acc: 0.9619\n",
      "Epoch 20/25\n",
      "1892/1892 [==============================] - 3s 2ms/step - loss: 0.1312 - acc: 0.9641\n",
      "Epoch 21/25\n",
      "1892/1892 [==============================] - 3s 2ms/step - loss: 0.1233 - acc: 0.9699\n",
      "Epoch 22/25\n",
      "1892/1892 [==============================] - 3s 2ms/step - loss: 0.1037 - acc: 0.9709\n",
      "Epoch 23/25\n",
      "1892/1892 [==============================] - 3s 2ms/step - loss: 0.1204 - acc: 0.9678\n",
      "Epoch 24/25\n",
      "1892/1892 [==============================] - 3s 2ms/step - loss: 0.1076 - acc: 0.9709\n",
      "Epoch 25/25\n",
      "1892/1892 [==============================] - 3s 2ms/step - loss: 0.1147 - acc: 0.9662\n"
     ]
    },
    {
     "data": {
      "text/plain": [
       "<keras.callbacks.History at 0x1a18993a58>"
      ]
     },
     "execution_count": 1299,
     "metadata": {},
     "output_type": "execute_result"
    }
   ],
   "source": [
    "model.fit(padded, y_train, batch_size=16, epochs=25)"
   ]
  },
  {
   "cell_type": "code",
   "execution_count": 1305,
   "metadata": {},
   "outputs": [],
   "source": [
    "encoded_test = tokenizer.texts_to_sequences(X_test)\n",
    "padded_test = pad_sequences(encoded_test,maxlen=75,truncating='post',padding='post')"
   ]
  },
  {
   "cell_type": "code",
   "execution_count": 1306,
   "metadata": {},
   "outputs": [],
   "source": [
    "predicted = model.predict(padded_test)"
   ]
  },
  {
   "cell_type": "code",
   "execution_count": 1307,
   "metadata": {},
   "outputs": [
    {
     "data": {
      "text/plain": [
       "(335, 11)"
      ]
     },
     "execution_count": 1307,
     "metadata": {},
     "output_type": "execute_result"
    }
   ],
   "source": [
    "predicted.shape"
   ]
  },
  {
   "cell_type": "code",
   "execution_count": 1308,
   "metadata": {},
   "outputs": [],
   "source": [
    "predicted_labels = np.argmax(predicted,axis = 1)"
   ]
  },
  {
   "cell_type": "code",
   "execution_count": 1309,
   "metadata": {},
   "outputs": [
    {
     "data": {
      "text/plain": [
       "(335,)"
      ]
     },
     "execution_count": 1309,
     "metadata": {},
     "output_type": "execute_result"
    }
   ],
   "source": [
    "predicted_labels.shape"
   ]
  },
  {
   "cell_type": "code",
   "execution_count": 1311,
   "metadata": {},
   "outputs": [],
   "source": [
    "y_test = one_hot.inverse_transform(y_test)"
   ]
  },
  {
   "cell_type": "code",
   "execution_count": null,
   "metadata": {},
   "outputs": [],
   "source": []
  }
 ],
 "metadata": {
  "kernelspec": {
   "display_name": "Python 3",
   "language": "python",
   "name": "python3"
  },
  "language_info": {
   "codemirror_mode": {
    "name": "ipython",
    "version": 3
   },
   "file_extension": ".py",
   "mimetype": "text/x-python",
   "name": "python",
   "nbconvert_exporter": "python",
   "pygments_lexer": "ipython3",
   "version": "3.6.5"
  }
 },
 "nbformat": 4,
 "nbformat_minor": 2
}
