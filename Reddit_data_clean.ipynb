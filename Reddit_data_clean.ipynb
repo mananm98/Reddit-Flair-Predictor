{
  "nbformat": 4,
  "nbformat_minor": 0,
  "metadata": {
    "colab": {
      "name": "Reddit_data_clean.ipynb",
      "provenance": [],
      "collapsed_sections": [
        "gosbLEJ-i03f",
        "QFdadyGWkMIV",
        "BVP8GKXskitI",
        "GDhrTvZjk5LJ",
        "ud9Dy7TcleC9",
        "IMnHcBs5lhFv",
        "AKuReBoHmUjc",
        "PnuAkOLinU3I",
        "koXHKZkEmWXV"
      ]
    },
    "kernelspec": {
      "name": "python3",
      "display_name": "Python 3"
    },
    "accelerator": "GPU"
  },
  "cells": [
    {
      "cell_type": "code",
      "metadata": {
        "id": "G7HrzWHv0Xns",
        "colab_type": "code",
        "outputId": "a87c0902-504c-43eb-9682-97405ab6ce14",
        "colab": {
          "base_uri": "https://localhost:8080/",
          "height": 68
        }
      },
      "source": [
        "import numpy as np\n",
        "import matplotlib.pyplot as plt\n",
        "import pandas as pd\n",
        "import re\n",
        "import nltk\n",
        "import seaborn as sns\n",
        "from sklearn.preprocessing import LabelEncoder, OneHotEncoder\n",
        "from sklearn.model_selection import train_test_split\n",
        "from sklearn.pipeline import Pipeline\n",
        "from sklearn.feature_extraction.text import TfidfVectorizer, CountVectorizer\n",
        "from sklearn.svm import LinearSVC\n",
        "from sklearn.naive_bayes import MultinomialNB\n",
        "from sklearn.linear_model import LogisticRegression\n",
        "from sklearn.ensemble import RandomForestClassifier\n",
        "from sklearn.model_selection import GridSearchCV\n",
        "from keras.preprocessing.text import Tokenizer\n",
        "from keras.preprocessing.sequence import pad_sequences\n",
        "from keras.layers import *\n",
        "from keras.optimizers import Adam\n",
        "from keras.models import Model\n",
        "from keras import backend as K\n",
        "from keras.engine.topology import Layer\n",
        "from keras import initializers, regularizers, constraints, optimizers, layers"
      ],
      "execution_count": 1,
      "outputs": [
        {
          "output_type": "stream",
          "text": [
            "/usr/local/lib/python3.6/dist-packages/statsmodels/tools/_testing.py:19: FutureWarning: pandas.util.testing is deprecated. Use the functions in the public API at pandas.testing instead.\n",
            "  import pandas.util.testing as tm\n",
            "Using TensorFlow backend.\n"
          ],
          "name": "stderr"
        }
      ]
    },
    {
      "cell_type": "code",
      "metadata": {
        "id": "4DSVINrXsKf6",
        "colab_type": "code",
        "colab": {
          "base_uri": "https://localhost:8080/",
          "height": 34
        },
        "outputId": "610e3285-319e-4397-e5d3-674ad6570022"
      },
      "source": [
        "from IPython.display import HTML\n",
        "HTML('''<script>\n",
        "code_show_err=false; \n",
        "function code_toggle_err() {\n",
        " if (code_show_err){\n",
        " $('div.output_stderr').hide();\n",
        " } else {\n",
        " $('div.output_stderr').show();\n",
        " }\n",
        " code_show_err = !code_show_err\n",
        "} \n",
        "$( document ).ready(code_toggle_err);\n",
        "</script>\n",
        "To toggle on/off output_stderr, click <a href=\"javascript:code_toggle_err()\">here</a>.''')"
      ],
      "execution_count": 35,
      "outputs": [
        {
          "output_type": "execute_result",
          "data": {
            "text/html": [
              "<script>\n",
              "code_show_err=false; \n",
              "function code_toggle_err() {\n",
              " if (code_show_err){\n",
              " $('div.output_stderr').hide();\n",
              " } else {\n",
              " $('div.output_stderr').show();\n",
              " }\n",
              " code_show_err = !code_show_err\n",
              "} \n",
              "$( document ).ready(code_toggle_err);\n",
              "</script>\n",
              "To toggle on/off output_stderr, click <a href=\"javascript:code_toggle_err()\">here</a>."
            ],
            "text/plain": [
              "<IPython.core.display.HTML object>"
            ]
          },
          "metadata": {
            "tags": []
          },
          "execution_count": 35
        }
      ]
    },
    {
      "cell_type": "code",
      "metadata": {
        "id": "RLoiaK4U0ssB",
        "colab_type": "code",
        "colab": {}
      },
      "source": [
        "# load Data\n",
        "data = pd.read_csv('/content/drive/My Drive/reddit-data-cleaned.csv')"
      ],
      "execution_count": 0,
      "outputs": []
    },
    {
      "cell_type": "code",
      "metadata": {
        "id": "OEylSp_l2k6-",
        "colab_type": "code",
        "outputId": "af408780-0126-4c00-a9e9-144699a48ecf",
        "colab": {
          "base_uri": "https://localhost:8080/",
          "height": 204
        }
      },
      "source": [
        "data.head()"
      ],
      "execution_count": 3,
      "outputs": [
        {
          "output_type": "execute_result",
          "data": {
            "text/html": [
              "<div>\n",
              "<style scoped>\n",
              "    .dataframe tbody tr th:only-of-type {\n",
              "        vertical-align: middle;\n",
              "    }\n",
              "\n",
              "    .dataframe tbody tr th {\n",
              "        vertical-align: top;\n",
              "    }\n",
              "\n",
              "    .dataframe thead th {\n",
              "        text-align: right;\n",
              "    }\n",
              "</style>\n",
              "<table border=\"1\" class=\"dataframe\">\n",
              "  <thead>\n",
              "    <tr style=\"text-align: right;\">\n",
              "      <th></th>\n",
              "      <th>title</th>\n",
              "      <th>score</th>\n",
              "      <th>body</th>\n",
              "      <th>url</th>\n",
              "      <th>num_comments</th>\n",
              "      <th>comments</th>\n",
              "      <th>flair</th>\n",
              "      <th>id</th>\n",
              "    </tr>\n",
              "  </thead>\n",
              "  <tbody>\n",
              "    <tr>\n",
              "      <th>0</th>\n",
              "      <td>delhi govt source names cm arvind kejriwal dep...</td>\n",
              "      <td>302</td>\n",
              "      <td>NaN</td>\n",
              "      <td>ani status</td>\n",
              "      <td>30</td>\n",
              "      <td>beyond petty inclusion delhi government school...</td>\n",
              "      <td>Scheduled</td>\n",
              "      <td>f7ogd8</td>\n",
              "    </tr>\n",
              "    <tr>\n",
              "      <th>1</th>\n",
              "      <td>delhi ap singh advocate delhi gang rape convic...</td>\n",
              "      <td>17</td>\n",
              "      <td>NaN</td>\n",
              "      <td>ani status</td>\n",
              "      <td>22</td>\n",
              "      <td>hunch guy try expose loophole legal system nev...</td>\n",
              "      <td>Scheduled</td>\n",
              "      <td>flgvah</td>\n",
              "    </tr>\n",
              "    <tr>\n",
              "      <th>2</th>\n",
              "      <td>supreme court verdict sc st quota create polit...</td>\n",
              "      <td>106</td>\n",
              "      <td>NaN</td>\n",
              "      <td>scroll article supreme courts verdict sc st qu...</td>\n",
              "      <td>47</td>\n",
              "      <td>muslim reservation two distraction use indian ...</td>\n",
              "      <td>Scheduled</td>\n",
              "      <td>f1o839</td>\n",
              "    </tr>\n",
              "    <tr>\n",
              "      <th>3</th>\n",
              "      <td>entrance exam schedule may</td>\n",
              "      <td>9</td>\n",
              "      <td>clat ailet neet jee postpone two week would ab...</td>\n",
              "      <td>india comments fvcvo entrance exams scheduled may</td>\n",
              "      <td>3</td>\n",
              "      <td>bachega india tabhi toh padhega india gand mar...</td>\n",
              "      <td>Scheduled</td>\n",
              "      <td>fvcvo1</td>\n",
              "    </tr>\n",
              "    <tr>\n",
              "      <th>4</th>\n",
              "      <td>advisory schedule international mercial passen...</td>\n",
              "      <td>36</td>\n",
              "      <td>NaN</td>\n",
              "      <td>pib india status</td>\n",
              "      <td>4</td>\n",
              "      <td>oh boy chalo bhaisahab sabji ka dukaan main da...</td>\n",
              "      <td>Scheduled</td>\n",
              "      <td>fl8zf5</td>\n",
              "    </tr>\n",
              "  </tbody>\n",
              "</table>\n",
              "</div>"
            ],
            "text/plain": [
              "                                               title  score  ...      flair      id\n",
              "0  delhi govt source names cm arvind kejriwal dep...    302  ...  Scheduled  f7ogd8\n",
              "1  delhi ap singh advocate delhi gang rape convic...     17  ...  Scheduled  flgvah\n",
              "2  supreme court verdict sc st quota create polit...    106  ...  Scheduled  f1o839\n",
              "3                         entrance exam schedule may      9  ...  Scheduled  fvcvo1\n",
              "4  advisory schedule international mercial passen...     36  ...  Scheduled  fl8zf5\n",
              "\n",
              "[5 rows x 8 columns]"
            ]
          },
          "metadata": {
            "tags": []
          },
          "execution_count": 3
        }
      ]
    },
    {
      "cell_type": "markdown",
      "metadata": {
        "id": "fsVoYfNSijYu",
        "colab_type": "text"
      },
      "source": [
        "## **1. Bag of words Model on conventional ML algorithms**\n",
        "---\n",
        "- We cannot input text directly to machine learning models. We need to convert the text to a vector of numbers, this step is called **Feature extraction**\n",
        "  \n",
        "    \n",
        "- For this we are going to use B.O.W (Bag of words) model, It focuses only on the occurence of words. The sentence structure, context, order of words is lost in B.O.W model.\n",
        "\n",
        "\n",
        "- First we will convert each document in corpus to TF-IDF vector\n",
        "\n",
        "  \n",
        "- We will input these vectors to Machine Learning models like Naive-Bayes, Support-Vector-Machine, Logistic-Regression, Random-Forest \n",
        "\n"
      ]
    },
    {
      "cell_type": "markdown",
      "metadata": {
        "id": "gosbLEJ-i03f",
        "colab_type": "text"
      },
      "source": [
        "### **Preparing data for model**\n",
        "---\n",
        "\n",
        "- It is possible that some features from the dataset may perform better than others. For instance, Only using **Title** for our model may give better accuracy than using only **url**, or maybe a combination of such features might result in a better accuracy. \n",
        "\n",
        "  \n",
        "- this is hard to guess at the moment, so I plan to try out different combinations of inputs from the dataset to get the best accuracy:- Title, url, comments, (Title + url + comments), (Title + url) , etc.\n",
        "\n",
        "  \n",
        "- lets see which performs the best, we will use those features in our final model.\n"
      ]
    },
    {
      "cell_type": "code",
      "metadata": {
        "id": "f_RFjrcViiwq",
        "colab_type": "code",
        "colab": {}
      },
      "source": [
        "def prepare_data(columns):\n",
        "    # Prepares Train and test sets for models\n",
        "        \n",
        "    if len(columns) > 2:\n",
        "        df = data[columns].fillna(\"\")\n",
        "        columns.remove('flair')\n",
        "        X = df[columns].apply(lambda x : ' '.join(x),axis = 1)                     \n",
        "       \n",
        "    else :\n",
        "        df = data[columns].dropna()\n",
        "        X = df[columns[0]]\n",
        "        \n",
        "    X = X.values          # X - input\n",
        "    \n",
        "    le = LabelEncoder()\n",
        "    Y = le.fit_transform(df['flair'])    # Y - target_labels\n",
        "    \n",
        "    X_train, X_test, y_train, y_test = train_test_split(X, Y, test_size=0.15, random_state=42)   # ( 85 : 15 )\n",
        "    return (X_train, X_test, y_train, y_test)"
      ],
      "execution_count": 0,
      "outputs": []
    },
    {
      "cell_type": "markdown",
      "metadata": {
        "id": "QFdadyGWkMIV",
        "colab_type": "text"
      },
      "source": [
        "### **1.1 Title**"
      ]
    },
    {
      "cell_type": "code",
      "metadata": {
        "id": "n-_gyjAAiito",
        "colab_type": "code",
        "colab": {
          "base_uri": "https://localhost:8080/",
          "height": 85
        },
        "outputId": "d8b1193b-1277-4a2c-aaf2-29dfbbb0ee4c"
      },
      "source": [
        "# Extracting 'Title' from dataset\n",
        "(X_train, X_test, y_train, y_test) = prepare_data(['title','flair'])\n",
        "print(\"X_train shape  = \",X_train.shape)\n",
        "print(\"y_train shape  = \",y_train.shape)\n",
        "print(\"X_test shape  = \",X_test.shape)\n",
        "print(\"y_test shape  = \",y_test.shape)"
      ],
      "execution_count": 6,
      "outputs": [
        {
          "output_type": "stream",
          "text": [
            "X_train shape  =  (1892,)\n",
            "y_train shape  =  (1892,)\n",
            "X_test shape  =  (335,)\n",
            "y_test shape  =  (335,)\n"
          ],
          "name": "stdout"
        }
      ]
    },
    {
      "cell_type": "markdown",
      "metadata": {
        "id": "BVP8GKXskitI",
        "colab_type": "text"
      },
      "source": [
        "### Data is ready now we'll apply it to different classifiers\n",
        "---\n",
        "1. Linear SVC\n",
        "2. Naive - Bayes\n",
        "3. Logistic Regression\n",
        "4. Random Forest classifier"
      ]
    },
    {
      "cell_type": "code",
      "metadata": {
        "id": "8fenFYNOiiiw",
        "colab_type": "code",
        "colab": {
          "base_uri": "https://localhost:8080/",
          "height": 153
        },
        "outputId": "5c387b22-fc2d-4b65-8ae2-a1017cf8d59c"
      },
      "source": [
        "classifiers = [ ('LinearSVC',LinearSVC(loss='hinge',C=0.2)) , ('Naive - Bayes',MultinomialNB() ),('LogisticRegression' ,LogisticRegression(C = 0.9)) ,('Random Forest Classifier' ,RandomForestClassifier(n_estimators=100,max_depth=100)) ]\n",
        "for clf in classifiers:\n",
        "    \n",
        "    text_clf = Pipeline([('tfidf',TfidfVectorizer(ngram_range=(1,2))),        # tf-idf vectorisation\n",
        "                    (clf[0],clf[1])                                            # estimator\n",
        "                   ])\n",
        "    \n",
        "    text_clf.fit(X_train,y_train)\n",
        "    predicted =  text_clf.predict(X_test)\n",
        "    accuracy = np.sum(predicted == y_test)/len(y_test)\n",
        "    print(clf[0],'  ----->  ',accuracy,end = '\\n\\n')"
      ],
      "execution_count": 7,
      "outputs": [
        {
          "output_type": "stream",
          "text": [
            "LinearSVC   ----->   0.7194029850746269\n",
            "\n",
            "Naive - Bayes   ----->   0.7074626865671642\n",
            "\n",
            "LogisticRegression   ----->   0.746268656716418\n",
            "\n",
            "Random Forest Classifier   ----->   0.7134328358208956\n",
            "\n"
          ],
          "name": "stdout"
        }
      ]
    },
    {
      "cell_type": "markdown",
      "metadata": {
        "id": "GDhrTvZjk5LJ",
        "colab_type": "text"
      },
      "source": [
        "### **1.2 URL** "
      ]
    },
    {
      "cell_type": "code",
      "metadata": {
        "id": "AqjUYJd3iiZb",
        "colab_type": "code",
        "colab": {
          "base_uri": "https://localhost:8080/",
          "height": 85
        },
        "outputId": "02951045-0347-43e0-bc41-7886a06de2cf"
      },
      "source": [
        "# Extracting url column from dataset\n",
        "(X_train, X_test, y_train, y_test) = prepare_data(['url','flair'])\n",
        "print(\"X_train shape  = \",X_train.shape)\n",
        "print(\"y_train shape  = \",y_train.shape)\n",
        "print(\"X_test shape  = \",X_test.shape)\n",
        "print(\"y_test shape  = \",y_test.shape)"
      ],
      "execution_count": 8,
      "outputs": [
        {
          "output_type": "stream",
          "text": [
            "X_train shape  =  (1890,)\n",
            "y_train shape  =  (1890,)\n",
            "X_test shape  =  (334,)\n",
            "y_test shape  =  (334,)\n"
          ],
          "name": "stdout"
        }
      ]
    },
    {
      "cell_type": "code",
      "metadata": {
        "id": "daogzFoPiiOA",
        "colab_type": "code",
        "colab": {
          "base_uri": "https://localhost:8080/",
          "height": 187
        },
        "outputId": "71317f51-8b4e-485c-f193-4a07225e75f4"
      },
      "source": [
        "classifiers = [ ('LinearSVC',LinearSVC(loss='hinge',C=0.7)) , ('Naive - Bayes',MultinomialNB() ),('LogisticRegression' ,LogisticRegression(C = 25,solver='saga',penalty='l1',multi_class='multinomial')) ,('Random Forest Classifier' ,RandomForestClassifier(n_estimators=100,max_depth=100)) ]\n",
        "for clf in classifiers:\n",
        "    \n",
        "    text_clf = Pipeline([('tfidf',TfidfVectorizer(ngram_range=(1,2))),        \n",
        "                    (clf[0],clf[1])                                            \n",
        "                   ])\n",
        "    \n",
        "    text_clf.fit(X_train,y_train)\n",
        "    predicted =  text_clf.predict(X_test)\n",
        "    accuracy = np.sum(predicted == y_test)/len(y_test)\n",
        "    print(clf[0],'  ----->  ',accuracy,end = '\\n\\n')"
      ],
      "execution_count": 9,
      "outputs": [
        {
          "output_type": "stream",
          "text": [
            "LinearSVC   ----->   0.5269461077844312\n",
            "\n",
            "Naive - Bayes   ----->   0.4431137724550898\n",
            "\n"
          ],
          "name": "stdout"
        },
        {
          "output_type": "stream",
          "text": [
            "/usr/local/lib/python3.6/dist-packages/sklearn/linear_model/_sag.py:330: ConvergenceWarning: The max_iter was reached which means the coef_ did not converge\n",
            "  \"the coef_ did not converge\", ConvergenceWarning)\n"
          ],
          "name": "stderr"
        },
        {
          "output_type": "stream",
          "text": [
            "LogisticRegression   ----->   0.5239520958083832\n",
            "\n",
            "Random Forest Classifier   ----->   0.5\n",
            "\n"
          ],
          "name": "stdout"
        }
      ]
    },
    {
      "cell_type": "markdown",
      "metadata": {
        "id": "ud9Dy7TcleC9",
        "colab_type": "text"
      },
      "source": [
        "### **1.3 Comments**"
      ]
    },
    {
      "cell_type": "code",
      "metadata": {
        "id": "lGUvrfmflgaV",
        "colab_type": "code",
        "colab": {
          "base_uri": "https://localhost:8080/",
          "height": 85
        },
        "outputId": "dac06099-7b23-4a4f-8546-ec0fbbf88513"
      },
      "source": [
        "(X_train, X_test, y_train, y_test) = prepare_data(['comments','flair'])\n",
        "print(\"X_train shape  = \",X_train.shape)\n",
        "print(\"y_train shape  = \",y_train.shape)\n",
        "print(\"X_test shape  = \",X_test.shape)\n",
        "print(\"y_test shape  = \",y_test.shape)"
      ],
      "execution_count": 10,
      "outputs": [
        {
          "output_type": "stream",
          "text": [
            "X_train shape  =  (1706,)\n",
            "y_train shape  =  (1706,)\n",
            "X_test shape  =  (302,)\n",
            "y_test shape  =  (302,)\n"
          ],
          "name": "stdout"
        }
      ]
    },
    {
      "cell_type": "code",
      "metadata": {
        "id": "GwCy8srNlgHS",
        "colab_type": "code",
        "colab": {
          "base_uri": "https://localhost:8080/",
          "height": 289
        },
        "outputId": "efe8703d-b2b4-4755-9e4d-56b5969672dc"
      },
      "source": [
        "classifiers = [ ('LinearSVC',LinearSVC(loss='hinge',C=1)) , ('Naive - Bayes',MultinomialNB() ),('LogisticRegression' ,LogisticRegression(C = 10)) ,('Random Forest Classifier' ,RandomForestClassifier(n_estimators=100)) ]\n",
        "for clf in classifiers:\n",
        "    \n",
        "    text_clf = Pipeline([('tfidf',TfidfVectorizer(ngram_range=(1,2))),        \n",
        "                    (clf[0],clf[1])                                            \n",
        "                   ])\n",
        "    \n",
        "    text_clf.fit(X_train,y_train)\n",
        "    predicted =  text_clf.predict(X_test)\n",
        "    accuracy = np.sum(predicted == y_test)/len(y_test)\n",
        "    print(clf[0],'  ----->  ',accuracy,end = '\\n\\n')"
      ],
      "execution_count": 11,
      "outputs": [
        {
          "output_type": "stream",
          "text": [
            "LinearSVC   ----->   0.5132450331125827\n",
            "\n",
            "Naive - Bayes   ----->   0.4105960264900662\n",
            "\n"
          ],
          "name": "stdout"
        },
        {
          "output_type": "stream",
          "text": [
            "/usr/local/lib/python3.6/dist-packages/sklearn/linear_model/_logistic.py:940: ConvergenceWarning: lbfgs failed to converge (status=1):\n",
            "STOP: TOTAL NO. of ITERATIONS REACHED LIMIT.\n",
            "\n",
            "Increase the number of iterations (max_iter) or scale the data as shown in:\n",
            "    https://scikit-learn.org/stable/modules/preprocessing.html\n",
            "Please also refer to the documentation for alternative solver options:\n",
            "    https://scikit-learn.org/stable/modules/linear_model.html#logistic-regression\n",
            "  extra_warning_msg=_LOGISTIC_SOLVER_CONVERGENCE_MSG)\n"
          ],
          "name": "stderr"
        },
        {
          "output_type": "stream",
          "text": [
            "LogisticRegression   ----->   0.49337748344370863\n",
            "\n",
            "Random Forest Classifier   ----->   0.423841059602649\n",
            "\n"
          ],
          "name": "stdout"
        }
      ]
    },
    {
      "cell_type": "markdown",
      "metadata": {
        "id": "IMnHcBs5lhFv",
        "colab_type": "text"
      },
      "source": [
        "### **1.4 Title + url**"
      ]
    },
    {
      "cell_type": "code",
      "metadata": {
        "id": "RjlMDQXBmTy7",
        "colab_type": "code",
        "colab": {
          "base_uri": "https://localhost:8080/",
          "height": 85
        },
        "outputId": "febffe9e-5518-4c27-b366-dee5e9b8c20c"
      },
      "source": [
        "(X_train, X_test, y_train, y_test) = prepare_data(['title','url','flair'])\n",
        "print(\"X_train shape  = \",X_train.shape)\n",
        "print(\"y_train shape  = \",y_train.shape)\n",
        "print(\"X_test shape  = \",X_test.shape)\n",
        "print(\"y_test shape  = \",y_test.shape)"
      ],
      "execution_count": 12,
      "outputs": [
        {
          "output_type": "stream",
          "text": [
            "X_train shape  =  (1892,)\n",
            "y_train shape  =  (1892,)\n",
            "X_test shape  =  (335,)\n",
            "y_test shape  =  (335,)\n"
          ],
          "name": "stdout"
        }
      ]
    },
    {
      "cell_type": "code",
      "metadata": {
        "id": "NFJ3In98mThE",
        "colab_type": "code",
        "colab": {
          "base_uri": "https://localhost:8080/",
          "height": 153
        },
        "outputId": "5e23c5aa-1fc9-4996-bcb2-4f0d74fc3fb5"
      },
      "source": [
        "classifiers = [ ('LinearSVC',LinearSVC(loss='hinge',C=0.7)) , ('Naive - Bayes',MultinomialNB() ),('LogisticRegression' ,LogisticRegression(C = 0.9)) ,('Random Forest Classifier' ,RandomForestClassifier(n_estimators=100)) ]\n",
        "for clf in classifiers:\n",
        "    \n",
        "    text_clf = Pipeline([('tfidf',TfidfVectorizer(ngram_range=(1,2))),        \n",
        "                    (clf[0],clf[1])                                            \n",
        "                   ])\n",
        "    \n",
        "    text_clf.fit(X_train,y_train)\n",
        "    predicted =  text_clf.predict(X_test)\n",
        "    accuracy = np.sum(predicted == y_test)/len(y_test)\n",
        "    print(clf[0],'  ----->  ',accuracy,end = '\\n\\n')"
      ],
      "execution_count": 13,
      "outputs": [
        {
          "output_type": "stream",
          "text": [
            "LinearSVC   ----->   0.7283582089552239\n",
            "\n",
            "Naive - Bayes   ----->   0.6925373134328359\n",
            "\n",
            "LogisticRegression   ----->   0.7283582089552239\n",
            "\n",
            "Random Forest Classifier   ----->   0.7074626865671642\n",
            "\n"
          ],
          "name": "stdout"
        }
      ]
    },
    {
      "cell_type": "markdown",
      "metadata": {
        "id": "AKuReBoHmUjc",
        "colab_type": "text"
      },
      "source": [
        "### **1.5 Title + comments**"
      ]
    },
    {
      "cell_type": "code",
      "metadata": {
        "id": "So5hT1sUmVe8",
        "colab_type": "code",
        "colab": {
          "base_uri": "https://localhost:8080/",
          "height": 85
        },
        "outputId": "2649ae2a-ad1f-4e91-841d-fbf6ceec0157"
      },
      "source": [
        "(X_train, X_test, y_train, y_test) = prepare_data(['title','comments','flair'])\n",
        "print(\"X_train shape  = \",X_train.shape)\n",
        "print(\"y_train shape  = \",y_train.shape)\n",
        "print(\"X_test shape  = \",X_test.shape)\n",
        "print(\"y_test shape  = \",y_test.shape)"
      ],
      "execution_count": 30,
      "outputs": [
        {
          "output_type": "stream",
          "text": [
            "X_train shape  =  (1892,)\n",
            "y_train shape  =  (1892,)\n",
            "X_test shape  =  (335,)\n",
            "y_test shape  =  (335,)\n"
          ],
          "name": "stdout"
        }
      ]
    },
    {
      "cell_type": "code",
      "metadata": {
        "id": "SMRlPaffmV15",
        "colab_type": "code",
        "colab": {
          "base_uri": "https://localhost:8080/",
          "height": 153
        },
        "outputId": "517e4d75-8588-40a5-daca-23ccab31d93f"
      },
      "source": [
        "classifiers = [ ('LinearSVC',LinearSVC(loss='hinge',C=0.6)) , ('Naive - Bayes',MultinomialNB() ),('LogisticRegression' ,LogisticRegression(C = 9,max_iter = 150)) ,('Random Forest Classifier' ,RandomForestClassifier(n_estimators=100)) ]\n",
        "for clf in classifiers:\n",
        "    \n",
        "    text_clf = Pipeline([('tfidf',TfidfVectorizer(ngram_range=(1,2))),        \n",
        "                    (clf[0],clf[1])                                            \n",
        "                   ])\n",
        "    \n",
        "    text_clf.fit(X_train,y_train)\n",
        "    predicted =  text_clf.predict(X_test)\n",
        "    accuracy = np.sum(predicted == y_test)/len(y_test)\n",
        "    print(clf[0],'  ----->  ',accuracy,end = '\\n\\n')"
      ],
      "execution_count": 31,
      "outputs": [
        {
          "output_type": "stream",
          "text": [
            "LinearSVC   ----->   0.7432835820895523\n",
            "\n",
            "Naive - Bayes   ----->   0.5671641791044776\n",
            "\n",
            "LogisticRegression   ----->   0.7194029850746269\n",
            "\n",
            "Random Forest Classifier   ----->   0.7134328358208956\n",
            "\n"
          ],
          "name": "stdout"
        }
      ]
    },
    {
      "cell_type": "markdown",
      "metadata": {
        "id": "PnuAkOLinU3I",
        "colab_type": "text"
      },
      "source": [
        "### **1.6 Title + body**"
      ]
    },
    {
      "cell_type": "code",
      "metadata": {
        "id": "pxvKsET6nVp-",
        "colab_type": "code",
        "colab": {
          "base_uri": "https://localhost:8080/",
          "height": 85
        },
        "outputId": "26182970-6726-4208-f92f-6c36107ce639"
      },
      "source": [
        "(X_train, X_test, y_train, y_test) = prepare_data(['title','body','flair'])\n",
        "print(\"X_train shape  = \",X_train.shape)\n",
        "print(\"y_train shape  = \",y_train.shape)\n",
        "print(\"X_test shape  = \",X_test.shape)\n",
        "print(\"y_test shape  = \",y_test.shape)"
      ],
      "execution_count": 22,
      "outputs": [
        {
          "output_type": "stream",
          "text": [
            "X_train shape  =  (1892,)\n",
            "y_train shape  =  (1892,)\n",
            "X_test shape  =  (335,)\n",
            "y_test shape  =  (335,)\n"
          ],
          "name": "stdout"
        }
      ]
    },
    {
      "cell_type": "code",
      "metadata": {
        "id": "IxUjKI29nWGU",
        "colab_type": "code",
        "colab": {
          "base_uri": "https://localhost:8080/",
          "height": 153
        },
        "outputId": "b25f2630-9c4a-4edc-88e8-2fad3ea6bb57"
      },
      "source": [
        "classifiers = [ ('LinearSVC',LinearSVC(loss='hinge',C=0.7)) , ('Naive - Bayes',MultinomialNB() ),('LogisticRegression' ,LogisticRegression(C = 9,max_iter = 200)) ,('Random Forest Classifier' ,RandomForestClassifier(n_estimators=100)) ]\n",
        "for clf in classifiers:\n",
        "    \n",
        "    text_clf = Pipeline([('tfidf',TfidfVectorizer(ngram_range=(1,2))),        \n",
        "                    (clf[0],clf[1])                                            \n",
        "                   ])\n",
        "    \n",
        "    text_clf.fit(X_train,y_train)\n",
        "    predicted =  text_clf.predict(X_test)\n",
        "    accuracy = np.sum(predicted == y_test)/len(y_test)\n",
        "    print(clf[0],'  ----->  ',accuracy,end = '\\n\\n')"
      ],
      "execution_count": 29,
      "outputs": [
        {
          "output_type": "stream",
          "text": [
            "LinearSVC   ----->   0.8238805970149253\n",
            "\n",
            "Naive - Bayes   ----->   0.6716417910447762\n",
            "\n",
            "LogisticRegression   ----->   0.7970149253731343\n",
            "\n",
            "Random Forest Classifier   ----->   0.7611940298507462\n",
            "\n"
          ],
          "name": "stdout"
        }
      ]
    },
    {
      "cell_type": "markdown",
      "metadata": {
        "id": "koXHKZkEmWXV",
        "colab_type": "text"
      },
      "source": [
        "### **1.7 Title + comments + url**\n"
      ]
    },
    {
      "cell_type": "code",
      "metadata": {
        "id": "tKrWvk4WnUWu",
        "colab_type": "code",
        "colab": {
          "base_uri": "https://localhost:8080/",
          "height": 85
        },
        "outputId": "d0decdbe-eadb-4bcf-f65c-af21bcc1c4d9"
      },
      "source": [
        "(X_train, X_test, y_train, y_test) = prepare_data(['title','url','comments','flair'])\n",
        "print(\"X_train shape  = \",X_train.shape)\n",
        "print(\"y_train shape  = \",y_train.shape)\n",
        "print(\"X_test shape  = \",X_test.shape)\n",
        "print(\"y_test shape  = \",y_test.shape)"
      ],
      "execution_count": 32,
      "outputs": [
        {
          "output_type": "stream",
          "text": [
            "X_train shape  =  (1892,)\n",
            "y_train shape  =  (1892,)\n",
            "X_test shape  =  (335,)\n",
            "y_test shape  =  (335,)\n"
          ],
          "name": "stdout"
        }
      ]
    },
    {
      "cell_type": "code",
      "metadata": {
        "id": "fNUcG1lVnUAC",
        "colab_type": "code",
        "colab": {
          "base_uri": "https://localhost:8080/",
          "height": 289
        },
        "outputId": "b056ef93-02a1-4896-8370-3a6272138f2e"
      },
      "source": [
        "classifiers = [ ('LinearSVC',LinearSVC(loss='hinge',C=3)) , ('Naive - Bayes',MultinomialNB() ),('LogisticRegression' ,LogisticRegression(C = 9,max_iter = 150)) ,('Random Forest Classifier' ,RandomForestClassifier(n_estimators=100)) ]\n",
        "for clf in classifiers:\n",
        "    \n",
        "    text_clf = Pipeline([('tfidf',TfidfVectorizer(ngram_range=(1,2))),        \n",
        "                    (clf[0],clf[1])                                            \n",
        "                   ])\n",
        "    \n",
        "    text_clf.fit(X_train,y_train)\n",
        "    predicted =  text_clf.predict(X_test)\n",
        "    accuracy = np.sum(predicted == y_test)/len(y_test)\n",
        "    print(clf[0],'  ----->  ',accuracy,end = '\\n\\n')"
      ],
      "execution_count": 17,
      "outputs": [
        {
          "output_type": "stream",
          "text": [
            "LinearSVC   ----->   0.7761194029850746\n",
            "\n",
            "Naive - Bayes   ----->   0.5940298507462687\n",
            "\n"
          ],
          "name": "stdout"
        },
        {
          "output_type": "stream",
          "text": [
            "/usr/local/lib/python3.6/dist-packages/sklearn/linear_model/_logistic.py:940: ConvergenceWarning: lbfgs failed to converge (status=1):\n",
            "STOP: TOTAL NO. of ITERATIONS REACHED LIMIT.\n",
            "\n",
            "Increase the number of iterations (max_iter) or scale the data as shown in:\n",
            "    https://scikit-learn.org/stable/modules/preprocessing.html\n",
            "Please also refer to the documentation for alternative solver options:\n",
            "    https://scikit-learn.org/stable/modules/linear_model.html#logistic-regression\n",
            "  extra_warning_msg=_LOGISTIC_SOLVER_CONVERGENCE_MSG)\n"
          ],
          "name": "stderr"
        },
        {
          "output_type": "stream",
          "text": [
            "LogisticRegression   ----->   0.7343283582089553\n",
            "\n",
            "Random Forest Classifier   ----->   0.7134328358208956\n",
            "\n"
          ],
          "name": "stdout"
        }
      ]
    },
    {
      "cell_type": "markdown",
      "metadata": {
        "id": "GJ3bcnlxnWnj",
        "colab_type": "text"
      },
      "source": [
        "###  **1.8 Title + body + url**"
      ]
    },
    {
      "cell_type": "code",
      "metadata": {
        "id": "x5FeEtE7oIhd",
        "colab_type": "code",
        "colab": {
          "base_uri": "https://localhost:8080/",
          "height": 85
        },
        "outputId": "5a9172c2-5813-4c2a-e9b1-3406493f011d"
      },
      "source": [
        "(X_train, X_test, y_train, y_test) = prepare_data(['title','body','url','flair'])\n",
        "print(\"X_train shape  = \",X_train.shape)\n",
        "print(\"y_train shape  = \",y_train.shape)\n",
        "print(\"X_test shape  = \",X_test.shape)\n",
        "print(\"y_test shape  = \",y_test.shape)"
      ],
      "execution_count": 33,
      "outputs": [
        {
          "output_type": "stream",
          "text": [
            "X_train shape  =  (1892,)\n",
            "y_train shape  =  (1892,)\n",
            "X_test shape  =  (335,)\n",
            "y_test shape  =  (335,)\n"
          ],
          "name": "stdout"
        }
      ]
    },
    {
      "cell_type": "code",
      "metadata": {
        "id": "WahGxyEKoIMI",
        "colab_type": "code",
        "colab": {
          "base_uri": "https://localhost:8080/",
          "height": 153
        },
        "outputId": "683b3743-a321-4db7-a134-44be95413395"
      },
      "source": [
        "classifiers = [ ('LinearSVC',LinearSVC(loss='hinge',C=0.7)) , ('Naive - Bayes',MultinomialNB() ),('LogisticRegression' ,LogisticRegression(C = 9,max_iter = 200)) ,('Random Forest Classifier' ,RandomForestClassifier(n_estimators=100)) ]\n",
        "for clf in classifiers:\n",
        "    \n",
        "    text_clf = Pipeline([('tfidf',TfidfVectorizer(ngram_range=(1,2))),        \n",
        "                    (clf[0],clf[1])                                            \n",
        "                   ])\n",
        "    \n",
        "    text_clf.fit(X_train,y_train)\n",
        "    predicted =  text_clf.predict(X_test) \n",
        "    accuracy = np.sum(predicted == y_test)/len(y_test) # t = b = u\n",
        "    print(clf[0],'  ----->  ',accuracy,end = '\\n\\n')"
      ],
      "execution_count": 34,
      "outputs": [
        {
          "output_type": "stream",
          "text": [
            "LinearSVC   ----->   0.8238805970149253\n",
            "\n",
            "Naive - Bayes   ----->   0.6716417910447762\n",
            "\n",
            "LogisticRegression   ----->   0.7970149253731343\n",
            "\n",
            "Random Forest Classifier   ----->   0.7880597014925373\n",
            "\n"
          ],
          "name": "stdout"
        }
      ]
    },
    {
      "cell_type": "markdown",
      "metadata": {
        "id": "GzcoabkTphWX",
        "colab_type": "text"
      },
      "source": [
        "#### ***Models perform the best when we use features ( Title + Body + url )***\n",
        "- Now we will explore deep-learning approaches for text classification\n",
        "\n"
      ]
    },
    {
      "cell_type": "markdown",
      "metadata": {
        "id": "7M6GFFMCtRTW",
        "colab_type": "text"
      },
      "source": [
        "# ***2. Deep Learning Models***\n",
        "- We will be considering the following deep learning methods for text classification\n",
        " 1. CNN + Word Embeddings\n",
        " 2. LSTMs\n",
        " 3. Stacked LSTMS\n",
        " 4. Bidirectional LSTMs\n",
        " 5. Hybrid Model --> (CNN + LSTM)"
      ]
    },
    {
      "cell_type": "code",
      "metadata": {
        "id": "5_CAC5jEWO04",
        "colab_type": "code",
        "colab": {}
      },
      "source": [
        "# Creating embeddings dictionary\n",
        "embeddings_dict = {}\n",
        "with open('/content/drive/My Drive/glove.6B.50d.txt') as f: \n",
        "    for line in f:\n",
        "        word = line.split()[0]\n",
        "        embeddings_dict[word] = np.array(line.split()[1:],dtype = 'float')"
      ],
      "execution_count": 0,
      "outputs": []
    },
    {
      "cell_type": "code",
      "metadata": {
        "id": "65fmbv8B0sEC",
        "colab_type": "code",
        "colab": {}
      },
      "source": [
        "def create_data_for_model(max_len , vocab_size = 'None'):\n",
        "      (X_train, X_test, y_train, y_test) = prepare_data(['title','body','url','flair'])\n",
        "      tk = Tokenizer()\n",
        "      tk.fit_on_texts(X_train)\n",
        "      if vocab_size != 'None':\n",
        "        tk.word_index = {w:i for w,i in tk.word_index.items() if i <= vocab_size}\n",
        "      else:\n",
        "        vocab_size = len(tk.word_index)\n",
        "\n",
        "      # Train Data - X\n",
        "      encoded_train = tk.texts_to_sequences(X_train)\n",
        "      padded_train = pad_sequences(encoded_train,maxlen = max_len, padding = 'post' , truncating = 'post')\n",
        "\n",
        "      # Test Data  - X\n",
        "      encoded_test = tk.texts_to_sequences(X_test)\n",
        "      padded_test = pad_sequences(encoded_test,maxlen = max_len,padding = 'post', truncating = 'post')\n",
        "\n",
        "      # Train Data - Y\n",
        "      one_hot = OneHotEncoder()\n",
        "      y_train = y_train.reshape((-1,1))\n",
        "      y_train = one_hot.fit_transform(y_train).toarray()\n",
        "\n",
        "      # Create embeddings matrix\n",
        "      embeddings_matrix = np.zeros((vocab_size+1,50)) \n",
        "      for word,index in tk.word_index.items():\n",
        "        if embeddings_dict.get(word) is not None:\n",
        "          embeddings_matrix[index] = embeddings_dict[word]\n",
        "     \n",
        "      return (padded_train, y_train, padded_test, y_test, embeddings_matrix, vocab_size)\n"
      ],
      "execution_count": 0,
      "outputs": []
    },
    {
      "cell_type": "markdown",
      "metadata": {
        "id": "EPaLzvdJmSe0",
        "colab_type": "text"
      },
      "source": [
        "## ***2.1 CNN + Word Embeddings***\n",
        "- (**Yoav Goldberg**, in his primer on deep learning for nlp, 2015) , comments that CNNs are effective at Text Classification because of their capability to extract important features  (like tokens or sequence of tokens) regardless of their position in text.\n",
        "\n",
        "- He also comments, in text classification, the main idea is to learn words or a group of words that are good indicators of a topic, we do not necessarily care where they might appear in a document. Convolutions and pooling layers allow model to learn such local indicators invariant to their position.\n",
        "---\n",
        "1. For each training example, we will extract word embedding vectors (Glove vectors).\n",
        "2. we will feed this as input to CNN model, Our hope is that CNN model will learn some useful filters. A useful filter might be one , that has a similar embedding vector to the vector of a distinguishing word.\n",
        "\n"
      ]
    },
    {
      "cell_type": "code",
      "metadata": {
        "id": "2Wdm5y11JTw7",
        "colab_type": "code",
        "colab": {}
      },
      "source": [
        "(padded_train, y_train, padded_test, y_test, embeddings_matrix, vocab_len) = create_data_for_model(max_len = 300)\n",
        "def cnn_model(max_len, vocab_size):  \n",
        "  pooling_layers = []\n",
        "  inp = Input((max_len,))\n",
        "  embedding_layer = Embedding(input_dim= vocab_size + 1,output_dim=50,weights = [embeddings_matrix],trainable = True)(inp)\n",
        "  dp = Dropout(0.3)(embedding_layer)\n",
        "\n",
        "  x1 = Conv1D(filters=36,kernel_size=1,activation = 'relu')(dp)\n",
        "  pooling_layers.append(MaxPool1D(pool_size=max_len,stride = 1)(x1))\n",
        "\n",
        "  x2 = Conv1D(filters=36,kernel_size=2,activation = 'relu')(dp)\n",
        "  pooling_layers.append(MaxPool1D(pool_size=max_len - 1,stride = 1)(x2))\n",
        "\n",
        "  x3 = Conv1D(filters=36,kernel_size=3,activation = 'relu')(dp)\n",
        "  pooling_layers.append(MaxPool1D(pool_size=max_len - 2,stride = 1)(x3))\n",
        "\n",
        "  x4 = Conv1D(filters=36,kernel_size=4,activation = 'relu')(dp)\n",
        "  pooling_layers.append(MaxPool1D(pool_size=max_len - 3,stride = 1)(x4))\n",
        "\n",
        "  x5 = Conv1D(filters=36,kernel_size=5,activation = 'relu')(dp)\n",
        "  pooling_layers.append(MaxPool1D(pool_size=max_len - 4,stride = 1)(x5))\n",
        "\n",
        "  z = Concatenate(axis = 1)(pooling_layers)\n",
        "  z = Flatten()(z)\n",
        "  #z = Dropout(0.3)(z)\n",
        "\n",
        "  \n",
        "  y = Dense(16,activation = 'relu')(z)\n",
        "\n",
        "  out = Dense(11,activation = 'softmax')(y)\n",
        "\n",
        "\n",
        "  model = Model(inputs = inp,outputs = out)\n",
        "  model.compile(loss='categorical_crossentropy', optimizer='adam', metrics=['accuracy'])\n",
        "  model.summary()\n",
        "  return model"
      ],
      "execution_count": 0,
      "outputs": []
    },
    {
      "cell_type": "code",
      "metadata": {
        "id": "pjKJ_YArwqHV",
        "colab_type": "code",
        "outputId": "0d7d4c36-7179-48ff-f68a-99da099e83db",
        "colab": {
          "base_uri": "https://localhost:8080/",
          "height": 1000
        }
      },
      "source": [
        "model = cnn_model(max_len = 300,vocab_size = vocab_len)\n",
        "history = model.fit(padded_train,y_train, epochs = 200, batch_size = 32, validation_split = 0.15)\n"
      ],
      "execution_count": 15,
      "outputs": [
        {
          "output_type": "stream",
          "text": [
            "/usr/local/lib/python3.6/dist-packages/ipykernel_launcher.py:9: UserWarning: Update your `MaxPooling1D` call to the Keras 2 API: `MaxPooling1D(pool_size=300, strides=1)`\n",
            "  if __name__ == '__main__':\n",
            "/usr/local/lib/python3.6/dist-packages/ipykernel_launcher.py:12: UserWarning: Update your `MaxPooling1D` call to the Keras 2 API: `MaxPooling1D(pool_size=299, strides=1)`\n",
            "  if sys.path[0] == '':\n",
            "/usr/local/lib/python3.6/dist-packages/ipykernel_launcher.py:15: UserWarning: Update your `MaxPooling1D` call to the Keras 2 API: `MaxPooling1D(pool_size=298, strides=1)`\n",
            "  from ipykernel import kernelapp as app\n",
            "/usr/local/lib/python3.6/dist-packages/ipykernel_launcher.py:18: UserWarning: Update your `MaxPooling1D` call to the Keras 2 API: `MaxPooling1D(pool_size=297, strides=1)`\n",
            "/usr/local/lib/python3.6/dist-packages/ipykernel_launcher.py:21: UserWarning: Update your `MaxPooling1D` call to the Keras 2 API: `MaxPooling1D(pool_size=296, strides=1)`\n"
          ],
          "name": "stderr"
        },
        {
          "output_type": "stream",
          "text": [
            "Model: \"model_2\"\n",
            "__________________________________________________________________________________________________\n",
            "Layer (type)                    Output Shape         Param #     Connected to                     \n",
            "==================================================================================================\n",
            "input_2 (InputLayer)            (None, 300)          0                                            \n",
            "__________________________________________________________________________________________________\n",
            "embedding_2 (Embedding)         (None, 300, 50)      1018350     input_2[0][0]                    \n",
            "__________________________________________________________________________________________________\n",
            "dropout_2 (Dropout)             (None, 300, 50)      0           embedding_2[0][0]                \n",
            "__________________________________________________________________________________________________\n",
            "conv1d_6 (Conv1D)               (None, 300, 36)      1836        dropout_2[0][0]                  \n",
            "__________________________________________________________________________________________________\n",
            "conv1d_7 (Conv1D)               (None, 299, 36)      3636        dropout_2[0][0]                  \n",
            "__________________________________________________________________________________________________\n",
            "conv1d_8 (Conv1D)               (None, 298, 36)      5436        dropout_2[0][0]                  \n",
            "__________________________________________________________________________________________________\n",
            "conv1d_9 (Conv1D)               (None, 297, 36)      7236        dropout_2[0][0]                  \n",
            "__________________________________________________________________________________________________\n",
            "conv1d_10 (Conv1D)              (None, 296, 36)      9036        dropout_2[0][0]                  \n",
            "__________________________________________________________________________________________________\n",
            "max_pooling1d_6 (MaxPooling1D)  (None, 1, 36)        0           conv1d_6[0][0]                   \n",
            "__________________________________________________________________________________________________\n",
            "max_pooling1d_7 (MaxPooling1D)  (None, 1, 36)        0           conv1d_7[0][0]                   \n",
            "__________________________________________________________________________________________________\n",
            "max_pooling1d_8 (MaxPooling1D)  (None, 1, 36)        0           conv1d_8[0][0]                   \n",
            "__________________________________________________________________________________________________\n",
            "max_pooling1d_9 (MaxPooling1D)  (None, 1, 36)        0           conv1d_9[0][0]                   \n",
            "__________________________________________________________________________________________________\n",
            "max_pooling1d_10 (MaxPooling1D) (None, 1, 36)        0           conv1d_10[0][0]                  \n",
            "__________________________________________________________________________________________________\n",
            "concatenate_2 (Concatenate)     (None, 5, 36)        0           max_pooling1d_6[0][0]            \n",
            "                                                                 max_pooling1d_7[0][0]            \n",
            "                                                                 max_pooling1d_8[0][0]            \n",
            "                                                                 max_pooling1d_9[0][0]            \n",
            "                                                                 max_pooling1d_10[0][0]           \n",
            "__________________________________________________________________________________________________\n",
            "flatten_2 (Flatten)             (None, 180)          0           concatenate_2[0][0]              \n",
            "__________________________________________________________________________________________________\n",
            "dense_3 (Dense)                 (None, 16)           2896        flatten_2[0][0]                  \n",
            "__________________________________________________________________________________________________\n",
            "dense_4 (Dense)                 (None, 11)           187         dense_3[0][0]                    \n",
            "==================================================================================================\n",
            "Total params: 1,048,613\n",
            "Trainable params: 1,048,613\n",
            "Non-trainable params: 0\n",
            "__________________________________________________________________________________________________\n"
          ],
          "name": "stdout"
        },
        {
          "output_type": "stream",
          "text": [
            "/usr/local/lib/python3.6/dist-packages/tensorflow/python/framework/indexed_slices.py:434: UserWarning: Converting sparse IndexedSlices to a dense Tensor of unknown shape. This may consume a large amount of memory.\n",
            "  \"Converting sparse IndexedSlices to a dense Tensor of unknown shape. \"\n"
          ],
          "name": "stderr"
        },
        {
          "output_type": "stream",
          "text": [
            "Train on 1608 samples, validate on 284 samples\n",
            "Epoch 1/200\n",
            "1608/1608 [==============================] - 1s 496us/step - loss: 2.4504 - accuracy: 0.1312 - val_loss: 2.2719 - val_accuracy: 0.1373\n",
            "Epoch 2/200\n",
            "1608/1608 [==============================] - 0s 280us/step - loss: 2.2115 - accuracy: 0.2264 - val_loss: 2.1212 - val_accuracy: 0.2324\n",
            "Epoch 3/200\n",
            "1608/1608 [==============================] - 0s 276us/step - loss: 2.0288 - accuracy: 0.3072 - val_loss: 1.8879 - val_accuracy: 0.3556\n",
            "Epoch 4/200\n",
            "1608/1608 [==============================] - 0s 284us/step - loss: 1.7626 - accuracy: 0.4042 - val_loss: 1.5765 - val_accuracy: 0.4085\n",
            "Epoch 5/200\n",
            "1608/1608 [==============================] - 0s 279us/step - loss: 1.4507 - accuracy: 0.5398 - val_loss: 1.2308 - val_accuracy: 0.5845\n",
            "Epoch 6/200\n",
            "1608/1608 [==============================] - 0s 281us/step - loss: 1.1692 - accuracy: 0.6200 - val_loss: 1.0139 - val_accuracy: 0.7007\n",
            "Epoch 7/200\n",
            "1608/1608 [==============================] - 0s 277us/step - loss: 0.9829 - accuracy: 0.6859 - val_loss: 0.9015 - val_accuracy: 0.7007\n",
            "Epoch 8/200\n",
            "1608/1608 [==============================] - 0s 285us/step - loss: 0.8536 - accuracy: 0.7407 - val_loss: 0.8116 - val_accuracy: 0.7394\n",
            "Epoch 9/200\n",
            "1608/1608 [==============================] - 0s 275us/step - loss: 0.7180 - accuracy: 0.7867 - val_loss: 0.7820 - val_accuracy: 0.7394\n",
            "Epoch 10/200\n",
            "1608/1608 [==============================] - 0s 277us/step - loss: 0.6354 - accuracy: 0.7879 - val_loss: 0.7453 - val_accuracy: 0.7570\n",
            "Epoch 11/200\n",
            "1608/1608 [==============================] - 0s 277us/step - loss: 0.5526 - accuracy: 0.8402 - val_loss: 0.7470 - val_accuracy: 0.7676\n",
            "Epoch 12/200\n",
            "1608/1608 [==============================] - 0s 281us/step - loss: 0.5187 - accuracy: 0.8439 - val_loss: 0.7116 - val_accuracy: 0.7746\n",
            "Epoch 13/200\n",
            "1608/1608 [==============================] - 0s 281us/step - loss: 0.4235 - accuracy: 0.8818 - val_loss: 0.7137 - val_accuracy: 0.7641\n",
            "Epoch 14/200\n",
            "1608/1608 [==============================] - 0s 276us/step - loss: 0.3903 - accuracy: 0.8887 - val_loss: 0.6642 - val_accuracy: 0.7993\n",
            "Epoch 15/200\n",
            "1608/1608 [==============================] - 0s 281us/step - loss: 0.3415 - accuracy: 0.9104 - val_loss: 0.6995 - val_accuracy: 0.7852\n",
            "Epoch 16/200\n",
            "1608/1608 [==============================] - 0s 280us/step - loss: 0.3060 - accuracy: 0.9080 - val_loss: 0.6735 - val_accuracy: 0.7958\n",
            "Epoch 17/200\n",
            "1608/1608 [==============================] - 0s 283us/step - loss: 0.2734 - accuracy: 0.9223 - val_loss: 0.6791 - val_accuracy: 0.7958\n",
            "Epoch 18/200\n",
            "1608/1608 [==============================] - 0s 278us/step - loss: 0.2257 - accuracy: 0.9434 - val_loss: 0.6850 - val_accuracy: 0.7993\n",
            "Epoch 19/200\n",
            "1608/1608 [==============================] - 0s 276us/step - loss: 0.2314 - accuracy: 0.9291 - val_loss: 0.6901 - val_accuracy: 0.8063\n",
            "Epoch 20/200\n",
            "1608/1608 [==============================] - 0s 281us/step - loss: 0.2146 - accuracy: 0.9490 - val_loss: 0.7118 - val_accuracy: 0.8134\n",
            "Epoch 21/200\n",
            "1608/1608 [==============================] - 0s 280us/step - loss: 0.2146 - accuracy: 0.9409 - val_loss: 0.6873 - val_accuracy: 0.8134\n",
            "Epoch 22/200\n",
            "1608/1608 [==============================] - 0s 274us/step - loss: 0.1654 - accuracy: 0.9627 - val_loss: 0.7066 - val_accuracy: 0.8204\n",
            "Epoch 23/200\n",
            "1608/1608 [==============================] - 0s 276us/step - loss: 0.1785 - accuracy: 0.9515 - val_loss: 0.7309 - val_accuracy: 0.8028\n",
            "Epoch 24/200\n",
            "1608/1608 [==============================] - 0s 285us/step - loss: 0.1412 - accuracy: 0.9664 - val_loss: 0.7230 - val_accuracy: 0.8204\n",
            "Epoch 25/200\n",
            "1608/1608 [==============================] - 0s 277us/step - loss: 0.1300 - accuracy: 0.9708 - val_loss: 0.7234 - val_accuracy: 0.8063\n",
            "Epoch 26/200\n",
            "1608/1608 [==============================] - 0s 279us/step - loss: 0.1222 - accuracy: 0.9701 - val_loss: 0.7338 - val_accuracy: 0.8028\n",
            "Epoch 27/200\n",
            "1608/1608 [==============================] - 0s 275us/step - loss: 0.1177 - accuracy: 0.9745 - val_loss: 0.7407 - val_accuracy: 0.8099\n",
            "Epoch 28/200\n",
            "1608/1608 [==============================] - 0s 275us/step - loss: 0.1092 - accuracy: 0.9720 - val_loss: 0.7630 - val_accuracy: 0.8063\n",
            "Epoch 29/200\n",
            "1608/1608 [==============================] - 0s 283us/step - loss: 0.1070 - accuracy: 0.9726 - val_loss: 0.7596 - val_accuracy: 0.8028\n",
            "Epoch 30/200\n",
            "1608/1608 [==============================] - 0s 277us/step - loss: 0.1161 - accuracy: 0.9714 - val_loss: 0.7709 - val_accuracy: 0.8134\n",
            "Epoch 31/200\n",
            "1608/1608 [==============================] - 0s 278us/step - loss: 0.1018 - accuracy: 0.9739 - val_loss: 0.8107 - val_accuracy: 0.8063\n",
            "Epoch 32/200\n",
            "1608/1608 [==============================] - 0s 274us/step - loss: 0.1004 - accuracy: 0.9714 - val_loss: 0.8131 - val_accuracy: 0.7958\n",
            "Epoch 33/200\n",
            "1608/1608 [==============================] - 0s 282us/step - loss: 0.1189 - accuracy: 0.9689 - val_loss: 0.7906 - val_accuracy: 0.8204\n",
            "Epoch 34/200\n",
            "1608/1608 [==============================] - 0s 278us/step - loss: 0.0925 - accuracy: 0.9745 - val_loss: 0.8257 - val_accuracy: 0.7923\n",
            "Epoch 35/200\n",
            "1608/1608 [==============================] - 0s 281us/step - loss: 0.0896 - accuracy: 0.9757 - val_loss: 0.7920 - val_accuracy: 0.8275\n",
            "Epoch 36/200\n",
            "1608/1608 [==============================] - 0s 275us/step - loss: 0.1057 - accuracy: 0.9701 - val_loss: 0.8070 - val_accuracy: 0.8028\n",
            "Epoch 37/200\n",
            "1608/1608 [==============================] - 0s 274us/step - loss: 0.0753 - accuracy: 0.9789 - val_loss: 0.8196 - val_accuracy: 0.8169\n",
            "Epoch 38/200\n",
            "1608/1608 [==============================] - 0s 273us/step - loss: 0.0873 - accuracy: 0.9764 - val_loss: 0.8333 - val_accuracy: 0.8169\n",
            "Epoch 39/200\n",
            "1608/1608 [==============================] - 0s 283us/step - loss: 0.0776 - accuracy: 0.9764 - val_loss: 0.8252 - val_accuracy: 0.8099\n",
            "Epoch 40/200\n",
            "1608/1608 [==============================] - 0s 277us/step - loss: 0.0658 - accuracy: 0.9764 - val_loss: 0.8265 - val_accuracy: 0.8169\n",
            "Epoch 41/200\n",
            "1608/1608 [==============================] - 0s 273us/step - loss: 0.0760 - accuracy: 0.9739 - val_loss: 0.8673 - val_accuracy: 0.8028\n",
            "Epoch 42/200\n",
            "1608/1608 [==============================] - 0s 280us/step - loss: 0.0921 - accuracy: 0.9726 - val_loss: 0.8714 - val_accuracy: 0.8204\n",
            "Epoch 43/200\n",
            "1608/1608 [==============================] - 0s 272us/step - loss: 0.0882 - accuracy: 0.9776 - val_loss: 0.8559 - val_accuracy: 0.8063\n",
            "Epoch 44/200\n",
            "1608/1608 [==============================] - 0s 275us/step - loss: 0.0687 - accuracy: 0.9795 - val_loss: 0.8680 - val_accuracy: 0.8239\n",
            "Epoch 45/200\n",
            "1608/1608 [==============================] - 0s 281us/step - loss: 0.0542 - accuracy: 0.9795 - val_loss: 0.8990 - val_accuracy: 0.8169\n",
            "Epoch 46/200\n",
            "1608/1608 [==============================] - 0s 273us/step - loss: 0.0758 - accuracy: 0.9801 - val_loss: 0.9136 - val_accuracy: 0.8134\n",
            "Epoch 47/200\n",
            "1608/1608 [==============================] - 0s 278us/step - loss: 0.0699 - accuracy: 0.9757 - val_loss: 0.8924 - val_accuracy: 0.7923\n",
            "Epoch 48/200\n",
            "1608/1608 [==============================] - 0s 272us/step - loss: 0.0676 - accuracy: 0.9795 - val_loss: 0.9249 - val_accuracy: 0.7958\n",
            "Epoch 49/200\n",
            "1608/1608 [==============================] - 0s 276us/step - loss: 0.0764 - accuracy: 0.9739 - val_loss: 0.9304 - val_accuracy: 0.8028\n",
            "Epoch 50/200\n",
            "1608/1608 [==============================] - 0s 275us/step - loss: 0.0597 - accuracy: 0.9832 - val_loss: 0.9184 - val_accuracy: 0.7958\n",
            "Epoch 51/200\n",
            "1608/1608 [==============================] - 0s 279us/step - loss: 0.0637 - accuracy: 0.9782 - val_loss: 0.8764 - val_accuracy: 0.8204\n",
            "Epoch 52/200\n",
            "1608/1608 [==============================] - 0s 274us/step - loss: 0.0739 - accuracy: 0.9770 - val_loss: 0.8664 - val_accuracy: 0.8204\n",
            "Epoch 53/200\n",
            "1608/1608 [==============================] - 0s 275us/step - loss: 0.0654 - accuracy: 0.9764 - val_loss: 0.8603 - val_accuracy: 0.8275\n",
            "Epoch 54/200\n",
            "1608/1608 [==============================] - 0s 282us/step - loss: 0.0622 - accuracy: 0.9782 - val_loss: 0.8834 - val_accuracy: 0.8169\n",
            "Epoch 55/200\n",
            "1608/1608 [==============================] - 0s 271us/step - loss: 0.0670 - accuracy: 0.9807 - val_loss: 0.9581 - val_accuracy: 0.8063\n",
            "Epoch 56/200\n",
            "1608/1608 [==============================] - 0s 285us/step - loss: 0.0709 - accuracy: 0.9751 - val_loss: 0.9141 - val_accuracy: 0.8275\n",
            "Epoch 57/200\n",
            "1608/1608 [==============================] - 0s 274us/step - loss: 0.0724 - accuracy: 0.9764 - val_loss: 0.9352 - val_accuracy: 0.7993\n",
            "Epoch 58/200\n",
            "1608/1608 [==============================] - 0s 288us/step - loss: 0.0681 - accuracy: 0.9795 - val_loss: 0.8351 - val_accuracy: 0.8275\n",
            "Epoch 59/200\n",
            "1608/1608 [==============================] - 0s 279us/step - loss: 0.0567 - accuracy: 0.9789 - val_loss: 0.9131 - val_accuracy: 0.8028\n",
            "Epoch 60/200\n",
            "1608/1608 [==============================] - 0s 280us/step - loss: 0.0693 - accuracy: 0.9789 - val_loss: 0.8875 - val_accuracy: 0.8310\n",
            "Epoch 61/200\n",
            "1608/1608 [==============================] - 0s 282us/step - loss: 0.0655 - accuracy: 0.9770 - val_loss: 0.9024 - val_accuracy: 0.8204\n",
            "Epoch 62/200\n",
            "1608/1608 [==============================] - 0s 279us/step - loss: 0.0712 - accuracy: 0.9757 - val_loss: 0.9355 - val_accuracy: 0.8134\n",
            "Epoch 63/200\n",
            "1608/1608 [==============================] - 0s 275us/step - loss: 0.0689 - accuracy: 0.9751 - val_loss: 0.8557 - val_accuracy: 0.8169\n",
            "Epoch 64/200\n",
            "1608/1608 [==============================] - 0s 275us/step - loss: 0.0716 - accuracy: 0.9795 - val_loss: 0.9684 - val_accuracy: 0.8063\n",
            "Epoch 65/200\n",
            "1608/1608 [==============================] - 0s 274us/step - loss: 0.0560 - accuracy: 0.9795 - val_loss: 0.9848 - val_accuracy: 0.8028\n",
            "Epoch 66/200\n",
            "1608/1608 [==============================] - 0s 270us/step - loss: 0.0461 - accuracy: 0.9838 - val_loss: 0.9023 - val_accuracy: 0.8345\n",
            "Epoch 67/200\n",
            "1608/1608 [==============================] - 0s 283us/step - loss: 0.0789 - accuracy: 0.9720 - val_loss: 0.9291 - val_accuracy: 0.8345\n",
            "Epoch 68/200\n",
            "1608/1608 [==============================] - 0s 276us/step - loss: 0.0767 - accuracy: 0.9770 - val_loss: 0.9035 - val_accuracy: 0.8275\n",
            "Epoch 69/200\n",
            "1608/1608 [==============================] - 0s 277us/step - loss: 0.0672 - accuracy: 0.9757 - val_loss: 0.8976 - val_accuracy: 0.8204\n",
            "Epoch 70/200\n",
            "1608/1608 [==============================] - 0s 274us/step - loss: 0.0609 - accuracy: 0.9776 - val_loss: 0.8963 - val_accuracy: 0.8275\n",
            "Epoch 71/200\n",
            "1608/1608 [==============================] - 0s 277us/step - loss: 0.0495 - accuracy: 0.9820 - val_loss: 0.9495 - val_accuracy: 0.8134\n",
            "Epoch 72/200\n",
            "1608/1608 [==============================] - 0s 279us/step - loss: 0.0718 - accuracy: 0.9795 - val_loss: 0.9013 - val_accuracy: 0.8345\n",
            "Epoch 73/200\n",
            "1608/1608 [==============================] - 0s 290us/step - loss: 0.0577 - accuracy: 0.9795 - val_loss: 0.9164 - val_accuracy: 0.8099\n",
            "Epoch 74/200\n",
            "1608/1608 [==============================] - 0s 277us/step - loss: 0.0557 - accuracy: 0.9807 - val_loss: 0.9400 - val_accuracy: 0.8169\n",
            "Epoch 75/200\n",
            "1608/1608 [==============================] - 0s 271us/step - loss: 0.0602 - accuracy: 0.9826 - val_loss: 0.9057 - val_accuracy: 0.8134\n",
            "Epoch 76/200\n",
            "1608/1608 [==============================] - 0s 281us/step - loss: 0.0596 - accuracy: 0.9795 - val_loss: 0.9805 - val_accuracy: 0.7958\n",
            "Epoch 77/200\n",
            "1608/1608 [==============================] - 0s 271us/step - loss: 0.0886 - accuracy: 0.9745 - val_loss: 0.9254 - val_accuracy: 0.8345\n",
            "Epoch 78/200\n",
            "1608/1608 [==============================] - 0s 274us/step - loss: 0.0489 - accuracy: 0.9851 - val_loss: 0.9132 - val_accuracy: 0.8204\n",
            "Epoch 79/200\n",
            "1608/1608 [==============================] - 0s 285us/step - loss: 0.0559 - accuracy: 0.9789 - val_loss: 0.8862 - val_accuracy: 0.8345\n",
            "Epoch 80/200\n",
            "1608/1608 [==============================] - 0s 276us/step - loss: 0.0690 - accuracy: 0.9757 - val_loss: 0.9238 - val_accuracy: 0.8239\n",
            "Epoch 81/200\n",
            "1608/1608 [==============================] - 0s 283us/step - loss: 0.0549 - accuracy: 0.9776 - val_loss: 0.8999 - val_accuracy: 0.8310\n",
            "Epoch 82/200\n",
            "1608/1608 [==============================] - 0s 271us/step - loss: 0.0524 - accuracy: 0.9826 - val_loss: 0.9797 - val_accuracy: 0.8204\n",
            "Epoch 83/200\n",
            "1608/1608 [==============================] - 0s 290us/step - loss: 0.0581 - accuracy: 0.9757 - val_loss: 0.9572 - val_accuracy: 0.8099\n",
            "Epoch 84/200\n",
            "1608/1608 [==============================] - 0s 275us/step - loss: 0.0631 - accuracy: 0.9807 - val_loss: 0.9610 - val_accuracy: 0.8204\n",
            "Epoch 85/200\n",
            "1608/1608 [==============================] - 0s 276us/step - loss: 0.0640 - accuracy: 0.9776 - val_loss: 0.9484 - val_accuracy: 0.8063\n",
            "Epoch 86/200\n",
            "1608/1608 [==============================] - 0s 271us/step - loss: 0.0632 - accuracy: 0.9820 - val_loss: 0.9191 - val_accuracy: 0.8063\n",
            "Epoch 87/200\n",
            "1608/1608 [==============================] - 0s 272us/step - loss: 0.0710 - accuracy: 0.9795 - val_loss: 0.9670 - val_accuracy: 0.8134\n",
            "Epoch 88/200\n",
            "1608/1608 [==============================] - 0s 271us/step - loss: 0.0466 - accuracy: 0.9820 - val_loss: 0.9037 - val_accuracy: 0.8239\n",
            "Epoch 89/200\n",
            "1608/1608 [==============================] - 0s 275us/step - loss: 0.0468 - accuracy: 0.9807 - val_loss: 0.9663 - val_accuracy: 0.8028\n",
            "Epoch 90/200\n",
            "1608/1608 [==============================] - 0s 283us/step - loss: 0.0561 - accuracy: 0.9813 - val_loss: 0.9492 - val_accuracy: 0.8099\n",
            "Epoch 91/200\n",
            "1608/1608 [==============================] - 0s 274us/step - loss: 0.0845 - accuracy: 0.9770 - val_loss: 0.9565 - val_accuracy: 0.8028\n",
            "Epoch 92/200\n",
            "1608/1608 [==============================] - 0s 283us/step - loss: 0.0486 - accuracy: 0.9813 - val_loss: 0.9172 - val_accuracy: 0.8345\n",
            "Epoch 93/200\n",
            "1608/1608 [==============================] - 0s 273us/step - loss: 0.0551 - accuracy: 0.9789 - val_loss: 1.0463 - val_accuracy: 0.8028\n",
            "Epoch 94/200\n",
            "1608/1608 [==============================] - 0s 275us/step - loss: 0.0529 - accuracy: 0.9776 - val_loss: 0.9307 - val_accuracy: 0.8204\n",
            "Epoch 95/200\n",
            "1608/1608 [==============================] - 0s 274us/step - loss: 0.0572 - accuracy: 0.9789 - val_loss: 0.9567 - val_accuracy: 0.8028\n",
            "Epoch 96/200\n",
            "1608/1608 [==============================] - 0s 287us/step - loss: 0.0495 - accuracy: 0.9776 - val_loss: 0.9886 - val_accuracy: 0.8239\n",
            "Epoch 97/200\n",
            "1608/1608 [==============================] - 0s 279us/step - loss: 0.0501 - accuracy: 0.9813 - val_loss: 0.8890 - val_accuracy: 0.8345\n",
            "Epoch 98/200\n",
            "1608/1608 [==============================] - 0s 271us/step - loss: 0.0616 - accuracy: 0.9789 - val_loss: 0.9195 - val_accuracy: 0.8099\n",
            "Epoch 99/200\n",
            "1608/1608 [==============================] - 0s 285us/step - loss: 0.0533 - accuracy: 0.9807 - val_loss: 0.9658 - val_accuracy: 0.8204\n",
            "Epoch 100/200\n",
            "1608/1608 [==============================] - 0s 277us/step - loss: 0.0539 - accuracy: 0.9807 - val_loss: 1.1160 - val_accuracy: 0.7923\n",
            "Epoch 101/200\n",
            "1608/1608 [==============================] - 0s 274us/step - loss: 0.0687 - accuracy: 0.9770 - val_loss: 1.0012 - val_accuracy: 0.8204\n",
            "Epoch 102/200\n",
            "1608/1608 [==============================] - 0s 270us/step - loss: 0.0649 - accuracy: 0.9782 - val_loss: 0.9606 - val_accuracy: 0.8134\n",
            "Epoch 103/200\n",
            "1608/1608 [==============================] - 0s 282us/step - loss: 0.0576 - accuracy: 0.9776 - val_loss: 0.9563 - val_accuracy: 0.8275\n",
            "Epoch 104/200\n",
            "1608/1608 [==============================] - 0s 285us/step - loss: 0.0573 - accuracy: 0.9813 - val_loss: 1.0736 - val_accuracy: 0.8063\n",
            "Epoch 105/200\n",
            "1608/1608 [==============================] - 0s 279us/step - loss: 0.0639 - accuracy: 0.9776 - val_loss: 0.9682 - val_accuracy: 0.8134\n",
            "Epoch 106/200\n",
            "1608/1608 [==============================] - 0s 292us/step - loss: 0.0555 - accuracy: 0.9795 - val_loss: 0.9503 - val_accuracy: 0.8134\n",
            "Epoch 107/200\n",
            "1608/1608 [==============================] - 0s 302us/step - loss: 0.0642 - accuracy: 0.9820 - val_loss: 1.0286 - val_accuracy: 0.8099\n",
            "Epoch 108/200\n",
            "1608/1608 [==============================] - 0s 289us/step - loss: 0.0619 - accuracy: 0.9764 - val_loss: 1.0103 - val_accuracy: 0.8134\n",
            "Epoch 109/200\n",
            "1608/1608 [==============================] - 0s 272us/step - loss: 0.0532 - accuracy: 0.9776 - val_loss: 1.1085 - val_accuracy: 0.7852\n",
            "Epoch 110/200\n",
            "1608/1608 [==============================] - 0s 287us/step - loss: 0.0438 - accuracy: 0.9838 - val_loss: 0.9867 - val_accuracy: 0.8099\n",
            "Epoch 111/200\n",
            "1608/1608 [==============================] - 0s 271us/step - loss: 0.0541 - accuracy: 0.9813 - val_loss: 1.0201 - val_accuracy: 0.8099\n",
            "Epoch 112/200\n",
            "1608/1608 [==============================] - 0s 275us/step - loss: 0.0550 - accuracy: 0.9770 - val_loss: 0.9901 - val_accuracy: 0.8310\n",
            "Epoch 113/200\n",
            "1608/1608 [==============================] - 0s 277us/step - loss: 0.0453 - accuracy: 0.9851 - val_loss: 1.0409 - val_accuracy: 0.7887\n",
            "Epoch 114/200\n",
            "1608/1608 [==============================] - 0s 281us/step - loss: 0.0576 - accuracy: 0.9826 - val_loss: 0.9780 - val_accuracy: 0.8275\n",
            "Epoch 115/200\n",
            "1608/1608 [==============================] - 0s 273us/step - loss: 0.0533 - accuracy: 0.9813 - val_loss: 0.9969 - val_accuracy: 0.8063\n",
            "Epoch 116/200\n",
            "1608/1608 [==============================] - 0s 273us/step - loss: 0.0619 - accuracy: 0.9770 - val_loss: 1.0487 - val_accuracy: 0.8063\n",
            "Epoch 117/200\n",
            "1608/1608 [==============================] - 0s 284us/step - loss: 0.0596 - accuracy: 0.9789 - val_loss: 0.9736 - val_accuracy: 0.8063\n",
            "Epoch 118/200\n",
            "1608/1608 [==============================] - 0s 278us/step - loss: 0.0463 - accuracy: 0.9795 - val_loss: 1.0421 - val_accuracy: 0.8063\n",
            "Epoch 119/200\n",
            "1608/1608 [==============================] - 0s 282us/step - loss: 0.0488 - accuracy: 0.9795 - val_loss: 0.9901 - val_accuracy: 0.8204\n",
            "Epoch 120/200\n",
            "1608/1608 [==============================] - 0s 271us/step - loss: 0.0622 - accuracy: 0.9776 - val_loss: 1.0786 - val_accuracy: 0.8063\n",
            "Epoch 121/200\n",
            "1608/1608 [==============================] - 0s 270us/step - loss: 0.0523 - accuracy: 0.9776 - val_loss: 0.9894 - val_accuracy: 0.8099\n",
            "Epoch 122/200\n",
            "1608/1608 [==============================] - 0s 275us/step - loss: 0.0391 - accuracy: 0.9820 - val_loss: 0.9512 - val_accuracy: 0.8204\n",
            "Epoch 123/200\n",
            "1608/1608 [==============================] - 0s 272us/step - loss: 0.0466 - accuracy: 0.9813 - val_loss: 1.0665 - val_accuracy: 0.7993\n",
            "Epoch 124/200\n",
            "1608/1608 [==============================] - 0s 274us/step - loss: 0.0467 - accuracy: 0.9845 - val_loss: 1.0418 - val_accuracy: 0.8028\n",
            "Epoch 125/200\n",
            "1608/1608 [==============================] - 0s 270us/step - loss: 0.0540 - accuracy: 0.9795 - val_loss: 0.9710 - val_accuracy: 0.8169\n",
            "Epoch 126/200\n",
            "1608/1608 [==============================] - 0s 278us/step - loss: 0.0481 - accuracy: 0.9795 - val_loss: 1.0402 - val_accuracy: 0.8134\n",
            "Epoch 127/200\n",
            "1608/1608 [==============================] - 0s 274us/step - loss: 0.0465 - accuracy: 0.9813 - val_loss: 0.9928 - val_accuracy: 0.8169\n",
            "Epoch 128/200\n",
            "1608/1608 [==============================] - 0s 279us/step - loss: 0.0467 - accuracy: 0.9813 - val_loss: 1.0261 - val_accuracy: 0.8134\n",
            "Epoch 129/200\n",
            "1608/1608 [==============================] - 0s 280us/step - loss: 0.0469 - accuracy: 0.9813 - val_loss: 1.0204 - val_accuracy: 0.8204\n",
            "Epoch 130/200\n",
            "1608/1608 [==============================] - 0s 274us/step - loss: 0.0555 - accuracy: 0.9813 - val_loss: 1.0091 - val_accuracy: 0.8239\n",
            "Epoch 131/200\n",
            "1608/1608 [==============================] - 0s 274us/step - loss: 0.0501 - accuracy: 0.9789 - val_loss: 1.0156 - val_accuracy: 0.8099\n",
            "Epoch 132/200\n",
            "1608/1608 [==============================] - 0s 271us/step - loss: 0.0458 - accuracy: 0.9801 - val_loss: 1.0191 - val_accuracy: 0.8239\n",
            "Epoch 133/200\n",
            "1608/1608 [==============================] - 0s 280us/step - loss: 0.0496 - accuracy: 0.9795 - val_loss: 1.0265 - val_accuracy: 0.8134\n",
            "Epoch 134/200\n",
            "1608/1608 [==============================] - 0s 274us/step - loss: 0.0384 - accuracy: 0.9832 - val_loss: 0.9885 - val_accuracy: 0.8134\n",
            "Epoch 135/200\n",
            "1608/1608 [==============================] - 0s 271us/step - loss: 0.0524 - accuracy: 0.9813 - val_loss: 1.0725 - val_accuracy: 0.8204\n",
            "Epoch 136/200\n",
            "1608/1608 [==============================] - 0s 282us/step - loss: 0.0508 - accuracy: 0.9795 - val_loss: 1.0080 - val_accuracy: 0.8345\n",
            "Epoch 137/200\n",
            "1608/1608 [==============================] - 0s 277us/step - loss: 0.0533 - accuracy: 0.9826 - val_loss: 0.9857 - val_accuracy: 0.8099\n",
            "Epoch 138/200\n",
            "1608/1608 [==============================] - 0s 270us/step - loss: 0.0572 - accuracy: 0.9782 - val_loss: 1.1267 - val_accuracy: 0.7852\n",
            "Epoch 139/200\n",
            "1608/1608 [==============================] - 0s 276us/step - loss: 0.0615 - accuracy: 0.9795 - val_loss: 1.0161 - val_accuracy: 0.8063\n",
            "Epoch 140/200\n",
            "1608/1608 [==============================] - 0s 278us/step - loss: 0.0498 - accuracy: 0.9789 - val_loss: 0.9682 - val_accuracy: 0.8169\n",
            "Epoch 141/200\n",
            "1608/1608 [==============================] - 0s 272us/step - loss: 0.0409 - accuracy: 0.9807 - val_loss: 1.0190 - val_accuracy: 0.8204\n",
            "Epoch 142/200\n",
            "1608/1608 [==============================] - 0s 274us/step - loss: 0.0479 - accuracy: 0.9807 - val_loss: 0.9920 - val_accuracy: 0.8169\n",
            "Epoch 143/200\n",
            "1608/1608 [==============================] - 0s 270us/step - loss: 0.0480 - accuracy: 0.9801 - val_loss: 1.0802 - val_accuracy: 0.7852\n",
            "Epoch 144/200\n",
            "1608/1608 [==============================] - 0s 272us/step - loss: 0.0532 - accuracy: 0.9807 - val_loss: 1.0593 - val_accuracy: 0.8099\n",
            "Epoch 145/200\n",
            "1608/1608 [==============================] - 0s 275us/step - loss: 0.0493 - accuracy: 0.9801 - val_loss: 0.9829 - val_accuracy: 0.8063\n",
            "Epoch 146/200\n",
            "1608/1608 [==============================] - 0s 268us/step - loss: 0.0556 - accuracy: 0.9782 - val_loss: 1.0536 - val_accuracy: 0.7958\n",
            "Epoch 147/200\n",
            "1608/1608 [==============================] - 0s 294us/step - loss: 0.0460 - accuracy: 0.9826 - val_loss: 0.9980 - val_accuracy: 0.8134\n",
            "Epoch 148/200\n",
            "1608/1608 [==============================] - 0s 286us/step - loss: 0.0567 - accuracy: 0.9764 - val_loss: 1.0224 - val_accuracy: 0.8169\n",
            "Epoch 149/200\n",
            "1608/1608 [==============================] - 0s 287us/step - loss: 0.0534 - accuracy: 0.9801 - val_loss: 0.9902 - val_accuracy: 0.8099\n",
            "Epoch 150/200\n",
            "1608/1608 [==============================] - 0s 285us/step - loss: 0.0433 - accuracy: 0.9851 - val_loss: 1.0470 - val_accuracy: 0.8099\n",
            "Epoch 151/200\n",
            "1608/1608 [==============================] - 0s 286us/step - loss: 0.0447 - accuracy: 0.9832 - val_loss: 1.0056 - val_accuracy: 0.8169\n",
            "Epoch 152/200\n",
            "1608/1608 [==============================] - 0s 286us/step - loss: 0.0443 - accuracy: 0.9795 - val_loss: 1.0015 - val_accuracy: 0.8204\n",
            "Epoch 153/200\n",
            "1608/1608 [==============================] - 0s 286us/step - loss: 0.0591 - accuracy: 0.9795 - val_loss: 0.9911 - val_accuracy: 0.8169\n",
            "Epoch 154/200\n",
            "1608/1608 [==============================] - 0s 304us/step - loss: 0.0564 - accuracy: 0.9764 - val_loss: 1.0367 - val_accuracy: 0.8169\n",
            "Epoch 155/200\n",
            "1608/1608 [==============================] - 0s 290us/step - loss: 0.0494 - accuracy: 0.9789 - val_loss: 0.9841 - val_accuracy: 0.8063\n",
            "Epoch 156/200\n",
            "1608/1608 [==============================] - 0s 296us/step - loss: 0.0441 - accuracy: 0.9770 - val_loss: 1.0078 - val_accuracy: 0.8169\n",
            "Epoch 157/200\n",
            "1608/1608 [==============================] - 0s 275us/step - loss: 0.0402 - accuracy: 0.9820 - val_loss: 1.0242 - val_accuracy: 0.8310\n",
            "Epoch 158/200\n",
            "1608/1608 [==============================] - 0s 293us/step - loss: 0.0505 - accuracy: 0.9776 - val_loss: 0.9731 - val_accuracy: 0.8239\n",
            "Epoch 159/200\n",
            "1608/1608 [==============================] - 0s 278us/step - loss: 0.0524 - accuracy: 0.9813 - val_loss: 1.0455 - val_accuracy: 0.8028\n",
            "Epoch 160/200\n",
            "1608/1608 [==============================] - 0s 286us/step - loss: 0.0589 - accuracy: 0.9820 - val_loss: 1.0371 - val_accuracy: 0.7958\n",
            "Epoch 161/200\n",
            "1608/1608 [==============================] - 0s 281us/step - loss: 0.0427 - accuracy: 0.9832 - val_loss: 1.0203 - val_accuracy: 0.7993\n",
            "Epoch 162/200\n",
            "1608/1608 [==============================] - 0s 285us/step - loss: 0.0499 - accuracy: 0.9826 - val_loss: 0.9938 - val_accuracy: 0.8204\n",
            "Epoch 163/200\n",
            "1608/1608 [==============================] - 0s 283us/step - loss: 0.0507 - accuracy: 0.9739 - val_loss: 0.9900 - val_accuracy: 0.8134\n",
            "Epoch 164/200\n",
            "1608/1608 [==============================] - 0s 279us/step - loss: 0.0446 - accuracy: 0.9789 - val_loss: 1.0523 - val_accuracy: 0.8134\n",
            "Epoch 165/200\n",
            "1608/1608 [==============================] - 0s 287us/step - loss: 0.0475 - accuracy: 0.9789 - val_loss: 0.9805 - val_accuracy: 0.8169\n",
            "Epoch 166/200\n",
            "1608/1608 [==============================] - 0s 279us/step - loss: 0.0547 - accuracy: 0.9782 - val_loss: 1.0092 - val_accuracy: 0.8204\n",
            "Epoch 167/200\n",
            "1608/1608 [==============================] - 0s 295us/step - loss: 0.0621 - accuracy: 0.9813 - val_loss: 1.0546 - val_accuracy: 0.7923\n",
            "Epoch 168/200\n",
            "1608/1608 [==============================] - 0s 277us/step - loss: 0.0430 - accuracy: 0.9795 - val_loss: 0.9846 - val_accuracy: 0.8169\n",
            "Epoch 169/200\n",
            "1608/1608 [==============================] - 0s 287us/step - loss: 0.0443 - accuracy: 0.9795 - val_loss: 0.9809 - val_accuracy: 0.8099\n",
            "Epoch 170/200\n",
            "1608/1608 [==============================] - 0s 269us/step - loss: 0.0403 - accuracy: 0.9813 - val_loss: 0.9465 - val_accuracy: 0.8380\n",
            "Epoch 171/200\n",
            "1608/1608 [==============================] - 0s 277us/step - loss: 0.0376 - accuracy: 0.9826 - val_loss: 0.9989 - val_accuracy: 0.8134\n",
            "Epoch 172/200\n",
            "1608/1608 [==============================] - 0s 273us/step - loss: 0.0490 - accuracy: 0.9764 - val_loss: 1.0621 - val_accuracy: 0.8099\n",
            "Epoch 173/200\n",
            "1608/1608 [==============================] - 0s 266us/step - loss: 0.0517 - accuracy: 0.9782 - val_loss: 0.9485 - val_accuracy: 0.8204\n",
            "Epoch 174/200\n",
            "1608/1608 [==============================] - 0s 276us/step - loss: 0.0416 - accuracy: 0.9776 - val_loss: 1.0249 - val_accuracy: 0.8239\n",
            "Epoch 175/200\n",
            "1608/1608 [==============================] - 0s 265us/step - loss: 0.0451 - accuracy: 0.9795 - val_loss: 1.0285 - val_accuracy: 0.8063\n",
            "Epoch 176/200\n",
            "1608/1608 [==============================] - 0s 280us/step - loss: 0.0409 - accuracy: 0.9813 - val_loss: 1.0454 - val_accuracy: 0.8239\n",
            "Epoch 177/200\n",
            "1608/1608 [==============================] - 0s 277us/step - loss: 0.0491 - accuracy: 0.9776 - val_loss: 1.0177 - val_accuracy: 0.8204\n",
            "Epoch 178/200\n",
            "1608/1608 [==============================] - 0s 275us/step - loss: 0.0501 - accuracy: 0.9776 - val_loss: 0.9946 - val_accuracy: 0.8275\n",
            "Epoch 179/200\n",
            "1608/1608 [==============================] - 0s 276us/step - loss: 0.0466 - accuracy: 0.9789 - val_loss: 0.9588 - val_accuracy: 0.8275\n",
            "Epoch 180/200\n",
            "1608/1608 [==============================] - 0s 269us/step - loss: 0.0461 - accuracy: 0.9807 - val_loss: 0.9924 - val_accuracy: 0.8239\n",
            "Epoch 181/200\n",
            "1608/1608 [==============================] - 0s 274us/step - loss: 0.0418 - accuracy: 0.9807 - val_loss: 1.0247 - val_accuracy: 0.8239\n",
            "Epoch 182/200\n",
            "1608/1608 [==============================] - 0s 275us/step - loss: 0.0401 - accuracy: 0.9820 - val_loss: 0.9708 - val_accuracy: 0.8239\n",
            "Epoch 183/200\n",
            "1608/1608 [==============================] - 0s 280us/step - loss: 0.0488 - accuracy: 0.9801 - val_loss: 1.0455 - val_accuracy: 0.8169\n",
            "Epoch 184/200\n",
            "1608/1608 [==============================] - 0s 274us/step - loss: 0.0493 - accuracy: 0.9795 - val_loss: 1.0338 - val_accuracy: 0.8099\n",
            "Epoch 185/200\n",
            "1608/1608 [==============================] - 0s 284us/step - loss: 0.0520 - accuracy: 0.9801 - val_loss: 1.0095 - val_accuracy: 0.7993\n",
            "Epoch 186/200\n",
            "1608/1608 [==============================] - 0s 272us/step - loss: 0.0478 - accuracy: 0.9776 - val_loss: 0.9869 - val_accuracy: 0.8169\n",
            "Epoch 187/200\n",
            "1608/1608 [==============================] - 0s 276us/step - loss: 0.0440 - accuracy: 0.9776 - val_loss: 0.9401 - val_accuracy: 0.8204\n",
            "Epoch 188/200\n",
            "1608/1608 [==============================] - 0s 279us/step - loss: 0.0343 - accuracy: 0.9845 - val_loss: 1.1796 - val_accuracy: 0.8028\n",
            "Epoch 189/200\n",
            "1608/1608 [==============================] - 0s 268us/step - loss: 0.0448 - accuracy: 0.9801 - val_loss: 0.9829 - val_accuracy: 0.8169\n",
            "Epoch 190/200\n",
            "1608/1608 [==============================] - 0s 277us/step - loss: 0.0382 - accuracy: 0.9801 - val_loss: 1.0652 - val_accuracy: 0.8099\n",
            "Epoch 191/200\n",
            "1608/1608 [==============================] - 0s 274us/step - loss: 0.0533 - accuracy: 0.9789 - val_loss: 1.0600 - val_accuracy: 0.7887\n",
            "Epoch 192/200\n",
            "1608/1608 [==============================] - 0s 281us/step - loss: 0.0507 - accuracy: 0.9776 - val_loss: 1.0200 - val_accuracy: 0.8028\n",
            "Epoch 193/200\n",
            "1608/1608 [==============================] - 0s 271us/step - loss: 0.0448 - accuracy: 0.9789 - val_loss: 1.0039 - val_accuracy: 0.8169\n",
            "Epoch 194/200\n",
            "1608/1608 [==============================] - 0s 280us/step - loss: 0.0379 - accuracy: 0.9782 - val_loss: 0.9773 - val_accuracy: 0.8169\n",
            "Epoch 195/200\n",
            "1608/1608 [==============================] - 0s 271us/step - loss: 0.0495 - accuracy: 0.9807 - val_loss: 1.0124 - val_accuracy: 0.8028\n",
            "Epoch 196/200\n",
            "1608/1608 [==============================] - 0s 274us/step - loss: 0.0483 - accuracy: 0.9795 - val_loss: 0.9901 - val_accuracy: 0.8239\n",
            "Epoch 197/200\n",
            "1608/1608 [==============================] - 0s 287us/step - loss: 0.0411 - accuracy: 0.9838 - val_loss: 1.0806 - val_accuracy: 0.7993\n",
            "Epoch 198/200\n",
            "1608/1608 [==============================] - 0s 280us/step - loss: 0.0416 - accuracy: 0.9795 - val_loss: 1.0263 - val_accuracy: 0.8063\n",
            "Epoch 199/200\n",
            "1608/1608 [==============================] - 0s 279us/step - loss: 0.0634 - accuracy: 0.9782 - val_loss: 1.0043 - val_accuracy: 0.8169\n",
            "Epoch 200/200\n",
            "1608/1608 [==============================] - 0s 275us/step - loss: 0.0436 - accuracy: 0.9795 - val_loss: 0.9727 - val_accuracy: 0.8063\n"
          ],
          "name": "stdout"
        }
      ]
    },
    {
      "cell_type": "code",
      "metadata": {
        "id": "qdGGd_QqwYzp",
        "colab_type": "code",
        "outputId": "da18acbf-3aad-4ec5-c0ee-ce8e08182b4a",
        "colab": {
          "base_uri": "https://localhost:8080/",
          "height": 34
        }
      },
      "source": [
        "\n",
        "predicted = model.predict(padded_test)\n",
        "predicted_labels = np.argmax(predicted,axis = 1)\n",
        "acc = np.sum(predicted_labels == y_test)/len(y_test)\n",
        "print(acc)"
      ],
      "execution_count": 16,
      "outputs": [
        {
          "output_type": "stream",
          "text": [
            "0.8328358208955224\n"
          ],
          "name": "stdout"
        }
      ]
    },
    {
      "cell_type": "markdown",
      "metadata": {
        "id": "SzPeq5kyeY7E",
        "colab_type": "text"
      },
      "source": [
        "0.8388059701492537 - max_len = 300 vocab - 21000\n"
      ]
    },
    {
      "cell_type": "code",
      "metadata": {
        "id": "ke1v_BxZrFOL",
        "colab_type": "code",
        "outputId": "eefd5670-c2bf-46be-d3b3-d98c0097434c",
        "colab": {
          "base_uri": "https://localhost:8080/",
          "height": 282
        }
      },
      "source": [
        "plt.plot(history.history['accuracy'])\n",
        "plt.plot(history.history['val_accuracy'])"
      ],
      "execution_count": 17,
      "outputs": [
        {
          "output_type": "execute_result",
          "data": {
            "text/plain": [
              "[<matplotlib.lines.Line2D at 0x7fd87a195240>]"
            ]
          },
          "metadata": {
            "tags": []
          },
          "execution_count": 17
        },
        {
          "output_type": "display_data",
          "data": {
            "image/png": "[encoded data removed]",
            "text/plain": [
              "<Figure size 432x288 with 1 Axes>"
            ]
          },
          "metadata": {
            "tags": [],
            "needs_background": "light"
          }
        }
      ]
    },
    {
      "cell_type": "markdown",
      "metadata": {
        "id": "ZpWO8verzPqS",
        "colab_type": "text"
      },
      "source": [
        "0.8119402985074626 - The best till now "
      ]
    },
    {
      "cell_type": "markdown",
      "metadata": {
        "id": "U50-6zDu4w4S",
        "colab_type": "text"
      },
      "source": [
        "# **2. LSTM**\n",
        "- The idea behind using LSTMs is to capture \n",
        "![hf](https://github.com/mananm98/image_captioning/blob/master/images/Unknown-2.jpg?raw=true)\n"
      ]
    },
    {
      "cell_type": "markdown",
      "metadata": {
        "id": "dT2rqN5wu0aA",
        "colab_type": "text"
      },
      "source": [
        "\n",
        "\n",
        "*   LSTM slow to train larger max_len cannot say about vocab size no improvement from 9000 to 21000\n",
        "*   will try on max_len = 300\n",
        "\n"
      ]
    },
    {
      "cell_type": "code",
      "metadata": {
        "id": "cTr-pcGt66jf",
        "colab_type": "code",
        "colab": {
          "base_uri": "https://localhost:8080/",
          "height": 164
        },
        "outputId": "53ebcb72-5010-4403-f6f9-61e75e2fc206"
      },
      "source": [
        "(padded_train, y_train, padded_test, y_test, embeddings_matrix,vocab_len) = create_data_for_model(vocab_size = 12000, max_len = 35)"
      ],
      "execution_count": 7,
      "outputs": [
        {
          "output_type": "error",
          "ename": "NameError",
          "evalue": "ignored",
          "traceback": [
            "\u001b[0;31m---------------------------------------------------------------------------\u001b[0m",
            "\u001b[0;31mNameError\u001b[0m                                 Traceback (most recent call last)",
            "\u001b[0;32m<ipython-input-7-e16af2d4a99d>\u001b[0m in \u001b[0;36m<module>\u001b[0;34m()\u001b[0m\n\u001b[0;32m----> 1\u001b[0;31m \u001b[0;34m(\u001b[0m\u001b[0mpadded_train\u001b[0m\u001b[0;34m,\u001b[0m \u001b[0my_train\u001b[0m\u001b[0;34m,\u001b[0m \u001b[0mpadded_test\u001b[0m\u001b[0;34m,\u001b[0m \u001b[0my_test\u001b[0m\u001b[0;34m,\u001b[0m \u001b[0membeddings_matrix\u001b[0m\u001b[0;34m)\u001b[0m \u001b[0;34m=\u001b[0m \u001b[0mcreate_data_for_model\u001b[0m\u001b[0;34m(\u001b[0m\u001b[0mvocab_size\u001b[0m \u001b[0;34m=\u001b[0m \u001b[0;36m12000\u001b[0m\u001b[0;34m,\u001b[0m \u001b[0mmax_len\u001b[0m \u001b[0;34m=\u001b[0m \u001b[0;36m35\u001b[0m\u001b[0;34m)\u001b[0m\u001b[0;34m\u001b[0m\u001b[0;34m\u001b[0m\u001b[0m\n\u001b[0m",
            "\u001b[0;31mNameError\u001b[0m: name 'create_data_for_model' is not defined"
          ]
        }
      ]
    },
    {
      "cell_type": "code",
      "metadata": {
        "id": "x0vrDEyi4qIY",
        "colab_type": "code",
        "colab": {}
      },
      "source": [
        "\n",
        "# Model\n",
        "def model_lstm(max_len,vocab_size):\n",
        "  inp1 = Input((max_len,))\n",
        "  embedding_layer = Embedding(input_dim=vocab_size + 1,output_dim= 50,mask_zero=True,weights = [embeddings_matrix],trainable = False)(inp1)\n",
        "  drop_out1 = Dropout(0.3)(embedding_layer)\n",
        "  lstm_layer1 = LSTM(32,return_sequences = False)(drop_out1)\n",
        "\n",
        "\n",
        "  #drop_out = Dropout(0.3)(lstm_layer1)\n",
        "  out1 = Dense(11,activation='softmax')(lstm_layer1)\n",
        "\n",
        "  model_lstm = Model(inputs = inp1,outputs = out1)\n",
        "  model_lstm.compile(loss = 'categorical_crossentropy',optimizer='adam',metrics=['accuracy'])\n",
        "  model_lstm.summary()\n",
        "  return model_lstm"
      ],
      "execution_count": 0,
      "outputs": []
    },
    {
      "cell_type": "code",
      "metadata": {
        "id": "boQBFLRV4p8q",
        "colab_type": "code",
        "outputId": "7ae9c291-baba-4afc-8f60-a7348244363a",
        "colab": {
          "base_uri": "https://localhost:8080/",
          "height": 1000
        }
      },
      "source": [
        "model = model_lstm(35,12000)\n",
        "hist = model.fit(padded_train,y_train,epochs = 30, batch_size=16,validation_split = 0.15)"
      ],
      "execution_count": 77,
      "outputs": [
        {
          "output_type": "stream",
          "text": [
            "Model: \"model_12\"\n",
            "_________________________________________________________________\n",
            "Layer (type)                 Output Shape              Param #   \n",
            "=================================================================\n",
            "input_15 (InputLayer)        (None, 35)                0         \n",
            "_________________________________________________________________\n",
            "embedding_15 (Embedding)     (None, 35, 50)            600050    \n",
            "_________________________________________________________________\n",
            "dropout_12 (Dropout)         (None, 35, 50)            0         \n",
            "_________________________________________________________________\n",
            "lstm_3 (LSTM)                (None, 32)                10624     \n",
            "_________________________________________________________________\n",
            "dense_21 (Dense)             (None, 11)                363       \n",
            "=================================================================\n",
            "Total params: 611,037\n",
            "Trainable params: 10,987\n",
            "Non-trainable params: 600,050\n",
            "_________________________________________________________________\n",
            "Train on 1608 samples, validate on 284 samples\n",
            "Epoch 1/30\n",
            "1608/1608 [==============================] - 14s 9ms/step - loss: 2.3268 - accuracy: 0.1810 - val_loss: 2.1628 - val_accuracy: 0.2993\n",
            "Epoch 2/30\n",
            "1608/1608 [==============================] - 13s 8ms/step - loss: 2.0658 - accuracy: 0.3184 - val_loss: 1.8635 - val_accuracy: 0.3627\n",
            "Epoch 3/30\n",
            "1608/1608 [==============================] - 14s 8ms/step - loss: 1.8045 - accuracy: 0.4111 - val_loss: 1.6253 - val_accuracy: 0.4648\n",
            "Epoch 4/30\n",
            "1608/1608 [==============================] - 14s 9ms/step - loss: 1.6122 - accuracy: 0.4863 - val_loss: 1.5077 - val_accuracy: 0.5035\n",
            "Epoch 5/30\n",
            "1608/1608 [==============================] - 13s 8ms/step - loss: 1.4848 - accuracy: 0.5236 - val_loss: 1.4056 - val_accuracy: 0.5669\n",
            "Epoch 6/30\n",
            "1608/1608 [==============================] - 13s 8ms/step - loss: 1.3559 - accuracy: 0.5697 - val_loss: 1.3037 - val_accuracy: 0.5775\n",
            "Epoch 7/30\n",
            "1608/1608 [==============================] - 13s 8ms/step - loss: 1.2740 - accuracy: 0.5964 - val_loss: 1.2621 - val_accuracy: 0.5915\n",
            "Epoch 8/30\n",
            "1608/1608 [==============================] - 14s 8ms/step - loss: 1.2183 - accuracy: 0.6219 - val_loss: 1.2178 - val_accuracy: 0.6162\n",
            "Epoch 9/30\n",
            "1608/1608 [==============================] - 13s 8ms/step - loss: 1.1614 - accuracy: 0.6443 - val_loss: 1.2309 - val_accuracy: 0.6197\n",
            "Epoch 10/30\n",
            "1608/1608 [==============================] - 14s 8ms/step - loss: 1.1215 - accuracy: 0.6468 - val_loss: 1.2103 - val_accuracy: 0.6197\n",
            "Epoch 11/30\n",
            "1608/1608 [==============================] - 13s 8ms/step - loss: 1.0537 - accuracy: 0.6660 - val_loss: 1.1468 - val_accuracy: 0.6338\n",
            "Epoch 12/30\n",
            "1608/1608 [==============================] - 14s 8ms/step - loss: 1.0103 - accuracy: 0.6878 - val_loss: 1.1210 - val_accuracy: 0.6514\n",
            "Epoch 13/30\n",
            "1608/1608 [==============================] - 13s 8ms/step - loss: 0.9817 - accuracy: 0.6847 - val_loss: 1.1441 - val_accuracy: 0.6408\n",
            "Epoch 14/30\n",
            "1608/1608 [==============================] - 14s 8ms/step - loss: 0.9497 - accuracy: 0.7015 - val_loss: 1.1259 - val_accuracy: 0.6373\n",
            "Epoch 15/30\n",
            "1608/1608 [==============================] - 13s 8ms/step - loss: 0.9225 - accuracy: 0.7077 - val_loss: 1.0958 - val_accuracy: 0.6479\n",
            "Epoch 16/30\n",
            "1608/1608 [==============================] - 13s 8ms/step - loss: 0.8709 - accuracy: 0.7289 - val_loss: 1.1023 - val_accuracy: 0.6549\n",
            "Epoch 17/30\n",
            "1608/1608 [==============================] - 13s 8ms/step - loss: 0.8647 - accuracy: 0.7257 - val_loss: 1.0732 - val_accuracy: 0.6620\n",
            "Epoch 18/30\n",
            "1608/1608 [==============================] - 14s 8ms/step - loss: 0.8333 - accuracy: 0.7295 - val_loss: 1.0867 - val_accuracy: 0.6655\n",
            "Epoch 19/30\n",
            "1608/1608 [==============================] - 13s 8ms/step - loss: 0.8133 - accuracy: 0.7394 - val_loss: 1.0800 - val_accuracy: 0.6620\n",
            "Epoch 20/30\n",
            "1608/1608 [==============================] - 13s 8ms/step - loss: 0.8305 - accuracy: 0.7208 - val_loss: 1.0535 - val_accuracy: 0.6585\n",
            "Epoch 21/30\n",
            "1608/1608 [==============================] - 13s 8ms/step - loss: 0.7950 - accuracy: 0.7425 - val_loss: 1.0671 - val_accuracy: 0.6585\n",
            "Epoch 22/30\n",
            "1608/1608 [==============================] - 13s 8ms/step - loss: 0.7606 - accuracy: 0.7537 - val_loss: 1.0853 - val_accuracy: 0.6725\n",
            "Epoch 23/30\n",
            "1608/1608 [==============================] - 13s 8ms/step - loss: 0.7576 - accuracy: 0.7531 - val_loss: 1.1061 - val_accuracy: 0.6761\n",
            "Epoch 24/30\n",
            "1608/1608 [==============================] - 13s 8ms/step - loss: 0.7275 - accuracy: 0.7581 - val_loss: 1.1232 - val_accuracy: 0.6514\n",
            "Epoch 25/30\n",
            "1608/1608 [==============================] - 13s 8ms/step - loss: 0.7054 - accuracy: 0.7693 - val_loss: 1.0795 - val_accuracy: 0.6408\n",
            "Epoch 26/30\n",
            "1608/1608 [==============================] - 13s 8ms/step - loss: 0.6972 - accuracy: 0.7767 - val_loss: 1.1081 - val_accuracy: 0.6655\n",
            "Epoch 27/30\n",
            "1608/1608 [==============================] - 13s 8ms/step - loss: 0.6968 - accuracy: 0.7718 - val_loss: 1.0800 - val_accuracy: 0.6549\n",
            "Epoch 28/30\n",
            "1608/1608 [==============================] - 14s 8ms/step - loss: 0.6540 - accuracy: 0.7836 - val_loss: 1.0858 - val_accuracy: 0.6549\n",
            "Epoch 29/30\n",
            "1608/1608 [==============================] - 14s 8ms/step - loss: 0.6662 - accuracy: 0.7724 - val_loss: 1.1245 - val_accuracy: 0.6549\n",
            "Epoch 30/30\n",
            "1608/1608 [==============================] - 14s 8ms/step - loss: 0.6309 - accuracy: 0.7929 - val_loss: 1.1192 - val_accuracy: 0.6549\n"
          ],
          "name": "stdout"
        }
      ]
    },
    {
      "cell_type": "code",
      "metadata": {
        "id": "KPgBSz8K5zbF",
        "colab_type": "code",
        "outputId": "41aa0844-b793-4131-b82c-88b8947f2785",
        "colab": {
          "base_uri": "https://localhost:8080/",
          "height": 34
        }
      },
      "source": [
        "predicted = model.predict(padded_test)\n",
        "predicted_labels = np.argmax(predicted,axis = 1)\n",
        "acc = np.sum(predicted_labels == y_test)/len(y_test)\n",
        "print(acc)"
      ],
      "execution_count": 78,
      "outputs": [
        {
          "output_type": "stream",
          "text": [
            "0.6805970149253732\n"
          ],
          "name": "stdout"
        }
      ]
    },
    {
      "cell_type": "code",
      "metadata": {
        "id": "Udgq9WsIvb_K",
        "colab_type": "code",
        "colab": {
          "base_uri": "https://localhost:8080/",
          "height": 282
        },
        "outputId": "0933b1d7-5288-4bd6-a251-a1f55f936335"
      },
      "source": [
        "plt.plot(hist.history['accuracy'])\n",
        "plt.plot(hist.history['val_accuracy'])"
      ],
      "execution_count": 79,
      "outputs": [
        {
          "output_type": "execute_result",
          "data": {
            "text/plain": [
              "[<matplotlib.lines.Line2D at 0x7fca8e8e0e48>]"
            ]
          },
          "metadata": {
            "tags": []
          },
          "execution_count": 79
        },
        {
          "output_type": "display_data",
          "data": {
            "image/png": "[encoded data removed]",
            "text/plain": [
              "<Figure size 432x288 with 1 Axes>"
            ]
          },
          "metadata": {
            "tags": [],
            "needs_background": "light"
          }
        }
      ]
    },
    {
      "cell_type": "markdown",
      "metadata": {
        "id": "EA8cP0N-HvMI",
        "colab_type": "text"
      },
      "source": [
        "## **3. Stacked LSTMs**"
      ]
    },
    {
      "cell_type": "code",
      "metadata": {
        "id": "65OE7BGHwhmS",
        "colab_type": "code",
        "colab": {}
      },
      "source": [
        "(padded_train, y_train, padded_test, y_test, embeddings_matrix) = create_data_for_model(vocab_size = 12000, max_len = 35)"
      ],
      "execution_count": 0,
      "outputs": []
    },
    {
      "cell_type": "code",
      "metadata": {
        "id": "b3wjtHAD8NZN",
        "colab_type": "code",
        "colab": {}
      },
      "source": [
        "def stackced_lstms(max_len,vocab_size):\n",
        "  inp1 = Input((max_len,))\n",
        "  embedding_layer = Embedding(input_dim=vocab_size + 1,output_dim= 50,mask_zero=True,weights = [embeddings_matrix],trainable = False)(inp1)\n",
        "  drop_out1 = Dropout(0.3)(embedding_layer)\n",
        "  lstm_layer1 = LSTM(64,return_sequences = True)(drop_out1)\n",
        "  lstm_layer2 = LSTM(64,return_sequences = False)(lstm_layer1)\n",
        "\n",
        "\n",
        "  #drop_out = Dropout(0.3)(lstm_layer1)\n",
        "  out1 = Dense(11,activation='softmax')(lstm_layer2)\n",
        "\n",
        "  model_lstm_stacked = Model(inputs = inp1,outputs = out1)\n",
        "  model_lstm_stacked.compile(loss = 'categorical_crossentropy',optimizer='adam',metrics=['accuracy'])\n",
        "  model_lstm_stacked.summary()\n",
        "  return model_lstm_stacked"
      ],
      "execution_count": 0,
      "outputs": []
    },
    {
      "cell_type": "code",
      "metadata": {
        "id": "wwW-iJ3GIbG_",
        "colab_type": "code",
        "colab": {
          "base_uri": "https://localhost:8080/",
          "height": 1000
        },
        "outputId": "866479ff-02b4-4298-cd57-340fb9dca0e4"
      },
      "source": [
        "model_lstm_stacked = stacked_lstms(35,12000)\n",
        "hist = model_lstm_stacked.fit(padded_train,y_train,epochs = 30, batch_size=8,validation_split = 0.15)"
      ],
      "execution_count": 84,
      "outputs": [
        {
          "output_type": "stream",
          "text": [
            "Model: \"model_13\"\n",
            "_________________________________________________________________\n",
            "Layer (type)                 Output Shape              Param #   \n",
            "=================================================================\n",
            "input_16 (InputLayer)        (None, 35)                0         \n",
            "_________________________________________________________________\n",
            "embedding_16 (Embedding)     (None, 35, 50)            600050    \n",
            "_________________________________________________________________\n",
            "dropout_13 (Dropout)         (None, 35, 50)            0         \n",
            "_________________________________________________________________\n",
            "lstm_4 (LSTM)                (None, 35, 64)            29440     \n",
            "_________________________________________________________________\n",
            "lstm_5 (LSTM)                (None, 64)                33024     \n",
            "_________________________________________________________________\n",
            "dense_22 (Dense)             (None, 11)                715       \n",
            "=================================================================\n",
            "Total params: 663,229\n",
            "Trainable params: 63,179\n",
            "Non-trainable params: 600,050\n",
            "_________________________________________________________________\n",
            "Train on 1608 samples, validate on 284 samples\n",
            "Epoch 1/30\n",
            "1608/1608 [==============================] - 51s 31ms/step - loss: 1.9759 - accuracy: 0.3458 - val_loss: 1.5667 - val_accuracy: 0.4894\n",
            "Epoch 2/30\n",
            "1608/1608 [==============================] - 50s 31ms/step - loss: 1.5553 - accuracy: 0.5019 - val_loss: 1.4297 - val_accuracy: 0.5352\n",
            "Epoch 3/30\n",
            "1608/1608 [==============================] - 49s 30ms/step - loss: 1.3830 - accuracy: 0.5659 - val_loss: 1.3979 - val_accuracy: 0.5563\n",
            "Epoch 4/30\n",
            "1608/1608 [==============================] - 49s 30ms/step - loss: 1.2557 - accuracy: 0.6051 - val_loss: 1.2643 - val_accuracy: 0.5915\n",
            "Epoch 5/30\n",
            "1608/1608 [==============================] - 50s 31ms/step - loss: 1.1591 - accuracy: 0.6325 - val_loss: 1.2112 - val_accuracy: 0.6408\n",
            "Epoch 6/30\n",
            "1608/1608 [==============================] - 49s 31ms/step - loss: 1.0742 - accuracy: 0.6573 - val_loss: 1.1577 - val_accuracy: 0.6268\n",
            "Epoch 7/30\n",
            "1608/1608 [==============================] - 49s 31ms/step - loss: 1.0147 - accuracy: 0.6791 - val_loss: 1.0945 - val_accuracy: 0.6620\n",
            "Epoch 8/30\n",
            "1608/1608 [==============================] - 49s 30ms/step - loss: 0.9507 - accuracy: 0.6922 - val_loss: 1.1762 - val_accuracy: 0.6444\n",
            "Epoch 9/30\n",
            "1608/1608 [==============================] - 49s 31ms/step - loss: 0.9108 - accuracy: 0.7021 - val_loss: 1.1510 - val_accuracy: 0.6373\n",
            "Epoch 10/30\n",
            "1608/1608 [==============================] - 49s 31ms/step - loss: 0.8640 - accuracy: 0.7177 - val_loss: 1.0530 - val_accuracy: 0.6761\n",
            "Epoch 11/30\n",
            "1608/1608 [==============================] - 50s 31ms/step - loss: 0.7920 - accuracy: 0.7400 - val_loss: 1.0575 - val_accuracy: 0.6796\n",
            "Epoch 12/30\n",
            "1608/1608 [==============================] - 49s 31ms/step - loss: 0.7568 - accuracy: 0.7581 - val_loss: 1.0467 - val_accuracy: 0.6831\n",
            "Epoch 13/30\n",
            "1608/1608 [==============================] - 49s 31ms/step - loss: 0.7676 - accuracy: 0.7488 - val_loss: 1.1153 - val_accuracy: 0.6972\n",
            "Epoch 14/30\n",
            "1608/1608 [==============================] - 50s 31ms/step - loss: 0.7161 - accuracy: 0.7612 - val_loss: 1.1419 - val_accuracy: 0.6972\n",
            "Epoch 15/30\n",
            "1608/1608 [==============================] - 49s 31ms/step - loss: 0.6751 - accuracy: 0.7836 - val_loss: 1.0374 - val_accuracy: 0.6866\n",
            "Epoch 16/30\n",
            "1608/1608 [==============================] - 49s 30ms/step - loss: 0.6604 - accuracy: 0.7904 - val_loss: 1.0398 - val_accuracy: 0.7077\n",
            "Epoch 17/30\n",
            "1608/1608 [==============================] - 49s 31ms/step - loss: 0.6286 - accuracy: 0.7929 - val_loss: 1.0707 - val_accuracy: 0.7042\n",
            "Epoch 18/30\n",
            "1608/1608 [==============================] - 49s 30ms/step - loss: 0.5852 - accuracy: 0.8103 - val_loss: 1.0879 - val_accuracy: 0.7148\n",
            "Epoch 19/30\n",
            "1608/1608 [==============================] - 49s 30ms/step - loss: 0.5754 - accuracy: 0.8141 - val_loss: 1.1118 - val_accuracy: 0.6831\n",
            "Epoch 20/30\n",
            "1608/1608 [==============================] - 49s 30ms/step - loss: 0.5854 - accuracy: 0.8085 - val_loss: 1.1074 - val_accuracy: 0.6831\n",
            "Epoch 21/30\n",
            "1608/1608 [==============================] - 48s 30ms/step - loss: 0.5230 - accuracy: 0.8277 - val_loss: 1.0768 - val_accuracy: 0.7148\n",
            "Epoch 22/30\n",
            "1608/1608 [==============================] - 48s 30ms/step - loss: 0.5018 - accuracy: 0.8259 - val_loss: 1.1405 - val_accuracy: 0.6937\n",
            "Epoch 23/30\n",
            "1608/1608 [==============================] - 48s 30ms/step - loss: 0.4676 - accuracy: 0.8396 - val_loss: 1.0970 - val_accuracy: 0.7254\n",
            "Epoch 24/30\n",
            "1608/1608 [==============================] - 49s 30ms/step - loss: 0.4783 - accuracy: 0.8420 - val_loss: 1.1467 - val_accuracy: 0.6937\n",
            "Epoch 25/30\n",
            "1608/1608 [==============================] - 49s 30ms/step - loss: 0.4628 - accuracy: 0.8451 - val_loss: 1.2043 - val_accuracy: 0.7007\n",
            "Epoch 26/30\n",
            "1608/1608 [==============================] - 49s 30ms/step - loss: 0.4545 - accuracy: 0.8520 - val_loss: 1.2114 - val_accuracy: 0.6690\n",
            "Epoch 27/30\n",
            "1608/1608 [==============================] - 49s 30ms/step - loss: 0.4656 - accuracy: 0.8377 - val_loss: 1.1975 - val_accuracy: 0.7042\n",
            "Epoch 28/30\n",
            "1608/1608 [==============================] - 49s 30ms/step - loss: 0.3986 - accuracy: 0.8669 - val_loss: 1.2251 - val_accuracy: 0.7007\n",
            "Epoch 29/30\n",
            "1608/1608 [==============================] - 49s 30ms/step - loss: 0.3824 - accuracy: 0.8731 - val_loss: 1.1684 - val_accuracy: 0.6972\n",
            "Epoch 30/30\n",
            "1608/1608 [==============================] - 49s 30ms/step - loss: 0.3629 - accuracy: 0.8800 - val_loss: 1.1705 - val_accuracy: 0.6866\n"
          ],
          "name": "stdout"
        }
      ]
    },
    {
      "cell_type": "code",
      "metadata": {
        "id": "S1DcLp-UI4Cw",
        "colab_type": "code",
        "outputId": "ef5c7bde-07d7-4fde-b248-98c3977a6648",
        "colab": {
          "base_uri": "https://localhost:8080/",
          "height": 215
        }
      },
      "source": [
        "predicted = model_lstm_stacked.predict(padded_test)\n",
        "predicted_labels = np.argmax(predicted,axis = 1)\n",
        "acc = np.sum(predicted_labels == y_test)/len(y_test)\n",
        "print(acc)"
      ],
      "execution_count": 1,
      "outputs": [
        {
          "output_type": "error",
          "ename": "NameError",
          "evalue": "ignored",
          "traceback": [
            "\u001b[0;31m---------------------------------------------------------------------------\u001b[0m",
            "\u001b[0;31mNameError\u001b[0m                                 Traceback (most recent call last)",
            "\u001b[0;32m<ipython-input-1-5757daf534c1>\u001b[0m in \u001b[0;36m<module>\u001b[0;34m()\u001b[0m\n\u001b[0;32m----> 1\u001b[0;31m \u001b[0mpredicted\u001b[0m \u001b[0;34m=\u001b[0m \u001b[0mmodel_lstm_stacked\u001b[0m\u001b[0;34m.\u001b[0m\u001b[0mpredict\u001b[0m\u001b[0;34m(\u001b[0m\u001b[0mpadded_test\u001b[0m\u001b[0;34m)\u001b[0m\u001b[0;34m\u001b[0m\u001b[0;34m\u001b[0m\u001b[0m\n\u001b[0m\u001b[1;32m      2\u001b[0m \u001b[0mpredicted_labels\u001b[0m \u001b[0;34m=\u001b[0m \u001b[0mnp\u001b[0m\u001b[0;34m.\u001b[0m\u001b[0margmax\u001b[0m\u001b[0;34m(\u001b[0m\u001b[0mpredicted\u001b[0m\u001b[0;34m,\u001b[0m\u001b[0maxis\u001b[0m \u001b[0;34m=\u001b[0m \u001b[0;36m1\u001b[0m\u001b[0;34m)\u001b[0m\u001b[0;34m\u001b[0m\u001b[0;34m\u001b[0m\u001b[0m\n\u001b[1;32m      3\u001b[0m \u001b[0macc\u001b[0m \u001b[0;34m=\u001b[0m \u001b[0mnp\u001b[0m\u001b[0;34m.\u001b[0m\u001b[0msum\u001b[0m\u001b[0;34m(\u001b[0m\u001b[0mpredicted_labels\u001b[0m \u001b[0;34m==\u001b[0m \u001b[0my_test\u001b[0m\u001b[0;34m)\u001b[0m\u001b[0;34m/\u001b[0m\u001b[0mlen\u001b[0m\u001b[0;34m(\u001b[0m\u001b[0my_test\u001b[0m\u001b[0;34m)\u001b[0m\u001b[0;34m\u001b[0m\u001b[0;34m\u001b[0m\u001b[0m\n\u001b[1;32m      4\u001b[0m \u001b[0mprint\u001b[0m\u001b[0;34m(\u001b[0m\u001b[0macc\u001b[0m\u001b[0;34m)\u001b[0m\u001b[0;34m\u001b[0m\u001b[0;34m\u001b[0m\u001b[0m\n",
            "\u001b[0;31mNameError\u001b[0m: name 'model_lstm_stacked' is not defined"
          ]
        }
      ]
    },
    {
      "cell_type": "markdown",
      "metadata": {
        "id": "e3tNweWKJUlf",
        "colab_type": "text"
      },
      "source": [
        "# ***4. Bidirectional LSTM***"
      ]
    },
    {
      "cell_type": "code",
      "metadata": {
        "id": "4uyEkClHJT0b",
        "colab_type": "code",
        "colab": {}
      },
      "source": [
        "(padded_train, y_train, padded_test, y_test, embeddings_matrix) = create_data_for_model(vocab_size = 12000, max_len = 35)"
      ],
      "execution_count": 0,
      "outputs": []
    },
    {
      "cell_type": "code",
      "metadata": {
        "id": "d5u0P2GnJTyu",
        "colab_type": "code",
        "colab": {}
      },
      "source": [
        "def model_bilstm(max_len,vocab_size):\n",
        "  inp1 = Input((max_len,))\n",
        "  embedding_layer = Embedding(input_dim=vocab_size + 1,output_dim= 50,mask_zero=True,weights = [embeddings_matrix],trainable = False)(inp1)\n",
        "  drop_out1 = Dropout(0.3)(embedding_layer)\n",
        "  lstm_layer1 = Bidirectional(LSTM(64,return_sequences = False))(drop_out1)\n",
        "\n",
        "\n",
        "  #drop_out = Dropout(0.3)(lstm_layer1)\n",
        "  out1 = Dense(11,activation='softmax')(lstm_layer1)\n",
        "\n",
        "  model_bi_lstm = Model(inputs = inp1,outputs = out1)\n",
        "  model_bi_lstm.compile(loss = 'categorical_crossentropy',optimizer='adam',metrics=['accuracy'])\n",
        "  model_bi_lstm.summary()\n",
        "  return model_bi_lstm"
      ],
      "execution_count": 0,
      "outputs": []
    },
    {
      "cell_type": "code",
      "metadata": {
        "id": "p547SbAn8r64",
        "colab_type": "code",
        "colab": {
          "base_uri": "https://localhost:8080/",
          "height": 1000
        },
        "outputId": "6380c030-feac-456b-ce7a-a10ed3338ceb"
      },
      "source": [
        "model_bi_lstm = model_bilstm(35,12000)\n",
        "hist = model_bi_lstm.fit(padded_train,y_train,epochs = 30, batch_size=8,validation_split = 0.15)"
      ],
      "execution_count": 14,
      "outputs": [
        {
          "output_type": "stream",
          "text": [
            "Model: \"model_1\"\n",
            "_________________________________________________________________\n",
            "Layer (type)                 Output Shape              Param #   \n",
            "=================================================================\n",
            "input_1 (InputLayer)         (None, 35)                0         \n",
            "_________________________________________________________________\n",
            "embedding_1 (Embedding)      (None, 35, 50)            600050    \n",
            "_________________________________________________________________\n",
            "dropout_1 (Dropout)          (None, 35, 50)            0         \n",
            "_________________________________________________________________\n",
            "bidirectional_1 (Bidirection (None, 128)               58880     \n",
            "_________________________________________________________________\n",
            "dense_1 (Dense)              (None, 11)                1419      \n",
            "=================================================================\n",
            "Total params: 660,349\n",
            "Trainable params: 60,299\n",
            "Non-trainable params: 600,050\n",
            "_________________________________________________________________\n",
            "Train on 1608 samples, validate on 284 samples\n",
            "Epoch 1/30\n",
            "1608/1608 [==============================] - 51s 32ms/step - loss: 1.8967 - accuracy: 0.3787 - val_loss: 1.3738 - val_accuracy: 0.5915\n",
            "Epoch 2/30\n",
            "1608/1608 [==============================] - 51s 32ms/step - loss: 1.3351 - accuracy: 0.5914 - val_loss: 1.1584 - val_accuracy: 0.6408\n",
            "Epoch 3/30\n",
            "1608/1608 [==============================] - 51s 32ms/step - loss: 1.1250 - accuracy: 0.6374 - val_loss: 1.0693 - val_accuracy: 0.6549\n",
            "Epoch 4/30\n",
            "1608/1608 [==============================] - 51s 32ms/step - loss: 0.9980 - accuracy: 0.6922 - val_loss: 1.0819 - val_accuracy: 0.6479\n",
            "Epoch 5/30\n",
            "1608/1608 [==============================] - 50s 31ms/step - loss: 0.8849 - accuracy: 0.7102 - val_loss: 1.0028 - val_accuracy: 0.6901\n",
            "Epoch 6/30\n",
            "1608/1608 [==============================] - 51s 31ms/step - loss: 0.8132 - accuracy: 0.7394 - val_loss: 0.9888 - val_accuracy: 0.6937\n",
            "Epoch 7/30\n",
            "1608/1608 [==============================] - 51s 32ms/step - loss: 0.7449 - accuracy: 0.7575 - val_loss: 0.9614 - val_accuracy: 0.7042\n",
            "Epoch 8/30\n",
            "1608/1608 [==============================] - 50s 31ms/step - loss: 0.6585 - accuracy: 0.7836 - val_loss: 1.0137 - val_accuracy: 0.6761\n",
            "Epoch 9/30\n",
            "1608/1608 [==============================] - 51s 32ms/step - loss: 0.6178 - accuracy: 0.7966 - val_loss: 1.0104 - val_accuracy: 0.7042\n",
            "Epoch 10/30\n",
            "1608/1608 [==============================] - 51s 32ms/step - loss: 0.5578 - accuracy: 0.8159 - val_loss: 1.0835 - val_accuracy: 0.6866\n",
            "Epoch 11/30\n",
            "1608/1608 [==============================] - 51s 32ms/step - loss: 0.5419 - accuracy: 0.8296 - val_loss: 1.0539 - val_accuracy: 0.6796\n",
            "Epoch 12/30\n",
            "1608/1608 [==============================] - 51s 31ms/step - loss: 0.4552 - accuracy: 0.8476 - val_loss: 1.0988 - val_accuracy: 0.6761\n",
            "Epoch 13/30\n",
            "1608/1608 [==============================] - 51s 31ms/step - loss: 0.4177 - accuracy: 0.8582 - val_loss: 1.0572 - val_accuracy: 0.7007\n",
            "Epoch 14/30\n",
            "1608/1608 [==============================] - 51s 31ms/step - loss: 0.3922 - accuracy: 0.8663 - val_loss: 1.0662 - val_accuracy: 0.7007\n",
            "Epoch 15/30\n",
            "1608/1608 [==============================] - 51s 31ms/step - loss: 0.3659 - accuracy: 0.8831 - val_loss: 1.0821 - val_accuracy: 0.6972\n",
            "Epoch 16/30\n",
            "1608/1608 [==============================] - 51s 32ms/step - loss: 0.3405 - accuracy: 0.8874 - val_loss: 1.1462 - val_accuracy: 0.6866\n",
            "Epoch 17/30\n",
            "1608/1608 [==============================] - 51s 32ms/step - loss: 0.3106 - accuracy: 0.9049 - val_loss: 1.1363 - val_accuracy: 0.6725\n",
            "Epoch 18/30\n",
            "1608/1608 [==============================] - 50s 31ms/step - loss: 0.2653 - accuracy: 0.9192 - val_loss: 1.0837 - val_accuracy: 0.6901\n",
            "Epoch 19/30\n",
            "1608/1608 [==============================] - 50s 31ms/step - loss: 0.2688 - accuracy: 0.9192 - val_loss: 1.2125 - val_accuracy: 0.6549\n",
            "Epoch 20/30\n",
            "1608/1608 [==============================] - 50s 31ms/step - loss: 0.2601 - accuracy: 0.9142 - val_loss: 1.2019 - val_accuracy: 0.6866\n",
            "Epoch 21/30\n",
            "1608/1608 [==============================] - 50s 31ms/step - loss: 0.2260 - accuracy: 0.9310 - val_loss: 1.2253 - val_accuracy: 0.6866\n",
            "Epoch 22/30\n",
            "1608/1608 [==============================] - 50s 31ms/step - loss: 0.2025 - accuracy: 0.9490 - val_loss: 1.2971 - val_accuracy: 0.6761\n",
            "Epoch 23/30\n",
            "1608/1608 [==============================] - 51s 32ms/step - loss: 0.2060 - accuracy: 0.9347 - val_loss: 1.1921 - val_accuracy: 0.6901\n",
            "Epoch 24/30\n",
            "1608/1608 [==============================] - 50s 31ms/step - loss: 0.2147 - accuracy: 0.9366 - val_loss: 1.1764 - val_accuracy: 0.6972\n",
            "Epoch 25/30\n",
            "1608/1608 [==============================] - 50s 31ms/step - loss: 0.1719 - accuracy: 0.9521 - val_loss: 1.2514 - val_accuracy: 0.7077\n",
            "Epoch 26/30\n",
            "1608/1608 [==============================] - 50s 31ms/step - loss: 0.1834 - accuracy: 0.9415 - val_loss: 1.2547 - val_accuracy: 0.6937\n",
            "Epoch 27/30\n",
            "1608/1608 [==============================] - 49s 31ms/step - loss: 0.1806 - accuracy: 0.9366 - val_loss: 1.2827 - val_accuracy: 0.6761\n",
            "Epoch 28/30\n",
            "1608/1608 [==============================] - 50s 31ms/step - loss: 0.1569 - accuracy: 0.9502 - val_loss: 1.2936 - val_accuracy: 0.7042\n",
            "Epoch 29/30\n",
            "1608/1608 [==============================] - 50s 31ms/step - loss: 0.1662 - accuracy: 0.9465 - val_loss: 1.2915 - val_accuracy: 0.6972\n",
            "Epoch 30/30\n",
            "1608/1608 [==============================] - 50s 31ms/step - loss: 0.1498 - accuracy: 0.9571 - val_loss: 1.3270 - val_accuracy: 0.6831\n"
          ],
          "name": "stdout"
        }
      ]
    },
    {
      "cell_type": "code",
      "metadata": {
        "id": "7FVC83cg9VS1",
        "colab_type": "code",
        "colab": {
          "base_uri": "https://localhost:8080/",
          "height": 34
        },
        "outputId": "b1877ecb-4b78-442f-8d00-b74ecc8e21d8"
      },
      "source": [
        "predicted = model_bi_lstm.predict(padded_test)\n",
        "predicted_labels = np.argmax(predicted,axis = 1)\n",
        "acc = np.sum(predicted_labels == y_test)/len(y_test)\n",
        "print(acc)"
      ],
      "execution_count": 16,
      "outputs": [
        {
          "output_type": "stream",
          "text": [
            "0.7044776119402985\n"
          ],
          "name": "stdout"
        }
      ]
    },
    {
      "cell_type": "code",
      "metadata": {
        "id": "4QRNl0wXDnNQ",
        "colab_type": "code",
        "colab": {
          "base_uri": "https://localhost:8080/",
          "height": 282
        },
        "outputId": "20e3ec2e-69af-4f2a-9cad-b10694391e71"
      },
      "source": [
        "plt.plot(hist.history['accuracy'])\n",
        "plt.plot(hist.history['val_accuracy'])"
      ],
      "execution_count": 17,
      "outputs": [
        {
          "output_type": "execute_result",
          "data": {
            "text/plain": [
              "[<matplotlib.lines.Line2D at 0x7f2514ffcc88>]"
            ]
          },
          "metadata": {
            "tags": []
          },
          "execution_count": 17
        },
        {
          "output_type": "display_data",
          "data": {
            "image/png": "[encoded data removed]",
            "text/plain": [
              "<Figure size 432x288 with 1 Axes>"
            ]
          },
          "metadata": {
            "tags": [],
            "needs_background": "light"
          }
        }
      ]
    },
    {
      "cell_type": "markdown",
      "metadata": {
        "id": "pmM9BRmpEC8G",
        "colab_type": "text"
      },
      "source": [
        "# **5. Hybrid  - CNN + LSTM**"
      ]
    },
    {
      "cell_type": "code",
      "metadata": {
        "id": "w26tWGg6Dx1_",
        "colab_type": "code",
        "colab": {}
      },
      "source": [
        "(padded_train, y_train, padded_test, y_test, embeddings_matrix) = create_data_for_model(vocab_size = 12000, max_len = 35)"
      ],
      "execution_count": 0,
      "outputs": []
    },
    {
      "cell_type": "code",
      "metadata": {
        "id": "aB0oyH3YETkH",
        "colab_type": "code",
        "colab": {}
      },
      "source": [
        "def create_hybrid_model(max_len,vocab_size):\n",
        "\n",
        "  pooling_layers = []\n",
        "\n",
        "\n",
        "  inp1 = Input((max_len,))\n",
        "  embedding_layer = Embedding(input_dim=vocab_size + 1,output_dim= 50,mask_zero=False,weights = [embeddings_matrix],trainable = False)(inp1)\n",
        "  dp = Dropout(0.3)(embedding_layer)\n",
        "\n",
        "  x1 = Conv1D(filters=36,kernel_size=1,activation = 'relu')(dp)\n",
        "  pooling_layers.append(MaxPool1D(pool_size=max_len - 9,stride = 1)(x1))\n",
        "\n",
        "  x2 = Conv1D(filters=36,kernel_size=2,activation = 'relu')(dp)\n",
        "  pooling_layers.append(MaxPool1D(pool_size=max_len - 10,stride = 1)(x2))\n",
        "\n",
        "  x3 = Conv1D(filters=36,kernel_size=3,activation = 'relu')(dp)\n",
        "  pooling_layers.append(MaxPool1D(pool_size=max_len - 11,stride = 1)(x3))\n",
        "\n",
        "  z = Concatenate(axis = 2)(pooling_layers)\n",
        "  z = Reshape(((108,-1)))(z)\n",
        "\n",
        "  lstm_layer1 = (LSTM(100,return_sequences = False))(z)\n",
        "\n",
        "\n",
        "  #drop_out = Dropout(0.3)(lstm_layer1)\n",
        "  out1 = Dense(11,activation='softmax')(lstm_layer1)\n",
        "\n",
        "  hybrid_model = Model(inputs = inp1,outputs = out1)\n",
        "  hybrid_model.compile(loss = 'categorical_crossentropy',optimizer='adam',metrics=['accuracy'])\n",
        "  hybrid_model.summary()\n",
        "  return hybrid_model"
      ],
      "execution_count": 0,
      "outputs": []
    },
    {
      "cell_type": "code",
      "metadata": {
        "id": "8WGkqPgcHS00",
        "colab_type": "code",
        "colab": {
          "base_uri": "https://localhost:8080/",
          "height": 1000
        },
        "outputId": "932103bf-d703-4d02-ac52-c6e18658381d"
      },
      "source": [
        "hybrid_model = create_hybrid_model(35,12000)\n",
        "hist = hybrid_model.fit(padded_train,y_train,epochs = 35, batch_size=8,validation_split = 0.15)"
      ],
      "execution_count": 28,
      "outputs": [
        {
          "output_type": "stream",
          "text": [
            "/usr/local/lib/python3.6/dist-packages/ipykernel_launcher.py:11: UserWarning: Update your `MaxPooling1D` call to the Keras 2 API: `MaxPooling1D(pool_size=26, strides=1)`\n",
            "  # This is added back by InteractiveShellApp.init_path()\n",
            "/usr/local/lib/python3.6/dist-packages/ipykernel_launcher.py:14: UserWarning: Update your `MaxPooling1D` call to the Keras 2 API: `MaxPooling1D(pool_size=25, strides=1)`\n",
            "  \n",
            "/usr/local/lib/python3.6/dist-packages/ipykernel_launcher.py:17: UserWarning: Update your `MaxPooling1D` call to the Keras 2 API: `MaxPooling1D(pool_size=24, strides=1)`\n"
          ],
          "name": "stderr"
        },
        {
          "output_type": "stream",
          "text": [
            "Model: \"model_6\"\n",
            "__________________________________________________________________________________________________\n",
            "Layer (type)                    Output Shape         Param #     Connected to                     \n",
            "==================================================================================================\n",
            "input_9 (InputLayer)            (None, 35)           0                                            \n",
            "__________________________________________________________________________________________________\n",
            "embedding_8 (Embedding)         (None, 35, 50)       600050      input_9[0][0]                    \n",
            "__________________________________________________________________________________________________\n",
            "dropout_7 (Dropout)             (None, 35, 50)       0           embedding_8[0][0]                \n",
            "__________________________________________________________________________________________________\n",
            "conv1d_10 (Conv1D)              (None, 35, 36)       1836        dropout_7[0][0]                  \n",
            "__________________________________________________________________________________________________\n",
            "conv1d_11 (Conv1D)              (None, 34, 36)       3636        dropout_7[0][0]                  \n",
            "__________________________________________________________________________________________________\n",
            "conv1d_12 (Conv1D)              (None, 33, 36)       5436        dropout_7[0][0]                  \n",
            "__________________________________________________________________________________________________\n",
            "max_pooling1d_9 (MaxPooling1D)  (None, 10, 36)       0           conv1d_10[0][0]                  \n",
            "__________________________________________________________________________________________________\n",
            "max_pooling1d_10 (MaxPooling1D) (None, 10, 36)       0           conv1d_11[0][0]                  \n",
            "__________________________________________________________________________________________________\n",
            "max_pooling1d_11 (MaxPooling1D) (None, 10, 36)       0           conv1d_12[0][0]                  \n",
            "__________________________________________________________________________________________________\n",
            "concatenate_3 (Concatenate)     (None, 10, 108)      0           max_pooling1d_9[0][0]            \n",
            "                                                                 max_pooling1d_10[0][0]           \n",
            "                                                                 max_pooling1d_11[0][0]           \n",
            "__________________________________________________________________________________________________\n",
            "reshape_2 (Reshape)             (None, 108, 10)      0           concatenate_3[0][0]              \n",
            "__________________________________________________________________________________________________\n",
            "lstm_6 (LSTM)                   (None, 100)          44400       reshape_2[0][0]                  \n",
            "__________________________________________________________________________________________________\n",
            "dense_6 (Dense)                 (None, 11)           1111        lstm_6[0][0]                     \n",
            "==================================================================================================\n",
            "Total params: 656,469\n",
            "Trainable params: 56,419\n",
            "Non-trainable params: 600,050\n",
            "__________________________________________________________________________________________________\n",
            "Train on 1608 samples, validate on 284 samples\n",
            "Epoch 1/35\n",
            "1608/1608 [==============================] - 59s 37ms/step - loss: 2.3279 - accuracy: 0.1362 - val_loss: 2.1403 - val_accuracy: 0.2711\n",
            "Epoch 2/35\n",
            "1608/1608 [==============================] - 57s 35ms/step - loss: 2.0394 - accuracy: 0.2935 - val_loss: 1.7589 - val_accuracy: 0.3697\n",
            "Epoch 3/35\n",
            "1608/1608 [==============================] - 57s 35ms/step - loss: 1.7939 - accuracy: 0.3818 - val_loss: 1.6135 - val_accuracy: 0.4613\n",
            "Epoch 4/35\n",
            "1608/1608 [==============================] - 57s 35ms/step - loss: 1.5913 - accuracy: 0.4782 - val_loss: 1.4447 - val_accuracy: 0.5352\n",
            "Epoch 5/35\n",
            "1608/1608 [==============================] - 57s 35ms/step - loss: 1.4711 - accuracy: 0.5093 - val_loss: 1.4824 - val_accuracy: 0.4859\n",
            "Epoch 6/35\n",
            "1608/1608 [==============================] - 58s 36ms/step - loss: 1.4250 - accuracy: 0.5274 - val_loss: 1.4260 - val_accuracy: 0.5176\n",
            "Epoch 7/35\n",
            "1608/1608 [==============================] - 57s 35ms/step - loss: 1.3678 - accuracy: 0.5404 - val_loss: 1.3959 - val_accuracy: 0.5317\n",
            "Epoch 8/35\n",
            "1608/1608 [==============================] - 56s 35ms/step - loss: 1.3086 - accuracy: 0.5553 - val_loss: 1.3748 - val_accuracy: 0.5352\n",
            "Epoch 9/35\n",
            "1608/1608 [==============================] - 56s 35ms/step - loss: 1.2541 - accuracy: 0.5765 - val_loss: 1.3610 - val_accuracy: 0.5387\n",
            "Epoch 10/35\n",
            "1608/1608 [==============================] - 56s 35ms/step - loss: 1.2296 - accuracy: 0.5883 - val_loss: 1.3540 - val_accuracy: 0.5282\n",
            "Epoch 11/35\n",
            "1608/1608 [==============================] - 55s 34ms/step - loss: 1.1948 - accuracy: 0.6039 - val_loss: 1.3828 - val_accuracy: 0.5387\n",
            "Epoch 12/35\n",
            "1608/1608 [==============================] - 56s 35ms/step - loss: 1.1563 - accuracy: 0.6188 - val_loss: 1.3915 - val_accuracy: 0.5246\n",
            "Epoch 13/35\n",
            "1608/1608 [==============================] - 55s 34ms/step - loss: 1.1399 - accuracy: 0.6225 - val_loss: 1.4050 - val_accuracy: 0.5634\n",
            "Epoch 14/35\n",
            "1608/1608 [==============================] - 56s 35ms/step - loss: 1.0882 - accuracy: 0.6238 - val_loss: 1.3504 - val_accuracy: 0.5634\n",
            "Epoch 15/35\n",
            "1608/1608 [==============================] - 56s 35ms/step - loss: 1.0898 - accuracy: 0.6524 - val_loss: 1.3465 - val_accuracy: 0.5528\n",
            "Epoch 16/35\n",
            "1608/1608 [==============================] - 56s 35ms/step - loss: 1.0131 - accuracy: 0.6704 - val_loss: 1.6960 - val_accuracy: 0.5246\n",
            "Epoch 17/35\n",
            "1608/1608 [==============================] - 56s 35ms/step - loss: 1.1128 - accuracy: 0.6331 - val_loss: 1.3875 - val_accuracy: 0.5493\n",
            "Epoch 18/35\n",
            "1608/1608 [==============================] - 56s 35ms/step - loss: 0.9769 - accuracy: 0.6779 - val_loss: 1.3458 - val_accuracy: 0.5704\n",
            "Epoch 19/35\n",
            "1608/1608 [==============================] - 56s 35ms/step - loss: 0.9737 - accuracy: 0.6710 - val_loss: 1.3388 - val_accuracy: 0.5810\n",
            "Epoch 20/35\n",
            "1608/1608 [==============================] - 55s 34ms/step - loss: 1.0311 - accuracy: 0.6604 - val_loss: 1.4055 - val_accuracy: 0.5317\n",
            "Epoch 21/35\n",
            "1608/1608 [==============================] - 55s 35ms/step - loss: 0.9822 - accuracy: 0.6754 - val_loss: 1.3625 - val_accuracy: 0.5599\n",
            "Epoch 22/35\n",
            "1608/1608 [==============================] - 56s 35ms/step - loss: 0.9612 - accuracy: 0.6872 - val_loss: 1.4280 - val_accuracy: 0.5704\n",
            "Epoch 23/35\n",
            "1608/1608 [==============================] - 56s 35ms/step - loss: 0.9208 - accuracy: 0.7015 - val_loss: 1.3778 - val_accuracy: 0.5528\n",
            "Epoch 24/35\n",
            "1608/1608 [==============================] - 56s 35ms/step - loss: 0.8677 - accuracy: 0.7077 - val_loss: 1.4781 - val_accuracy: 0.5634\n",
            "Epoch 25/35\n",
            "1608/1608 [==============================] - 56s 35ms/step - loss: 1.0593 - accuracy: 0.6598 - val_loss: 1.4191 - val_accuracy: 0.5599\n",
            "Epoch 26/35\n",
            "1608/1608 [==============================] - 56s 35ms/step - loss: 0.9007 - accuracy: 0.7046 - val_loss: 1.4965 - val_accuracy: 0.5528\n",
            "Epoch 27/35\n",
            "1608/1608 [==============================] - 56s 35ms/step - loss: 0.8681 - accuracy: 0.6996 - val_loss: 1.5262 - val_accuracy: 0.5634\n",
            "Epoch 28/35\n",
            "1608/1608 [==============================] - 56s 35ms/step - loss: 0.8569 - accuracy: 0.7021 - val_loss: 1.4216 - val_accuracy: 0.5599\n",
            "Epoch 29/35\n",
            "1608/1608 [==============================] - 56s 35ms/step - loss: 0.8414 - accuracy: 0.7208 - val_loss: 1.4265 - val_accuracy: 0.5493\n",
            "Epoch 30/35\n",
            "1608/1608 [==============================] - 56s 35ms/step - loss: 0.8108 - accuracy: 0.7239 - val_loss: 1.4979 - val_accuracy: 0.5951\n",
            "Epoch 31/35\n",
            "1608/1608 [==============================] - 56s 35ms/step - loss: 0.8817 - accuracy: 0.7021 - val_loss: 1.5178 - val_accuracy: 0.5915\n",
            "Epoch 32/35\n",
            "1608/1608 [==============================] - 56s 35ms/step - loss: 0.7982 - accuracy: 0.7407 - val_loss: 1.5371 - val_accuracy: 0.5810\n",
            "Epoch 33/35\n",
            "1608/1608 [==============================] - 56s 35ms/step - loss: 0.7751 - accuracy: 0.7481 - val_loss: 1.3914 - val_accuracy: 0.6021\n",
            "Epoch 34/35\n",
            "1608/1608 [==============================] - 56s 35ms/step - loss: 0.7592 - accuracy: 0.7519 - val_loss: 1.5548 - val_accuracy: 0.5141\n",
            "Epoch 35/35\n",
            "1608/1608 [==============================] - 55s 35ms/step - loss: 0.7843 - accuracy: 0.7282 - val_loss: 1.4521 - val_accuracy: 0.5845\n"
          ],
          "name": "stdout"
        }
      ]
    },
    {
      "cell_type": "code",
      "metadata": {
        "id": "mANRef43O-DD",
        "colab_type": "code",
        "colab": {
          "base_uri": "https://localhost:8080/",
          "height": 34
        },
        "outputId": "34acddfc-8063-489f-8020-096d27e04d49"
      },
      "source": [
        "predicted = hybrid_model.predict(padded_test)\n",
        "predicted_labels = np.argmax(predicted,axis = 1)\n",
        "acc = np.sum(predicted_labels == y_test)/len(y_test)\n",
        "print(acc)"
      ],
      "execution_count": 29,
      "outputs": [
        {
          "output_type": "stream",
          "text": [
            "0.5671641791044776\n"
          ],
          "name": "stdout"
        }
      ]
    },
    {
      "cell_type": "code",
      "metadata": {
        "id": "bBsedBPllfL8",
        "colab_type": "code",
        "colab": {}
      },
      "source": [
        "def create_hybrid_model1(max_len,vocab_size):\n",
        "\n",
        "  pooling_layers = []\n",
        "\n",
        "\n",
        "  inp1 = Input((max_len,))\n",
        "  embedding_layer = Embedding(input_dim=vocab_size + 1,output_dim= 50,mask_zero=False,weights = [embeddings_matrix],trainable = False)(inp1)\n",
        "  dp = Dropout(0.3)(embedding_layer)\n",
        "\n",
        "  x1 = Conv1D(filters=36,kernel_size=5,activation = 'relu')(dp)\n",
        "  mp = MaxPool1D(pool_size=4,stride = 1)(x1)\n",
        "\n",
        "  #x2 = Conv1D(filters=36,kernel_size=2,activation = 'relu')(dp)\n",
        "  #pooling_layers.append(MaxPool1D(pool_size=max_len - 10,stride = 1)(x2))\n",
        "\n",
        "  #x3 = Conv1D(filters=36,kernel_size=3,activation = 'relu')(dp)\n",
        "  #pooling_layers.append(MaxPool1D(pool_size=max_len - 11,stride = 1)(x3))\n",
        "\n",
        "  #z = Concatenate(axis = 2)(pooling_layers)\n",
        "  #z = Reshape(((108,-1)))(z)\n",
        "\n",
        "  lstm_layer1 = (LSTM(100,return_sequences = False))(mp)\n",
        "\n",
        "\n",
        "  #drop_out = Dropout(0.3)(lstm_layer1)\n",
        "  out1 = Dense(11,activation='softmax')(lstm_layer1)\n",
        "\n",
        "  hybrid_model = Model(inputs = inp1,outputs = out1)\n",
        "  hybrid_model.compile(loss = 'categorical_crossentropy',optimizer='adam',metrics=['accuracy'])\n",
        "  hybrid_model.summary()\n",
        "  return hybrid_model"
      ],
      "execution_count": 0,
      "outputs": []
    },
    {
      "cell_type": "code",
      "metadata": {
        "id": "E5LlB9UgkWnu",
        "colab_type": "code",
        "colab": {
          "base_uri": "https://localhost:8080/",
          "height": 1000
        },
        "outputId": "bdca1f75-a0a3-4da8-b8f7-ecddf2233a04"
      },
      "source": [
        "hybrid_model = create_hybrid_model1(35,12000)\n",
        "hist = hybrid_model.fit(padded_train,y_train,epochs = 35, batch_size=8,validation_split = 0.15)"
      ],
      "execution_count": 31,
      "outputs": [
        {
          "output_type": "stream",
          "text": [
            "/usr/local/lib/python3.6/dist-packages/ipykernel_launcher.py:11: UserWarning: Update your `MaxPooling1D` call to the Keras 2 API: `MaxPooling1D(pool_size=4, strides=1)`\n",
            "  # This is added back by InteractiveShellApp.init_path()\n"
          ],
          "name": "stderr"
        },
        {
          "output_type": "stream",
          "text": [
            "Model: \"model_7\"\n",
            "_________________________________________________________________\n",
            "Layer (type)                 Output Shape              Param #   \n",
            "=================================================================\n",
            "input_10 (InputLayer)        (None, 35)                0         \n",
            "_________________________________________________________________\n",
            "embedding_9 (Embedding)      (None, 35, 50)            600050    \n",
            "_________________________________________________________________\n",
            "dropout_8 (Dropout)          (None, 35, 50)            0         \n",
            "_________________________________________________________________\n",
            "conv1d_13 (Conv1D)           (None, 31, 36)            9036      \n",
            "_________________________________________________________________\n",
            "max_pooling1d_12 (MaxPooling (None, 28, 36)            0         \n",
            "_________________________________________________________________\n",
            "lstm_7 (LSTM)                (None, 100)               54800     \n",
            "_________________________________________________________________\n",
            "dense_7 (Dense)              (None, 11)                1111      \n",
            "=================================================================\n",
            "Total params: 664,997\n",
            "Trainable params: 64,947\n",
            "Non-trainable params: 600,050\n",
            "_________________________________________________________________\n",
            "Train on 1608 samples, validate on 284 samples\n",
            "Epoch 1/35\n",
            "1608/1608 [==============================] - 17s 11ms/step - loss: 2.2472 - accuracy: 0.1959 - val_loss: 2.0529 - val_accuracy: 0.2852\n",
            "Epoch 2/35\n",
            "1608/1608 [==============================] - 16s 10ms/step - loss: 1.9604 - accuracy: 0.3228 - val_loss: 1.6864 - val_accuracy: 0.4120\n",
            "Epoch 3/35\n",
            "1608/1608 [==============================] - 16s 10ms/step - loss: 1.7123 - accuracy: 0.4291 - val_loss: 1.6995 - val_accuracy: 0.4261\n",
            "Epoch 4/35\n",
            "1608/1608 [==============================] - 16s 10ms/step - loss: 1.5614 - accuracy: 0.4776 - val_loss: 1.5437 - val_accuracy: 0.4894\n",
            "Epoch 5/35\n",
            "1608/1608 [==============================] - 17s 10ms/step - loss: 1.4375 - accuracy: 0.5087 - val_loss: 1.5021 - val_accuracy: 0.4965\n",
            "Epoch 6/35\n",
            "1608/1608 [==============================] - 17s 11ms/step - loss: 1.3333 - accuracy: 0.5547 - val_loss: 1.3180 - val_accuracy: 0.5845\n",
            "Epoch 7/35\n",
            "1608/1608 [==============================] - 17s 10ms/step - loss: 1.2712 - accuracy: 0.5871 - val_loss: 1.2690 - val_accuracy: 0.5563\n",
            "Epoch 8/35\n",
            "1608/1608 [==============================] - 16s 10ms/step - loss: 1.1582 - accuracy: 0.6262 - val_loss: 1.3081 - val_accuracy: 0.5775\n",
            "Epoch 9/35\n",
            "1608/1608 [==============================] - 17s 10ms/step - loss: 1.0831 - accuracy: 0.6530 - val_loss: 1.2648 - val_accuracy: 0.5845\n",
            "Epoch 10/35\n",
            "1608/1608 [==============================] - 16s 10ms/step - loss: 1.0032 - accuracy: 0.6660 - val_loss: 1.1815 - val_accuracy: 0.6092\n",
            "Epoch 11/35\n",
            "1608/1608 [==============================] - 17s 10ms/step - loss: 0.9387 - accuracy: 0.6965 - val_loss: 1.1154 - val_accuracy: 0.6479\n",
            "Epoch 12/35\n",
            "1608/1608 [==============================] - 16s 10ms/step - loss: 0.8509 - accuracy: 0.7146 - val_loss: 1.2777 - val_accuracy: 0.6162\n",
            "Epoch 13/35\n",
            "1608/1608 [==============================] - 16s 10ms/step - loss: 0.8410 - accuracy: 0.7257 - val_loss: 1.1228 - val_accuracy: 0.6444\n",
            "Epoch 14/35\n",
            "1608/1608 [==============================] - 16s 10ms/step - loss: 0.7650 - accuracy: 0.7444 - val_loss: 1.0838 - val_accuracy: 0.6620\n",
            "Epoch 15/35\n",
            "1608/1608 [==============================] - 16s 10ms/step - loss: 0.7480 - accuracy: 0.7500 - val_loss: 1.2040 - val_accuracy: 0.6162\n",
            "Epoch 16/35\n",
            "1608/1608 [==============================] - 16s 10ms/step - loss: 0.6997 - accuracy: 0.7668 - val_loss: 1.1898 - val_accuracy: 0.6408\n",
            "Epoch 17/35\n",
            "1608/1608 [==============================] - 16s 10ms/step - loss: 0.6428 - accuracy: 0.7886 - val_loss: 1.1880 - val_accuracy: 0.6338\n",
            "Epoch 18/35\n",
            "1608/1608 [==============================] - 16s 10ms/step - loss: 0.6215 - accuracy: 0.7836 - val_loss: 1.1777 - val_accuracy: 0.6303\n",
            "Epoch 19/35\n",
            "1608/1608 [==============================] - 16s 10ms/step - loss: 0.5896 - accuracy: 0.8035 - val_loss: 1.2112 - val_accuracy: 0.6373\n",
            "Epoch 20/35\n",
            "1608/1608 [==============================] - 16s 10ms/step - loss: 0.5674 - accuracy: 0.8122 - val_loss: 1.1810 - val_accuracy: 0.6232\n",
            "Epoch 21/35\n",
            "1608/1608 [==============================] - 16s 10ms/step - loss: 0.5389 - accuracy: 0.8252 - val_loss: 1.1382 - val_accuracy: 0.6690\n",
            "Epoch 22/35\n",
            "1608/1608 [==============================] - 16s 10ms/step - loss: 0.5067 - accuracy: 0.8340 - val_loss: 1.2111 - val_accuracy: 0.6549\n",
            "Epoch 23/35\n",
            "1608/1608 [==============================] - 16s 10ms/step - loss: 0.4628 - accuracy: 0.8464 - val_loss: 1.1630 - val_accuracy: 0.6549\n",
            "Epoch 24/35\n",
            "1608/1608 [==============================] - 16s 10ms/step - loss: 0.4346 - accuracy: 0.8551 - val_loss: 1.2721 - val_accuracy: 0.6549\n",
            "Epoch 25/35\n",
            "1608/1608 [==============================] - 16s 10ms/step - loss: 0.4293 - accuracy: 0.8563 - val_loss: 1.3361 - val_accuracy: 0.6479\n",
            "Epoch 26/35\n",
            "1608/1608 [==============================] - 16s 10ms/step - loss: 0.4408 - accuracy: 0.8520 - val_loss: 1.2595 - val_accuracy: 0.6479\n",
            "Epoch 27/35\n",
            "1608/1608 [==============================] - 16s 10ms/step - loss: 0.3946 - accuracy: 0.8626 - val_loss: 1.2421 - val_accuracy: 0.6479\n",
            "Epoch 28/35\n",
            "1608/1608 [==============================] - 16s 10ms/step - loss: 0.4045 - accuracy: 0.8613 - val_loss: 1.2257 - val_accuracy: 0.6725\n",
            "Epoch 29/35\n",
            "1608/1608 [==============================] - 17s 10ms/step - loss: 0.3430 - accuracy: 0.8818 - val_loss: 1.3121 - val_accuracy: 0.6620\n",
            "Epoch 30/35\n",
            "1608/1608 [==============================] - 16s 10ms/step - loss: 0.3404 - accuracy: 0.8800 - val_loss: 1.3912 - val_accuracy: 0.6373\n",
            "Epoch 31/35\n",
            "1608/1608 [==============================] - 16s 10ms/step - loss: 0.3731 - accuracy: 0.8694 - val_loss: 1.2960 - val_accuracy: 0.6303\n",
            "Epoch 32/35\n",
            "1608/1608 [==============================] - 16s 10ms/step - loss: 0.3428 - accuracy: 0.8850 - val_loss: 1.4320 - val_accuracy: 0.6232\n",
            "Epoch 33/35\n",
            "1608/1608 [==============================] - 16s 10ms/step - loss: 0.2880 - accuracy: 0.9011 - val_loss: 1.3536 - val_accuracy: 0.6585\n",
            "Epoch 34/35\n",
            "1608/1608 [==============================] - 16s 10ms/step - loss: 0.3076 - accuracy: 0.8943 - val_loss: 1.4722 - val_accuracy: 0.6303\n",
            "Epoch 35/35\n",
            "1608/1608 [==============================] - 16s 10ms/step - loss: 0.2814 - accuracy: 0.9049 - val_loss: 1.4327 - val_accuracy: 0.6373\n"
          ],
          "name": "stdout"
        }
      ]
    },
    {
      "cell_type": "code",
      "metadata": {
        "id": "VYh2BWvNmojH",
        "colab_type": "code",
        "colab": {
          "base_uri": "https://localhost:8080/",
          "height": 34
        },
        "outputId": "1d45cbe7-b847-43cf-f848-af03d1de0426"
      },
      "source": [
        "predicted = hybrid_model.predict(padded_test)\n",
        "predicted_labels = np.argmax(predicted,axis = 1)\n",
        "acc = np.sum(predicted_labels == y_test)/len(y_test)\n",
        "print(acc)"
      ],
      "execution_count": 36,
      "outputs": [
        {
          "output_type": "stream",
          "text": [
            "0.6626865671641791\n"
          ],
          "name": "stdout"
        }
      ]
    },
    {
      "cell_type": "code",
      "metadata": {
        "id": "KDrG7gVEpC8y",
        "colab_type": "code",
        "colab": {
          "base_uri": "https://localhost:8080/",
          "height": 1000
        },
        "outputId": "85117c59-d90c-4ae3-c4ac-efbcb1a67632"
      },
      "source": [
        "hybrid_model.fit(padded_train,y_train,epochs = 35, batch_size=8,validation_split = 0.15)"
      ],
      "execution_count": 35,
      "outputs": [
        {
          "output_type": "stream",
          "text": [
            "Train on 1608 samples, validate on 284 samples\n",
            "Epoch 1/35\n",
            "1608/1608 [==============================] - 17s 10ms/step - loss: 0.1457 - accuracy: 0.9403 - val_loss: 1.7806 - val_accuracy: 0.6655\n",
            "Epoch 2/35\n",
            "1608/1608 [==============================] - 16s 10ms/step - loss: 0.1222 - accuracy: 0.9552 - val_loss: 1.6950 - val_accuracy: 0.6831\n",
            "Epoch 3/35\n",
            "1608/1608 [==============================] - 17s 10ms/step - loss: 0.1643 - accuracy: 0.9391 - val_loss: 1.7950 - val_accuracy: 0.6585\n",
            "Epoch 4/35\n",
            "1608/1608 [==============================] - 17s 10ms/step - loss: 0.1653 - accuracy: 0.9447 - val_loss: 1.6943 - val_accuracy: 0.6761\n",
            "Epoch 5/35\n",
            "1608/1608 [==============================] - 16s 10ms/step - loss: 0.1541 - accuracy: 0.9440 - val_loss: 1.6101 - val_accuracy: 0.6866\n",
            "Epoch 6/35\n",
            "1608/1608 [==============================] - 16s 10ms/step - loss: 0.1435 - accuracy: 0.9515 - val_loss: 1.6901 - val_accuracy: 0.6655\n",
            "Epoch 7/35\n",
            "1608/1608 [==============================] - 16s 10ms/step - loss: 0.1612 - accuracy: 0.9484 - val_loss: 1.6022 - val_accuracy: 0.6831\n",
            "Epoch 8/35\n",
            "1608/1608 [==============================] - 16s 10ms/step - loss: 0.1510 - accuracy: 0.9440 - val_loss: 1.7187 - val_accuracy: 0.6444\n",
            "Epoch 9/35\n",
            "1608/1608 [==============================] - 17s 10ms/step - loss: 0.1231 - accuracy: 0.9496 - val_loss: 1.7446 - val_accuracy: 0.6408\n",
            "Epoch 10/35\n",
            "1608/1608 [==============================] - 16s 10ms/step - loss: 0.1451 - accuracy: 0.9471 - val_loss: 1.8496 - val_accuracy: 0.6479\n",
            "Epoch 11/35\n",
            "1608/1608 [==============================] - 16s 10ms/step - loss: 0.1452 - accuracy: 0.9465 - val_loss: 1.7242 - val_accuracy: 0.6690\n",
            "Epoch 12/35\n",
            "1608/1608 [==============================] - 16s 10ms/step - loss: 0.1178 - accuracy: 0.9527 - val_loss: 1.7193 - val_accuracy: 0.6761\n",
            "Epoch 13/35\n",
            "1608/1608 [==============================] - 16s 10ms/step - loss: 0.1253 - accuracy: 0.9484 - val_loss: 1.8340 - val_accuracy: 0.6408\n",
            "Epoch 14/35\n",
            "1608/1608 [==============================] - 16s 10ms/step - loss: 0.1493 - accuracy: 0.9471 - val_loss: 1.8192 - val_accuracy: 0.6620\n",
            "Epoch 15/35\n",
            "1608/1608 [==============================] - 16s 10ms/step - loss: 0.1337 - accuracy: 0.9496 - val_loss: 1.8310 - val_accuracy: 0.6549\n",
            "Epoch 16/35\n",
            "1608/1608 [==============================] - 16s 10ms/step - loss: 0.1117 - accuracy: 0.9571 - val_loss: 1.6815 - val_accuracy: 0.6796\n",
            "Epoch 17/35\n",
            "1608/1608 [==============================] - 16s 10ms/step - loss: 0.1390 - accuracy: 0.9484 - val_loss: 1.7739 - val_accuracy: 0.6408\n",
            "Epoch 18/35\n",
            "1608/1608 [==============================] - 16s 10ms/step - loss: 0.1188 - accuracy: 0.9571 - val_loss: 1.7597 - val_accuracy: 0.6725\n",
            "Epoch 19/35\n",
            "1608/1608 [==============================] - 16s 10ms/step - loss: 0.1273 - accuracy: 0.9602 - val_loss: 1.7921 - val_accuracy: 0.6761\n",
            "Epoch 20/35\n",
            "1608/1608 [==============================] - 16s 10ms/step - loss: 0.1607 - accuracy: 0.9490 - val_loss: 1.7581 - val_accuracy: 0.6514\n",
            "Epoch 21/35\n",
            "1608/1608 [==============================] - 16s 10ms/step - loss: 0.1396 - accuracy: 0.9465 - val_loss: 1.7635 - val_accuracy: 0.6479\n",
            "Epoch 22/35\n",
            "1608/1608 [==============================] - 16s 10ms/step - loss: 0.1440 - accuracy: 0.9509 - val_loss: 1.7043 - val_accuracy: 0.6690\n",
            "Epoch 23/35\n",
            "1608/1608 [==============================] - 16s 10ms/step - loss: 0.1234 - accuracy: 0.9527 - val_loss: 1.7497 - val_accuracy: 0.6655\n",
            "Epoch 24/35\n",
            "1608/1608 [==============================] - 16s 10ms/step - loss: 0.1235 - accuracy: 0.9490 - val_loss: 1.7753 - val_accuracy: 0.6761\n",
            "Epoch 25/35\n",
            "1608/1608 [==============================] - 16s 10ms/step - loss: 0.1252 - accuracy: 0.9552 - val_loss: 1.8294 - val_accuracy: 0.6620\n",
            "Epoch 26/35\n",
            "1608/1608 [==============================] - 16s 10ms/step - loss: 0.1405 - accuracy: 0.9490 - val_loss: 1.7893 - val_accuracy: 0.6831\n",
            "Epoch 27/35\n",
            "1608/1608 [==============================] - 16s 10ms/step - loss: 0.1167 - accuracy: 0.9552 - val_loss: 1.9199 - val_accuracy: 0.6690\n",
            "Epoch 28/35\n",
            "1608/1608 [==============================] - 16s 10ms/step - loss: 0.1315 - accuracy: 0.9509 - val_loss: 1.7824 - val_accuracy: 0.6303\n",
            "Epoch 29/35\n",
            "1608/1608 [==============================] - 16s 10ms/step - loss: 0.1334 - accuracy: 0.9471 - val_loss: 1.8643 - val_accuracy: 0.6514\n",
            "Epoch 30/35\n",
            "1608/1608 [==============================] - 16s 10ms/step - loss: 0.1310 - accuracy: 0.9583 - val_loss: 1.9207 - val_accuracy: 0.6585\n",
            "Epoch 31/35\n",
            "1608/1608 [==============================] - 16s 10ms/step - loss: 0.1329 - accuracy: 0.9502 - val_loss: 1.8004 - val_accuracy: 0.6585\n",
            "Epoch 32/35\n",
            "1608/1608 [==============================] - 16s 10ms/step - loss: 0.1173 - accuracy: 0.9571 - val_loss: 1.7415 - val_accuracy: 0.6866\n",
            "Epoch 33/35\n",
            "1608/1608 [==============================] - 16s 10ms/step - loss: 0.1243 - accuracy: 0.9521 - val_loss: 1.7574 - val_accuracy: 0.6761\n",
            "Epoch 34/35\n",
            "1608/1608 [==============================] - 16s 10ms/step - loss: 0.0996 - accuracy: 0.9639 - val_loss: 1.7160 - val_accuracy: 0.6761\n",
            "Epoch 35/35\n",
            "1608/1608 [==============================] - 16s 10ms/step - loss: 0.1188 - accuracy: 0.9558 - val_loss: 1.8353 - val_accuracy: 0.6901\n"
          ],
          "name": "stdout"
        },
        {
          "output_type": "execute_result",
          "data": {
            "text/plain": [
              "<keras.callbacks.callbacks.History at 0x7f25130ab358>"
            ]
          },
          "metadata": {
            "tags": []
          },
          "execution_count": 35
        }
      ]
    },
    {
      "cell_type": "code",
      "metadata": {
        "id": "as8UWdBTpMEA",
        "colab_type": "code",
        "colab": {}
      },
      "source": [
        ""
      ],
      "execution_count": 0,
      "outputs": []
    }
  ]
}